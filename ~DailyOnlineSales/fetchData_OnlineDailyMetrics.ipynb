{
 "cells": [
  {
   "cell_type": "code",
   "execution_count": 1,
   "metadata": {},
   "outputs": [],
   "source": [
    "import pyodbc\n",
    "import numpy as np\n",
    "import pandas as pd"
   ]
  },
  {
   "cell_type": "code",
   "execution_count": 2,
   "metadata": {},
   "outputs": [],
   "source": [
    "sql_driver = 'DRIVER={ODBC Driver 13 for SQL Server};'\n",
    "sql_server = 'SERVER=sage;'\n",
    "sql_db = 'DATABASE=BUYS;'\n",
    "sql_UID = 'Trusted_Connection=yes;'\n",
    "\n",
    "cnxn = pyodbc.connect(sql_driver + sql_server + sql_db + sql_UID)\n",
    "\n",
    "def fetch_data(q, cnxn):\n",
    "    df = pd.read_sql(sql=q, con=cnxn)\n",
    "    return df\n",
    "\n",
    "def fetch_data_batches(q, cnxn, outputFilename, batchSize):\n",
    "    cursor = cnxn.cursor()\n",
    "    "
   ]
  },
  {
   "cell_type": "code",
   "execution_count": 3,
   "metadata": {},
   "outputs": [],
   "source": [
    "# query_UpdateFetchData = f'''\n",
    "# SET NOCOUNT ON\n",
    "# SET ANSI_WARNINGS OFF\n",
    "\n",
    "# EXEC Sandbox.dbo.RDA_POPULATE_OnlineDailyMetrics;\n",
    "\n",
    "# SELECT * FROM Sandbox.dbo.RDA_RU_OnlineDailyMetrics\n",
    "# '''\n",
    "\n",
    "query_FetchOrderData = f'''\n",
    "SET NOCOUNT ON\n",
    "SET ANSI_WARNINGS OFF\n",
    "\n",
    "EXEC Sandbox.dbo.RDA_ReportMetrics_iStoreOrders;\n",
    "'''\n",
    "\n",
    "\n",
    "query_FetchInventoryData = f'''\n",
    "SET NOCOUNT ON\n",
    "SET ANSI_WARNINGS OFF\n",
    "\n",
    "EXEC Sandbox.dbo.RDA_ReportMetrics_iStoreInventory;\n",
    "'''\n"
   ]
  },
  {
   "cell_type": "code",
   "execution_count": 4,
   "metadata": {},
   "outputs": [],
   "source": [
    "df_iStoreOrderMetrics  = fetch_data(query_FetchOrderData, cnxn)\n",
    "df_iStoreOrderMetrics.to_csv('./data/iStoreOrderMetrics.csv')"
   ]
  },
  {
   "cell_type": "code",
   "execution_count": 5,
   "metadata": {},
   "outputs": [],
   "source": [
    "df_iStoreInventoryMetrics  = fetch_data(query_FetchInventoryData, cnxn)\n",
    "df_iStoreInventoryMetrics.to_csv('./data/iStoreInventoryMetrics.csv')"
   ]
  },
  {
   "cell_type": "code",
   "execution_count": null,
   "metadata": {},
   "outputs": [],
   "source": []
  }
 ],
 "metadata": {
  "kernelspec": {
   "display_name": "Python 3",
   "language": "python",
   "name": "python3"
  },
  "language_info": {
   "codemirror_mode": {
    "name": "ipython",
    "version": 3
   },
   "file_extension": ".py",
   "mimetype": "text/x-python",
   "name": "python",
   "nbconvert_exporter": "python",
   "pygments_lexer": "ipython3",
   "version": "3.7.4"
  }
 },
 "nbformat": 4,
 "nbformat_minor": 2
}
