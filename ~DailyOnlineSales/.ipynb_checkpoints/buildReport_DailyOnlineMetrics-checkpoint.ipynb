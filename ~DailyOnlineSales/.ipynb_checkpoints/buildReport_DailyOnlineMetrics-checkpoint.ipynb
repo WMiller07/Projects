{
 "cells": [
  {
   "cell_type": "code",
   "execution_count": 1,
   "metadata": {},
   "outputs": [],
   "source": [
    "from datetime import datetime\n",
    "from dateutil.relativedelta import relativedelta\n",
    "#from datetime import timedelta\n",
    "import numpy as np\n",
    "import pandas as pd\n",
    "\n",
    "import matplotlib.pyplot as plt\n",
    "import matplotlib.dates as mdates\n",
    "import matplotlib.ticker as mtick\n",
    "import seaborn as sns\n",
    "\n",
    "\n",
    "import plotly\n",
    "import chart_studio.plotly as py\n",
    "import plotly.io as pio\n",
    "import plotly.graph_objs as go\n",
    "from plotly import tools\n",
    "from plotly import subplots\n",
    "from plotly.offline import download_plotlyjs, init_notebook_mode, iplot\n",
    "from plotly.subplots import make_subplots\n",
    "\n",
    "\n",
    "import json\n",
    "from flask import Flask, render_template\n",
    "\n",
    "import dash\n",
    "import dash_html_components as html"
   ]
  },
  {
   "cell_type": "code",
   "execution_count": 2,
   "metadata": {},
   "outputs": [],
   "source": [
    "pd.set_option('display.max_rows', 1000)\n",
    "pio.templates.default = \"plotly_dark\""
   ]
  },
  {
   "cell_type": "code",
   "execution_count": 3,
   "metadata": {},
   "outputs": [],
   "source": [
    "def loadData(fn):\n",
    "    df = pd.read_csv(fn, index_col=0)\n",
    "    return df\n",
    "\n",
    "def prepData(df_p):\n",
    "    df_p['Store_Date'] = pd.to_datetime(df_p['Store_Date'])\n",
    "    return df_p"
   ]
  },
  {
   "cell_type": "code",
   "execution_count": 4,
   "metadata": {},
   "outputs": [],
   "source": [
    "df = prepData(loadData('./data/OnlineDailyMetrics.csv'))"
   ]
  },
  {
   "cell_type": "code",
   "execution_count": 5,
   "metadata": {},
   "outputs": [],
   "source": [
    "def createRollingAvgDF(df_i, numRollingDays):\n",
    "#filt_iStore = df['InstanceType'] == 'iStore'\n",
    "    colsNRF = [c for c in df_i.columns if c[:3] == 'NRF']\n",
    "    calcColumns = ['CountTransactions', 'AmtSold', 'QtySold']\n",
    "    \n",
    "    strColSuffix = '_rollAvg' + str(numRollingDays) + 'Day'\n",
    "    \n",
    "    df_c = df_i.set_index('Store_Date', drop=True).groupby('InstanceName')[calcColumns].rolling(numRollingDays).mean().dropna()\n",
    "    df_c.reset_index(inplace=True)\n",
    "#     df_rolling = df_c.set_index(['Store_Date', 'InstanceName']).join(\n",
    "#         df_i.set_index(['Store_Date', 'InstanceName'])[colsNRF + ['InstanceType']]).reset_index()\n",
    "    df_rolling = df_i.set_index(['Store_Date', 'InstanceName']).join(\n",
    "        df_c.set_index(['Store_Date', 'InstanceName'])[calcColumns], rsuffix = strColSuffix )\n",
    "    df_rolling = df_rolling.dropna().reset_index()\n",
    "    return df_rolling\n",
    "\n",
    "def createPctCompDF(df_i, \n",
    "                 startNRFYear = datetime.now().year, \n",
    "                 compNRFYear = datetime.now().year - 1,\n",
    "                 startNRFDay = 1, \n",
    "                 compNRFDay = 1, \n",
    "                 maxNRFDay = 364,\n",
    "                 **kwargs):\n",
    "    colsNRF = [c for c in df_i.columns if c[:3] == 'NRF']\n",
    "    calcCols = [c for c in df_i.columns if c not in (colsNRF + ['Store_Date', 'InstanceName', 'InstanceType'])]\n",
    "    filtStartDates = (df_i['NRF_Year'] == startNRFYear) & (df_i['NRF_Day'] >= startNRFDay) & (df_i['NRF_Day'] <= maxNRFDay)\n",
    "    filtCompDates = (df_i['NRF_Year'] == compNRFYear) & (df_i['NRF_Day'] >= compNRFDay) & (df_i['NRF_Day'] <= maxNRFDay)\n",
    "    \n",
    "    df_numer = df_i[filtStartDates].set_index(['InstanceName', 'NRF_Day'])\n",
    "    df_denom = df_i[filtCompDates].set_index(['InstanceName', 'NRF_Day'])\n",
    "    df_comp = df_numer.join(df_numer[calcCols].divide(df_denom[calcCols]), rsuffix='_pctComp').reset_index()\n",
    "    return df_comp\n",
    "\n",
    "def createDiffCompDF(df_i, \n",
    "                 startNRFYear = datetime.now().year, \n",
    "                 compNRFYear = datetime.now().year - 1,\n",
    "                 startNRFDay = 1, \n",
    "                 compNRFDay = 1, \n",
    "                 maxNRFDay = 364,\n",
    "                 **kwargs):\n",
    "    colsNRF = [c for c in df_i.columns if c[:3] == 'NRF']\n",
    "    calcCols = [c for c in df_i.columns if c not in (colsNRF + ['Store_Date', 'InstanceName', 'InstanceType'])]\n",
    "    filtStartDates = (df_i['NRF_Year'] == startNRFYear) & (df_i['NRF_Day'] >= startNRFDay) & (df_i['NRF_Day'] <= maxNRFDay)\n",
    "    filtCompDates = (df_i['NRF_Year'] == compNRFYear) & (df_i['NRF_Day'] >= compNRFDay) & (df_i['NRF_Day'] <= maxNRFDay)\n",
    "    \n",
    "    df_numer = df_i[filtStartDates].set_index(['InstanceName', 'NRF_Day'])\n",
    "    df_denom = df_i[filtCompDates].set_index(['InstanceName', 'NRF_Day'])\n",
    "    df_comp = df_numer.join(df_numer[calcCols].subtract(df_denom[calcCols]), rsuffix='_diffComp').reset_index()\n",
    "    return df_comp\n",
    "\n",
    "def joinComps(df_left, df_right):\n",
    "    colsNRF_left = [c for c in df_left.columns if c[:3] == 'NRF']\n",
    "    calcCols_left = [c for c in df_left.columns if c not in (colsNRF_left + ['Store_Date', 'InstanceName', 'InstanceType'])]\n",
    "    colsNRF_right = [c for c in df_right.columns if c[:3] == 'NRF']\n",
    "    calcCols_right = [c for c in df_right.columns if c not in \n",
    "                      (colsNRF_right + colsNRF_left + calcCols_left + ['Store_Date', 'InstanceName', 'InstanceType'])]\n",
    "    \n",
    "    \n",
    "    df_left = df_left.set_index(['InstanceName', 'NRF_Day'])\n",
    "    df_right = df_right.set_index(['InstanceName', 'NRF_Day'])\n",
    "    \n",
    "    df_joined = df_left.join(df_right[calcCols_right]).reset_index()\n",
    "    return df_joined"
   ]
  },
  {
   "cell_type": "code",
   "execution_count": 6,
   "metadata": {},
   "outputs": [],
   "source": [
    "df_rolling = createRollingAvgDF(df, 7)"
   ]
  },
  {
   "cell_type": "code",
   "execution_count": 7,
   "metadata": {
    "scrolled": true
   },
   "outputs": [],
   "source": [
    "df_diffcomp = createDiffCompDF(df_rolling)\n",
    "df_pctcomp = createPctCompDF(df_rolling)\n",
    "df_comp = joinComps(df_diffcomp, df_pctcomp)"
   ]
  },
  {
   "cell_type": "code",
   "execution_count": 8,
   "metadata": {},
   "outputs": [
    {
     "name": "stdout",
     "output_type": "stream",
     "text": [
      "<class 'pandas.core.frame.DataFrame'>\n",
      "RangeIndex: 616 entries, 0 to 615\n",
      "Data columns (total 25 columns):\n",
      "InstanceName                              616 non-null object\n",
      "NRF_Day                                   616 non-null int64\n",
      "Store_Date                                616 non-null datetime64[ns]\n",
      "InstanceType                              616 non-null object\n",
      "NRF_Year                                  616 non-null int64\n",
      "NRF_MonthNum                              616 non-null int64\n",
      "NRF_Week_Restated                         616 non-null int64\n",
      "CountTransactions                         616 non-null int64\n",
      "AmtSold                                   616 non-null float64\n",
      "QtySold                                   616 non-null int64\n",
      "CountTransactions_rollAvg7Day             616 non-null float64\n",
      "AmtSold_rollAvg7Day                       616 non-null float64\n",
      "QtySold_rollAvg7Day                       616 non-null float64\n",
      "CountTransactions_diffComp                616 non-null float64\n",
      "AmtSold_diffComp                          616 non-null float64\n",
      "QtySold_diffComp                          616 non-null float64\n",
      "CountTransactions_rollAvg7Day_diffComp    616 non-null float64\n",
      "AmtSold_rollAvg7Day_diffComp              616 non-null float64\n",
      "QtySold_rollAvg7Day_diffComp              616 non-null float64\n",
      "CountTransactions_pctComp                 597 non-null float64\n",
      "AmtSold_pctComp                           589 non-null float64\n",
      "QtySold_pctComp                           597 non-null float64\n",
      "CountTransactions_rollAvg7Day_pctComp     616 non-null float64\n",
      "AmtSold_rollAvg7Day_pctComp               616 non-null float64\n",
      "QtySold_rollAvg7Day_pctComp               616 non-null float64\n",
      "dtypes: datetime64[ns](1), float64(16), int64(6), object(2)\n",
      "memory usage: 120.4+ KB\n"
     ]
    }
   ],
   "source": [
    "df_comp.info()"
   ]
  },
  {
   "cell_type": "code",
   "execution_count": 9,
   "metadata": {},
   "outputs": [],
   "source": [
    "def createThicketNames(df_comp):\n",
    "    filtInstance_iStore = {}\n",
    "    filtInstanceType = df_comp['InstanceType'] == 'iStore'\n",
    "    for i in df_comp[filtInstanceType]['InstanceName'].unique():\n",
    "        filtInstance_iStore[i] = 'Thicket ' + i[-1:]\n",
    "    return filtInstance_iStore\n",
    "    \n",
    "filtInstance_iStore = createThicketNames(df_comp)\n"
   ]
  },
  {
   "cell_type": "code",
   "execution_count": 10,
   "metadata": {},
   "outputs": [],
   "source": [
    "def create_Palette(int_NumColors, str_PaletteName, list_ColorLocs, boolPreviewBar = False, **kwargs):\n",
    "    #sns.color_palette('icefire', n_colors=64).as_hex()\n",
    "    list_PaletteColors = sns.color_palette(str_PaletteName, n_colors=int_NumColors).as_hex()\n",
    "    \n",
    "    if boolPreviewBar == True:\n",
    "        sns.palplot(list_PaletteColors)\n",
    "    \n",
    "    list_HexColors = []\n",
    "    for c in list_ColorLocs:\n",
    "        list_HexColors.append(list_PaletteColors[c])\n",
    "    return list_HexColors\n",
    "\n",
    "def create_CompositePalette(int_NumColors, list_PaletteNames, list_ColorLocs, boolPreviewBar = False, **kwargs):\n",
    "    #sns.color_palette('icefire', n_colors=64).as_hex()\n",
    "    list_PaletteColors = []\n",
    "    for p in list_PaletteNames:\n",
    "        list_PaletteColors.append(sns.color_palette(p, n_colors=int_NumColors).as_hex())\n",
    "    \n",
    "    list_PaletteColors = (np.array(list_PaletteColors)).flatten()\n",
    "                                   \n",
    "    if boolPreviewBar == True:\n",
    "        sns.palplot(list_PaletteColors)\n",
    "    \n",
    "    list_HexColors = []\n",
    "    for c in list_ColorLocs:\n",
    "        list_HexColors.append(list_PaletteColors[c])\n",
    "    return list_PaletteColors"
   ]
  },
  {
   "cell_type": "code",
   "execution_count": 11,
   "metadata": {},
   "outputs": [
    {
     "data": {
      "image/png": "[encoded data removed]",
      "text/plain": [
       "<Figure size 2880x72 with 1 Axes>"
      ]
     },
     "metadata": {
      "needs_background": "light"
     },
     "output_type": "display_data"
    }
   ],
   "source": [
    " clrPalExtended = create_CompositePalette(10, ['Blues', 'Greens', 'Oranges', 'Reds'], np.arange(0,10), boolPreviewBar=True)"
   ]
  },
  {
   "cell_type": "code",
   "execution_count": 12,
   "metadata": {},
   "outputs": [],
   "source": [
    "def createTrace_ThicketComp(df_t, strInstanceName, strLegendName, hexStrColor, boolShowLegend=True, **kwargs):\n",
    "    filtInstance = df_t['InstanceName'] == strInstanceName\n",
    "    filtDateRange = df_t['NRF_Year'] == datetime.now().year\n",
    "\n",
    "    plt_x = pd.to_datetime(df_t[filtInstance & filtDateRange]['Store_Date'])\n",
    "    plt_y = df_t[filtInstance & filtDateRange]['AmtSold_rollAvg7Day']\n",
    "\n",
    "    trace = go.Scatter(x=plt_x, \n",
    "                    y=plt_y,\n",
    "                    line=dict(color=hexStrColor),\n",
    "                    name = strLegendName,\n",
    "                    showlegend=boolShowLegend)\n",
    "    return trace\n",
    "\n",
    "def createTrace_ThicketDetailComp(df_t, strInstanceName, clrPal, boolShowLegend=False, **kwargs):\n",
    "    filtInstance = df_t['InstanceName'] == strInstanceName\n",
    "    filtDateRange = df_t['NRF_Year'] == datetime.now().year\n",
    "\n",
    "    plt_x = pd.to_datetime(df_t[filtInstance & filtDateRange]['Store_Date'])\n",
    "    plt_y_actual = df_t[filtInstance & filtDateRange]['AmtSold']\n",
    "    plt_y_diff = df_t[filtInstance & filtDateRange]['AmtSold_diffComp']\n",
    "    plt_y_rollComp = df_t[filtInstance & filtDateRange]['AmtSold_rollAvg7Day_pctComp']\n",
    "\n",
    "    trace_amtSold_actual = go.Bar(x=plt_x, \n",
    "                                        y=plt_y_actual,\n",
    "                                        marker=dict(color=clrPal[6]),\n",
    "                                        name = 'Daily Sales Amount',\n",
    "                                        showlegend=boolShowLegend)\n",
    "    trace_amtSold_diff = go.Bar(x=plt_x, \n",
    "                                        y=plt_y_diff,\n",
    "                                        marker=dict(color=clrPal[30]),\n",
    "                                        name = 'Daily Sales Difference',\n",
    "                                        showlegend=boolShowLegend)\n",
    "    trace_amtSold_rollComp = go.Bar(x=plt_x, \n",
    "                                        y=plt_y_rollComp - 1,\n",
    "                                        marker=dict(color=clrPal[24]),\n",
    "                                        name = '',\n",
    "                                        showlegend=False)\n",
    "    return trace_amtSold_actual, trace_amtSold_diff, trace_amtSold_rollComp"
   ]
  },
  {
   "cell_type": "code",
   "execution_count": 26,
   "metadata": {},
   "outputs": [],
   "source": [
    "def plot_iStoreSalesByThicket(df_comp, clrPal, filtInstance_iStore):  \n",
    "    trace = {}\n",
    "    listColors = [3, 9, 15, 19, 22, 26, 34, 39]\n",
    "    clrNum = 0\n",
    "    for k,v in filtInstance_iStore.items():\n",
    "        filtInstance = df_comp['InstanceName'] == k\n",
    "        filtDateRange = df_comp['NRF_Year'] == datetime.now().year\n",
    "        trace[v] = createTrace_ThicketComp(df_comp, k, v, clrPal[listColors[clrNum]])\n",
    "        clrNum += 1\n",
    "        \n",
    "    data = [v for k,v in trace.items()]\n",
    "    \n",
    "    layout = dict(\n",
    "        title=go.layout.Title(\n",
    "            text='iStore Thicket Sales Amount - 7 Day Avg',\n",
    "            font=dict(size=24),\n",
    "            xref='paper',\n",
    "            x=0,\n",
    "            y=0.95,\n",
    "            xanchor='left'),\n",
    "        barmode='overlay',\n",
    "        legend=dict(orientation='v',x=1.05, y=0.5, xanchor='left'),\n",
    "        width=1000,\n",
    "        height=500,\n",
    "        margin=go.layout.Margin(\n",
    "        l=25,\n",
    "        r=25,\n",
    "        b=100,\n",
    "        t=100,\n",
    "        pad=0,\n",
    "        autoexpand=True),\n",
    "        hovermode='x',\n",
    "        showlegend=True)\n",
    "    \n",
    "    fig = go.FigureWidget(data=data, layout=layout)\n",
    "    \n",
    "    fig['layout']['xaxis'] = dict(title='', \n",
    "                            type='date', \n",
    "                            tickformat='%Y-%m-%d',\n",
    "                            dtick = 7 * 86400000,\n",
    "                            showgrid=True,\n",
    "                            tickfont=dict(family='Arial, san-serif', size=10))\n",
    "    fig['layout']['yaxis'] = dict(title='Avg Sales $', \n",
    "                            tickformat='$,.0f', \n",
    "                            hoverformat='$,.0f', \n",
    "                            titlefont=dict(family='Arial, san-serif', size=10),\n",
    "                            tickfont=dict(family='Arial, san-serif', size=10))\n",
    "    \n",
    "    iplot(fig)\n",
    "    div_iStoreSalesByThicket = plotly.offline.plot(fig, output_type='div')\n",
    "    return div_iStoreSalesByThicket"
   ]
  },
  {
   "cell_type": "code",
   "execution_count": 27,
   "metadata": {
    "scrolled": true
   },
   "outputs": [],
   "source": [
    "def plot_iStoreSalesByThicketDetail(df_comp, clrPal, filtInstance_iStore):\n",
    "    filtDateRange = df_comp['NRF_Year'] == datetime.now().year\n",
    "    filtInstance = {}\n",
    "    listSubplotTitles = []\n",
    "    for k,v in filtInstance_iStore.items():\n",
    "        filtInstance[k] = df_comp['InstanceName'] == k\n",
    "        listSubplotTitles.append(v + ' - Total Daily Sales'), \n",
    "        listSubplotTitles.append(v + ' - 7 Day Avg Sales Comp')\n",
    "\n",
    "\n",
    "    fig = subplots.make_subplots(rows=8, cols=2, \n",
    "                                 horizontal_spacing = 0.15,\n",
    "                                 vertical_spacing = 0.06,\n",
    "                                 subplot_titles = listSubplotTitles,\n",
    "                                 shared_xaxes=False)\n",
    "\n",
    "    fig['layout'].update(title=go.layout.Title(\n",
    "                            text='iStore Thickets Comp to Last Year',\n",
    "                            font=dict(size=24),\n",
    "                            xref='paper',\n",
    "                            x=0,\n",
    "                            y=0.98,\n",
    "                            xanchor='left'),\n",
    "        barmode='overlay',\n",
    "        legend=dict(orientation='h',x=-.0, y=1.035, xanchor='left'),\n",
    "        width=1000,\n",
    "        height=2400,\n",
    "        margin=go.layout.Margin(\n",
    "        l=25,\n",
    "        r=25,\n",
    "        b=100,\n",
    "        t=150,\n",
    "        pad=0,\n",
    "        autoexpand=True),\n",
    "        hovermode='x',\n",
    "        showlegend=True)\n",
    "\n",
    "    rowNum = 1\n",
    "    for k,v in filtInstance.items():\n",
    "        if rowNum == 1:\n",
    "            bsl = True\n",
    "        else:\n",
    "            bsl = False\n",
    "\n",
    "        trace_amtSold_actual, trace_amtSold_diff, trace_amtSold_rollComp = createTrace_ThicketDetailComp(\n",
    "            df_comp, k, clrPal, boolShowLegend=bsl)\n",
    "        \n",
    "        #Traces of amtSold_actual and _diff get combined to the first plot per row\n",
    "        #Trace of rolling comp gets allocated to the second plot per row.\n",
    "        fig.append_trace(trace_amtSold_actual, rowNum, 1)\n",
    "        fig.append_trace(trace_amtSold_diff, rowNum, 1)\n",
    "        fig.append_trace(trace_amtSold_rollComp, rowNum, 2)\n",
    "        \n",
    "        #Set up axes for each row\n",
    "        fig.update_xaxes(title='', \n",
    "                            type='date', \n",
    "                            tickformat='%Y-%m-%d',\n",
    "                            dtick = 7 * 86400000,\n",
    "                            showgrid=True,\n",
    "                            tickfont=dict(family='Arial, san-serif', size=10),\n",
    "                            tickangle=90, row=rowNum, col=1)\n",
    "        fig.update_xaxes(title='', \n",
    "                            type='date', \n",
    "                            tickformat='%Y-%m-%d',\n",
    "                            dtick = 7 * 86400000,\n",
    "                            showgrid=True,\n",
    "                            tickfont=dict(family='Arial, san-serif', size=10),\n",
    "                            tickangle=90, row=rowNum, col=2)\n",
    "        fig.update_yaxes(title='$ Diff to LY', \n",
    "                            tickformat='$,.0f', \n",
    "                            hoverformat='$,.0f', \n",
    "                            titlefont=dict(family='Arial, san-serif', size=10),\n",
    "                            tickfont=dict(family='Arial, san-serif', size=10),\n",
    "                            row=rowNum, col=1)\n",
    "        fig.update_yaxes(title='% Diff to LY', \n",
    "                            tickformat='0.1%', \n",
    "                            titlefont=dict(family='Arial, san-serif', size=10),\n",
    "                            tickfont=dict(family='Arial, san-serif', size=10),\n",
    "                            row=rowNum, col=2)\n",
    "        rowNum += 1\n",
    "\n",
    "\n",
    "    iplot(fig)\n",
    "    div_iStoreLYCompByThicketDetail = plotly.offline.plot(fig, output_type='div')\n",
    "    return div_iStoreLYCompByThicketDetail"
   ]
  },
  {
   "cell_type": "code",
   "execution_count": 28,
   "metadata": {},
   "outputs": [
    {
     "data": {
      "application/vnd.plotly.v1+json": {
       "config": {
        "linkText": "Export to plot.ly",
        "plotlyServerURL": "https://plot.ly",
        "showLink": false
       },
       "data": [
        {
         "line": {
          "color": "#a1cbe2"
         },
         "name": "Thicket 1",
         "showlegend": true,
         "type": "scatter",
         "uid": "04573028-8cfe-4409-baea-c1d6e8bff03b",
         "x": [
          "2020-02-03T00:00:00",
          "2020-02-04T00:00:00",
          "2020-02-05T00:00:00",
          "2020-02-06T00:00:00",
          "2020-02-07T00:00:00",
          "2020-02-08T00:00:00",
          "2020-02-09T00:00:00",
          "2020-02-10T00:00:00",
          "2020-02-11T00:00:00",
          "2020-02-12T00:00:00",
          "2020-02-13T00:00:00",
          "2020-02-14T00:00:00",
          "2020-02-15T00:00:00",
          "2020-02-16T00:00:00",
          "2020-02-17T00:00:00",
          "2020-02-18T00:00:00",
          "2020-02-19T00:00:00",
          "2020-02-20T00:00:00",
          "2020-02-21T00:00:00",
          "2020-02-22T00:00:00",
          "2020-02-23T00:00:00",
          "2020-02-24T00:00:00",
          "2020-02-25T00:00:00",
          "2020-02-26T00:00:00",
          "2020-02-27T00:00:00",
          "2020-02-28T00:00:00",
          "2020-02-29T00:00:00",
          "2020-03-01T00:00:00",
          "2020-03-02T00:00:00",
          "2020-03-03T00:00:00",
          "2020-03-04T00:00:00",
          "2020-03-05T00:00:00",
          "2020-03-06T00:00:00",
          "2020-03-07T00:00:00",
          "2020-03-08T00:00:00",
          "2020-03-09T00:00:00",
          "2020-03-10T00:00:00",
          "2020-03-11T00:00:00",
          "2020-03-12T00:00:00",
          "2020-03-13T00:00:00",
          "2020-03-14T00:00:00",
          "2020-03-15T00:00:00",
          "2020-03-16T00:00:00",
          "2020-03-17T00:00:00",
          "2020-03-18T00:00:00",
          "2020-03-19T00:00:00",
          "2020-03-20T00:00:00",
          "2020-03-21T00:00:00",
          "2020-03-22T00:00:00",
          "2020-03-23T00:00:00",
          "2020-03-24T00:00:00",
          "2020-03-25T00:00:00",
          "2020-03-26T00:00:00",
          "2020-03-27T00:00:00",
          "2020-03-28T00:00:00",
          "2020-03-29T00:00:00"
         ],
         "y": [
          9782.824285714294,
          9408.572857142866,
          9067.392857142868,
          8926.527142857154,
          8701.12000000001,
          8688.332857142868,
          8686.017142857154,
          8496.581428571439,
          8412.652857142868,
          8582.945714285726,
          8680.854285714298,
          8735.441428571441,
          8738.924285714298,
          8739.245714285727,
          8527.648571428585,
          8777.514285714298,
          8525.821428571442,
          8487.355714285728,
          8499.677142857157,
          8503.3342857143,
          8503.760000000013,
          8862.148571428585,
          8674.627142857156,
          8789.255714285728,
          8852.590000000015,
          8706.967142857156,
          8697.901428571442,
          8697.190000000015,
          8900.951428571443,
          8887.697142857158,
          8906.451428571445,
          8590.09571428573,
          8662.92714285716,
          8666.27714285716,
          8672.541428571445,
          8483.110000000015,
          8214.402857142873,
          8192.442857142874,
          8352.765714285732,
          8467.325714285731,
          8462.115714285732,
          8455.992857142874,
          8881.375714285732,
          9028.97714285716,
          9066.03857142859,
          8985.670000000018,
          8880.37000000002,
          8882.115714285734,
          8881.81857142859,
          9648.562857142873,
          10578.575714285731,
          11204.514285714304,
          12340.272857142876,
          13449.891428571447,
          15361.322857142877,
          16861.307142857164
         ]
        },
        {
         "line": {
          "color": "#08488e"
         },
         "name": "Thicket 2",
         "showlegend": true,
         "type": "scatter",
         "uid": "547f5201-60db-4b49-bb18-da6a74711e4e",
         "x": [
          "2020-02-03T00:00:00",
          "2020-02-04T00:00:00",
          "2020-02-05T00:00:00",
          "2020-02-06T00:00:00",
          "2020-02-07T00:00:00",
          "2020-02-08T00:00:00",
          "2020-02-09T00:00:00",
          "2020-02-10T00:00:00",
          "2020-02-11T00:00:00",
          "2020-02-12T00:00:00",
          "2020-02-13T00:00:00",
          "2020-02-14T00:00:00",
          "2020-02-15T00:00:00",
          "2020-02-16T00:00:00",
          "2020-02-17T00:00:00",
          "2020-02-18T00:00:00",
          "2020-02-19T00:00:00",
          "2020-02-20T00:00:00",
          "2020-02-21T00:00:00",
          "2020-02-22T00:00:00",
          "2020-02-23T00:00:00",
          "2020-02-24T00:00:00",
          "2020-02-25T00:00:00",
          "2020-02-26T00:00:00",
          "2020-02-27T00:00:00",
          "2020-02-28T00:00:00",
          "2020-02-29T00:00:00",
          "2020-03-01T00:00:00",
          "2020-03-02T00:00:00",
          "2020-03-03T00:00:00",
          "2020-03-04T00:00:00",
          "2020-03-05T00:00:00",
          "2020-03-06T00:00:00",
          "2020-03-07T00:00:00",
          "2020-03-08T00:00:00",
          "2020-03-09T00:00:00",
          "2020-03-10T00:00:00",
          "2020-03-11T00:00:00",
          "2020-03-12T00:00:00",
          "2020-03-13T00:00:00",
          "2020-03-14T00:00:00",
          "2020-03-15T00:00:00",
          "2020-03-16T00:00:00",
          "2020-03-17T00:00:00",
          "2020-03-18T00:00:00",
          "2020-03-19T00:00:00",
          "2020-03-20T00:00:00",
          "2020-03-21T00:00:00",
          "2020-03-22T00:00:00",
          "2020-03-23T00:00:00",
          "2020-03-24T00:00:00",
          "2020-03-25T00:00:00",
          "2020-03-26T00:00:00",
          "2020-03-27T00:00:00",
          "2020-03-28T00:00:00",
          "2020-03-29T00:00:00"
         ],
         "y": [
          11292.975714285738,
          10808.334285714309,
          11041.137142857164,
          11179.60142857145,
          10636.69142857145,
          10622.944285714306,
          10619.498571428592,
          9836.264285714307,
          9843.272857142878,
          9690.01142857145,
          9636.854285714307,
          9725.878571428593,
          9753.527142857167,
          9753.557142857167,
          9563.391428571453,
          9753.688571428598,
          9812.424285714313,
          9610.037142857169,
          9558.111428571456,
          9528.862857142884,
          9527.731428571455,
          9715.470000000027,
          9460.9085714286,
          9429.50571428574,
          9714.787142857169,
          9705.842857142883,
          9708.284285714311,
          9708.735714285738,
          9645.41428571431,
          9849.801428571454,
          9635.771428571456,
          9396.544285714312,
          9389.300000000027,
          9389.638571428599,
          9391.184285714315,
          9408.732857142884,
          8812.991428571457,
          9033.424285714314,
          8907.635714285743,
          8827.02000000003,
          8833.174285714314,
          8831.738571428601,
          9263.907142857171,
          9322.174285714314,
          9667.460000000026,
          10000.18714285717,
          10054.13714285717,
          10046.000000000027,
          10045.77714285717,
          11544.474285714312,
          12553.75428571431,
          12775.531428571452,
          13946.090000000022,
          15676.545714285736,
          18552.250000000022,
          21074.95142857145
         ]
        },
        {
         "line": {
          "color": "#62bb6d"
         },
         "name": "Thicket 3",
         "showlegend": true,
         "type": "scatter",
         "uid": "7e1d3155-cc29-486e-8e9d-a5d71bd42adf",
         "x": [
          "2020-02-03T00:00:00",
          "2020-02-04T00:00:00",
          "2020-02-05T00:00:00",
          "2020-02-06T00:00:00",
          "2020-02-07T00:00:00",
          "2020-02-08T00:00:00",
          "2020-02-09T00:00:00",
          "2020-02-10T00:00:00",
          "2020-02-11T00:00:00",
          "2020-02-12T00:00:00",
          "2020-02-13T00:00:00",
          "2020-02-14T00:00:00",
          "2020-02-15T00:00:00",
          "2020-02-16T00:00:00",
          "2020-02-17T00:00:00",
          "2020-02-18T00:00:00",
          "2020-02-19T00:00:00",
          "2020-02-20T00:00:00",
          "2020-02-21T00:00:00",
          "2020-02-22T00:00:00",
          "2020-02-23T00:00:00",
          "2020-02-24T00:00:00",
          "2020-02-25T00:00:00",
          "2020-02-26T00:00:00",
          "2020-02-27T00:00:00",
          "2020-02-28T00:00:00",
          "2020-02-29T00:00:00",
          "2020-03-01T00:00:00",
          "2020-03-02T00:00:00",
          "2020-03-03T00:00:00",
          "2020-03-04T00:00:00",
          "2020-03-05T00:00:00",
          "2020-03-06T00:00:00",
          "2020-03-07T00:00:00",
          "2020-03-08T00:00:00",
          "2020-03-09T00:00:00",
          "2020-03-10T00:00:00",
          "2020-03-11T00:00:00",
          "2020-03-12T00:00:00",
          "2020-03-13T00:00:00",
          "2020-03-14T00:00:00",
          "2020-03-15T00:00:00",
          "2020-03-16T00:00:00",
          "2020-03-17T00:00:00",
          "2020-03-18T00:00:00",
          "2020-03-19T00:00:00",
          "2020-03-20T00:00:00",
          "2020-03-21T00:00:00",
          "2020-03-22T00:00:00",
          "2020-03-23T00:00:00",
          "2020-03-24T00:00:00",
          "2020-03-25T00:00:00",
          "2020-03-26T00:00:00",
          "2020-03-27T00:00:00",
          "2020-03-28T00:00:00",
          "2020-03-29T00:00:00"
         ],
         "y": [
          9.898875370189281e-12,
          9.898875370189281e-12,
          9.898875370189281e-12,
          9.898875370189281e-12,
          9.898875370189281e-12,
          9.898875370189281e-12,
          9.898875370189281e-12,
          9.898875370189281e-12,
          9.898875370189281e-12,
          9.898875370189281e-12,
          9.898875370189281e-12,
          9.898875370189281e-12,
          9.898875370189281e-12,
          9.898875370189281e-12,
          9.898875370189281e-12,
          9.898875370189281e-12,
          9.898875370189281e-12,
          9.898875370189281e-12,
          9.898875370189281e-12,
          9.898875370189281e-12,
          9.898875370189281e-12,
          9.898875370189281e-12,
          9.898875370189281e-12,
          9.898875370189281e-12,
          9.898875370189281e-12,
          9.898875370189281e-12,
          9.898875370189281e-12,
          9.898875370189281e-12,
          9.898875370189281e-12,
          9.898875370189281e-12,
          9.898875370189281e-12,
          9.898875370189281e-12,
          9.898875370189281e-12,
          9.898875370189281e-12,
          9.898875370189281e-12,
          9.898875370189281e-12,
          9.898875370189281e-12,
          9.898875370189281e-12,
          9.898875370189281e-12,
          9.898875370189281e-12,
          9.898875370189281e-12,
          9.898875370189281e-12,
          9.898875370189281e-12,
          9.898875370189281e-12,
          9.898875370189281e-12,
          9.898875370189281e-12,
          9.898875370189281e-12,
          9.898875370189281e-12,
          9.898875370189281e-12,
          9.898875370189281e-12,
          9.898875370189281e-12,
          9.898875370189281e-12,
          9.898875370189281e-12,
          9.898875370189281e-12,
          9.898875370189281e-12,
          9.898875370189281e-12
         ]
        },
        {
         "line": {
          "color": "#006227"
         },
         "name": "Thicket 4",
         "showlegend": true,
         "type": "scatter",
         "uid": "c17ea20a-cbdf-4a3d-85b5-d4d86b36ceee",
         "x": [
          "2020-02-03T00:00:00",
          "2020-02-04T00:00:00",
          "2020-02-05T00:00:00",
          "2020-02-06T00:00:00",
          "2020-02-07T00:00:00",
          "2020-02-08T00:00:00",
          "2020-02-09T00:00:00",
          "2020-02-10T00:00:00",
          "2020-02-11T00:00:00",
          "2020-02-12T00:00:00",
          "2020-02-13T00:00:00",
          "2020-02-14T00:00:00",
          "2020-02-15T00:00:00",
          "2020-02-16T00:00:00",
          "2020-02-17T00:00:00",
          "2020-02-18T00:00:00",
          "2020-02-19T00:00:00",
          "2020-02-20T00:00:00",
          "2020-02-21T00:00:00",
          "2020-02-22T00:00:00",
          "2020-02-23T00:00:00",
          "2020-02-24T00:00:00",
          "2020-02-25T00:00:00",
          "2020-02-26T00:00:00",
          "2020-02-27T00:00:00",
          "2020-02-28T00:00:00",
          "2020-02-29T00:00:00",
          "2020-03-01T00:00:00",
          "2020-03-02T00:00:00",
          "2020-03-03T00:00:00",
          "2020-03-04T00:00:00",
          "2020-03-05T00:00:00",
          "2020-03-06T00:00:00",
          "2020-03-07T00:00:00",
          "2020-03-08T00:00:00",
          "2020-03-09T00:00:00",
          "2020-03-10T00:00:00",
          "2020-03-11T00:00:00",
          "2020-03-12T00:00:00",
          "2020-03-13T00:00:00",
          "2020-03-14T00:00:00",
          "2020-03-15T00:00:00",
          "2020-03-16T00:00:00",
          "2020-03-17T00:00:00",
          "2020-03-18T00:00:00",
          "2020-03-19T00:00:00",
          "2020-03-20T00:00:00",
          "2020-03-21T00:00:00",
          "2020-03-22T00:00:00",
          "2020-03-23T00:00:00",
          "2020-03-24T00:00:00",
          "2020-03-25T00:00:00",
          "2020-03-26T00:00:00",
          "2020-03-27T00:00:00",
          "2020-03-28T00:00:00",
          "2020-03-29T00:00:00"
         ],
         "y": [
          10544.258571428576,
          10343.864285714288,
          9826.490000000003,
          9801.21285714286,
          9633.265714285717,
          9634.302857142859,
          9635.43285714286,
          9185.282857142858,
          9059.665714285717,
          8893.702857142862,
          8777.22285714286,
          8645.007142857148,
          8644.175714285719,
          8643.96571428572,
          7999.700000000005,
          7830.644285714291,
          8360.121428571434,
          8500.302857142862,
          8657.820000000005,
          8662.200000000006,
          8662.297142857149,
          9263.531428571436,
          9393.232857142862,
          9165.715714285718,
          8969.718571428575,
          8941.602857142861,
          8937.76428571429,
          8937.91428571429,
          9097.33428571429,
          9012.265714285719,
          9032.732857142862,
          9047.917142857148,
          8771.891428571436,
          8786.24714285715,
          8786.358571428578,
          8425.630000000006,
          8562.102857142863,
          8450.222857142862,
          8603.422857142863,
          8798.801428571436,
          8785.015714285722,
          8785.015714285722,
          9018.321428571437,
          8920.978571428579,
          8950.285714285721,
          8953.831428571435,
          8968.934285714293,
          8969.898571428579,
          8972.642857142864,
          10426.874285714292,
          11933.697142857147,
          13534.52428571429,
          15060.452857142858,
          16889.015714285717,
          19348.397142857146,
          21664.860000000008
         ]
        },
        {
         "line": {
          "color": "#fdca99"
         },
         "name": "Thicket 5",
         "showlegend": true,
         "type": "scatter",
         "uid": "9ca42aaf-2997-42d4-b791-6f0056171859",
         "x": [
          "2020-02-03T00:00:00",
          "2020-02-04T00:00:00",
          "2020-02-05T00:00:00",
          "2020-02-06T00:00:00",
          "2020-02-07T00:00:00",
          "2020-02-08T00:00:00",
          "2020-02-09T00:00:00",
          "2020-02-10T00:00:00",
          "2020-02-11T00:00:00",
          "2020-02-12T00:00:00",
          "2020-02-13T00:00:00",
          "2020-02-14T00:00:00",
          "2020-02-15T00:00:00",
          "2020-02-16T00:00:00",
          "2020-02-17T00:00:00",
          "2020-02-18T00:00:00",
          "2020-02-19T00:00:00",
          "2020-02-20T00:00:00",
          "2020-02-21T00:00:00",
          "2020-02-22T00:00:00",
          "2020-02-23T00:00:00",
          "2020-02-24T00:00:00",
          "2020-02-25T00:00:00",
          "2020-02-26T00:00:00",
          "2020-02-27T00:00:00",
          "2020-02-28T00:00:00",
          "2020-02-29T00:00:00",
          "2020-03-01T00:00:00",
          "2020-03-02T00:00:00",
          "2020-03-03T00:00:00",
          "2020-03-04T00:00:00",
          "2020-03-05T00:00:00",
          "2020-03-06T00:00:00",
          "2020-03-07T00:00:00",
          "2020-03-08T00:00:00",
          "2020-03-09T00:00:00",
          "2020-03-10T00:00:00",
          "2020-03-11T00:00:00",
          "2020-03-12T00:00:00",
          "2020-03-13T00:00:00",
          "2020-03-14T00:00:00",
          "2020-03-15T00:00:00",
          "2020-03-16T00:00:00",
          "2020-03-17T00:00:00",
          "2020-03-18T00:00:00",
          "2020-03-19T00:00:00",
          "2020-03-20T00:00:00",
          "2020-03-21T00:00:00",
          "2020-03-22T00:00:00",
          "2020-03-23T00:00:00",
          "2020-03-24T00:00:00",
          "2020-03-25T00:00:00",
          "2020-03-26T00:00:00",
          "2020-03-27T00:00:00",
          "2020-03-28T00:00:00",
          "2020-03-29T00:00:00"
         ],
         "y": [
          11592.442857142849,
          11217.757142857135,
          11403.90285714285,
          11250.585714285708,
          10984.175714285708,
          10984.957142857136,
          10984.818571428565,
          10367.319999999994,
          10105.672857142852,
          9728.884285714279,
          9540.725714285709,
          9470.999999999995,
          9472.922857142852,
          9474.431428571423,
          9461.387142857138,
          9699.208571428566,
          9724.542857142851,
          9712.748571428567,
          9918.631428571423,
          9919.61571428571,
          9919.759999999997,
          9678.341428571424,
          9502.089999999997,
          9456.665714285711,
          9324.765714285712,
          9100.551428571425,
          9097.288571428568,
          9096.004285714282,
          9487.214285714284,
          9618.355714285713,
          9575.175714285713,
          9567.97,
          9503.745714285713,
          9508.871428571425,
          9510.868571428568,
          9122.31571428571,
          8947.617142857138,
          9091.197142857138,
          9117.709999999995,
          9562.338571428567,
          9556.932857142852,
          9556.64571428571,
          9753.20714285714,
          9769.29428571428,
          9738.685714285708,
          10042.475714285709,
          9882.698571428566,
          9887.649999999994,
          9888.365714285708,
          11806.65285714285,
          13579.028571428566,
          15494.489999999994,
          17138.189999999995,
          19066.41857142857,
          22564.63,
          25617.309999999998
         ]
        },
        {
         "line": {
          "color": "#ef6612"
         },
         "name": "Thicket 6",
         "showlegend": true,
         "type": "scatter",
         "uid": "6704b521-edbf-4691-8d59-296f8c38d3cc",
         "x": [
          "2020-02-03T00:00:00",
          "2020-02-04T00:00:00",
          "2020-02-05T00:00:00",
          "2020-02-06T00:00:00",
          "2020-02-07T00:00:00",
          "2020-02-08T00:00:00",
          "2020-02-09T00:00:00",
          "2020-02-10T00:00:00",
          "2020-02-11T00:00:00",
          "2020-02-12T00:00:00",
          "2020-02-13T00:00:00",
          "2020-02-14T00:00:00",
          "2020-02-15T00:00:00",
          "2020-02-16T00:00:00",
          "2020-02-17T00:00:00",
          "2020-02-18T00:00:00",
          "2020-02-19T00:00:00",
          "2020-02-20T00:00:00",
          "2020-02-21T00:00:00",
          "2020-02-22T00:00:00",
          "2020-02-23T00:00:00",
          "2020-02-24T00:00:00",
          "2020-02-25T00:00:00",
          "2020-02-26T00:00:00",
          "2020-02-27T00:00:00",
          "2020-02-28T00:00:00",
          "2020-02-29T00:00:00",
          "2020-03-01T00:00:00",
          "2020-03-02T00:00:00",
          "2020-03-03T00:00:00",
          "2020-03-04T00:00:00",
          "2020-03-05T00:00:00",
          "2020-03-06T00:00:00",
          "2020-03-07T00:00:00",
          "2020-03-08T00:00:00",
          "2020-03-09T00:00:00",
          "2020-03-10T00:00:00",
          "2020-03-11T00:00:00",
          "2020-03-12T00:00:00",
          "2020-03-13T00:00:00",
          "2020-03-14T00:00:00",
          "2020-03-15T00:00:00",
          "2020-03-16T00:00:00",
          "2020-03-17T00:00:00",
          "2020-03-18T00:00:00",
          "2020-03-19T00:00:00",
          "2020-03-20T00:00:00",
          "2020-03-21T00:00:00",
          "2020-03-22T00:00:00",
          "2020-03-23T00:00:00",
          "2020-03-24T00:00:00",
          "2020-03-25T00:00:00",
          "2020-03-26T00:00:00",
          "2020-03-27T00:00:00",
          "2020-03-28T00:00:00",
          "2020-03-29T00:00:00"
         ],
         "y": [
          10614.991428571424,
          9994.05571428571,
          9565.855714285708,
          9307.551428571422,
          9077.249999999995,
          9076.379999999996,
          9079.322857142852,
          8871.579999999994,
          8832.729999999994,
          8910.152857142852,
          8756.159999999994,
          8621.268571428565,
          8621.452857142851,
          8620.337142857137,
          8294.334285714282,
          8408.817142857139,
          8145.1357142857105,
          8196.869999999995,
          8294.922857142852,
          8295.608571428567,
          8293.211428571423,
          8423.274285714282,
          8214.552857142853,
          8171.274285714281,
          8306.722857142853,
          8430.28428571428,
          8429.71428571428,
          8429.71428571428,
          8598.199999999995,
          8637.722857142853,
          8768.18428571428,
          8583.112857142853,
          8853.049999999994,
          8852.92428571428,
          8853.95428571428,
          9049.402857142852,
          8960.997142857137,
          9162.524285714278,
          9178.90428571428,
          8738.458571428566,
          8754.158571428565,
          8753.561428571422,
          8658.187142857136,
          8225.528571428566,
          8086.721428571423,
          8143.485714285709,
          8234.34428571428,
          8218.07571428571,
          8219.654285714281,
          9161.917142857137,
          10502.311428571424,
          11029.807142857138,
          11652.761428571424,
          12699.897142857139,
          14331.309999999996,
          15597.69571428571
         ]
        },
        {
         "line": {
          "color": "#fb7858"
         },
         "name": "Thicket 7",
         "showlegend": true,
         "type": "scatter",
         "uid": "4ca3791a-f275-4a93-b818-e3345a248645",
         "x": [
          "2020-02-03T00:00:00",
          "2020-02-04T00:00:00",
          "2020-02-05T00:00:00",
          "2020-02-06T00:00:00",
          "2020-02-07T00:00:00",
          "2020-02-08T00:00:00",
          "2020-02-09T00:00:00",
          "2020-02-10T00:00:00",
          "2020-02-11T00:00:00",
          "2020-02-12T00:00:00",
          "2020-02-13T00:00:00",
          "2020-02-14T00:00:00",
          "2020-02-15T00:00:00",
          "2020-02-16T00:00:00",
          "2020-02-17T00:00:00",
          "2020-02-18T00:00:00",
          "2020-02-19T00:00:00",
          "2020-02-20T00:00:00",
          "2020-02-21T00:00:00",
          "2020-02-22T00:00:00",
          "2020-02-23T00:00:00",
          "2020-02-24T00:00:00",
          "2020-02-25T00:00:00",
          "2020-02-26T00:00:00",
          "2020-02-27T00:00:00",
          "2020-02-28T00:00:00",
          "2020-02-29T00:00:00",
          "2020-03-01T00:00:00",
          "2020-03-02T00:00:00",
          "2020-03-03T00:00:00",
          "2020-03-04T00:00:00",
          "2020-03-05T00:00:00",
          "2020-03-06T00:00:00",
          "2020-03-07T00:00:00",
          "2020-03-08T00:00:00",
          "2020-03-09T00:00:00",
          "2020-03-10T00:00:00",
          "2020-03-11T00:00:00",
          "2020-03-12T00:00:00",
          "2020-03-13T00:00:00",
          "2020-03-14T00:00:00",
          "2020-03-15T00:00:00",
          "2020-03-16T00:00:00",
          "2020-03-17T00:00:00",
          "2020-03-18T00:00:00",
          "2020-03-19T00:00:00",
          "2020-03-20T00:00:00",
          "2020-03-21T00:00:00",
          "2020-03-22T00:00:00",
          "2020-03-23T00:00:00",
          "2020-03-24T00:00:00",
          "2020-03-25T00:00:00",
          "2020-03-26T00:00:00",
          "2020-03-27T00:00:00",
          "2020-03-28T00:00:00",
          "2020-03-29T00:00:00"
         ],
         "y": [
          2880.1685714285727,
          2833.2057142857157,
          2745.535714285715,
          2676.2028571428586,
          2616.8571428571445,
          2616.6814285714304,
          2616.968571428573,
          2454.224285714287,
          2431.4914285714294,
          2361.574285714287,
          2348.4185714285727,
          2382.5500000000006,
          2382.725714285715,
          2384.1485714285727,
          2504.7471428571444,
          2472.154285714287,
          2566.5157142857156,
          2585.304285714287,
          2569.188571428573,
          2569.0528571428586,
          2567.3428571428585,
          2423.2757142857154,
          2351.2714285714296,
          2307.390000000001,
          2297.3485714285725,
          2279.935714285715,
          2279.722857142858,
          2279.722857142858,
          2253.062857142858,
          2231.251428571429,
          2226.690000000001,
          2169.2614285714294,
          2216.807142857144,
          2217.1557142857155,
          2217.052857142858,
          2175.9057142857155,
          2225.1314285714298,
          2195.737142857144,
          2148.8114285714296,
          2076.3528571428587,
          2076.3528571428587,
          2076.4557142857157,
          2007.6728571428587,
          1947.9400000000016,
          1901.5200000000016,
          1744.85142857143,
          1928.818571428573,
          1928.818571428573,
          1928.818571428573,
          2212.982857142859,
          2377.4471428571446,
          2623.6114285714307,
          2960.33142857143,
          2941.994285714288,
          2943.212857142859,
          2943.212857142859
         ]
        },
        {
         "line": {
          "color": "#940b13"
         },
         "name": "Thicket 8",
         "showlegend": true,
         "type": "scatter",
         "uid": "5af53861-e5b7-4339-bb49-af10b0e4c498",
         "x": [
          "2020-02-03T00:00:00",
          "2020-02-04T00:00:00",
          "2020-02-05T00:00:00",
          "2020-02-06T00:00:00",
          "2020-02-07T00:00:00",
          "2020-02-08T00:00:00",
          "2020-02-09T00:00:00",
          "2020-02-10T00:00:00",
          "2020-02-11T00:00:00",
          "2020-02-12T00:00:00",
          "2020-02-13T00:00:00",
          "2020-02-14T00:00:00",
          "2020-02-15T00:00:00",
          "2020-02-16T00:00:00",
          "2020-02-17T00:00:00",
          "2020-02-18T00:00:00",
          "2020-02-19T00:00:00",
          "2020-02-20T00:00:00",
          "2020-02-21T00:00:00",
          "2020-02-22T00:00:00",
          "2020-02-23T00:00:00",
          "2020-02-24T00:00:00",
          "2020-02-25T00:00:00",
          "2020-02-26T00:00:00",
          "2020-02-27T00:00:00",
          "2020-02-28T00:00:00",
          "2020-02-29T00:00:00",
          "2020-03-01T00:00:00",
          "2020-03-02T00:00:00",
          "2020-03-03T00:00:00",
          "2020-03-04T00:00:00",
          "2020-03-05T00:00:00",
          "2020-03-06T00:00:00",
          "2020-03-07T00:00:00",
          "2020-03-08T00:00:00",
          "2020-03-09T00:00:00",
          "2020-03-10T00:00:00",
          "2020-03-11T00:00:00",
          "2020-03-12T00:00:00",
          "2020-03-13T00:00:00",
          "2020-03-14T00:00:00",
          "2020-03-15T00:00:00",
          "2020-03-16T00:00:00",
          "2020-03-17T00:00:00",
          "2020-03-18T00:00:00",
          "2020-03-19T00:00:00",
          "2020-03-20T00:00:00",
          "2020-03-21T00:00:00",
          "2020-03-22T00:00:00",
          "2020-03-23T00:00:00",
          "2020-03-24T00:00:00",
          "2020-03-25T00:00:00",
          "2020-03-26T00:00:00",
          "2020-03-27T00:00:00",
          "2020-03-28T00:00:00",
          "2020-03-29T00:00:00"
         ],
         "y": [
          6628.788571428564,
          6647.504285714277,
          6566.275714285705,
          6695.5242857142775,
          6654.502857142848,
          6652.64142857142,
          6654.314285714277,
          6445.614285714278,
          6289.19285714285,
          6370.959999999993,
          6489.925714285707,
          6375.131428571421,
          6374.288571428564,
          6374.281428571421,
          6374.7799999999925,
          6465.43285714285,
          6435.669999999993,
          6167.90285714285,
          6342.242857142849,
          6341.12285714285,
          6341.289999999993,
          6202.202857142851,
          6062.492857142851,
          6084.448571428565,
          6332.367142857137,
          6431.949999999994,
          6432.759999999994,
          6432.281428571422,
          7069.878571428567,
          7534.652857142853,
          7658.462857142853,
          7550.541428571423,
          7545.351428571424,
          7548.281428571424,
          7548.759999999995,
          8428.537142857138,
          8340.815714285709,
          8480.46428571428,
          8632.234285714283,
          8705.819999999998,
          8702.345714285711,
          8702.345714285711,
          8028.295714285711,
          7884.3114285714255,
          7846.865714285712,
          7824.69714285714,
          7765.872857142854,
          7782.522857142853,
          7782.522857142853,
          8768.149999999996,
          9808.819999999996,
          10546.915714285711,
          11343.119999999997,
          12257.135714285712,
          14057.331428571426,
          15683.292857142853
         ]
        }
       ],
       "layout": {
        "barmode": "overlay",
        "height": 500,
        "hovermode": "x",
        "legend": {
         "orientation": "v",
         "x": 1.05,
         "xanchor": "left",
         "y": 0.5
        },
        "margin": {
         "autoexpand": true,
         "b": 100,
         "l": 25,
         "pad": 0,
         "r": 25,
         "t": 100
        },
        "showlegend": true,
        "template": {
         "data": {
          "bar": [
           {
            "error_x": {
             "color": "#f2f5fa"
            },
            "error_y": {
             "color": "#f2f5fa"
            },
            "marker": {
             "line": {
              "color": "rgb(17,17,17)",
              "width": 0.5
             }
            },
            "type": "bar"
           }
          ],
          "barpolar": [
           {
            "marker": {
             "line": {
              "color": "rgb(17,17,17)",
              "width": 0.5
             }
            },
            "type": "barpolar"
           }
          ],
          "carpet": [
           {
            "aaxis": {
             "endlinecolor": "#A2B1C6",
             "gridcolor": "#506784",
             "linecolor": "#506784",
             "minorgridcolor": "#506784",
             "startlinecolor": "#A2B1C6"
            },
            "baxis": {
             "endlinecolor": "#A2B1C6",
             "gridcolor": "#506784",
             "linecolor": "#506784",
             "minorgridcolor": "#506784",
             "startlinecolor": "#A2B1C6"
            },
            "type": "carpet"
           }
          ],
          "choropleth": [
           {
            "colorbar": {
             "outlinewidth": 0,
             "ticks": ""
            },
            "type": "choropleth"
           }
          ],
          "contour": [
           {
            "colorbar": {
             "outlinewidth": 0,
             "ticks": ""
            },
            "colorscale": [
             [
              0,
              "#0d0887"
             ],
             [
              0.1111111111111111,
              "#46039f"
             ],
             [
              0.2222222222222222,
              "#7201a8"
             ],
             [
              0.3333333333333333,
              "#9c179e"
             ],
             [
              0.4444444444444444,
              "#bd3786"
             ],
             [
              0.5555555555555556,
              "#d8576b"
             ],
             [
              0.6666666666666666,
              "#ed7953"
             ],
             [
              0.7777777777777778,
              "#fb9f3a"
             ],
             [
              0.8888888888888888,
              "#fdca26"
             ],
             [
              1,
              "#f0f921"
             ]
            ],
            "type": "contour"
           }
          ],
          "contourcarpet": [
           {
            "colorbar": {
             "outlinewidth": 0,
             "ticks": ""
            },
            "type": "contourcarpet"
           }
          ],
          "heatmap": [
           {
            "colorbar": {
             "outlinewidth": 0,
             "ticks": ""
            },
            "colorscale": [
             [
              0,
              "#0d0887"
             ],
             [
              0.1111111111111111,
              "#46039f"
             ],
             [
              0.2222222222222222,
              "#7201a8"
             ],
             [
              0.3333333333333333,
              "#9c179e"
             ],
             [
              0.4444444444444444,
              "#bd3786"
             ],
             [
              0.5555555555555556,
              "#d8576b"
             ],
             [
              0.6666666666666666,
              "#ed7953"
             ],
             [
              0.7777777777777778,
              "#fb9f3a"
             ],
             [
              0.8888888888888888,
              "#fdca26"
             ],
             [
              1,
              "#f0f921"
             ]
            ],
            "type": "heatmap"
           }
          ],
          "heatmapgl": [
           {
            "colorbar": {
             "outlinewidth": 0,
             "ticks": ""
            },
            "colorscale": [
             [
              0,
              "#0d0887"
             ],
             [
              0.1111111111111111,
              "#46039f"
             ],
             [
              0.2222222222222222,
              "#7201a8"
             ],
             [
              0.3333333333333333,
              "#9c179e"
             ],
             [
              0.4444444444444444,
              "#bd3786"
             ],
             [
              0.5555555555555556,
              "#d8576b"
             ],
             [
              0.6666666666666666,
              "#ed7953"
             ],
             [
              0.7777777777777778,
              "#fb9f3a"
             ],
             [
              0.8888888888888888,
              "#fdca26"
             ],
             [
              1,
              "#f0f921"
             ]
            ],
            "type": "heatmapgl"
           }
          ],
          "histogram": [
           {
            "marker": {
             "colorbar": {
              "outlinewidth": 0,
              "ticks": ""
             }
            },
            "type": "histogram"
           }
          ],
          "histogram2d": [
           {
            "colorbar": {
             "outlinewidth": 0,
             "ticks": ""
            },
            "colorscale": [
             [
              0,
              "#0d0887"
             ],
             [
              0.1111111111111111,
              "#46039f"
             ],
             [
              0.2222222222222222,
              "#7201a8"
             ],
             [
              0.3333333333333333,
              "#9c179e"
             ],
             [
              0.4444444444444444,
              "#bd3786"
             ],
             [
              0.5555555555555556,
              "#d8576b"
             ],
             [
              0.6666666666666666,
              "#ed7953"
             ],
             [
              0.7777777777777778,
              "#fb9f3a"
             ],
             [
              0.8888888888888888,
              "#fdca26"
             ],
             [
              1,
              "#f0f921"
             ]
            ],
            "type": "histogram2d"
           }
          ],
          "histogram2dcontour": [
           {
            "colorbar": {
             "outlinewidth": 0,
             "ticks": ""
            },
            "colorscale": [
             [
              0,
              "#0d0887"
             ],
             [
              0.1111111111111111,
              "#46039f"
             ],
             [
              0.2222222222222222,
              "#7201a8"
             ],
             [
              0.3333333333333333,
              "#9c179e"
             ],
             [
              0.4444444444444444,
              "#bd3786"
             ],
             [
              0.5555555555555556,
              "#d8576b"
             ],
             [
              0.6666666666666666,
              "#ed7953"
             ],
             [
              0.7777777777777778,
              "#fb9f3a"
             ],
             [
              0.8888888888888888,
              "#fdca26"
             ],
             [
              1,
              "#f0f921"
             ]
            ],
            "type": "histogram2dcontour"
           }
          ],
          "mesh3d": [
           {
            "colorbar": {
             "outlinewidth": 0,
             "ticks": ""
            },
            "type": "mesh3d"
           }
          ],
          "parcoords": [
           {
            "line": {
             "colorbar": {
              "outlinewidth": 0,
              "ticks": ""
             }
            },
            "type": "parcoords"
           }
          ],
          "pie": [
           {
            "automargin": true,
            "type": "pie"
           }
          ],
          "scatter": [
           {
            "marker": {
             "line": {
              "color": "#283442"
             }
            },
            "type": "scatter"
           }
          ],
          "scatter3d": [
           {
            "line": {
             "colorbar": {
              "outlinewidth": 0,
              "ticks": ""
             }
            },
            "marker": {
             "colorbar": {
              "outlinewidth": 0,
              "ticks": ""
             }
            },
            "type": "scatter3d"
           }
          ],
          "scattercarpet": [
           {
            "marker": {
             "colorbar": {
              "outlinewidth": 0,
              "ticks": ""
             }
            },
            "type": "scattercarpet"
           }
          ],
          "scattergeo": [
           {
            "marker": {
             "colorbar": {
              "outlinewidth": 0,
              "ticks": ""
             }
            },
            "type": "scattergeo"
           }
          ],
          "scattergl": [
           {
            "marker": {
             "line": {
              "color": "#283442"
             }
            },
            "type": "scattergl"
           }
          ],
          "scattermapbox": [
           {
            "marker": {
             "colorbar": {
              "outlinewidth": 0,
              "ticks": ""
             }
            },
            "type": "scattermapbox"
           }
          ],
          "scatterpolar": [
           {
            "marker": {
             "colorbar": {
              "outlinewidth": 0,
              "ticks": ""
             }
            },
            "type": "scatterpolar"
           }
          ],
          "scatterpolargl": [
           {
            "marker": {
             "colorbar": {
              "outlinewidth": 0,
              "ticks": ""
             }
            },
            "type": "scatterpolargl"
           }
          ],
          "scatterternary": [
           {
            "marker": {
             "colorbar": {
              "outlinewidth": 0,
              "ticks": ""
             }
            },
            "type": "scatterternary"
           }
          ],
          "surface": [
           {
            "colorbar": {
             "outlinewidth": 0,
             "ticks": ""
            },
            "colorscale": [
             [
              0,
              "#0d0887"
             ],
             [
              0.1111111111111111,
              "#46039f"
             ],
             [
              0.2222222222222222,
              "#7201a8"
             ],
             [
              0.3333333333333333,
              "#9c179e"
             ],
             [
              0.4444444444444444,
              "#bd3786"
             ],
             [
              0.5555555555555556,
              "#d8576b"
             ],
             [
              0.6666666666666666,
              "#ed7953"
             ],
             [
              0.7777777777777778,
              "#fb9f3a"
             ],
             [
              0.8888888888888888,
              "#fdca26"
             ],
             [
              1,
              "#f0f921"
             ]
            ],
            "type": "surface"
           }
          ],
          "table": [
           {
            "cells": {
             "fill": {
              "color": "#506784"
             },
             "line": {
              "color": "rgb(17,17,17)"
             }
            },
            "header": {
             "fill": {
              "color": "#2a3f5f"
             },
             "line": {
              "color": "rgb(17,17,17)"
             }
            },
            "type": "table"
           }
          ]
         },
         "layout": {
          "annotationdefaults": {
           "arrowcolor": "#f2f5fa",
           "arrowhead": 0,
           "arrowwidth": 1
          },
          "coloraxis": {
           "colorbar": {
            "outlinewidth": 0,
            "ticks": ""
           }
          },
          "colorscale": {
           "diverging": [
            [
             0,
             "#8e0152"
            ],
            [
             0.1,
             "#c51b7d"
            ],
            [
             0.2,
             "#de77ae"
            ],
            [
             0.3,
             "#f1b6da"
            ],
            [
             0.4,
             "#fde0ef"
            ],
            [
             0.5,
             "#f7f7f7"
            ],
            [
             0.6,
             "#e6f5d0"
            ],
            [
             0.7,
             "#b8e186"
            ],
            [
             0.8,
             "#7fbc41"
            ],
            [
             0.9,
             "#4d9221"
            ],
            [
             1,
             "#276419"
            ]
           ],
           "sequential": [
            [
             0,
             "#0d0887"
            ],
            [
             0.1111111111111111,
             "#46039f"
            ],
            [
             0.2222222222222222,
             "#7201a8"
            ],
            [
             0.3333333333333333,
             "#9c179e"
            ],
            [
             0.4444444444444444,
             "#bd3786"
            ],
            [
             0.5555555555555556,
             "#d8576b"
            ],
            [
             0.6666666666666666,
             "#ed7953"
            ],
            [
             0.7777777777777778,
             "#fb9f3a"
            ],
            [
             0.8888888888888888,
             "#fdca26"
            ],
            [
             1,
             "#f0f921"
            ]
           ],
           "sequentialminus": [
            [
             0,
             "#0d0887"
            ],
            [
             0.1111111111111111,
             "#46039f"
            ],
            [
             0.2222222222222222,
             "#7201a8"
            ],
            [
             0.3333333333333333,
             "#9c179e"
            ],
            [
             0.4444444444444444,
             "#bd3786"
            ],
            [
             0.5555555555555556,
             "#d8576b"
            ],
            [
             0.6666666666666666,
             "#ed7953"
            ],
            [
             0.7777777777777778,
             "#fb9f3a"
            ],
            [
             0.8888888888888888,
             "#fdca26"
            ],
            [
             1,
             "#f0f921"
            ]
           ]
          },
          "colorway": [
           "#636efa",
           "#EF553B",
           "#00cc96",
           "#ab63fa",
           "#FFA15A",
           "#19d3f3",
           "#FF6692",
           "#B6E880",
           "#FF97FF",
           "#FECB52"
          ],
          "font": {
           "color": "#f2f5fa"
          },
          "geo": {
           "bgcolor": "rgb(17,17,17)",
           "lakecolor": "rgb(17,17,17)",
           "landcolor": "rgb(17,17,17)",
           "showlakes": true,
           "showland": true,
           "subunitcolor": "#506784"
          },
          "hoverlabel": {
           "align": "left"
          },
          "hovermode": "closest",
          "mapbox": {
           "style": "dark"
          },
          "paper_bgcolor": "rgb(17,17,17)",
          "plot_bgcolor": "rgb(17,17,17)",
          "polar": {
           "angularaxis": {
            "gridcolor": "#506784",
            "linecolor": "#506784",
            "ticks": ""
           },
           "bgcolor": "rgb(17,17,17)",
           "radialaxis": {
            "gridcolor": "#506784",
            "linecolor": "#506784",
            "ticks": ""
           }
          },
          "scene": {
           "xaxis": {
            "backgroundcolor": "rgb(17,17,17)",
            "gridcolor": "#506784",
            "gridwidth": 2,
            "linecolor": "#506784",
            "showbackground": true,
            "ticks": "",
            "zerolinecolor": "#C8D4E3"
           },
           "yaxis": {
            "backgroundcolor": "rgb(17,17,17)",
            "gridcolor": "#506784",
            "gridwidth": 2,
            "linecolor": "#506784",
            "showbackground": true,
            "ticks": "",
            "zerolinecolor": "#C8D4E3"
           },
           "zaxis": {
            "backgroundcolor": "rgb(17,17,17)",
            "gridcolor": "#506784",
            "gridwidth": 2,
            "linecolor": "#506784",
            "showbackground": true,
            "ticks": "",
            "zerolinecolor": "#C8D4E3"
           }
          },
          "shapedefaults": {
           "line": {
            "color": "#f2f5fa"
           }
          },
          "sliderdefaults": {
           "bgcolor": "#C8D4E3",
           "bordercolor": "rgb(17,17,17)",
           "borderwidth": 1,
           "tickwidth": 0
          },
          "ternary": {
           "aaxis": {
            "gridcolor": "#506784",
            "linecolor": "#506784",
            "ticks": ""
           },
           "baxis": {
            "gridcolor": "#506784",
            "linecolor": "#506784",
            "ticks": ""
           },
           "bgcolor": "rgb(17,17,17)",
           "caxis": {
            "gridcolor": "#506784",
            "linecolor": "#506784",
            "ticks": ""
           }
          },
          "title": {
           "x": 0.05
          },
          "updatemenudefaults": {
           "bgcolor": "#506784",
           "borderwidth": 0
          },
          "xaxis": {
           "automargin": true,
           "gridcolor": "#283442",
           "linecolor": "#506784",
           "ticks": "",
           "title": {
            "standoff": 15
           },
           "zerolinecolor": "#283442",
           "zerolinewidth": 2
          },
          "yaxis": {
           "automargin": true,
           "gridcolor": "#283442",
           "linecolor": "#506784",
           "ticks": "",
           "title": {
            "standoff": 15
           },
           "zerolinecolor": "#283442",
           "zerolinewidth": 2
          }
         }
        },
        "title": {
         "font": {
          "size": 24
         },
         "text": "iStore Thicket Sales Amount - 7 Day Avg",
         "x": 0,
         "xanchor": "left",
         "xref": "paper",
         "y": 0.95
        },
        "width": 1000,
        "xaxis": {
         "dtick": 604800000,
         "showgrid": true,
         "tickfont": {
          "family": "Arial, san-serif",
          "size": 10
         },
         "tickformat": "%Y-%m-%d",
         "title": {
          "text": ""
         },
         "type": "date"
        },
        "yaxis": {
         "hoverformat": "$,.0f",
         "tickfont": {
          "family": "Arial, san-serif",
          "size": 10
         },
         "tickformat": "$,.0f",
         "title": {
          "font": {
           "family": "Arial, san-serif",
           "size": 10
          },
          "text": "$ Diff to LY"
         }
        }
       }
      },
      "text/html": [
       "<div>\n",
       "        \n",
       "        \n",
       "            <div id=\"f93517f1-ce7c-474f-9539-ff49517cf8bd\" class=\"plotly-graph-div\" style=\"height:500px; width:1000px;\"></div>\n",
       "            <script type=\"text/javascript\">\n",
       "                require([\"plotly\"], function(Plotly) {\n",
       "                    window.PLOTLYENV=window.PLOTLYENV || {};\n",
       "                    \n",
       "                if (document.getElementById(\"f93517f1-ce7c-474f-9539-ff49517cf8bd\")) {\n",
       "                    Plotly.newPlot(\n",
       "                        'f93517f1-ce7c-474f-9539-ff49517cf8bd',\n",
       "                        [{\"line\": {\"color\": \"#a1cbe2\"}, \"name\": \"Thicket 1\", \"showlegend\": true, \"type\": \"scatter\", \"uid\": \"04573028-8cfe-4409-baea-c1d6e8bff03b\", \"x\": [\"2020-02-03T00:00:00\", \"2020-02-04T00:00:00\", \"2020-02-05T00:00:00\", \"2020-02-06T00:00:00\", \"2020-02-07T00:00:00\", \"2020-02-08T00:00:00\", \"2020-02-09T00:00:00\", \"2020-02-10T00:00:00\", \"2020-02-11T00:00:00\", \"2020-02-12T00:00:00\", \"2020-02-13T00:00:00\", \"2020-02-14T00:00:00\", \"2020-02-15T00:00:00\", \"2020-02-16T00:00:00\", \"2020-02-17T00:00:00\", \"2020-02-18T00:00:00\", \"2020-02-19T00:00:00\", \"2020-02-20T00:00:00\", \"2020-02-21T00:00:00\", \"2020-02-22T00:00:00\", \"2020-02-23T00:00:00\", \"2020-02-24T00:00:00\", \"2020-02-25T00:00:00\", \"2020-02-26T00:00:00\", \"2020-02-27T00:00:00\", \"2020-02-28T00:00:00\", \"2020-02-29T00:00:00\", \"2020-03-01T00:00:00\", \"2020-03-02T00:00:00\", \"2020-03-03T00:00:00\", \"2020-03-04T00:00:00\", \"2020-03-05T00:00:00\", \"2020-03-06T00:00:00\", \"2020-03-07T00:00:00\", \"2020-03-08T00:00:00\", \"2020-03-09T00:00:00\", \"2020-03-10T00:00:00\", \"2020-03-11T00:00:00\", \"2020-03-12T00:00:00\", \"2020-03-13T00:00:00\", \"2020-03-14T00:00:00\", \"2020-03-15T00:00:00\", \"2020-03-16T00:00:00\", \"2020-03-17T00:00:00\", \"2020-03-18T00:00:00\", \"2020-03-19T00:00:00\", \"2020-03-20T00:00:00\", \"2020-03-21T00:00:00\", \"2020-03-22T00:00:00\", \"2020-03-23T00:00:00\", \"2020-03-24T00:00:00\", \"2020-03-25T00:00:00\", \"2020-03-26T00:00:00\", \"2020-03-27T00:00:00\", \"2020-03-28T00:00:00\", \"2020-03-29T00:00:00\"], \"y\": [9782.824285714294, 9408.572857142866, 9067.392857142868, 8926.527142857154, 8701.12000000001, 8688.332857142868, 8686.017142857154, 8496.581428571439, 8412.652857142868, 8582.945714285726, 8680.854285714298, 8735.441428571441, 8738.924285714298, 8739.245714285727, 8527.648571428585, 8777.514285714298, 8525.821428571442, 8487.355714285728, 8499.677142857157, 8503.3342857143, 8503.760000000013, 8862.148571428585, 8674.627142857156, 8789.255714285728, 8852.590000000015, 8706.967142857156, 8697.901428571442, 8697.190000000015, 8900.951428571443, 8887.697142857158, 8906.451428571445, 8590.09571428573, 8662.92714285716, 8666.27714285716, 8672.541428571445, 8483.110000000015, 8214.402857142873, 8192.442857142874, 8352.765714285732, 8467.325714285731, 8462.115714285732, 8455.992857142874, 8881.375714285732, 9028.97714285716, 9066.03857142859, 8985.670000000018, 8880.37000000002, 8882.115714285734, 8881.81857142859, 9648.562857142873, 10578.575714285731, 11204.514285714304, 12340.272857142876, 13449.891428571447, 15361.322857142877, 16861.307142857164]}, {\"line\": {\"color\": \"#08488e\"}, \"name\": \"Thicket 2\", \"showlegend\": true, \"type\": \"scatter\", \"uid\": \"547f5201-60db-4b49-bb18-da6a74711e4e\", \"x\": [\"2020-02-03T00:00:00\", \"2020-02-04T00:00:00\", \"2020-02-05T00:00:00\", \"2020-02-06T00:00:00\", \"2020-02-07T00:00:00\", \"2020-02-08T00:00:00\", \"2020-02-09T00:00:00\", \"2020-02-10T00:00:00\", \"2020-02-11T00:00:00\", \"2020-02-12T00:00:00\", \"2020-02-13T00:00:00\", \"2020-02-14T00:00:00\", \"2020-02-15T00:00:00\", \"2020-02-16T00:00:00\", \"2020-02-17T00:00:00\", \"2020-02-18T00:00:00\", \"2020-02-19T00:00:00\", \"2020-02-20T00:00:00\", \"2020-02-21T00:00:00\", \"2020-02-22T00:00:00\", \"2020-02-23T00:00:00\", \"2020-02-24T00:00:00\", \"2020-02-25T00:00:00\", \"2020-02-26T00:00:00\", \"2020-02-27T00:00:00\", \"2020-02-28T00:00:00\", \"2020-02-29T00:00:00\", \"2020-03-01T00:00:00\", \"2020-03-02T00:00:00\", \"2020-03-03T00:00:00\", \"2020-03-04T00:00:00\", \"2020-03-05T00:00:00\", \"2020-03-06T00:00:00\", \"2020-03-07T00:00:00\", \"2020-03-08T00:00:00\", \"2020-03-09T00:00:00\", \"2020-03-10T00:00:00\", \"2020-03-11T00:00:00\", \"2020-03-12T00:00:00\", \"2020-03-13T00:00:00\", \"2020-03-14T00:00:00\", \"2020-03-15T00:00:00\", \"2020-03-16T00:00:00\", \"2020-03-17T00:00:00\", \"2020-03-18T00:00:00\", \"2020-03-19T00:00:00\", \"2020-03-20T00:00:00\", \"2020-03-21T00:00:00\", \"2020-03-22T00:00:00\", \"2020-03-23T00:00:00\", \"2020-03-24T00:00:00\", \"2020-03-25T00:00:00\", \"2020-03-26T00:00:00\", \"2020-03-27T00:00:00\", \"2020-03-28T00:00:00\", \"2020-03-29T00:00:00\"], \"y\": [11292.975714285738, 10808.334285714309, 11041.137142857164, 11179.60142857145, 10636.69142857145, 10622.944285714306, 10619.498571428592, 9836.264285714307, 9843.272857142878, 9690.01142857145, 9636.854285714307, 9725.878571428593, 9753.527142857167, 9753.557142857167, 9563.391428571453, 9753.688571428598, 9812.424285714313, 9610.037142857169, 9558.111428571456, 9528.862857142884, 9527.731428571455, 9715.470000000027, 9460.9085714286, 9429.50571428574, 9714.787142857169, 9705.842857142883, 9708.284285714311, 9708.735714285738, 9645.41428571431, 9849.801428571454, 9635.771428571456, 9396.544285714312, 9389.300000000027, 9389.638571428599, 9391.184285714315, 9408.732857142884, 8812.991428571457, 9033.424285714314, 8907.635714285743, 8827.02000000003, 8833.174285714314, 8831.738571428601, 9263.907142857171, 9322.174285714314, 9667.460000000026, 10000.18714285717, 10054.13714285717, 10046.000000000027, 10045.77714285717, 11544.474285714312, 12553.75428571431, 12775.531428571452, 13946.090000000022, 15676.545714285736, 18552.250000000022, 21074.95142857145]}, {\"line\": {\"color\": \"#62bb6d\"}, \"name\": \"Thicket 3\", \"showlegend\": true, \"type\": \"scatter\", \"uid\": \"7e1d3155-cc29-486e-8e9d-a5d71bd42adf\", \"x\": [\"2020-02-03T00:00:00\", \"2020-02-04T00:00:00\", \"2020-02-05T00:00:00\", \"2020-02-06T00:00:00\", \"2020-02-07T00:00:00\", \"2020-02-08T00:00:00\", \"2020-02-09T00:00:00\", \"2020-02-10T00:00:00\", \"2020-02-11T00:00:00\", \"2020-02-12T00:00:00\", \"2020-02-13T00:00:00\", \"2020-02-14T00:00:00\", \"2020-02-15T00:00:00\", \"2020-02-16T00:00:00\", \"2020-02-17T00:00:00\", \"2020-02-18T00:00:00\", \"2020-02-19T00:00:00\", \"2020-02-20T00:00:00\", \"2020-02-21T00:00:00\", \"2020-02-22T00:00:00\", \"2020-02-23T00:00:00\", \"2020-02-24T00:00:00\", \"2020-02-25T00:00:00\", \"2020-02-26T00:00:00\", \"2020-02-27T00:00:00\", \"2020-02-28T00:00:00\", \"2020-02-29T00:00:00\", \"2020-03-01T00:00:00\", \"2020-03-02T00:00:00\", \"2020-03-03T00:00:00\", \"2020-03-04T00:00:00\", \"2020-03-05T00:00:00\", \"2020-03-06T00:00:00\", \"2020-03-07T00:00:00\", \"2020-03-08T00:00:00\", \"2020-03-09T00:00:00\", \"2020-03-10T00:00:00\", \"2020-03-11T00:00:00\", \"2020-03-12T00:00:00\", \"2020-03-13T00:00:00\", \"2020-03-14T00:00:00\", \"2020-03-15T00:00:00\", \"2020-03-16T00:00:00\", \"2020-03-17T00:00:00\", \"2020-03-18T00:00:00\", \"2020-03-19T00:00:00\", \"2020-03-20T00:00:00\", \"2020-03-21T00:00:00\", \"2020-03-22T00:00:00\", \"2020-03-23T00:00:00\", \"2020-03-24T00:00:00\", \"2020-03-25T00:00:00\", \"2020-03-26T00:00:00\", \"2020-03-27T00:00:00\", \"2020-03-28T00:00:00\", \"2020-03-29T00:00:00\"], \"y\": [9.898875370189281e-12, 9.898875370189281e-12, 9.898875370189281e-12, 9.898875370189281e-12, 9.898875370189281e-12, 9.898875370189281e-12, 9.898875370189281e-12, 9.898875370189281e-12, 9.898875370189281e-12, 9.898875370189281e-12, 9.898875370189281e-12, 9.898875370189281e-12, 9.898875370189281e-12, 9.898875370189281e-12, 9.898875370189281e-12, 9.898875370189281e-12, 9.898875370189281e-12, 9.898875370189281e-12, 9.898875370189281e-12, 9.898875370189281e-12, 9.898875370189281e-12, 9.898875370189281e-12, 9.898875370189281e-12, 9.898875370189281e-12, 9.898875370189281e-12, 9.898875370189281e-12, 9.898875370189281e-12, 9.898875370189281e-12, 9.898875370189281e-12, 9.898875370189281e-12, 9.898875370189281e-12, 9.898875370189281e-12, 9.898875370189281e-12, 9.898875370189281e-12, 9.898875370189281e-12, 9.898875370189281e-12, 9.898875370189281e-12, 9.898875370189281e-12, 9.898875370189281e-12, 9.898875370189281e-12, 9.898875370189281e-12, 9.898875370189281e-12, 9.898875370189281e-12, 9.898875370189281e-12, 9.898875370189281e-12, 9.898875370189281e-12, 9.898875370189281e-12, 9.898875370189281e-12, 9.898875370189281e-12, 9.898875370189281e-12, 9.898875370189281e-12, 9.898875370189281e-12, 9.898875370189281e-12, 9.898875370189281e-12, 9.898875370189281e-12, 9.898875370189281e-12]}, {\"line\": {\"color\": \"#006227\"}, \"name\": \"Thicket 4\", \"showlegend\": true, \"type\": \"scatter\", \"uid\": \"c17ea20a-cbdf-4a3d-85b5-d4d86b36ceee\", \"x\": [\"2020-02-03T00:00:00\", \"2020-02-04T00:00:00\", \"2020-02-05T00:00:00\", \"2020-02-06T00:00:00\", \"2020-02-07T00:00:00\", \"2020-02-08T00:00:00\", \"2020-02-09T00:00:00\", \"2020-02-10T00:00:00\", \"2020-02-11T00:00:00\", \"2020-02-12T00:00:00\", \"2020-02-13T00:00:00\", \"2020-02-14T00:00:00\", \"2020-02-15T00:00:00\", \"2020-02-16T00:00:00\", \"2020-02-17T00:00:00\", \"2020-02-18T00:00:00\", \"2020-02-19T00:00:00\", \"2020-02-20T00:00:00\", \"2020-02-21T00:00:00\", \"2020-02-22T00:00:00\", \"2020-02-23T00:00:00\", \"2020-02-24T00:00:00\", \"2020-02-25T00:00:00\", \"2020-02-26T00:00:00\", \"2020-02-27T00:00:00\", \"2020-02-28T00:00:00\", \"2020-02-29T00:00:00\", \"2020-03-01T00:00:00\", \"2020-03-02T00:00:00\", \"2020-03-03T00:00:00\", \"2020-03-04T00:00:00\", \"2020-03-05T00:00:00\", \"2020-03-06T00:00:00\", \"2020-03-07T00:00:00\", \"2020-03-08T00:00:00\", \"2020-03-09T00:00:00\", \"2020-03-10T00:00:00\", \"2020-03-11T00:00:00\", \"2020-03-12T00:00:00\", \"2020-03-13T00:00:00\", \"2020-03-14T00:00:00\", \"2020-03-15T00:00:00\", \"2020-03-16T00:00:00\", \"2020-03-17T00:00:00\", \"2020-03-18T00:00:00\", \"2020-03-19T00:00:00\", \"2020-03-20T00:00:00\", \"2020-03-21T00:00:00\", \"2020-03-22T00:00:00\", \"2020-03-23T00:00:00\", \"2020-03-24T00:00:00\", \"2020-03-25T00:00:00\", \"2020-03-26T00:00:00\", \"2020-03-27T00:00:00\", \"2020-03-28T00:00:00\", \"2020-03-29T00:00:00\"], \"y\": [10544.258571428576, 10343.864285714288, 9826.490000000003, 9801.21285714286, 9633.265714285717, 9634.302857142859, 9635.43285714286, 9185.282857142858, 9059.665714285717, 8893.702857142862, 8777.22285714286, 8645.007142857148, 8644.175714285719, 8643.96571428572, 7999.700000000005, 7830.644285714291, 8360.121428571434, 8500.302857142862, 8657.820000000005, 8662.200000000006, 8662.297142857149, 9263.531428571436, 9393.232857142862, 9165.715714285718, 8969.718571428575, 8941.602857142861, 8937.76428571429, 8937.91428571429, 9097.33428571429, 9012.265714285719, 9032.732857142862, 9047.917142857148, 8771.891428571436, 8786.24714285715, 8786.358571428578, 8425.630000000006, 8562.102857142863, 8450.222857142862, 8603.422857142863, 8798.801428571436, 8785.015714285722, 8785.015714285722, 9018.321428571437, 8920.978571428579, 8950.285714285721, 8953.831428571435, 8968.934285714293, 8969.898571428579, 8972.642857142864, 10426.874285714292, 11933.697142857147, 13534.52428571429, 15060.452857142858, 16889.015714285717, 19348.397142857146, 21664.860000000008]}, {\"line\": {\"color\": \"#fdca99\"}, \"name\": \"Thicket 5\", \"showlegend\": true, \"type\": \"scatter\", \"uid\": \"9ca42aaf-2997-42d4-b791-6f0056171859\", \"x\": [\"2020-02-03T00:00:00\", \"2020-02-04T00:00:00\", \"2020-02-05T00:00:00\", \"2020-02-06T00:00:00\", \"2020-02-07T00:00:00\", \"2020-02-08T00:00:00\", \"2020-02-09T00:00:00\", \"2020-02-10T00:00:00\", \"2020-02-11T00:00:00\", \"2020-02-12T00:00:00\", \"2020-02-13T00:00:00\", \"2020-02-14T00:00:00\", \"2020-02-15T00:00:00\", \"2020-02-16T00:00:00\", \"2020-02-17T00:00:00\", \"2020-02-18T00:00:00\", \"2020-02-19T00:00:00\", \"2020-02-20T00:00:00\", \"2020-02-21T00:00:00\", \"2020-02-22T00:00:00\", \"2020-02-23T00:00:00\", \"2020-02-24T00:00:00\", \"2020-02-25T00:00:00\", \"2020-02-26T00:00:00\", \"2020-02-27T00:00:00\", \"2020-02-28T00:00:00\", \"2020-02-29T00:00:00\", \"2020-03-01T00:00:00\", \"2020-03-02T00:00:00\", \"2020-03-03T00:00:00\", \"2020-03-04T00:00:00\", \"2020-03-05T00:00:00\", \"2020-03-06T00:00:00\", \"2020-03-07T00:00:00\", \"2020-03-08T00:00:00\", \"2020-03-09T00:00:00\", \"2020-03-10T00:00:00\", \"2020-03-11T00:00:00\", \"2020-03-12T00:00:00\", \"2020-03-13T00:00:00\", \"2020-03-14T00:00:00\", \"2020-03-15T00:00:00\", \"2020-03-16T00:00:00\", \"2020-03-17T00:00:00\", \"2020-03-18T00:00:00\", \"2020-03-19T00:00:00\", \"2020-03-20T00:00:00\", \"2020-03-21T00:00:00\", \"2020-03-22T00:00:00\", \"2020-03-23T00:00:00\", \"2020-03-24T00:00:00\", \"2020-03-25T00:00:00\", \"2020-03-26T00:00:00\", \"2020-03-27T00:00:00\", \"2020-03-28T00:00:00\", \"2020-03-29T00:00:00\"], \"y\": [11592.442857142849, 11217.757142857135, 11403.90285714285, 11250.585714285708, 10984.175714285708, 10984.957142857136, 10984.818571428565, 10367.319999999994, 10105.672857142852, 9728.884285714279, 9540.725714285709, 9470.999999999995, 9472.922857142852, 9474.431428571423, 9461.387142857138, 9699.208571428566, 9724.542857142851, 9712.748571428567, 9918.631428571423, 9919.61571428571, 9919.759999999997, 9678.341428571424, 9502.089999999997, 9456.665714285711, 9324.765714285712, 9100.551428571425, 9097.288571428568, 9096.004285714282, 9487.214285714284, 9618.355714285713, 9575.175714285713, 9567.97, 9503.745714285713, 9508.871428571425, 9510.868571428568, 9122.31571428571, 8947.617142857138, 9091.197142857138, 9117.709999999995, 9562.338571428567, 9556.932857142852, 9556.64571428571, 9753.20714285714, 9769.29428571428, 9738.685714285708, 10042.475714285709, 9882.698571428566, 9887.649999999994, 9888.365714285708, 11806.65285714285, 13579.028571428566, 15494.489999999994, 17138.189999999995, 19066.41857142857, 22564.63, 25617.309999999998]}, {\"line\": {\"color\": \"#ef6612\"}, \"name\": \"Thicket 6\", \"showlegend\": true, \"type\": \"scatter\", \"uid\": \"6704b521-edbf-4691-8d59-296f8c38d3cc\", \"x\": [\"2020-02-03T00:00:00\", \"2020-02-04T00:00:00\", \"2020-02-05T00:00:00\", \"2020-02-06T00:00:00\", \"2020-02-07T00:00:00\", \"2020-02-08T00:00:00\", \"2020-02-09T00:00:00\", \"2020-02-10T00:00:00\", \"2020-02-11T00:00:00\", \"2020-02-12T00:00:00\", \"2020-02-13T00:00:00\", \"2020-02-14T00:00:00\", \"2020-02-15T00:00:00\", \"2020-02-16T00:00:00\", \"2020-02-17T00:00:00\", \"2020-02-18T00:00:00\", \"2020-02-19T00:00:00\", \"2020-02-20T00:00:00\", \"2020-02-21T00:00:00\", \"2020-02-22T00:00:00\", \"2020-02-23T00:00:00\", \"2020-02-24T00:00:00\", \"2020-02-25T00:00:00\", \"2020-02-26T00:00:00\", \"2020-02-27T00:00:00\", \"2020-02-28T00:00:00\", \"2020-02-29T00:00:00\", \"2020-03-01T00:00:00\", \"2020-03-02T00:00:00\", \"2020-03-03T00:00:00\", \"2020-03-04T00:00:00\", \"2020-03-05T00:00:00\", \"2020-03-06T00:00:00\", \"2020-03-07T00:00:00\", \"2020-03-08T00:00:00\", \"2020-03-09T00:00:00\", \"2020-03-10T00:00:00\", \"2020-03-11T00:00:00\", \"2020-03-12T00:00:00\", \"2020-03-13T00:00:00\", \"2020-03-14T00:00:00\", \"2020-03-15T00:00:00\", \"2020-03-16T00:00:00\", \"2020-03-17T00:00:00\", \"2020-03-18T00:00:00\", \"2020-03-19T00:00:00\", \"2020-03-20T00:00:00\", \"2020-03-21T00:00:00\", \"2020-03-22T00:00:00\", \"2020-03-23T00:00:00\", \"2020-03-24T00:00:00\", \"2020-03-25T00:00:00\", \"2020-03-26T00:00:00\", \"2020-03-27T00:00:00\", \"2020-03-28T00:00:00\", \"2020-03-29T00:00:00\"], \"y\": [10614.991428571424, 9994.05571428571, 9565.855714285708, 9307.551428571422, 9077.249999999995, 9076.379999999996, 9079.322857142852, 8871.579999999994, 8832.729999999994, 8910.152857142852, 8756.159999999994, 8621.268571428565, 8621.452857142851, 8620.337142857137, 8294.334285714282, 8408.817142857139, 8145.1357142857105, 8196.869999999995, 8294.922857142852, 8295.608571428567, 8293.211428571423, 8423.274285714282, 8214.552857142853, 8171.274285714281, 8306.722857142853, 8430.28428571428, 8429.71428571428, 8429.71428571428, 8598.199999999995, 8637.722857142853, 8768.18428571428, 8583.112857142853, 8853.049999999994, 8852.92428571428, 8853.95428571428, 9049.402857142852, 8960.997142857137, 9162.524285714278, 9178.90428571428, 8738.458571428566, 8754.158571428565, 8753.561428571422, 8658.187142857136, 8225.528571428566, 8086.721428571423, 8143.485714285709, 8234.34428571428, 8218.07571428571, 8219.654285714281, 9161.917142857137, 10502.311428571424, 11029.807142857138, 11652.761428571424, 12699.897142857139, 14331.309999999996, 15597.69571428571]}, {\"line\": {\"color\": \"#fb7858\"}, \"name\": \"Thicket 7\", \"showlegend\": true, \"type\": \"scatter\", \"uid\": \"4ca3791a-f275-4a93-b818-e3345a248645\", \"x\": [\"2020-02-03T00:00:00\", \"2020-02-04T00:00:00\", \"2020-02-05T00:00:00\", \"2020-02-06T00:00:00\", \"2020-02-07T00:00:00\", \"2020-02-08T00:00:00\", \"2020-02-09T00:00:00\", \"2020-02-10T00:00:00\", \"2020-02-11T00:00:00\", \"2020-02-12T00:00:00\", \"2020-02-13T00:00:00\", \"2020-02-14T00:00:00\", \"2020-02-15T00:00:00\", \"2020-02-16T00:00:00\", \"2020-02-17T00:00:00\", \"2020-02-18T00:00:00\", \"2020-02-19T00:00:00\", \"2020-02-20T00:00:00\", \"2020-02-21T00:00:00\", \"2020-02-22T00:00:00\", \"2020-02-23T00:00:00\", \"2020-02-24T00:00:00\", \"2020-02-25T00:00:00\", \"2020-02-26T00:00:00\", \"2020-02-27T00:00:00\", \"2020-02-28T00:00:00\", \"2020-02-29T00:00:00\", \"2020-03-01T00:00:00\", \"2020-03-02T00:00:00\", \"2020-03-03T00:00:00\", \"2020-03-04T00:00:00\", \"2020-03-05T00:00:00\", \"2020-03-06T00:00:00\", \"2020-03-07T00:00:00\", \"2020-03-08T00:00:00\", \"2020-03-09T00:00:00\", \"2020-03-10T00:00:00\", \"2020-03-11T00:00:00\", \"2020-03-12T00:00:00\", \"2020-03-13T00:00:00\", \"2020-03-14T00:00:00\", \"2020-03-15T00:00:00\", \"2020-03-16T00:00:00\", \"2020-03-17T00:00:00\", \"2020-03-18T00:00:00\", \"2020-03-19T00:00:00\", \"2020-03-20T00:00:00\", \"2020-03-21T00:00:00\", \"2020-03-22T00:00:00\", \"2020-03-23T00:00:00\", \"2020-03-24T00:00:00\", \"2020-03-25T00:00:00\", \"2020-03-26T00:00:00\", \"2020-03-27T00:00:00\", \"2020-03-28T00:00:00\", \"2020-03-29T00:00:00\"], \"y\": [2880.1685714285727, 2833.2057142857157, 2745.535714285715, 2676.2028571428586, 2616.8571428571445, 2616.6814285714304, 2616.968571428573, 2454.224285714287, 2431.4914285714294, 2361.574285714287, 2348.4185714285727, 2382.5500000000006, 2382.725714285715, 2384.1485714285727, 2504.7471428571444, 2472.154285714287, 2566.5157142857156, 2585.304285714287, 2569.188571428573, 2569.0528571428586, 2567.3428571428585, 2423.2757142857154, 2351.2714285714296, 2307.390000000001, 2297.3485714285725, 2279.935714285715, 2279.722857142858, 2279.722857142858, 2253.062857142858, 2231.251428571429, 2226.690000000001, 2169.2614285714294, 2216.807142857144, 2217.1557142857155, 2217.052857142858, 2175.9057142857155, 2225.1314285714298, 2195.737142857144, 2148.8114285714296, 2076.3528571428587, 2076.3528571428587, 2076.4557142857157, 2007.6728571428587, 1947.9400000000016, 1901.5200000000016, 1744.85142857143, 1928.818571428573, 1928.818571428573, 1928.818571428573, 2212.982857142859, 2377.4471428571446, 2623.6114285714307, 2960.33142857143, 2941.994285714288, 2943.212857142859, 2943.212857142859]}, {\"line\": {\"color\": \"#940b13\"}, \"name\": \"Thicket 8\", \"showlegend\": true, \"type\": \"scatter\", \"uid\": \"5af53861-e5b7-4339-bb49-af10b0e4c498\", \"x\": [\"2020-02-03T00:00:00\", \"2020-02-04T00:00:00\", \"2020-02-05T00:00:00\", \"2020-02-06T00:00:00\", \"2020-02-07T00:00:00\", \"2020-02-08T00:00:00\", \"2020-02-09T00:00:00\", \"2020-02-10T00:00:00\", \"2020-02-11T00:00:00\", \"2020-02-12T00:00:00\", \"2020-02-13T00:00:00\", \"2020-02-14T00:00:00\", \"2020-02-15T00:00:00\", \"2020-02-16T00:00:00\", \"2020-02-17T00:00:00\", \"2020-02-18T00:00:00\", \"2020-02-19T00:00:00\", \"2020-02-20T00:00:00\", \"2020-02-21T00:00:00\", \"2020-02-22T00:00:00\", \"2020-02-23T00:00:00\", \"2020-02-24T00:00:00\", \"2020-02-25T00:00:00\", \"2020-02-26T00:00:00\", \"2020-02-27T00:00:00\", \"2020-02-28T00:00:00\", \"2020-02-29T00:00:00\", \"2020-03-01T00:00:00\", \"2020-03-02T00:00:00\", \"2020-03-03T00:00:00\", \"2020-03-04T00:00:00\", \"2020-03-05T00:00:00\", \"2020-03-06T00:00:00\", \"2020-03-07T00:00:00\", \"2020-03-08T00:00:00\", \"2020-03-09T00:00:00\", \"2020-03-10T00:00:00\", \"2020-03-11T00:00:00\", \"2020-03-12T00:00:00\", \"2020-03-13T00:00:00\", \"2020-03-14T00:00:00\", \"2020-03-15T00:00:00\", \"2020-03-16T00:00:00\", \"2020-03-17T00:00:00\", \"2020-03-18T00:00:00\", \"2020-03-19T00:00:00\", \"2020-03-20T00:00:00\", \"2020-03-21T00:00:00\", \"2020-03-22T00:00:00\", \"2020-03-23T00:00:00\", \"2020-03-24T00:00:00\", \"2020-03-25T00:00:00\", \"2020-03-26T00:00:00\", \"2020-03-27T00:00:00\", \"2020-03-28T00:00:00\", \"2020-03-29T00:00:00\"], \"y\": [6628.788571428564, 6647.504285714277, 6566.275714285705, 6695.5242857142775, 6654.502857142848, 6652.64142857142, 6654.314285714277, 6445.614285714278, 6289.19285714285, 6370.959999999993, 6489.925714285707, 6375.131428571421, 6374.288571428564, 6374.281428571421, 6374.7799999999925, 6465.43285714285, 6435.669999999993, 6167.90285714285, 6342.242857142849, 6341.12285714285, 6341.289999999993, 6202.202857142851, 6062.492857142851, 6084.448571428565, 6332.367142857137, 6431.949999999994, 6432.759999999994, 6432.281428571422, 7069.878571428567, 7534.652857142853, 7658.462857142853, 7550.541428571423, 7545.351428571424, 7548.281428571424, 7548.759999999995, 8428.537142857138, 8340.815714285709, 8480.46428571428, 8632.234285714283, 8705.819999999998, 8702.345714285711, 8702.345714285711, 8028.295714285711, 7884.3114285714255, 7846.865714285712, 7824.69714285714, 7765.872857142854, 7782.522857142853, 7782.522857142853, 8768.149999999996, 9808.819999999996, 10546.915714285711, 11343.119999999997, 12257.135714285712, 14057.331428571426, 15683.292857142853]}],\n",
       "                        {\"barmode\": \"overlay\", \"height\": 500, \"hovermode\": \"x\", \"legend\": {\"orientation\": \"v\", \"x\": 1.05, \"xanchor\": \"left\", \"y\": 0.5}, \"margin\": {\"autoexpand\": true, \"b\": 100, \"l\": 25, \"pad\": 0, \"r\": 25, \"t\": 100}, \"showlegend\": true, \"template\": {\"data\": {\"bar\": [{\"error_x\": {\"color\": \"#f2f5fa\"}, \"error_y\": {\"color\": \"#f2f5fa\"}, \"marker\": {\"line\": {\"color\": \"rgb(17,17,17)\", \"width\": 0.5}}, \"type\": \"bar\"}], \"barpolar\": [{\"marker\": {\"line\": {\"color\": \"rgb(17,17,17)\", \"width\": 0.5}}, \"type\": \"barpolar\"}], \"carpet\": [{\"aaxis\": {\"endlinecolor\": \"#A2B1C6\", \"gridcolor\": \"#506784\", \"linecolor\": \"#506784\", \"minorgridcolor\": \"#506784\", \"startlinecolor\": \"#A2B1C6\"}, \"baxis\": {\"endlinecolor\": \"#A2B1C6\", \"gridcolor\": \"#506784\", \"linecolor\": \"#506784\", \"minorgridcolor\": \"#506784\", \"startlinecolor\": \"#A2B1C6\"}, \"type\": \"carpet\"}], \"choropleth\": [{\"colorbar\": {\"outlinewidth\": 0, \"ticks\": \"\"}, \"type\": \"choropleth\"}], \"contour\": [{\"colorbar\": {\"outlinewidth\": 0, \"ticks\": \"\"}, \"colorscale\": [[0.0, \"#0d0887\"], [0.1111111111111111, \"#46039f\"], [0.2222222222222222, \"#7201a8\"], [0.3333333333333333, \"#9c179e\"], [0.4444444444444444, \"#bd3786\"], [0.5555555555555556, \"#d8576b\"], [0.6666666666666666, \"#ed7953\"], [0.7777777777777778, \"#fb9f3a\"], [0.8888888888888888, \"#fdca26\"], [1.0, \"#f0f921\"]], \"type\": \"contour\"}], \"contourcarpet\": [{\"colorbar\": {\"outlinewidth\": 0, \"ticks\": \"\"}, \"type\": \"contourcarpet\"}], \"heatmap\": [{\"colorbar\": {\"outlinewidth\": 0, \"ticks\": \"\"}, \"colorscale\": [[0.0, \"#0d0887\"], [0.1111111111111111, \"#46039f\"], [0.2222222222222222, \"#7201a8\"], [0.3333333333333333, \"#9c179e\"], [0.4444444444444444, \"#bd3786\"], [0.5555555555555556, \"#d8576b\"], [0.6666666666666666, \"#ed7953\"], [0.7777777777777778, \"#fb9f3a\"], [0.8888888888888888, \"#fdca26\"], [1.0, \"#f0f921\"]], \"type\": \"heatmap\"}], \"heatmapgl\": [{\"colorbar\": {\"outlinewidth\": 0, \"ticks\": \"\"}, \"colorscale\": [[0.0, \"#0d0887\"], [0.1111111111111111, \"#46039f\"], [0.2222222222222222, \"#7201a8\"], [0.3333333333333333, \"#9c179e\"], [0.4444444444444444, \"#bd3786\"], [0.5555555555555556, \"#d8576b\"], [0.6666666666666666, \"#ed7953\"], [0.7777777777777778, \"#fb9f3a\"], [0.8888888888888888, \"#fdca26\"], [1.0, \"#f0f921\"]], \"type\": \"heatmapgl\"}], \"histogram\": [{\"marker\": {\"colorbar\": {\"outlinewidth\": 0, \"ticks\": \"\"}}, \"type\": \"histogram\"}], \"histogram2d\": [{\"colorbar\": {\"outlinewidth\": 0, \"ticks\": \"\"}, \"colorscale\": [[0.0, \"#0d0887\"], [0.1111111111111111, \"#46039f\"], [0.2222222222222222, \"#7201a8\"], [0.3333333333333333, \"#9c179e\"], [0.4444444444444444, \"#bd3786\"], [0.5555555555555556, \"#d8576b\"], [0.6666666666666666, \"#ed7953\"], [0.7777777777777778, \"#fb9f3a\"], [0.8888888888888888, \"#fdca26\"], [1.0, \"#f0f921\"]], \"type\": \"histogram2d\"}], \"histogram2dcontour\": [{\"colorbar\": {\"outlinewidth\": 0, \"ticks\": \"\"}, \"colorscale\": [[0.0, \"#0d0887\"], [0.1111111111111111, \"#46039f\"], [0.2222222222222222, \"#7201a8\"], [0.3333333333333333, \"#9c179e\"], [0.4444444444444444, \"#bd3786\"], [0.5555555555555556, \"#d8576b\"], [0.6666666666666666, \"#ed7953\"], [0.7777777777777778, \"#fb9f3a\"], [0.8888888888888888, \"#fdca26\"], [1.0, \"#f0f921\"]], \"type\": \"histogram2dcontour\"}], \"mesh3d\": [{\"colorbar\": {\"outlinewidth\": 0, \"ticks\": \"\"}, \"type\": \"mesh3d\"}], \"parcoords\": [{\"line\": {\"colorbar\": {\"outlinewidth\": 0, \"ticks\": \"\"}}, \"type\": \"parcoords\"}], \"pie\": [{\"automargin\": true, \"type\": \"pie\"}], \"scatter\": [{\"marker\": {\"line\": {\"color\": \"#283442\"}}, \"type\": \"scatter\"}], \"scatter3d\": [{\"line\": {\"colorbar\": {\"outlinewidth\": 0, \"ticks\": \"\"}}, \"marker\": {\"colorbar\": {\"outlinewidth\": 0, \"ticks\": \"\"}}, \"type\": \"scatter3d\"}], \"scattercarpet\": [{\"marker\": {\"colorbar\": {\"outlinewidth\": 0, \"ticks\": \"\"}}, \"type\": \"scattercarpet\"}], \"scattergeo\": [{\"marker\": {\"colorbar\": {\"outlinewidth\": 0, \"ticks\": \"\"}}, \"type\": \"scattergeo\"}], \"scattergl\": [{\"marker\": {\"line\": {\"color\": \"#283442\"}}, \"type\": \"scattergl\"}], \"scattermapbox\": [{\"marker\": {\"colorbar\": {\"outlinewidth\": 0, \"ticks\": \"\"}}, \"type\": \"scattermapbox\"}], \"scatterpolar\": [{\"marker\": {\"colorbar\": {\"outlinewidth\": 0, \"ticks\": \"\"}}, \"type\": \"scatterpolar\"}], \"scatterpolargl\": [{\"marker\": {\"colorbar\": {\"outlinewidth\": 0, \"ticks\": \"\"}}, \"type\": \"scatterpolargl\"}], \"scatterternary\": [{\"marker\": {\"colorbar\": {\"outlinewidth\": 0, \"ticks\": \"\"}}, \"type\": \"scatterternary\"}], \"surface\": [{\"colorbar\": {\"outlinewidth\": 0, \"ticks\": \"\"}, \"colorscale\": [[0.0, \"#0d0887\"], [0.1111111111111111, \"#46039f\"], [0.2222222222222222, \"#7201a8\"], [0.3333333333333333, \"#9c179e\"], [0.4444444444444444, \"#bd3786\"], [0.5555555555555556, \"#d8576b\"], [0.6666666666666666, \"#ed7953\"], [0.7777777777777778, \"#fb9f3a\"], [0.8888888888888888, \"#fdca26\"], [1.0, \"#f0f921\"]], \"type\": \"surface\"}], \"table\": [{\"cells\": {\"fill\": {\"color\": \"#506784\"}, \"line\": {\"color\": \"rgb(17,17,17)\"}}, \"header\": {\"fill\": {\"color\": \"#2a3f5f\"}, \"line\": {\"color\": \"rgb(17,17,17)\"}}, \"type\": \"table\"}]}, \"layout\": {\"annotationdefaults\": {\"arrowcolor\": \"#f2f5fa\", \"arrowhead\": 0, \"arrowwidth\": 1}, \"coloraxis\": {\"colorbar\": {\"outlinewidth\": 0, \"ticks\": \"\"}}, \"colorscale\": {\"diverging\": [[0, \"#8e0152\"], [0.1, \"#c51b7d\"], [0.2, \"#de77ae\"], [0.3, \"#f1b6da\"], [0.4, \"#fde0ef\"], [0.5, \"#f7f7f7\"], [0.6, \"#e6f5d0\"], [0.7, \"#b8e186\"], [0.8, \"#7fbc41\"], [0.9, \"#4d9221\"], [1, \"#276419\"]], \"sequential\": [[0.0, \"#0d0887\"], [0.1111111111111111, \"#46039f\"], [0.2222222222222222, \"#7201a8\"], [0.3333333333333333, \"#9c179e\"], [0.4444444444444444, \"#bd3786\"], [0.5555555555555556, \"#d8576b\"], [0.6666666666666666, \"#ed7953\"], [0.7777777777777778, \"#fb9f3a\"], [0.8888888888888888, \"#fdca26\"], [1.0, \"#f0f921\"]], \"sequentialminus\": [[0.0, \"#0d0887\"], [0.1111111111111111, \"#46039f\"], [0.2222222222222222, \"#7201a8\"], [0.3333333333333333, \"#9c179e\"], [0.4444444444444444, \"#bd3786\"], [0.5555555555555556, \"#d8576b\"], [0.6666666666666666, \"#ed7953\"], [0.7777777777777778, \"#fb9f3a\"], [0.8888888888888888, \"#fdca26\"], [1.0, \"#f0f921\"]]}, \"colorway\": [\"#636efa\", \"#EF553B\", \"#00cc96\", \"#ab63fa\", \"#FFA15A\", \"#19d3f3\", \"#FF6692\", \"#B6E880\", \"#FF97FF\", \"#FECB52\"], \"font\": {\"color\": \"#f2f5fa\"}, \"geo\": {\"bgcolor\": \"rgb(17,17,17)\", \"lakecolor\": \"rgb(17,17,17)\", \"landcolor\": \"rgb(17,17,17)\", \"showlakes\": true, \"showland\": true, \"subunitcolor\": \"#506784\"}, \"hoverlabel\": {\"align\": \"left\"}, \"hovermode\": \"closest\", \"mapbox\": {\"style\": \"dark\"}, \"paper_bgcolor\": \"rgb(17,17,17)\", \"plot_bgcolor\": \"rgb(17,17,17)\", \"polar\": {\"angularaxis\": {\"gridcolor\": \"#506784\", \"linecolor\": \"#506784\", \"ticks\": \"\"}, \"bgcolor\": \"rgb(17,17,17)\", \"radialaxis\": {\"gridcolor\": \"#506784\", \"linecolor\": \"#506784\", \"ticks\": \"\"}}, \"scene\": {\"xaxis\": {\"backgroundcolor\": \"rgb(17,17,17)\", \"gridcolor\": \"#506784\", \"gridwidth\": 2, \"linecolor\": \"#506784\", \"showbackground\": true, \"ticks\": \"\", \"zerolinecolor\": \"#C8D4E3\"}, \"yaxis\": {\"backgroundcolor\": \"rgb(17,17,17)\", \"gridcolor\": \"#506784\", \"gridwidth\": 2, \"linecolor\": \"#506784\", \"showbackground\": true, \"ticks\": \"\", \"zerolinecolor\": \"#C8D4E3\"}, \"zaxis\": {\"backgroundcolor\": \"rgb(17,17,17)\", \"gridcolor\": \"#506784\", \"gridwidth\": 2, \"linecolor\": \"#506784\", \"showbackground\": true, \"ticks\": \"\", \"zerolinecolor\": \"#C8D4E3\"}}, \"shapedefaults\": {\"line\": {\"color\": \"#f2f5fa\"}}, \"sliderdefaults\": {\"bgcolor\": \"#C8D4E3\", \"bordercolor\": \"rgb(17,17,17)\", \"borderwidth\": 1, \"tickwidth\": 0}, \"ternary\": {\"aaxis\": {\"gridcolor\": \"#506784\", \"linecolor\": \"#506784\", \"ticks\": \"\"}, \"baxis\": {\"gridcolor\": \"#506784\", \"linecolor\": \"#506784\", \"ticks\": \"\"}, \"bgcolor\": \"rgb(17,17,17)\", \"caxis\": {\"gridcolor\": \"#506784\", \"linecolor\": \"#506784\", \"ticks\": \"\"}}, \"title\": {\"x\": 0.05}, \"updatemenudefaults\": {\"bgcolor\": \"#506784\", \"borderwidth\": 0}, \"xaxis\": {\"automargin\": true, \"gridcolor\": \"#283442\", \"linecolor\": \"#506784\", \"ticks\": \"\", \"title\": {\"standoff\": 15}, \"zerolinecolor\": \"#283442\", \"zerolinewidth\": 2}, \"yaxis\": {\"automargin\": true, \"gridcolor\": \"#283442\", \"linecolor\": \"#506784\", \"ticks\": \"\", \"title\": {\"standoff\": 15}, \"zerolinecolor\": \"#283442\", \"zerolinewidth\": 2}}}, \"title\": {\"font\": {\"size\": 24}, \"text\": \"iStore Thicket Sales Amount - 7 Day Avg\", \"x\": 0, \"xanchor\": \"left\", \"xref\": \"paper\", \"y\": 0.95}, \"width\": 1000, \"xaxis\": {\"dtick\": 604800000, \"showgrid\": true, \"tickfont\": {\"family\": \"Arial, san-serif\", \"size\": 10}, \"tickformat\": \"%Y-%m-%d\", \"title\": {\"text\": \"\"}, \"type\": \"date\"}, \"yaxis\": {\"hoverformat\": \"$,.0f\", \"tickfont\": {\"family\": \"Arial, san-serif\", \"size\": 10}, \"tickformat\": \"$,.0f\", \"title\": {\"font\": {\"family\": \"Arial, san-serif\", \"size\": 10}, \"text\": \"$ Diff to LY\"}}},\n",
       "                        {\"responsive\": true}\n",
       "                    ).then(function(){\n",
       "                            \n",
       "var gd = document.getElementById('f93517f1-ce7c-474f-9539-ff49517cf8bd');\n",
       "var x = new MutationObserver(function (mutations, observer) {{\n",
       "        var display = window.getComputedStyle(gd).display;\n",
       "        if (!display || display === 'none') {{\n",
       "            console.log([gd, 'removed!']);\n",
       "            Plotly.purge(gd);\n",
       "            observer.disconnect();\n",
       "        }}\n",
       "}});\n",
       "\n",
       "// Listen for the removal of the full notebook cells\n",
       "var notebookContainer = gd.closest('#notebook-container');\n",
       "if (notebookContainer) {{\n",
       "    x.observe(notebookContainer, {childList: true});\n",
       "}}\n",
       "\n",
       "// Listen for the clearing of the current output cell\n",
       "var outputEl = gd.closest('.output');\n",
       "if (outputEl) {{\n",
       "    x.observe(outputEl, {childList: true});\n",
       "}}\n",
       "\n",
       "                        })\n",
       "                };\n",
       "                });\n",
       "            </script>\n",
       "        </div>"
      ]
     },
     "metadata": {},
     "output_type": "display_data"
    }
   ],
   "source": [
    "div_iStoreSalesByThicket = plot_iStoreSalesByThicket(df_comp, clrPalExtended, filtInstance_iStore)"
   ]
  },
  {
   "cell_type": "code",
   "execution_count": 29,
   "metadata": {
    "scrolled": false
   },
   "outputs": [
    {
     "data": {
      "application/vnd.plotly.v1+json": {
       "config": {
        "linkText": "Export to plot.ly",
        "plotlyServerURL": "https://plot.ly",
        "showLink": false
       },
       "data": [
        {
         "marker": {
          "color": "#3f8fc5"
         },
         "name": "Daily Sales Amount",
         "showlegend": true,
         "type": "bar",
         "x": [
          "2020-02-03T00:00:00",
          "2020-02-04T00:00:00",
          "2020-02-05T00:00:00",
          "2020-02-06T00:00:00",
          "2020-02-07T00:00:00",
          "2020-02-08T00:00:00",
          "2020-02-09T00:00:00",
          "2020-02-10T00:00:00",
          "2020-02-11T00:00:00",
          "2020-02-12T00:00:00",
          "2020-02-13T00:00:00",
          "2020-02-14T00:00:00",
          "2020-02-15T00:00:00",
          "2020-02-16T00:00:00",
          "2020-02-17T00:00:00",
          "2020-02-18T00:00:00",
          "2020-02-19T00:00:00",
          "2020-02-20T00:00:00",
          "2020-02-21T00:00:00",
          "2020-02-22T00:00:00",
          "2020-02-23T00:00:00",
          "2020-02-24T00:00:00",
          "2020-02-25T00:00:00",
          "2020-02-26T00:00:00",
          "2020-02-27T00:00:00",
          "2020-02-28T00:00:00",
          "2020-02-29T00:00:00",
          "2020-03-01T00:00:00",
          "2020-03-02T00:00:00",
          "2020-03-03T00:00:00",
          "2020-03-04T00:00:00",
          "2020-03-05T00:00:00",
          "2020-03-06T00:00:00",
          "2020-03-07T00:00:00",
          "2020-03-08T00:00:00",
          "2020-03-09T00:00:00",
          "2020-03-10T00:00:00",
          "2020-03-11T00:00:00",
          "2020-03-12T00:00:00",
          "2020-03-13T00:00:00",
          "2020-03-14T00:00:00",
          "2020-03-15T00:00:00",
          "2020-03-16T00:00:00",
          "2020-03-17T00:00:00",
          "2020-03-18T00:00:00",
          "2020-03-19T00:00:00",
          "2020-03-20T00:00:00",
          "2020-03-21T00:00:00",
          "2020-03-22T00:00:00",
          "2020-03-23T00:00:00",
          "2020-03-24T00:00:00",
          "2020-03-25T00:00:00",
          "2020-03-26T00:00:00",
          "2020-03-27T00:00:00",
          "2020-03-28T00:00:00",
          "2020-03-29T00:00:00"
         ],
         "xaxis": "x",
         "y": [
          24796.65,
          9440.2,
          9105.33,
          9233.38,
          8203.32,
          24.48,
          -1.24,
          23470.6,
          8852.7,
          10297.38,
          9918.74,
          8585.43,
          48.86,
          1.01,
          21989.42,
          10601.76,
          8535.53,
          9649.48,
          8671.68,
          74.46,
          3.99,
          24498.14,
          9289.11,
          9337.93,
          10092.82,
          7652.32,
          11,
          -0.99,
          25924.47,
          9196.33,
          9469.21,
          7878.33,
          8162.14,
          34.45,
          42.86,
          24598.45,
          7315.38,
          9315.49,
          9000.59,
          8964.06,
          -2.02,
          0,
          27576.13,
          8348.59,
          9574.92,
          8438.01,
          8226.96,
          10.2,
          -2.08,
          32943.34,
          14858.68,
          13956.49,
          16388.32,
          15994.29,
          13390.22,
          10497.81
         ],
         "yaxis": "y"
        },
        {
         "marker": {
          "color": "#fee6da"
         },
         "name": "Daily Sales Difference",
         "showlegend": true,
         "type": "bar",
         "x": [
          "2020-02-03T00:00:00",
          "2020-02-04T00:00:00",
          "2020-02-05T00:00:00",
          "2020-02-06T00:00:00",
          "2020-02-07T00:00:00",
          "2020-02-08T00:00:00",
          "2020-02-09T00:00:00",
          "2020-02-10T00:00:00",
          "2020-02-11T00:00:00",
          "2020-02-12T00:00:00",
          "2020-02-13T00:00:00",
          "2020-02-14T00:00:00",
          "2020-02-15T00:00:00",
          "2020-02-16T00:00:00",
          "2020-02-17T00:00:00",
          "2020-02-18T00:00:00",
          "2020-02-19T00:00:00",
          "2020-02-20T00:00:00",
          "2020-02-21T00:00:00",
          "2020-02-22T00:00:00",
          "2020-02-23T00:00:00",
          "2020-02-24T00:00:00",
          "2020-02-25T00:00:00",
          "2020-02-26T00:00:00",
          "2020-02-27T00:00:00",
          "2020-02-28T00:00:00",
          "2020-02-29T00:00:00",
          "2020-03-01T00:00:00",
          "2020-03-02T00:00:00",
          "2020-03-03T00:00:00",
          "2020-03-04T00:00:00",
          "2020-03-05T00:00:00",
          "2020-03-06T00:00:00",
          "2020-03-07T00:00:00",
          "2020-03-08T00:00:00",
          "2020-03-09T00:00:00",
          "2020-03-10T00:00:00",
          "2020-03-11T00:00:00",
          "2020-03-12T00:00:00",
          "2020-03-13T00:00:00",
          "2020-03-14T00:00:00",
          "2020-03-15T00:00:00",
          "2020-03-16T00:00:00",
          "2020-03-17T00:00:00",
          "2020-03-18T00:00:00",
          "2020-03-19T00:00:00",
          "2020-03-20T00:00:00",
          "2020-03-21T00:00:00",
          "2020-03-22T00:00:00",
          "2020-03-23T00:00:00",
          "2020-03-24T00:00:00",
          "2020-03-25T00:00:00",
          "2020-03-26T00:00:00",
          "2020-03-27T00:00:00",
          "2020-03-28T00:00:00",
          "2020-03-29T00:00:00"
         ],
         "xaxis": "x",
         "y": [
          -5565.539999999997,
          -2434.74,
          -984.7000000000007,
          -366.02000000000044,
          -1750.3099999999995,
          25.2,
          -1.24,
          -2979.84,
          -443.9299999999985,
          129.02999999999884,
          621.5300000000007,
          687.5,
          43.35,
          2.23,
          -2424.3300000000017,
          1324.17,
          75.47000000000116,
          -156.63000000000102,
          203.01000000000022,
          -180.03000000000003,
          -12.089999999999998,
          -530.6599999999999,
          554.3400000000001,
          93.57999999999993,
          236.54999999999927,
          -1420.4500000000007,
          11,
          -29.939999999999998,
          341.0699999999997,
          736.2000000000007,
          -272.0100000000002,
          -1257.0100000000002,
          -1095.1799999999994,
          15.670000000000002,
          42.86,
          992.1700000000019,
          -376.25,
          -323.0400000000009,
          1077.4099999999999,
          1103.6399999999994,
          -5.63,
          0.03,
          6283.790000000001,
          -161.60000000000036,
          2205.76,
          1245.1400000000003,
          -407.9100000000017,
          -35.45,
          -2.08,
          10195.639999999996,
          6424.15,
          5288.629999999999,
          8379.869999999999,
          8708.850000000002,
          13161.51,
          10286.3
         ],
         "yaxis": "y"
        },
        {
         "marker": {
          "color": "#fd994d"
         },
         "name": "",
         "showlegend": false,
         "type": "bar",
         "x": [
          "2020-02-03T00:00:00",
          "2020-02-04T00:00:00",
          "2020-02-05T00:00:00",
          "2020-02-06T00:00:00",
          "2020-02-07T00:00:00",
          "2020-02-08T00:00:00",
          "2020-02-09T00:00:00",
          "2020-02-10T00:00:00",
          "2020-02-11T00:00:00",
          "2020-02-12T00:00:00",
          "2020-02-13T00:00:00",
          "2020-02-14T00:00:00",
          "2020-02-15T00:00:00",
          "2020-02-16T00:00:00",
          "2020-02-17T00:00:00",
          "2020-02-18T00:00:00",
          "2020-02-19T00:00:00",
          "2020-02-20T00:00:00",
          "2020-02-21T00:00:00",
          "2020-02-22T00:00:00",
          "2020-02-23T00:00:00",
          "2020-02-24T00:00:00",
          "2020-02-25T00:00:00",
          "2020-02-26T00:00:00",
          "2020-02-27T00:00:00",
          "2020-02-28T00:00:00",
          "2020-02-29T00:00:00",
          "2020-03-01T00:00:00",
          "2020-03-02T00:00:00",
          "2020-03-03T00:00:00",
          "2020-03-04T00:00:00",
          "2020-03-05T00:00:00",
          "2020-03-06T00:00:00",
          "2020-03-07T00:00:00",
          "2020-03-08T00:00:00",
          "2020-03-09T00:00:00",
          "2020-03-10T00:00:00",
          "2020-03-11T00:00:00",
          "2020-03-12T00:00:00",
          "2020-03-13T00:00:00",
          "2020-03-14T00:00:00",
          "2020-03-15T00:00:00",
          "2020-03-16T00:00:00",
          "2020-03-17T00:00:00",
          "2020-03-18T00:00:00",
          "2020-03-19T00:00:00",
          "2020-03-20T00:00:00",
          "2020-03-21T00:00:00",
          "2020-03-22T00:00:00",
          "2020-03-23T00:00:00",
          "2020-03-24T00:00:00",
          "2020-03-25T00:00:00",
          "2020-03-26T00:00:00",
          "2020-03-27T00:00:00",
          "2020-03-28T00:00:00",
          "2020-03-29T00:00:00"
         ],
         "xaxis": "x2",
         "y": [
          -0.15988998545750788,
          -0.1896546250953549,
          -0.20557195740070455,
          -0.16303846698897106,
          -0.1527828336114121,
          -0.15388455145815427,
          -0.15411006786777726,
          -0.12493651398045824,
          -0.09941732155099525,
          -0.08228649443015457,
          -0.0675135969102667,
          -0.031084692973391448,
          -0.030794059262559625,
          -0.030739675369581887,
          -0.022669641652594996,
          0.006280470468623678,
          0.00555881021377691,
          -0.00748817276656355,
          -0.015434763290767761,
          -0.019052743556506435,
          -0.01928324004168036,
          0.011796097977879505,
          -0.0007666740498172286,
          -0.00046268865975540585,
          0.005920124902138557,
          -0.02023484938237985,
          -0.017234505360832708,
          -0.017518987456165203,
          -0.00342047753608965,
          -0.0005139296791877301,
          -0.0063366693899541415,
          -0.03049153193045906,
          -0.025172184966293698,
          -0.025089537765601744,
          -0.023930726303329153,
          -0.013904233326749504,
          -0.032796153173970555,
          -0.033712745931275934,
          0.005738984569214178,
          0.044633638838455614,
          0.04427007077295175,
          0.043515029541488115,
          0.142620761599777,
          0.1443935204163691,
          0.1983312710410956,
          0.2043159910975938,
          0.17281244970804788,
          0.17211332631414522,
          0.17207345148692665,
          0.23925494913435785,
          0.36059401618160214,
          0.40751439070209106,
          0.5278271340202716,
          0.7059226524983078,
          0.9419186606249434,
          1.1234298595644123
         ],
         "yaxis": "y2"
        },
        {
         "marker": {
          "color": "#3f8fc5"
         },
         "name": "Daily Sales Amount",
         "showlegend": false,
         "type": "bar",
         "x": [
          "2020-02-03T00:00:00",
          "2020-02-04T00:00:00",
          "2020-02-05T00:00:00",
          "2020-02-06T00:00:00",
          "2020-02-07T00:00:00",
          "2020-02-08T00:00:00",
          "2020-02-09T00:00:00",
          "2020-02-10T00:00:00",
          "2020-02-11T00:00:00",
          "2020-02-12T00:00:00",
          "2020-02-13T00:00:00",
          "2020-02-14T00:00:00",
          "2020-02-15T00:00:00",
          "2020-02-16T00:00:00",
          "2020-02-17T00:00:00",
          "2020-02-18T00:00:00",
          "2020-02-19T00:00:00",
          "2020-02-20T00:00:00",
          "2020-02-21T00:00:00",
          "2020-02-22T00:00:00",
          "2020-02-23T00:00:00",
          "2020-02-24T00:00:00",
          "2020-02-25T00:00:00",
          "2020-02-26T00:00:00",
          "2020-02-27T00:00:00",
          "2020-02-28T00:00:00",
          "2020-02-29T00:00:00",
          "2020-03-01T00:00:00",
          "2020-03-02T00:00:00",
          "2020-03-03T00:00:00",
          "2020-03-04T00:00:00",
          "2020-03-05T00:00:00",
          "2020-03-06T00:00:00",
          "2020-03-07T00:00:00",
          "2020-03-08T00:00:00",
          "2020-03-09T00:00:00",
          "2020-03-10T00:00:00",
          "2020-03-11T00:00:00",
          "2020-03-12T00:00:00",
          "2020-03-13T00:00:00",
          "2020-03-14T00:00:00",
          "2020-03-15T00:00:00",
          "2020-03-16T00:00:00",
          "2020-03-17T00:00:00",
          "2020-03-18T00:00:00",
          "2020-03-19T00:00:00",
          "2020-03-20T00:00:00",
          "2020-03-21T00:00:00",
          "2020-03-22T00:00:00",
          "2020-03-23T00:00:00",
          "2020-03-24T00:00:00",
          "2020-03-25T00:00:00",
          "2020-03-26T00:00:00",
          "2020-03-27T00:00:00",
          "2020-03-28T00:00:00",
          "2020-03-29T00:00:00"
         ],
         "xaxis": "x3",
         "y": [
          31239.68,
          11078.9,
          10829.45,
          11358.15,
          9821.69,
          4.84,
          3.78,
          25757.04,
          11127.96,
          9756.62,
          10986.05,
          10444.86,
          198.38,
          3.99,
          24425.88,
          12460.04,
          10167.77,
          9569.34,
          10081.38,
          -6.36,
          -3.93,
          25740.05,
          10678.11,
          9947.95,
          11566.31,
          10018.77,
          10.73,
          -0.77,
          25296.8,
          12108.82,
          8449.74,
          9891.72,
          9968.06,
          13.1,
          10.05,
          25419.64,
          7938.63,
          9992.77,
          9011.2,
          9403.75,
          56.18,
          0,
          28444.82,
          8346.5,
          12409.77,
          11340.29,
          9781.4,
          -0.78,
          -1.56,
          38935.7,
          15411.46,
          13962.21,
          19534.2,
          21894.59,
          20129.15,
          17657.35
         ],
         "yaxis": "y3"
        },
        {
         "marker": {
          "color": "#fee6da"
         },
         "name": "Daily Sales Difference",
         "showlegend": false,
         "type": "bar",
         "x": [
          "2020-02-03T00:00:00",
          "2020-02-04T00:00:00",
          "2020-02-05T00:00:00",
          "2020-02-06T00:00:00",
          "2020-02-07T00:00:00",
          "2020-02-08T00:00:00",
          "2020-02-09T00:00:00",
          "2020-02-10T00:00:00",
          "2020-02-11T00:00:00",
          "2020-02-12T00:00:00",
          "2020-02-13T00:00:00",
          "2020-02-14T00:00:00",
          "2020-02-15T00:00:00",
          "2020-02-16T00:00:00",
          "2020-02-17T00:00:00",
          "2020-02-18T00:00:00",
          "2020-02-19T00:00:00",
          "2020-02-20T00:00:00",
          "2020-02-21T00:00:00",
          "2020-02-22T00:00:00",
          "2020-02-23T00:00:00",
          "2020-02-24T00:00:00",
          "2020-02-25T00:00:00",
          "2020-02-26T00:00:00",
          "2020-02-27T00:00:00",
          "2020-02-28T00:00:00",
          "2020-02-29T00:00:00",
          "2020-03-01T00:00:00",
          "2020-03-02T00:00:00",
          "2020-03-03T00:00:00",
          "2020-03-04T00:00:00",
          "2020-03-05T00:00:00",
          "2020-03-06T00:00:00",
          "2020-03-07T00:00:00",
          "2020-03-08T00:00:00",
          "2020-03-09T00:00:00",
          "2020-03-10T00:00:00",
          "2020-03-11T00:00:00",
          "2020-03-12T00:00:00",
          "2020-03-13T00:00:00",
          "2020-03-14T00:00:00",
          "2020-03-15T00:00:00",
          "2020-03-16T00:00:00",
          "2020-03-17T00:00:00",
          "2020-03-18T00:00:00",
          "2020-03-19T00:00:00",
          "2020-03-20T00:00:00",
          "2020-03-21T00:00:00",
          "2020-03-22T00:00:00",
          "2020-03-23T00:00:00",
          "2020-03-24T00:00:00",
          "2020-03-25T00:00:00",
          "2020-03-26T00:00:00",
          "2020-03-27T00:00:00",
          "2020-03-28T00:00:00",
          "2020-03-29T00:00:00"
         ],
         "xaxis": "x3",
         "y": [
          4091.5200000000004,
          -964.1800000000003,
          2321.8500000000004,
          2621.2700000000004,
          439.130000000001,
          -103.92999999999999,
          3.78,
          -2345.6299999999974,
          261.9299999999985,
          675.3000000000011,
          1559.7399999999998,
          2771.7700000000004,
          184.72,
          -7.98,
          -2743.5200000000004,
          1748.9900000000016,
          1213.2600000000002,
          359.7600000000002,
          1463.8499999999985,
          -2.7600000000000002,
          -3.93,
          -2125.8199999999997,
          64.76000000000022,
          858.7600000000002,
          2149.99,
          847.3500000000004,
          -212.92000000000002,
          -4.76,
          -2397.3199999999997,
          822.3500000000004,
          -1205.380000000001,
          1180.7399999999998,
          -71.27000000000044,
          -69,
          10.05,
          -1664.4700000000012,
          -1866.0999999999995,
          294.39000000000124,
          669.1100000000006,
          -119.18000000000029,
          59.48,
          0,
          5904.5,
          -1451.6599999999999,
          3213.960000000001,
          3844.1600000000008,
          663.0299999999988,
          -7.220000000000001,
          -5.550000000000001,
          14819.439999999999,
          6964.98,
          3708.24,
          11138.75,
          14249.98,
          20048.81,
          17657.35
         ],
         "yaxis": "y3"
        },
        {
         "marker": {
          "color": "#fd994d"
         },
         "name": "",
         "showlegend": false,
         "type": "bar",
         "x": [
          "2020-02-03T00:00:00",
          "2020-02-04T00:00:00",
          "2020-02-05T00:00:00",
          "2020-02-06T00:00:00",
          "2020-02-07T00:00:00",
          "2020-02-08T00:00:00",
          "2020-02-09T00:00:00",
          "2020-02-10T00:00:00",
          "2020-02-11T00:00:00",
          "2020-02-12T00:00:00",
          "2020-02-13T00:00:00",
          "2020-02-14T00:00:00",
          "2020-02-15T00:00:00",
          "2020-02-16T00:00:00",
          "2020-02-17T00:00:00",
          "2020-02-18T00:00:00",
          "2020-02-19T00:00:00",
          "2020-02-20T00:00:00",
          "2020-02-21T00:00:00",
          "2020-02-22T00:00:00",
          "2020-02-23T00:00:00",
          "2020-02-24T00:00:00",
          "2020-02-25T00:00:00",
          "2020-02-26T00:00:00",
          "2020-02-27T00:00:00",
          "2020-02-28T00:00:00",
          "2020-02-29T00:00:00",
          "2020-03-01T00:00:00",
          "2020-03-02T00:00:00",
          "2020-03-03T00:00:00",
          "2020-03-04T00:00:00",
          "2020-03-05T00:00:00",
          "2020-03-06T00:00:00",
          "2020-03-07T00:00:00",
          "2020-03-08T00:00:00",
          "2020-03-09T00:00:00",
          "2020-03-10T00:00:00",
          "2020-03-11T00:00:00",
          "2020-03-12T00:00:00",
          "2020-03-13T00:00:00",
          "2020-03-14T00:00:00",
          "2020-03-15T00:00:00",
          "2020-03-16T00:00:00",
          "2020-03-17T00:00:00",
          "2020-03-18T00:00:00",
          "2020-03-19T00:00:00",
          "2020-03-20T00:00:00",
          "2020-03-21T00:00:00",
          "2020-03-22T00:00:00",
          "2020-03-23T00:00:00",
          "2020-03-24T00:00:00",
          "2020-03-25T00:00:00",
          "2020-03-26T00:00:00",
          "2020-03-27T00:00:00",
          "2020-03-28T00:00:00",
          "2020-03-29T00:00:00"
         ],
         "xaxis": "x4",
         "y": [
          0.027892055433553553,
          0.015424837653950974,
          0.07418851039658292,
          0.12766222646443648,
          0.125885920505997,
          0.127922605364567,
          0.12755674643412807,
          0.02948929420904789,
          0.04867854581063158,
          0.02341417385467448,
          0.007321743062250086,
          0.043258325123637587,
          0.04775111919203523,
          0.04756191211207561,
          0.04205923310344328,
          0.06536478650830024,
          0.07390526483822368,
          0.05533134012913887,
          0.034304512295229905,
          0.03141466178365482,
          0.03148311427721917,
          0.040599073306472944,
          0.014850765983976055,
          0.009399020551776882,
          0.03666004762902397,
          0.027033727346869485,
          0.023775154489771744,
          0.023761222430959794,
          0.01972239489978178,
          0.030850640112098926,
          -1.0229634537339827e-05,
          -0.01453186157919939,
          -0.02793163393314091,
          -0.025857202331450058,
          -0.025639220419952924,
          -0.014911878304664228,
          -0.05637250890497347,
          -0.03340984961241511,
          -0.04146440148105679,
          -0.04253859263145521,
          -0.040601443561365635,
          -0.040757380959249856,
          0.08250041941302477,
          0.08942849730327751,
          0.13933949435324244,
          0.19558070403014405,
          0.21039413374967064,
          0.20921196597451575,
          0.20910218534567937,
          0.3528267104331877,
          0.5051565956671327,
          0.5044793515118375,
          0.6178501303260684,
          0.8641250135899126,
          1.203313986335513,
          1.5030860861688007
         ],
         "yaxis": "y4"
        },
        {
         "marker": {
          "color": "#3f8fc5"
         },
         "name": "Daily Sales Amount",
         "showlegend": false,
         "type": "bar",
         "x": [
          "2020-02-03T00:00:00",
          "2020-02-04T00:00:00",
          "2020-02-05T00:00:00",
          "2020-02-06T00:00:00",
          "2020-02-07T00:00:00",
          "2020-02-08T00:00:00",
          "2020-02-09T00:00:00",
          "2020-02-10T00:00:00",
          "2020-02-11T00:00:00",
          "2020-02-12T00:00:00",
          "2020-02-13T00:00:00",
          "2020-02-14T00:00:00",
          "2020-02-15T00:00:00",
          "2020-02-16T00:00:00",
          "2020-02-17T00:00:00",
          "2020-02-18T00:00:00",
          "2020-02-19T00:00:00",
          "2020-02-20T00:00:00",
          "2020-02-21T00:00:00",
          "2020-02-22T00:00:00",
          "2020-02-23T00:00:00",
          "2020-02-24T00:00:00",
          "2020-02-25T00:00:00",
          "2020-02-26T00:00:00",
          "2020-02-27T00:00:00",
          "2020-02-28T00:00:00",
          "2020-02-29T00:00:00",
          "2020-03-01T00:00:00",
          "2020-03-02T00:00:00",
          "2020-03-03T00:00:00",
          "2020-03-04T00:00:00",
          "2020-03-05T00:00:00",
          "2020-03-06T00:00:00",
          "2020-03-07T00:00:00",
          "2020-03-08T00:00:00",
          "2020-03-09T00:00:00",
          "2020-03-10T00:00:00",
          "2020-03-11T00:00:00",
          "2020-03-12T00:00:00",
          "2020-03-13T00:00:00",
          "2020-03-14T00:00:00",
          "2020-03-15T00:00:00",
          "2020-03-16T00:00:00",
          "2020-03-17T00:00:00",
          "2020-03-18T00:00:00",
          "2020-03-19T00:00:00",
          "2020-03-20T00:00:00",
          "2020-03-21T00:00:00",
          "2020-03-22T00:00:00",
          "2020-03-23T00:00:00",
          "2020-03-24T00:00:00",
          "2020-03-25T00:00:00",
          "2020-03-26T00:00:00",
          "2020-03-27T00:00:00",
          "2020-03-28T00:00:00",
          "2020-03-29T00:00:00"
         ],
         "xaxis": "x5",
         "y": [
          0,
          0,
          0,
          0,
          0,
          0,
          0,
          0,
          0,
          0,
          0,
          0,
          0,
          0,
          0,
          0,
          0,
          0,
          0,
          0,
          0,
          0,
          0,
          0,
          0,
          0,
          0,
          0,
          0,
          0,
          0,
          0,
          0,
          0,
          0,
          0,
          0,
          0,
          0,
          0,
          0,
          0,
          0,
          0,
          0,
          0,
          0,
          0,
          0,
          0,
          0,
          0,
          0,
          0,
          0,
          0
         ],
         "yaxis": "y5"
        },
        {
         "marker": {
          "color": "#fee6da"
         },
         "name": "Daily Sales Difference",
         "showlegend": false,
         "type": "bar",
         "x": [
          "2020-02-03T00:00:00",
          "2020-02-04T00:00:00",
          "2020-02-05T00:00:00",
          "2020-02-06T00:00:00",
          "2020-02-07T00:00:00",
          "2020-02-08T00:00:00",
          "2020-02-09T00:00:00",
          "2020-02-10T00:00:00",
          "2020-02-11T00:00:00",
          "2020-02-12T00:00:00",
          "2020-02-13T00:00:00",
          "2020-02-14T00:00:00",
          "2020-02-15T00:00:00",
          "2020-02-16T00:00:00",
          "2020-02-17T00:00:00",
          "2020-02-18T00:00:00",
          "2020-02-19T00:00:00",
          "2020-02-20T00:00:00",
          "2020-02-21T00:00:00",
          "2020-02-22T00:00:00",
          "2020-02-23T00:00:00",
          "2020-02-24T00:00:00",
          "2020-02-25T00:00:00",
          "2020-02-26T00:00:00",
          "2020-02-27T00:00:00",
          "2020-02-28T00:00:00",
          "2020-02-29T00:00:00",
          "2020-03-01T00:00:00",
          "2020-03-02T00:00:00",
          "2020-03-03T00:00:00",
          "2020-03-04T00:00:00",
          "2020-03-05T00:00:00",
          "2020-03-06T00:00:00",
          "2020-03-07T00:00:00",
          "2020-03-08T00:00:00",
          "2020-03-09T00:00:00",
          "2020-03-10T00:00:00",
          "2020-03-11T00:00:00",
          "2020-03-12T00:00:00",
          "2020-03-13T00:00:00",
          "2020-03-14T00:00:00",
          "2020-03-15T00:00:00",
          "2020-03-16T00:00:00",
          "2020-03-17T00:00:00",
          "2020-03-18T00:00:00",
          "2020-03-19T00:00:00",
          "2020-03-20T00:00:00",
          "2020-03-21T00:00:00",
          "2020-03-22T00:00:00",
          "2020-03-23T00:00:00",
          "2020-03-24T00:00:00",
          "2020-03-25T00:00:00",
          "2020-03-26T00:00:00",
          "2020-03-27T00:00:00",
          "2020-03-28T00:00:00",
          "2020-03-29T00:00:00"
         ],
         "xaxis": "x5",
         "y": [
          -28184.22,
          -10443.03,
          -8791.74,
          -8518.12,
          -8537.52,
          -27.97,
          0.98,
          -25737.07,
          -9609.61,
          -8400.5,
          -6953.86,
          -8673.17,
          -36.56,
          -48.47,
          -23422.65,
          -8961.12,
          -8511.41,
          -9528.67,
          -8092.89,
          -7.98,
          -23.94,
          -25575.78,
          -8494.01,
          -8861.2,
          -9033.55,
          -8600.88,
          -3.35,
          -16.93,
          -26138.28,
          -9740.3,
          -8886.71,
          -9693.52,
          -8436.47,
          -146.33,
          0.95,
          -23724.49,
          -8025.24,
          -8482.91,
          -9879.33,
          -7987.13,
          -117.61,
          -18.96,
          -21663.96,
          -8542.18,
          -8786.62,
          -8516.3,
          -7916.04,
          -87.33,
          -3.99,
          -22806.7,
          -8645.6,
          -8211.73,
          -7272.18,
          -6798.77,
          -227.35,
          -35.9
         ],
         "yaxis": "y5"
        },
        {
         "marker": {
          "color": "#fd994d"
         },
         "name": "",
         "showlegend": false,
         "type": "bar",
         "x": [
          "2020-02-03T00:00:00",
          "2020-02-04T00:00:00",
          "2020-02-05T00:00:00",
          "2020-02-06T00:00:00",
          "2020-02-07T00:00:00",
          "2020-02-08T00:00:00",
          "2020-02-09T00:00:00",
          "2020-02-10T00:00:00",
          "2020-02-11T00:00:00",
          "2020-02-12T00:00:00",
          "2020-02-13T00:00:00",
          "2020-02-14T00:00:00",
          "2020-02-15T00:00:00",
          "2020-02-16T00:00:00",
          "2020-02-17T00:00:00",
          "2020-02-18T00:00:00",
          "2020-02-19T00:00:00",
          "2020-02-20T00:00:00",
          "2020-02-21T00:00:00",
          "2020-02-22T00:00:00",
          "2020-02-23T00:00:00",
          "2020-02-24T00:00:00",
          "2020-02-25T00:00:00",
          "2020-02-26T00:00:00",
          "2020-02-27T00:00:00",
          "2020-02-28T00:00:00",
          "2020-02-29T00:00:00",
          "2020-03-01T00:00:00",
          "2020-03-02T00:00:00",
          "2020-03-03T00:00:00",
          "2020-03-04T00:00:00",
          "2020-03-05T00:00:00",
          "2020-03-06T00:00:00",
          "2020-03-07T00:00:00",
          "2020-03-08T00:00:00",
          "2020-03-09T00:00:00",
          "2020-03-10T00:00:00",
          "2020-03-11T00:00:00",
          "2020-03-12T00:00:00",
          "2020-03-13T00:00:00",
          "2020-03-14T00:00:00",
          "2020-03-15T00:00:00",
          "2020-03-16T00:00:00",
          "2020-03-17T00:00:00",
          "2020-03-18T00:00:00",
          "2020-03-19T00:00:00",
          "2020-03-20T00:00:00",
          "2020-03-21T00:00:00",
          "2020-03-22T00:00:00",
          "2020-03-23T00:00:00",
          "2020-03-24T00:00:00",
          "2020-03-25T00:00:00",
          "2020-03-26T00:00:00",
          "2020-03-27T00:00:00",
          "2020-03-28T00:00:00",
          "2020-03-29T00:00:00"
         ],
         "xaxis": "x6",
         "y": [
          -0.9999999999999991,
          -0.9999999999999991,
          -0.999999999999999,
          -0.999999999999999,
          -0.9999999999999989,
          -0.9999999999999989,
          -0.9999999999999989,
          -0.9999999999999989,
          -0.9999999999999989,
          -0.9999999999999989,
          -0.9999999999999988,
          -0.9999999999999988,
          -0.9999999999999988,
          -0.9999999999999989,
          -0.9999999999999988,
          -0.9999999999999988,
          -0.9999999999999988,
          -0.9999999999999988,
          -0.9999999999999988,
          -0.9999999999999988,
          -0.9999999999999988,
          -0.9999999999999989,
          -0.9999999999999989,
          -0.9999999999999989,
          -0.9999999999999989,
          -0.9999999999999989,
          -0.9999999999999989,
          -0.9999999999999989,
          -0.9999999999999989,
          -0.9999999999999989,
          -0.9999999999999989,
          -0.9999999999999989,
          -0.9999999999999989,
          -0.9999999999999989,
          -0.9999999999999989,
          -0.9999999999999989,
          -0.9999999999999988,
          -0.9999999999999988,
          -0.9999999999999988,
          -0.9999999999999988,
          -0.9999999999999988,
          -0.9999999999999988,
          -0.9999999999999988,
          -0.9999999999999988,
          -0.9999999999999988,
          -0.9999999999999988,
          -0.9999999999999988,
          -0.9999999999999988,
          -0.9999999999999988,
          -0.9999999999999988,
          -0.9999999999999988,
          -0.9999999999999988,
          -0.9999999999999988,
          -0.9999999999999987,
          -0.9999999999999987,
          -0.9999999999999987
         ],
         "yaxis": "y6"
        },
        {
         "marker": {
          "color": "#3f8fc5"
         },
         "name": "Daily Sales Amount",
         "showlegend": false,
         "type": "bar",
         "x": [
          "2020-02-03T00:00:00",
          "2020-02-04T00:00:00",
          "2020-02-05T00:00:00",
          "2020-02-06T00:00:00",
          "2020-02-07T00:00:00",
          "2020-02-08T00:00:00",
          "2020-02-09T00:00:00",
          "2020-02-10T00:00:00",
          "2020-02-11T00:00:00",
          "2020-02-12T00:00:00",
          "2020-02-13T00:00:00",
          "2020-02-14T00:00:00",
          "2020-02-15T00:00:00",
          "2020-02-16T00:00:00",
          "2020-02-17T00:00:00",
          "2020-02-18T00:00:00",
          "2020-02-19T00:00:00",
          "2020-02-20T00:00:00",
          "2020-02-21T00:00:00",
          "2020-02-22T00:00:00",
          "2020-02-23T00:00:00",
          "2020-02-24T00:00:00",
          "2020-02-25T00:00:00",
          "2020-02-26T00:00:00",
          "2020-02-27T00:00:00",
          "2020-02-28T00:00:00",
          "2020-02-29T00:00:00",
          "2020-03-01T00:00:00",
          "2020-03-02T00:00:00",
          "2020-03-03T00:00:00",
          "2020-03-04T00:00:00",
          "2020-03-05T00:00:00",
          "2020-03-06T00:00:00",
          "2020-03-07T00:00:00",
          "2020-03-08T00:00:00",
          "2020-03-09T00:00:00",
          "2020-03-10T00:00:00",
          "2020-03-11T00:00:00",
          "2020-03-12T00:00:00",
          "2020-03-13T00:00:00",
          "2020-03-14T00:00:00",
          "2020-03-15T00:00:00",
          "2020-03-16T00:00:00",
          "2020-03-17T00:00:00",
          "2020-03-18T00:00:00",
          "2020-03-19T00:00:00",
          "2020-03-20T00:00:00",
          "2020-03-21T00:00:00",
          "2020-03-22T00:00:00",
          "2020-03-23T00:00:00",
          "2020-03-24T00:00:00",
          "2020-03-25T00:00:00",
          "2020-03-26T00:00:00",
          "2020-03-27T00:00:00",
          "2020-03-28T00:00:00",
          "2020-03-29T00:00:00"
         ],
         "xaxis": "x7",
         "y": [
          28425.78,
          10517.17,
          9532.95,
          9596.41,
          9374.73,
          2.03,
          -1.04,
          25274.73,
          9637.85,
          8371.21,
          8781.05,
          8449.22,
          -3.79,
          -2.51,
          20764.87,
          8454.46,
          12077.55,
          9762.32,
          9551.84,
          26.87,
          -1.83,
          24973.51,
          9362.37,
          10484.93,
          8390.34,
          9355.03,
          0,
          -0.78,
          26089.45,
          8766.89,
          10628.2,
          8496.63,
          7422.85,
          100.49,
          0,
          23564.35,
          9722.2,
          9845.04,
          9569.03,
          8790.5,
          3.99,
          0,
          25197.49,
          9040.8,
          10050.19,
          9593.85,
          8896.22,
          10.74,
          19.21,
          35377.11,
          19588.56,
          21255.98,
          20275.35,
          21696.16,
          17226.41,
          16234.45
         ],
         "yaxis": "y7"
        },
        {
         "marker": {
          "color": "#fee6da"
         },
         "name": "Daily Sales Difference",
         "showlegend": false,
         "type": "bar",
         "x": [
          "2020-02-03T00:00:00",
          "2020-02-04T00:00:00",
          "2020-02-05T00:00:00",
          "2020-02-06T00:00:00",
          "2020-02-07T00:00:00",
          "2020-02-08T00:00:00",
          "2020-02-09T00:00:00",
          "2020-02-10T00:00:00",
          "2020-02-11T00:00:00",
          "2020-02-12T00:00:00",
          "2020-02-13T00:00:00",
          "2020-02-14T00:00:00",
          "2020-02-15T00:00:00",
          "2020-02-16T00:00:00",
          "2020-02-17T00:00:00",
          "2020-02-18T00:00:00",
          "2020-02-19T00:00:00",
          "2020-02-20T00:00:00",
          "2020-02-21T00:00:00",
          "2020-02-22T00:00:00",
          "2020-02-23T00:00:00",
          "2020-02-24T00:00:00",
          "2020-02-25T00:00:00",
          "2020-02-26T00:00:00",
          "2020-02-27T00:00:00",
          "2020-02-28T00:00:00",
          "2020-02-29T00:00:00",
          "2020-03-01T00:00:00",
          "2020-03-02T00:00:00",
          "2020-03-03T00:00:00",
          "2020-03-04T00:00:00",
          "2020-03-05T00:00:00",
          "2020-03-06T00:00:00",
          "2020-03-07T00:00:00",
          "2020-03-08T00:00:00",
          "2020-03-09T00:00:00",
          "2020-03-10T00:00:00",
          "2020-03-11T00:00:00",
          "2020-03-12T00:00:00",
          "2020-03-13T00:00:00",
          "2020-03-14T00:00:00",
          "2020-03-15T00:00:00",
          "2020-03-16T00:00:00",
          "2020-03-17T00:00:00",
          "2020-03-18T00:00:00",
          "2020-03-19T00:00:00",
          "2020-03-20T00:00:00",
          "2020-03-21T00:00:00",
          "2020-03-22T00:00:00",
          "2020-03-23T00:00:00",
          "2020-03-24T00:00:00",
          "2020-03-25T00:00:00",
          "2020-03-26T00:00:00",
          "2020-03-27T00:00:00",
          "2020-03-28T00:00:00",
          "2020-03-29T00:00:00"
         ],
         "xaxis": "x7",
         "y": [
          -248.20000000000073,
          1138.9500000000007,
          87.59000000000015,
          -24.100000000000364,
          896.6000000000004,
          2.65,
          -1.04,
          -569.8400000000001,
          243.72000000000116,
          -336.84000000000015,
          987.869999999999,
          -206.6200000000008,
          -11.920000000000002,
          -5.859999999999999,
          198.39999999999782,
          -1365.5200000000004,
          4464.869999999999,
          1116.2399999999998,
          1544.0900000000001,
          -13.02,
          -12.47,
          1862.1299999999974,
          1626.1500000000005,
          3705.1400000000003,
          48.649999999999636,
          689.8400000000001,
          -39.06,
          -35.93,
          2091.420000000002,
          -591.2200000000012,
          4305.010000000001,
          -2150.870000000001,
          -2313.01,
          83.61,
          0,
          1401.0999999999985,
          956.8200000000015,
          1594.1600000000017,
          1721.050000000001,
          1975.2700000000004,
          8.34,
          0,
          5363.91,
          1037.749999999999,
          3279.3500000000004,
          2457.5300000000007,
          2201.949999999999,
          16.25,
          -1.509999999999998,
          14954.48,
          11421.530000000002,
          13375.99,
          12964.829999999998,
          13893.71,
          17185.89,
          16237.27
         ],
         "yaxis": "y7"
        },
        {
         "marker": {
          "color": "#fd994d"
         },
         "name": "",
         "showlegend": false,
         "type": "bar",
         "x": [
          "2020-02-03T00:00:00",
          "2020-02-04T00:00:00",
          "2020-02-05T00:00:00",
          "2020-02-06T00:00:00",
          "2020-02-07T00:00:00",
          "2020-02-08T00:00:00",
          "2020-02-09T00:00:00",
          "2020-02-10T00:00:00",
          "2020-02-11T00:00:00",
          "2020-02-12T00:00:00",
          "2020-02-13T00:00:00",
          "2020-02-14T00:00:00",
          "2020-02-15T00:00:00",
          "2020-02-16T00:00:00",
          "2020-02-17T00:00:00",
          "2020-02-18T00:00:00",
          "2020-02-19T00:00:00",
          "2020-02-20T00:00:00",
          "2020-02-21T00:00:00",
          "2020-02-22T00:00:00",
          "2020-02-23T00:00:00",
          "2020-02-24T00:00:00",
          "2020-02-25T00:00:00",
          "2020-02-26T00:00:00",
          "2020-02-27T00:00:00",
          "2020-02-28T00:00:00",
          "2020-02-29T00:00:00",
          "2020-03-01T00:00:00",
          "2020-03-02T00:00:00",
          "2020-03-03T00:00:00",
          "2020-03-04T00:00:00",
          "2020-03-05T00:00:00",
          "2020-03-06T00:00:00",
          "2020-03-07T00:00:00",
          "2020-03-08T00:00:00",
          "2020-03-09T00:00:00",
          "2020-03-10T00:00:00",
          "2020-03-11T00:00:00",
          "2020-03-12T00:00:00",
          "2020-03-13T00:00:00",
          "2020-03-14T00:00:00",
          "2020-03-15T00:00:00",
          "2020-03-16T00:00:00",
          "2020-03-17T00:00:00",
          "2020-03-18T00:00:00",
          "2020-03-19T00:00:00",
          "2020-03-20T00:00:00",
          "2020-03-21T00:00:00",
          "2020-03-22T00:00:00",
          "2020-03-23T00:00:00",
          "2020-03-24T00:00:00",
          "2020-03-25T00:00:00",
          "2020-03-26T00:00:00",
          "2020-03-27T00:00:00",
          "2020-03-28T00:00:00",
          "2020-03-29T00:00:00"
         ],
         "xaxis": "x8",
         "y": [
          0.020979021946333942,
          0.045421147474781653,
          0.01470363271513353,
          0.009778033805128539,
          0.023323905838769754,
          0.02811988246769137,
          0.02824046986092732,
          0.024389093678968132,
          0.010123589406404454,
          0.003403187730409263,
          0.020311723646837976,
          0.001985258750082597,
          0.0017437615783093552,
          0.0016638731278124652,
          0.015758450837715765,
          -0.013328953289532097,
          0.07457303694498196,
          0.07574395891853158,
          0.108668450641771,
          0.10858523992526092,
          0.10844993619237187,
          0.13269052060843722,
          0.19193436230164895,
          0.18089349229502139,
          0.16215247237695918,
          0.14458167534671484,
          0.14410767908767452,
          0.1436142989167315,
          0.14544817144955013,
          0.10257157747817036,
          0.11396515388716333,
          0.07227801740520823,
          0.021057620196585525,
          0.023105988017577683,
          0.023717546580310778,
          0.01261263024555559,
          0.03959372830736729,
          -0.0071868378098258745,
          0.060650159395268854,
          0.14355862278962417,
          0.14221715850609984,
          0.14221715850609984,
          0.22558422169458825,
          0.23056782189543856,
          0.2717001652041062,
          0.2908504990354175,
          0.29625709036123826,
          0.2964275058818917,
          0.29626958097977707,
          0.48826809172159846,
          0.6976663557308713,
          0.8829538441969609,
          1.088015464555606,
          1.2912418991263772,
          1.6225533877599378,
          1.9378744649393878
         ],
         "yaxis": "y8"
        },
        {
         "marker": {
          "color": "#3f8fc5"
         },
         "name": "Daily Sales Amount",
         "showlegend": false,
         "type": "bar",
         "x": [
          "2020-02-03T00:00:00",
          "2020-02-04T00:00:00",
          "2020-02-05T00:00:00",
          "2020-02-06T00:00:00",
          "2020-02-07T00:00:00",
          "2020-02-08T00:00:00",
          "2020-02-09T00:00:00",
          "2020-02-10T00:00:00",
          "2020-02-11T00:00:00",
          "2020-02-12T00:00:00",
          "2020-02-13T00:00:00",
          "2020-02-14T00:00:00",
          "2020-02-15T00:00:00",
          "2020-02-16T00:00:00",
          "2020-02-17T00:00:00",
          "2020-02-18T00:00:00",
          "2020-02-19T00:00:00",
          "2020-02-20T00:00:00",
          "2020-02-21T00:00:00",
          "2020-02-22T00:00:00",
          "2020-02-23T00:00:00",
          "2020-02-24T00:00:00",
          "2020-02-25T00:00:00",
          "2020-02-26T00:00:00",
          "2020-02-27T00:00:00",
          "2020-02-28T00:00:00",
          "2020-02-29T00:00:00",
          "2020-03-01T00:00:00",
          "2020-03-02T00:00:00",
          "2020-03-03T00:00:00",
          "2020-03-04T00:00:00",
          "2020-03-05T00:00:00",
          "2020-03-06T00:00:00",
          "2020-03-07T00:00:00",
          "2020-03-08T00:00:00",
          "2020-03-09T00:00:00",
          "2020-03-10T00:00:00",
          "2020-03-11T00:00:00",
          "2020-03-12T00:00:00",
          "2020-03-13T00:00:00",
          "2020-03-14T00:00:00",
          "2020-03-15T00:00:00",
          "2020-03-16T00:00:00",
          "2020-03-17T00:00:00",
          "2020-03-18T00:00:00",
          "2020-03-19T00:00:00",
          "2020-03-20T00:00:00",
          "2020-03-21T00:00:00",
          "2020-03-22T00:00:00",
          "2020-03-23T00:00:00",
          "2020-03-24T00:00:00",
          "2020-03-25T00:00:00",
          "2020-03-26T00:00:00",
          "2020-03-27T00:00:00",
          "2020-03-28T00:00:00",
          "2020-03-29T00:00:00"
         ],
         "xaxis": "x9",
         "y": [
          31889.1,
          10895.73,
          13252.7,
          11231.99,
          9625.28,
          1.51,
          -2.58,
          27566.61,
          9064.2,
          10615.18,
          9914.88,
          9137.2,
          14.97,
          7.98,
          27475.3,
          10728.95,
          10792.52,
          9832.32,
          10578.38,
          21.86,
          8.99,
          25785.37,
          9495.19,
          10474.55,
          8909.02,
          9008.88,
          -0.98,
          0,
          28523.84,
          10413.18,
          10172.29,
          8858.58,
          8559.31,
          34.9,
          13.98,
          25803.97,
          9190.29,
          11177.35,
          9044.17,
          11671.71,
          -2.94,
          11.97,
          27179.9,
          9302.9,
          10963.09,
          11170.7,
          10553.27,
          31.72,
          16.98,
          40607.91,
          21709.53,
          24371.32,
          22676.6,
          24050.87,
          24519.2,
          21385.74
         ],
         "yaxis": "y9"
        },
        {
         "marker": {
          "color": "#fee6da"
         },
         "name": "Daily Sales Difference",
         "showlegend": false,
         "type": "bar",
         "x": [
          "2020-02-03T00:00:00",
          "2020-02-04T00:00:00",
          "2020-02-05T00:00:00",
          "2020-02-06T00:00:00",
          "2020-02-07T00:00:00",
          "2020-02-08T00:00:00",
          "2020-02-09T00:00:00",
          "2020-02-10T00:00:00",
          "2020-02-11T00:00:00",
          "2020-02-12T00:00:00",
          "2020-02-13T00:00:00",
          "2020-02-14T00:00:00",
          "2020-02-15T00:00:00",
          "2020-02-16T00:00:00",
          "2020-02-17T00:00:00",
          "2020-02-18T00:00:00",
          "2020-02-19T00:00:00",
          "2020-02-20T00:00:00",
          "2020-02-21T00:00:00",
          "2020-02-22T00:00:00",
          "2020-02-23T00:00:00",
          "2020-02-24T00:00:00",
          "2020-02-25T00:00:00",
          "2020-02-26T00:00:00",
          "2020-02-27T00:00:00",
          "2020-02-28T00:00:00",
          "2020-02-29T00:00:00",
          "2020-03-01T00:00:00",
          "2020-03-02T00:00:00",
          "2020-03-03T00:00:00",
          "2020-03-04T00:00:00",
          "2020-03-05T00:00:00",
          "2020-03-06T00:00:00",
          "2020-03-07T00:00:00",
          "2020-03-08T00:00:00",
          "2020-03-09T00:00:00",
          "2020-03-10T00:00:00",
          "2020-03-11T00:00:00",
          "2020-03-12T00:00:00",
          "2020-03-13T00:00:00",
          "2020-03-14T00:00:00",
          "2020-03-15T00:00:00",
          "2020-03-16T00:00:00",
          "2020-03-17T00:00:00",
          "2020-03-18T00:00:00",
          "2020-03-19T00:00:00",
          "2020-03-20T00:00:00",
          "2020-03-21T00:00:00",
          "2020-03-22T00:00:00",
          "2020-03-23T00:00:00",
          "2020-03-24T00:00:00",
          "2020-03-25T00:00:00",
          "2020-03-26T00:00:00",
          "2020-03-27T00:00:00",
          "2020-03-28T00:00:00",
          "2020-03-29T00:00:00"
         ],
         "xaxis": "x9",
         "y": [
          5471.98,
          344.4599999999991,
          4722.41,
          2535.289999999999,
          593.7200000000012,
          -5.680000000000001,
          -2.58,
          2838.9300000000003,
          109.86000000000058,
          1189.2800000000007,
          2344.6099999999988,
          1131.0100000000011,
          -186.64000000000001,
          -32.94,
          6245.7199999999975,
          2342.34,
          2019.8700000000008,
          1461.0100000000002,
          2412.7999999999993,
          -128.14999999999998,
          -15.999999999999998,
          2823.5699999999997,
          557.3999999999996,
          2274.3599999999988,
          590.8199999999997,
          617.4399999999987,
          -7.039999999999999,
          4.67,
          3155,
          857.5699999999997,
          790.5800000000017,
          -423.0100000000002,
          955.2599999999993,
          -70.71000000000001,
          13.98,
          1883.4700000000012,
          323.880000000001,
          3086.96,
          1246.5100000000002,
          4518.709999999999,
          -141.82999999999998,
          11.97,
          6477.34,
          -234.0599999999995,
          3804.2300000000005,
          2944.8600000000006,
          3352.13,
          -3.530000000000001,
          -130.39000000000001,
          19492.960000000003,
          13394.97,
          16688.13,
          15056.559999999998,
          15686.199999999999,
          24511.82,
          21369.780000000002
         ],
         "yaxis": "y9"
        },
        {
         "marker": {
          "color": "#fd994d"
         },
         "name": "",
         "showlegend": false,
         "type": "bar",
         "x": [
          "2020-02-03T00:00:00",
          "2020-02-04T00:00:00",
          "2020-02-05T00:00:00",
          "2020-02-06T00:00:00",
          "2020-02-07T00:00:00",
          "2020-02-08T00:00:00",
          "2020-02-09T00:00:00",
          "2020-02-10T00:00:00",
          "2020-02-11T00:00:00",
          "2020-02-12T00:00:00",
          "2020-02-13T00:00:00",
          "2020-02-14T00:00:00",
          "2020-02-15T00:00:00",
          "2020-02-16T00:00:00",
          "2020-02-17T00:00:00",
          "2020-02-18T00:00:00",
          "2020-02-19T00:00:00",
          "2020-02-20T00:00:00",
          "2020-02-21T00:00:00",
          "2020-02-22T00:00:00",
          "2020-02-23T00:00:00",
          "2020-02-24T00:00:00",
          "2020-02-25T00:00:00",
          "2020-02-26T00:00:00",
          "2020-02-27T00:00:00",
          "2020-02-28T00:00:00",
          "2020-02-29T00:00:00",
          "2020-03-01T00:00:00",
          "2020-03-02T00:00:00",
          "2020-03-03T00:00:00",
          "2020-03-04T00:00:00",
          "2020-03-05T00:00:00",
          "2020-03-06T00:00:00",
          "2020-03-07T00:00:00",
          "2020-03-08T00:00:00",
          "2020-03-09T00:00:00",
          "2020-03-10T00:00:00",
          "2020-03-11T00:00:00",
          "2020-03-12T00:00:00",
          "2020-03-13T00:00:00",
          "2020-03-14T00:00:00",
          "2020-03-15T00:00:00",
          "2020-03-16T00:00:00",
          "2020-03-17T00:00:00",
          "2020-03-18T00:00:00",
          "2020-03-19T00:00:00",
          "2020-03-20T00:00:00",
          "2020-03-21T00:00:00",
          "2020-03-22T00:00:00",
          "2020-03-23T00:00:00",
          "2020-03-24T00:00:00",
          "2020-03-25T00:00:00",
          "2020-03-26T00:00:00",
          "2020-03-27T00:00:00",
          "2020-03-28T00:00:00",
          "2020-03-29T00:00:00"
         ],
         "xaxis": "x10",
         "y": [
          0.10986223402531103,
          0.12764462126312237,
          0.17415340226892906,
          0.2342314570491788,
          0.21567978588390124,
          0.21596909928905927,
          0.21601625577832695,
          0.1791633039341003,
          0.1800225729868803,
          0.11930338506890692,
          0.11836071975556672,
          0.12958300485061125,
          0.12608211223076982,
          0.12547934381762071,
          0.19486075923333002,
          0.2375706056096598,
          0.2557558566723661,
          0.23596867196144933,
          0.25852111340832584,
          0.25982434349251227,
          0.26020689744037906,
          0.1920618232908904,
          0.15911193565189574,
          0.16519475664066952,
          0.15001790038366036,
          0.11791714296644606,
          0.12034647144895194,
          0.12077314159048269,
          0.12146084330991469,
          0.12522329907896146,
          0.09848110016210265,
          0.08059314707929555,
          0.08715071072451108,
          0.08597037756837134,
          0.08611571027226139,
          0.06695408967925509,
          0.05871294172891206,
          0.09970579874560537,
          0.1319393479995079,
          0.1967119209447925,
          0.19532419637696274,
          0.19528828225994532,
          0.29429119957170746,
          0.2801525885885032,
          0.2987900265832546,
          0.32846745537417665,
          0.3061431059629849,
          0.3093596536248828,
          0.3058139548045409,
          0.5470984195729083,
          0.8210133459213074,
          1.05722113792456,
          1.3019068816977355,
          1.5049709994532674,
          1.9661221253748224,
          2.375727375837128
         ],
         "yaxis": "y10"
        },
        {
         "marker": {
          "color": "#3f8fc5"
         },
         "name": "Daily Sales Amount",
         "showlegend": false,
         "type": "bar",
         "x": [
          "2020-02-03T00:00:00",
          "2020-02-04T00:00:00",
          "2020-02-05T00:00:00",
          "2020-02-06T00:00:00",
          "2020-02-07T00:00:00",
          "2020-02-08T00:00:00",
          "2020-02-09T00:00:00",
          "2020-02-10T00:00:00",
          "2020-02-11T00:00:00",
          "2020-02-12T00:00:00",
          "2020-02-13T00:00:00",
          "2020-02-14T00:00:00",
          "2020-02-15T00:00:00",
          "2020-02-16T00:00:00",
          "2020-02-17T00:00:00",
          "2020-02-18T00:00:00",
          "2020-02-19T00:00:00",
          "2020-02-20T00:00:00",
          "2020-02-21T00:00:00",
          "2020-02-22T00:00:00",
          "2020-02-23T00:00:00",
          "2020-02-24T00:00:00",
          "2020-02-25T00:00:00",
          "2020-02-26T00:00:00",
          "2020-02-27T00:00:00",
          "2020-02-28T00:00:00",
          "2020-02-29T00:00:00",
          "2020-03-01T00:00:00",
          "2020-03-02T00:00:00",
          "2020-03-03T00:00:00",
          "2020-03-04T00:00:00",
          "2020-03-05T00:00:00",
          "2020-03-06T00:00:00",
          "2020-03-07T00:00:00",
          "2020-03-08T00:00:00",
          "2020-03-09T00:00:00",
          "2020-03-10T00:00:00",
          "2020-03-11T00:00:00",
          "2020-03-12T00:00:00",
          "2020-03-13T00:00:00",
          "2020-03-14T00:00:00",
          "2020-03-15T00:00:00",
          "2020-03-16T00:00:00",
          "2020-03-17T00:00:00",
          "2020-03-18T00:00:00",
          "2020-03-19T00:00:00",
          "2020-03-20T00:00:00",
          "2020-03-21T00:00:00",
          "2020-03-22T00:00:00",
          "2020-03-23T00:00:00",
          "2020-03-24T00:00:00",
          "2020-03-25T00:00:00",
          "2020-03-26T00:00:00",
          "2020-03-27T00:00:00",
          "2020-03-28T00:00:00",
          "2020-03-29T00:00:00"
         ],
         "xaxis": "x11",
         "y": [
          26641.21,
          9951.34,
          9517.92,
          9280.28,
          8142.02,
          -2.1,
          24.59,
          25187.01,
          9679.39,
          10059.88,
          8202.33,
          7197.78,
          -0.81,
          16.78,
          22904.99,
          10480.77,
          8214.11,
          8564.47,
          7884.15,
          3.99,
          0,
          23815.43,
          9019.72,
          7911.16,
          9512.61,
          8749.08,
          0,
          0,
          24994.83,
          9296.38,
          8824.39,
          8217.11,
          10638.64,
          -0.88,
          7.21,
          26362.97,
          8677.54,
          10235.08,
          8331.77,
          7555.52,
          109.02,
          3.03,
          25695.35,
          5648.93,
          9263.43,
          8729.12,
          8191.53,
          -4.86,
          14.08,
          32291.19,
          15031.69,
          12955.9,
          13089.8,
          15521.48,
          11415.03,
          8878.78
         ],
         "yaxis": "y11"
        },
        {
         "marker": {
          "color": "#fee6da"
         },
         "name": "Daily Sales Difference",
         "showlegend": false,
         "type": "bar",
         "x": [
          "2020-02-03T00:00:00",
          "2020-02-04T00:00:00",
          "2020-02-05T00:00:00",
          "2020-02-06T00:00:00",
          "2020-02-07T00:00:00",
          "2020-02-08T00:00:00",
          "2020-02-09T00:00:00",
          "2020-02-10T00:00:00",
          "2020-02-11T00:00:00",
          "2020-02-12T00:00:00",
          "2020-02-13T00:00:00",
          "2020-02-14T00:00:00",
          "2020-02-15T00:00:00",
          "2020-02-16T00:00:00",
          "2020-02-17T00:00:00",
          "2020-02-18T00:00:00",
          "2020-02-19T00:00:00",
          "2020-02-20T00:00:00",
          "2020-02-21T00:00:00",
          "2020-02-22T00:00:00",
          "2020-02-23T00:00:00",
          "2020-02-24T00:00:00",
          "2020-02-25T00:00:00",
          "2020-02-26T00:00:00",
          "2020-02-27T00:00:00",
          "2020-02-28T00:00:00",
          "2020-02-29T00:00:00",
          "2020-03-01T00:00:00",
          "2020-03-02T00:00:00",
          "2020-03-03T00:00:00",
          "2020-03-04T00:00:00",
          "2020-03-05T00:00:00",
          "2020-03-06T00:00:00",
          "2020-03-07T00:00:00",
          "2020-03-08T00:00:00",
          "2020-03-09T00:00:00",
          "2020-03-10T00:00:00",
          "2020-03-11T00:00:00",
          "2020-03-12T00:00:00",
          "2020-03-13T00:00:00",
          "2020-03-14T00:00:00",
          "2020-03-15T00:00:00",
          "2020-03-16T00:00:00",
          "2020-03-17T00:00:00",
          "2020-03-18T00:00:00",
          "2020-03-19T00:00:00",
          "2020-03-20T00:00:00",
          "2020-03-21T00:00:00",
          "2020-03-22T00:00:00",
          "2020-03-23T00:00:00",
          "2020-03-24T00:00:00",
          "2020-03-25T00:00:00",
          "2020-03-26T00:00:00",
          "2020-03-27T00:00:00",
          "2020-03-28T00:00:00",
          "2020-03-29T00:00:00"
         ],
         "xaxis": "x11",
         "y": [
          3863.9199999999983,
          1290.33,
          1250.4799999999996,
          1811.590000000001,
          739.3000000000002,
          -22.060000000000002,
          21.43,
          2400,
          2264.1099999999997,
          2639.079999999999,
          625.8999999999996,
          -779.4200000000001,
          -4.800000000000001,
          12.790000000000001,
          2044.0600000000013,
          1742.0900000000001,
          462.7900000000009,
          431.84999999999945,
          829.5599999999995,
          -219.32999999999998,
          -46.92,
          1545.4000000000015,
          403.84999999999854,
          242.47000000000025,
          2130.6500000000005,
          1478.7799999999997,
          -13.57,
          0,
          3296.09,
          1113.449999999999,
          -389.0100000000002,
          715.8100000000004,
          3477.1099999999997,
          -27.86,
          7.21,
          7131.760000000002,
          1609.6100000000006,
          2018.7999999999993,
          1530.2900000000009,
          462.0100000000002,
          109.92,
          3.03,
          7555.049999999999,
          -1483.12,
          2376.6500000000005,
          1924.550000000001,
          1226.6799999999994,
          -15.760000000000002,
          -34.230000000000004,
          14108.32,
          8783.73,
          5268.7699999999995,
          6199.869999999999,
          9419.029999999999,
          11146.12,
          8773.42
         ],
         "yaxis": "y11"
        },
        {
         "marker": {
          "color": "#fd994d"
         },
         "name": "",
         "showlegend": false,
         "type": "bar",
         "x": [
          "2020-02-03T00:00:00",
          "2020-02-04T00:00:00",
          "2020-02-05T00:00:00",
          "2020-02-06T00:00:00",
          "2020-02-07T00:00:00",
          "2020-02-08T00:00:00",
          "2020-02-09T00:00:00",
          "2020-02-10T00:00:00",
          "2020-02-11T00:00:00",
          "2020-02-12T00:00:00",
          "2020-02-13T00:00:00",
          "2020-02-14T00:00:00",
          "2020-02-15T00:00:00",
          "2020-02-16T00:00:00",
          "2020-02-17T00:00:00",
          "2020-02-18T00:00:00",
          "2020-02-19T00:00:00",
          "2020-02-20T00:00:00",
          "2020-02-21T00:00:00",
          "2020-02-22T00:00:00",
          "2020-02-23T00:00:00",
          "2020-02-24T00:00:00",
          "2020-02-25T00:00:00",
          "2020-02-26T00:00:00",
          "2020-02-27T00:00:00",
          "2020-02-28T00:00:00",
          "2020-02-29T00:00:00",
          "2020-03-01T00:00:00",
          "2020-03-02T00:00:00",
          "2020-03-03T00:00:00",
          "2020-03-04T00:00:00",
          "2020-03-05T00:00:00",
          "2020-03-06T00:00:00",
          "2020-03-07T00:00:00",
          "2020-03-08T00:00:00",
          "2020-03-09T00:00:00",
          "2020-03-10T00:00:00",
          "2020-03-11T00:00:00",
          "2020-03-12T00:00:00",
          "2020-03-13T00:00:00",
          "2020-03-14T00:00:00",
          "2020-03-15T00:00:00",
          "2020-03-16T00:00:00",
          "2020-03-17T00:00:00",
          "2020-03-18T00:00:00",
          "2020-03-19T00:00:00",
          "2020-03-20T00:00:00",
          "2020-03-21T00:00:00",
          "2020-03-22T00:00:00",
          "2020-03-23T00:00:00",
          "2020-03-24T00:00:00",
          "2020-03-25T00:00:00",
          "2020-03-26T00:00:00",
          "2020-03-27T00:00:00",
          "2020-03-28T00:00:00",
          "2020-03-29T00:00:00"
         ],
         "xaxis": "x12",
         "y": [
          0.13117258719268876,
          0.08483576827399486,
          0.06314168011054155,
          0.12937903347426016,
          0.158855216300672,
          0.16361501874504292,
          0.164009994822369,
          0.13717398593187702,
          0.15862395543384178,
          0.1876217924574639,
          0.1647069017675118,
          0.13438085528076704,
          0.1347457415189972,
          0.13458118594257296,
          0.13269416929289068,
          0.11942675462068508,
          0.07755080364692324,
          0.07311488415752465,
          0.10501898142051114,
          0.10051672069507522,
          0.09930431495910219,
          0.08752601559496997,
          0.06298587273015932,
          0.059003140781202834,
          0.09173025558106018,
          0.10350039615094908,
          0.10777072780431607,
          0.10874735674765357,
          0.1431793839708262,
          0.15795618178959359,
          0.14167154939742344,
          0.11509878203957413,
          0.15249499409259104,
          0.1521912849856677,
          0.15232533752980282,
          0.23439382586980684,
          0.24948294253157344,
          0.3034726186626895,
          0.32464255018151444,
          0.26285107434566424,
          0.2658485904938912,
          0.2657622438235778,
          0.28083480914481695,
          0.215183509937799,
          0.2291659519138931,
          0.23771096729199437,
          0.25502632945513093,
          0.2522250484061075,
          0.25114987118311394,
          0.3932861224327515,
          0.6284009476758192,
          0.6804000035693614,
          0.7720155240001778,
          0.9681241013027577,
          1.2083327830066146,
          1.4004574294470142
         ],
         "yaxis": "y12"
        },
        {
         "marker": {
          "color": "#3f8fc5"
         },
         "name": "Daily Sales Amount",
         "showlegend": false,
         "type": "bar",
         "x": [
          "2020-02-03T00:00:00",
          "2020-02-04T00:00:00",
          "2020-02-05T00:00:00",
          "2020-02-06T00:00:00",
          "2020-02-07T00:00:00",
          "2020-02-08T00:00:00",
          "2020-02-09T00:00:00",
          "2020-02-10T00:00:00",
          "2020-02-11T00:00:00",
          "2020-02-12T00:00:00",
          "2020-02-13T00:00:00",
          "2020-02-14T00:00:00",
          "2020-02-15T00:00:00",
          "2020-02-16T00:00:00",
          "2020-02-17T00:00:00",
          "2020-02-18T00:00:00",
          "2020-02-19T00:00:00",
          "2020-02-20T00:00:00",
          "2020-02-21T00:00:00",
          "2020-02-22T00:00:00",
          "2020-02-23T00:00:00",
          "2020-02-24T00:00:00",
          "2020-02-25T00:00:00",
          "2020-02-26T00:00:00",
          "2020-02-27T00:00:00",
          "2020-02-28T00:00:00",
          "2020-02-29T00:00:00",
          "2020-03-01T00:00:00",
          "2020-03-02T00:00:00",
          "2020-03-03T00:00:00",
          "2020-03-04T00:00:00",
          "2020-03-05T00:00:00",
          "2020-03-06T00:00:00",
          "2020-03-07T00:00:00",
          "2020-03-08T00:00:00",
          "2020-03-09T00:00:00",
          "2020-03-10T00:00:00",
          "2020-03-11T00:00:00",
          "2020-03-12T00:00:00",
          "2020-03-13T00:00:00",
          "2020-03-14T00:00:00",
          "2020-03-15T00:00:00",
          "2020-03-16T00:00:00",
          "2020-03-17T00:00:00",
          "2020-03-18T00:00:00",
          "2020-03-19T00:00:00",
          "2020-03-20T00:00:00",
          "2020-03-21T00:00:00",
          "2020-03-22T00:00:00",
          "2020-03-23T00:00:00",
          "2020-03-24T00:00:00",
          "2020-03-25T00:00:00",
          "2020-03-26T00:00:00",
          "2020-03-27T00:00:00",
          "2020-03-28T00:00:00",
          "2020-03-29T00:00:00"
         ],
         "xaxis": "x13",
         "y": [
          7795.17,
          3240.13,
          2485.8,
          2573.72,
          2223.18,
          -1.23,
          2.01,
          6655.96,
          3081,
          1996.38,
          2481.63,
          2462.1,
          0,
          11.97,
          7500.15,
          2852.85,
          2656.91,
          2613.15,
          2349.29,
          -0.95,
          0,
          6491.68,
          2348.82,
          2349.74,
          2542.86,
          2227.4,
          -2.44,
          0,
          6305.06,
          2196.14,
          2317.81,
          2140.86,
          2560.22,
          0,
          -0.72,
          6017.03,
          2540.72,
          2112.05,
          1812.38,
          2053.01,
          0,
          0,
          5535.55,
          2122.59,
          1787.11,
          715.7,
          3340.78,
          0,
          0,
          7524.7,
          3273.84,
          3510.26,
          3072.74,
          3212.42,
          8.53,
          0
         ],
         "yaxis": "y13"
        },
        {
         "marker": {
          "color": "#fee6da"
         },
         "name": "Daily Sales Difference",
         "showlegend": false,
         "type": "bar",
         "x": [
          "2020-02-03T00:00:00",
          "2020-02-04T00:00:00",
          "2020-02-05T00:00:00",
          "2020-02-06T00:00:00",
          "2020-02-07T00:00:00",
          "2020-02-08T00:00:00",
          "2020-02-09T00:00:00",
          "2020-02-10T00:00:00",
          "2020-02-11T00:00:00",
          "2020-02-12T00:00:00",
          "2020-02-13T00:00:00",
          "2020-02-14T00:00:00",
          "2020-02-15T00:00:00",
          "2020-02-16T00:00:00",
          "2020-02-17T00:00:00",
          "2020-02-18T00:00:00",
          "2020-02-19T00:00:00",
          "2020-02-20T00:00:00",
          "2020-02-21T00:00:00",
          "2020-02-22T00:00:00",
          "2020-02-23T00:00:00",
          "2020-02-24T00:00:00",
          "2020-02-25T00:00:00",
          "2020-02-26T00:00:00",
          "2020-02-27T00:00:00",
          "2020-02-28T00:00:00",
          "2020-02-29T00:00:00",
          "2020-03-01T00:00:00",
          "2020-03-02T00:00:00",
          "2020-03-03T00:00:00",
          "2020-03-04T00:00:00",
          "2020-03-05T00:00:00",
          "2020-03-06T00:00:00",
          "2020-03-07T00:00:00",
          "2020-03-08T00:00:00",
          "2020-03-09T00:00:00",
          "2020-03-10T00:00:00",
          "2020-03-11T00:00:00",
          "2020-03-12T00:00:00",
          "2020-03-13T00:00:00",
          "2020-03-14T00:00:00",
          "2020-03-15T00:00:00",
          "2020-03-16T00:00:00",
          "2020-03-17T00:00:00",
          "2020-03-18T00:00:00",
          "2020-03-19T00:00:00",
          "2020-03-20T00:00:00",
          "2020-03-21T00:00:00",
          "2020-03-22T00:00:00",
          "2020-03-23T00:00:00",
          "2020-03-24T00:00:00",
          "2020-03-25T00:00:00",
          "2020-03-26T00:00:00",
          "2020-03-27T00:00:00",
          "2020-03-28T00:00:00",
          "2020-03-29T00:00:00"
         ],
         "xaxis": "x13",
         "y": [
          3988.9700000000003,
          1794.0200000000002,
          1240.2200000000003,
          1403.6499999999999,
          1125.6899999999998,
          -1.23,
          2.01,
          2653.21,
          1394.69,
          1032.14,
          1436.8300000000002,
          1567.73,
          0,
          11.97,
          4594.849999999999,
          1591.98,
          993.1999999999998,
          919.74,
          1108.6499999999999,
          -0.95,
          0,
          2753.2000000000003,
          1072.3600000000001,
          1155.8099999999997,
          1416.5500000000002,
          1093.66,
          -2.44,
          0,
          2539.6800000000003,
          633.8199999999999,
          926.3799999999999,
          462.82000000000016,
          1447.0899999999997,
          0,
          -0.72,
          2392.5499999999997,
          1402.2499999999998,
          1043.4300000000003,
          567.2700000000002,
          811.7400000000002,
          0.86,
          0,
          2867.2400000000002,
          917.2500000000002,
          743.74,
          -570.1699999999998,
          2380.05,
          -3.99,
          -7.98,
          4356.139999999999,
          1973.21,
          2207.33,
          1782.5499999999997,
          1938.52,
          8.53,
          0
         ],
         "yaxis": "y13"
        },
        {
         "marker": {
          "color": "#fd994d"
         },
         "name": "",
         "showlegend": false,
         "type": "bar",
         "x": [
          "2020-02-03T00:00:00",
          "2020-02-04T00:00:00",
          "2020-02-05T00:00:00",
          "2020-02-06T00:00:00",
          "2020-02-07T00:00:00",
          "2020-02-08T00:00:00",
          "2020-02-09T00:00:00",
          "2020-02-10T00:00:00",
          "2020-02-11T00:00:00",
          "2020-02-12T00:00:00",
          "2020-02-13T00:00:00",
          "2020-02-14T00:00:00",
          "2020-02-15T00:00:00",
          "2020-02-16T00:00:00",
          "2020-02-17T00:00:00",
          "2020-02-18T00:00:00",
          "2020-02-19T00:00:00",
          "2020-02-20T00:00:00",
          "2020-02-21T00:00:00",
          "2020-02-22T00:00:00",
          "2020-02-23T00:00:00",
          "2020-02-24T00:00:00",
          "2020-02-25T00:00:00",
          "2020-02-26T00:00:00",
          "2020-02-27T00:00:00",
          "2020-02-28T00:00:00",
          "2020-02-29T00:00:00",
          "2020-03-01T00:00:00",
          "2020-03-02T00:00:00",
          "2020-03-03T00:00:00",
          "2020-03-04T00:00:00",
          "2020-03-05T00:00:00",
          "2020-03-06T00:00:00",
          "2020-03-07T00:00:00",
          "2020-03-08T00:00:00",
          "2020-03-09T00:00:00",
          "2020-03-10T00:00:00",
          "2020-03-11T00:00:00",
          "2020-03-12T00:00:00",
          "2020-03-13T00:00:00",
          "2020-03-14T00:00:00",
          "2020-03-15T00:00:00",
          "2020-03-16T00:00:00",
          "2020-03-17T00:00:00",
          "2020-03-18T00:00:00",
          "2020-03-19T00:00:00",
          "2020-03-20T00:00:00",
          "2020-03-21T00:00:00",
          "2020-03-22T00:00:00",
          "2020-03-23T00:00:00",
          "2020-03-24T00:00:00",
          "2020-03-25T00:00:00",
          "2020-03-26T00:00:00",
          "2020-03-27T00:00:00",
          "2020-03-28T00:00:00",
          "2020-03-29T00:00:00"
         ],
         "xaxis": "x14",
         "y": [
          0.8277368213020422,
          0.9118184622503291,
          0.9519466907171898,
          0.9423598733808429,
          1.08979573210731,
          1.0896554084502243,
          1.089884717841071,
          0.9169348359741147,
          0.8496055291126052,
          0.8530747035599726,
          0.8689968495575646,
          0.9409843735270549,
          0.9411275221211148,
          0.9422866765900864,
          1.3393173066916457,
          1.447822925831523,
          1.3124590522650794,
          1.1499003285948843,
          1.0520839395111574,
          1.051975540653567,
          1.0506097150479312,
          0.7675039673401696,
          0.7122036472583158,
          0.7665833234896517,
          0.8752072688092813,
          0.8844846804551243,
          0.8843087430274477,
          0.8843087430274477,
          0.8563764298207832,
          0.778561733062467,
          0.7358856822115167,
          0.5932193253319991,
          0.6316677707327849,
          0.6319243346687282,
          0.6318486272777941,
          0.6256473199991468,
          0.7411919893131227,
          0.7825146067259372,
          0.836633572695826,
          0.7473620303079498,
          0.7475427102508221,
          0.7476292789906096,
          0.9092328132896448,
          0.835751953138149,
          0.7981179433005443,
          0.6409334569344256,
          0.8849898642422769,
          0.8837143762007156,
          0.8816194905227321,
          1.0181348230291425,
          1.1415328272722252,
          1.2868869300147323,
          1.5790036353408405,
          1.4668802062245914,
          1.469082079866351,
          1.4714456569592183
         ],
         "yaxis": "y14"
        },
        {
         "marker": {
          "color": "#3f8fc5"
         },
         "name": "Daily Sales Amount",
         "showlegend": false,
         "type": "bar",
         "x": [
          "2020-02-03T00:00:00",
          "2020-02-04T00:00:00",
          "2020-02-05T00:00:00",
          "2020-02-06T00:00:00",
          "2020-02-07T00:00:00",
          "2020-02-08T00:00:00",
          "2020-02-09T00:00:00",
          "2020-02-10T00:00:00",
          "2020-02-11T00:00:00",
          "2020-02-12T00:00:00",
          "2020-02-13T00:00:00",
          "2020-02-14T00:00:00",
          "2020-02-15T00:00:00",
          "2020-02-16T00:00:00",
          "2020-02-17T00:00:00",
          "2020-02-18T00:00:00",
          "2020-02-19T00:00:00",
          "2020-02-20T00:00:00",
          "2020-02-21T00:00:00",
          "2020-02-22T00:00:00",
          "2020-02-23T00:00:00",
          "2020-02-24T00:00:00",
          "2020-02-25T00:00:00",
          "2020-02-26T00:00:00",
          "2020-02-27T00:00:00",
          "2020-02-28T00:00:00",
          "2020-02-29T00:00:00",
          "2020-03-01T00:00:00",
          "2020-03-02T00:00:00",
          "2020-03-03T00:00:00",
          "2020-03-04T00:00:00",
          "2020-03-05T00:00:00",
          "2020-03-06T00:00:00",
          "2020-03-07T00:00:00",
          "2020-03-08T00:00:00",
          "2020-03-09T00:00:00",
          "2020-03-10T00:00:00",
          "2020-03-11T00:00:00",
          "2020-03-12T00:00:00",
          "2020-03-13T00:00:00",
          "2020-03-14T00:00:00",
          "2020-03-15T00:00:00",
          "2020-03-16T00:00:00",
          "2020-03-17T00:00:00",
          "2020-03-18T00:00:00",
          "2020-03-19T00:00:00",
          "2020-03-20T00:00:00",
          "2020-03-21T00:00:00",
          "2020-03-22T00:00:00",
          "2020-03-23T00:00:00",
          "2020-03-24T00:00:00",
          "2020-03-25T00:00:00",
          "2020-03-26T00:00:00",
          "2020-03-27T00:00:00",
          "2020-03-28T00:00:00",
          "2020-03-29T00:00:00"
         ],
         "xaxis": "x15",
         "y": [
          20287.53,
          6988.98,
          6016.56,
          6923.26,
          6353.53,
          11.46,
          -1.12,
          18826.63,
          5894.03,
          6588.93,
          7756.02,
          5549.97,
          5.56,
          -1.17,
          18830.12,
          6528.6,
          6380.59,
          5881.65,
          6770.35,
          -2.28,
          0,
          17856.51,
          5550.63,
          6534.28,
          7617.08,
          7467.43,
          3.39,
          -3.35,
          22319.69,
          8804.05,
          7400.95,
          6861.63,
          7431.1,
          23.9,
          0,
          28478.13,
          8190,
          8378.49,
          7924.02,
          7946.2,
          -0.42,
          0,
          23759.78,
          7182.11,
          8116.37,
          7768.84,
          7534.43,
          116.13,
          0,
          30659.17,
          14466.8,
          13283.04,
          13342.27,
          13932.54,
          12717.5,
          11381.73
         ],
         "yaxis": "y15"
        },
        {
         "marker": {
          "color": "#fee6da"
         },
         "name": "Daily Sales Difference",
         "showlegend": false,
         "type": "bar",
         "x": [
          "2020-02-03T00:00:00",
          "2020-02-04T00:00:00",
          "2020-02-05T00:00:00",
          "2020-02-06T00:00:00",
          "2020-02-07T00:00:00",
          "2020-02-08T00:00:00",
          "2020-02-09T00:00:00",
          "2020-02-10T00:00:00",
          "2020-02-11T00:00:00",
          "2020-02-12T00:00:00",
          "2020-02-13T00:00:00",
          "2020-02-14T00:00:00",
          "2020-02-15T00:00:00",
          "2020-02-16T00:00:00",
          "2020-02-17T00:00:00",
          "2020-02-18T00:00:00",
          "2020-02-19T00:00:00",
          "2020-02-20T00:00:00",
          "2020-02-21T00:00:00",
          "2020-02-22T00:00:00",
          "2020-02-23T00:00:00",
          "2020-02-24T00:00:00",
          "2020-02-25T00:00:00",
          "2020-02-26T00:00:00",
          "2020-02-27T00:00:00",
          "2020-02-28T00:00:00",
          "2020-02-29T00:00:00",
          "2020-03-01T00:00:00",
          "2020-03-02T00:00:00",
          "2020-03-03T00:00:00",
          "2020-03-04T00:00:00",
          "2020-03-05T00:00:00",
          "2020-03-06T00:00:00",
          "2020-03-07T00:00:00",
          "2020-03-08T00:00:00",
          "2020-03-09T00:00:00",
          "2020-03-10T00:00:00",
          "2020-03-11T00:00:00",
          "2020-03-12T00:00:00",
          "2020-03-13T00:00:00",
          "2020-03-14T00:00:00",
          "2020-03-15T00:00:00",
          "2020-03-16T00:00:00",
          "2020-03-17T00:00:00",
          "2020-03-18T00:00:00",
          "2020-03-19T00:00:00",
          "2020-03-20T00:00:00",
          "2020-03-21T00:00:00",
          "2020-03-22T00:00:00",
          "2020-03-23T00:00:00",
          "2020-03-24T00:00:00",
          "2020-03-25T00:00:00",
          "2020-03-26T00:00:00",
          "2020-03-27T00:00:00",
          "2020-03-28T00:00:00",
          "2020-03-29T00:00:00"
         ],
         "xaxis": "x15",
         "y": [
          -15016.050000000003,
          -4478.720000000001,
          -4402.239999999999,
          -2258.8099999999995,
          -4680.740000000001,
          -23.72,
          -1.12,
          -16901.289999999997,
          -5593.37,
          -2338.7299999999996,
          35.410000000000764,
          -4693.2699999999995,
          -24.35,
          -61.61,
          -12398.400000000001,
          -5524.15,
          -4164.08,
          -4194.09,
          -2788.09,
          -1.69,
          0,
          -14717.420000000002,
          -4373.7300000000005,
          -3254.63,
          -2721.129999999999,
          -5035.74,
          -119.02,
          -3.35,
          -14424.670000000002,
          -3228.2700000000004,
          -3210.9000000000005,
          -4054.8100000000004,
          -2956.039999999999,
          12.479999999999999,
          1.31,
          -1299.2599999999984,
          -1124.5699999999997,
          -2256.4500000000007,
          -1318.6099999999988,
          -1172.3599999999997,
          -62.190000000000005,
          -6.08,
          -2818.3600000000006,
          -3285.7799999999997,
          267.3699999999999,
          -964.3400000000001,
          -562.3099999999995,
          111.89999999999999,
          -3.99,
          3060.2599999999984,
          5219.49,
          5114.090000000001,
          5018.560000000001,
          6346.370000000001,
          12679.55,
          11381.73
         ],
         "yaxis": "y15"
        },
        {
         "marker": {
          "color": "#fd994d"
         },
         "name": "",
         "showlegend": false,
         "type": "bar",
         "x": [
          "2020-02-03T00:00:00",
          "2020-02-04T00:00:00",
          "2020-02-05T00:00:00",
          "2020-02-06T00:00:00",
          "2020-02-07T00:00:00",
          "2020-02-08T00:00:00",
          "2020-02-09T00:00:00",
          "2020-02-10T00:00:00",
          "2020-02-11T00:00:00",
          "2020-02-12T00:00:00",
          "2020-02-13T00:00:00",
          "2020-02-14T00:00:00",
          "2020-02-15T00:00:00",
          "2020-02-16T00:00:00",
          "2020-02-17T00:00:00",
          "2020-02-18T00:00:00",
          "2020-02-19T00:00:00",
          "2020-02-20T00:00:00",
          "2020-02-21T00:00:00",
          "2020-02-22T00:00:00",
          "2020-02-23T00:00:00",
          "2020-02-24T00:00:00",
          "2020-02-25T00:00:00",
          "2020-02-26T00:00:00",
          "2020-02-27T00:00:00",
          "2020-02-28T00:00:00",
          "2020-02-29T00:00:00",
          "2020-03-01T00:00:00",
          "2020-03-02T00:00:00",
          "2020-03-03T00:00:00",
          "2020-03-04T00:00:00",
          "2020-03-05T00:00:00",
          "2020-03-06T00:00:00",
          "2020-03-07T00:00:00",
          "2020-03-08T00:00:00",
          "2020-03-09T00:00:00",
          "2020-03-10T00:00:00",
          "2020-03-11T00:00:00",
          "2020-03-12T00:00:00",
          "2020-03-13T00:00:00",
          "2020-03-14T00:00:00",
          "2020-03-15T00:00:00",
          "2020-03-16T00:00:00",
          "2020-03-17T00:00:00",
          "2020-03-18T00:00:00",
          "2020-03-19T00:00:00",
          "2020-03-20T00:00:00",
          "2020-03-21T00:00:00",
          "2020-03-22T00:00:00",
          "2020-03-23T00:00:00",
          "2020-03-24T00:00:00",
          "2020-03-25T00:00:00",
          "2020-03-26T00:00:00",
          "2020-03-27T00:00:00",
          "2020-03-28T00:00:00",
          "2020-03-29T00:00:00"
         ],
         "xaxis": "x16",
         "y": [
          -0.42411641998806604,
          -0.43168173367095963,
          -0.4408683705504426,
          -0.40496763919829504,
          -0.39870311024802163,
          -0.39866312162971895,
          -0.3985119109109322,
          -0.4205515274072339,
          -0.4347565225117239,
          -0.4162312731937512,
          -0.393732324219063,
          -0.3981021016290228,
          -0.398138898473281,
          -0.3986298401098267,
          -0.35975780003322966,
          -0.35587796900024293,
          -0.37326652396614746,
          -0.41839882848139487,
          -0.39639134868886683,
          -0.3962475773589139,
          -0.3957349032862044,
          -0.41961827654697703,
          -0.4160778132698927,
          -0.4078048920207916,
          -0.3859162082732204,
          -0.4007073794999708,
          -0.40161159341558195,
          -0.401656111102326,
          -0.37687905857135273,
          -0.35308510870559806,
          -0.3490257469370627,
          -0.3626740688443525,
          -0.34643601174640404,
          -0.3452830378051617,
          -0.34523089947215846,
          -0.1998432228818644,
          -0.1778686943359029,
          -0.16437560555169917,
          -0.12889656979897246,
          -0.10510498074838925,
          -0.10612302095935977,
          -0.10621994209162067,
          -0.13483784349233263,
          -0.16517665025311568,
          -0.13258797168280512,
          -0.12802338054421059,
          -0.12026789528877113,
          -0.11756004591217373,
          -0.11753017057118531,
          -0.021941092463675926,
          0.11584577861504775,
          0.19360483699255626,
          0.29226688956940294,
          0.4080969230766718,
          0.6140098108829071,
          0.8008144284237995
         ],
         "yaxis": "y16"
        }
       ],
       "layout": {
        "annotations": [
         {
          "font": {
           "size": 16
          },
          "showarrow": false,
          "text": "Thicket 1 - Total Daily Sales",
          "x": 0.2125,
          "xanchor": "center",
          "xref": "paper",
          "y": 1,
          "yanchor": "bottom",
          "yref": "paper"
         },
         {
          "font": {
           "size": 16
          },
          "showarrow": false,
          "text": "Thicket 1 - 7 Day Avg Sales Comp",
          "x": 0.7875,
          "xanchor": "center",
          "xref": "paper",
          "y": 1,
          "yanchor": "bottom",
          "yref": "paper"
         },
         {
          "font": {
           "size": 16
          },
          "showarrow": false,
          "text": "Thicket 2 - Total Daily Sales",
          "x": 0.2125,
          "xanchor": "center",
          "xref": "paper",
          "y": 0.8675,
          "yanchor": "bottom",
          "yref": "paper"
         },
         {
          "font": {
           "size": 16
          },
          "showarrow": false,
          "text": "Thicket 2 - 7 Day Avg Sales Comp",
          "x": 0.7875,
          "xanchor": "center",
          "xref": "paper",
          "y": 0.8675,
          "yanchor": "bottom",
          "yref": "paper"
         },
         {
          "font": {
           "size": 16
          },
          "showarrow": false,
          "text": "Thicket 3 - Total Daily Sales",
          "x": 0.2125,
          "xanchor": "center",
          "xref": "paper",
          "y": 0.7350000000000001,
          "yanchor": "bottom",
          "yref": "paper"
         },
         {
          "font": {
           "size": 16
          },
          "showarrow": false,
          "text": "Thicket 3 - 7 Day Avg Sales Comp",
          "x": 0.7875,
          "xanchor": "center",
          "xref": "paper",
          "y": 0.7350000000000001,
          "yanchor": "bottom",
          "yref": "paper"
         },
         {
          "font": {
           "size": 16
          },
          "showarrow": false,
          "text": "Thicket 4 - Total Daily Sales",
          "x": 0.2125,
          "xanchor": "center",
          "xref": "paper",
          "y": 0.6025,
          "yanchor": "bottom",
          "yref": "paper"
         },
         {
          "font": {
           "size": 16
          },
          "showarrow": false,
          "text": "Thicket 4 - 7 Day Avg Sales Comp",
          "x": 0.7875,
          "xanchor": "center",
          "xref": "paper",
          "y": 0.6025,
          "yanchor": "bottom",
          "yref": "paper"
         },
         {
          "font": {
           "size": 16
          },
          "showarrow": false,
          "text": "Thicket 5 - Total Daily Sales",
          "x": 0.2125,
          "xanchor": "center",
          "xref": "paper",
          "y": 0.47000000000000003,
          "yanchor": "bottom",
          "yref": "paper"
         },
         {
          "font": {
           "size": 16
          },
          "showarrow": false,
          "text": "Thicket 5 - 7 Day Avg Sales Comp",
          "x": 0.7875,
          "xanchor": "center",
          "xref": "paper",
          "y": 0.47000000000000003,
          "yanchor": "bottom",
          "yref": "paper"
         },
         {
          "font": {
           "size": 16
          },
          "showarrow": false,
          "text": "Thicket 6 - Total Daily Sales",
          "x": 0.2125,
          "xanchor": "center",
          "xref": "paper",
          "y": 0.3375,
          "yanchor": "bottom",
          "yref": "paper"
         },
         {
          "font": {
           "size": 16
          },
          "showarrow": false,
          "text": "Thicket 6 - 7 Day Avg Sales Comp",
          "x": 0.7875,
          "xanchor": "center",
          "xref": "paper",
          "y": 0.3375,
          "yanchor": "bottom",
          "yref": "paper"
         },
         {
          "font": {
           "size": 16
          },
          "showarrow": false,
          "text": "Thicket 7 - Total Daily Sales",
          "x": 0.2125,
          "xanchor": "center",
          "xref": "paper",
          "y": 0.20500000000000002,
          "yanchor": "bottom",
          "yref": "paper"
         },
         {
          "font": {
           "size": 16
          },
          "showarrow": false,
          "text": "Thicket 7 - 7 Day Avg Sales Comp",
          "x": 0.7875,
          "xanchor": "center",
          "xref": "paper",
          "y": 0.20500000000000002,
          "yanchor": "bottom",
          "yref": "paper"
         },
         {
          "font": {
           "size": 16
          },
          "showarrow": false,
          "text": "Thicket 8 - Total Daily Sales",
          "x": 0.2125,
          "xanchor": "center",
          "xref": "paper",
          "y": 0.07250000000000001,
          "yanchor": "bottom",
          "yref": "paper"
         },
         {
          "font": {
           "size": 16
          },
          "showarrow": false,
          "text": "Thicket 8 - 7 Day Avg Sales Comp",
          "x": 0.7875,
          "xanchor": "center",
          "xref": "paper",
          "y": 0.07250000000000001,
          "yanchor": "bottom",
          "yref": "paper"
         }
        ],
        "barmode": "overlay",
        "height": 2400,
        "hovermode": "x",
        "legend": {
         "orientation": "h",
         "x": 0,
         "xanchor": "left",
         "y": 1.035
        },
        "margin": {
         "autoexpand": true,
         "b": 100,
         "l": 25,
         "pad": 0,
         "r": 25,
         "t": 150
        },
        "showlegend": true,
        "template": {
         "data": {
          "bar": [
           {
            "error_x": {
             "color": "#f2f5fa"
            },
            "error_y": {
             "color": "#f2f5fa"
            },
            "marker": {
             "line": {
              "color": "rgb(17,17,17)",
              "width": 0.5
             }
            },
            "type": "bar"
           }
          ],
          "barpolar": [
           {
            "marker": {
             "line": {
              "color": "rgb(17,17,17)",
              "width": 0.5
             }
            },
            "type": "barpolar"
           }
          ],
          "carpet": [
           {
            "aaxis": {
             "endlinecolor": "#A2B1C6",
             "gridcolor": "#506784",
             "linecolor": "#506784",
             "minorgridcolor": "#506784",
             "startlinecolor": "#A2B1C6"
            },
            "baxis": {
             "endlinecolor": "#A2B1C6",
             "gridcolor": "#506784",
             "linecolor": "#506784",
             "minorgridcolor": "#506784",
             "startlinecolor": "#A2B1C6"
            },
            "type": "carpet"
           }
          ],
          "choropleth": [
           {
            "colorbar": {
             "outlinewidth": 0,
             "ticks": ""
            },
            "type": "choropleth"
           }
          ],
          "contour": [
           {
            "colorbar": {
             "outlinewidth": 0,
             "ticks": ""
            },
            "colorscale": [
             [
              0,
              "#0d0887"
             ],
             [
              0.1111111111111111,
              "#46039f"
             ],
             [
              0.2222222222222222,
              "#7201a8"
             ],
             [
              0.3333333333333333,
              "#9c179e"
             ],
             [
              0.4444444444444444,
              "#bd3786"
             ],
             [
              0.5555555555555556,
              "#d8576b"
             ],
             [
              0.6666666666666666,
              "#ed7953"
             ],
             [
              0.7777777777777778,
              "#fb9f3a"
             ],
             [
              0.8888888888888888,
              "#fdca26"
             ],
             [
              1,
              "#f0f921"
             ]
            ],
            "type": "contour"
           }
          ],
          "contourcarpet": [
           {
            "colorbar": {
             "outlinewidth": 0,
             "ticks": ""
            },
            "type": "contourcarpet"
           }
          ],
          "heatmap": [
           {
            "colorbar": {
             "outlinewidth": 0,
             "ticks": ""
            },
            "colorscale": [
             [
              0,
              "#0d0887"
             ],
             [
              0.1111111111111111,
              "#46039f"
             ],
             [
              0.2222222222222222,
              "#7201a8"
             ],
             [
              0.3333333333333333,
              "#9c179e"
             ],
             [
              0.4444444444444444,
              "#bd3786"
             ],
             [
              0.5555555555555556,
              "#d8576b"
             ],
             [
              0.6666666666666666,
              "#ed7953"
             ],
             [
              0.7777777777777778,
              "#fb9f3a"
             ],
             [
              0.8888888888888888,
              "#fdca26"
             ],
             [
              1,
              "#f0f921"
             ]
            ],
            "type": "heatmap"
           }
          ],
          "heatmapgl": [
           {
            "colorbar": {
             "outlinewidth": 0,
             "ticks": ""
            },
            "colorscale": [
             [
              0,
              "#0d0887"
             ],
             [
              0.1111111111111111,
              "#46039f"
             ],
             [
              0.2222222222222222,
              "#7201a8"
             ],
             [
              0.3333333333333333,
              "#9c179e"
             ],
             [
              0.4444444444444444,
              "#bd3786"
             ],
             [
              0.5555555555555556,
              "#d8576b"
             ],
             [
              0.6666666666666666,
              "#ed7953"
             ],
             [
              0.7777777777777778,
              "#fb9f3a"
             ],
             [
              0.8888888888888888,
              "#fdca26"
             ],
             [
              1,
              "#f0f921"
             ]
            ],
            "type": "heatmapgl"
           }
          ],
          "histogram": [
           {
            "marker": {
             "colorbar": {
              "outlinewidth": 0,
              "ticks": ""
             }
            },
            "type": "histogram"
           }
          ],
          "histogram2d": [
           {
            "colorbar": {
             "outlinewidth": 0,
             "ticks": ""
            },
            "colorscale": [
             [
              0,
              "#0d0887"
             ],
             [
              0.1111111111111111,
              "#46039f"
             ],
             [
              0.2222222222222222,
              "#7201a8"
             ],
             [
              0.3333333333333333,
              "#9c179e"
             ],
             [
              0.4444444444444444,
              "#bd3786"
             ],
             [
              0.5555555555555556,
              "#d8576b"
             ],
             [
              0.6666666666666666,
              "#ed7953"
             ],
             [
              0.7777777777777778,
              "#fb9f3a"
             ],
             [
              0.8888888888888888,
              "#fdca26"
             ],
             [
              1,
              "#f0f921"
             ]
            ],
            "type": "histogram2d"
           }
          ],
          "histogram2dcontour": [
           {
            "colorbar": {
             "outlinewidth": 0,
             "ticks": ""
            },
            "colorscale": [
             [
              0,
              "#0d0887"
             ],
             [
              0.1111111111111111,
              "#46039f"
             ],
             [
              0.2222222222222222,
              "#7201a8"
             ],
             [
              0.3333333333333333,
              "#9c179e"
             ],
             [
              0.4444444444444444,
              "#bd3786"
             ],
             [
              0.5555555555555556,
              "#d8576b"
             ],
             [
              0.6666666666666666,
              "#ed7953"
             ],
             [
              0.7777777777777778,
              "#fb9f3a"
             ],
             [
              0.8888888888888888,
              "#fdca26"
             ],
             [
              1,
              "#f0f921"
             ]
            ],
            "type": "histogram2dcontour"
           }
          ],
          "mesh3d": [
           {
            "colorbar": {
             "outlinewidth": 0,
             "ticks": ""
            },
            "type": "mesh3d"
           }
          ],
          "parcoords": [
           {
            "line": {
             "colorbar": {
              "outlinewidth": 0,
              "ticks": ""
             }
            },
            "type": "parcoords"
           }
          ],
          "pie": [
           {
            "automargin": true,
            "type": "pie"
           }
          ],
          "scatter": [
           {
            "marker": {
             "line": {
              "color": "#283442"
             }
            },
            "type": "scatter"
           }
          ],
          "scatter3d": [
           {
            "line": {
             "colorbar": {
              "outlinewidth": 0,
              "ticks": ""
             }
            },
            "marker": {
             "colorbar": {
              "outlinewidth": 0,
              "ticks": ""
             }
            },
            "type": "scatter3d"
           }
          ],
          "scattercarpet": [
           {
            "marker": {
             "colorbar": {
              "outlinewidth": 0,
              "ticks": ""
             }
            },
            "type": "scattercarpet"
           }
          ],
          "scattergeo": [
           {
            "marker": {
             "colorbar": {
              "outlinewidth": 0,
              "ticks": ""
             }
            },
            "type": "scattergeo"
           }
          ],
          "scattergl": [
           {
            "marker": {
             "line": {
              "color": "#283442"
             }
            },
            "type": "scattergl"
           }
          ],
          "scattermapbox": [
           {
            "marker": {
             "colorbar": {
              "outlinewidth": 0,
              "ticks": ""
             }
            },
            "type": "scattermapbox"
           }
          ],
          "scatterpolar": [
           {
            "marker": {
             "colorbar": {
              "outlinewidth": 0,
              "ticks": ""
             }
            },
            "type": "scatterpolar"
           }
          ],
          "scatterpolargl": [
           {
            "marker": {
             "colorbar": {
              "outlinewidth": 0,
              "ticks": ""
             }
            },
            "type": "scatterpolargl"
           }
          ],
          "scatterternary": [
           {
            "marker": {
             "colorbar": {
              "outlinewidth": 0,
              "ticks": ""
             }
            },
            "type": "scatterternary"
           }
          ],
          "surface": [
           {
            "colorbar": {
             "outlinewidth": 0,
             "ticks": ""
            },
            "colorscale": [
             [
              0,
              "#0d0887"
             ],
             [
              0.1111111111111111,
              "#46039f"
             ],
             [
              0.2222222222222222,
              "#7201a8"
             ],
             [
              0.3333333333333333,
              "#9c179e"
             ],
             [
              0.4444444444444444,
              "#bd3786"
             ],
             [
              0.5555555555555556,
              "#d8576b"
             ],
             [
              0.6666666666666666,
              "#ed7953"
             ],
             [
              0.7777777777777778,
              "#fb9f3a"
             ],
             [
              0.8888888888888888,
              "#fdca26"
             ],
             [
              1,
              "#f0f921"
             ]
            ],
            "type": "surface"
           }
          ],
          "table": [
           {
            "cells": {
             "fill": {
              "color": "#506784"
             },
             "line": {
              "color": "rgb(17,17,17)"
             }
            },
            "header": {
             "fill": {
              "color": "#2a3f5f"
             },
             "line": {
              "color": "rgb(17,17,17)"
             }
            },
            "type": "table"
           }
          ]
         },
         "layout": {
          "annotationdefaults": {
           "arrowcolor": "#f2f5fa",
           "arrowhead": 0,
           "arrowwidth": 1
          },
          "coloraxis": {
           "colorbar": {
            "outlinewidth": 0,
            "ticks": ""
           }
          },
          "colorscale": {
           "diverging": [
            [
             0,
             "#8e0152"
            ],
            [
             0.1,
             "#c51b7d"
            ],
            [
             0.2,
             "#de77ae"
            ],
            [
             0.3,
             "#f1b6da"
            ],
            [
             0.4,
             "#fde0ef"
            ],
            [
             0.5,
             "#f7f7f7"
            ],
            [
             0.6,
             "#e6f5d0"
            ],
            [
             0.7,
             "#b8e186"
            ],
            [
             0.8,
             "#7fbc41"
            ],
            [
             0.9,
             "#4d9221"
            ],
            [
             1,
             "#276419"
            ]
           ],
           "sequential": [
            [
             0,
             "#0d0887"
            ],
            [
             0.1111111111111111,
             "#46039f"
            ],
            [
             0.2222222222222222,
             "#7201a8"
            ],
            [
             0.3333333333333333,
             "#9c179e"
            ],
            [
             0.4444444444444444,
             "#bd3786"
            ],
            [
             0.5555555555555556,
             "#d8576b"
            ],
            [
             0.6666666666666666,
             "#ed7953"
            ],
            [
             0.7777777777777778,
             "#fb9f3a"
            ],
            [
             0.8888888888888888,
             "#fdca26"
            ],
            [
             1,
             "#f0f921"
            ]
           ],
           "sequentialminus": [
            [
             0,
             "#0d0887"
            ],
            [
             0.1111111111111111,
             "#46039f"
            ],
            [
             0.2222222222222222,
             "#7201a8"
            ],
            [
             0.3333333333333333,
             "#9c179e"
            ],
            [
             0.4444444444444444,
             "#bd3786"
            ],
            [
             0.5555555555555556,
             "#d8576b"
            ],
            [
             0.6666666666666666,
             "#ed7953"
            ],
            [
             0.7777777777777778,
             "#fb9f3a"
            ],
            [
             0.8888888888888888,
             "#fdca26"
            ],
            [
             1,
             "#f0f921"
            ]
           ]
          },
          "colorway": [
           "#636efa",
           "#EF553B",
           "#00cc96",
           "#ab63fa",
           "#FFA15A",
           "#19d3f3",
           "#FF6692",
           "#B6E880",
           "#FF97FF",
           "#FECB52"
          ],
          "font": {
           "color": "#f2f5fa"
          },
          "geo": {
           "bgcolor": "rgb(17,17,17)",
           "lakecolor": "rgb(17,17,17)",
           "landcolor": "rgb(17,17,17)",
           "showlakes": true,
           "showland": true,
           "subunitcolor": "#506784"
          },
          "hoverlabel": {
           "align": "left"
          },
          "hovermode": "closest",
          "mapbox": {
           "style": "dark"
          },
          "paper_bgcolor": "rgb(17,17,17)",
          "plot_bgcolor": "rgb(17,17,17)",
          "polar": {
           "angularaxis": {
            "gridcolor": "#506784",
            "linecolor": "#506784",
            "ticks": ""
           },
           "bgcolor": "rgb(17,17,17)",
           "radialaxis": {
            "gridcolor": "#506784",
            "linecolor": "#506784",
            "ticks": ""
           }
          },
          "scene": {
           "xaxis": {
            "backgroundcolor": "rgb(17,17,17)",
            "gridcolor": "#506784",
            "gridwidth": 2,
            "linecolor": "#506784",
            "showbackground": true,
            "ticks": "",
            "zerolinecolor": "#C8D4E3"
           },
           "yaxis": {
            "backgroundcolor": "rgb(17,17,17)",
            "gridcolor": "#506784",
            "gridwidth": 2,
            "linecolor": "#506784",
            "showbackground": true,
            "ticks": "",
            "zerolinecolor": "#C8D4E3"
           },
           "zaxis": {
            "backgroundcolor": "rgb(17,17,17)",
            "gridcolor": "#506784",
            "gridwidth": 2,
            "linecolor": "#506784",
            "showbackground": true,
            "ticks": "",
            "zerolinecolor": "#C8D4E3"
           }
          },
          "shapedefaults": {
           "line": {
            "color": "#f2f5fa"
           }
          },
          "sliderdefaults": {
           "bgcolor": "#C8D4E3",
           "bordercolor": "rgb(17,17,17)",
           "borderwidth": 1,
           "tickwidth": 0
          },
          "ternary": {
           "aaxis": {
            "gridcolor": "#506784",
            "linecolor": "#506784",
            "ticks": ""
           },
           "baxis": {
            "gridcolor": "#506784",
            "linecolor": "#506784",
            "ticks": ""
           },
           "bgcolor": "rgb(17,17,17)",
           "caxis": {
            "gridcolor": "#506784",
            "linecolor": "#506784",
            "ticks": ""
           }
          },
          "title": {
           "x": 0.05
          },
          "updatemenudefaults": {
           "bgcolor": "#506784",
           "borderwidth": 0
          },
          "xaxis": {
           "automargin": true,
           "gridcolor": "#283442",
           "linecolor": "#506784",
           "ticks": "",
           "title": {
            "standoff": 15
           },
           "zerolinecolor": "#283442",
           "zerolinewidth": 2
          },
          "yaxis": {
           "automargin": true,
           "gridcolor": "#283442",
           "linecolor": "#506784",
           "ticks": "",
           "title": {
            "standoff": 15
           },
           "zerolinecolor": "#283442",
           "zerolinewidth": 2
          }
         }
        },
        "title": {
         "font": {
          "size": 24
         },
         "text": "iStore Thickets Comp to Last Year",
         "x": 0,
         "xanchor": "left",
         "xref": "paper",
         "y": 0.98
        },
        "width": 1000,
        "xaxis": {
         "anchor": "y",
         "domain": [
          0,
          0.425
         ],
         "dtick": 604800000,
         "showgrid": true,
         "tickangle": 90,
         "tickfont": {
          "family": "Arial, san-serif",
          "size": 10
         },
         "tickformat": "%Y-%m-%d",
         "title": {
          "text": ""
         },
         "type": "date"
        },
        "xaxis10": {
         "anchor": "y10",
         "domain": [
          0.575,
          1
         ],
         "dtick": 604800000,
         "showgrid": true,
         "tickangle": 90,
         "tickfont": {
          "family": "Arial, san-serif",
          "size": 10
         },
         "tickformat": "%Y-%m-%d",
         "title": {
          "text": ""
         },
         "type": "date"
        },
        "xaxis11": {
         "anchor": "y11",
         "domain": [
          0,
          0.425
         ],
         "dtick": 604800000,
         "showgrid": true,
         "tickangle": 90,
         "tickfont": {
          "family": "Arial, san-serif",
          "size": 10
         },
         "tickformat": "%Y-%m-%d",
         "title": {
          "text": ""
         },
         "type": "date"
        },
        "xaxis12": {
         "anchor": "y12",
         "domain": [
          0.575,
          1
         ],
         "dtick": 604800000,
         "showgrid": true,
         "tickangle": 90,
         "tickfont": {
          "family": "Arial, san-serif",
          "size": 10
         },
         "tickformat": "%Y-%m-%d",
         "title": {
          "text": ""
         },
         "type": "date"
        },
        "xaxis13": {
         "anchor": "y13",
         "domain": [
          0,
          0.425
         ],
         "dtick": 604800000,
         "showgrid": true,
         "tickangle": 90,
         "tickfont": {
          "family": "Arial, san-serif",
          "size": 10
         },
         "tickformat": "%Y-%m-%d",
         "title": {
          "text": ""
         },
         "type": "date"
        },
        "xaxis14": {
         "anchor": "y14",
         "domain": [
          0.575,
          1
         ],
         "dtick": 604800000,
         "showgrid": true,
         "tickangle": 90,
         "tickfont": {
          "family": "Arial, san-serif",
          "size": 10
         },
         "tickformat": "%Y-%m-%d",
         "title": {
          "text": ""
         },
         "type": "date"
        },
        "xaxis15": {
         "anchor": "y15",
         "domain": [
          0,
          0.425
         ],
         "dtick": 604800000,
         "showgrid": true,
         "tickangle": 90,
         "tickfont": {
          "family": "Arial, san-serif",
          "size": 10
         },
         "tickformat": "%Y-%m-%d",
         "title": {
          "text": ""
         },
         "type": "date"
        },
        "xaxis16": {
         "anchor": "y16",
         "domain": [
          0.575,
          1
         ],
         "dtick": 604800000,
         "showgrid": true,
         "tickangle": 90,
         "tickfont": {
          "family": "Arial, san-serif",
          "size": 10
         },
         "tickformat": "%Y-%m-%d",
         "title": {
          "text": ""
         },
         "type": "date"
        },
        "xaxis2": {
         "anchor": "y2",
         "domain": [
          0.575,
          1
         ],
         "dtick": 604800000,
         "showgrid": true,
         "tickangle": 90,
         "tickfont": {
          "family": "Arial, san-serif",
          "size": 10
         },
         "tickformat": "%Y-%m-%d",
         "title": {
          "text": ""
         },
         "type": "date"
        },
        "xaxis3": {
         "anchor": "y3",
         "domain": [
          0,
          0.425
         ],
         "dtick": 604800000,
         "showgrid": true,
         "tickangle": 90,
         "tickfont": {
          "family": "Arial, san-serif",
          "size": 10
         },
         "tickformat": "%Y-%m-%d",
         "title": {
          "text": ""
         },
         "type": "date"
        },
        "xaxis4": {
         "anchor": "y4",
         "domain": [
          0.575,
          1
         ],
         "dtick": 604800000,
         "showgrid": true,
         "tickangle": 90,
         "tickfont": {
          "family": "Arial, san-serif",
          "size": 10
         },
         "tickformat": "%Y-%m-%d",
         "title": {
          "text": ""
         },
         "type": "date"
        },
        "xaxis5": {
         "anchor": "y5",
         "domain": [
          0,
          0.425
         ],
         "dtick": 604800000,
         "showgrid": true,
         "tickangle": 90,
         "tickfont": {
          "family": "Arial, san-serif",
          "size": 10
         },
         "tickformat": "%Y-%m-%d",
         "title": {
          "text": ""
         },
         "type": "date"
        },
        "xaxis6": {
         "anchor": "y6",
         "domain": [
          0.575,
          1
         ],
         "dtick": 604800000,
         "showgrid": true,
         "tickangle": 90,
         "tickfont": {
          "family": "Arial, san-serif",
          "size": 10
         },
         "tickformat": "%Y-%m-%d",
         "title": {
          "text": ""
         },
         "type": "date"
        },
        "xaxis7": {
         "anchor": "y7",
         "domain": [
          0,
          0.425
         ],
         "dtick": 604800000,
         "showgrid": true,
         "tickangle": 90,
         "tickfont": {
          "family": "Arial, san-serif",
          "size": 10
         },
         "tickformat": "%Y-%m-%d",
         "title": {
          "text": ""
         },
         "type": "date"
        },
        "xaxis8": {
         "anchor": "y8",
         "domain": [
          0.575,
          1
         ],
         "dtick": 604800000,
         "showgrid": true,
         "tickangle": 90,
         "tickfont": {
          "family": "Arial, san-serif",
          "size": 10
         },
         "tickformat": "%Y-%m-%d",
         "title": {
          "text": ""
         },
         "type": "date"
        },
        "xaxis9": {
         "anchor": "y9",
         "domain": [
          0,
          0.425
         ],
         "dtick": 604800000,
         "showgrid": true,
         "tickangle": 90,
         "tickfont": {
          "family": "Arial, san-serif",
          "size": 10
         },
         "tickformat": "%Y-%m-%d",
         "title": {
          "text": ""
         },
         "type": "date"
        },
        "yaxis": {
         "anchor": "x",
         "domain": [
          0.9275,
          1
         ],
         "hoverformat": "$,.0f",
         "tickfont": {
          "family": "Arial, san-serif",
          "size": 10
         },
         "tickformat": "$,.0f",
         "title": {
          "font": {
           "family": "Arial, san-serif",
           "size": 10
          },
          "text": "$ Diff to LY"
         }
        },
        "yaxis10": {
         "anchor": "x10",
         "domain": [
          0.3975,
          0.47000000000000003
         ],
         "tickfont": {
          "family": "Arial, san-serif",
          "size": 10
         },
         "tickformat": "0.1%",
         "title": {
          "font": {
           "family": "Arial, san-serif",
           "size": 10
          },
          "text": "% Diff to LY"
         }
        },
        "yaxis11": {
         "anchor": "x11",
         "domain": [
          0.265,
          0.3375
         ],
         "hoverformat": "$,.0f",
         "tickfont": {
          "family": "Arial, san-serif",
          "size": 10
         },
         "tickformat": "$,.0f",
         "title": {
          "font": {
           "family": "Arial, san-serif",
           "size": 10
          },
          "text": "$ Diff to LY"
         }
        },
        "yaxis12": {
         "anchor": "x12",
         "domain": [
          0.265,
          0.3375
         ],
         "tickfont": {
          "family": "Arial, san-serif",
          "size": 10
         },
         "tickformat": "0.1%",
         "title": {
          "font": {
           "family": "Arial, san-serif",
           "size": 10
          },
          "text": "% Diff to LY"
         }
        },
        "yaxis13": {
         "anchor": "x13",
         "domain": [
          0.1325,
          0.20500000000000002
         ],
         "hoverformat": "$,.0f",
         "tickfont": {
          "family": "Arial, san-serif",
          "size": 10
         },
         "tickformat": "$,.0f",
         "title": {
          "font": {
           "family": "Arial, san-serif",
           "size": 10
          },
          "text": "$ Diff to LY"
         }
        },
        "yaxis14": {
         "anchor": "x14",
         "domain": [
          0.1325,
          0.20500000000000002
         ],
         "tickfont": {
          "family": "Arial, san-serif",
          "size": 10
         },
         "tickformat": "0.1%",
         "title": {
          "font": {
           "family": "Arial, san-serif",
           "size": 10
          },
          "text": "% Diff to LY"
         }
        },
        "yaxis15": {
         "anchor": "x15",
         "domain": [
          0,
          0.07250000000000001
         ],
         "hoverformat": "$,.0f",
         "tickfont": {
          "family": "Arial, san-serif",
          "size": 10
         },
         "tickformat": "$,.0f",
         "title": {
          "font": {
           "family": "Arial, san-serif",
           "size": 10
          },
          "text": "$ Diff to LY"
         }
        },
        "yaxis16": {
         "anchor": "x16",
         "domain": [
          0,
          0.07250000000000001
         ],
         "tickfont": {
          "family": "Arial, san-serif",
          "size": 10
         },
         "tickformat": "0.1%",
         "title": {
          "font": {
           "family": "Arial, san-serif",
           "size": 10
          },
          "text": "% Diff to LY"
         }
        },
        "yaxis2": {
         "anchor": "x2",
         "domain": [
          0.9275,
          1
         ],
         "tickfont": {
          "family": "Arial, san-serif",
          "size": 10
         },
         "tickformat": "0.1%",
         "title": {
          "font": {
           "family": "Arial, san-serif",
           "size": 10
          },
          "text": "% Diff to LY"
         }
        },
        "yaxis3": {
         "anchor": "x3",
         "domain": [
          0.795,
          0.8675
         ],
         "hoverformat": "$,.0f",
         "tickfont": {
          "family": "Arial, san-serif",
          "size": 10
         },
         "tickformat": "$,.0f",
         "title": {
          "font": {
           "family": "Arial, san-serif",
           "size": 10
          },
          "text": "$ Diff to LY"
         }
        },
        "yaxis4": {
         "anchor": "x4",
         "domain": [
          0.795,
          0.8675
         ],
         "tickfont": {
          "family": "Arial, san-serif",
          "size": 10
         },
         "tickformat": "0.1%",
         "title": {
          "font": {
           "family": "Arial, san-serif",
           "size": 10
          },
          "text": "% Diff to LY"
         }
        },
        "yaxis5": {
         "anchor": "x5",
         "domain": [
          0.6625000000000001,
          0.7350000000000001
         ],
         "hoverformat": "$,.0f",
         "tickfont": {
          "family": "Arial, san-serif",
          "size": 10
         },
         "tickformat": "$,.0f",
         "title": {
          "font": {
           "family": "Arial, san-serif",
           "size": 10
          },
          "text": "$ Diff to LY"
         }
        },
        "yaxis6": {
         "anchor": "x6",
         "domain": [
          0.6625000000000001,
          0.7350000000000001
         ],
         "tickfont": {
          "family": "Arial, san-serif",
          "size": 10
         },
         "tickformat": "0.1%",
         "title": {
          "font": {
           "family": "Arial, san-serif",
           "size": 10
          },
          "text": "% Diff to LY"
         }
        },
        "yaxis7": {
         "anchor": "x7",
         "domain": [
          0.53,
          0.6025
         ],
         "hoverformat": "$,.0f",
         "tickfont": {
          "family": "Arial, san-serif",
          "size": 10
         },
         "tickformat": "$,.0f",
         "title": {
          "font": {
           "family": "Arial, san-serif",
           "size": 10
          },
          "text": "$ Diff to LY"
         }
        },
        "yaxis8": {
         "anchor": "x8",
         "domain": [
          0.53,
          0.6025
         ],
         "tickfont": {
          "family": "Arial, san-serif",
          "size": 10
         },
         "tickformat": "0.1%",
         "title": {
          "font": {
           "family": "Arial, san-serif",
           "size": 10
          },
          "text": "% Diff to LY"
         }
        },
        "yaxis9": {
         "anchor": "x9",
         "domain": [
          0.3975,
          0.47000000000000003
         ],
         "hoverformat": "$,.0f",
         "tickfont": {
          "family": "Arial, san-serif",
          "size": 10
         },
         "tickformat": "$,.0f",
         "title": {
          "font": {
           "family": "Arial, san-serif",
           "size": 10
          },
          "text": "$ Diff to LY"
         }
        }
       }
      },
      "text/html": [
       "<div>\n",
       "        \n",
       "        \n",
       "            <div id=\"c3fba0f0-18e6-42db-a776-3eaad9460b15\" class=\"plotly-graph-div\" style=\"height:2400px; width:1000px;\"></div>\n",
       "            <script type=\"text/javascript\">\n",
       "                require([\"plotly\"], function(Plotly) {\n",
       "                    window.PLOTLYENV=window.PLOTLYENV || {};\n",
       "                    \n",
       "                if (document.getElementById(\"c3fba0f0-18e6-42db-a776-3eaad9460b15\")) {\n",
       "                    Plotly.newPlot(\n",
       "                        'c3fba0f0-18e6-42db-a776-3eaad9460b15',\n",
       "                        [{\"marker\": {\"color\": \"#3f8fc5\"}, \"name\": \"Daily Sales Amount\", \"showlegend\": true, \"type\": \"bar\", \"x\": [\"2020-02-03T00:00:00\", \"2020-02-04T00:00:00\", \"2020-02-05T00:00:00\", \"2020-02-06T00:00:00\", \"2020-02-07T00:00:00\", \"2020-02-08T00:00:00\", \"2020-02-09T00:00:00\", \"2020-02-10T00:00:00\", \"2020-02-11T00:00:00\", \"2020-02-12T00:00:00\", \"2020-02-13T00:00:00\", \"2020-02-14T00:00:00\", \"2020-02-15T00:00:00\", \"2020-02-16T00:00:00\", \"2020-02-17T00:00:00\", \"2020-02-18T00:00:00\", \"2020-02-19T00:00:00\", \"2020-02-20T00:00:00\", \"2020-02-21T00:00:00\", \"2020-02-22T00:00:00\", \"2020-02-23T00:00:00\", \"2020-02-24T00:00:00\", \"2020-02-25T00:00:00\", \"2020-02-26T00:00:00\", \"2020-02-27T00:00:00\", \"2020-02-28T00:00:00\", \"2020-02-29T00:00:00\", \"2020-03-01T00:00:00\", \"2020-03-02T00:00:00\", \"2020-03-03T00:00:00\", \"2020-03-04T00:00:00\", \"2020-03-05T00:00:00\", \"2020-03-06T00:00:00\", \"2020-03-07T00:00:00\", \"2020-03-08T00:00:00\", \"2020-03-09T00:00:00\", \"2020-03-10T00:00:00\", \"2020-03-11T00:00:00\", \"2020-03-12T00:00:00\", \"2020-03-13T00:00:00\", \"2020-03-14T00:00:00\", \"2020-03-15T00:00:00\", \"2020-03-16T00:00:00\", \"2020-03-17T00:00:00\", \"2020-03-18T00:00:00\", \"2020-03-19T00:00:00\", \"2020-03-20T00:00:00\", \"2020-03-21T00:00:00\", \"2020-03-22T00:00:00\", \"2020-03-23T00:00:00\", \"2020-03-24T00:00:00\", \"2020-03-25T00:00:00\", \"2020-03-26T00:00:00\", \"2020-03-27T00:00:00\", \"2020-03-28T00:00:00\", \"2020-03-29T00:00:00\"], \"xaxis\": \"x\", \"y\": [24796.65, 9440.2, 9105.33, 9233.38, 8203.32, 24.48, -1.24, 23470.6, 8852.7, 10297.38, 9918.74, 8585.43, 48.86, 1.01, 21989.42, 10601.76, 8535.53, 9649.48, 8671.68, 74.46, 3.99, 24498.14, 9289.11, 9337.93, 10092.82, 7652.32, 11.0, -0.99, 25924.47, 9196.33, 9469.21, 7878.33, 8162.14, 34.45, 42.86, 24598.45, 7315.38, 9315.49, 9000.59, 8964.06, -2.02, 0.0, 27576.13, 8348.59, 9574.92, 8438.01, 8226.96, 10.2, -2.08, 32943.34, 14858.68, 13956.49, 16388.32, 15994.29, 13390.22, 10497.81], \"yaxis\": \"y\"}, {\"marker\": {\"color\": \"#fee6da\"}, \"name\": \"Daily Sales Difference\", \"showlegend\": true, \"type\": \"bar\", \"x\": [\"2020-02-03T00:00:00\", \"2020-02-04T00:00:00\", \"2020-02-05T00:00:00\", \"2020-02-06T00:00:00\", \"2020-02-07T00:00:00\", \"2020-02-08T00:00:00\", \"2020-02-09T00:00:00\", \"2020-02-10T00:00:00\", \"2020-02-11T00:00:00\", \"2020-02-12T00:00:00\", \"2020-02-13T00:00:00\", \"2020-02-14T00:00:00\", \"2020-02-15T00:00:00\", \"2020-02-16T00:00:00\", \"2020-02-17T00:00:00\", \"2020-02-18T00:00:00\", \"2020-02-19T00:00:00\", \"2020-02-20T00:00:00\", \"2020-02-21T00:00:00\", \"2020-02-22T00:00:00\", \"2020-02-23T00:00:00\", \"2020-02-24T00:00:00\", \"2020-02-25T00:00:00\", \"2020-02-26T00:00:00\", \"2020-02-27T00:00:00\", \"2020-02-28T00:00:00\", \"2020-02-29T00:00:00\", \"2020-03-01T00:00:00\", \"2020-03-02T00:00:00\", \"2020-03-03T00:00:00\", \"2020-03-04T00:00:00\", \"2020-03-05T00:00:00\", \"2020-03-06T00:00:00\", \"2020-03-07T00:00:00\", \"2020-03-08T00:00:00\", \"2020-03-09T00:00:00\", \"2020-03-10T00:00:00\", \"2020-03-11T00:00:00\", \"2020-03-12T00:00:00\", \"2020-03-13T00:00:00\", \"2020-03-14T00:00:00\", \"2020-03-15T00:00:00\", \"2020-03-16T00:00:00\", \"2020-03-17T00:00:00\", \"2020-03-18T00:00:00\", \"2020-03-19T00:00:00\", \"2020-03-20T00:00:00\", \"2020-03-21T00:00:00\", \"2020-03-22T00:00:00\", \"2020-03-23T00:00:00\", \"2020-03-24T00:00:00\", \"2020-03-25T00:00:00\", \"2020-03-26T00:00:00\", \"2020-03-27T00:00:00\", \"2020-03-28T00:00:00\", \"2020-03-29T00:00:00\"], \"xaxis\": \"x\", \"y\": [-5565.539999999997, -2434.74, -984.7000000000007, -366.02000000000044, -1750.3099999999995, 25.2, -1.24, -2979.84, -443.9299999999985, 129.02999999999884, 621.5300000000007, 687.5, 43.35, 2.23, -2424.3300000000017, 1324.17, 75.47000000000116, -156.63000000000102, 203.01000000000022, -180.03000000000003, -12.089999999999998, -530.6599999999999, 554.3400000000001, 93.57999999999993, 236.54999999999927, -1420.4500000000007, 11.0, -29.939999999999998, 341.0699999999997, 736.2000000000007, -272.0100000000002, -1257.0100000000002, -1095.1799999999994, 15.670000000000002, 42.86, 992.1700000000019, -376.25, -323.0400000000009, 1077.4099999999999, 1103.6399999999994, -5.63, 0.03, 6283.790000000001, -161.60000000000036, 2205.76, 1245.1400000000003, -407.9100000000017, -35.45, -2.08, 10195.639999999996, 6424.15, 5288.629999999999, 8379.869999999999, 8708.850000000002, 13161.51, 10286.3], \"yaxis\": \"y\"}, {\"marker\": {\"color\": \"#fd994d\"}, \"name\": \"\", \"showlegend\": false, \"type\": \"bar\", \"x\": [\"2020-02-03T00:00:00\", \"2020-02-04T00:00:00\", \"2020-02-05T00:00:00\", \"2020-02-06T00:00:00\", \"2020-02-07T00:00:00\", \"2020-02-08T00:00:00\", \"2020-02-09T00:00:00\", \"2020-02-10T00:00:00\", \"2020-02-11T00:00:00\", \"2020-02-12T00:00:00\", \"2020-02-13T00:00:00\", \"2020-02-14T00:00:00\", \"2020-02-15T00:00:00\", \"2020-02-16T00:00:00\", \"2020-02-17T00:00:00\", \"2020-02-18T00:00:00\", \"2020-02-19T00:00:00\", \"2020-02-20T00:00:00\", \"2020-02-21T00:00:00\", \"2020-02-22T00:00:00\", \"2020-02-23T00:00:00\", \"2020-02-24T00:00:00\", \"2020-02-25T00:00:00\", \"2020-02-26T00:00:00\", \"2020-02-27T00:00:00\", \"2020-02-28T00:00:00\", \"2020-02-29T00:00:00\", \"2020-03-01T00:00:00\", \"2020-03-02T00:00:00\", \"2020-03-03T00:00:00\", \"2020-03-04T00:00:00\", \"2020-03-05T00:00:00\", \"2020-03-06T00:00:00\", \"2020-03-07T00:00:00\", \"2020-03-08T00:00:00\", \"2020-03-09T00:00:00\", \"2020-03-10T00:00:00\", \"2020-03-11T00:00:00\", \"2020-03-12T00:00:00\", \"2020-03-13T00:00:00\", \"2020-03-14T00:00:00\", \"2020-03-15T00:00:00\", \"2020-03-16T00:00:00\", \"2020-03-17T00:00:00\", \"2020-03-18T00:00:00\", \"2020-03-19T00:00:00\", \"2020-03-20T00:00:00\", \"2020-03-21T00:00:00\", \"2020-03-22T00:00:00\", \"2020-03-23T00:00:00\", \"2020-03-24T00:00:00\", \"2020-03-25T00:00:00\", \"2020-03-26T00:00:00\", \"2020-03-27T00:00:00\", \"2020-03-28T00:00:00\", \"2020-03-29T00:00:00\"], \"xaxis\": \"x2\", \"y\": [-0.15988998545750788, -0.1896546250953549, -0.20557195740070455, -0.16303846698897106, -0.1527828336114121, -0.15388455145815427, -0.15411006786777726, -0.12493651398045824, -0.09941732155099525, -0.08228649443015457, -0.0675135969102667, -0.031084692973391448, -0.030794059262559625, -0.030739675369581887, -0.022669641652594996, 0.006280470468623678, 0.00555881021377691, -0.00748817276656355, -0.015434763290767761, -0.019052743556506435, -0.01928324004168036, 0.011796097977879505, -0.0007666740498172286, -0.00046268865975540585, 0.005920124902138557, -0.02023484938237985, -0.017234505360832708, -0.017518987456165203, -0.00342047753608965, -0.0005139296791877301, -0.0063366693899541415, -0.03049153193045906, -0.025172184966293698, -0.025089537765601744, -0.023930726303329153, -0.013904233326749504, -0.032796153173970555, -0.033712745931275934, 0.005738984569214178, 0.044633638838455614, 0.04427007077295175, 0.043515029541488115, 0.142620761599777, 0.1443935204163691, 0.1983312710410956, 0.2043159910975938, 0.17281244970804788, 0.17211332631414522, 0.17207345148692665, 0.23925494913435785, 0.36059401618160214, 0.40751439070209106, 0.5278271340202716, 0.7059226524983078, 0.9419186606249434, 1.1234298595644123], \"yaxis\": \"y2\"}, {\"marker\": {\"color\": \"#3f8fc5\"}, \"name\": \"Daily Sales Amount\", \"showlegend\": false, \"type\": \"bar\", \"x\": [\"2020-02-03T00:00:00\", \"2020-02-04T00:00:00\", \"2020-02-05T00:00:00\", \"2020-02-06T00:00:00\", \"2020-02-07T00:00:00\", \"2020-02-08T00:00:00\", \"2020-02-09T00:00:00\", \"2020-02-10T00:00:00\", \"2020-02-11T00:00:00\", \"2020-02-12T00:00:00\", \"2020-02-13T00:00:00\", \"2020-02-14T00:00:00\", \"2020-02-15T00:00:00\", \"2020-02-16T00:00:00\", \"2020-02-17T00:00:00\", \"2020-02-18T00:00:00\", \"2020-02-19T00:00:00\", \"2020-02-20T00:00:00\", \"2020-02-21T00:00:00\", \"2020-02-22T00:00:00\", \"2020-02-23T00:00:00\", \"2020-02-24T00:00:00\", \"2020-02-25T00:00:00\", \"2020-02-26T00:00:00\", \"2020-02-27T00:00:00\", \"2020-02-28T00:00:00\", \"2020-02-29T00:00:00\", \"2020-03-01T00:00:00\", \"2020-03-02T00:00:00\", \"2020-03-03T00:00:00\", \"2020-03-04T00:00:00\", \"2020-03-05T00:00:00\", \"2020-03-06T00:00:00\", \"2020-03-07T00:00:00\", \"2020-03-08T00:00:00\", \"2020-03-09T00:00:00\", \"2020-03-10T00:00:00\", \"2020-03-11T00:00:00\", \"2020-03-12T00:00:00\", \"2020-03-13T00:00:00\", \"2020-03-14T00:00:00\", \"2020-03-15T00:00:00\", \"2020-03-16T00:00:00\", \"2020-03-17T00:00:00\", \"2020-03-18T00:00:00\", \"2020-03-19T00:00:00\", \"2020-03-20T00:00:00\", \"2020-03-21T00:00:00\", \"2020-03-22T00:00:00\", \"2020-03-23T00:00:00\", \"2020-03-24T00:00:00\", \"2020-03-25T00:00:00\", \"2020-03-26T00:00:00\", \"2020-03-27T00:00:00\", \"2020-03-28T00:00:00\", \"2020-03-29T00:00:00\"], \"xaxis\": \"x3\", \"y\": [31239.68, 11078.9, 10829.45, 11358.15, 9821.69, 4.84, 3.78, 25757.04, 11127.96, 9756.62, 10986.05, 10444.86, 198.38, 3.99, 24425.88, 12460.04, 10167.77, 9569.34, 10081.38, -6.36, -3.93, 25740.05, 10678.11, 9947.95, 11566.31, 10018.77, 10.73, -0.77, 25296.8, 12108.82, 8449.74, 9891.72, 9968.06, 13.1, 10.05, 25419.64, 7938.63, 9992.77, 9011.2, 9403.75, 56.18, 0.0, 28444.82, 8346.5, 12409.77, 11340.29, 9781.4, -0.78, -1.56, 38935.7, 15411.46, 13962.21, 19534.2, 21894.59, 20129.15, 17657.35], \"yaxis\": \"y3\"}, {\"marker\": {\"color\": \"#fee6da\"}, \"name\": \"Daily Sales Difference\", \"showlegend\": false, \"type\": \"bar\", \"x\": [\"2020-02-03T00:00:00\", \"2020-02-04T00:00:00\", \"2020-02-05T00:00:00\", \"2020-02-06T00:00:00\", \"2020-02-07T00:00:00\", \"2020-02-08T00:00:00\", \"2020-02-09T00:00:00\", \"2020-02-10T00:00:00\", \"2020-02-11T00:00:00\", \"2020-02-12T00:00:00\", \"2020-02-13T00:00:00\", \"2020-02-14T00:00:00\", \"2020-02-15T00:00:00\", \"2020-02-16T00:00:00\", \"2020-02-17T00:00:00\", \"2020-02-18T00:00:00\", \"2020-02-19T00:00:00\", \"2020-02-20T00:00:00\", \"2020-02-21T00:00:00\", \"2020-02-22T00:00:00\", \"2020-02-23T00:00:00\", \"2020-02-24T00:00:00\", \"2020-02-25T00:00:00\", \"2020-02-26T00:00:00\", \"2020-02-27T00:00:00\", \"2020-02-28T00:00:00\", \"2020-02-29T00:00:00\", \"2020-03-01T00:00:00\", \"2020-03-02T00:00:00\", \"2020-03-03T00:00:00\", \"2020-03-04T00:00:00\", \"2020-03-05T00:00:00\", \"2020-03-06T00:00:00\", \"2020-03-07T00:00:00\", \"2020-03-08T00:00:00\", \"2020-03-09T00:00:00\", \"2020-03-10T00:00:00\", \"2020-03-11T00:00:00\", \"2020-03-12T00:00:00\", \"2020-03-13T00:00:00\", \"2020-03-14T00:00:00\", \"2020-03-15T00:00:00\", \"2020-03-16T00:00:00\", \"2020-03-17T00:00:00\", \"2020-03-18T00:00:00\", \"2020-03-19T00:00:00\", \"2020-03-20T00:00:00\", \"2020-03-21T00:00:00\", \"2020-03-22T00:00:00\", \"2020-03-23T00:00:00\", \"2020-03-24T00:00:00\", \"2020-03-25T00:00:00\", \"2020-03-26T00:00:00\", \"2020-03-27T00:00:00\", \"2020-03-28T00:00:00\", \"2020-03-29T00:00:00\"], \"xaxis\": \"x3\", \"y\": [4091.5200000000004, -964.1800000000003, 2321.8500000000004, 2621.2700000000004, 439.130000000001, -103.92999999999999, 3.78, -2345.6299999999974, 261.9299999999985, 675.3000000000011, 1559.7399999999998, 2771.7700000000004, 184.72, -7.98, -2743.5200000000004, 1748.9900000000016, 1213.2600000000002, 359.7600000000002, 1463.8499999999985, -2.7600000000000002, -3.93, -2125.8199999999997, 64.76000000000022, 858.7600000000002, 2149.99, 847.3500000000004, -212.92000000000002, -4.76, -2397.3199999999997, 822.3500000000004, -1205.380000000001, 1180.7399999999998, -71.27000000000044, -69.0, 10.05, -1664.4700000000012, -1866.0999999999995, 294.39000000000124, 669.1100000000006, -119.18000000000029, 59.48, 0.0, 5904.5, -1451.6599999999999, 3213.960000000001, 3844.1600000000008, 663.0299999999988, -7.220000000000001, -5.550000000000001, 14819.439999999999, 6964.98, 3708.24, 11138.75, 14249.98, 20048.81, 17657.35], \"yaxis\": \"y3\"}, {\"marker\": {\"color\": \"#fd994d\"}, \"name\": \"\", \"showlegend\": false, \"type\": \"bar\", \"x\": [\"2020-02-03T00:00:00\", \"2020-02-04T00:00:00\", \"2020-02-05T00:00:00\", \"2020-02-06T00:00:00\", \"2020-02-07T00:00:00\", \"2020-02-08T00:00:00\", \"2020-02-09T00:00:00\", \"2020-02-10T00:00:00\", \"2020-02-11T00:00:00\", \"2020-02-12T00:00:00\", \"2020-02-13T00:00:00\", \"2020-02-14T00:00:00\", \"2020-02-15T00:00:00\", \"2020-02-16T00:00:00\", \"2020-02-17T00:00:00\", \"2020-02-18T00:00:00\", \"2020-02-19T00:00:00\", \"2020-02-20T00:00:00\", \"2020-02-21T00:00:00\", \"2020-02-22T00:00:00\", \"2020-02-23T00:00:00\", \"2020-02-24T00:00:00\", \"2020-02-25T00:00:00\", \"2020-02-26T00:00:00\", \"2020-02-27T00:00:00\", \"2020-02-28T00:00:00\", \"2020-02-29T00:00:00\", \"2020-03-01T00:00:00\", \"2020-03-02T00:00:00\", \"2020-03-03T00:00:00\", \"2020-03-04T00:00:00\", \"2020-03-05T00:00:00\", \"2020-03-06T00:00:00\", \"2020-03-07T00:00:00\", \"2020-03-08T00:00:00\", \"2020-03-09T00:00:00\", \"2020-03-10T00:00:00\", \"2020-03-11T00:00:00\", \"2020-03-12T00:00:00\", \"2020-03-13T00:00:00\", \"2020-03-14T00:00:00\", \"2020-03-15T00:00:00\", \"2020-03-16T00:00:00\", \"2020-03-17T00:00:00\", \"2020-03-18T00:00:00\", \"2020-03-19T00:00:00\", \"2020-03-20T00:00:00\", \"2020-03-21T00:00:00\", \"2020-03-22T00:00:00\", \"2020-03-23T00:00:00\", \"2020-03-24T00:00:00\", \"2020-03-25T00:00:00\", \"2020-03-26T00:00:00\", \"2020-03-27T00:00:00\", \"2020-03-28T00:00:00\", \"2020-03-29T00:00:00\"], \"xaxis\": \"x4\", \"y\": [0.027892055433553553, 0.015424837653950974, 0.07418851039658292, 0.12766222646443648, 0.125885920505997, 0.127922605364567, 0.12755674643412807, 0.02948929420904789, 0.04867854581063158, 0.02341417385467448, 0.007321743062250086, 0.043258325123637587, 0.04775111919203523, 0.04756191211207561, 0.04205923310344328, 0.06536478650830024, 0.07390526483822368, 0.05533134012913887, 0.034304512295229905, 0.03141466178365482, 0.03148311427721917, 0.040599073306472944, 0.014850765983976055, 0.009399020551776882, 0.03666004762902397, 0.027033727346869485, 0.023775154489771744, 0.023761222430959794, 0.01972239489978178, 0.030850640112098926, -1.0229634537339827e-05, -0.01453186157919939, -0.02793163393314091, -0.025857202331450058, -0.025639220419952924, -0.014911878304664228, -0.05637250890497347, -0.03340984961241511, -0.04146440148105679, -0.04253859263145521, -0.040601443561365635, -0.040757380959249856, 0.08250041941302477, 0.08942849730327751, 0.13933949435324244, 0.19558070403014405, 0.21039413374967064, 0.20921196597451575, 0.20910218534567937, 0.3528267104331877, 0.5051565956671327, 0.5044793515118375, 0.6178501303260684, 0.8641250135899126, 1.203313986335513, 1.5030860861688007], \"yaxis\": \"y4\"}, {\"marker\": {\"color\": \"#3f8fc5\"}, \"name\": \"Daily Sales Amount\", \"showlegend\": false, \"type\": \"bar\", \"x\": [\"2020-02-03T00:00:00\", \"2020-02-04T00:00:00\", \"2020-02-05T00:00:00\", \"2020-02-06T00:00:00\", \"2020-02-07T00:00:00\", \"2020-02-08T00:00:00\", \"2020-02-09T00:00:00\", \"2020-02-10T00:00:00\", \"2020-02-11T00:00:00\", \"2020-02-12T00:00:00\", \"2020-02-13T00:00:00\", \"2020-02-14T00:00:00\", \"2020-02-15T00:00:00\", \"2020-02-16T00:00:00\", \"2020-02-17T00:00:00\", \"2020-02-18T00:00:00\", \"2020-02-19T00:00:00\", \"2020-02-20T00:00:00\", \"2020-02-21T00:00:00\", \"2020-02-22T00:00:00\", \"2020-02-23T00:00:00\", \"2020-02-24T00:00:00\", \"2020-02-25T00:00:00\", \"2020-02-26T00:00:00\", \"2020-02-27T00:00:00\", \"2020-02-28T00:00:00\", \"2020-02-29T00:00:00\", \"2020-03-01T00:00:00\", \"2020-03-02T00:00:00\", \"2020-03-03T00:00:00\", \"2020-03-04T00:00:00\", \"2020-03-05T00:00:00\", \"2020-03-06T00:00:00\", \"2020-03-07T00:00:00\", \"2020-03-08T00:00:00\", \"2020-03-09T00:00:00\", \"2020-03-10T00:00:00\", \"2020-03-11T00:00:00\", \"2020-03-12T00:00:00\", \"2020-03-13T00:00:00\", \"2020-03-14T00:00:00\", \"2020-03-15T00:00:00\", \"2020-03-16T00:00:00\", \"2020-03-17T00:00:00\", \"2020-03-18T00:00:00\", \"2020-03-19T00:00:00\", \"2020-03-20T00:00:00\", \"2020-03-21T00:00:00\", \"2020-03-22T00:00:00\", \"2020-03-23T00:00:00\", \"2020-03-24T00:00:00\", \"2020-03-25T00:00:00\", \"2020-03-26T00:00:00\", \"2020-03-27T00:00:00\", \"2020-03-28T00:00:00\", \"2020-03-29T00:00:00\"], \"xaxis\": \"x5\", \"y\": [0.0, 0.0, 0.0, 0.0, 0.0, 0.0, 0.0, 0.0, 0.0, 0.0, 0.0, 0.0, 0.0, 0.0, 0.0, 0.0, 0.0, 0.0, 0.0, 0.0, 0.0, 0.0, 0.0, 0.0, 0.0, 0.0, 0.0, 0.0, 0.0, 0.0, 0.0, 0.0, 0.0, 0.0, 0.0, 0.0, 0.0, 0.0, 0.0, 0.0, 0.0, 0.0, 0.0, 0.0, 0.0, 0.0, 0.0, 0.0, 0.0, 0.0, 0.0, 0.0, 0.0, 0.0, 0.0, 0.0], \"yaxis\": \"y5\"}, {\"marker\": {\"color\": \"#fee6da\"}, \"name\": \"Daily Sales Difference\", \"showlegend\": false, \"type\": \"bar\", \"x\": [\"2020-02-03T00:00:00\", \"2020-02-04T00:00:00\", \"2020-02-05T00:00:00\", \"2020-02-06T00:00:00\", \"2020-02-07T00:00:00\", \"2020-02-08T00:00:00\", \"2020-02-09T00:00:00\", \"2020-02-10T00:00:00\", \"2020-02-11T00:00:00\", \"2020-02-12T00:00:00\", \"2020-02-13T00:00:00\", \"2020-02-14T00:00:00\", \"2020-02-15T00:00:00\", \"2020-02-16T00:00:00\", \"2020-02-17T00:00:00\", \"2020-02-18T00:00:00\", \"2020-02-19T00:00:00\", \"2020-02-20T00:00:00\", \"2020-02-21T00:00:00\", \"2020-02-22T00:00:00\", \"2020-02-23T00:00:00\", \"2020-02-24T00:00:00\", \"2020-02-25T00:00:00\", \"2020-02-26T00:00:00\", \"2020-02-27T00:00:00\", \"2020-02-28T00:00:00\", \"2020-02-29T00:00:00\", \"2020-03-01T00:00:00\", \"2020-03-02T00:00:00\", \"2020-03-03T00:00:00\", \"2020-03-04T00:00:00\", \"2020-03-05T00:00:00\", \"2020-03-06T00:00:00\", \"2020-03-07T00:00:00\", \"2020-03-08T00:00:00\", \"2020-03-09T00:00:00\", \"2020-03-10T00:00:00\", \"2020-03-11T00:00:00\", \"2020-03-12T00:00:00\", \"2020-03-13T00:00:00\", \"2020-03-14T00:00:00\", \"2020-03-15T00:00:00\", \"2020-03-16T00:00:00\", \"2020-03-17T00:00:00\", \"2020-03-18T00:00:00\", \"2020-03-19T00:00:00\", \"2020-03-20T00:00:00\", \"2020-03-21T00:00:00\", \"2020-03-22T00:00:00\", \"2020-03-23T00:00:00\", \"2020-03-24T00:00:00\", \"2020-03-25T00:00:00\", \"2020-03-26T00:00:00\", \"2020-03-27T00:00:00\", \"2020-03-28T00:00:00\", \"2020-03-29T00:00:00\"], \"xaxis\": \"x5\", \"y\": [-28184.22, -10443.03, -8791.74, -8518.12, -8537.52, -27.97, 0.98, -25737.07, -9609.61, -8400.5, -6953.86, -8673.17, -36.56, -48.47, -23422.65, -8961.12, -8511.41, -9528.67, -8092.89, -7.98, -23.94, -25575.78, -8494.01, -8861.2, -9033.55, -8600.88, -3.35, -16.93, -26138.28, -9740.3, -8886.71, -9693.52, -8436.47, -146.33, 0.95, -23724.49, -8025.24, -8482.91, -9879.33, -7987.13, -117.61, -18.96, -21663.96, -8542.18, -8786.62, -8516.3, -7916.04, -87.33, -3.99, -22806.7, -8645.6, -8211.73, -7272.18, -6798.77, -227.35, -35.9], \"yaxis\": \"y5\"}, {\"marker\": {\"color\": \"#fd994d\"}, \"name\": \"\", \"showlegend\": false, \"type\": \"bar\", \"x\": [\"2020-02-03T00:00:00\", \"2020-02-04T00:00:00\", \"2020-02-05T00:00:00\", \"2020-02-06T00:00:00\", \"2020-02-07T00:00:00\", \"2020-02-08T00:00:00\", \"2020-02-09T00:00:00\", \"2020-02-10T00:00:00\", \"2020-02-11T00:00:00\", \"2020-02-12T00:00:00\", \"2020-02-13T00:00:00\", \"2020-02-14T00:00:00\", \"2020-02-15T00:00:00\", \"2020-02-16T00:00:00\", \"2020-02-17T00:00:00\", \"2020-02-18T00:00:00\", \"2020-02-19T00:00:00\", \"2020-02-20T00:00:00\", \"2020-02-21T00:00:00\", \"2020-02-22T00:00:00\", \"2020-02-23T00:00:00\", \"2020-02-24T00:00:00\", \"2020-02-25T00:00:00\", \"2020-02-26T00:00:00\", \"2020-02-27T00:00:00\", \"2020-02-28T00:00:00\", \"2020-02-29T00:00:00\", \"2020-03-01T00:00:00\", \"2020-03-02T00:00:00\", \"2020-03-03T00:00:00\", \"2020-03-04T00:00:00\", \"2020-03-05T00:00:00\", \"2020-03-06T00:00:00\", \"2020-03-07T00:00:00\", \"2020-03-08T00:00:00\", \"2020-03-09T00:00:00\", \"2020-03-10T00:00:00\", \"2020-03-11T00:00:00\", \"2020-03-12T00:00:00\", \"2020-03-13T00:00:00\", \"2020-03-14T00:00:00\", \"2020-03-15T00:00:00\", \"2020-03-16T00:00:00\", \"2020-03-17T00:00:00\", \"2020-03-18T00:00:00\", \"2020-03-19T00:00:00\", \"2020-03-20T00:00:00\", \"2020-03-21T00:00:00\", \"2020-03-22T00:00:00\", \"2020-03-23T00:00:00\", \"2020-03-24T00:00:00\", \"2020-03-25T00:00:00\", \"2020-03-26T00:00:00\", \"2020-03-27T00:00:00\", \"2020-03-28T00:00:00\", \"2020-03-29T00:00:00\"], \"xaxis\": \"x6\", \"y\": [-0.9999999999999991, -0.9999999999999991, -0.999999999999999, -0.999999999999999, -0.9999999999999989, -0.9999999999999989, -0.9999999999999989, -0.9999999999999989, -0.9999999999999989, -0.9999999999999989, -0.9999999999999988, -0.9999999999999988, -0.9999999999999988, -0.9999999999999989, -0.9999999999999988, -0.9999999999999988, -0.9999999999999988, -0.9999999999999988, -0.9999999999999988, -0.9999999999999988, -0.9999999999999988, -0.9999999999999989, -0.9999999999999989, -0.9999999999999989, -0.9999999999999989, -0.9999999999999989, -0.9999999999999989, -0.9999999999999989, -0.9999999999999989, -0.9999999999999989, -0.9999999999999989, -0.9999999999999989, -0.9999999999999989, -0.9999999999999989, -0.9999999999999989, -0.9999999999999989, -0.9999999999999988, -0.9999999999999988, -0.9999999999999988, -0.9999999999999988, -0.9999999999999988, -0.9999999999999988, -0.9999999999999988, -0.9999999999999988, -0.9999999999999988, -0.9999999999999988, -0.9999999999999988, -0.9999999999999988, -0.9999999999999988, -0.9999999999999988, -0.9999999999999988, -0.9999999999999988, -0.9999999999999988, -0.9999999999999987, -0.9999999999999987, -0.9999999999999987], \"yaxis\": \"y6\"}, {\"marker\": {\"color\": \"#3f8fc5\"}, \"name\": \"Daily Sales Amount\", \"showlegend\": false, \"type\": \"bar\", \"x\": [\"2020-02-03T00:00:00\", \"2020-02-04T00:00:00\", \"2020-02-05T00:00:00\", \"2020-02-06T00:00:00\", \"2020-02-07T00:00:00\", \"2020-02-08T00:00:00\", \"2020-02-09T00:00:00\", \"2020-02-10T00:00:00\", \"2020-02-11T00:00:00\", \"2020-02-12T00:00:00\", \"2020-02-13T00:00:00\", \"2020-02-14T00:00:00\", \"2020-02-15T00:00:00\", \"2020-02-16T00:00:00\", \"2020-02-17T00:00:00\", \"2020-02-18T00:00:00\", \"2020-02-19T00:00:00\", \"2020-02-20T00:00:00\", \"2020-02-21T00:00:00\", \"2020-02-22T00:00:00\", \"2020-02-23T00:00:00\", \"2020-02-24T00:00:00\", \"2020-02-25T00:00:00\", \"2020-02-26T00:00:00\", \"2020-02-27T00:00:00\", \"2020-02-28T00:00:00\", \"2020-02-29T00:00:00\", \"2020-03-01T00:00:00\", \"2020-03-02T00:00:00\", \"2020-03-03T00:00:00\", \"2020-03-04T00:00:00\", \"2020-03-05T00:00:00\", \"2020-03-06T00:00:00\", \"2020-03-07T00:00:00\", \"2020-03-08T00:00:00\", \"2020-03-09T00:00:00\", \"2020-03-10T00:00:00\", \"2020-03-11T00:00:00\", \"2020-03-12T00:00:00\", \"2020-03-13T00:00:00\", \"2020-03-14T00:00:00\", \"2020-03-15T00:00:00\", \"2020-03-16T00:00:00\", \"2020-03-17T00:00:00\", \"2020-03-18T00:00:00\", \"2020-03-19T00:00:00\", \"2020-03-20T00:00:00\", \"2020-03-21T00:00:00\", \"2020-03-22T00:00:00\", \"2020-03-23T00:00:00\", \"2020-03-24T00:00:00\", \"2020-03-25T00:00:00\", \"2020-03-26T00:00:00\", \"2020-03-27T00:00:00\", \"2020-03-28T00:00:00\", \"2020-03-29T00:00:00\"], \"xaxis\": \"x7\", \"y\": [28425.78, 10517.17, 9532.95, 9596.41, 9374.73, 2.03, -1.04, 25274.73, 9637.85, 8371.21, 8781.05, 8449.22, -3.79, -2.51, 20764.87, 8454.46, 12077.55, 9762.32, 9551.84, 26.87, -1.83, 24973.51, 9362.37, 10484.93, 8390.34, 9355.03, 0.0, -0.78, 26089.45, 8766.89, 10628.2, 8496.63, 7422.85, 100.49, 0.0, 23564.35, 9722.2, 9845.04, 9569.03, 8790.5, 3.99, 0.0, 25197.49, 9040.8, 10050.19, 9593.85, 8896.22, 10.74, 19.21, 35377.11, 19588.56, 21255.98, 20275.35, 21696.16, 17226.41, 16234.45], \"yaxis\": \"y7\"}, {\"marker\": {\"color\": \"#fee6da\"}, \"name\": \"Daily Sales Difference\", \"showlegend\": false, \"type\": \"bar\", \"x\": [\"2020-02-03T00:00:00\", \"2020-02-04T00:00:00\", \"2020-02-05T00:00:00\", \"2020-02-06T00:00:00\", \"2020-02-07T00:00:00\", \"2020-02-08T00:00:00\", \"2020-02-09T00:00:00\", \"2020-02-10T00:00:00\", \"2020-02-11T00:00:00\", \"2020-02-12T00:00:00\", \"2020-02-13T00:00:00\", \"2020-02-14T00:00:00\", \"2020-02-15T00:00:00\", \"2020-02-16T00:00:00\", \"2020-02-17T00:00:00\", \"2020-02-18T00:00:00\", \"2020-02-19T00:00:00\", \"2020-02-20T00:00:00\", \"2020-02-21T00:00:00\", \"2020-02-22T00:00:00\", \"2020-02-23T00:00:00\", \"2020-02-24T00:00:00\", \"2020-02-25T00:00:00\", \"2020-02-26T00:00:00\", \"2020-02-27T00:00:00\", \"2020-02-28T00:00:00\", \"2020-02-29T00:00:00\", \"2020-03-01T00:00:00\", \"2020-03-02T00:00:00\", \"2020-03-03T00:00:00\", \"2020-03-04T00:00:00\", \"2020-03-05T00:00:00\", \"2020-03-06T00:00:00\", \"2020-03-07T00:00:00\", \"2020-03-08T00:00:00\", \"2020-03-09T00:00:00\", \"2020-03-10T00:00:00\", \"2020-03-11T00:00:00\", \"2020-03-12T00:00:00\", \"2020-03-13T00:00:00\", \"2020-03-14T00:00:00\", \"2020-03-15T00:00:00\", \"2020-03-16T00:00:00\", \"2020-03-17T00:00:00\", \"2020-03-18T00:00:00\", \"2020-03-19T00:00:00\", \"2020-03-20T00:00:00\", \"2020-03-21T00:00:00\", \"2020-03-22T00:00:00\", \"2020-03-23T00:00:00\", \"2020-03-24T00:00:00\", \"2020-03-25T00:00:00\", \"2020-03-26T00:00:00\", \"2020-03-27T00:00:00\", \"2020-03-28T00:00:00\", \"2020-03-29T00:00:00\"], \"xaxis\": \"x7\", \"y\": [-248.20000000000073, 1138.9500000000007, 87.59000000000015, -24.100000000000364, 896.6000000000004, 2.65, -1.04, -569.8400000000001, 243.72000000000116, -336.84000000000015, 987.869999999999, -206.6200000000008, -11.920000000000002, -5.859999999999999, 198.39999999999782, -1365.5200000000004, 4464.869999999999, 1116.2399999999998, 1544.0900000000001, -13.02, -12.47, 1862.1299999999974, 1626.1500000000005, 3705.1400000000003, 48.649999999999636, 689.8400000000001, -39.06, -35.93, 2091.420000000002, -591.2200000000012, 4305.010000000001, -2150.870000000001, -2313.01, 83.61, 0.0, 1401.0999999999985, 956.8200000000015, 1594.1600000000017, 1721.050000000001, 1975.2700000000004, 8.34, 0.0, 5363.91, 1037.749999999999, 3279.3500000000004, 2457.5300000000007, 2201.949999999999, 16.25, -1.509999999999998, 14954.48, 11421.530000000002, 13375.99, 12964.829999999998, 13893.71, 17185.89, 16237.27], \"yaxis\": \"y7\"}, {\"marker\": {\"color\": \"#fd994d\"}, \"name\": \"\", \"showlegend\": false, \"type\": \"bar\", \"x\": [\"2020-02-03T00:00:00\", \"2020-02-04T00:00:00\", \"2020-02-05T00:00:00\", \"2020-02-06T00:00:00\", \"2020-02-07T00:00:00\", \"2020-02-08T00:00:00\", \"2020-02-09T00:00:00\", \"2020-02-10T00:00:00\", \"2020-02-11T00:00:00\", \"2020-02-12T00:00:00\", \"2020-02-13T00:00:00\", \"2020-02-14T00:00:00\", \"2020-02-15T00:00:00\", \"2020-02-16T00:00:00\", \"2020-02-17T00:00:00\", \"2020-02-18T00:00:00\", \"2020-02-19T00:00:00\", \"2020-02-20T00:00:00\", \"2020-02-21T00:00:00\", \"2020-02-22T00:00:00\", \"2020-02-23T00:00:00\", \"2020-02-24T00:00:00\", \"2020-02-25T00:00:00\", \"2020-02-26T00:00:00\", \"2020-02-27T00:00:00\", \"2020-02-28T00:00:00\", \"2020-02-29T00:00:00\", \"2020-03-01T00:00:00\", \"2020-03-02T00:00:00\", \"2020-03-03T00:00:00\", \"2020-03-04T00:00:00\", \"2020-03-05T00:00:00\", \"2020-03-06T00:00:00\", \"2020-03-07T00:00:00\", \"2020-03-08T00:00:00\", \"2020-03-09T00:00:00\", \"2020-03-10T00:00:00\", \"2020-03-11T00:00:00\", \"2020-03-12T00:00:00\", \"2020-03-13T00:00:00\", \"2020-03-14T00:00:00\", \"2020-03-15T00:00:00\", \"2020-03-16T00:00:00\", \"2020-03-17T00:00:00\", \"2020-03-18T00:00:00\", \"2020-03-19T00:00:00\", \"2020-03-20T00:00:00\", \"2020-03-21T00:00:00\", \"2020-03-22T00:00:00\", \"2020-03-23T00:00:00\", \"2020-03-24T00:00:00\", \"2020-03-25T00:00:00\", \"2020-03-26T00:00:00\", \"2020-03-27T00:00:00\", \"2020-03-28T00:00:00\", \"2020-03-29T00:00:00\"], \"xaxis\": \"x8\", \"y\": [0.020979021946333942, 0.045421147474781653, 0.01470363271513353, 0.009778033805128539, 0.023323905838769754, 0.02811988246769137, 0.02824046986092732, 0.024389093678968132, 0.010123589406404454, 0.003403187730409263, 0.020311723646837976, 0.001985258750082597, 0.0017437615783093552, 0.0016638731278124652, 0.015758450837715765, -0.013328953289532097, 0.07457303694498196, 0.07574395891853158, 0.108668450641771, 0.10858523992526092, 0.10844993619237187, 0.13269052060843722, 0.19193436230164895, 0.18089349229502139, 0.16215247237695918, 0.14458167534671484, 0.14410767908767452, 0.1436142989167315, 0.14544817144955013, 0.10257157747817036, 0.11396515388716333, 0.07227801740520823, 0.021057620196585525, 0.023105988017577683, 0.023717546580310778, 0.01261263024555559, 0.03959372830736729, -0.0071868378098258745, 0.060650159395268854, 0.14355862278962417, 0.14221715850609984, 0.14221715850609984, 0.22558422169458825, 0.23056782189543856, 0.2717001652041062, 0.2908504990354175, 0.29625709036123826, 0.2964275058818917, 0.29626958097977707, 0.48826809172159846, 0.6976663557308713, 0.8829538441969609, 1.088015464555606, 1.2912418991263772, 1.6225533877599378, 1.9378744649393878], \"yaxis\": \"y8\"}, {\"marker\": {\"color\": \"#3f8fc5\"}, \"name\": \"Daily Sales Amount\", \"showlegend\": false, \"type\": \"bar\", \"x\": [\"2020-02-03T00:00:00\", \"2020-02-04T00:00:00\", \"2020-02-05T00:00:00\", \"2020-02-06T00:00:00\", \"2020-02-07T00:00:00\", \"2020-02-08T00:00:00\", \"2020-02-09T00:00:00\", \"2020-02-10T00:00:00\", \"2020-02-11T00:00:00\", \"2020-02-12T00:00:00\", \"2020-02-13T00:00:00\", \"2020-02-14T00:00:00\", \"2020-02-15T00:00:00\", \"2020-02-16T00:00:00\", \"2020-02-17T00:00:00\", \"2020-02-18T00:00:00\", \"2020-02-19T00:00:00\", \"2020-02-20T00:00:00\", \"2020-02-21T00:00:00\", \"2020-02-22T00:00:00\", \"2020-02-23T00:00:00\", \"2020-02-24T00:00:00\", \"2020-02-25T00:00:00\", \"2020-02-26T00:00:00\", \"2020-02-27T00:00:00\", \"2020-02-28T00:00:00\", \"2020-02-29T00:00:00\", \"2020-03-01T00:00:00\", \"2020-03-02T00:00:00\", \"2020-03-03T00:00:00\", \"2020-03-04T00:00:00\", \"2020-03-05T00:00:00\", \"2020-03-06T00:00:00\", \"2020-03-07T00:00:00\", \"2020-03-08T00:00:00\", \"2020-03-09T00:00:00\", \"2020-03-10T00:00:00\", \"2020-03-11T00:00:00\", \"2020-03-12T00:00:00\", \"2020-03-13T00:00:00\", \"2020-03-14T00:00:00\", \"2020-03-15T00:00:00\", \"2020-03-16T00:00:00\", \"2020-03-17T00:00:00\", \"2020-03-18T00:00:00\", \"2020-03-19T00:00:00\", \"2020-03-20T00:00:00\", \"2020-03-21T00:00:00\", \"2020-03-22T00:00:00\", \"2020-03-23T00:00:00\", \"2020-03-24T00:00:00\", \"2020-03-25T00:00:00\", \"2020-03-26T00:00:00\", \"2020-03-27T00:00:00\", \"2020-03-28T00:00:00\", \"2020-03-29T00:00:00\"], \"xaxis\": \"x9\", \"y\": [31889.1, 10895.73, 13252.7, 11231.99, 9625.28, 1.51, -2.58, 27566.61, 9064.2, 10615.18, 9914.88, 9137.2, 14.97, 7.98, 27475.3, 10728.95, 10792.52, 9832.32, 10578.38, 21.86, 8.99, 25785.37, 9495.19, 10474.55, 8909.02, 9008.88, -0.98, 0.0, 28523.84, 10413.18, 10172.29, 8858.58, 8559.31, 34.9, 13.98, 25803.97, 9190.29, 11177.35, 9044.17, 11671.71, -2.94, 11.97, 27179.9, 9302.9, 10963.09, 11170.7, 10553.27, 31.72, 16.98, 40607.91, 21709.53, 24371.32, 22676.6, 24050.87, 24519.2, 21385.74], \"yaxis\": \"y9\"}, {\"marker\": {\"color\": \"#fee6da\"}, \"name\": \"Daily Sales Difference\", \"showlegend\": false, \"type\": \"bar\", \"x\": [\"2020-02-03T00:00:00\", \"2020-02-04T00:00:00\", \"2020-02-05T00:00:00\", \"2020-02-06T00:00:00\", \"2020-02-07T00:00:00\", \"2020-02-08T00:00:00\", \"2020-02-09T00:00:00\", \"2020-02-10T00:00:00\", \"2020-02-11T00:00:00\", \"2020-02-12T00:00:00\", \"2020-02-13T00:00:00\", \"2020-02-14T00:00:00\", \"2020-02-15T00:00:00\", \"2020-02-16T00:00:00\", \"2020-02-17T00:00:00\", \"2020-02-18T00:00:00\", \"2020-02-19T00:00:00\", \"2020-02-20T00:00:00\", \"2020-02-21T00:00:00\", \"2020-02-22T00:00:00\", \"2020-02-23T00:00:00\", \"2020-02-24T00:00:00\", \"2020-02-25T00:00:00\", \"2020-02-26T00:00:00\", \"2020-02-27T00:00:00\", \"2020-02-28T00:00:00\", \"2020-02-29T00:00:00\", \"2020-03-01T00:00:00\", \"2020-03-02T00:00:00\", \"2020-03-03T00:00:00\", \"2020-03-04T00:00:00\", \"2020-03-05T00:00:00\", \"2020-03-06T00:00:00\", \"2020-03-07T00:00:00\", \"2020-03-08T00:00:00\", \"2020-03-09T00:00:00\", \"2020-03-10T00:00:00\", \"2020-03-11T00:00:00\", \"2020-03-12T00:00:00\", \"2020-03-13T00:00:00\", \"2020-03-14T00:00:00\", \"2020-03-15T00:00:00\", \"2020-03-16T00:00:00\", \"2020-03-17T00:00:00\", \"2020-03-18T00:00:00\", \"2020-03-19T00:00:00\", \"2020-03-20T00:00:00\", \"2020-03-21T00:00:00\", \"2020-03-22T00:00:00\", \"2020-03-23T00:00:00\", \"2020-03-24T00:00:00\", \"2020-03-25T00:00:00\", \"2020-03-26T00:00:00\", \"2020-03-27T00:00:00\", \"2020-03-28T00:00:00\", \"2020-03-29T00:00:00\"], \"xaxis\": \"x9\", \"y\": [5471.98, 344.4599999999991, 4722.41, 2535.289999999999, 593.7200000000012, -5.680000000000001, -2.58, 2838.9300000000003, 109.86000000000058, 1189.2800000000007, 2344.6099999999988, 1131.0100000000011, -186.64000000000001, -32.94, 6245.7199999999975, 2342.34, 2019.8700000000008, 1461.0100000000002, 2412.7999999999993, -128.14999999999998, -15.999999999999998, 2823.5699999999997, 557.3999999999996, 2274.3599999999988, 590.8199999999997, 617.4399999999987, -7.039999999999999, 4.67, 3155.0, 857.5699999999997, 790.5800000000017, -423.0100000000002, 955.2599999999993, -70.71000000000001, 13.98, 1883.4700000000012, 323.880000000001, 3086.96, 1246.5100000000002, 4518.709999999999, -141.82999999999998, 11.97, 6477.34, -234.0599999999995, 3804.2300000000005, 2944.8600000000006, 3352.13, -3.530000000000001, -130.39000000000001, 19492.960000000003, 13394.97, 16688.13, 15056.559999999998, 15686.199999999999, 24511.82, 21369.780000000002], \"yaxis\": \"y9\"}, {\"marker\": {\"color\": \"#fd994d\"}, \"name\": \"\", \"showlegend\": false, \"type\": \"bar\", \"x\": [\"2020-02-03T00:00:00\", \"2020-02-04T00:00:00\", \"2020-02-05T00:00:00\", \"2020-02-06T00:00:00\", \"2020-02-07T00:00:00\", \"2020-02-08T00:00:00\", \"2020-02-09T00:00:00\", \"2020-02-10T00:00:00\", \"2020-02-11T00:00:00\", \"2020-02-12T00:00:00\", \"2020-02-13T00:00:00\", \"2020-02-14T00:00:00\", \"2020-02-15T00:00:00\", \"2020-02-16T00:00:00\", \"2020-02-17T00:00:00\", \"2020-02-18T00:00:00\", \"2020-02-19T00:00:00\", \"2020-02-20T00:00:00\", \"2020-02-21T00:00:00\", \"2020-02-22T00:00:00\", \"2020-02-23T00:00:00\", \"2020-02-24T00:00:00\", \"2020-02-25T00:00:00\", \"2020-02-26T00:00:00\", \"2020-02-27T00:00:00\", \"2020-02-28T00:00:00\", \"2020-02-29T00:00:00\", \"2020-03-01T00:00:00\", \"2020-03-02T00:00:00\", \"2020-03-03T00:00:00\", \"2020-03-04T00:00:00\", \"2020-03-05T00:00:00\", \"2020-03-06T00:00:00\", \"2020-03-07T00:00:00\", \"2020-03-08T00:00:00\", \"2020-03-09T00:00:00\", \"2020-03-10T00:00:00\", \"2020-03-11T00:00:00\", \"2020-03-12T00:00:00\", \"2020-03-13T00:00:00\", \"2020-03-14T00:00:00\", \"2020-03-15T00:00:00\", \"2020-03-16T00:00:00\", \"2020-03-17T00:00:00\", \"2020-03-18T00:00:00\", \"2020-03-19T00:00:00\", \"2020-03-20T00:00:00\", \"2020-03-21T00:00:00\", \"2020-03-22T00:00:00\", \"2020-03-23T00:00:00\", \"2020-03-24T00:00:00\", \"2020-03-25T00:00:00\", \"2020-03-26T00:00:00\", \"2020-03-27T00:00:00\", \"2020-03-28T00:00:00\", \"2020-03-29T00:00:00\"], \"xaxis\": \"x10\", \"y\": [0.10986223402531103, 0.12764462126312237, 0.17415340226892906, 0.2342314570491788, 0.21567978588390124, 0.21596909928905927, 0.21601625577832695, 0.1791633039341003, 0.1800225729868803, 0.11930338506890692, 0.11836071975556672, 0.12958300485061125, 0.12608211223076982, 0.12547934381762071, 0.19486075923333002, 0.2375706056096598, 0.2557558566723661, 0.23596867196144933, 0.25852111340832584, 0.25982434349251227, 0.26020689744037906, 0.1920618232908904, 0.15911193565189574, 0.16519475664066952, 0.15001790038366036, 0.11791714296644606, 0.12034647144895194, 0.12077314159048269, 0.12146084330991469, 0.12522329907896146, 0.09848110016210265, 0.08059314707929555, 0.08715071072451108, 0.08597037756837134, 0.08611571027226139, 0.06695408967925509, 0.05871294172891206, 0.09970579874560537, 0.1319393479995079, 0.1967119209447925, 0.19532419637696274, 0.19528828225994532, 0.29429119957170746, 0.2801525885885032, 0.2987900265832546, 0.32846745537417665, 0.3061431059629849, 0.3093596536248828, 0.3058139548045409, 0.5470984195729083, 0.8210133459213074, 1.05722113792456, 1.3019068816977355, 1.5049709994532674, 1.9661221253748224, 2.375727375837128], \"yaxis\": \"y10\"}, {\"marker\": {\"color\": \"#3f8fc5\"}, \"name\": \"Daily Sales Amount\", \"showlegend\": false, \"type\": \"bar\", \"x\": [\"2020-02-03T00:00:00\", \"2020-02-04T00:00:00\", \"2020-02-05T00:00:00\", \"2020-02-06T00:00:00\", \"2020-02-07T00:00:00\", \"2020-02-08T00:00:00\", \"2020-02-09T00:00:00\", \"2020-02-10T00:00:00\", \"2020-02-11T00:00:00\", \"2020-02-12T00:00:00\", \"2020-02-13T00:00:00\", \"2020-02-14T00:00:00\", \"2020-02-15T00:00:00\", \"2020-02-16T00:00:00\", \"2020-02-17T00:00:00\", \"2020-02-18T00:00:00\", \"2020-02-19T00:00:00\", \"2020-02-20T00:00:00\", \"2020-02-21T00:00:00\", \"2020-02-22T00:00:00\", \"2020-02-23T00:00:00\", \"2020-02-24T00:00:00\", \"2020-02-25T00:00:00\", \"2020-02-26T00:00:00\", \"2020-02-27T00:00:00\", \"2020-02-28T00:00:00\", \"2020-02-29T00:00:00\", \"2020-03-01T00:00:00\", \"2020-03-02T00:00:00\", \"2020-03-03T00:00:00\", \"2020-03-04T00:00:00\", \"2020-03-05T00:00:00\", \"2020-03-06T00:00:00\", \"2020-03-07T00:00:00\", \"2020-03-08T00:00:00\", \"2020-03-09T00:00:00\", \"2020-03-10T00:00:00\", \"2020-03-11T00:00:00\", \"2020-03-12T00:00:00\", \"2020-03-13T00:00:00\", \"2020-03-14T00:00:00\", \"2020-03-15T00:00:00\", \"2020-03-16T00:00:00\", \"2020-03-17T00:00:00\", \"2020-03-18T00:00:00\", \"2020-03-19T00:00:00\", \"2020-03-20T00:00:00\", \"2020-03-21T00:00:00\", \"2020-03-22T00:00:00\", \"2020-03-23T00:00:00\", \"2020-03-24T00:00:00\", \"2020-03-25T00:00:00\", \"2020-03-26T00:00:00\", \"2020-03-27T00:00:00\", \"2020-03-28T00:00:00\", \"2020-03-29T00:00:00\"], \"xaxis\": \"x11\", \"y\": [26641.21, 9951.34, 9517.92, 9280.28, 8142.02, -2.1, 24.59, 25187.01, 9679.39, 10059.88, 8202.33, 7197.78, -0.81, 16.78, 22904.99, 10480.77, 8214.11, 8564.47, 7884.15, 3.99, 0.0, 23815.43, 9019.72, 7911.16, 9512.61, 8749.08, 0.0, 0.0, 24994.83, 9296.38, 8824.39, 8217.11, 10638.64, -0.88, 7.21, 26362.97, 8677.54, 10235.08, 8331.77, 7555.52, 109.02, 3.03, 25695.35, 5648.93, 9263.43, 8729.12, 8191.53, -4.86, 14.08, 32291.19, 15031.69, 12955.9, 13089.8, 15521.48, 11415.03, 8878.78], \"yaxis\": \"y11\"}, {\"marker\": {\"color\": \"#fee6da\"}, \"name\": \"Daily Sales Difference\", \"showlegend\": false, \"type\": \"bar\", \"x\": [\"2020-02-03T00:00:00\", \"2020-02-04T00:00:00\", \"2020-02-05T00:00:00\", \"2020-02-06T00:00:00\", \"2020-02-07T00:00:00\", \"2020-02-08T00:00:00\", \"2020-02-09T00:00:00\", \"2020-02-10T00:00:00\", \"2020-02-11T00:00:00\", \"2020-02-12T00:00:00\", \"2020-02-13T00:00:00\", \"2020-02-14T00:00:00\", \"2020-02-15T00:00:00\", \"2020-02-16T00:00:00\", \"2020-02-17T00:00:00\", \"2020-02-18T00:00:00\", \"2020-02-19T00:00:00\", \"2020-02-20T00:00:00\", \"2020-02-21T00:00:00\", \"2020-02-22T00:00:00\", \"2020-02-23T00:00:00\", \"2020-02-24T00:00:00\", \"2020-02-25T00:00:00\", \"2020-02-26T00:00:00\", \"2020-02-27T00:00:00\", \"2020-02-28T00:00:00\", \"2020-02-29T00:00:00\", \"2020-03-01T00:00:00\", \"2020-03-02T00:00:00\", \"2020-03-03T00:00:00\", \"2020-03-04T00:00:00\", \"2020-03-05T00:00:00\", \"2020-03-06T00:00:00\", \"2020-03-07T00:00:00\", \"2020-03-08T00:00:00\", \"2020-03-09T00:00:00\", \"2020-03-10T00:00:00\", \"2020-03-11T00:00:00\", \"2020-03-12T00:00:00\", \"2020-03-13T00:00:00\", \"2020-03-14T00:00:00\", \"2020-03-15T00:00:00\", \"2020-03-16T00:00:00\", \"2020-03-17T00:00:00\", \"2020-03-18T00:00:00\", \"2020-03-19T00:00:00\", \"2020-03-20T00:00:00\", \"2020-03-21T00:00:00\", \"2020-03-22T00:00:00\", \"2020-03-23T00:00:00\", \"2020-03-24T00:00:00\", \"2020-03-25T00:00:00\", \"2020-03-26T00:00:00\", \"2020-03-27T00:00:00\", \"2020-03-28T00:00:00\", \"2020-03-29T00:00:00\"], \"xaxis\": \"x11\", \"y\": [3863.9199999999983, 1290.33, 1250.4799999999996, 1811.590000000001, 739.3000000000002, -22.060000000000002, 21.43, 2400.0, 2264.1099999999997, 2639.079999999999, 625.8999999999996, -779.4200000000001, -4.800000000000001, 12.790000000000001, 2044.0600000000013, 1742.0900000000001, 462.7900000000009, 431.84999999999945, 829.5599999999995, -219.32999999999998, -46.92, 1545.4000000000015, 403.84999999999854, 242.47000000000025, 2130.6500000000005, 1478.7799999999997, -13.57, 0.0, 3296.09, 1113.449999999999, -389.0100000000002, 715.8100000000004, 3477.1099999999997, -27.86, 7.21, 7131.760000000002, 1609.6100000000006, 2018.7999999999993, 1530.2900000000009, 462.0100000000002, 109.92, 3.03, 7555.049999999999, -1483.12, 2376.6500000000005, 1924.550000000001, 1226.6799999999994, -15.760000000000002, -34.230000000000004, 14108.32, 8783.73, 5268.7699999999995, 6199.869999999999, 9419.029999999999, 11146.12, 8773.42], \"yaxis\": \"y11\"}, {\"marker\": {\"color\": \"#fd994d\"}, \"name\": \"\", \"showlegend\": false, \"type\": \"bar\", \"x\": [\"2020-02-03T00:00:00\", \"2020-02-04T00:00:00\", \"2020-02-05T00:00:00\", \"2020-02-06T00:00:00\", \"2020-02-07T00:00:00\", \"2020-02-08T00:00:00\", \"2020-02-09T00:00:00\", \"2020-02-10T00:00:00\", \"2020-02-11T00:00:00\", \"2020-02-12T00:00:00\", \"2020-02-13T00:00:00\", \"2020-02-14T00:00:00\", \"2020-02-15T00:00:00\", \"2020-02-16T00:00:00\", \"2020-02-17T00:00:00\", \"2020-02-18T00:00:00\", \"2020-02-19T00:00:00\", \"2020-02-20T00:00:00\", \"2020-02-21T00:00:00\", \"2020-02-22T00:00:00\", \"2020-02-23T00:00:00\", \"2020-02-24T00:00:00\", \"2020-02-25T00:00:00\", \"2020-02-26T00:00:00\", \"2020-02-27T00:00:00\", \"2020-02-28T00:00:00\", \"2020-02-29T00:00:00\", \"2020-03-01T00:00:00\", \"2020-03-02T00:00:00\", \"2020-03-03T00:00:00\", \"2020-03-04T00:00:00\", \"2020-03-05T00:00:00\", \"2020-03-06T00:00:00\", \"2020-03-07T00:00:00\", \"2020-03-08T00:00:00\", \"2020-03-09T00:00:00\", \"2020-03-10T00:00:00\", \"2020-03-11T00:00:00\", \"2020-03-12T00:00:00\", \"2020-03-13T00:00:00\", \"2020-03-14T00:00:00\", \"2020-03-15T00:00:00\", \"2020-03-16T00:00:00\", \"2020-03-17T00:00:00\", \"2020-03-18T00:00:00\", \"2020-03-19T00:00:00\", \"2020-03-20T00:00:00\", \"2020-03-21T00:00:00\", \"2020-03-22T00:00:00\", \"2020-03-23T00:00:00\", \"2020-03-24T00:00:00\", \"2020-03-25T00:00:00\", \"2020-03-26T00:00:00\", \"2020-03-27T00:00:00\", \"2020-03-28T00:00:00\", \"2020-03-29T00:00:00\"], \"xaxis\": \"x12\", \"y\": [0.13117258719268876, 0.08483576827399486, 0.06314168011054155, 0.12937903347426016, 0.158855216300672, 0.16361501874504292, 0.164009994822369, 0.13717398593187702, 0.15862395543384178, 0.1876217924574639, 0.1647069017675118, 0.13438085528076704, 0.1347457415189972, 0.13458118594257296, 0.13269416929289068, 0.11942675462068508, 0.07755080364692324, 0.07311488415752465, 0.10501898142051114, 0.10051672069507522, 0.09930431495910219, 0.08752601559496997, 0.06298587273015932, 0.059003140781202834, 0.09173025558106018, 0.10350039615094908, 0.10777072780431607, 0.10874735674765357, 0.1431793839708262, 0.15795618178959359, 0.14167154939742344, 0.11509878203957413, 0.15249499409259104, 0.1521912849856677, 0.15232533752980282, 0.23439382586980684, 0.24948294253157344, 0.3034726186626895, 0.32464255018151444, 0.26285107434566424, 0.2658485904938912, 0.2657622438235778, 0.28083480914481695, 0.215183509937799, 0.2291659519138931, 0.23771096729199437, 0.25502632945513093, 0.2522250484061075, 0.25114987118311394, 0.3932861224327515, 0.6284009476758192, 0.6804000035693614, 0.7720155240001778, 0.9681241013027577, 1.2083327830066146, 1.4004574294470142], \"yaxis\": \"y12\"}, {\"marker\": {\"color\": \"#3f8fc5\"}, \"name\": \"Daily Sales Amount\", \"showlegend\": false, \"type\": \"bar\", \"x\": [\"2020-02-03T00:00:00\", \"2020-02-04T00:00:00\", \"2020-02-05T00:00:00\", \"2020-02-06T00:00:00\", \"2020-02-07T00:00:00\", \"2020-02-08T00:00:00\", \"2020-02-09T00:00:00\", \"2020-02-10T00:00:00\", \"2020-02-11T00:00:00\", \"2020-02-12T00:00:00\", \"2020-02-13T00:00:00\", \"2020-02-14T00:00:00\", \"2020-02-15T00:00:00\", \"2020-02-16T00:00:00\", \"2020-02-17T00:00:00\", \"2020-02-18T00:00:00\", \"2020-02-19T00:00:00\", \"2020-02-20T00:00:00\", \"2020-02-21T00:00:00\", \"2020-02-22T00:00:00\", \"2020-02-23T00:00:00\", \"2020-02-24T00:00:00\", \"2020-02-25T00:00:00\", \"2020-02-26T00:00:00\", \"2020-02-27T00:00:00\", \"2020-02-28T00:00:00\", \"2020-02-29T00:00:00\", \"2020-03-01T00:00:00\", \"2020-03-02T00:00:00\", \"2020-03-03T00:00:00\", \"2020-03-04T00:00:00\", \"2020-03-05T00:00:00\", \"2020-03-06T00:00:00\", \"2020-03-07T00:00:00\", \"2020-03-08T00:00:00\", \"2020-03-09T00:00:00\", \"2020-03-10T00:00:00\", \"2020-03-11T00:00:00\", \"2020-03-12T00:00:00\", \"2020-03-13T00:00:00\", \"2020-03-14T00:00:00\", \"2020-03-15T00:00:00\", \"2020-03-16T00:00:00\", \"2020-03-17T00:00:00\", \"2020-03-18T00:00:00\", \"2020-03-19T00:00:00\", \"2020-03-20T00:00:00\", \"2020-03-21T00:00:00\", \"2020-03-22T00:00:00\", \"2020-03-23T00:00:00\", \"2020-03-24T00:00:00\", \"2020-03-25T00:00:00\", \"2020-03-26T00:00:00\", \"2020-03-27T00:00:00\", \"2020-03-28T00:00:00\", \"2020-03-29T00:00:00\"], \"xaxis\": \"x13\", \"y\": [7795.17, 3240.13, 2485.8, 2573.72, 2223.18, -1.23, 2.01, 6655.96, 3081.0, 1996.38, 2481.63, 2462.1, 0.0, 11.97, 7500.15, 2852.85, 2656.91, 2613.15, 2349.29, -0.95, 0.0, 6491.68, 2348.82, 2349.74, 2542.86, 2227.4, -2.44, 0.0, 6305.06, 2196.14, 2317.81, 2140.86, 2560.22, 0.0, -0.72, 6017.03, 2540.72, 2112.05, 1812.38, 2053.01, 0.0, 0.0, 5535.55, 2122.59, 1787.11, 715.7, 3340.78, 0.0, 0.0, 7524.7, 3273.84, 3510.26, 3072.74, 3212.42, 8.53, 0.0], \"yaxis\": \"y13\"}, {\"marker\": {\"color\": \"#fee6da\"}, \"name\": \"Daily Sales Difference\", \"showlegend\": false, \"type\": \"bar\", \"x\": [\"2020-02-03T00:00:00\", \"2020-02-04T00:00:00\", \"2020-02-05T00:00:00\", \"2020-02-06T00:00:00\", \"2020-02-07T00:00:00\", \"2020-02-08T00:00:00\", \"2020-02-09T00:00:00\", \"2020-02-10T00:00:00\", \"2020-02-11T00:00:00\", \"2020-02-12T00:00:00\", \"2020-02-13T00:00:00\", \"2020-02-14T00:00:00\", \"2020-02-15T00:00:00\", \"2020-02-16T00:00:00\", \"2020-02-17T00:00:00\", \"2020-02-18T00:00:00\", \"2020-02-19T00:00:00\", \"2020-02-20T00:00:00\", \"2020-02-21T00:00:00\", \"2020-02-22T00:00:00\", \"2020-02-23T00:00:00\", \"2020-02-24T00:00:00\", \"2020-02-25T00:00:00\", \"2020-02-26T00:00:00\", \"2020-02-27T00:00:00\", \"2020-02-28T00:00:00\", \"2020-02-29T00:00:00\", \"2020-03-01T00:00:00\", \"2020-03-02T00:00:00\", \"2020-03-03T00:00:00\", \"2020-03-04T00:00:00\", \"2020-03-05T00:00:00\", \"2020-03-06T00:00:00\", \"2020-03-07T00:00:00\", \"2020-03-08T00:00:00\", \"2020-03-09T00:00:00\", \"2020-03-10T00:00:00\", \"2020-03-11T00:00:00\", \"2020-03-12T00:00:00\", \"2020-03-13T00:00:00\", \"2020-03-14T00:00:00\", \"2020-03-15T00:00:00\", \"2020-03-16T00:00:00\", \"2020-03-17T00:00:00\", \"2020-03-18T00:00:00\", \"2020-03-19T00:00:00\", \"2020-03-20T00:00:00\", \"2020-03-21T00:00:00\", \"2020-03-22T00:00:00\", \"2020-03-23T00:00:00\", \"2020-03-24T00:00:00\", \"2020-03-25T00:00:00\", \"2020-03-26T00:00:00\", \"2020-03-27T00:00:00\", \"2020-03-28T00:00:00\", \"2020-03-29T00:00:00\"], \"xaxis\": \"x13\", \"y\": [3988.9700000000003, 1794.0200000000002, 1240.2200000000003, 1403.6499999999999, 1125.6899999999998, -1.23, 2.01, 2653.21, 1394.69, 1032.14, 1436.8300000000002, 1567.73, 0.0, 11.97, 4594.849999999999, 1591.98, 993.1999999999998, 919.74, 1108.6499999999999, -0.95, 0.0, 2753.2000000000003, 1072.3600000000001, 1155.8099999999997, 1416.5500000000002, 1093.66, -2.44, 0.0, 2539.6800000000003, 633.8199999999999, 926.3799999999999, 462.82000000000016, 1447.0899999999997, 0.0, -0.72, 2392.5499999999997, 1402.2499999999998, 1043.4300000000003, 567.2700000000002, 811.7400000000002, 0.86, 0.0, 2867.2400000000002, 917.2500000000002, 743.74, -570.1699999999998, 2380.05, -3.99, -7.98, 4356.139999999999, 1973.21, 2207.33, 1782.5499999999997, 1938.52, 8.53, 0.0], \"yaxis\": \"y13\"}, {\"marker\": {\"color\": \"#fd994d\"}, \"name\": \"\", \"showlegend\": false, \"type\": \"bar\", \"x\": [\"2020-02-03T00:00:00\", \"2020-02-04T00:00:00\", \"2020-02-05T00:00:00\", \"2020-02-06T00:00:00\", \"2020-02-07T00:00:00\", \"2020-02-08T00:00:00\", \"2020-02-09T00:00:00\", \"2020-02-10T00:00:00\", \"2020-02-11T00:00:00\", \"2020-02-12T00:00:00\", \"2020-02-13T00:00:00\", \"2020-02-14T00:00:00\", \"2020-02-15T00:00:00\", \"2020-02-16T00:00:00\", \"2020-02-17T00:00:00\", \"2020-02-18T00:00:00\", \"2020-02-19T00:00:00\", \"2020-02-20T00:00:00\", \"2020-02-21T00:00:00\", \"2020-02-22T00:00:00\", \"2020-02-23T00:00:00\", \"2020-02-24T00:00:00\", \"2020-02-25T00:00:00\", \"2020-02-26T00:00:00\", \"2020-02-27T00:00:00\", \"2020-02-28T00:00:00\", \"2020-02-29T00:00:00\", \"2020-03-01T00:00:00\", \"2020-03-02T00:00:00\", \"2020-03-03T00:00:00\", \"2020-03-04T00:00:00\", \"2020-03-05T00:00:00\", \"2020-03-06T00:00:00\", \"2020-03-07T00:00:00\", \"2020-03-08T00:00:00\", \"2020-03-09T00:00:00\", \"2020-03-10T00:00:00\", \"2020-03-11T00:00:00\", \"2020-03-12T00:00:00\", \"2020-03-13T00:00:00\", \"2020-03-14T00:00:00\", \"2020-03-15T00:00:00\", \"2020-03-16T00:00:00\", \"2020-03-17T00:00:00\", \"2020-03-18T00:00:00\", \"2020-03-19T00:00:00\", \"2020-03-20T00:00:00\", \"2020-03-21T00:00:00\", \"2020-03-22T00:00:00\", \"2020-03-23T00:00:00\", \"2020-03-24T00:00:00\", \"2020-03-25T00:00:00\", \"2020-03-26T00:00:00\", \"2020-03-27T00:00:00\", \"2020-03-28T00:00:00\", \"2020-03-29T00:00:00\"], \"xaxis\": \"x14\", \"y\": [0.8277368213020422, 0.9118184622503291, 0.9519466907171898, 0.9423598733808429, 1.08979573210731, 1.0896554084502243, 1.089884717841071, 0.9169348359741147, 0.8496055291126052, 0.8530747035599726, 0.8689968495575646, 0.9409843735270549, 0.9411275221211148, 0.9422866765900864, 1.3393173066916457, 1.447822925831523, 1.3124590522650794, 1.1499003285948843, 1.0520839395111574, 1.051975540653567, 1.0506097150479312, 0.7675039673401696, 0.7122036472583158, 0.7665833234896517, 0.8752072688092813, 0.8844846804551243, 0.8843087430274477, 0.8843087430274477, 0.8563764298207832, 0.778561733062467, 0.7358856822115167, 0.5932193253319991, 0.6316677707327849, 0.6319243346687282, 0.6318486272777941, 0.6256473199991468, 0.7411919893131227, 0.7825146067259372, 0.836633572695826, 0.7473620303079498, 0.7475427102508221, 0.7476292789906096, 0.9092328132896448, 0.835751953138149, 0.7981179433005443, 0.6409334569344256, 0.8849898642422769, 0.8837143762007156, 0.8816194905227321, 1.0181348230291425, 1.1415328272722252, 1.2868869300147323, 1.5790036353408405, 1.4668802062245914, 1.469082079866351, 1.4714456569592183], \"yaxis\": \"y14\"}, {\"marker\": {\"color\": \"#3f8fc5\"}, \"name\": \"Daily Sales Amount\", \"showlegend\": false, \"type\": \"bar\", \"x\": [\"2020-02-03T00:00:00\", \"2020-02-04T00:00:00\", \"2020-02-05T00:00:00\", \"2020-02-06T00:00:00\", \"2020-02-07T00:00:00\", \"2020-02-08T00:00:00\", \"2020-02-09T00:00:00\", \"2020-02-10T00:00:00\", \"2020-02-11T00:00:00\", \"2020-02-12T00:00:00\", \"2020-02-13T00:00:00\", \"2020-02-14T00:00:00\", \"2020-02-15T00:00:00\", \"2020-02-16T00:00:00\", \"2020-02-17T00:00:00\", \"2020-02-18T00:00:00\", \"2020-02-19T00:00:00\", \"2020-02-20T00:00:00\", \"2020-02-21T00:00:00\", \"2020-02-22T00:00:00\", \"2020-02-23T00:00:00\", \"2020-02-24T00:00:00\", \"2020-02-25T00:00:00\", \"2020-02-26T00:00:00\", \"2020-02-27T00:00:00\", \"2020-02-28T00:00:00\", \"2020-02-29T00:00:00\", \"2020-03-01T00:00:00\", \"2020-03-02T00:00:00\", \"2020-03-03T00:00:00\", \"2020-03-04T00:00:00\", \"2020-03-05T00:00:00\", \"2020-03-06T00:00:00\", \"2020-03-07T00:00:00\", \"2020-03-08T00:00:00\", \"2020-03-09T00:00:00\", \"2020-03-10T00:00:00\", \"2020-03-11T00:00:00\", \"2020-03-12T00:00:00\", \"2020-03-13T00:00:00\", \"2020-03-14T00:00:00\", \"2020-03-15T00:00:00\", \"2020-03-16T00:00:00\", \"2020-03-17T00:00:00\", \"2020-03-18T00:00:00\", \"2020-03-19T00:00:00\", \"2020-03-20T00:00:00\", \"2020-03-21T00:00:00\", \"2020-03-22T00:00:00\", \"2020-03-23T00:00:00\", \"2020-03-24T00:00:00\", \"2020-03-25T00:00:00\", \"2020-03-26T00:00:00\", \"2020-03-27T00:00:00\", \"2020-03-28T00:00:00\", \"2020-03-29T00:00:00\"], \"xaxis\": \"x15\", \"y\": [20287.53, 6988.98, 6016.56, 6923.26, 6353.53, 11.46, -1.12, 18826.63, 5894.03, 6588.93, 7756.02, 5549.97, 5.56, -1.17, 18830.12, 6528.6, 6380.59, 5881.65, 6770.35, -2.28, 0.0, 17856.51, 5550.63, 6534.28, 7617.08, 7467.43, 3.39, -3.35, 22319.69, 8804.05, 7400.95, 6861.63, 7431.1, 23.9, 0.0, 28478.13, 8190.0, 8378.49, 7924.02, 7946.2, -0.42, 0.0, 23759.78, 7182.11, 8116.37, 7768.84, 7534.43, 116.13, 0.0, 30659.17, 14466.8, 13283.04, 13342.27, 13932.54, 12717.5, 11381.73], \"yaxis\": \"y15\"}, {\"marker\": {\"color\": \"#fee6da\"}, \"name\": \"Daily Sales Difference\", \"showlegend\": false, \"type\": \"bar\", \"x\": [\"2020-02-03T00:00:00\", \"2020-02-04T00:00:00\", \"2020-02-05T00:00:00\", \"2020-02-06T00:00:00\", \"2020-02-07T00:00:00\", \"2020-02-08T00:00:00\", \"2020-02-09T00:00:00\", \"2020-02-10T00:00:00\", \"2020-02-11T00:00:00\", \"2020-02-12T00:00:00\", \"2020-02-13T00:00:00\", \"2020-02-14T00:00:00\", \"2020-02-15T00:00:00\", \"2020-02-16T00:00:00\", \"2020-02-17T00:00:00\", \"2020-02-18T00:00:00\", \"2020-02-19T00:00:00\", \"2020-02-20T00:00:00\", \"2020-02-21T00:00:00\", \"2020-02-22T00:00:00\", \"2020-02-23T00:00:00\", \"2020-02-24T00:00:00\", \"2020-02-25T00:00:00\", \"2020-02-26T00:00:00\", \"2020-02-27T00:00:00\", \"2020-02-28T00:00:00\", \"2020-02-29T00:00:00\", \"2020-03-01T00:00:00\", \"2020-03-02T00:00:00\", \"2020-03-03T00:00:00\", \"2020-03-04T00:00:00\", \"2020-03-05T00:00:00\", \"2020-03-06T00:00:00\", \"2020-03-07T00:00:00\", \"2020-03-08T00:00:00\", \"2020-03-09T00:00:00\", \"2020-03-10T00:00:00\", \"2020-03-11T00:00:00\", \"2020-03-12T00:00:00\", \"2020-03-13T00:00:00\", \"2020-03-14T00:00:00\", \"2020-03-15T00:00:00\", \"2020-03-16T00:00:00\", \"2020-03-17T00:00:00\", \"2020-03-18T00:00:00\", \"2020-03-19T00:00:00\", \"2020-03-20T00:00:00\", \"2020-03-21T00:00:00\", \"2020-03-22T00:00:00\", \"2020-03-23T00:00:00\", \"2020-03-24T00:00:00\", \"2020-03-25T00:00:00\", \"2020-03-26T00:00:00\", \"2020-03-27T00:00:00\", \"2020-03-28T00:00:00\", \"2020-03-29T00:00:00\"], \"xaxis\": \"x15\", \"y\": [-15016.050000000003, -4478.720000000001, -4402.239999999999, -2258.8099999999995, -4680.740000000001, -23.72, -1.12, -16901.289999999997, -5593.37, -2338.7299999999996, 35.410000000000764, -4693.2699999999995, -24.35, -61.61, -12398.400000000001, -5524.15, -4164.08, -4194.09, -2788.09, -1.69, 0.0, -14717.420000000002, -4373.7300000000005, -3254.63, -2721.129999999999, -5035.74, -119.02, -3.35, -14424.670000000002, -3228.2700000000004, -3210.9000000000005, -4054.8100000000004, -2956.039999999999, 12.479999999999999, 1.31, -1299.2599999999984, -1124.5699999999997, -2256.4500000000007, -1318.6099999999988, -1172.3599999999997, -62.190000000000005, -6.08, -2818.3600000000006, -3285.7799999999997, 267.3699999999999, -964.3400000000001, -562.3099999999995, 111.89999999999999, -3.99, 3060.2599999999984, 5219.49, 5114.090000000001, 5018.560000000001, 6346.370000000001, 12679.55, 11381.73], \"yaxis\": \"y15\"}, {\"marker\": {\"color\": \"#fd994d\"}, \"name\": \"\", \"showlegend\": false, \"type\": \"bar\", \"x\": [\"2020-02-03T00:00:00\", \"2020-02-04T00:00:00\", \"2020-02-05T00:00:00\", \"2020-02-06T00:00:00\", \"2020-02-07T00:00:00\", \"2020-02-08T00:00:00\", \"2020-02-09T00:00:00\", \"2020-02-10T00:00:00\", \"2020-02-11T00:00:00\", \"2020-02-12T00:00:00\", \"2020-02-13T00:00:00\", \"2020-02-14T00:00:00\", \"2020-02-15T00:00:00\", \"2020-02-16T00:00:00\", \"2020-02-17T00:00:00\", \"2020-02-18T00:00:00\", \"2020-02-19T00:00:00\", \"2020-02-20T00:00:00\", \"2020-02-21T00:00:00\", \"2020-02-22T00:00:00\", \"2020-02-23T00:00:00\", \"2020-02-24T00:00:00\", \"2020-02-25T00:00:00\", \"2020-02-26T00:00:00\", \"2020-02-27T00:00:00\", \"2020-02-28T00:00:00\", \"2020-02-29T00:00:00\", \"2020-03-01T00:00:00\", \"2020-03-02T00:00:00\", \"2020-03-03T00:00:00\", \"2020-03-04T00:00:00\", \"2020-03-05T00:00:00\", \"2020-03-06T00:00:00\", \"2020-03-07T00:00:00\", \"2020-03-08T00:00:00\", \"2020-03-09T00:00:00\", \"2020-03-10T00:00:00\", \"2020-03-11T00:00:00\", \"2020-03-12T00:00:00\", \"2020-03-13T00:00:00\", \"2020-03-14T00:00:00\", \"2020-03-15T00:00:00\", \"2020-03-16T00:00:00\", \"2020-03-17T00:00:00\", \"2020-03-18T00:00:00\", \"2020-03-19T00:00:00\", \"2020-03-20T00:00:00\", \"2020-03-21T00:00:00\", \"2020-03-22T00:00:00\", \"2020-03-23T00:00:00\", \"2020-03-24T00:00:00\", \"2020-03-25T00:00:00\", \"2020-03-26T00:00:00\", \"2020-03-27T00:00:00\", \"2020-03-28T00:00:00\", \"2020-03-29T00:00:00\"], \"xaxis\": \"x16\", \"y\": [-0.42411641998806604, -0.43168173367095963, -0.4408683705504426, -0.40496763919829504, -0.39870311024802163, -0.39866312162971895, -0.3985119109109322, -0.4205515274072339, -0.4347565225117239, -0.4162312731937512, -0.393732324219063, -0.3981021016290228, -0.398138898473281, -0.3986298401098267, -0.35975780003322966, -0.35587796900024293, -0.37326652396614746, -0.41839882848139487, -0.39639134868886683, -0.3962475773589139, -0.3957349032862044, -0.41961827654697703, -0.4160778132698927, -0.4078048920207916, -0.3859162082732204, -0.4007073794999708, -0.40161159341558195, -0.401656111102326, -0.37687905857135273, -0.35308510870559806, -0.3490257469370627, -0.3626740688443525, -0.34643601174640404, -0.3452830378051617, -0.34523089947215846, -0.1998432228818644, -0.1778686943359029, -0.16437560555169917, -0.12889656979897246, -0.10510498074838925, -0.10612302095935977, -0.10621994209162067, -0.13483784349233263, -0.16517665025311568, -0.13258797168280512, -0.12802338054421059, -0.12026789528877113, -0.11756004591217373, -0.11753017057118531, -0.021941092463675926, 0.11584577861504775, 0.19360483699255626, 0.29226688956940294, 0.4080969230766718, 0.6140098108829071, 0.8008144284237995], \"yaxis\": \"y16\"}],\n",
       "                        {\"annotations\": [{\"font\": {\"size\": 16}, \"showarrow\": false, \"text\": \"Thicket 1 - Total Daily Sales\", \"x\": 0.2125, \"xanchor\": \"center\", \"xref\": \"paper\", \"y\": 1.0, \"yanchor\": \"bottom\", \"yref\": \"paper\"}, {\"font\": {\"size\": 16}, \"showarrow\": false, \"text\": \"Thicket 1 - 7 Day Avg Sales Comp\", \"x\": 0.7875, \"xanchor\": \"center\", \"xref\": \"paper\", \"y\": 1.0, \"yanchor\": \"bottom\", \"yref\": \"paper\"}, {\"font\": {\"size\": 16}, \"showarrow\": false, \"text\": \"Thicket 2 - Total Daily Sales\", \"x\": 0.2125, \"xanchor\": \"center\", \"xref\": \"paper\", \"y\": 0.8675, \"yanchor\": \"bottom\", \"yref\": \"paper\"}, {\"font\": {\"size\": 16}, \"showarrow\": false, \"text\": \"Thicket 2 - 7 Day Avg Sales Comp\", \"x\": 0.7875, \"xanchor\": \"center\", \"xref\": \"paper\", \"y\": 0.8675, \"yanchor\": \"bottom\", \"yref\": \"paper\"}, {\"font\": {\"size\": 16}, \"showarrow\": false, \"text\": \"Thicket 3 - Total Daily Sales\", \"x\": 0.2125, \"xanchor\": \"center\", \"xref\": \"paper\", \"y\": 0.7350000000000001, \"yanchor\": \"bottom\", \"yref\": \"paper\"}, {\"font\": {\"size\": 16}, \"showarrow\": false, \"text\": \"Thicket 3 - 7 Day Avg Sales Comp\", \"x\": 0.7875, \"xanchor\": \"center\", \"xref\": \"paper\", \"y\": 0.7350000000000001, \"yanchor\": \"bottom\", \"yref\": \"paper\"}, {\"font\": {\"size\": 16}, \"showarrow\": false, \"text\": \"Thicket 4 - Total Daily Sales\", \"x\": 0.2125, \"xanchor\": \"center\", \"xref\": \"paper\", \"y\": 0.6025, \"yanchor\": \"bottom\", \"yref\": \"paper\"}, {\"font\": {\"size\": 16}, \"showarrow\": false, \"text\": \"Thicket 4 - 7 Day Avg Sales Comp\", \"x\": 0.7875, \"xanchor\": \"center\", \"xref\": \"paper\", \"y\": 0.6025, \"yanchor\": \"bottom\", \"yref\": \"paper\"}, {\"font\": {\"size\": 16}, \"showarrow\": false, \"text\": \"Thicket 5 - Total Daily Sales\", \"x\": 0.2125, \"xanchor\": \"center\", \"xref\": \"paper\", \"y\": 0.47000000000000003, \"yanchor\": \"bottom\", \"yref\": \"paper\"}, {\"font\": {\"size\": 16}, \"showarrow\": false, \"text\": \"Thicket 5 - 7 Day Avg Sales Comp\", \"x\": 0.7875, \"xanchor\": \"center\", \"xref\": \"paper\", \"y\": 0.47000000000000003, \"yanchor\": \"bottom\", \"yref\": \"paper\"}, {\"font\": {\"size\": 16}, \"showarrow\": false, \"text\": \"Thicket 6 - Total Daily Sales\", \"x\": 0.2125, \"xanchor\": \"center\", \"xref\": \"paper\", \"y\": 0.3375, \"yanchor\": \"bottom\", \"yref\": \"paper\"}, {\"font\": {\"size\": 16}, \"showarrow\": false, \"text\": \"Thicket 6 - 7 Day Avg Sales Comp\", \"x\": 0.7875, \"xanchor\": \"center\", \"xref\": \"paper\", \"y\": 0.3375, \"yanchor\": \"bottom\", \"yref\": \"paper\"}, {\"font\": {\"size\": 16}, \"showarrow\": false, \"text\": \"Thicket 7 - Total Daily Sales\", \"x\": 0.2125, \"xanchor\": \"center\", \"xref\": \"paper\", \"y\": 0.20500000000000002, \"yanchor\": \"bottom\", \"yref\": \"paper\"}, {\"font\": {\"size\": 16}, \"showarrow\": false, \"text\": \"Thicket 7 - 7 Day Avg Sales Comp\", \"x\": 0.7875, \"xanchor\": \"center\", \"xref\": \"paper\", \"y\": 0.20500000000000002, \"yanchor\": \"bottom\", \"yref\": \"paper\"}, {\"font\": {\"size\": 16}, \"showarrow\": false, \"text\": \"Thicket 8 - Total Daily Sales\", \"x\": 0.2125, \"xanchor\": \"center\", \"xref\": \"paper\", \"y\": 0.07250000000000001, \"yanchor\": \"bottom\", \"yref\": \"paper\"}, {\"font\": {\"size\": 16}, \"showarrow\": false, \"text\": \"Thicket 8 - 7 Day Avg Sales Comp\", \"x\": 0.7875, \"xanchor\": \"center\", \"xref\": \"paper\", \"y\": 0.07250000000000001, \"yanchor\": \"bottom\", \"yref\": \"paper\"}], \"barmode\": \"overlay\", \"height\": 2400, \"hovermode\": \"x\", \"legend\": {\"orientation\": \"h\", \"x\": -0.0, \"xanchor\": \"left\", \"y\": 1.035}, \"margin\": {\"autoexpand\": true, \"b\": 100, \"l\": 25, \"pad\": 0, \"r\": 25, \"t\": 150}, \"showlegend\": true, \"template\": {\"data\": {\"bar\": [{\"error_x\": {\"color\": \"#f2f5fa\"}, \"error_y\": {\"color\": \"#f2f5fa\"}, \"marker\": {\"line\": {\"color\": \"rgb(17,17,17)\", \"width\": 0.5}}, \"type\": \"bar\"}], \"barpolar\": [{\"marker\": {\"line\": {\"color\": \"rgb(17,17,17)\", \"width\": 0.5}}, \"type\": \"barpolar\"}], \"carpet\": [{\"aaxis\": {\"endlinecolor\": \"#A2B1C6\", \"gridcolor\": \"#506784\", \"linecolor\": \"#506784\", \"minorgridcolor\": \"#506784\", \"startlinecolor\": \"#A2B1C6\"}, \"baxis\": {\"endlinecolor\": \"#A2B1C6\", \"gridcolor\": \"#506784\", \"linecolor\": \"#506784\", \"minorgridcolor\": \"#506784\", \"startlinecolor\": \"#A2B1C6\"}, \"type\": \"carpet\"}], \"choropleth\": [{\"colorbar\": {\"outlinewidth\": 0, \"ticks\": \"\"}, \"type\": \"choropleth\"}], \"contour\": [{\"colorbar\": {\"outlinewidth\": 0, \"ticks\": \"\"}, \"colorscale\": [[0.0, \"#0d0887\"], [0.1111111111111111, \"#46039f\"], [0.2222222222222222, \"#7201a8\"], [0.3333333333333333, \"#9c179e\"], [0.4444444444444444, \"#bd3786\"], [0.5555555555555556, \"#d8576b\"], [0.6666666666666666, \"#ed7953\"], [0.7777777777777778, \"#fb9f3a\"], [0.8888888888888888, \"#fdca26\"], [1.0, \"#f0f921\"]], \"type\": \"contour\"}], \"contourcarpet\": [{\"colorbar\": {\"outlinewidth\": 0, \"ticks\": \"\"}, \"type\": \"contourcarpet\"}], \"heatmap\": [{\"colorbar\": {\"outlinewidth\": 0, \"ticks\": \"\"}, \"colorscale\": [[0.0, \"#0d0887\"], [0.1111111111111111, \"#46039f\"], [0.2222222222222222, \"#7201a8\"], [0.3333333333333333, \"#9c179e\"], [0.4444444444444444, \"#bd3786\"], [0.5555555555555556, \"#d8576b\"], [0.6666666666666666, \"#ed7953\"], [0.7777777777777778, \"#fb9f3a\"], [0.8888888888888888, \"#fdca26\"], [1.0, \"#f0f921\"]], \"type\": \"heatmap\"}], \"heatmapgl\": [{\"colorbar\": {\"outlinewidth\": 0, \"ticks\": \"\"}, \"colorscale\": [[0.0, \"#0d0887\"], [0.1111111111111111, \"#46039f\"], [0.2222222222222222, \"#7201a8\"], [0.3333333333333333, \"#9c179e\"], [0.4444444444444444, \"#bd3786\"], [0.5555555555555556, \"#d8576b\"], [0.6666666666666666, \"#ed7953\"], [0.7777777777777778, \"#fb9f3a\"], [0.8888888888888888, \"#fdca26\"], [1.0, \"#f0f921\"]], \"type\": \"heatmapgl\"}], \"histogram\": [{\"marker\": {\"colorbar\": {\"outlinewidth\": 0, \"ticks\": \"\"}}, \"type\": \"histogram\"}], \"histogram2d\": [{\"colorbar\": {\"outlinewidth\": 0, \"ticks\": \"\"}, \"colorscale\": [[0.0, \"#0d0887\"], [0.1111111111111111, \"#46039f\"], [0.2222222222222222, \"#7201a8\"], [0.3333333333333333, \"#9c179e\"], [0.4444444444444444, \"#bd3786\"], [0.5555555555555556, \"#d8576b\"], [0.6666666666666666, \"#ed7953\"], [0.7777777777777778, \"#fb9f3a\"], [0.8888888888888888, \"#fdca26\"], [1.0, \"#f0f921\"]], \"type\": \"histogram2d\"}], \"histogram2dcontour\": [{\"colorbar\": {\"outlinewidth\": 0, \"ticks\": \"\"}, \"colorscale\": [[0.0, \"#0d0887\"], [0.1111111111111111, \"#46039f\"], [0.2222222222222222, \"#7201a8\"], [0.3333333333333333, \"#9c179e\"], [0.4444444444444444, \"#bd3786\"], [0.5555555555555556, \"#d8576b\"], [0.6666666666666666, \"#ed7953\"], [0.7777777777777778, \"#fb9f3a\"], [0.8888888888888888, \"#fdca26\"], [1.0, \"#f0f921\"]], \"type\": \"histogram2dcontour\"}], \"mesh3d\": [{\"colorbar\": {\"outlinewidth\": 0, \"ticks\": \"\"}, \"type\": \"mesh3d\"}], \"parcoords\": [{\"line\": {\"colorbar\": {\"outlinewidth\": 0, \"ticks\": \"\"}}, \"type\": \"parcoords\"}], \"pie\": [{\"automargin\": true, \"type\": \"pie\"}], \"scatter\": [{\"marker\": {\"line\": {\"color\": \"#283442\"}}, \"type\": \"scatter\"}], \"scatter3d\": [{\"line\": {\"colorbar\": {\"outlinewidth\": 0, \"ticks\": \"\"}}, \"marker\": {\"colorbar\": {\"outlinewidth\": 0, \"ticks\": \"\"}}, \"type\": \"scatter3d\"}], \"scattercarpet\": [{\"marker\": {\"colorbar\": {\"outlinewidth\": 0, \"ticks\": \"\"}}, \"type\": \"scattercarpet\"}], \"scattergeo\": [{\"marker\": {\"colorbar\": {\"outlinewidth\": 0, \"ticks\": \"\"}}, \"type\": \"scattergeo\"}], \"scattergl\": [{\"marker\": {\"line\": {\"color\": \"#283442\"}}, \"type\": \"scattergl\"}], \"scattermapbox\": [{\"marker\": {\"colorbar\": {\"outlinewidth\": 0, \"ticks\": \"\"}}, \"type\": \"scattermapbox\"}], \"scatterpolar\": [{\"marker\": {\"colorbar\": {\"outlinewidth\": 0, \"ticks\": \"\"}}, \"type\": \"scatterpolar\"}], \"scatterpolargl\": [{\"marker\": {\"colorbar\": {\"outlinewidth\": 0, \"ticks\": \"\"}}, \"type\": \"scatterpolargl\"}], \"scatterternary\": [{\"marker\": {\"colorbar\": {\"outlinewidth\": 0, \"ticks\": \"\"}}, \"type\": \"scatterternary\"}], \"surface\": [{\"colorbar\": {\"outlinewidth\": 0, \"ticks\": \"\"}, \"colorscale\": [[0.0, \"#0d0887\"], [0.1111111111111111, \"#46039f\"], [0.2222222222222222, \"#7201a8\"], [0.3333333333333333, \"#9c179e\"], [0.4444444444444444, \"#bd3786\"], [0.5555555555555556, \"#d8576b\"], [0.6666666666666666, \"#ed7953\"], [0.7777777777777778, \"#fb9f3a\"], [0.8888888888888888, \"#fdca26\"], [1.0, \"#f0f921\"]], \"type\": \"surface\"}], \"table\": [{\"cells\": {\"fill\": {\"color\": \"#506784\"}, \"line\": {\"color\": \"rgb(17,17,17)\"}}, \"header\": {\"fill\": {\"color\": \"#2a3f5f\"}, \"line\": {\"color\": \"rgb(17,17,17)\"}}, \"type\": \"table\"}]}, \"layout\": {\"annotationdefaults\": {\"arrowcolor\": \"#f2f5fa\", \"arrowhead\": 0, \"arrowwidth\": 1}, \"coloraxis\": {\"colorbar\": {\"outlinewidth\": 0, \"ticks\": \"\"}}, \"colorscale\": {\"diverging\": [[0, \"#8e0152\"], [0.1, \"#c51b7d\"], [0.2, \"#de77ae\"], [0.3, \"#f1b6da\"], [0.4, \"#fde0ef\"], [0.5, \"#f7f7f7\"], [0.6, \"#e6f5d0\"], [0.7, \"#b8e186\"], [0.8, \"#7fbc41\"], [0.9, \"#4d9221\"], [1, \"#276419\"]], \"sequential\": [[0.0, \"#0d0887\"], [0.1111111111111111, \"#46039f\"], [0.2222222222222222, \"#7201a8\"], [0.3333333333333333, \"#9c179e\"], [0.4444444444444444, \"#bd3786\"], [0.5555555555555556, \"#d8576b\"], [0.6666666666666666, \"#ed7953\"], [0.7777777777777778, \"#fb9f3a\"], [0.8888888888888888, \"#fdca26\"], [1.0, \"#f0f921\"]], \"sequentialminus\": [[0.0, \"#0d0887\"], [0.1111111111111111, \"#46039f\"], [0.2222222222222222, \"#7201a8\"], [0.3333333333333333, \"#9c179e\"], [0.4444444444444444, \"#bd3786\"], [0.5555555555555556, \"#d8576b\"], [0.6666666666666666, \"#ed7953\"], [0.7777777777777778, \"#fb9f3a\"], [0.8888888888888888, \"#fdca26\"], [1.0, \"#f0f921\"]]}, \"colorway\": [\"#636efa\", \"#EF553B\", \"#00cc96\", \"#ab63fa\", \"#FFA15A\", \"#19d3f3\", \"#FF6692\", \"#B6E880\", \"#FF97FF\", \"#FECB52\"], \"font\": {\"color\": \"#f2f5fa\"}, \"geo\": {\"bgcolor\": \"rgb(17,17,17)\", \"lakecolor\": \"rgb(17,17,17)\", \"landcolor\": \"rgb(17,17,17)\", \"showlakes\": true, \"showland\": true, \"subunitcolor\": \"#506784\"}, \"hoverlabel\": {\"align\": \"left\"}, \"hovermode\": \"closest\", \"mapbox\": {\"style\": \"dark\"}, \"paper_bgcolor\": \"rgb(17,17,17)\", \"plot_bgcolor\": \"rgb(17,17,17)\", \"polar\": {\"angularaxis\": {\"gridcolor\": \"#506784\", \"linecolor\": \"#506784\", \"ticks\": \"\"}, \"bgcolor\": \"rgb(17,17,17)\", \"radialaxis\": {\"gridcolor\": \"#506784\", \"linecolor\": \"#506784\", \"ticks\": \"\"}}, \"scene\": {\"xaxis\": {\"backgroundcolor\": \"rgb(17,17,17)\", \"gridcolor\": \"#506784\", \"gridwidth\": 2, \"linecolor\": \"#506784\", \"showbackground\": true, \"ticks\": \"\", \"zerolinecolor\": \"#C8D4E3\"}, \"yaxis\": {\"backgroundcolor\": \"rgb(17,17,17)\", \"gridcolor\": \"#506784\", \"gridwidth\": 2, \"linecolor\": \"#506784\", \"showbackground\": true, \"ticks\": \"\", \"zerolinecolor\": \"#C8D4E3\"}, \"zaxis\": {\"backgroundcolor\": \"rgb(17,17,17)\", \"gridcolor\": \"#506784\", \"gridwidth\": 2, \"linecolor\": \"#506784\", \"showbackground\": true, \"ticks\": \"\", \"zerolinecolor\": \"#C8D4E3\"}}, \"shapedefaults\": {\"line\": {\"color\": \"#f2f5fa\"}}, \"sliderdefaults\": {\"bgcolor\": \"#C8D4E3\", \"bordercolor\": \"rgb(17,17,17)\", \"borderwidth\": 1, \"tickwidth\": 0}, \"ternary\": {\"aaxis\": {\"gridcolor\": \"#506784\", \"linecolor\": \"#506784\", \"ticks\": \"\"}, \"baxis\": {\"gridcolor\": \"#506784\", \"linecolor\": \"#506784\", \"ticks\": \"\"}, \"bgcolor\": \"rgb(17,17,17)\", \"caxis\": {\"gridcolor\": \"#506784\", \"linecolor\": \"#506784\", \"ticks\": \"\"}}, \"title\": {\"x\": 0.05}, \"updatemenudefaults\": {\"bgcolor\": \"#506784\", \"borderwidth\": 0}, \"xaxis\": {\"automargin\": true, \"gridcolor\": \"#283442\", \"linecolor\": \"#506784\", \"ticks\": \"\", \"title\": {\"standoff\": 15}, \"zerolinecolor\": \"#283442\", \"zerolinewidth\": 2}, \"yaxis\": {\"automargin\": true, \"gridcolor\": \"#283442\", \"linecolor\": \"#506784\", \"ticks\": \"\", \"title\": {\"standoff\": 15}, \"zerolinecolor\": \"#283442\", \"zerolinewidth\": 2}}}, \"title\": {\"font\": {\"size\": 24}, \"text\": \"iStore Thickets Comp to Last Year\", \"x\": 0, \"xanchor\": \"left\", \"xref\": \"paper\", \"y\": 0.98}, \"width\": 1000, \"xaxis\": {\"anchor\": \"y\", \"domain\": [0.0, 0.425], \"dtick\": 604800000, \"showgrid\": true, \"tickangle\": 90, \"tickfont\": {\"family\": \"Arial, san-serif\", \"size\": 10}, \"tickformat\": \"%Y-%m-%d\", \"title\": {\"text\": \"\"}, \"type\": \"date\"}, \"xaxis10\": {\"anchor\": \"y10\", \"domain\": [0.575, 1.0], \"dtick\": 604800000, \"showgrid\": true, \"tickangle\": 90, \"tickfont\": {\"family\": \"Arial, san-serif\", \"size\": 10}, \"tickformat\": \"%Y-%m-%d\", \"title\": {\"text\": \"\"}, \"type\": \"date\"}, \"xaxis11\": {\"anchor\": \"y11\", \"domain\": [0.0, 0.425], \"dtick\": 604800000, \"showgrid\": true, \"tickangle\": 90, \"tickfont\": {\"family\": \"Arial, san-serif\", \"size\": 10}, \"tickformat\": \"%Y-%m-%d\", \"title\": {\"text\": \"\"}, \"type\": \"date\"}, \"xaxis12\": {\"anchor\": \"y12\", \"domain\": [0.575, 1.0], \"dtick\": 604800000, \"showgrid\": true, \"tickangle\": 90, \"tickfont\": {\"family\": \"Arial, san-serif\", \"size\": 10}, \"tickformat\": \"%Y-%m-%d\", \"title\": {\"text\": \"\"}, \"type\": \"date\"}, \"xaxis13\": {\"anchor\": \"y13\", \"domain\": [0.0, 0.425], \"dtick\": 604800000, \"showgrid\": true, \"tickangle\": 90, \"tickfont\": {\"family\": \"Arial, san-serif\", \"size\": 10}, \"tickformat\": \"%Y-%m-%d\", \"title\": {\"text\": \"\"}, \"type\": \"date\"}, \"xaxis14\": {\"anchor\": \"y14\", \"domain\": [0.575, 1.0], \"dtick\": 604800000, \"showgrid\": true, \"tickangle\": 90, \"tickfont\": {\"family\": \"Arial, san-serif\", \"size\": 10}, \"tickformat\": \"%Y-%m-%d\", \"title\": {\"text\": \"\"}, \"type\": \"date\"}, \"xaxis15\": {\"anchor\": \"y15\", \"domain\": [0.0, 0.425], \"dtick\": 604800000, \"showgrid\": true, \"tickangle\": 90, \"tickfont\": {\"family\": \"Arial, san-serif\", \"size\": 10}, \"tickformat\": \"%Y-%m-%d\", \"title\": {\"text\": \"\"}, \"type\": \"date\"}, \"xaxis16\": {\"anchor\": \"y16\", \"domain\": [0.575, 1.0], \"dtick\": 604800000, \"showgrid\": true, \"tickangle\": 90, \"tickfont\": {\"family\": \"Arial, san-serif\", \"size\": 10}, \"tickformat\": \"%Y-%m-%d\", \"title\": {\"text\": \"\"}, \"type\": \"date\"}, \"xaxis2\": {\"anchor\": \"y2\", \"domain\": [0.575, 1.0], \"dtick\": 604800000, \"showgrid\": true, \"tickangle\": 90, \"tickfont\": {\"family\": \"Arial, san-serif\", \"size\": 10}, \"tickformat\": \"%Y-%m-%d\", \"title\": {\"text\": \"\"}, \"type\": \"date\"}, \"xaxis3\": {\"anchor\": \"y3\", \"domain\": [0.0, 0.425], \"dtick\": 604800000, \"showgrid\": true, \"tickangle\": 90, \"tickfont\": {\"family\": \"Arial, san-serif\", \"size\": 10}, \"tickformat\": \"%Y-%m-%d\", \"title\": {\"text\": \"\"}, \"type\": \"date\"}, \"xaxis4\": {\"anchor\": \"y4\", \"domain\": [0.575, 1.0], \"dtick\": 604800000, \"showgrid\": true, \"tickangle\": 90, \"tickfont\": {\"family\": \"Arial, san-serif\", \"size\": 10}, \"tickformat\": \"%Y-%m-%d\", \"title\": {\"text\": \"\"}, \"type\": \"date\"}, \"xaxis5\": {\"anchor\": \"y5\", \"domain\": [0.0, 0.425], \"dtick\": 604800000, \"showgrid\": true, \"tickangle\": 90, \"tickfont\": {\"family\": \"Arial, san-serif\", \"size\": 10}, \"tickformat\": \"%Y-%m-%d\", \"title\": {\"text\": \"\"}, \"type\": \"date\"}, \"xaxis6\": {\"anchor\": \"y6\", \"domain\": [0.575, 1.0], \"dtick\": 604800000, \"showgrid\": true, \"tickangle\": 90, \"tickfont\": {\"family\": \"Arial, san-serif\", \"size\": 10}, \"tickformat\": \"%Y-%m-%d\", \"title\": {\"text\": \"\"}, \"type\": \"date\"}, \"xaxis7\": {\"anchor\": \"y7\", \"domain\": [0.0, 0.425], \"dtick\": 604800000, \"showgrid\": true, \"tickangle\": 90, \"tickfont\": {\"family\": \"Arial, san-serif\", \"size\": 10}, \"tickformat\": \"%Y-%m-%d\", \"title\": {\"text\": \"\"}, \"type\": \"date\"}, \"xaxis8\": {\"anchor\": \"y8\", \"domain\": [0.575, 1.0], \"dtick\": 604800000, \"showgrid\": true, \"tickangle\": 90, \"tickfont\": {\"family\": \"Arial, san-serif\", \"size\": 10}, \"tickformat\": \"%Y-%m-%d\", \"title\": {\"text\": \"\"}, \"type\": \"date\"}, \"xaxis9\": {\"anchor\": \"y9\", \"domain\": [0.0, 0.425], \"dtick\": 604800000, \"showgrid\": true, \"tickangle\": 90, \"tickfont\": {\"family\": \"Arial, san-serif\", \"size\": 10}, \"tickformat\": \"%Y-%m-%d\", \"title\": {\"text\": \"\"}, \"type\": \"date\"}, \"yaxis\": {\"anchor\": \"x\", \"domain\": [0.9275, 1.0], \"hoverformat\": \"$,.0f\", \"tickfont\": {\"family\": \"Arial, san-serif\", \"size\": 10}, \"tickformat\": \"$,.0f\", \"title\": {\"font\": {\"family\": \"Arial, san-serif\", \"size\": 10}, \"text\": \"$ Diff to LY\"}}, \"yaxis10\": {\"anchor\": \"x10\", \"domain\": [0.3975, 0.47000000000000003], \"tickfont\": {\"family\": \"Arial, san-serif\", \"size\": 10}, \"tickformat\": \"0.1%\", \"title\": {\"font\": {\"family\": \"Arial, san-serif\", \"size\": 10}, \"text\": \"% Diff to LY\"}}, \"yaxis11\": {\"anchor\": \"x11\", \"domain\": [0.265, 0.3375], \"hoverformat\": \"$,.0f\", \"tickfont\": {\"family\": \"Arial, san-serif\", \"size\": 10}, \"tickformat\": \"$,.0f\", \"title\": {\"font\": {\"family\": \"Arial, san-serif\", \"size\": 10}, \"text\": \"$ Diff to LY\"}}, \"yaxis12\": {\"anchor\": \"x12\", \"domain\": [0.265, 0.3375], \"tickfont\": {\"family\": \"Arial, san-serif\", \"size\": 10}, \"tickformat\": \"0.1%\", \"title\": {\"font\": {\"family\": \"Arial, san-serif\", \"size\": 10}, \"text\": \"% Diff to LY\"}}, \"yaxis13\": {\"anchor\": \"x13\", \"domain\": [0.1325, 0.20500000000000002], \"hoverformat\": \"$,.0f\", \"tickfont\": {\"family\": \"Arial, san-serif\", \"size\": 10}, \"tickformat\": \"$,.0f\", \"title\": {\"font\": {\"family\": \"Arial, san-serif\", \"size\": 10}, \"text\": \"$ Diff to LY\"}}, \"yaxis14\": {\"anchor\": \"x14\", \"domain\": [0.1325, 0.20500000000000002], \"tickfont\": {\"family\": \"Arial, san-serif\", \"size\": 10}, \"tickformat\": \"0.1%\", \"title\": {\"font\": {\"family\": \"Arial, san-serif\", \"size\": 10}, \"text\": \"% Diff to LY\"}}, \"yaxis15\": {\"anchor\": \"x15\", \"domain\": [0.0, 0.07250000000000001], \"hoverformat\": \"$,.0f\", \"tickfont\": {\"family\": \"Arial, san-serif\", \"size\": 10}, \"tickformat\": \"$,.0f\", \"title\": {\"font\": {\"family\": \"Arial, san-serif\", \"size\": 10}, \"text\": \"$ Diff to LY\"}}, \"yaxis16\": {\"anchor\": \"x16\", \"domain\": [0.0, 0.07250000000000001], \"tickfont\": {\"family\": \"Arial, san-serif\", \"size\": 10}, \"tickformat\": \"0.1%\", \"title\": {\"font\": {\"family\": \"Arial, san-serif\", \"size\": 10}, \"text\": \"% Diff to LY\"}}, \"yaxis2\": {\"anchor\": \"x2\", \"domain\": [0.9275, 1.0], \"tickfont\": {\"family\": \"Arial, san-serif\", \"size\": 10}, \"tickformat\": \"0.1%\", \"title\": {\"font\": {\"family\": \"Arial, san-serif\", \"size\": 10}, \"text\": \"% Diff to LY\"}}, \"yaxis3\": {\"anchor\": \"x3\", \"domain\": [0.795, 0.8675], \"hoverformat\": \"$,.0f\", \"tickfont\": {\"family\": \"Arial, san-serif\", \"size\": 10}, \"tickformat\": \"$,.0f\", \"title\": {\"font\": {\"family\": \"Arial, san-serif\", \"size\": 10}, \"text\": \"$ Diff to LY\"}}, \"yaxis4\": {\"anchor\": \"x4\", \"domain\": [0.795, 0.8675], \"tickfont\": {\"family\": \"Arial, san-serif\", \"size\": 10}, \"tickformat\": \"0.1%\", \"title\": {\"font\": {\"family\": \"Arial, san-serif\", \"size\": 10}, \"text\": \"% Diff to LY\"}}, \"yaxis5\": {\"anchor\": \"x5\", \"domain\": [0.6625000000000001, 0.7350000000000001], \"hoverformat\": \"$,.0f\", \"tickfont\": {\"family\": \"Arial, san-serif\", \"size\": 10}, \"tickformat\": \"$,.0f\", \"title\": {\"font\": {\"family\": \"Arial, san-serif\", \"size\": 10}, \"text\": \"$ Diff to LY\"}}, \"yaxis6\": {\"anchor\": \"x6\", \"domain\": [0.6625000000000001, 0.7350000000000001], \"tickfont\": {\"family\": \"Arial, san-serif\", \"size\": 10}, \"tickformat\": \"0.1%\", \"title\": {\"font\": {\"family\": \"Arial, san-serif\", \"size\": 10}, \"text\": \"% Diff to LY\"}}, \"yaxis7\": {\"anchor\": \"x7\", \"domain\": [0.53, 0.6025], \"hoverformat\": \"$,.0f\", \"tickfont\": {\"family\": \"Arial, san-serif\", \"size\": 10}, \"tickformat\": \"$,.0f\", \"title\": {\"font\": {\"family\": \"Arial, san-serif\", \"size\": 10}, \"text\": \"$ Diff to LY\"}}, \"yaxis8\": {\"anchor\": \"x8\", \"domain\": [0.53, 0.6025], \"tickfont\": {\"family\": \"Arial, san-serif\", \"size\": 10}, \"tickformat\": \"0.1%\", \"title\": {\"font\": {\"family\": \"Arial, san-serif\", \"size\": 10}, \"text\": \"% Diff to LY\"}}, \"yaxis9\": {\"anchor\": \"x9\", \"domain\": [0.3975, 0.47000000000000003], \"hoverformat\": \"$,.0f\", \"tickfont\": {\"family\": \"Arial, san-serif\", \"size\": 10}, \"tickformat\": \"$,.0f\", \"title\": {\"font\": {\"family\": \"Arial, san-serif\", \"size\": 10}, \"text\": \"$ Diff to LY\"}}},\n",
       "                        {\"responsive\": true}\n",
       "                    ).then(function(){\n",
       "                            \n",
       "var gd = document.getElementById('c3fba0f0-18e6-42db-a776-3eaad9460b15');\n",
       "var x = new MutationObserver(function (mutations, observer) {{\n",
       "        var display = window.getComputedStyle(gd).display;\n",
       "        if (!display || display === 'none') {{\n",
       "            console.log([gd, 'removed!']);\n",
       "            Plotly.purge(gd);\n",
       "            observer.disconnect();\n",
       "        }}\n",
       "}});\n",
       "\n",
       "// Listen for the removal of the full notebook cells\n",
       "var notebookContainer = gd.closest('#notebook-container');\n",
       "if (notebookContainer) {{\n",
       "    x.observe(notebookContainer, {childList: true});\n",
       "}}\n",
       "\n",
       "// Listen for the clearing of the current output cell\n",
       "var outputEl = gd.closest('.output');\n",
       "if (outputEl) {{\n",
       "    x.observe(outputEl, {childList: true});\n",
       "}}\n",
       "\n",
       "                        })\n",
       "                };\n",
       "                });\n",
       "            </script>\n",
       "        </div>"
      ]
     },
     "metadata": {},
     "output_type": "display_data"
    }
   ],
   "source": [
    "div_iStoreSalesByThicketDetail = plot_iStoreSalesByThicketDetail(df_comp, clrPalExtended, filtInstance_iStore)"
   ]
  },
  {
   "cell_type": "code",
   "execution_count": 30,
   "metadata": {},
   "outputs": [
    {
     "name": "stdout",
     "output_type": "stream",
     "text": [
      " * Serving Flask app \"__main__\" (lazy loading)\n",
      " * Environment: production\n",
      "   WARNING: This is a development server. Do not use it in a production deployment.\n",
      "   Use a production WSGI server instead.\n",
      " * Debug mode: off\n"
     ]
    },
    {
     "name": "stderr",
     "output_type": "stream",
     "text": [
      " * Running on http://127.0.0.1:5000/ (Press CTRL+C to quit)\n",
      "127.0.0.1 - - [30/Mar/2020 16:45:35] \"GET / HTTP/1.1\" 200 -\n"
     ]
    }
   ],
   "source": [
    "app = Flask(__name__)\n",
    "\n",
    "\n",
    "@app.route('/')\n",
    "def index():\n",
    "    return render_template('index.html', \n",
    "                           #Offer Averages\n",
    "                           div_iStoreSalesByThicket = div_iStoreSalesByThicket,\n",
    "                           div_iStoreSalesByThicketDetail = div_iStoreSalesByThicketDetail)\n",
    "\n",
    "if __name__ == '__main__':\n",
    "    app.run()"
   ]
  },
  {
   "cell_type": "code",
   "execution_count": null,
   "metadata": {},
   "outputs": [],
   "source": []
  }
 ],
 "metadata": {
  "kernelspec": {
   "display_name": "Python 3",
   "language": "python",
   "name": "python3"
  },
  "language_info": {
   "codemirror_mode": {
    "name": "ipython",
    "version": 3
   },
   "file_extension": ".py",
   "mimetype": "text/x-python",
   "name": "python",
   "nbconvert_exporter": "python",
   "pygments_lexer": "ipython3",
   "version": "3.7.4"
  }
 },
 "nbformat": 4,
 "nbformat_minor": 2
}
