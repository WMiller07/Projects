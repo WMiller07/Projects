{
 "cells": [
  {
   "cell_type": "code",
   "execution_count": 1,
   "metadata": {},
   "outputs": [],
   "source": [
    "from datetime import datetime\n",
    "from dateutil.relativedelta import relativedelta\n",
    "#from datetime import timedelta\n",
    "import numpy as np\n",
    "import pandas as pd\n",
    "\n",
    "import matplotlib.pyplot as plt\n",
    "import matplotlib.dates as mdates\n",
    "import matplotlib.ticker as mtick\n",
    "import seaborn as sns\n",
    "\n",
    "\n",
    "import plotly\n",
    "import chart_studio.plotly as py\n",
    "import plotly.io as pio\n",
    "import plotly.graph_objs as go\n",
    "from plotly import tools\n",
    "from plotly import subplots\n",
    "from plotly.offline import download_plotlyjs, init_notebook_mode, iplot\n",
    "from plotly.subplots import make_subplots\n",
    "\n",
    "\n",
    "import json\n",
    "from flask import Flask, render_template\n",
    "\n",
    "import dash\n",
    "import dash_html_components as html"
   ]
  },
  {
   "cell_type": "code",
   "execution_count": 2,
   "metadata": {},
   "outputs": [],
   "source": [
    "pd.set_option('display.max_rows', 1000)\n",
    "pio.templates.default = \"plotly_dark\""
   ]
  },
  {
   "cell_type": "code",
   "execution_count": 3,
   "metadata": {},
   "outputs": [],
   "source": [
    "def loadData(fn):\n",
    "    df = pd.read_csv(fn, index_col=0)\n",
    "    return df\n",
    "\n",
    "def prepData(df_p):\n",
    "    df_p['Store_Date'] = pd.to_datetime(df_p['Store_Date'])\n",
    "    return df_p"
   ]
  },
  {
   "cell_type": "code",
   "execution_count": 4,
   "metadata": {},
   "outputs": [],
   "source": [
    "df_orders = prepData(loadData('./data/iStoreOrderMetrics.csv'))\n",
    "df_inv = loadData('./data/iStoreInventoryMetrics.csv')"
   ]
  },
  {
   "cell_type": "code",
   "execution_count": 5,
   "metadata": {},
   "outputs": [],
   "source": [
    "def createRollingAvgDF(df_i, numRollingDays):\n",
    "#filt_iStore = df['InstanceType'] == 'iStore'\n",
    "    colsNRF = [c for c in df_i.columns if c[:3] == 'NRF']\n",
    "    calcColumns = ['CountTransactions', 'AmtSold', 'QtySold']\n",
    "    \n",
    "    strColSuffix = '_rollAvg' + str(numRollingDays) + 'Day'\n",
    "    \n",
    "    df_c = df_i.set_index('Store_Date', drop=True).groupby('InstanceName')[calcColumns].rolling(numRollingDays).mean().dropna()\n",
    "    df_c.reset_index(inplace=True)\n",
    "#     df_rolling = df_c.set_index(['Store_Date', 'InstanceName']).join(\n",
    "#         df_i.set_index(['Store_Date', 'InstanceName'])[colsNRF + ['InstanceType']]).reset_index()\n",
    "    df_rolling = df_i.set_index(['Store_Date', 'InstanceName']).join(\n",
    "        df_c.set_index(['Store_Date', 'InstanceName'])[calcColumns], rsuffix = strColSuffix )\n",
    "    df_rolling = df_rolling.dropna().reset_index()\n",
    "    return df_rolling\n",
    "\n",
    "def createPctCompDF(df_i, \n",
    "                 startNRFYear = datetime.now().year, \n",
    "                 compNRFYear = datetime.now().year - 1,\n",
    "                 startNRFDay = 1, \n",
    "                 compNRFDay = 1, \n",
    "                 maxNRFDay = 364,\n",
    "                 **kwargs):\n",
    "    colsNRF = [c for c in df_i.columns if c[:3] == 'NRF']\n",
    "    calcCols = [c for c in df_i.columns if c not in (colsNRF + ['Store_Date', 'InstanceName', 'InstanceType'])]\n",
    "    filtStartDates = (df_i['NRF_Year'] == startNRFYear) & (df_i['NRF_Day'] >= startNRFDay) & (df_i['NRF_Day'] <= maxNRFDay)\n",
    "    filtCompDates = (df_i['NRF_Year'] == compNRFYear) & (df_i['NRF_Day'] >= compNRFDay) & (df_i['NRF_Day'] <= maxNRFDay)\n",
    "    \n",
    "    df_numer = df_i[filtStartDates].set_index(['InstanceName', 'NRF_Day'])\n",
    "    df_denom = df_i[filtCompDates].set_index(['InstanceName', 'NRF_Day'])\n",
    "    df_comp = df_numer.join(df_numer[calcCols].divide(df_denom[calcCols]), rsuffix='_pctComp').reset_index()\n",
    "    return df_comp\n",
    "\n",
    "def createDiffCompDF(df_i, \n",
    "                 startNRFYear = datetime.now().year, \n",
    "                 compNRFYear = datetime.now().year - 1,\n",
    "                 startNRFDay = 1, \n",
    "                 compNRFDay = 1, \n",
    "                 maxNRFDay = 364,\n",
    "                 **kwargs):\n",
    "    colsNRF = [c for c in df_i.columns if c[:3] == 'NRF']\n",
    "    calcCols = [c for c in df_i.columns if c not in (colsNRF + ['Store_Date', 'InstanceName', 'InstanceType'])]\n",
    "    filtStartDates = (df_i['NRF_Year'] == startNRFYear) & (df_i['NRF_Day'] >= startNRFDay) & (df_i['NRF_Day'] <= maxNRFDay)\n",
    "    filtCompDates = (df_i['NRF_Year'] == compNRFYear) & (df_i['NRF_Day'] >= compNRFDay) & (df_i['NRF_Day'] <= maxNRFDay)\n",
    "    \n",
    "    df_numer = df_i[filtStartDates].set_index(['InstanceName', 'NRF_Day'])\n",
    "    df_denom = df_i[filtCompDates].set_index(['InstanceName', 'NRF_Day'])\n",
    "    df_comp = df_numer.join(df_numer[calcCols].subtract(df_denom[calcCols]), rsuffix='_diffComp').reset_index()\n",
    "    return df_comp\n",
    "\n",
    "def joinComps(df_left, df_right):\n",
    "    colsNRF_left = [c for c in df_left.columns if c[:3] == 'NRF']\n",
    "    calcCols_left = [c for c in df_left.columns if c not in (colsNRF_left + ['Store_Date', 'InstanceName', 'InstanceType'])]\n",
    "    colsNRF_right = [c for c in df_right.columns if c[:3] == 'NRF']\n",
    "    calcCols_right = [c for c in df_right.columns if c not in \n",
    "                      (colsNRF_right + colsNRF_left + calcCols_left + ['Store_Date', 'InstanceName', 'InstanceType'])]\n",
    "    \n",
    "    \n",
    "    df_left = df_left.set_index(['InstanceName', 'NRF_Day'])\n",
    "    df_right = df_right.set_index(['InstanceName', 'NRF_Day'])\n",
    "    \n",
    "    df_joined = df_left.join(df_right[calcCols_right]).reset_index()\n",
    "    return df_joined"
   ]
  },
  {
   "cell_type": "code",
   "execution_count": 6,
   "metadata": {
    "scrolled": true
   },
   "outputs": [],
   "source": [
    "df_rolling = createRollingAvgDF(df_orders, 7)\n",
    "df_diffcomp = createDiffCompDF(df_rolling)\n",
    "df_pctcomp = createPctCompDF(df_rolling)\n",
    "df_OrdersComp = joinComps(df_diffcomp, df_pctcomp)"
   ]
  },
  {
   "cell_type": "code",
   "execution_count": 7,
   "metadata": {},
   "outputs": [
    {
     "name": "stdout",
     "output_type": "stream",
     "text": [
      "<class 'pandas.core.frame.DataFrame'>\n",
      "RangeIndex: 540 entries, 0 to 539\n",
      "Data columns (total 43 columns):\n",
      "InstanceName                              540 non-null object\n",
      "NRF_Day                                   540 non-null int64\n",
      "Store_Date                                540 non-null datetime64[ns]\n",
      "InstanceType                              540 non-null object\n",
      "NRF_Year                                  540 non-null int64\n",
      "NRF_MonthNum                              540 non-null int64\n",
      "NRF_Week_Restated                         540 non-null int64\n",
      "CountTransactions                         540 non-null int64\n",
      "AmtSold                                   540 non-null float64\n",
      "QtySold                                   540 non-null int64\n",
      "total_iStoreCOGS                          540 non-null float64\n",
      "total_iStoreQty_ASRUnder250k              540 non-null float64\n",
      "total_iStoreQty_ASR250kTo500k             540 non-null float64\n",
      "total_iStoreQty_ASR500kTo1m               540 non-null float64\n",
      "total_iStoreQty_ASR1mTo2m                 540 non-null float64\n",
      "total_iStoreQty_ASR2mAndOver              540 non-null float64\n",
      "CountTransactions_rollAvg7Day             540 non-null float64\n",
      "AmtSold_rollAvg7Day                       540 non-null float64\n",
      "QtySold_rollAvg7Day                       540 non-null float64\n",
      "CountTransactions_diffComp                540 non-null float64\n",
      "AmtSold_diffComp                          540 non-null float64\n",
      "QtySold_diffComp                          540 non-null float64\n",
      "total_iStoreCOGS_diffComp                 540 non-null float64\n",
      "total_iStoreQty_ASRUnder250k_diffComp     540 non-null float64\n",
      "total_iStoreQty_ASR250kTo500k_diffComp    540 non-null float64\n",
      "total_iStoreQty_ASR500kTo1m_diffComp      540 non-null float64\n",
      "total_iStoreQty_ASR1mTo2m_diffComp        540 non-null float64\n",
      "total_iStoreQty_ASR2mAndOver_diffComp     540 non-null float64\n",
      "CountTransactions_rollAvg7Day_diffComp    540 non-null float64\n",
      "AmtSold_rollAvg7Day_diffComp              540 non-null float64\n",
      "QtySold_rollAvg7Day_diffComp              540 non-null float64\n",
      "CountTransactions_pctComp                 537 non-null float64\n",
      "AmtSold_pctComp                           529 non-null float64\n",
      "QtySold_pctComp                           537 non-null float64\n",
      "total_iStoreCOGS_pctComp                  531 non-null float64\n",
      "total_iStoreQty_ASRUnder250k_pctComp      525 non-null float64\n",
      "total_iStoreQty_ASR250kTo500k_pctComp     486 non-null float64\n",
      "total_iStoreQty_ASR500kTo1m_pctComp       497 non-null float64\n",
      "total_iStoreQty_ASR1mTo2m_pctComp         500 non-null float64\n",
      "total_iStoreQty_ASR2mAndOver_pctComp      489 non-null float64\n",
      "CountTransactions_rollAvg7Day_pctComp     540 non-null float64\n",
      "AmtSold_rollAvg7Day_pctComp               540 non-null float64\n",
      "QtySold_rollAvg7Day_pctComp               540 non-null float64\n",
      "dtypes: datetime64[ns](1), float64(34), int64(6), object(2)\n",
      "memory usage: 181.5+ KB\n"
     ]
    }
   ],
   "source": [
    "df_OrdersComp.info()"
   ]
  },
  {
   "cell_type": "code",
   "execution_count": 8,
   "metadata": {},
   "outputs": [
    {
     "data": {
      "text/plain": [
       "array(['Consolidated iStore - 1', 'Consolidated iStore - 2',\n",
       "       'Consolidated iStore - 3', 'Consolidated iStore - 4',\n",
       "       'Consolidated iStore - 5', 'Consolidated iStore - 6',\n",
       "       'Consolidated iStore - 7', 'Consolidated iStore - 8',\n",
       "       'Total iStore'], dtype=object)"
      ]
     },
     "execution_count": 8,
     "metadata": {},
     "output_type": "execute_result"
    }
   ],
   "source": [
    "df_OrdersComp['InstanceName'].unique()"
   ]
  },
  {
   "cell_type": "code",
   "execution_count": 9,
   "metadata": {},
   "outputs": [],
   "source": [
    "def createThicketNames(df_comp):\n",
    "    filtInstance_iStore = {}\n",
    "    filtInstanceType = df_comp['InstanceType'].isin(['iStore', 'Total iStore'])\n",
    "    for i in df_comp[filtInstanceType]['InstanceName'].unique():\n",
    "        if i.find('Consolidated iStore') > -1:\n",
    "            filtInstance_iStore[i] = 'Thicket ' + i[-1:]\n",
    "        elif i.find('Total iStore') > -1:\n",
    "            filtInstance_iStore[i] = 'All Thickets'\n",
    "    return filtInstance_iStore\n",
    "    \n",
    "filtInstance_iStore = createThicketNames(df_OrdersComp)"
   ]
  },
  {
   "cell_type": "code",
   "execution_count": 10,
   "metadata": {},
   "outputs": [
    {
     "data": {
      "text/plain": [
       "{'Consolidated iStore - 1': 'Thicket 1',\n",
       " 'Consolidated iStore - 2': 'Thicket 2',\n",
       " 'Consolidated iStore - 3': 'Thicket 3',\n",
       " 'Consolidated iStore - 4': 'Thicket 4',\n",
       " 'Consolidated iStore - 5': 'Thicket 5',\n",
       " 'Consolidated iStore - 6': 'Thicket 6',\n",
       " 'Consolidated iStore - 7': 'Thicket 7',\n",
       " 'Consolidated iStore - 8': 'Thicket 8',\n",
       " 'Total iStore': 'All Thickets'}"
      ]
     },
     "execution_count": 10,
     "metadata": {},
     "output_type": "execute_result"
    }
   ],
   "source": [
    "filtInstance_iStore "
   ]
  },
  {
   "cell_type": "code",
   "execution_count": 11,
   "metadata": {},
   "outputs": [],
   "source": [
    "def create_Palette(int_NumColors, str_PaletteName, list_ColorLocs, boolPreviewBar = False, **kwargs):\n",
    "    #sns.color_palette('icefire', n_colors=64).as_hex()\n",
    "    list_PaletteColors = sns.color_palette(str_PaletteName, n_colors=int_NumColors).as_hex()\n",
    "    \n",
    "    if boolPreviewBar == True:\n",
    "        sns.palplot(list_PaletteColors)\n",
    "    \n",
    "    list_HexColors = []\n",
    "    for c in list_ColorLocs:\n",
    "        list_HexColors.append(list_PaletteColors[c])\n",
    "    return list_HexColors\n",
    "\n",
    "def create_CompositePalette(int_NumColors, list_PaletteNames, list_ColorLocs, boolPreviewBar = False, **kwargs):\n",
    "    #sns.color_palette('icefire', n_colors=64).as_hex()\n",
    "    list_PaletteColors = []\n",
    "    for p in list_PaletteNames:\n",
    "        list_PaletteColors.append(sns.color_palette(p, n_colors=int_NumColors).as_hex())\n",
    "    \n",
    "    list_PaletteColors = (np.array(list_PaletteColors)).flatten()\n",
    "                                   \n",
    "    if boolPreviewBar == True:\n",
    "        sns.palplot(list_PaletteColors)\n",
    "    \n",
    "    list_HexColors = []\n",
    "    for c in list_ColorLocs:\n",
    "        list_HexColors.append(list_PaletteColors[c])\n",
    "    return list_PaletteColors"
   ]
  },
  {
   "cell_type": "code",
   "execution_count": 12,
   "metadata": {},
   "outputs": [
    {
     "data": {
      "image/png": "[encoded data removed]",
      "text/plain": [
       "<Figure size 3600x72 with 1 Axes>"
      ]
     },
     "metadata": {
      "needs_background": "light"
     },
     "output_type": "display_data"
    }
   ],
   "source": [
    " clrPalExtended = create_CompositePalette(10, ['Blues', 'Greens', 'Oranges', 'Reds', 'Purples'], np.arange(0,10), boolPreviewBar=True)"
   ]
  },
  {
   "cell_type": "code",
   "execution_count": 13,
   "metadata": {},
   "outputs": [
    {
     "name": "stdout",
     "output_type": "stream",
     "text": [
      "<class 'pandas.core.frame.DataFrame'>\n",
      "Int64Index: 8 entries, 0 to 7\n",
      "Data columns (total 21 columns):\n",
      "InstanceName                     8 non-null object\n",
      "count_Items                      8 non-null int64\n",
      "total_iStorePrice                8 non-null float64\n",
      "total_AmazonLowestPrice          8 non-null float64\n",
      "count_PricedAtFloor              8 non-null int64\n",
      "total_iStoreQty_ASRUnder250k     8 non-null float64\n",
      "total_iStoreQty_ASR250kTo500k    8 non-null float64\n",
      "total_iStoreQty_ASR500kTo1m      8 non-null float64\n",
      "total_iStoreQty_ASR1mTo2m        8 non-null float64\n",
      "total_iStoreQty_ASR2mAndOver     8 non-null float64\n",
      "total_DaysInStock                8 non-null int64\n",
      "total_QtyAgedUnder15Days         8 non-null int64\n",
      "total_QtyAged15To30Days          8 non-null int64\n",
      "total_QtyAged30To45Days          8 non-null int64\n",
      "total_QtyAged45To90Days          8 non-null int64\n",
      "total_QtyAgedOver90Days          8 non-null int64\n",
      "total_PriceAgedUnder15Days       8 non-null float64\n",
      "total_PriceAged15To30Days        8 non-null float64\n",
      "total_PriceAged30To45Days        8 non-null float64\n",
      "total_PriceAged45To90Days        8 non-null float64\n",
      "total_PriceAgedOver90Days        8 non-null float64\n",
      "dtypes: float64(12), int64(8), object(1)\n",
      "memory usage: 1.4+ KB\n"
     ]
    }
   ],
   "source": [
    "df_inv.info()"
   ]
  },
  {
   "cell_type": "code",
   "execution_count": 14,
   "metadata": {},
   "outputs": [],
   "source": [
    "def createTrace_InvASRComp(df_i, colName, legendLabel, boolShowLegend=True, **kwargs):\n",
    "\n",
    "    plt_x = ['Thicket ' + c[-1] for c in df_i['InstanceName'].unique() if (c.find('Total') == -1)]\n",
    "    plt_y = df_i[colName]\n",
    "    plt_text = df_i[colName] / df_i['count_Items']\n",
    "    trace = go.Bar(x=plt_x, \n",
    "                   y=plt_y,\n",
    "                    #marker=dict(color=hexStrColor),\n",
    "                   width = 0.5,\n",
    "                   name = legendLabel,\n",
    "                   text=plt_text,\n",
    "                   hovertemplate=(\n",
    "                    \"Qty: %{y:,.0f}<br>\" +\n",
    "                    \"Pct: %{text:.1%}<br>\"),\n",
    "                    showlegend=boolShowLegend)\n",
    "    return trace"
   ]
  },
  {
   "cell_type": "code",
   "execution_count": 15,
   "metadata": {},
   "outputs": [],
   "source": [
    "def createTrace_ThicketComp(df_t, strInstanceName, strLegendName, hexStrColor, boolShowLegend=True, **kwargs):\n",
    "    filtInstance = df_t['InstanceName'] == strInstanceName\n",
    "    filtDateRange = df_t['NRF_Year'] == datetime.now().year\n",
    "\n",
    "    plt_x = pd.to_datetime(df_t[filtInstance & filtDateRange]['Store_Date'])\n",
    "    plt_y = df_t[filtInstance & filtDateRange]['AmtSold_rollAvg7Day']\n",
    "\n",
    "    trace_rollAvg7Day = go.Scatter(x=plt_x, \n",
    "                        y=plt_y,\n",
    "                        line=dict(color=hexStrColor),\n",
    "                        name = strLegendName,\n",
    "                        showlegend=boolShowLegend)\n",
    "    return trace_rollAvg7Day\n",
    "\n",
    "def createTrace_ThicketDetailComp(df_t, strInstanceName, clrPal, boolShowLegend=False, **kwargs):\n",
    "    filtInstance = df_t['InstanceName'] == strInstanceName\n",
    "    filtDateRange = df_t['NRF_Year'] == datetime.now().year\n",
    "\n",
    "    plt_x = pd.to_datetime(df_t[filtInstance & filtDateRange]['Store_Date'])\n",
    "    plt_y_actual = df_t[filtInstance & filtDateRange]['AmtSold']\n",
    "    plt_y_diff = df_t[filtInstance & filtDateRange]['AmtSold_diffComp']\n",
    "    plt_y_rollComp = df_t[filtInstance & filtDateRange]['AmtSold_rollAvg7Day_pctComp']\n",
    "\n",
    "    trace_amtSold_actual = go.Bar(x=plt_x, \n",
    "                                        y=plt_y_actual,\n",
    "                                        marker=dict(color=clrPal[6]),\n",
    "                                        name = 'Daily Sales Amount',\n",
    "                                        showlegend=boolShowLegend)\n",
    "    trace_amtSold_diff = go.Bar(x=plt_x, \n",
    "                                        y=plt_y_diff,\n",
    "                                        marker=dict(color=clrPal[30]),\n",
    "                                        name = 'Daily Sales Difference',\n",
    "                                        showlegend=boolShowLegend)\n",
    "    trace_amtSold_rollComp = go.Bar(x=plt_x, \n",
    "                                        y=plt_y_rollComp - 1,\n",
    "                                        marker=dict(color=clrPal[24]),\n",
    "                                        name = '',\n",
    "                                        showlegend=False)\n",
    "    return trace_amtSold_actual, trace_amtSold_diff, trace_amtSold_rollComp"
   ]
  },
  {
   "cell_type": "code",
   "execution_count": 16,
   "metadata": {},
   "outputs": [],
   "source": [
    "def plot_iStoreSalesTotal(df_comp, clrPal):\n",
    "    filtDateRange = df_comp['NRF_Year'] == datetime.now().year\n",
    "\n",
    "    fig = subplots.make_subplots(rows=1, cols=2, \n",
    "                                 horizontal_spacing = 0.15,\n",
    "                                 vertical_spacing = 0.06,\n",
    "                                 subplot_titles = ['Total iStore Sales'],\n",
    "                                 shared_xaxes=False)\n",
    "\n",
    "    fig['layout'].update(title=go.layout.Title(\n",
    "                            text='iStore Total Comp to Last Year',\n",
    "                            font=dict(size=24),\n",
    "                            xref='paper',\n",
    "                            x=0,\n",
    "                            y=0.98,\n",
    "                            xanchor='left'),\n",
    "        barmode='overlay',\n",
    "        legend=dict(orientation='h',x=-.0, y=1.035, xanchor='left'),\n",
    "        width=1000,\n",
    "        height=400,\n",
    "        margin=go.layout.Margin(\n",
    "        l=25,\n",
    "        r=25,\n",
    "        b=100,\n",
    "        t=150,\n",
    "        pad=0,\n",
    "        autoexpand=True),\n",
    "        hovermode='x',\n",
    "        showlegend=True)\n",
    "\n",
    "\n",
    "    trace_amtSold_actual, trace_amtSold_diff, trace_amtSold_rollComp = createTrace_ThicketDetailComp(\n",
    "        df_comp, 'Total iStore Sales', clrPal, boolShowLegend=True)\n",
    "        \n",
    "    #Traces of amtSold_actual and _diff get combined to the first plot per row\n",
    "    #Trace of rolling comp gets allocated to the second plot per row.\n",
    "    fig.append_trace(trace_amtSold_actual, 1, 1)\n",
    "    fig.append_trace(trace_amtSold_diff, 1, 1)\n",
    "    fig.append_trace(trace_amtSold_rollComp, 1, 2)\n",
    "\n",
    "    #Set up axes for each row\n",
    "    fig.update_xaxes(title='', \n",
    "                        type='date', \n",
    "                        tickformat='%Y-%m-%d',\n",
    "                        dtick = 7 * 86400000,\n",
    "                        showgrid=True,\n",
    "                        tickfont=dict(family='Arial, san-serif', size=10),\n",
    "                        tickangle=90, row=1, col=1)\n",
    "    fig.update_xaxes(title='', \n",
    "                        type='date', \n",
    "                        tickformat='%Y-%m-%d',\n",
    "                        dtick = 7 * 86400000,\n",
    "                        showgrid=True,\n",
    "                        tickfont=dict(family='Arial, san-serif', size=10),\n",
    "                        tickangle=90, row=1, col=2)\n",
    "    fig.update_yaxes(title='$ Diff to LY', \n",
    "                        tickformat='$,.0f', \n",
    "                        hoverformat='$,.0f', \n",
    "                        titlefont=dict(family='Arial, san-serif', size=10),\n",
    "                        tickfont=dict(family='Arial, san-serif', size=10),\n",
    "                        row=1, col=1)\n",
    "    fig.update_yaxes(title='% Diff to LY', \n",
    "                        tickformat='0.1%', \n",
    "                        titlefont=dict(family='Arial, san-serif', size=10),\n",
    "                        tickfont=dict(family='Arial, san-serif', size=10),\n",
    "                        row=1, col=2)\n",
    "\n",
    "\n",
    "    iplot(fig)\n",
    "    div_iStoreSalesTotal = plotly.offline.plot(fig, output_type='div')\n",
    "    return div_iStoreSalesTotal"
   ]
  },
  {
   "cell_type": "code",
   "execution_count": 26,
   "metadata": {},
   "outputs": [],
   "source": [
    "def plot_iStoreSalesByThicket(df_comp, clrPal, filtInstance_iStore):  \n",
    "    listColors = [3, 9, 15, 19, 22, 25, 38, 48]\n",
    "    clrNum = 0\n",
    "    trace = {}\n",
    "    for k,v in filtInstance_iStore.items():\n",
    "        if k.find('Consolidated iStore') > -1:\n",
    "            filtInstance = df_comp['InstanceName'] == k\n",
    "            filtDateRange = df_comp['NRF_Year'] == datetime.now().year\n",
    "            trace[v] = createTrace_ThicketComp(df_comp, k, v, clrPal[listColors[clrNum]])\n",
    "            clrNum += 1\n",
    "        \n",
    "    data = [v for k,v in trace.items()]\n",
    "    \n",
    "    layout = dict(\n",
    "        title=go.layout.Title(\n",
    "            text='iStore Sales by Thicket - 7 Day Avg',\n",
    "            font=dict(size=24),\n",
    "            xref='paper',\n",
    "            x=0,\n",
    "            y=0.95,\n",
    "            xanchor='left'),\n",
    "        barmode='overlay',\n",
    "        legend=dict(orientation='v',x=1.05, y=0.5, xanchor='left'),\n",
    "        width=1000,\n",
    "        height=500,\n",
    "        margin=go.layout.Margin(\n",
    "        l=25,\n",
    "        r=25,\n",
    "        b=100,\n",
    "        t=100,\n",
    "        pad=0,\n",
    "        autoexpand=True),\n",
    "        hovermode='x',\n",
    "        showlegend=True)\n",
    "    \n",
    "    fig = go.FigureWidget(data=data, layout=layout)\n",
    "    \n",
    "    fig['layout']['xaxis'] = dict(title='', \n",
    "                            type='date', \n",
    "                            tickformat='%Y-%m-%d',\n",
    "                            dtick = 7 * 86400000,\n",
    "                            showgrid=True,\n",
    "                            tickfont=dict(family='Arial, san-serif', size=10))\n",
    "    fig['layout']['yaxis'] = dict(title='Avg Sales $', \n",
    "                            tickformat='$,.0f', \n",
    "                            hoverformat='$,.0f', \n",
    "                            titlefont=dict(family='Arial, san-serif', size=10),\n",
    "                            tickfont=dict(family='Arial, san-serif', size=10))\n",
    "    \n",
    "    iplot(fig)\n",
    "    div_iStoreSalesByThicket = plotly.offline.plot(fig, output_type='div')\n",
    "    return div_iStoreSalesByThicket"
   ]
  },
  {
   "cell_type": "code",
   "execution_count": 27,
   "metadata": {
    "scrolled": true
   },
   "outputs": [],
   "source": [
    "def plot_iStoreSalesByThicketDetail(df_comp, strTitle, clrPal, filtInstance_iStore, strInstanceNames, numInstances, figHeight):\n",
    "    filtDateRange = df_comp['NRF_Year'] == datetime.now().year\n",
    "    filtInstance = {}\n",
    "    listSubplotTitles = []\n",
    "    for k,v in filtInstance_iStore.items():\n",
    "        if k.find(strInstanceNames) > -1:\n",
    "            filtInstance[k] = df_comp['InstanceName'] == k\n",
    "            listSubplotTitles.append(v + ' - Total Daily Sales'), \n",
    "            listSubplotTitles.append(v + ' - 7 Day Avg Sales Comp')\n",
    "\n",
    "\n",
    "    fig = subplots.make_subplots(rows=numInstances, cols=2, \n",
    "                                 horizontal_spacing = 0.15,\n",
    "                                 vertical_spacing = 0.06,\n",
    "                                 subplot_titles = listSubplotTitles,\n",
    "                                 shared_xaxes=False)\n",
    "    if numInstances == 1:\n",
    "        layout_TitleYCoord = 0.89\n",
    "        layout_LegendYCoord = 1.43\n",
    "    if numInstances == 8:\n",
    "        layout_TitleYCoord = 0.98\n",
    "        layout_LegendYCoord = 1.035\n",
    "        \n",
    "    fig['layout'].update(title=go.layout.Title(\n",
    "                            text=strTitle,\n",
    "                            font=dict(size=24),\n",
    "                            xref='paper',\n",
    "                            x=0,\n",
    "                            y=layout_TitleYCoord,\n",
    "                            xanchor='left'),\n",
    "        barmode='overlay',\n",
    "        legend=dict(orientation='h',x=-.0, y=layout_LegendYCoord, xanchor='left'),\n",
    "        width=1000,\n",
    "        height=figHeight,\n",
    "        margin=go.layout.Margin(\n",
    "        l=25,\n",
    "        r=25,\n",
    "        b=100,\n",
    "        t=150,\n",
    "        pad=0,\n",
    "        autoexpand=True),\n",
    "        hovermode='x',\n",
    "        showlegend=True)\n",
    "\n",
    "    rowNum = 1\n",
    "    for k,v in filtInstance.items():\n",
    "        if rowNum == 1:\n",
    "            bsl = True\n",
    "        else:\n",
    "            bsl = False\n",
    "\n",
    "        trace_amtSold_actual, trace_amtSold_diff, trace_amtSold_rollComp = createTrace_ThicketDetailComp(\n",
    "            df_comp, k, clrPal, boolShowLegend=bsl)\n",
    "        \n",
    "        #Traces of amtSold_actual and _diff get combined to the first plot per row\n",
    "        #Trace of rolling comp gets allocated to the second plot per row.\n",
    "        fig.append_trace(trace_amtSold_actual, rowNum, 1)\n",
    "        fig.append_trace(trace_amtSold_diff, rowNum, 1)\n",
    "        fig.append_trace(trace_amtSold_rollComp, rowNum, 2)\n",
    "        \n",
    "        #Set up axes for each row\n",
    "        fig.update_xaxes(title='', \n",
    "                            type='date', \n",
    "                            tickformat='%Y-%m-%d',\n",
    "                            dtick = 7 * 86400000,\n",
    "                            showgrid=True,\n",
    "                            tickfont=dict(family='Arial, san-serif', size=10),\n",
    "                            tickangle=90, row=rowNum, col=1)\n",
    "        fig.update_xaxes(title='', \n",
    "                            type='date', \n",
    "                            tickformat='%Y-%m-%d',\n",
    "                            dtick = 7 * 86400000,\n",
    "                            showgrid=True,\n",
    "                            tickfont=dict(family='Arial, san-serif', size=10),\n",
    "                            tickangle=90, row=rowNum, col=2)\n",
    "        fig.update_yaxes(title='$ Diff to LY', \n",
    "                            tickformat='$,.0f', \n",
    "                            hoverformat='$,.0f', \n",
    "                            titlefont=dict(family='Arial, san-serif', size=10),\n",
    "                            tickfont=dict(family='Arial, san-serif', size=10),\n",
    "                            row=rowNum, col=1)\n",
    "        fig.update_yaxes(title='% Diff to LY', \n",
    "                            tickformat='0.1%', \n",
    "                            titlefont=dict(family='Arial, san-serif', size=10),\n",
    "                            tickfont=dict(family='Arial, san-serif', size=10),\n",
    "                            row=rowNum, col=2)\n",
    "        rowNum += 1\n",
    "\n",
    "\n",
    "    iplot(fig)\n",
    "    div_iStoreLYCompByThicketDetail = plotly.offline.plot(fig, output_type='div')\n",
    "    return div_iStoreLYCompByThicketDetail"
   ]
  },
  {
   "cell_type": "code",
   "execution_count": 28,
   "metadata": {},
   "outputs": [],
   "source": [
    "def plot_iStoreInvCompByThicket(df_inv, strSearchColName, strSearchLegendLabel, strTitle, clrPal):\n",
    "    legendLabelNum = 0\n",
    "    trace = {}\n",
    "    colsASR = [c for c in df_inv.columns if (c.find(strSearchColName) > -1)]\n",
    "    legendLabelList = [c[c.find(strSearchLegendLabel) + len(strSearchLegendLabel):] for c in colsASR]\n",
    "    \n",
    "    for c in colsASR:\n",
    "        legendLabel = legendLabelList[legendLabelNum]\n",
    "        trace[c] = createTrace_InvASRComp(df_inv, c, legendLabel)\n",
    "        legendLabelNum += 1\n",
    "\n",
    "    data = [v for k,v in trace.items()]\n",
    "    \n",
    "    layout = dict(\n",
    "        title=go.layout.Title(\n",
    "            text = strTitle,\n",
    "            font=dict(size=24),\n",
    "            xref='paper',\n",
    "            x=0,\n",
    "            y=0.95,\n",
    "            xanchor='left'),\n",
    "        barmode='stack',\n",
    "        legend=dict(orientation='v',x=1.05, y=0.5, xanchor='left'),\n",
    "        width=1000,\n",
    "        height=450,\n",
    "        margin=go.layout.Margin(\n",
    "        l=25,\n",
    "        r=25,\n",
    "        b=100,\n",
    "        t=100,\n",
    "        pad=0,\n",
    "        autoexpand=True),\n",
    "        hovermode='x',\n",
    "        showlegend=True)\n",
    "    \n",
    "    fig = go.FigureWidget(data=data, layout=layout)\n",
    "    \n",
    "    fig['layout']['xaxis'] = dict(title='', \n",
    "                            type='category', \n",
    "                            showgrid=True,\n",
    "                            tickfont=dict(family='Arial, san-serif', size=10))\n",
    "    fig['layout']['yaxis'] = dict(title='Quantity Listed', \n",
    "                            tickformat=',.0f', \n",
    "                            hoverformat=',.0f', \n",
    "                            titlefont=dict(family='Arial, san-serif', size=10),\n",
    "                            tickfont=dict(family='Arial, san-serif', size=10))\n",
    "    \n",
    "    iplot(fig)\n",
    "    div_invQtyComp = plotly.offline.plot(fig, output_type='div')\n",
    "    return div_invQtyComp"
   ]
  },
  {
   "cell_type": "code",
   "execution_count": 29,
   "metadata": {},
   "outputs": [
    {
     "data": {
      "application/vnd.plotly.v1+json": {
       "config": {
        "linkText": "Export to plot.ly",
        "plotlyServerURL": "https://plot.ly",
        "showLink": false
       },
       "data": [
        {
         "hovertemplate": "Qty: %{y:,.0f}<br>Pct: %{text:.1%}<br>",
         "name": "Under250k",
         "showlegend": true,
         "text": [
          0.2595168591033663,
          0.2612738961952118,
          0.2709733788631602,
          0.2636560517187942,
          0.2549178278993786,
          0.2715398307383856,
          0.7065436683700258,
          0.31370505065874554
         ],
         "type": "bar",
         "uid": "264246fa-0e1c-429d-a82f-69f5abd54123",
         "width": 0.5,
         "x": [
          "Thicket 1",
          "Thicket 2",
          "Thicket 4",
          "Thicket 5",
          "Thicket 6",
          "Thicket 7",
          "Thicket 8"
         ],
         "y": [
          377828,
          414319,
          439463,
          409176,
          403850,
          41037,
          734739,
          2820412
         ]
        },
        {
         "hovertemplate": "Qty: %{y:,.0f}<br>Pct: %{text:.1%}<br>",
         "name": "250kTo500k",
         "showlegend": true,
         "text": [
          0.10041349277761369,
          0.10153585178131691,
          0.10278555722859993,
          0.1037365707624888,
          0.09982603601988592,
          0.06206038629761724,
          0.0703852078937904,
          0.0973915231258611
         ],
         "type": "bar",
         "uid": "b6ba6acd-8ea1-4ff3-8677-78b4e855f9f7",
         "width": 0.5,
         "x": [
          "Thicket 1",
          "Thicket 2",
          "Thicket 4",
          "Thicket 5",
          "Thicket 6",
          "Thicket 7",
          "Thicket 8"
         ],
         "y": [
          146191,
          161012,
          166697,
          160992,
          158148,
          9379,
          73194,
          875613
         ]
        },
        {
         "hovertemplate": "Qty: %{y:,.0f}<br>Pct: %{text:.1%}<br>",
         "name": "500kTo1m",
         "showlegend": true,
         "text": [
          0.1323238706220937,
          0.13221000589620782,
          0.1348019538856353,
          0.1377812544501012,
          0.13336018118512646,
          0.09591932612967902,
          0.05060745875107942,
          0.12381175152094137
         ],
         "type": "bar",
         "uid": "18fc4061-0222-41de-8c43-d570c176fde4",
         "width": 0.5,
         "x": [
          "Thicket 1",
          "Thicket 2",
          "Thicket 4",
          "Thicket 5",
          "Thicket 6",
          "Thicket 7",
          "Thicket 8"
         ],
         "y": [
          192649,
          209654,
          218621,
          213827,
          211274,
          14496,
          52627,
          1113148
         ]
        },
        {
         "hovertemplate": "Qty: %{y:,.0f}<br>Pct: %{text:.1%}<br>",
         "name": "1mTo2m",
         "showlegend": true,
         "text": [
          0.1487461277981166,
          0.14905676440077817,
          0.15197552833467134,
          0.15877510018164467,
          0.15095162589412184,
          0.12643008860097799,
          0.044425169197985205,
          0.1390618185628201
         ],
         "type": "bar",
         "uid": "1c1898f3-4499-4a70-95fc-f994c5931534",
         "width": 0.5,
         "x": [
          "Thicket 1",
          "Thicket 2",
          "Thicket 4",
          "Thicket 5",
          "Thicket 6",
          "Thicket 7",
          "Thicket 8"
         ],
         "y": [
          216558,
          236369,
          246473,
          246408,
          239143,
          19107,
          46198,
          1250256
         ]
        },
        {
         "hovertemplate": "Qty: %{y:,.0f}<br>Pct: %{text:.1%}<br>",
         "name": "2mAndOver",
         "showlegend": true,
         "text": [
          0.2563353000570098,
          0.2537595419245601,
          0.2677115589279526,
          0.2744419693916804,
          0.2564725205083081,
          0.4382803866946343,
          0.09174386915740461,
          0.24510366270555106
         ],
         "type": "bar",
         "uid": "83ac186e-e5c7-4b14-b0e6-ed5314c5f48a",
         "width": 0.5,
         "x": [
          "Thicket 1",
          "Thicket 2",
          "Thicket 4",
          "Thicket 5",
          "Thicket 6",
          "Thicket 7",
          "Thicket 8"
         ],
         "y": [
          373196,
          402403,
          434173,
          425915,
          406313,
          66236,
          95405,
          2203641
         ]
        }
       ],
       "layout": {
        "barmode": "stack",
        "height": 450,
        "hovermode": "x",
        "legend": {
         "orientation": "v",
         "x": 1.05,
         "xanchor": "left",
         "y": 0.5
        },
        "margin": {
         "autoexpand": true,
         "b": 100,
         "l": 25,
         "pad": 0,
         "r": 25,
         "t": 100
        },
        "showlegend": true,
        "template": {
         "data": {
          "bar": [
           {
            "error_x": {
             "color": "#f2f5fa"
            },
            "error_y": {
             "color": "#f2f5fa"
            },
            "marker": {
             "line": {
              "color": "rgb(17,17,17)",
              "width": 0.5
             }
            },
            "type": "bar"
           }
          ],
          "barpolar": [
           {
            "marker": {
             "line": {
              "color": "rgb(17,17,17)",
              "width": 0.5
             }
            },
            "type": "barpolar"
           }
          ],
          "carpet": [
           {
            "aaxis": {
             "endlinecolor": "#A2B1C6",
             "gridcolor": "#506784",
             "linecolor": "#506784",
             "minorgridcolor": "#506784",
             "startlinecolor": "#A2B1C6"
            },
            "baxis": {
             "endlinecolor": "#A2B1C6",
             "gridcolor": "#506784",
             "linecolor": "#506784",
             "minorgridcolor": "#506784",
             "startlinecolor": "#A2B1C6"
            },
            "type": "carpet"
           }
          ],
          "choropleth": [
           {
            "colorbar": {
             "outlinewidth": 0,
             "ticks": ""
            },
            "type": "choropleth"
           }
          ],
          "contour": [
           {
            "colorbar": {
             "outlinewidth": 0,
             "ticks": ""
            },
            "colorscale": [
             [
              0,
              "#0d0887"
             ],
             [
              0.1111111111111111,
              "#46039f"
             ],
             [
              0.2222222222222222,
              "#7201a8"
             ],
             [
              0.3333333333333333,
              "#9c179e"
             ],
             [
              0.4444444444444444,
              "#bd3786"
             ],
             [
              0.5555555555555556,
              "#d8576b"
             ],
             [
              0.6666666666666666,
              "#ed7953"
             ],
             [
              0.7777777777777778,
              "#fb9f3a"
             ],
             [
              0.8888888888888888,
              "#fdca26"
             ],
             [
              1,
              "#f0f921"
             ]
            ],
            "type": "contour"
           }
          ],
          "contourcarpet": [
           {
            "colorbar": {
             "outlinewidth": 0,
             "ticks": ""
            },
            "type": "contourcarpet"
           }
          ],
          "heatmap": [
           {
            "colorbar": {
             "outlinewidth": 0,
             "ticks": ""
            },
            "colorscale": [
             [
              0,
              "#0d0887"
             ],
             [
              0.1111111111111111,
              "#46039f"
             ],
             [
              0.2222222222222222,
              "#7201a8"
             ],
             [
              0.3333333333333333,
              "#9c179e"
             ],
             [
              0.4444444444444444,
              "#bd3786"
             ],
             [
              0.5555555555555556,
              "#d8576b"
             ],
             [
              0.6666666666666666,
              "#ed7953"
             ],
             [
              0.7777777777777778,
              "#fb9f3a"
             ],
             [
              0.8888888888888888,
              "#fdca26"
             ],
             [
              1,
              "#f0f921"
             ]
            ],
            "type": "heatmap"
           }
          ],
          "heatmapgl": [
           {
            "colorbar": {
             "outlinewidth": 0,
             "ticks": ""
            },
            "colorscale": [
             [
              0,
              "#0d0887"
             ],
             [
              0.1111111111111111,
              "#46039f"
             ],
             [
              0.2222222222222222,
              "#7201a8"
             ],
             [
              0.3333333333333333,
              "#9c179e"
             ],
             [
              0.4444444444444444,
              "#bd3786"
             ],
             [
              0.5555555555555556,
              "#d8576b"
             ],
             [
              0.6666666666666666,
              "#ed7953"
             ],
             [
              0.7777777777777778,
              "#fb9f3a"
             ],
             [
              0.8888888888888888,
              "#fdca26"
             ],
             [
              1,
              "#f0f921"
             ]
            ],
            "type": "heatmapgl"
           }
          ],
          "histogram": [
           {
            "marker": {
             "colorbar": {
              "outlinewidth": 0,
              "ticks": ""
             }
            },
            "type": "histogram"
           }
          ],
          "histogram2d": [
           {
            "colorbar": {
             "outlinewidth": 0,
             "ticks": ""
            },
            "colorscale": [
             [
              0,
              "#0d0887"
             ],
             [
              0.1111111111111111,
              "#46039f"
             ],
             [
              0.2222222222222222,
              "#7201a8"
             ],
             [
              0.3333333333333333,
              "#9c179e"
             ],
             [
              0.4444444444444444,
              "#bd3786"
             ],
             [
              0.5555555555555556,
              "#d8576b"
             ],
             [
              0.6666666666666666,
              "#ed7953"
             ],
             [
              0.7777777777777778,
              "#fb9f3a"
             ],
             [
              0.8888888888888888,
              "#fdca26"
             ],
             [
              1,
              "#f0f921"
             ]
            ],
            "type": "histogram2d"
           }
          ],
          "histogram2dcontour": [
           {
            "colorbar": {
             "outlinewidth": 0,
             "ticks": ""
            },
            "colorscale": [
             [
              0,
              "#0d0887"
             ],
             [
              0.1111111111111111,
              "#46039f"
             ],
             [
              0.2222222222222222,
              "#7201a8"
             ],
             [
              0.3333333333333333,
              "#9c179e"
             ],
             [
              0.4444444444444444,
              "#bd3786"
             ],
             [
              0.5555555555555556,
              "#d8576b"
             ],
             [
              0.6666666666666666,
              "#ed7953"
             ],
             [
              0.7777777777777778,
              "#fb9f3a"
             ],
             [
              0.8888888888888888,
              "#fdca26"
             ],
             [
              1,
              "#f0f921"
             ]
            ],
            "type": "histogram2dcontour"
           }
          ],
          "mesh3d": [
           {
            "colorbar": {
             "outlinewidth": 0,
             "ticks": ""
            },
            "type": "mesh3d"
           }
          ],
          "parcoords": [
           {
            "line": {
             "colorbar": {
              "outlinewidth": 0,
              "ticks": ""
             }
            },
            "type": "parcoords"
           }
          ],
          "pie": [
           {
            "automargin": true,
            "type": "pie"
           }
          ],
          "scatter": [
           {
            "marker": {
             "line": {
              "color": "#283442"
             }
            },
            "type": "scatter"
           }
          ],
          "scatter3d": [
           {
            "line": {
             "colorbar": {
              "outlinewidth": 0,
              "ticks": ""
             }
            },
            "marker": {
             "colorbar": {
              "outlinewidth": 0,
              "ticks": ""
             }
            },
            "type": "scatter3d"
           }
          ],
          "scattercarpet": [
           {
            "marker": {
             "colorbar": {
              "outlinewidth": 0,
              "ticks": ""
             }
            },
            "type": "scattercarpet"
           }
          ],
          "scattergeo": [
           {
            "marker": {
             "colorbar": {
              "outlinewidth": 0,
              "ticks": ""
             }
            },
            "type": "scattergeo"
           }
          ],
          "scattergl": [
           {
            "marker": {
             "line": {
              "color": "#283442"
             }
            },
            "type": "scattergl"
           }
          ],
          "scattermapbox": [
           {
            "marker": {
             "colorbar": {
              "outlinewidth": 0,
              "ticks": ""
             }
            },
            "type": "scattermapbox"
           }
          ],
          "scatterpolar": [
           {
            "marker": {
             "colorbar": {
              "outlinewidth": 0,
              "ticks": ""
             }
            },
            "type": "scatterpolar"
           }
          ],
          "scatterpolargl": [
           {
            "marker": {
             "colorbar": {
              "outlinewidth": 0,
              "ticks": ""
             }
            },
            "type": "scatterpolargl"
           }
          ],
          "scatterternary": [
           {
            "marker": {
             "colorbar": {
              "outlinewidth": 0,
              "ticks": ""
             }
            },
            "type": "scatterternary"
           }
          ],
          "surface": [
           {
            "colorbar": {
             "outlinewidth": 0,
             "ticks": ""
            },
            "colorscale": [
             [
              0,
              "#0d0887"
             ],
             [
              0.1111111111111111,
              "#46039f"
             ],
             [
              0.2222222222222222,
              "#7201a8"
             ],
             [
              0.3333333333333333,
              "#9c179e"
             ],
             [
              0.4444444444444444,
              "#bd3786"
             ],
             [
              0.5555555555555556,
              "#d8576b"
             ],
             [
              0.6666666666666666,
              "#ed7953"
             ],
             [
              0.7777777777777778,
              "#fb9f3a"
             ],
             [
              0.8888888888888888,
              "#fdca26"
             ],
             [
              1,
              "#f0f921"
             ]
            ],
            "type": "surface"
           }
          ],
          "table": [
           {
            "cells": {
             "fill": {
              "color": "#506784"
             },
             "line": {
              "color": "rgb(17,17,17)"
             }
            },
            "header": {
             "fill": {
              "color": "#2a3f5f"
             },
             "line": {
              "color": "rgb(17,17,17)"
             }
            },
            "type": "table"
           }
          ]
         },
         "layout": {
          "annotationdefaults": {
           "arrowcolor": "#f2f5fa",
           "arrowhead": 0,
           "arrowwidth": 1
          },
          "coloraxis": {
           "colorbar": {
            "outlinewidth": 0,
            "ticks": ""
           }
          },
          "colorscale": {
           "diverging": [
            [
             0,
             "#8e0152"
            ],
            [
             0.1,
             "#c51b7d"
            ],
            [
             0.2,
             "#de77ae"
            ],
            [
             0.3,
             "#f1b6da"
            ],
            [
             0.4,
             "#fde0ef"
            ],
            [
             0.5,
             "#f7f7f7"
            ],
            [
             0.6,
             "#e6f5d0"
            ],
            [
             0.7,
             "#b8e186"
            ],
            [
             0.8,
             "#7fbc41"
            ],
            [
             0.9,
             "#4d9221"
            ],
            [
             1,
             "#276419"
            ]
           ],
           "sequential": [
            [
             0,
             "#0d0887"
            ],
            [
             0.1111111111111111,
             "#46039f"
            ],
            [
             0.2222222222222222,
             "#7201a8"
            ],
            [
             0.3333333333333333,
             "#9c179e"
            ],
            [
             0.4444444444444444,
             "#bd3786"
            ],
            [
             0.5555555555555556,
             "#d8576b"
            ],
            [
             0.6666666666666666,
             "#ed7953"
            ],
            [
             0.7777777777777778,
             "#fb9f3a"
            ],
            [
             0.8888888888888888,
             "#fdca26"
            ],
            [
             1,
             "#f0f921"
            ]
           ],
           "sequentialminus": [
            [
             0,
             "#0d0887"
            ],
            [
             0.1111111111111111,
             "#46039f"
            ],
            [
             0.2222222222222222,
             "#7201a8"
            ],
            [
             0.3333333333333333,
             "#9c179e"
            ],
            [
             0.4444444444444444,
             "#bd3786"
            ],
            [
             0.5555555555555556,
             "#d8576b"
            ],
            [
             0.6666666666666666,
             "#ed7953"
            ],
            [
             0.7777777777777778,
             "#fb9f3a"
            ],
            [
             0.8888888888888888,
             "#fdca26"
            ],
            [
             1,
             "#f0f921"
            ]
           ]
          },
          "colorway": [
           "#636efa",
           "#EF553B",
           "#00cc96",
           "#ab63fa",
           "#FFA15A",
           "#19d3f3",
           "#FF6692",
           "#B6E880",
           "#FF97FF",
           "#FECB52"
          ],
          "font": {
           "color": "#f2f5fa"
          },
          "geo": {
           "bgcolor": "rgb(17,17,17)",
           "lakecolor": "rgb(17,17,17)",
           "landcolor": "rgb(17,17,17)",
           "showlakes": true,
           "showland": true,
           "subunitcolor": "#506784"
          },
          "hoverlabel": {
           "align": "left"
          },
          "hovermode": "closest",
          "mapbox": {
           "style": "dark"
          },
          "paper_bgcolor": "rgb(17,17,17)",
          "plot_bgcolor": "rgb(17,17,17)",
          "polar": {
           "angularaxis": {
            "gridcolor": "#506784",
            "linecolor": "#506784",
            "ticks": ""
           },
           "bgcolor": "rgb(17,17,17)",
           "radialaxis": {
            "gridcolor": "#506784",
            "linecolor": "#506784",
            "ticks": ""
           }
          },
          "scene": {
           "xaxis": {
            "backgroundcolor": "rgb(17,17,17)",
            "gridcolor": "#506784",
            "gridwidth": 2,
            "linecolor": "#506784",
            "showbackground": true,
            "ticks": "",
            "zerolinecolor": "#C8D4E3"
           },
           "yaxis": {
            "backgroundcolor": "rgb(17,17,17)",
            "gridcolor": "#506784",
            "gridwidth": 2,
            "linecolor": "#506784",
            "showbackground": true,
            "ticks": "",
            "zerolinecolor": "#C8D4E3"
           },
           "zaxis": {
            "backgroundcolor": "rgb(17,17,17)",
            "gridcolor": "#506784",
            "gridwidth": 2,
            "linecolor": "#506784",
            "showbackground": true,
            "ticks": "",
            "zerolinecolor": "#C8D4E3"
           }
          },
          "shapedefaults": {
           "line": {
            "color": "#f2f5fa"
           }
          },
          "sliderdefaults": {
           "bgcolor": "#C8D4E3",
           "bordercolor": "rgb(17,17,17)",
           "borderwidth": 1,
           "tickwidth": 0
          },
          "ternary": {
           "aaxis": {
            "gridcolor": "#506784",
            "linecolor": "#506784",
            "ticks": ""
           },
           "baxis": {
            "gridcolor": "#506784",
            "linecolor": "#506784",
            "ticks": ""
           },
           "bgcolor": "rgb(17,17,17)",
           "caxis": {
            "gridcolor": "#506784",
            "linecolor": "#506784",
            "ticks": ""
           }
          },
          "title": {
           "x": 0.05
          },
          "updatemenudefaults": {
           "bgcolor": "#506784",
           "borderwidth": 0
          },
          "xaxis": {
           "automargin": true,
           "gridcolor": "#283442",
           "linecolor": "#506784",
           "ticks": "",
           "title": {
            "standoff": 15
           },
           "zerolinecolor": "#283442",
           "zerolinewidth": 2
          },
          "yaxis": {
           "automargin": true,
           "gridcolor": "#283442",
           "linecolor": "#506784",
           "ticks": "",
           "title": {
            "standoff": 15
           },
           "zerolinecolor": "#283442",
           "zerolinewidth": 2
          }
         }
        },
        "title": {
         "font": {
          "size": 24
         },
         "text": "iStore Inventory Quantities by ASR",
         "x": 0,
         "xanchor": "left",
         "xref": "paper",
         "y": 0.95
        },
        "width": 1000,
        "xaxis": {
         "showgrid": true,
         "tickfont": {
          "family": "Arial, san-serif",
          "size": 10
         },
         "title": {
          "text": ""
         },
         "type": "category"
        },
        "yaxis": {
         "hoverformat": ",.0f",
         "tickfont": {
          "family": "Arial, san-serif",
          "size": 10
         },
         "tickformat": ",.0f",
         "title": {
          "font": {
           "family": "Arial, san-serif",
           "size": 10
          },
          "text": "Quantity Listed"
         }
        }
       }
      },
      "text/html": [
       "<div>\n",
       "        \n",
       "        \n",
       "            <div id=\"62665511-6a5e-45a5-9549-98e342e41536\" class=\"plotly-graph-div\" style=\"height:450px; width:1000px;\"></div>\n",
       "            <script type=\"text/javascript\">\n",
       "                require([\"plotly\"], function(Plotly) {\n",
       "                    window.PLOTLYENV=window.PLOTLYENV || {};\n",
       "                    \n",
       "                if (document.getElementById(\"62665511-6a5e-45a5-9549-98e342e41536\")) {\n",
       "                    Plotly.newPlot(\n",
       "                        '62665511-6a5e-45a5-9549-98e342e41536',\n",
       "                        [{\"hovertemplate\": \"Qty: %{y:,.0f}<br>Pct: %{text:.1%}<br>\", \"name\": \"Under250k\", \"showlegend\": true, \"text\": [0.2595168591033663, 0.2612738961952118, 0.2709733788631602, 0.2636560517187942, 0.2549178278993786, 0.2715398307383856, 0.7065436683700258, 0.31370505065874554], \"type\": \"bar\", \"uid\": \"264246fa-0e1c-429d-a82f-69f5abd54123\", \"width\": 0.5, \"x\": [\"Thicket 1\", \"Thicket 2\", \"Thicket 4\", \"Thicket 5\", \"Thicket 6\", \"Thicket 7\", \"Thicket 8\"], \"y\": [377828.0, 414319.0, 439463.0, 409176.0, 403850.0, 41037.0, 734739.0, 2820412.0]}, {\"hovertemplate\": \"Qty: %{y:,.0f}<br>Pct: %{text:.1%}<br>\", \"name\": \"250kTo500k\", \"showlegend\": true, \"text\": [0.10041349277761369, 0.10153585178131691, 0.10278555722859993, 0.1037365707624888, 0.09982603601988592, 0.06206038629761724, 0.0703852078937904, 0.0973915231258611], \"type\": \"bar\", \"uid\": \"b6ba6acd-8ea1-4ff3-8677-78b4e855f9f7\", \"width\": 0.5, \"x\": [\"Thicket 1\", \"Thicket 2\", \"Thicket 4\", \"Thicket 5\", \"Thicket 6\", \"Thicket 7\", \"Thicket 8\"], \"y\": [146191.0, 161012.0, 166697.0, 160992.0, 158148.0, 9379.0, 73194.0, 875613.0]}, {\"hovertemplate\": \"Qty: %{y:,.0f}<br>Pct: %{text:.1%}<br>\", \"name\": \"500kTo1m\", \"showlegend\": true, \"text\": [0.1323238706220937, 0.13221000589620782, 0.1348019538856353, 0.1377812544501012, 0.13336018118512646, 0.09591932612967902, 0.05060745875107942, 0.12381175152094137], \"type\": \"bar\", \"uid\": \"18fc4061-0222-41de-8c43-d570c176fde4\", \"width\": 0.5, \"x\": [\"Thicket 1\", \"Thicket 2\", \"Thicket 4\", \"Thicket 5\", \"Thicket 6\", \"Thicket 7\", \"Thicket 8\"], \"y\": [192649.0, 209654.0, 218621.0, 213827.0, 211274.0, 14496.0, 52627.0, 1113148.0]}, {\"hovertemplate\": \"Qty: %{y:,.0f}<br>Pct: %{text:.1%}<br>\", \"name\": \"1mTo2m\", \"showlegend\": true, \"text\": [0.1487461277981166, 0.14905676440077817, 0.15197552833467134, 0.15877510018164467, 0.15095162589412184, 0.12643008860097799, 0.044425169197985205, 0.1390618185628201], \"type\": \"bar\", \"uid\": \"1c1898f3-4499-4a70-95fc-f994c5931534\", \"width\": 0.5, \"x\": [\"Thicket 1\", \"Thicket 2\", \"Thicket 4\", \"Thicket 5\", \"Thicket 6\", \"Thicket 7\", \"Thicket 8\"], \"y\": [216558.0, 236369.0, 246473.0, 246408.0, 239143.0, 19107.0, 46198.0, 1250256.0]}, {\"hovertemplate\": \"Qty: %{y:,.0f}<br>Pct: %{text:.1%}<br>\", \"name\": \"2mAndOver\", \"showlegend\": true, \"text\": [0.2563353000570098, 0.2537595419245601, 0.2677115589279526, 0.2744419693916804, 0.2564725205083081, 0.4382803866946343, 0.09174386915740461, 0.24510366270555106], \"type\": \"bar\", \"uid\": \"83ac186e-e5c7-4b14-b0e6-ed5314c5f48a\", \"width\": 0.5, \"x\": [\"Thicket 1\", \"Thicket 2\", \"Thicket 4\", \"Thicket 5\", \"Thicket 6\", \"Thicket 7\", \"Thicket 8\"], \"y\": [373196.0, 402403.0, 434173.0, 425915.0, 406313.0, 66236.0, 95405.0, 2203641.0]}],\n",
       "                        {\"barmode\": \"stack\", \"height\": 450, \"hovermode\": \"x\", \"legend\": {\"orientation\": \"v\", \"x\": 1.05, \"xanchor\": \"left\", \"y\": 0.5}, \"margin\": {\"autoexpand\": true, \"b\": 100, \"l\": 25, \"pad\": 0, \"r\": 25, \"t\": 100}, \"showlegend\": true, \"template\": {\"data\": {\"bar\": [{\"error_x\": {\"color\": \"#f2f5fa\"}, \"error_y\": {\"color\": \"#f2f5fa\"}, \"marker\": {\"line\": {\"color\": \"rgb(17,17,17)\", \"width\": 0.5}}, \"type\": \"bar\"}], \"barpolar\": [{\"marker\": {\"line\": {\"color\": \"rgb(17,17,17)\", \"width\": 0.5}}, \"type\": \"barpolar\"}], \"carpet\": [{\"aaxis\": {\"endlinecolor\": \"#A2B1C6\", \"gridcolor\": \"#506784\", \"linecolor\": \"#506784\", \"minorgridcolor\": \"#506784\", \"startlinecolor\": \"#A2B1C6\"}, \"baxis\": {\"endlinecolor\": \"#A2B1C6\", \"gridcolor\": \"#506784\", \"linecolor\": \"#506784\", \"minorgridcolor\": \"#506784\", \"startlinecolor\": \"#A2B1C6\"}, \"type\": \"carpet\"}], \"choropleth\": [{\"colorbar\": {\"outlinewidth\": 0, \"ticks\": \"\"}, \"type\": \"choropleth\"}], \"contour\": [{\"colorbar\": {\"outlinewidth\": 0, \"ticks\": \"\"}, \"colorscale\": [[0.0, \"#0d0887\"], [0.1111111111111111, \"#46039f\"], [0.2222222222222222, \"#7201a8\"], [0.3333333333333333, \"#9c179e\"], [0.4444444444444444, \"#bd3786\"], [0.5555555555555556, \"#d8576b\"], [0.6666666666666666, \"#ed7953\"], [0.7777777777777778, \"#fb9f3a\"], [0.8888888888888888, \"#fdca26\"], [1.0, \"#f0f921\"]], \"type\": \"contour\"}], \"contourcarpet\": [{\"colorbar\": {\"outlinewidth\": 0, \"ticks\": \"\"}, \"type\": \"contourcarpet\"}], \"heatmap\": [{\"colorbar\": {\"outlinewidth\": 0, \"ticks\": \"\"}, \"colorscale\": [[0.0, \"#0d0887\"], [0.1111111111111111, \"#46039f\"], [0.2222222222222222, \"#7201a8\"], [0.3333333333333333, \"#9c179e\"], [0.4444444444444444, \"#bd3786\"], [0.5555555555555556, \"#d8576b\"], [0.6666666666666666, \"#ed7953\"], [0.7777777777777778, \"#fb9f3a\"], [0.8888888888888888, \"#fdca26\"], [1.0, \"#f0f921\"]], \"type\": \"heatmap\"}], \"heatmapgl\": [{\"colorbar\": {\"outlinewidth\": 0, \"ticks\": \"\"}, \"colorscale\": [[0.0, \"#0d0887\"], [0.1111111111111111, \"#46039f\"], [0.2222222222222222, \"#7201a8\"], [0.3333333333333333, \"#9c179e\"], [0.4444444444444444, \"#bd3786\"], [0.5555555555555556, \"#d8576b\"], [0.6666666666666666, \"#ed7953\"], [0.7777777777777778, \"#fb9f3a\"], [0.8888888888888888, \"#fdca26\"], [1.0, \"#f0f921\"]], \"type\": \"heatmapgl\"}], \"histogram\": [{\"marker\": {\"colorbar\": {\"outlinewidth\": 0, \"ticks\": \"\"}}, \"type\": \"histogram\"}], \"histogram2d\": [{\"colorbar\": {\"outlinewidth\": 0, \"ticks\": \"\"}, \"colorscale\": [[0.0, \"#0d0887\"], [0.1111111111111111, \"#46039f\"], [0.2222222222222222, \"#7201a8\"], [0.3333333333333333, \"#9c179e\"], [0.4444444444444444, \"#bd3786\"], [0.5555555555555556, \"#d8576b\"], [0.6666666666666666, \"#ed7953\"], [0.7777777777777778, \"#fb9f3a\"], [0.8888888888888888, \"#fdca26\"], [1.0, \"#f0f921\"]], \"type\": \"histogram2d\"}], \"histogram2dcontour\": [{\"colorbar\": {\"outlinewidth\": 0, \"ticks\": \"\"}, \"colorscale\": [[0.0, \"#0d0887\"], [0.1111111111111111, \"#46039f\"], [0.2222222222222222, \"#7201a8\"], [0.3333333333333333, \"#9c179e\"], [0.4444444444444444, \"#bd3786\"], [0.5555555555555556, \"#d8576b\"], [0.6666666666666666, \"#ed7953\"], [0.7777777777777778, \"#fb9f3a\"], [0.8888888888888888, \"#fdca26\"], [1.0, \"#f0f921\"]], \"type\": \"histogram2dcontour\"}], \"mesh3d\": [{\"colorbar\": {\"outlinewidth\": 0, \"ticks\": \"\"}, \"type\": \"mesh3d\"}], \"parcoords\": [{\"line\": {\"colorbar\": {\"outlinewidth\": 0, \"ticks\": \"\"}}, \"type\": \"parcoords\"}], \"pie\": [{\"automargin\": true, \"type\": \"pie\"}], \"scatter\": [{\"marker\": {\"line\": {\"color\": \"#283442\"}}, \"type\": \"scatter\"}], \"scatter3d\": [{\"line\": {\"colorbar\": {\"outlinewidth\": 0, \"ticks\": \"\"}}, \"marker\": {\"colorbar\": {\"outlinewidth\": 0, \"ticks\": \"\"}}, \"type\": \"scatter3d\"}], \"scattercarpet\": [{\"marker\": {\"colorbar\": {\"outlinewidth\": 0, \"ticks\": \"\"}}, \"type\": \"scattercarpet\"}], \"scattergeo\": [{\"marker\": {\"colorbar\": {\"outlinewidth\": 0, \"ticks\": \"\"}}, \"type\": \"scattergeo\"}], \"scattergl\": [{\"marker\": {\"line\": {\"color\": \"#283442\"}}, \"type\": \"scattergl\"}], \"scattermapbox\": [{\"marker\": {\"colorbar\": {\"outlinewidth\": 0, \"ticks\": \"\"}}, \"type\": \"scattermapbox\"}], \"scatterpolar\": [{\"marker\": {\"colorbar\": {\"outlinewidth\": 0, \"ticks\": \"\"}}, \"type\": \"scatterpolar\"}], \"scatterpolargl\": [{\"marker\": {\"colorbar\": {\"outlinewidth\": 0, \"ticks\": \"\"}}, \"type\": \"scatterpolargl\"}], \"scatterternary\": [{\"marker\": {\"colorbar\": {\"outlinewidth\": 0, \"ticks\": \"\"}}, \"type\": \"scatterternary\"}], \"surface\": [{\"colorbar\": {\"outlinewidth\": 0, \"ticks\": \"\"}, \"colorscale\": [[0.0, \"#0d0887\"], [0.1111111111111111, \"#46039f\"], [0.2222222222222222, \"#7201a8\"], [0.3333333333333333, \"#9c179e\"], [0.4444444444444444, \"#bd3786\"], [0.5555555555555556, \"#d8576b\"], [0.6666666666666666, \"#ed7953\"], [0.7777777777777778, \"#fb9f3a\"], [0.8888888888888888, \"#fdca26\"], [1.0, \"#f0f921\"]], \"type\": \"surface\"}], \"table\": [{\"cells\": {\"fill\": {\"color\": \"#506784\"}, \"line\": {\"color\": \"rgb(17,17,17)\"}}, \"header\": {\"fill\": {\"color\": \"#2a3f5f\"}, \"line\": {\"color\": \"rgb(17,17,17)\"}}, \"type\": \"table\"}]}, \"layout\": {\"annotationdefaults\": {\"arrowcolor\": \"#f2f5fa\", \"arrowhead\": 0, \"arrowwidth\": 1}, \"coloraxis\": {\"colorbar\": {\"outlinewidth\": 0, \"ticks\": \"\"}}, \"colorscale\": {\"diverging\": [[0, \"#8e0152\"], [0.1, \"#c51b7d\"], [0.2, \"#de77ae\"], [0.3, \"#f1b6da\"], [0.4, \"#fde0ef\"], [0.5, \"#f7f7f7\"], [0.6, \"#e6f5d0\"], [0.7, \"#b8e186\"], [0.8, \"#7fbc41\"], [0.9, \"#4d9221\"], [1, \"#276419\"]], \"sequential\": [[0.0, \"#0d0887\"], [0.1111111111111111, \"#46039f\"], [0.2222222222222222, \"#7201a8\"], [0.3333333333333333, \"#9c179e\"], [0.4444444444444444, \"#bd3786\"], [0.5555555555555556, \"#d8576b\"], [0.6666666666666666, \"#ed7953\"], [0.7777777777777778, \"#fb9f3a\"], [0.8888888888888888, \"#fdca26\"], [1.0, \"#f0f921\"]], \"sequentialminus\": [[0.0, \"#0d0887\"], [0.1111111111111111, \"#46039f\"], [0.2222222222222222, \"#7201a8\"], [0.3333333333333333, \"#9c179e\"], [0.4444444444444444, \"#bd3786\"], [0.5555555555555556, \"#d8576b\"], [0.6666666666666666, \"#ed7953\"], [0.7777777777777778, \"#fb9f3a\"], [0.8888888888888888, \"#fdca26\"], [1.0, \"#f0f921\"]]}, \"colorway\": [\"#636efa\", \"#EF553B\", \"#00cc96\", \"#ab63fa\", \"#FFA15A\", \"#19d3f3\", \"#FF6692\", \"#B6E880\", \"#FF97FF\", \"#FECB52\"], \"font\": {\"color\": \"#f2f5fa\"}, \"geo\": {\"bgcolor\": \"rgb(17,17,17)\", \"lakecolor\": \"rgb(17,17,17)\", \"landcolor\": \"rgb(17,17,17)\", \"showlakes\": true, \"showland\": true, \"subunitcolor\": \"#506784\"}, \"hoverlabel\": {\"align\": \"left\"}, \"hovermode\": \"closest\", \"mapbox\": {\"style\": \"dark\"}, \"paper_bgcolor\": \"rgb(17,17,17)\", \"plot_bgcolor\": \"rgb(17,17,17)\", \"polar\": {\"angularaxis\": {\"gridcolor\": \"#506784\", \"linecolor\": \"#506784\", \"ticks\": \"\"}, \"bgcolor\": \"rgb(17,17,17)\", \"radialaxis\": {\"gridcolor\": \"#506784\", \"linecolor\": \"#506784\", \"ticks\": \"\"}}, \"scene\": {\"xaxis\": {\"backgroundcolor\": \"rgb(17,17,17)\", \"gridcolor\": \"#506784\", \"gridwidth\": 2, \"linecolor\": \"#506784\", \"showbackground\": true, \"ticks\": \"\", \"zerolinecolor\": \"#C8D4E3\"}, \"yaxis\": {\"backgroundcolor\": \"rgb(17,17,17)\", \"gridcolor\": \"#506784\", \"gridwidth\": 2, \"linecolor\": \"#506784\", \"showbackground\": true, \"ticks\": \"\", \"zerolinecolor\": \"#C8D4E3\"}, \"zaxis\": {\"backgroundcolor\": \"rgb(17,17,17)\", \"gridcolor\": \"#506784\", \"gridwidth\": 2, \"linecolor\": \"#506784\", \"showbackground\": true, \"ticks\": \"\", \"zerolinecolor\": \"#C8D4E3\"}}, \"shapedefaults\": {\"line\": {\"color\": \"#f2f5fa\"}}, \"sliderdefaults\": {\"bgcolor\": \"#C8D4E3\", \"bordercolor\": \"rgb(17,17,17)\", \"borderwidth\": 1, \"tickwidth\": 0}, \"ternary\": {\"aaxis\": {\"gridcolor\": \"#506784\", \"linecolor\": \"#506784\", \"ticks\": \"\"}, \"baxis\": {\"gridcolor\": \"#506784\", \"linecolor\": \"#506784\", \"ticks\": \"\"}, \"bgcolor\": \"rgb(17,17,17)\", \"caxis\": {\"gridcolor\": \"#506784\", \"linecolor\": \"#506784\", \"ticks\": \"\"}}, \"title\": {\"x\": 0.05}, \"updatemenudefaults\": {\"bgcolor\": \"#506784\", \"borderwidth\": 0}, \"xaxis\": {\"automargin\": true, \"gridcolor\": \"#283442\", \"linecolor\": \"#506784\", \"ticks\": \"\", \"title\": {\"standoff\": 15}, \"zerolinecolor\": \"#283442\", \"zerolinewidth\": 2}, \"yaxis\": {\"automargin\": true, \"gridcolor\": \"#283442\", \"linecolor\": \"#506784\", \"ticks\": \"\", \"title\": {\"standoff\": 15}, \"zerolinecolor\": \"#283442\", \"zerolinewidth\": 2}}}, \"title\": {\"font\": {\"size\": 24}, \"text\": \"iStore Inventory Quantities by ASR\", \"x\": 0, \"xanchor\": \"left\", \"xref\": \"paper\", \"y\": 0.95}, \"width\": 1000, \"xaxis\": {\"showgrid\": true, \"tickfont\": {\"family\": \"Arial, san-serif\", \"size\": 10}, \"title\": {\"text\": \"\"}, \"type\": \"category\"}, \"yaxis\": {\"hoverformat\": \",.0f\", \"tickfont\": {\"family\": \"Arial, san-serif\", \"size\": 10}, \"tickformat\": \",.0f\", \"title\": {\"font\": {\"family\": \"Arial, san-serif\", \"size\": 10}, \"text\": \"Quantity Listed\"}}},\n",
       "                        {\"responsive\": true}\n",
       "                    ).then(function(){\n",
       "                            \n",
       "var gd = document.getElementById('62665511-6a5e-45a5-9549-98e342e41536');\n",
       "var x = new MutationObserver(function (mutations, observer) {{\n",
       "        var display = window.getComputedStyle(gd).display;\n",
       "        if (!display || display === 'none') {{\n",
       "            console.log([gd, 'removed!']);\n",
       "            Plotly.purge(gd);\n",
       "            observer.disconnect();\n",
       "        }}\n",
       "}});\n",
       "\n",
       "// Listen for the removal of the full notebook cells\n",
       "var notebookContainer = gd.closest('#notebook-container');\n",
       "if (notebookContainer) {{\n",
       "    x.observe(notebookContainer, {childList: true});\n",
       "}}\n",
       "\n",
       "// Listen for the clearing of the current output cell\n",
       "var outputEl = gd.closest('.output');\n",
       "if (outputEl) {{\n",
       "    x.observe(outputEl, {childList: true});\n",
       "}}\n",
       "\n",
       "                        })\n",
       "                };\n",
       "                });\n",
       "            </script>\n",
       "        </div>"
      ]
     },
     "metadata": {},
     "output_type": "display_data"
    }
   ],
   "source": [
    "div_invASRQty = plot_iStoreInvCompByThicket(df_inv,'total_iStoreQty_ASR', 'ASR', 'iStore Inventory Quantities by ASR', clrPalExtended)"
   ]
  },
  {
   "cell_type": "code",
   "execution_count": 30,
   "metadata": {},
   "outputs": [
    {
     "data": {
      "application/vnd.plotly.v1+json": {
       "config": {
        "linkText": "Export to plot.ly",
        "plotlyServerURL": "https://plot.ly",
        "showLink": false
       },
       "data": [
        {
         "hovertemplate": "Qty: %{y:,.0f}<br>Pct: %{text:.1%}<br>",
         "name": "Under15Days",
         "showlegend": true,
         "text": [
          0.39184828524133003,
          0.3602475776675611,
          0.3887213789174211,
          0.3468710915627048,
          0.38372691947411874,
          0.07705439795668544,
          0.3388700517162128,
          0.36509644631883637
         ],
         "type": "bar",
         "uid": "01d135e4-9f53-4e6f-a829-076fe1662f74",
         "width": 0.5,
         "x": [
          "Thicket 1",
          "Thicket 2",
          "Thicket 4",
          "Thicket 5",
          "Thicket 6",
          "Thicket 7",
          "Thicket 8"
         ],
         "y": [
          570488,
          571268,
          630426,
          538320,
          607914,
          11645,
          352393,
          3282454
         ]
        },
        {
         "hovertemplate": "Qty: %{y:,.0f}<br>Pct: %{text:.1%}<br>",
         "name": "15To30Days",
         "showlegend": true,
         "text": [
          0.07024843909910776,
          0.06957399110208637,
          0.05920357332682202,
          0.0797181060240436,
          0.08474747449243673,
          0.12300912477585077,
          0.09996672776193233,
          0.07665086246832681
         ],
         "type": "bar",
         "uid": "805479a8-7dbf-4bea-b7cf-9455e9e306c5",
         "width": 0.5,
         "x": [
          "Thicket 1",
          "Thicket 2",
          "Thicket 4",
          "Thicket 5",
          "Thicket 6",
          "Thicket 7",
          "Thicket 8"
         ],
         "y": [
          102274,
          110328,
          96016,
          123717,
          134260,
          18590,
          103956,
          689141
         ]
        },
        {
         "hovertemplate": "Qty: %{y:,.0f}<br>Pct: %{text:.1%}<br>",
         "name": "30To45Days",
         "showlegend": true,
         "text": [
          0.06030538021416453,
          0.06551727399709288,
          0.05641715285665134,
          0.07266237996405768,
          0.053768504187507414,
          0.15506163690141403,
          0.07661077058888015,
          0.06498318419504531
         ],
         "type": "bar",
         "uid": "04f101d0-053e-4a8d-90f6-bd37af80f17d",
         "width": 0.5,
         "x": [
          "Thicket 1",
          "Thicket 2",
          "Thicket 4",
          "Thicket 5",
          "Thicket 6",
          "Thicket 7",
          "Thicket 8"
         ],
         "y": [
          87798,
          103895,
          91497,
          112767,
          85182,
          23434,
          79668,
          584241
         ]
        },
        {
         "hovertemplate": "Qty: %{y:,.0f}<br>Pct: %{text:.1%}<br>",
         "name": "45To90Days",
         "showlegend": true,
         "text": [
          0.20288895452266312,
          0.22362519036553336,
          0.19829398801574058,
          0.21897816333329254,
          0.2034349680224411,
          0.246454968337888,
          0.24432112133212042,
          0.21411557719581756
         ],
         "type": "bar",
         "uid": "c053434a-5024-467b-b3bf-d50be46bc980",
         "width": 0.5,
         "x": [
          "Thicket 1",
          "Thicket 2",
          "Thicket 4",
          "Thicket 5",
          "Thicket 6",
          "Thicket 7",
          "Thicket 8"
         ],
         "y": [
          295384,
          354617,
          321592,
          339839,
          322289,
          37246,
          254071,
          1925038
         ]
        },
        {
         "hovertemplate": "Qty: %{y:,.0f}<br>Pct: %{text:.1%}<br>",
         "name": "Over90Days",
         "showlegend": true,
         "text": [
          0.27470894092273457,
          0.2810359668677263,
          0.29736390688336495,
          0.2817702591159014,
          0.274322133823496,
          0.39841987202816176,
          0.2402313286008543,
          0.2791539298219739
         ],
         "type": "bar",
         "uid": "3abca369-0c7d-4fb3-9874-41787ddff82f",
         "width": 0.5,
         "x": [
          "Thicket 1",
          "Thicket 2",
          "Thicket 4",
          "Thicket 5",
          "Thicket 6",
          "Thicket 7",
          "Thicket 8"
         ],
         "y": [
          399946,
          445657,
          482263,
          437288,
          434591,
          60212,
          249818,
          2509775
         ]
        }
       ],
       "layout": {
        "barmode": "stack",
        "height": 450,
        "hovermode": "x",
        "legend": {
         "orientation": "v",
         "x": 1.05,
         "xanchor": "left",
         "y": 0.5
        },
        "margin": {
         "autoexpand": true,
         "b": 100,
         "l": 25,
         "pad": 0,
         "r": 25,
         "t": 100
        },
        "showlegend": true,
        "template": {
         "data": {
          "bar": [
           {
            "error_x": {
             "color": "#f2f5fa"
            },
            "error_y": {
             "color": "#f2f5fa"
            },
            "marker": {
             "line": {
              "color": "rgb(17,17,17)",
              "width": 0.5
             }
            },
            "type": "bar"
           }
          ],
          "barpolar": [
           {
            "marker": {
             "line": {
              "color": "rgb(17,17,17)",
              "width": 0.5
             }
            },
            "type": "barpolar"
           }
          ],
          "carpet": [
           {
            "aaxis": {
             "endlinecolor": "#A2B1C6",
             "gridcolor": "#506784",
             "linecolor": "#506784",
             "minorgridcolor": "#506784",
             "startlinecolor": "#A2B1C6"
            },
            "baxis": {
             "endlinecolor": "#A2B1C6",
             "gridcolor": "#506784",
             "linecolor": "#506784",
             "minorgridcolor": "#506784",
             "startlinecolor": "#A2B1C6"
            },
            "type": "carpet"
           }
          ],
          "choropleth": [
           {
            "colorbar": {
             "outlinewidth": 0,
             "ticks": ""
            },
            "type": "choropleth"
           }
          ],
          "contour": [
           {
            "colorbar": {
             "outlinewidth": 0,
             "ticks": ""
            },
            "colorscale": [
             [
              0,
              "#0d0887"
             ],
             [
              0.1111111111111111,
              "#46039f"
             ],
             [
              0.2222222222222222,
              "#7201a8"
             ],
             [
              0.3333333333333333,
              "#9c179e"
             ],
             [
              0.4444444444444444,
              "#bd3786"
             ],
             [
              0.5555555555555556,
              "#d8576b"
             ],
             [
              0.6666666666666666,
              "#ed7953"
             ],
             [
              0.7777777777777778,
              "#fb9f3a"
             ],
             [
              0.8888888888888888,
              "#fdca26"
             ],
             [
              1,
              "#f0f921"
             ]
            ],
            "type": "contour"
           }
          ],
          "contourcarpet": [
           {
            "colorbar": {
             "outlinewidth": 0,
             "ticks": ""
            },
            "type": "contourcarpet"
           }
          ],
          "heatmap": [
           {
            "colorbar": {
             "outlinewidth": 0,
             "ticks": ""
            },
            "colorscale": [
             [
              0,
              "#0d0887"
             ],
             [
              0.1111111111111111,
              "#46039f"
             ],
             [
              0.2222222222222222,
              "#7201a8"
             ],
             [
              0.3333333333333333,
              "#9c179e"
             ],
             [
              0.4444444444444444,
              "#bd3786"
             ],
             [
              0.5555555555555556,
              "#d8576b"
             ],
             [
              0.6666666666666666,
              "#ed7953"
             ],
             [
              0.7777777777777778,
              "#fb9f3a"
             ],
             [
              0.8888888888888888,
              "#fdca26"
             ],
             [
              1,
              "#f0f921"
             ]
            ],
            "type": "heatmap"
           }
          ],
          "heatmapgl": [
           {
            "colorbar": {
             "outlinewidth": 0,
             "ticks": ""
            },
            "colorscale": [
             [
              0,
              "#0d0887"
             ],
             [
              0.1111111111111111,
              "#46039f"
             ],
             [
              0.2222222222222222,
              "#7201a8"
             ],
             [
              0.3333333333333333,
              "#9c179e"
             ],
             [
              0.4444444444444444,
              "#bd3786"
             ],
             [
              0.5555555555555556,
              "#d8576b"
             ],
             [
              0.6666666666666666,
              "#ed7953"
             ],
             [
              0.7777777777777778,
              "#fb9f3a"
             ],
             [
              0.8888888888888888,
              "#fdca26"
             ],
             [
              1,
              "#f0f921"
             ]
            ],
            "type": "heatmapgl"
           }
          ],
          "histogram": [
           {
            "marker": {
             "colorbar": {
              "outlinewidth": 0,
              "ticks": ""
             }
            },
            "type": "histogram"
           }
          ],
          "histogram2d": [
           {
            "colorbar": {
             "outlinewidth": 0,
             "ticks": ""
            },
            "colorscale": [
             [
              0,
              "#0d0887"
             ],
             [
              0.1111111111111111,
              "#46039f"
             ],
             [
              0.2222222222222222,
              "#7201a8"
             ],
             [
              0.3333333333333333,
              "#9c179e"
             ],
             [
              0.4444444444444444,
              "#bd3786"
             ],
             [
              0.5555555555555556,
              "#d8576b"
             ],
             [
              0.6666666666666666,
              "#ed7953"
             ],
             [
              0.7777777777777778,
              "#fb9f3a"
             ],
             [
              0.8888888888888888,
              "#fdca26"
             ],
             [
              1,
              "#f0f921"
             ]
            ],
            "type": "histogram2d"
           }
          ],
          "histogram2dcontour": [
           {
            "colorbar": {
             "outlinewidth": 0,
             "ticks": ""
            },
            "colorscale": [
             [
              0,
              "#0d0887"
             ],
             [
              0.1111111111111111,
              "#46039f"
             ],
             [
              0.2222222222222222,
              "#7201a8"
             ],
             [
              0.3333333333333333,
              "#9c179e"
             ],
             [
              0.4444444444444444,
              "#bd3786"
             ],
             [
              0.5555555555555556,
              "#d8576b"
             ],
             [
              0.6666666666666666,
              "#ed7953"
             ],
             [
              0.7777777777777778,
              "#fb9f3a"
             ],
             [
              0.8888888888888888,
              "#fdca26"
             ],
             [
              1,
              "#f0f921"
             ]
            ],
            "type": "histogram2dcontour"
           }
          ],
          "mesh3d": [
           {
            "colorbar": {
             "outlinewidth": 0,
             "ticks": ""
            },
            "type": "mesh3d"
           }
          ],
          "parcoords": [
           {
            "line": {
             "colorbar": {
              "outlinewidth": 0,
              "ticks": ""
             }
            },
            "type": "parcoords"
           }
          ],
          "pie": [
           {
            "automargin": true,
            "type": "pie"
           }
          ],
          "scatter": [
           {
            "marker": {
             "line": {
              "color": "#283442"
             }
            },
            "type": "scatter"
           }
          ],
          "scatter3d": [
           {
            "line": {
             "colorbar": {
              "outlinewidth": 0,
              "ticks": ""
             }
            },
            "marker": {
             "colorbar": {
              "outlinewidth": 0,
              "ticks": ""
             }
            },
            "type": "scatter3d"
           }
          ],
          "scattercarpet": [
           {
            "marker": {
             "colorbar": {
              "outlinewidth": 0,
              "ticks": ""
             }
            },
            "type": "scattercarpet"
           }
          ],
          "scattergeo": [
           {
            "marker": {
             "colorbar": {
              "outlinewidth": 0,
              "ticks": ""
             }
            },
            "type": "scattergeo"
           }
          ],
          "scattergl": [
           {
            "marker": {
             "line": {
              "color": "#283442"
             }
            },
            "type": "scattergl"
           }
          ],
          "scattermapbox": [
           {
            "marker": {
             "colorbar": {
              "outlinewidth": 0,
              "ticks": ""
             }
            },
            "type": "scattermapbox"
           }
          ],
          "scatterpolar": [
           {
            "marker": {
             "colorbar": {
              "outlinewidth": 0,
              "ticks": ""
             }
            },
            "type": "scatterpolar"
           }
          ],
          "scatterpolargl": [
           {
            "marker": {
             "colorbar": {
              "outlinewidth": 0,
              "ticks": ""
             }
            },
            "type": "scatterpolargl"
           }
          ],
          "scatterternary": [
           {
            "marker": {
             "colorbar": {
              "outlinewidth": 0,
              "ticks": ""
             }
            },
            "type": "scatterternary"
           }
          ],
          "surface": [
           {
            "colorbar": {
             "outlinewidth": 0,
             "ticks": ""
            },
            "colorscale": [
             [
              0,
              "#0d0887"
             ],
             [
              0.1111111111111111,
              "#46039f"
             ],
             [
              0.2222222222222222,
              "#7201a8"
             ],
             [
              0.3333333333333333,
              "#9c179e"
             ],
             [
              0.4444444444444444,
              "#bd3786"
             ],
             [
              0.5555555555555556,
              "#d8576b"
             ],
             [
              0.6666666666666666,
              "#ed7953"
             ],
             [
              0.7777777777777778,
              "#fb9f3a"
             ],
             [
              0.8888888888888888,
              "#fdca26"
             ],
             [
              1,
              "#f0f921"
             ]
            ],
            "type": "surface"
           }
          ],
          "table": [
           {
            "cells": {
             "fill": {
              "color": "#506784"
             },
             "line": {
              "color": "rgb(17,17,17)"
             }
            },
            "header": {
             "fill": {
              "color": "#2a3f5f"
             },
             "line": {
              "color": "rgb(17,17,17)"
             }
            },
            "type": "table"
           }
          ]
         },
         "layout": {
          "annotationdefaults": {
           "arrowcolor": "#f2f5fa",
           "arrowhead": 0,
           "arrowwidth": 1
          },
          "coloraxis": {
           "colorbar": {
            "outlinewidth": 0,
            "ticks": ""
           }
          },
          "colorscale": {
           "diverging": [
            [
             0,
             "#8e0152"
            ],
            [
             0.1,
             "#c51b7d"
            ],
            [
             0.2,
             "#de77ae"
            ],
            [
             0.3,
             "#f1b6da"
            ],
            [
             0.4,
             "#fde0ef"
            ],
            [
             0.5,
             "#f7f7f7"
            ],
            [
             0.6,
             "#e6f5d0"
            ],
            [
             0.7,
             "#b8e186"
            ],
            [
             0.8,
             "#7fbc41"
            ],
            [
             0.9,
             "#4d9221"
            ],
            [
             1,
             "#276419"
            ]
           ],
           "sequential": [
            [
             0,
             "#0d0887"
            ],
            [
             0.1111111111111111,
             "#46039f"
            ],
            [
             0.2222222222222222,
             "#7201a8"
            ],
            [
             0.3333333333333333,
             "#9c179e"
            ],
            [
             0.4444444444444444,
             "#bd3786"
            ],
            [
             0.5555555555555556,
             "#d8576b"
            ],
            [
             0.6666666666666666,
             "#ed7953"
            ],
            [
             0.7777777777777778,
             "#fb9f3a"
            ],
            [
             0.8888888888888888,
             "#fdca26"
            ],
            [
             1,
             "#f0f921"
            ]
           ],
           "sequentialminus": [
            [
             0,
             "#0d0887"
            ],
            [
             0.1111111111111111,
             "#46039f"
            ],
            [
             0.2222222222222222,
             "#7201a8"
            ],
            [
             0.3333333333333333,
             "#9c179e"
            ],
            [
             0.4444444444444444,
             "#bd3786"
            ],
            [
             0.5555555555555556,
             "#d8576b"
            ],
            [
             0.6666666666666666,
             "#ed7953"
            ],
            [
             0.7777777777777778,
             "#fb9f3a"
            ],
            [
             0.8888888888888888,
             "#fdca26"
            ],
            [
             1,
             "#f0f921"
            ]
           ]
          },
          "colorway": [
           "#636efa",
           "#EF553B",
           "#00cc96",
           "#ab63fa",
           "#FFA15A",
           "#19d3f3",
           "#FF6692",
           "#B6E880",
           "#FF97FF",
           "#FECB52"
          ],
          "font": {
           "color": "#f2f5fa"
          },
          "geo": {
           "bgcolor": "rgb(17,17,17)",
           "lakecolor": "rgb(17,17,17)",
           "landcolor": "rgb(17,17,17)",
           "showlakes": true,
           "showland": true,
           "subunitcolor": "#506784"
          },
          "hoverlabel": {
           "align": "left"
          },
          "hovermode": "closest",
          "mapbox": {
           "style": "dark"
          },
          "paper_bgcolor": "rgb(17,17,17)",
          "plot_bgcolor": "rgb(17,17,17)",
          "polar": {
           "angularaxis": {
            "gridcolor": "#506784",
            "linecolor": "#506784",
            "ticks": ""
           },
           "bgcolor": "rgb(17,17,17)",
           "radialaxis": {
            "gridcolor": "#506784",
            "linecolor": "#506784",
            "ticks": ""
           }
          },
          "scene": {
           "xaxis": {
            "backgroundcolor": "rgb(17,17,17)",
            "gridcolor": "#506784",
            "gridwidth": 2,
            "linecolor": "#506784",
            "showbackground": true,
            "ticks": "",
            "zerolinecolor": "#C8D4E3"
           },
           "yaxis": {
            "backgroundcolor": "rgb(17,17,17)",
            "gridcolor": "#506784",
            "gridwidth": 2,
            "linecolor": "#506784",
            "showbackground": true,
            "ticks": "",
            "zerolinecolor": "#C8D4E3"
           },
           "zaxis": {
            "backgroundcolor": "rgb(17,17,17)",
            "gridcolor": "#506784",
            "gridwidth": 2,
            "linecolor": "#506784",
            "showbackground": true,
            "ticks": "",
            "zerolinecolor": "#C8D4E3"
           }
          },
          "shapedefaults": {
           "line": {
            "color": "#f2f5fa"
           }
          },
          "sliderdefaults": {
           "bgcolor": "#C8D4E3",
           "bordercolor": "rgb(17,17,17)",
           "borderwidth": 1,
           "tickwidth": 0
          },
          "ternary": {
           "aaxis": {
            "gridcolor": "#506784",
            "linecolor": "#506784",
            "ticks": ""
           },
           "baxis": {
            "gridcolor": "#506784",
            "linecolor": "#506784",
            "ticks": ""
           },
           "bgcolor": "rgb(17,17,17)",
           "caxis": {
            "gridcolor": "#506784",
            "linecolor": "#506784",
            "ticks": ""
           }
          },
          "title": {
           "x": 0.05
          },
          "updatemenudefaults": {
           "bgcolor": "#506784",
           "borderwidth": 0
          },
          "xaxis": {
           "automargin": true,
           "gridcolor": "#283442",
           "linecolor": "#506784",
           "ticks": "",
           "title": {
            "standoff": 15
           },
           "zerolinecolor": "#283442",
           "zerolinewidth": 2
          },
          "yaxis": {
           "automargin": true,
           "gridcolor": "#283442",
           "linecolor": "#506784",
           "ticks": "",
           "title": {
            "standoff": 15
           },
           "zerolinecolor": "#283442",
           "zerolinewidth": 2
          }
         }
        },
        "title": {
         "font": {
          "size": 24
         },
         "text": "iStore Inventory Quantities by Age",
         "x": 0,
         "xanchor": "left",
         "xref": "paper",
         "y": 0.95
        },
        "width": 1000,
        "xaxis": {
         "showgrid": true,
         "tickfont": {
          "family": "Arial, san-serif",
          "size": 10
         },
         "title": {
          "text": ""
         },
         "type": "category"
        },
        "yaxis": {
         "hoverformat": ",.0f",
         "tickfont": {
          "family": "Arial, san-serif",
          "size": 10
         },
         "tickformat": ",.0f",
         "title": {
          "font": {
           "family": "Arial, san-serif",
           "size": 10
          },
          "text": "Quantity Listed"
         }
        }
       }
      },
      "text/html": [
       "<div>\n",
       "        \n",
       "        \n",
       "            <div id=\"9417917a-d75a-4630-8a2e-3a15bb1fedb7\" class=\"plotly-graph-div\" style=\"height:450px; width:1000px;\"></div>\n",
       "            <script type=\"text/javascript\">\n",
       "                require([\"plotly\"], function(Plotly) {\n",
       "                    window.PLOTLYENV=window.PLOTLYENV || {};\n",
       "                    \n",
       "                if (document.getElementById(\"9417917a-d75a-4630-8a2e-3a15bb1fedb7\")) {\n",
       "                    Plotly.newPlot(\n",
       "                        '9417917a-d75a-4630-8a2e-3a15bb1fedb7',\n",
       "                        [{\"hovertemplate\": \"Qty: %{y:,.0f}<br>Pct: %{text:.1%}<br>\", \"name\": \"Under15Days\", \"showlegend\": true, \"text\": [0.39184828524133003, 0.3602475776675611, 0.3887213789174211, 0.3468710915627048, 0.38372691947411874, 0.07705439795668544, 0.3388700517162128, 0.36509644631883637], \"type\": \"bar\", \"uid\": \"01d135e4-9f53-4e6f-a829-076fe1662f74\", \"width\": 0.5, \"x\": [\"Thicket 1\", \"Thicket 2\", \"Thicket 4\", \"Thicket 5\", \"Thicket 6\", \"Thicket 7\", \"Thicket 8\"], \"y\": [570488, 571268, 630426, 538320, 607914, 11645, 352393, 3282454]}, {\"hovertemplate\": \"Qty: %{y:,.0f}<br>Pct: %{text:.1%}<br>\", \"name\": \"15To30Days\", \"showlegend\": true, \"text\": [0.07024843909910776, 0.06957399110208637, 0.05920357332682202, 0.0797181060240436, 0.08474747449243673, 0.12300912477585077, 0.09996672776193233, 0.07665086246832681], \"type\": \"bar\", \"uid\": \"805479a8-7dbf-4bea-b7cf-9455e9e306c5\", \"width\": 0.5, \"x\": [\"Thicket 1\", \"Thicket 2\", \"Thicket 4\", \"Thicket 5\", \"Thicket 6\", \"Thicket 7\", \"Thicket 8\"], \"y\": [102274, 110328, 96016, 123717, 134260, 18590, 103956, 689141]}, {\"hovertemplate\": \"Qty: %{y:,.0f}<br>Pct: %{text:.1%}<br>\", \"name\": \"30To45Days\", \"showlegend\": true, \"text\": [0.06030538021416453, 0.06551727399709288, 0.05641715285665134, 0.07266237996405768, 0.053768504187507414, 0.15506163690141403, 0.07661077058888015, 0.06498318419504531], \"type\": \"bar\", \"uid\": \"04f101d0-053e-4a8d-90f6-bd37af80f17d\", \"width\": 0.5, \"x\": [\"Thicket 1\", \"Thicket 2\", \"Thicket 4\", \"Thicket 5\", \"Thicket 6\", \"Thicket 7\", \"Thicket 8\"], \"y\": [87798, 103895, 91497, 112767, 85182, 23434, 79668, 584241]}, {\"hovertemplate\": \"Qty: %{y:,.0f}<br>Pct: %{text:.1%}<br>\", \"name\": \"45To90Days\", \"showlegend\": true, \"text\": [0.20288895452266312, 0.22362519036553336, 0.19829398801574058, 0.21897816333329254, 0.2034349680224411, 0.246454968337888, 0.24432112133212042, 0.21411557719581756], \"type\": \"bar\", \"uid\": \"c053434a-5024-467b-b3bf-d50be46bc980\", \"width\": 0.5, \"x\": [\"Thicket 1\", \"Thicket 2\", \"Thicket 4\", \"Thicket 5\", \"Thicket 6\", \"Thicket 7\", \"Thicket 8\"], \"y\": [295384, 354617, 321592, 339839, 322289, 37246, 254071, 1925038]}, {\"hovertemplate\": \"Qty: %{y:,.0f}<br>Pct: %{text:.1%}<br>\", \"name\": \"Over90Days\", \"showlegend\": true, \"text\": [0.27470894092273457, 0.2810359668677263, 0.29736390688336495, 0.2817702591159014, 0.274322133823496, 0.39841987202816176, 0.2402313286008543, 0.2791539298219739], \"type\": \"bar\", \"uid\": \"3abca369-0c7d-4fb3-9874-41787ddff82f\", \"width\": 0.5, \"x\": [\"Thicket 1\", \"Thicket 2\", \"Thicket 4\", \"Thicket 5\", \"Thicket 6\", \"Thicket 7\", \"Thicket 8\"], \"y\": [399946, 445657, 482263, 437288, 434591, 60212, 249818, 2509775]}],\n",
       "                        {\"barmode\": \"stack\", \"height\": 450, \"hovermode\": \"x\", \"legend\": {\"orientation\": \"v\", \"x\": 1.05, \"xanchor\": \"left\", \"y\": 0.5}, \"margin\": {\"autoexpand\": true, \"b\": 100, \"l\": 25, \"pad\": 0, \"r\": 25, \"t\": 100}, \"showlegend\": true, \"template\": {\"data\": {\"bar\": [{\"error_x\": {\"color\": \"#f2f5fa\"}, \"error_y\": {\"color\": \"#f2f5fa\"}, \"marker\": {\"line\": {\"color\": \"rgb(17,17,17)\", \"width\": 0.5}}, \"type\": \"bar\"}], \"barpolar\": [{\"marker\": {\"line\": {\"color\": \"rgb(17,17,17)\", \"width\": 0.5}}, \"type\": \"barpolar\"}], \"carpet\": [{\"aaxis\": {\"endlinecolor\": \"#A2B1C6\", \"gridcolor\": \"#506784\", \"linecolor\": \"#506784\", \"minorgridcolor\": \"#506784\", \"startlinecolor\": \"#A2B1C6\"}, \"baxis\": {\"endlinecolor\": \"#A2B1C6\", \"gridcolor\": \"#506784\", \"linecolor\": \"#506784\", \"minorgridcolor\": \"#506784\", \"startlinecolor\": \"#A2B1C6\"}, \"type\": \"carpet\"}], \"choropleth\": [{\"colorbar\": {\"outlinewidth\": 0, \"ticks\": \"\"}, \"type\": \"choropleth\"}], \"contour\": [{\"colorbar\": {\"outlinewidth\": 0, \"ticks\": \"\"}, \"colorscale\": [[0.0, \"#0d0887\"], [0.1111111111111111, \"#46039f\"], [0.2222222222222222, \"#7201a8\"], [0.3333333333333333, \"#9c179e\"], [0.4444444444444444, \"#bd3786\"], [0.5555555555555556, \"#d8576b\"], [0.6666666666666666, \"#ed7953\"], [0.7777777777777778, \"#fb9f3a\"], [0.8888888888888888, \"#fdca26\"], [1.0, \"#f0f921\"]], \"type\": \"contour\"}], \"contourcarpet\": [{\"colorbar\": {\"outlinewidth\": 0, \"ticks\": \"\"}, \"type\": \"contourcarpet\"}], \"heatmap\": [{\"colorbar\": {\"outlinewidth\": 0, \"ticks\": \"\"}, \"colorscale\": [[0.0, \"#0d0887\"], [0.1111111111111111, \"#46039f\"], [0.2222222222222222, \"#7201a8\"], [0.3333333333333333, \"#9c179e\"], [0.4444444444444444, \"#bd3786\"], [0.5555555555555556, \"#d8576b\"], [0.6666666666666666, \"#ed7953\"], [0.7777777777777778, \"#fb9f3a\"], [0.8888888888888888, \"#fdca26\"], [1.0, \"#f0f921\"]], \"type\": \"heatmap\"}], \"heatmapgl\": [{\"colorbar\": {\"outlinewidth\": 0, \"ticks\": \"\"}, \"colorscale\": [[0.0, \"#0d0887\"], [0.1111111111111111, \"#46039f\"], [0.2222222222222222, \"#7201a8\"], [0.3333333333333333, \"#9c179e\"], [0.4444444444444444, \"#bd3786\"], [0.5555555555555556, \"#d8576b\"], [0.6666666666666666, \"#ed7953\"], [0.7777777777777778, \"#fb9f3a\"], [0.8888888888888888, \"#fdca26\"], [1.0, \"#f0f921\"]], \"type\": \"heatmapgl\"}], \"histogram\": [{\"marker\": {\"colorbar\": {\"outlinewidth\": 0, \"ticks\": \"\"}}, \"type\": \"histogram\"}], \"histogram2d\": [{\"colorbar\": {\"outlinewidth\": 0, \"ticks\": \"\"}, \"colorscale\": [[0.0, \"#0d0887\"], [0.1111111111111111, \"#46039f\"], [0.2222222222222222, \"#7201a8\"], [0.3333333333333333, \"#9c179e\"], [0.4444444444444444, \"#bd3786\"], [0.5555555555555556, \"#d8576b\"], [0.6666666666666666, \"#ed7953\"], [0.7777777777777778, \"#fb9f3a\"], [0.8888888888888888, \"#fdca26\"], [1.0, \"#f0f921\"]], \"type\": \"histogram2d\"}], \"histogram2dcontour\": [{\"colorbar\": {\"outlinewidth\": 0, \"ticks\": \"\"}, \"colorscale\": [[0.0, \"#0d0887\"], [0.1111111111111111, \"#46039f\"], [0.2222222222222222, \"#7201a8\"], [0.3333333333333333, \"#9c179e\"], [0.4444444444444444, \"#bd3786\"], [0.5555555555555556, \"#d8576b\"], [0.6666666666666666, \"#ed7953\"], [0.7777777777777778, \"#fb9f3a\"], [0.8888888888888888, \"#fdca26\"], [1.0, \"#f0f921\"]], \"type\": \"histogram2dcontour\"}], \"mesh3d\": [{\"colorbar\": {\"outlinewidth\": 0, \"ticks\": \"\"}, \"type\": \"mesh3d\"}], \"parcoords\": [{\"line\": {\"colorbar\": {\"outlinewidth\": 0, \"ticks\": \"\"}}, \"type\": \"parcoords\"}], \"pie\": [{\"automargin\": true, \"type\": \"pie\"}], \"scatter\": [{\"marker\": {\"line\": {\"color\": \"#283442\"}}, \"type\": \"scatter\"}], \"scatter3d\": [{\"line\": {\"colorbar\": {\"outlinewidth\": 0, \"ticks\": \"\"}}, \"marker\": {\"colorbar\": {\"outlinewidth\": 0, \"ticks\": \"\"}}, \"type\": \"scatter3d\"}], \"scattercarpet\": [{\"marker\": {\"colorbar\": {\"outlinewidth\": 0, \"ticks\": \"\"}}, \"type\": \"scattercarpet\"}], \"scattergeo\": [{\"marker\": {\"colorbar\": {\"outlinewidth\": 0, \"ticks\": \"\"}}, \"type\": \"scattergeo\"}], \"scattergl\": [{\"marker\": {\"line\": {\"color\": \"#283442\"}}, \"type\": \"scattergl\"}], \"scattermapbox\": [{\"marker\": {\"colorbar\": {\"outlinewidth\": 0, \"ticks\": \"\"}}, \"type\": \"scattermapbox\"}], \"scatterpolar\": [{\"marker\": {\"colorbar\": {\"outlinewidth\": 0, \"ticks\": \"\"}}, \"type\": \"scatterpolar\"}], \"scatterpolargl\": [{\"marker\": {\"colorbar\": {\"outlinewidth\": 0, \"ticks\": \"\"}}, \"type\": \"scatterpolargl\"}], \"scatterternary\": [{\"marker\": {\"colorbar\": {\"outlinewidth\": 0, \"ticks\": \"\"}}, \"type\": \"scatterternary\"}], \"surface\": [{\"colorbar\": {\"outlinewidth\": 0, \"ticks\": \"\"}, \"colorscale\": [[0.0, \"#0d0887\"], [0.1111111111111111, \"#46039f\"], [0.2222222222222222, \"#7201a8\"], [0.3333333333333333, \"#9c179e\"], [0.4444444444444444, \"#bd3786\"], [0.5555555555555556, \"#d8576b\"], [0.6666666666666666, \"#ed7953\"], [0.7777777777777778, \"#fb9f3a\"], [0.8888888888888888, \"#fdca26\"], [1.0, \"#f0f921\"]], \"type\": \"surface\"}], \"table\": [{\"cells\": {\"fill\": {\"color\": \"#506784\"}, \"line\": {\"color\": \"rgb(17,17,17)\"}}, \"header\": {\"fill\": {\"color\": \"#2a3f5f\"}, \"line\": {\"color\": \"rgb(17,17,17)\"}}, \"type\": \"table\"}]}, \"layout\": {\"annotationdefaults\": {\"arrowcolor\": \"#f2f5fa\", \"arrowhead\": 0, \"arrowwidth\": 1}, \"coloraxis\": {\"colorbar\": {\"outlinewidth\": 0, \"ticks\": \"\"}}, \"colorscale\": {\"diverging\": [[0, \"#8e0152\"], [0.1, \"#c51b7d\"], [0.2, \"#de77ae\"], [0.3, \"#f1b6da\"], [0.4, \"#fde0ef\"], [0.5, \"#f7f7f7\"], [0.6, \"#e6f5d0\"], [0.7, \"#b8e186\"], [0.8, \"#7fbc41\"], [0.9, \"#4d9221\"], [1, \"#276419\"]], \"sequential\": [[0.0, \"#0d0887\"], [0.1111111111111111, \"#46039f\"], [0.2222222222222222, \"#7201a8\"], [0.3333333333333333, \"#9c179e\"], [0.4444444444444444, \"#bd3786\"], [0.5555555555555556, \"#d8576b\"], [0.6666666666666666, \"#ed7953\"], [0.7777777777777778, \"#fb9f3a\"], [0.8888888888888888, \"#fdca26\"], [1.0, \"#f0f921\"]], \"sequentialminus\": [[0.0, \"#0d0887\"], [0.1111111111111111, \"#46039f\"], [0.2222222222222222, \"#7201a8\"], [0.3333333333333333, \"#9c179e\"], [0.4444444444444444, \"#bd3786\"], [0.5555555555555556, \"#d8576b\"], [0.6666666666666666, \"#ed7953\"], [0.7777777777777778, \"#fb9f3a\"], [0.8888888888888888, \"#fdca26\"], [1.0, \"#f0f921\"]]}, \"colorway\": [\"#636efa\", \"#EF553B\", \"#00cc96\", \"#ab63fa\", \"#FFA15A\", \"#19d3f3\", \"#FF6692\", \"#B6E880\", \"#FF97FF\", \"#FECB52\"], \"font\": {\"color\": \"#f2f5fa\"}, \"geo\": {\"bgcolor\": \"rgb(17,17,17)\", \"lakecolor\": \"rgb(17,17,17)\", \"landcolor\": \"rgb(17,17,17)\", \"showlakes\": true, \"showland\": true, \"subunitcolor\": \"#506784\"}, \"hoverlabel\": {\"align\": \"left\"}, \"hovermode\": \"closest\", \"mapbox\": {\"style\": \"dark\"}, \"paper_bgcolor\": \"rgb(17,17,17)\", \"plot_bgcolor\": \"rgb(17,17,17)\", \"polar\": {\"angularaxis\": {\"gridcolor\": \"#506784\", \"linecolor\": \"#506784\", \"ticks\": \"\"}, \"bgcolor\": \"rgb(17,17,17)\", \"radialaxis\": {\"gridcolor\": \"#506784\", \"linecolor\": \"#506784\", \"ticks\": \"\"}}, \"scene\": {\"xaxis\": {\"backgroundcolor\": \"rgb(17,17,17)\", \"gridcolor\": \"#506784\", \"gridwidth\": 2, \"linecolor\": \"#506784\", \"showbackground\": true, \"ticks\": \"\", \"zerolinecolor\": \"#C8D4E3\"}, \"yaxis\": {\"backgroundcolor\": \"rgb(17,17,17)\", \"gridcolor\": \"#506784\", \"gridwidth\": 2, \"linecolor\": \"#506784\", \"showbackground\": true, \"ticks\": \"\", \"zerolinecolor\": \"#C8D4E3\"}, \"zaxis\": {\"backgroundcolor\": \"rgb(17,17,17)\", \"gridcolor\": \"#506784\", \"gridwidth\": 2, \"linecolor\": \"#506784\", \"showbackground\": true, \"ticks\": \"\", \"zerolinecolor\": \"#C8D4E3\"}}, \"shapedefaults\": {\"line\": {\"color\": \"#f2f5fa\"}}, \"sliderdefaults\": {\"bgcolor\": \"#C8D4E3\", \"bordercolor\": \"rgb(17,17,17)\", \"borderwidth\": 1, \"tickwidth\": 0}, \"ternary\": {\"aaxis\": {\"gridcolor\": \"#506784\", \"linecolor\": \"#506784\", \"ticks\": \"\"}, \"baxis\": {\"gridcolor\": \"#506784\", \"linecolor\": \"#506784\", \"ticks\": \"\"}, \"bgcolor\": \"rgb(17,17,17)\", \"caxis\": {\"gridcolor\": \"#506784\", \"linecolor\": \"#506784\", \"ticks\": \"\"}}, \"title\": {\"x\": 0.05}, \"updatemenudefaults\": {\"bgcolor\": \"#506784\", \"borderwidth\": 0}, \"xaxis\": {\"automargin\": true, \"gridcolor\": \"#283442\", \"linecolor\": \"#506784\", \"ticks\": \"\", \"title\": {\"standoff\": 15}, \"zerolinecolor\": \"#283442\", \"zerolinewidth\": 2}, \"yaxis\": {\"automargin\": true, \"gridcolor\": \"#283442\", \"linecolor\": \"#506784\", \"ticks\": \"\", \"title\": {\"standoff\": 15}, \"zerolinecolor\": \"#283442\", \"zerolinewidth\": 2}}}, \"title\": {\"font\": {\"size\": 24}, \"text\": \"iStore Inventory Quantities by Age\", \"x\": 0, \"xanchor\": \"left\", \"xref\": \"paper\", \"y\": 0.95}, \"width\": 1000, \"xaxis\": {\"showgrid\": true, \"tickfont\": {\"family\": \"Arial, san-serif\", \"size\": 10}, \"title\": {\"text\": \"\"}, \"type\": \"category\"}, \"yaxis\": {\"hoverformat\": \",.0f\", \"tickfont\": {\"family\": \"Arial, san-serif\", \"size\": 10}, \"tickformat\": \",.0f\", \"title\": {\"font\": {\"family\": \"Arial, san-serif\", \"size\": 10}, \"text\": \"Quantity Listed\"}}},\n",
       "                        {\"responsive\": true}\n",
       "                    ).then(function(){\n",
       "                            \n",
       "var gd = document.getElementById('9417917a-d75a-4630-8a2e-3a15bb1fedb7');\n",
       "var x = new MutationObserver(function (mutations, observer) {{\n",
       "        var display = window.getComputedStyle(gd).display;\n",
       "        if (!display || display === 'none') {{\n",
       "            console.log([gd, 'removed!']);\n",
       "            Plotly.purge(gd);\n",
       "            observer.disconnect();\n",
       "        }}\n",
       "}});\n",
       "\n",
       "// Listen for the removal of the full notebook cells\n",
       "var notebookContainer = gd.closest('#notebook-container');\n",
       "if (notebookContainer) {{\n",
       "    x.observe(notebookContainer, {childList: true});\n",
       "}}\n",
       "\n",
       "// Listen for the clearing of the current output cell\n",
       "var outputEl = gd.closest('.output');\n",
       "if (outputEl) {{\n",
       "    x.observe(outputEl, {childList: true});\n",
       "}}\n",
       "\n",
       "                        })\n",
       "                };\n",
       "                });\n",
       "            </script>\n",
       "        </div>"
      ]
     },
     "metadata": {},
     "output_type": "display_data"
    }
   ],
   "source": [
    "div_invAgedQty = plot_iStoreInvCompByThicket(df_inv,'total_QtyAged', 'Aged', 'iStore Inventory Quantities by Age', clrPalExtended)"
   ]
  },
  {
   "cell_type": "code",
   "execution_count": 31,
   "metadata": {},
   "outputs": [
    {
     "data": {
      "application/vnd.plotly.v1+json": {
       "config": {
        "linkText": "Export to plot.ly",
        "plotlyServerURL": "https://plot.ly",
        "showLink": false
       },
       "data": [
        {
         "marker": {
          "color": "#3f8fc5"
         },
         "name": "Daily Sales Amount",
         "showlegend": true,
         "type": "bar",
         "x": [
          "2020-02-03T00:00:00",
          "2020-02-04T00:00:00",
          "2020-02-05T00:00:00",
          "2020-02-06T00:00:00",
          "2020-02-07T00:00:00",
          "2020-02-08T00:00:00",
          "2020-02-09T00:00:00",
          "2020-02-10T00:00:00",
          "2020-02-11T00:00:00",
          "2020-02-12T00:00:00",
          "2020-02-13T00:00:00",
          "2020-02-14T00:00:00",
          "2020-02-15T00:00:00",
          "2020-02-16T00:00:00",
          "2020-02-17T00:00:00",
          "2020-02-18T00:00:00",
          "2020-02-19T00:00:00",
          "2020-02-20T00:00:00",
          "2020-02-21T00:00:00",
          "2020-02-22T00:00:00",
          "2020-02-23T00:00:00",
          "2020-02-24T00:00:00",
          "2020-02-25T00:00:00",
          "2020-02-26T00:00:00",
          "2020-02-27T00:00:00",
          "2020-02-28T00:00:00",
          "2020-02-29T00:00:00",
          "2020-03-01T00:00:00",
          "2020-03-02T00:00:00",
          "2020-03-03T00:00:00",
          "2020-03-04T00:00:00",
          "2020-03-05T00:00:00",
          "2020-03-06T00:00:00",
          "2020-03-07T00:00:00",
          "2020-03-08T00:00:00",
          "2020-03-09T00:00:00",
          "2020-03-10T00:00:00",
          "2020-03-11T00:00:00",
          "2020-03-12T00:00:00",
          "2020-03-13T00:00:00",
          "2020-03-14T00:00:00",
          "2020-03-15T00:00:00",
          "2020-03-16T00:00:00",
          "2020-03-17T00:00:00",
          "2020-03-18T00:00:00",
          "2020-03-19T00:00:00",
          "2020-03-20T00:00:00",
          "2020-03-21T00:00:00",
          "2020-03-22T00:00:00",
          "2020-03-23T00:00:00",
          "2020-03-24T00:00:00",
          "2020-03-25T00:00:00",
          "2020-03-26T00:00:00",
          "2020-03-27T00:00:00",
          "2020-03-28T00:00:00",
          "2020-03-29T00:00:00",
          "2020-03-30T00:00:00",
          "2020-03-31T00:00:00",
          "2020-04-01T00:00:00",
          "2020-04-02T00:00:00"
         ],
         "xaxis": "x",
         "y": [
          171075.12,
          62102.07,
          60740.71,
          60197.19,
          53743.75,
          40.99,
          24.4,
          152738.58,
          57337.13,
          57685.58,
          58040.7,
          51826.56,
          263.17,
          38.05,
          143890.73,
          62107.43,
          58824.98,
          55772.78,
          55887.07,
          117.59,
          7.22,
          149160.69,
          55743.95,
          57040.54,
          58619.22,
          54459.36,
          21.7,
          -5.89,
          159383.57,
          60773.06,
          57262.59,
          52333.74,
          54695.8,
          205.96,
          73.38,
          160111.32,
          53510.33,
          61000.08,
          54616.3,
          56364.75,
          149.83,
          15,
          162841.25,
          49834.43,
          61937.85,
          57756.51,
          56524.59,
          163.15,
          46.63,
          218339.12,
          104340.56,
          103312.18,
          108340.51,
          116164.9,
          349.35,
          75.68,
          357156.85,
          141206.8,
          150578.42,
          136087.44
         ],
         "yaxis": "y"
        },
        {
         "marker": {
          "color": "#fee6da"
         },
         "name": "Daily Sales Difference",
         "showlegend": true,
         "type": "bar",
         "x": [
          "2020-02-03T00:00:00",
          "2020-02-04T00:00:00",
          "2020-02-05T00:00:00",
          "2020-02-06T00:00:00",
          "2020-02-07T00:00:00",
          "2020-02-08T00:00:00",
          "2020-02-09T00:00:00",
          "2020-02-10T00:00:00",
          "2020-02-11T00:00:00",
          "2020-02-12T00:00:00",
          "2020-02-13T00:00:00",
          "2020-02-14T00:00:00",
          "2020-02-15T00:00:00",
          "2020-02-16T00:00:00",
          "2020-02-17T00:00:00",
          "2020-02-18T00:00:00",
          "2020-02-19T00:00:00",
          "2020-02-20T00:00:00",
          "2020-02-21T00:00:00",
          "2020-02-22T00:00:00",
          "2020-02-23T00:00:00",
          "2020-02-24T00:00:00",
          "2020-02-25T00:00:00",
          "2020-02-26T00:00:00",
          "2020-02-27T00:00:00",
          "2020-02-28T00:00:00",
          "2020-02-29T00:00:00",
          "2020-03-01T00:00:00",
          "2020-03-02T00:00:00",
          "2020-03-03T00:00:00",
          "2020-03-04T00:00:00",
          "2020-03-05T00:00:00",
          "2020-03-06T00:00:00",
          "2020-03-07T00:00:00",
          "2020-03-08T00:00:00",
          "2020-03-09T00:00:00",
          "2020-03-10T00:00:00",
          "2020-03-11T00:00:00",
          "2020-03-12T00:00:00",
          "2020-03-13T00:00:00",
          "2020-03-14T00:00:00",
          "2020-03-15T00:00:00",
          "2020-03-16T00:00:00",
          "2020-03-17T00:00:00",
          "2020-03-18T00:00:00",
          "2020-03-19T00:00:00",
          "2020-03-20T00:00:00",
          "2020-03-21T00:00:00",
          "2020-03-22T00:00:00",
          "2020-03-23T00:00:00",
          "2020-03-24T00:00:00",
          "2020-03-25T00:00:00",
          "2020-03-26T00:00:00",
          "2020-03-27T00:00:00",
          "2020-03-28T00:00:00",
          "2020-03-29T00:00:00",
          "2020-03-30T00:00:00",
          "2020-03-31T00:00:00",
          "2020-04-01T00:00:00",
          "2020-04-02T00:00:00"
         ],
         "xaxis": "x",
         "y": [
          -31597.619999999995,
          -13763.29,
          -4556.129999999997,
          -2795.25,
          -11174.129999999997,
          -156.73999999999998,
          22.22,
          -40641.53,
          -11372.599999999999,
          -5411.239999999998,
          658.0299999999988,
          -8194.470000000001,
          -36.19999999999999,
          -129.87,
          -27905.869999999995,
          -7101.219999999994,
          -3446.029999999999,
          -9690.739999999998,
          -3319.019999999997,
          -553.91,
          -115.35,
          -33965.380000000005,
          -8588.880000000005,
          -3785.709999999999,
          -5193.290000000001,
          -10349.550000000003,
          -386.40000000000003,
          -86.24,
          -31607.579999999987,
          -9405.130000000005,
          -7942.040000000001,
          -15230.970000000008,
          -9039.029999999999,
          -202.14000000000001,
          75.64,
          -13020.389999999985,
          -7164.029999999999,
          -3080.8499999999985,
          -4463.159999999996,
          -427.3000000000029,
          -162.64000000000001,
          -10.010000000000002,
          9421.73999999999,
          -13361.39,
          6877.409999999996,
          2365.4300000000003,
          937.5799999999945,
          -25.129999999999995,
          -189.72,
          58180.54000000001,
          45536.46,
          43456.42999999999,
          53230.03999999999,
          63306.439999999995,
          -541.81,
          -290.23,
          199290.58999999997,
          77647.53999999998,
          87524.04000000001,
          78268.86
         ],
         "yaxis": "y"
        },
        {
         "marker": {
          "color": "#fd994d"
         },
         "name": "",
         "showlegend": false,
         "type": "bar",
         "x": [
          "2020-02-03T00:00:00",
          "2020-02-04T00:00:00",
          "2020-02-05T00:00:00",
          "2020-02-06T00:00:00",
          "2020-02-07T00:00:00",
          "2020-02-08T00:00:00",
          "2020-02-09T00:00:00",
          "2020-02-10T00:00:00",
          "2020-02-11T00:00:00",
          "2020-02-12T00:00:00",
          "2020-02-13T00:00:00",
          "2020-02-14T00:00:00",
          "2020-02-15T00:00:00",
          "2020-02-16T00:00:00",
          "2020-02-17T00:00:00",
          "2020-02-18T00:00:00",
          "2020-02-19T00:00:00",
          "2020-02-20T00:00:00",
          "2020-02-21T00:00:00",
          "2020-02-22T00:00:00",
          "2020-02-23T00:00:00",
          "2020-02-24T00:00:00",
          "2020-02-25T00:00:00",
          "2020-02-26T00:00:00",
          "2020-02-27T00:00:00",
          "2020-02-28T00:00:00",
          "2020-02-29T00:00:00",
          "2020-03-01T00:00:00",
          "2020-03-02T00:00:00",
          "2020-03-03T00:00:00",
          "2020-03-04T00:00:00",
          "2020-03-05T00:00:00",
          "2020-03-06T00:00:00",
          "2020-03-07T00:00:00",
          "2020-03-08T00:00:00",
          "2020-03-09T00:00:00",
          "2020-03-10T00:00:00",
          "2020-03-11T00:00:00",
          "2020-03-12T00:00:00",
          "2020-03-13T00:00:00",
          "2020-03-14T00:00:00",
          "2020-03-15T00:00:00",
          "2020-03-16T00:00:00",
          "2020-03-17T00:00:00",
          "2020-03-18T00:00:00",
          "2020-03-19T00:00:00",
          "2020-03-20T00:00:00",
          "2020-03-21T00:00:00",
          "2020-03-22T00:00:00",
          "2020-03-23T00:00:00",
          "2020-03-24T00:00:00",
          "2020-03-25T00:00:00",
          "2020-03-26T00:00:00",
          "2020-03-27T00:00:00",
          "2020-03-28T00:00:00",
          "2020-03-29T00:00:00",
          "2020-03-30T00:00:00",
          "2020-03-31T00:00:00",
          "2020-04-01T00:00:00",
          "2020-04-02T00:00:00"
         ],
         "xaxis": "x2",
         "y": [
          -0.17653567950423876,
          -0.18437213825334542,
          -0.18319628432434987,
          -0.14268060576171626,
          -0.13687746180003146,
          -0.13567188783691597,
          -0.1356533429508331,
          -0.15792596750900634,
          -0.15515837418084621,
          -0.157797839733688,
          -0.15206153351027651,
          -0.1470139124782467,
          -0.1467080082812965,
          -0.14699640103268563,
          -0.12430708085672648,
          -0.11403770657775947,
          -0.10959499320012023,
          -0.13164189390209857,
          -0.12051205429823708,
          -0.12161485297221653,
          -0.12159385010876123,
          -0.1322328902615596,
          -0.13713278727289924,
          -0.13837268448654794,
          -0.12849298799979902,
          -0.1429106203728635,
          -0.1426137381444692,
          -0.14256095096830168,
          -0.13474742066490863,
          -0.134810826718877,
          -0.14264003306900908,
          -0.1633319327463918,
          -0.16085444981071617,
          -0.16045227761815772,
          -0.16012782501546807,
          -0.12440159737436507,
          -0.12194334606685497,
          -0.1109464977009117,
          -0.08761181507422866,
          -0.06828745641675615,
          -0.06820783274814668,
          -0.06841017707029506,
          -0.014925182396566594,
          -0.03044457083900831,
          -0.005479333604133774,
          0.012241760320596207,
          0.015844013600935902,
          0.016208311420816912,
          0.015730248910610145,
          0.14053938462905724,
          0.2949531614175134,
          0.38506777502962297,
          0.515786842783776,
          0.6804930291543936,
          0.6779280722082159,
          0.6774427093309929,
          1.0472733901572195,
          1.1167500159472072,
          1.2196073515789334,
          1.2744388877678676
         ],
         "yaxis": "y2"
        }
       ],
       "layout": {
        "annotations": [
         {
          "font": {
           "size": 16
          },
          "showarrow": false,
          "text": "All Thickets - Total Daily Sales",
          "x": 0.2125,
          "xanchor": "center",
          "xref": "paper",
          "y": 1,
          "yanchor": "bottom",
          "yref": "paper"
         },
         {
          "font": {
           "size": 16
          },
          "showarrow": false,
          "text": "All Thickets - 7 Day Avg Sales Comp",
          "x": 0.7875,
          "xanchor": "center",
          "xref": "paper",
          "y": 1,
          "yanchor": "bottom",
          "yref": "paper"
         }
        ],
        "barmode": "overlay",
        "height": 425,
        "hovermode": "x",
        "legend": {
         "orientation": "h",
         "x": 0,
         "xanchor": "left",
         "y": 1.43
        },
        "margin": {
         "autoexpand": true,
         "b": 100,
         "l": 25,
         "pad": 0,
         "r": 25,
         "t": 150
        },
        "showlegend": true,
        "template": {
         "data": {
          "bar": [
           {
            "error_x": {
             "color": "#f2f5fa"
            },
            "error_y": {
             "color": "#f2f5fa"
            },
            "marker": {
             "line": {
              "color": "rgb(17,17,17)",
              "width": 0.5
             }
            },
            "type": "bar"
           }
          ],
          "barpolar": [
           {
            "marker": {
             "line": {
              "color": "rgb(17,17,17)",
              "width": 0.5
             }
            },
            "type": "barpolar"
           }
          ],
          "carpet": [
           {
            "aaxis": {
             "endlinecolor": "#A2B1C6",
             "gridcolor": "#506784",
             "linecolor": "#506784",
             "minorgridcolor": "#506784",
             "startlinecolor": "#A2B1C6"
            },
            "baxis": {
             "endlinecolor": "#A2B1C6",
             "gridcolor": "#506784",
             "linecolor": "#506784",
             "minorgridcolor": "#506784",
             "startlinecolor": "#A2B1C6"
            },
            "type": "carpet"
           }
          ],
          "choropleth": [
           {
            "colorbar": {
             "outlinewidth": 0,
             "ticks": ""
            },
            "type": "choropleth"
           }
          ],
          "contour": [
           {
            "colorbar": {
             "outlinewidth": 0,
             "ticks": ""
            },
            "colorscale": [
             [
              0,
              "#0d0887"
             ],
             [
              0.1111111111111111,
              "#46039f"
             ],
             [
              0.2222222222222222,
              "#7201a8"
             ],
             [
              0.3333333333333333,
              "#9c179e"
             ],
             [
              0.4444444444444444,
              "#bd3786"
             ],
             [
              0.5555555555555556,
              "#d8576b"
             ],
             [
              0.6666666666666666,
              "#ed7953"
             ],
             [
              0.7777777777777778,
              "#fb9f3a"
             ],
             [
              0.8888888888888888,
              "#fdca26"
             ],
             [
              1,
              "#f0f921"
             ]
            ],
            "type": "contour"
           }
          ],
          "contourcarpet": [
           {
            "colorbar": {
             "outlinewidth": 0,
             "ticks": ""
            },
            "type": "contourcarpet"
           }
          ],
          "heatmap": [
           {
            "colorbar": {
             "outlinewidth": 0,
             "ticks": ""
            },
            "colorscale": [
             [
              0,
              "#0d0887"
             ],
             [
              0.1111111111111111,
              "#46039f"
             ],
             [
              0.2222222222222222,
              "#7201a8"
             ],
             [
              0.3333333333333333,
              "#9c179e"
             ],
             [
              0.4444444444444444,
              "#bd3786"
             ],
             [
              0.5555555555555556,
              "#d8576b"
             ],
             [
              0.6666666666666666,
              "#ed7953"
             ],
             [
              0.7777777777777778,
              "#fb9f3a"
             ],
             [
              0.8888888888888888,
              "#fdca26"
             ],
             [
              1,
              "#f0f921"
             ]
            ],
            "type": "heatmap"
           }
          ],
          "heatmapgl": [
           {
            "colorbar": {
             "outlinewidth": 0,
             "ticks": ""
            },
            "colorscale": [
             [
              0,
              "#0d0887"
             ],
             [
              0.1111111111111111,
              "#46039f"
             ],
             [
              0.2222222222222222,
              "#7201a8"
             ],
             [
              0.3333333333333333,
              "#9c179e"
             ],
             [
              0.4444444444444444,
              "#bd3786"
             ],
             [
              0.5555555555555556,
              "#d8576b"
             ],
             [
              0.6666666666666666,
              "#ed7953"
             ],
             [
              0.7777777777777778,
              "#fb9f3a"
             ],
             [
              0.8888888888888888,
              "#fdca26"
             ],
             [
              1,
              "#f0f921"
             ]
            ],
            "type": "heatmapgl"
           }
          ],
          "histogram": [
           {
            "marker": {
             "colorbar": {
              "outlinewidth": 0,
              "ticks": ""
             }
            },
            "type": "histogram"
           }
          ],
          "histogram2d": [
           {
            "colorbar": {
             "outlinewidth": 0,
             "ticks": ""
            },
            "colorscale": [
             [
              0,
              "#0d0887"
             ],
             [
              0.1111111111111111,
              "#46039f"
             ],
             [
              0.2222222222222222,
              "#7201a8"
             ],
             [
              0.3333333333333333,
              "#9c179e"
             ],
             [
              0.4444444444444444,
              "#bd3786"
             ],
             [
              0.5555555555555556,
              "#d8576b"
             ],
             [
              0.6666666666666666,
              "#ed7953"
             ],
             [
              0.7777777777777778,
              "#fb9f3a"
             ],
             [
              0.8888888888888888,
              "#fdca26"
             ],
             [
              1,
              "#f0f921"
             ]
            ],
            "type": "histogram2d"
           }
          ],
          "histogram2dcontour": [
           {
            "colorbar": {
             "outlinewidth": 0,
             "ticks": ""
            },
            "colorscale": [
             [
              0,
              "#0d0887"
             ],
             [
              0.1111111111111111,
              "#46039f"
             ],
             [
              0.2222222222222222,
              "#7201a8"
             ],
             [
              0.3333333333333333,
              "#9c179e"
             ],
             [
              0.4444444444444444,
              "#bd3786"
             ],
             [
              0.5555555555555556,
              "#d8576b"
             ],
             [
              0.6666666666666666,
              "#ed7953"
             ],
             [
              0.7777777777777778,
              "#fb9f3a"
             ],
             [
              0.8888888888888888,
              "#fdca26"
             ],
             [
              1,
              "#f0f921"
             ]
            ],
            "type": "histogram2dcontour"
           }
          ],
          "mesh3d": [
           {
            "colorbar": {
             "outlinewidth": 0,
             "ticks": ""
            },
            "type": "mesh3d"
           }
          ],
          "parcoords": [
           {
            "line": {
             "colorbar": {
              "outlinewidth": 0,
              "ticks": ""
             }
            },
            "type": "parcoords"
           }
          ],
          "pie": [
           {
            "automargin": true,
            "type": "pie"
           }
          ],
          "scatter": [
           {
            "marker": {
             "line": {
              "color": "#283442"
             }
            },
            "type": "scatter"
           }
          ],
          "scatter3d": [
           {
            "line": {
             "colorbar": {
              "outlinewidth": 0,
              "ticks": ""
             }
            },
            "marker": {
             "colorbar": {
              "outlinewidth": 0,
              "ticks": ""
             }
            },
            "type": "scatter3d"
           }
          ],
          "scattercarpet": [
           {
            "marker": {
             "colorbar": {
              "outlinewidth": 0,
              "ticks": ""
             }
            },
            "type": "scattercarpet"
           }
          ],
          "scattergeo": [
           {
            "marker": {
             "colorbar": {
              "outlinewidth": 0,
              "ticks": ""
             }
            },
            "type": "scattergeo"
           }
          ],
          "scattergl": [
           {
            "marker": {
             "line": {
              "color": "#283442"
             }
            },
            "type": "scattergl"
           }
          ],
          "scattermapbox": [
           {
            "marker": {
             "colorbar": {
              "outlinewidth": 0,
              "ticks": ""
             }
            },
            "type": "scattermapbox"
           }
          ],
          "scatterpolar": [
           {
            "marker": {
             "colorbar": {
              "outlinewidth": 0,
              "ticks": ""
             }
            },
            "type": "scatterpolar"
           }
          ],
          "scatterpolargl": [
           {
            "marker": {
             "colorbar": {
              "outlinewidth": 0,
              "ticks": ""
             }
            },
            "type": "scatterpolargl"
           }
          ],
          "scatterternary": [
           {
            "marker": {
             "colorbar": {
              "outlinewidth": 0,
              "ticks": ""
             }
            },
            "type": "scatterternary"
           }
          ],
          "surface": [
           {
            "colorbar": {
             "outlinewidth": 0,
             "ticks": ""
            },
            "colorscale": [
             [
              0,
              "#0d0887"
             ],
             [
              0.1111111111111111,
              "#46039f"
             ],
             [
              0.2222222222222222,
              "#7201a8"
             ],
             [
              0.3333333333333333,
              "#9c179e"
             ],
             [
              0.4444444444444444,
              "#bd3786"
             ],
             [
              0.5555555555555556,
              "#d8576b"
             ],
             [
              0.6666666666666666,
              "#ed7953"
             ],
             [
              0.7777777777777778,
              "#fb9f3a"
             ],
             [
              0.8888888888888888,
              "#fdca26"
             ],
             [
              1,
              "#f0f921"
             ]
            ],
            "type": "surface"
           }
          ],
          "table": [
           {
            "cells": {
             "fill": {
              "color": "#506784"
             },
             "line": {
              "color": "rgb(17,17,17)"
             }
            },
            "header": {
             "fill": {
              "color": "#2a3f5f"
             },
             "line": {
              "color": "rgb(17,17,17)"
             }
            },
            "type": "table"
           }
          ]
         },
         "layout": {
          "annotationdefaults": {
           "arrowcolor": "#f2f5fa",
           "arrowhead": 0,
           "arrowwidth": 1
          },
          "coloraxis": {
           "colorbar": {
            "outlinewidth": 0,
            "ticks": ""
           }
          },
          "colorscale": {
           "diverging": [
            [
             0,
             "#8e0152"
            ],
            [
             0.1,
             "#c51b7d"
            ],
            [
             0.2,
             "#de77ae"
            ],
            [
             0.3,
             "#f1b6da"
            ],
            [
             0.4,
             "#fde0ef"
            ],
            [
             0.5,
             "#f7f7f7"
            ],
            [
             0.6,
             "#e6f5d0"
            ],
            [
             0.7,
             "#b8e186"
            ],
            [
             0.8,
             "#7fbc41"
            ],
            [
             0.9,
             "#4d9221"
            ],
            [
             1,
             "#276419"
            ]
           ],
           "sequential": [
            [
             0,
             "#0d0887"
            ],
            [
             0.1111111111111111,
             "#46039f"
            ],
            [
             0.2222222222222222,
             "#7201a8"
            ],
            [
             0.3333333333333333,
             "#9c179e"
            ],
            [
             0.4444444444444444,
             "#bd3786"
            ],
            [
             0.5555555555555556,
             "#d8576b"
            ],
            [
             0.6666666666666666,
             "#ed7953"
            ],
            [
             0.7777777777777778,
             "#fb9f3a"
            ],
            [
             0.8888888888888888,
             "#fdca26"
            ],
            [
             1,
             "#f0f921"
            ]
           ],
           "sequentialminus": [
            [
             0,
             "#0d0887"
            ],
            [
             0.1111111111111111,
             "#46039f"
            ],
            [
             0.2222222222222222,
             "#7201a8"
            ],
            [
             0.3333333333333333,
             "#9c179e"
            ],
            [
             0.4444444444444444,
             "#bd3786"
            ],
            [
             0.5555555555555556,
             "#d8576b"
            ],
            [
             0.6666666666666666,
             "#ed7953"
            ],
            [
             0.7777777777777778,
             "#fb9f3a"
            ],
            [
             0.8888888888888888,
             "#fdca26"
            ],
            [
             1,
             "#f0f921"
            ]
           ]
          },
          "colorway": [
           "#636efa",
           "#EF553B",
           "#00cc96",
           "#ab63fa",
           "#FFA15A",
           "#19d3f3",
           "#FF6692",
           "#B6E880",
           "#FF97FF",
           "#FECB52"
          ],
          "font": {
           "color": "#f2f5fa"
          },
          "geo": {
           "bgcolor": "rgb(17,17,17)",
           "lakecolor": "rgb(17,17,17)",
           "landcolor": "rgb(17,17,17)",
           "showlakes": true,
           "showland": true,
           "subunitcolor": "#506784"
          },
          "hoverlabel": {
           "align": "left"
          },
          "hovermode": "closest",
          "mapbox": {
           "style": "dark"
          },
          "paper_bgcolor": "rgb(17,17,17)",
          "plot_bgcolor": "rgb(17,17,17)",
          "polar": {
           "angularaxis": {
            "gridcolor": "#506784",
            "linecolor": "#506784",
            "ticks": ""
           },
           "bgcolor": "rgb(17,17,17)",
           "radialaxis": {
            "gridcolor": "#506784",
            "linecolor": "#506784",
            "ticks": ""
           }
          },
          "scene": {
           "xaxis": {
            "backgroundcolor": "rgb(17,17,17)",
            "gridcolor": "#506784",
            "gridwidth": 2,
            "linecolor": "#506784",
            "showbackground": true,
            "ticks": "",
            "zerolinecolor": "#C8D4E3"
           },
           "yaxis": {
            "backgroundcolor": "rgb(17,17,17)",
            "gridcolor": "#506784",
            "gridwidth": 2,
            "linecolor": "#506784",
            "showbackground": true,
            "ticks": "",
            "zerolinecolor": "#C8D4E3"
           },
           "zaxis": {
            "backgroundcolor": "rgb(17,17,17)",
            "gridcolor": "#506784",
            "gridwidth": 2,
            "linecolor": "#506784",
            "showbackground": true,
            "ticks": "",
            "zerolinecolor": "#C8D4E3"
           }
          },
          "shapedefaults": {
           "line": {
            "color": "#f2f5fa"
           }
          },
          "sliderdefaults": {
           "bgcolor": "#C8D4E3",
           "bordercolor": "rgb(17,17,17)",
           "borderwidth": 1,
           "tickwidth": 0
          },
          "ternary": {
           "aaxis": {
            "gridcolor": "#506784",
            "linecolor": "#506784",
            "ticks": ""
           },
           "baxis": {
            "gridcolor": "#506784",
            "linecolor": "#506784",
            "ticks": ""
           },
           "bgcolor": "rgb(17,17,17)",
           "caxis": {
            "gridcolor": "#506784",
            "linecolor": "#506784",
            "ticks": ""
           }
          },
          "title": {
           "x": 0.05
          },
          "updatemenudefaults": {
           "bgcolor": "#506784",
           "borderwidth": 0
          },
          "xaxis": {
           "automargin": true,
           "gridcolor": "#283442",
           "linecolor": "#506784",
           "ticks": "",
           "title": {
            "standoff": 15
           },
           "zerolinecolor": "#283442",
           "zerolinewidth": 2
          },
          "yaxis": {
           "automargin": true,
           "gridcolor": "#283442",
           "linecolor": "#506784",
           "ticks": "",
           "title": {
            "standoff": 15
           },
           "zerolinecolor": "#283442",
           "zerolinewidth": 2
          }
         }
        },
        "title": {
         "font": {
          "size": 24
         },
         "text": "Total iStore Sales",
         "x": 0,
         "xanchor": "left",
         "xref": "paper",
         "y": 0.89
        },
        "width": 1000,
        "xaxis": {
         "anchor": "y",
         "domain": [
          0,
          0.425
         ],
         "dtick": 604800000,
         "showgrid": true,
         "tickangle": 90,
         "tickfont": {
          "family": "Arial, san-serif",
          "size": 10
         },
         "tickformat": "%Y-%m-%d",
         "title": {
          "text": ""
         },
         "type": "date"
        },
        "xaxis2": {
         "anchor": "y2",
         "domain": [
          0.575,
          1
         ],
         "dtick": 604800000,
         "showgrid": true,
         "tickangle": 90,
         "tickfont": {
          "family": "Arial, san-serif",
          "size": 10
         },
         "tickformat": "%Y-%m-%d",
         "title": {
          "text": ""
         },
         "type": "date"
        },
        "yaxis": {
         "anchor": "x",
         "domain": [
          0,
          1
         ],
         "hoverformat": "$,.0f",
         "tickfont": {
          "family": "Arial, san-serif",
          "size": 10
         },
         "tickformat": "$,.0f",
         "title": {
          "font": {
           "family": "Arial, san-serif",
           "size": 10
          },
          "text": "$ Diff to LY"
         }
        },
        "yaxis2": {
         "anchor": "x2",
         "domain": [
          0,
          1
         ],
         "tickfont": {
          "family": "Arial, san-serif",
          "size": 10
         },
         "tickformat": "0.1%",
         "title": {
          "font": {
           "family": "Arial, san-serif",
           "size": 10
          },
          "text": "% Diff to LY"
         }
        }
       }
      },
      "text/html": [
       "<div>\n",
       "        \n",
       "        \n",
       "            <div id=\"14d3dfe2-78a9-4c1a-88a7-7c5dba4a5da5\" class=\"plotly-graph-div\" style=\"height:425px; width:1000px;\"></div>\n",
       "            <script type=\"text/javascript\">\n",
       "                require([\"plotly\"], function(Plotly) {\n",
       "                    window.PLOTLYENV=window.PLOTLYENV || {};\n",
       "                    \n",
       "                if (document.getElementById(\"14d3dfe2-78a9-4c1a-88a7-7c5dba4a5da5\")) {\n",
       "                    Plotly.newPlot(\n",
       "                        '14d3dfe2-78a9-4c1a-88a7-7c5dba4a5da5',\n",
       "                        [{\"marker\": {\"color\": \"#3f8fc5\"}, \"name\": \"Daily Sales Amount\", \"showlegend\": true, \"type\": \"bar\", \"x\": [\"2020-02-03T00:00:00\", \"2020-02-04T00:00:00\", \"2020-02-05T00:00:00\", \"2020-02-06T00:00:00\", \"2020-02-07T00:00:00\", \"2020-02-08T00:00:00\", \"2020-02-09T00:00:00\", \"2020-02-10T00:00:00\", \"2020-02-11T00:00:00\", \"2020-02-12T00:00:00\", \"2020-02-13T00:00:00\", \"2020-02-14T00:00:00\", \"2020-02-15T00:00:00\", \"2020-02-16T00:00:00\", \"2020-02-17T00:00:00\", \"2020-02-18T00:00:00\", \"2020-02-19T00:00:00\", \"2020-02-20T00:00:00\", \"2020-02-21T00:00:00\", \"2020-02-22T00:00:00\", \"2020-02-23T00:00:00\", \"2020-02-24T00:00:00\", \"2020-02-25T00:00:00\", \"2020-02-26T00:00:00\", \"2020-02-27T00:00:00\", \"2020-02-28T00:00:00\", \"2020-02-29T00:00:00\", \"2020-03-01T00:00:00\", \"2020-03-02T00:00:00\", \"2020-03-03T00:00:00\", \"2020-03-04T00:00:00\", \"2020-03-05T00:00:00\", \"2020-03-06T00:00:00\", \"2020-03-07T00:00:00\", \"2020-03-08T00:00:00\", \"2020-03-09T00:00:00\", \"2020-03-10T00:00:00\", \"2020-03-11T00:00:00\", \"2020-03-12T00:00:00\", \"2020-03-13T00:00:00\", \"2020-03-14T00:00:00\", \"2020-03-15T00:00:00\", \"2020-03-16T00:00:00\", \"2020-03-17T00:00:00\", \"2020-03-18T00:00:00\", \"2020-03-19T00:00:00\", \"2020-03-20T00:00:00\", \"2020-03-21T00:00:00\", \"2020-03-22T00:00:00\", \"2020-03-23T00:00:00\", \"2020-03-24T00:00:00\", \"2020-03-25T00:00:00\", \"2020-03-26T00:00:00\", \"2020-03-27T00:00:00\", \"2020-03-28T00:00:00\", \"2020-03-29T00:00:00\", \"2020-03-30T00:00:00\", \"2020-03-31T00:00:00\", \"2020-04-01T00:00:00\", \"2020-04-02T00:00:00\"], \"xaxis\": \"x\", \"y\": [171075.12, 62102.07, 60740.71, 60197.19, 53743.75, 40.99, 24.4, 152738.58, 57337.13, 57685.58, 58040.7, 51826.56, 263.17, 38.05, 143890.73, 62107.43, 58824.98, 55772.78, 55887.07, 117.59, 7.22, 149160.69, 55743.95, 57040.54, 58619.22, 54459.36, 21.7, -5.89, 159383.57, 60773.06, 57262.59, 52333.74, 54695.8, 205.96, 73.38, 160111.32, 53510.33, 61000.08, 54616.3, 56364.75, 149.83, 15.0, 162841.25, 49834.43, 61937.85, 57756.51, 56524.59, 163.15, 46.63, 218339.12, 104340.56, 103312.18, 108340.51, 116164.9, 349.35, 75.68, 357156.85, 141206.8, 150578.42, 136087.44], \"yaxis\": \"y\"}, {\"marker\": {\"color\": \"#fee6da\"}, \"name\": \"Daily Sales Difference\", \"showlegend\": true, \"type\": \"bar\", \"x\": [\"2020-02-03T00:00:00\", \"2020-02-04T00:00:00\", \"2020-02-05T00:00:00\", \"2020-02-06T00:00:00\", \"2020-02-07T00:00:00\", \"2020-02-08T00:00:00\", \"2020-02-09T00:00:00\", \"2020-02-10T00:00:00\", \"2020-02-11T00:00:00\", \"2020-02-12T00:00:00\", \"2020-02-13T00:00:00\", \"2020-02-14T00:00:00\", \"2020-02-15T00:00:00\", \"2020-02-16T00:00:00\", \"2020-02-17T00:00:00\", \"2020-02-18T00:00:00\", \"2020-02-19T00:00:00\", \"2020-02-20T00:00:00\", \"2020-02-21T00:00:00\", \"2020-02-22T00:00:00\", \"2020-02-23T00:00:00\", \"2020-02-24T00:00:00\", \"2020-02-25T00:00:00\", \"2020-02-26T00:00:00\", \"2020-02-27T00:00:00\", \"2020-02-28T00:00:00\", \"2020-02-29T00:00:00\", \"2020-03-01T00:00:00\", \"2020-03-02T00:00:00\", \"2020-03-03T00:00:00\", \"2020-03-04T00:00:00\", \"2020-03-05T00:00:00\", \"2020-03-06T00:00:00\", \"2020-03-07T00:00:00\", \"2020-03-08T00:00:00\", \"2020-03-09T00:00:00\", \"2020-03-10T00:00:00\", \"2020-03-11T00:00:00\", \"2020-03-12T00:00:00\", \"2020-03-13T00:00:00\", \"2020-03-14T00:00:00\", \"2020-03-15T00:00:00\", \"2020-03-16T00:00:00\", \"2020-03-17T00:00:00\", \"2020-03-18T00:00:00\", \"2020-03-19T00:00:00\", \"2020-03-20T00:00:00\", \"2020-03-21T00:00:00\", \"2020-03-22T00:00:00\", \"2020-03-23T00:00:00\", \"2020-03-24T00:00:00\", \"2020-03-25T00:00:00\", \"2020-03-26T00:00:00\", \"2020-03-27T00:00:00\", \"2020-03-28T00:00:00\", \"2020-03-29T00:00:00\", \"2020-03-30T00:00:00\", \"2020-03-31T00:00:00\", \"2020-04-01T00:00:00\", \"2020-04-02T00:00:00\"], \"xaxis\": \"x\", \"y\": [-31597.619999999995, -13763.29, -4556.129999999997, -2795.25, -11174.129999999997, -156.73999999999998, 22.22, -40641.53, -11372.599999999999, -5411.239999999998, 658.0299999999988, -8194.470000000001, -36.19999999999999, -129.87, -27905.869999999995, -7101.219999999994, -3446.029999999999, -9690.739999999998, -3319.019999999997, -553.91, -115.35, -33965.380000000005, -8588.880000000005, -3785.709999999999, -5193.290000000001, -10349.550000000003, -386.40000000000003, -86.24, -31607.579999999987, -9405.130000000005, -7942.040000000001, -15230.970000000008, -9039.029999999999, -202.14000000000001, 75.64, -13020.389999999985, -7164.029999999999, -3080.8499999999985, -4463.159999999996, -427.3000000000029, -162.64000000000001, -10.010000000000002, 9421.73999999999, -13361.39, 6877.409999999996, 2365.4300000000003, 937.5799999999945, -25.129999999999995, -189.72, 58180.54000000001, 45536.46, 43456.42999999999, 53230.03999999999, 63306.439999999995, -541.81, -290.23, 199290.58999999997, 77647.53999999998, 87524.04000000001, 78268.86], \"yaxis\": \"y\"}, {\"marker\": {\"color\": \"#fd994d\"}, \"name\": \"\", \"showlegend\": false, \"type\": \"bar\", \"x\": [\"2020-02-03T00:00:00\", \"2020-02-04T00:00:00\", \"2020-02-05T00:00:00\", \"2020-02-06T00:00:00\", \"2020-02-07T00:00:00\", \"2020-02-08T00:00:00\", \"2020-02-09T00:00:00\", \"2020-02-10T00:00:00\", \"2020-02-11T00:00:00\", \"2020-02-12T00:00:00\", \"2020-02-13T00:00:00\", \"2020-02-14T00:00:00\", \"2020-02-15T00:00:00\", \"2020-02-16T00:00:00\", \"2020-02-17T00:00:00\", \"2020-02-18T00:00:00\", \"2020-02-19T00:00:00\", \"2020-02-20T00:00:00\", \"2020-02-21T00:00:00\", \"2020-02-22T00:00:00\", \"2020-02-23T00:00:00\", \"2020-02-24T00:00:00\", \"2020-02-25T00:00:00\", \"2020-02-26T00:00:00\", \"2020-02-27T00:00:00\", \"2020-02-28T00:00:00\", \"2020-02-29T00:00:00\", \"2020-03-01T00:00:00\", \"2020-03-02T00:00:00\", \"2020-03-03T00:00:00\", \"2020-03-04T00:00:00\", \"2020-03-05T00:00:00\", \"2020-03-06T00:00:00\", \"2020-03-07T00:00:00\", \"2020-03-08T00:00:00\", \"2020-03-09T00:00:00\", \"2020-03-10T00:00:00\", \"2020-03-11T00:00:00\", \"2020-03-12T00:00:00\", \"2020-03-13T00:00:00\", \"2020-03-14T00:00:00\", \"2020-03-15T00:00:00\", \"2020-03-16T00:00:00\", \"2020-03-17T00:00:00\", \"2020-03-18T00:00:00\", \"2020-03-19T00:00:00\", \"2020-03-20T00:00:00\", \"2020-03-21T00:00:00\", \"2020-03-22T00:00:00\", \"2020-03-23T00:00:00\", \"2020-03-24T00:00:00\", \"2020-03-25T00:00:00\", \"2020-03-26T00:00:00\", \"2020-03-27T00:00:00\", \"2020-03-28T00:00:00\", \"2020-03-29T00:00:00\", \"2020-03-30T00:00:00\", \"2020-03-31T00:00:00\", \"2020-04-01T00:00:00\", \"2020-04-02T00:00:00\"], \"xaxis\": \"x2\", \"y\": [-0.17653567950423876, -0.18437213825334542, -0.18319628432434987, -0.14268060576171626, -0.13687746180003146, -0.13567188783691597, -0.1356533429508331, -0.15792596750900634, -0.15515837418084621, -0.157797839733688, -0.15206153351027651, -0.1470139124782467, -0.1467080082812965, -0.14699640103268563, -0.12430708085672648, -0.11403770657775947, -0.10959499320012023, -0.13164189390209857, -0.12051205429823708, -0.12161485297221653, -0.12159385010876123, -0.1322328902615596, -0.13713278727289924, -0.13837268448654794, -0.12849298799979902, -0.1429106203728635, -0.1426137381444692, -0.14256095096830168, -0.13474742066490863, -0.134810826718877, -0.14264003306900908, -0.1633319327463918, -0.16085444981071617, -0.16045227761815772, -0.16012782501546807, -0.12440159737436507, -0.12194334606685497, -0.1109464977009117, -0.08761181507422866, -0.06828745641675615, -0.06820783274814668, -0.06841017707029506, -0.014925182396566594, -0.03044457083900831, -0.005479333604133774, 0.012241760320596207, 0.015844013600935902, 0.016208311420816912, 0.015730248910610145, 0.14053938462905724, 0.2949531614175134, 0.38506777502962297, 0.515786842783776, 0.6804930291543936, 0.6779280722082159, 0.6774427093309929, 1.0472733901572195, 1.1167500159472072, 1.2196073515789334, 1.2744388877678676], \"yaxis\": \"y2\"}],\n",
       "                        {\"annotations\": [{\"font\": {\"size\": 16}, \"showarrow\": false, \"text\": \"All Thickets - Total Daily Sales\", \"x\": 0.2125, \"xanchor\": \"center\", \"xref\": \"paper\", \"y\": 1.0, \"yanchor\": \"bottom\", \"yref\": \"paper\"}, {\"font\": {\"size\": 16}, \"showarrow\": false, \"text\": \"All Thickets - 7 Day Avg Sales Comp\", \"x\": 0.7875, \"xanchor\": \"center\", \"xref\": \"paper\", \"y\": 1.0, \"yanchor\": \"bottom\", \"yref\": \"paper\"}], \"barmode\": \"overlay\", \"height\": 425, \"hovermode\": \"x\", \"legend\": {\"orientation\": \"h\", \"x\": -0.0, \"xanchor\": \"left\", \"y\": 1.43}, \"margin\": {\"autoexpand\": true, \"b\": 100, \"l\": 25, \"pad\": 0, \"r\": 25, \"t\": 150}, \"showlegend\": true, \"template\": {\"data\": {\"bar\": [{\"error_x\": {\"color\": \"#f2f5fa\"}, \"error_y\": {\"color\": \"#f2f5fa\"}, \"marker\": {\"line\": {\"color\": \"rgb(17,17,17)\", \"width\": 0.5}}, \"type\": \"bar\"}], \"barpolar\": [{\"marker\": {\"line\": {\"color\": \"rgb(17,17,17)\", \"width\": 0.5}}, \"type\": \"barpolar\"}], \"carpet\": [{\"aaxis\": {\"endlinecolor\": \"#A2B1C6\", \"gridcolor\": \"#506784\", \"linecolor\": \"#506784\", \"minorgridcolor\": \"#506784\", \"startlinecolor\": \"#A2B1C6\"}, \"baxis\": {\"endlinecolor\": \"#A2B1C6\", \"gridcolor\": \"#506784\", \"linecolor\": \"#506784\", \"minorgridcolor\": \"#506784\", \"startlinecolor\": \"#A2B1C6\"}, \"type\": \"carpet\"}], \"choropleth\": [{\"colorbar\": {\"outlinewidth\": 0, \"ticks\": \"\"}, \"type\": \"choropleth\"}], \"contour\": [{\"colorbar\": {\"outlinewidth\": 0, \"ticks\": \"\"}, \"colorscale\": [[0.0, \"#0d0887\"], [0.1111111111111111, \"#46039f\"], [0.2222222222222222, \"#7201a8\"], [0.3333333333333333, \"#9c179e\"], [0.4444444444444444, \"#bd3786\"], [0.5555555555555556, \"#d8576b\"], [0.6666666666666666, \"#ed7953\"], [0.7777777777777778, \"#fb9f3a\"], [0.8888888888888888, \"#fdca26\"], [1.0, \"#f0f921\"]], \"type\": \"contour\"}], \"contourcarpet\": [{\"colorbar\": {\"outlinewidth\": 0, \"ticks\": \"\"}, \"type\": \"contourcarpet\"}], \"heatmap\": [{\"colorbar\": {\"outlinewidth\": 0, \"ticks\": \"\"}, \"colorscale\": [[0.0, \"#0d0887\"], [0.1111111111111111, \"#46039f\"], [0.2222222222222222, \"#7201a8\"], [0.3333333333333333, \"#9c179e\"], [0.4444444444444444, \"#bd3786\"], [0.5555555555555556, \"#d8576b\"], [0.6666666666666666, \"#ed7953\"], [0.7777777777777778, \"#fb9f3a\"], [0.8888888888888888, \"#fdca26\"], [1.0, \"#f0f921\"]], \"type\": \"heatmap\"}], \"heatmapgl\": [{\"colorbar\": {\"outlinewidth\": 0, \"ticks\": \"\"}, \"colorscale\": [[0.0, \"#0d0887\"], [0.1111111111111111, \"#46039f\"], [0.2222222222222222, \"#7201a8\"], [0.3333333333333333, \"#9c179e\"], [0.4444444444444444, \"#bd3786\"], [0.5555555555555556, \"#d8576b\"], [0.6666666666666666, \"#ed7953\"], [0.7777777777777778, \"#fb9f3a\"], [0.8888888888888888, \"#fdca26\"], [1.0, \"#f0f921\"]], \"type\": \"heatmapgl\"}], \"histogram\": [{\"marker\": {\"colorbar\": {\"outlinewidth\": 0, \"ticks\": \"\"}}, \"type\": \"histogram\"}], \"histogram2d\": [{\"colorbar\": {\"outlinewidth\": 0, \"ticks\": \"\"}, \"colorscale\": [[0.0, \"#0d0887\"], [0.1111111111111111, \"#46039f\"], [0.2222222222222222, \"#7201a8\"], [0.3333333333333333, \"#9c179e\"], [0.4444444444444444, \"#bd3786\"], [0.5555555555555556, \"#d8576b\"], [0.6666666666666666, \"#ed7953\"], [0.7777777777777778, \"#fb9f3a\"], [0.8888888888888888, \"#fdca26\"], [1.0, \"#f0f921\"]], \"type\": \"histogram2d\"}], \"histogram2dcontour\": [{\"colorbar\": {\"outlinewidth\": 0, \"ticks\": \"\"}, \"colorscale\": [[0.0, \"#0d0887\"], [0.1111111111111111, \"#46039f\"], [0.2222222222222222, \"#7201a8\"], [0.3333333333333333, \"#9c179e\"], [0.4444444444444444, \"#bd3786\"], [0.5555555555555556, \"#d8576b\"], [0.6666666666666666, \"#ed7953\"], [0.7777777777777778, \"#fb9f3a\"], [0.8888888888888888, \"#fdca26\"], [1.0, \"#f0f921\"]], \"type\": \"histogram2dcontour\"}], \"mesh3d\": [{\"colorbar\": {\"outlinewidth\": 0, \"ticks\": \"\"}, \"type\": \"mesh3d\"}], \"parcoords\": [{\"line\": {\"colorbar\": {\"outlinewidth\": 0, \"ticks\": \"\"}}, \"type\": \"parcoords\"}], \"pie\": [{\"automargin\": true, \"type\": \"pie\"}], \"scatter\": [{\"marker\": {\"line\": {\"color\": \"#283442\"}}, \"type\": \"scatter\"}], \"scatter3d\": [{\"line\": {\"colorbar\": {\"outlinewidth\": 0, \"ticks\": \"\"}}, \"marker\": {\"colorbar\": {\"outlinewidth\": 0, \"ticks\": \"\"}}, \"type\": \"scatter3d\"}], \"scattercarpet\": [{\"marker\": {\"colorbar\": {\"outlinewidth\": 0, \"ticks\": \"\"}}, \"type\": \"scattercarpet\"}], \"scattergeo\": [{\"marker\": {\"colorbar\": {\"outlinewidth\": 0, \"ticks\": \"\"}}, \"type\": \"scattergeo\"}], \"scattergl\": [{\"marker\": {\"line\": {\"color\": \"#283442\"}}, \"type\": \"scattergl\"}], \"scattermapbox\": [{\"marker\": {\"colorbar\": {\"outlinewidth\": 0, \"ticks\": \"\"}}, \"type\": \"scattermapbox\"}], \"scatterpolar\": [{\"marker\": {\"colorbar\": {\"outlinewidth\": 0, \"ticks\": \"\"}}, \"type\": \"scatterpolar\"}], \"scatterpolargl\": [{\"marker\": {\"colorbar\": {\"outlinewidth\": 0, \"ticks\": \"\"}}, \"type\": \"scatterpolargl\"}], \"scatterternary\": [{\"marker\": {\"colorbar\": {\"outlinewidth\": 0, \"ticks\": \"\"}}, \"type\": \"scatterternary\"}], \"surface\": [{\"colorbar\": {\"outlinewidth\": 0, \"ticks\": \"\"}, \"colorscale\": [[0.0, \"#0d0887\"], [0.1111111111111111, \"#46039f\"], [0.2222222222222222, \"#7201a8\"], [0.3333333333333333, \"#9c179e\"], [0.4444444444444444, \"#bd3786\"], [0.5555555555555556, \"#d8576b\"], [0.6666666666666666, \"#ed7953\"], [0.7777777777777778, \"#fb9f3a\"], [0.8888888888888888, \"#fdca26\"], [1.0, \"#f0f921\"]], \"type\": \"surface\"}], \"table\": [{\"cells\": {\"fill\": {\"color\": \"#506784\"}, \"line\": {\"color\": \"rgb(17,17,17)\"}}, \"header\": {\"fill\": {\"color\": \"#2a3f5f\"}, \"line\": {\"color\": \"rgb(17,17,17)\"}}, \"type\": \"table\"}]}, \"layout\": {\"annotationdefaults\": {\"arrowcolor\": \"#f2f5fa\", \"arrowhead\": 0, \"arrowwidth\": 1}, \"coloraxis\": {\"colorbar\": {\"outlinewidth\": 0, \"ticks\": \"\"}}, \"colorscale\": {\"diverging\": [[0, \"#8e0152\"], [0.1, \"#c51b7d\"], [0.2, \"#de77ae\"], [0.3, \"#f1b6da\"], [0.4, \"#fde0ef\"], [0.5, \"#f7f7f7\"], [0.6, \"#e6f5d0\"], [0.7, \"#b8e186\"], [0.8, \"#7fbc41\"], [0.9, \"#4d9221\"], [1, \"#276419\"]], \"sequential\": [[0.0, \"#0d0887\"], [0.1111111111111111, \"#46039f\"], [0.2222222222222222, \"#7201a8\"], [0.3333333333333333, \"#9c179e\"], [0.4444444444444444, \"#bd3786\"], [0.5555555555555556, \"#d8576b\"], [0.6666666666666666, \"#ed7953\"], [0.7777777777777778, \"#fb9f3a\"], [0.8888888888888888, \"#fdca26\"], [1.0, \"#f0f921\"]], \"sequentialminus\": [[0.0, \"#0d0887\"], [0.1111111111111111, \"#46039f\"], [0.2222222222222222, \"#7201a8\"], [0.3333333333333333, \"#9c179e\"], [0.4444444444444444, \"#bd3786\"], [0.5555555555555556, \"#d8576b\"], [0.6666666666666666, \"#ed7953\"], [0.7777777777777778, \"#fb9f3a\"], [0.8888888888888888, \"#fdca26\"], [1.0, \"#f0f921\"]]}, \"colorway\": [\"#636efa\", \"#EF553B\", \"#00cc96\", \"#ab63fa\", \"#FFA15A\", \"#19d3f3\", \"#FF6692\", \"#B6E880\", \"#FF97FF\", \"#FECB52\"], \"font\": {\"color\": \"#f2f5fa\"}, \"geo\": {\"bgcolor\": \"rgb(17,17,17)\", \"lakecolor\": \"rgb(17,17,17)\", \"landcolor\": \"rgb(17,17,17)\", \"showlakes\": true, \"showland\": true, \"subunitcolor\": \"#506784\"}, \"hoverlabel\": {\"align\": \"left\"}, \"hovermode\": \"closest\", \"mapbox\": {\"style\": \"dark\"}, \"paper_bgcolor\": \"rgb(17,17,17)\", \"plot_bgcolor\": \"rgb(17,17,17)\", \"polar\": {\"angularaxis\": {\"gridcolor\": \"#506784\", \"linecolor\": \"#506784\", \"ticks\": \"\"}, \"bgcolor\": \"rgb(17,17,17)\", \"radialaxis\": {\"gridcolor\": \"#506784\", \"linecolor\": \"#506784\", \"ticks\": \"\"}}, \"scene\": {\"xaxis\": {\"backgroundcolor\": \"rgb(17,17,17)\", \"gridcolor\": \"#506784\", \"gridwidth\": 2, \"linecolor\": \"#506784\", \"showbackground\": true, \"ticks\": \"\", \"zerolinecolor\": \"#C8D4E3\"}, \"yaxis\": {\"backgroundcolor\": \"rgb(17,17,17)\", \"gridcolor\": \"#506784\", \"gridwidth\": 2, \"linecolor\": \"#506784\", \"showbackground\": true, \"ticks\": \"\", \"zerolinecolor\": \"#C8D4E3\"}, \"zaxis\": {\"backgroundcolor\": \"rgb(17,17,17)\", \"gridcolor\": \"#506784\", \"gridwidth\": 2, \"linecolor\": \"#506784\", \"showbackground\": true, \"ticks\": \"\", \"zerolinecolor\": \"#C8D4E3\"}}, \"shapedefaults\": {\"line\": {\"color\": \"#f2f5fa\"}}, \"sliderdefaults\": {\"bgcolor\": \"#C8D4E3\", \"bordercolor\": \"rgb(17,17,17)\", \"borderwidth\": 1, \"tickwidth\": 0}, \"ternary\": {\"aaxis\": {\"gridcolor\": \"#506784\", \"linecolor\": \"#506784\", \"ticks\": \"\"}, \"baxis\": {\"gridcolor\": \"#506784\", \"linecolor\": \"#506784\", \"ticks\": \"\"}, \"bgcolor\": \"rgb(17,17,17)\", \"caxis\": {\"gridcolor\": \"#506784\", \"linecolor\": \"#506784\", \"ticks\": \"\"}}, \"title\": {\"x\": 0.05}, \"updatemenudefaults\": {\"bgcolor\": \"#506784\", \"borderwidth\": 0}, \"xaxis\": {\"automargin\": true, \"gridcolor\": \"#283442\", \"linecolor\": \"#506784\", \"ticks\": \"\", \"title\": {\"standoff\": 15}, \"zerolinecolor\": \"#283442\", \"zerolinewidth\": 2}, \"yaxis\": {\"automargin\": true, \"gridcolor\": \"#283442\", \"linecolor\": \"#506784\", \"ticks\": \"\", \"title\": {\"standoff\": 15}, \"zerolinecolor\": \"#283442\", \"zerolinewidth\": 2}}}, \"title\": {\"font\": {\"size\": 24}, \"text\": \"Total iStore Sales\", \"x\": 0, \"xanchor\": \"left\", \"xref\": \"paper\", \"y\": 0.89}, \"width\": 1000, \"xaxis\": {\"anchor\": \"y\", \"domain\": [0.0, 0.425], \"dtick\": 604800000, \"showgrid\": true, \"tickangle\": 90, \"tickfont\": {\"family\": \"Arial, san-serif\", \"size\": 10}, \"tickformat\": \"%Y-%m-%d\", \"title\": {\"text\": \"\"}, \"type\": \"date\"}, \"xaxis2\": {\"anchor\": \"y2\", \"domain\": [0.575, 1.0], \"dtick\": 604800000, \"showgrid\": true, \"tickangle\": 90, \"tickfont\": {\"family\": \"Arial, san-serif\", \"size\": 10}, \"tickformat\": \"%Y-%m-%d\", \"title\": {\"text\": \"\"}, \"type\": \"date\"}, \"yaxis\": {\"anchor\": \"x\", \"domain\": [0.0, 1.0], \"hoverformat\": \"$,.0f\", \"tickfont\": {\"family\": \"Arial, san-serif\", \"size\": 10}, \"tickformat\": \"$,.0f\", \"title\": {\"font\": {\"family\": \"Arial, san-serif\", \"size\": 10}, \"text\": \"$ Diff to LY\"}}, \"yaxis2\": {\"anchor\": \"x2\", \"domain\": [0.0, 1.0], \"tickfont\": {\"family\": \"Arial, san-serif\", \"size\": 10}, \"tickformat\": \"0.1%\", \"title\": {\"font\": {\"family\": \"Arial, san-serif\", \"size\": 10}, \"text\": \"% Diff to LY\"}}},\n",
       "                        {\"responsive\": true}\n",
       "                    ).then(function(){\n",
       "                            \n",
       "var gd = document.getElementById('14d3dfe2-78a9-4c1a-88a7-7c5dba4a5da5');\n",
       "var x = new MutationObserver(function (mutations, observer) {{\n",
       "        var display = window.getComputedStyle(gd).display;\n",
       "        if (!display || display === 'none') {{\n",
       "            console.log([gd, 'removed!']);\n",
       "            Plotly.purge(gd);\n",
       "            observer.disconnect();\n",
       "        }}\n",
       "}});\n",
       "\n",
       "// Listen for the removal of the full notebook cells\n",
       "var notebookContainer = gd.closest('#notebook-container');\n",
       "if (notebookContainer) {{\n",
       "    x.observe(notebookContainer, {childList: true});\n",
       "}}\n",
       "\n",
       "// Listen for the clearing of the current output cell\n",
       "var outputEl = gd.closest('.output');\n",
       "if (outputEl) {{\n",
       "    x.observe(outputEl, {childList: true});\n",
       "}}\n",
       "\n",
       "                        })\n",
       "                };\n",
       "                });\n",
       "            </script>\n",
       "        </div>"
      ]
     },
     "metadata": {},
     "output_type": "display_data"
    }
   ],
   "source": [
    "div_TotaliStoreSales = plot_iStoreSalesByThicketDetail(df_OrdersComp, 'Total iStore Sales', clrPalExtended, filtInstance_iStore, \n",
    "                                                                'Total iStore', 1, 425)"
   ]
  },
  {
   "cell_type": "code",
   "execution_count": 32,
   "metadata": {},
   "outputs": [
    {
     "data": {
      "application/vnd.plotly.v1+json": {
       "config": {
        "linkText": "Export to plot.ly",
        "plotlyServerURL": "https://plot.ly",
        "showLink": false
       },
       "data": [
        {
         "line": {
          "color": "#a1cbe2"
         },
         "name": "Thicket 1",
         "showlegend": true,
         "type": "scatter",
         "uid": "136ded17-e794-4577-be19-9f754c92540e",
         "x": [
          "2020-02-03T00:00:00",
          "2020-02-04T00:00:00",
          "2020-02-05T00:00:00",
          "2020-02-06T00:00:00",
          "2020-02-07T00:00:00",
          "2020-02-08T00:00:00",
          "2020-02-09T00:00:00",
          "2020-02-10T00:00:00",
          "2020-02-11T00:00:00",
          "2020-02-12T00:00:00",
          "2020-02-13T00:00:00",
          "2020-02-14T00:00:00",
          "2020-02-15T00:00:00",
          "2020-02-16T00:00:00",
          "2020-02-17T00:00:00",
          "2020-02-18T00:00:00",
          "2020-02-19T00:00:00",
          "2020-02-20T00:00:00",
          "2020-02-21T00:00:00",
          "2020-02-22T00:00:00",
          "2020-02-23T00:00:00",
          "2020-02-24T00:00:00",
          "2020-02-25T00:00:00",
          "2020-02-26T00:00:00",
          "2020-02-27T00:00:00",
          "2020-02-28T00:00:00",
          "2020-02-29T00:00:00",
          "2020-03-01T00:00:00",
          "2020-03-02T00:00:00",
          "2020-03-03T00:00:00",
          "2020-03-04T00:00:00",
          "2020-03-05T00:00:00",
          "2020-03-06T00:00:00",
          "2020-03-07T00:00:00",
          "2020-03-08T00:00:00",
          "2020-03-09T00:00:00",
          "2020-03-10T00:00:00",
          "2020-03-11T00:00:00",
          "2020-03-12T00:00:00",
          "2020-03-13T00:00:00",
          "2020-03-14T00:00:00",
          "2020-03-15T00:00:00",
          "2020-03-16T00:00:00",
          "2020-03-17T00:00:00",
          "2020-03-18T00:00:00",
          "2020-03-19T00:00:00",
          "2020-03-20T00:00:00",
          "2020-03-21T00:00:00",
          "2020-03-22T00:00:00",
          "2020-03-23T00:00:00",
          "2020-03-24T00:00:00",
          "2020-03-25T00:00:00",
          "2020-03-26T00:00:00",
          "2020-03-27T00:00:00",
          "2020-03-28T00:00:00",
          "2020-03-29T00:00:00",
          "2020-03-30T00:00:00",
          "2020-03-31T00:00:00",
          "2020-04-01T00:00:00",
          "2020-04-02T00:00:00"
         ],
         "y": [
          9782.824285714294,
          9408.572857142866,
          9067.392857142868,
          8926.527142857154,
          8701.12000000001,
          8688.332857142868,
          8686.017142857154,
          8496.581428571439,
          8412.652857142868,
          8582.945714285726,
          8680.854285714298,
          8735.441428571441,
          8738.924285714298,
          8739.245714285727,
          8527.648571428585,
          8777.514285714298,
          8525.821428571442,
          8487.355714285728,
          8499.677142857157,
          8503.3342857143,
          8503.760000000013,
          8862.148571428585,
          8674.627142857156,
          8789.255714285728,
          8852.590000000015,
          8706.967142857156,
          8697.901428571442,
          8697.190000000015,
          8900.951428571443,
          8887.697142857158,
          8906.451428571445,
          8590.09571428573,
          8662.92714285716,
          8666.27714285716,
          8672.541428571445,
          8483.110000000015,
          8214.402857142873,
          8189.071428571444,
          8343.838571428587,
          8458.398571428586,
          8453.188571428587,
          8447.06571428573,
          8862.252857142874,
          9002.622857142875,
          9035.558571428588,
          8960.745714285731,
          8855.44571428573,
          8857.191428571443,
          8856.894285714301,
          9633.8342857143,
          10571.078571428587,
          11204.514285714302,
          12339.19571428573,
          13436.914285714302,
          13444.872857142875,
          13445.740000000018,
          16129.48000000002,
          17390.774285714306,
          18451.8942857143,
          19298.530000000017
         ]
        },
        {
         "line": {
          "color": "#08488e"
         },
         "name": "Thicket 2",
         "showlegend": true,
         "type": "scatter",
         "uid": "3aa70758-ba80-411e-b00d-e312059714fe",
         "x": [
          "2020-02-03T00:00:00",
          "2020-02-04T00:00:00",
          "2020-02-05T00:00:00",
          "2020-02-06T00:00:00",
          "2020-02-07T00:00:00",
          "2020-02-08T00:00:00",
          "2020-02-09T00:00:00",
          "2020-02-10T00:00:00",
          "2020-02-11T00:00:00",
          "2020-02-12T00:00:00",
          "2020-02-13T00:00:00",
          "2020-02-14T00:00:00",
          "2020-02-15T00:00:00",
          "2020-02-16T00:00:00",
          "2020-02-17T00:00:00",
          "2020-02-18T00:00:00",
          "2020-02-19T00:00:00",
          "2020-02-20T00:00:00",
          "2020-02-21T00:00:00",
          "2020-02-22T00:00:00",
          "2020-02-23T00:00:00",
          "2020-02-24T00:00:00",
          "2020-02-25T00:00:00",
          "2020-02-26T00:00:00",
          "2020-02-27T00:00:00",
          "2020-02-28T00:00:00",
          "2020-02-29T00:00:00",
          "2020-03-01T00:00:00",
          "2020-03-02T00:00:00",
          "2020-03-03T00:00:00",
          "2020-03-04T00:00:00",
          "2020-03-05T00:00:00",
          "2020-03-06T00:00:00",
          "2020-03-07T00:00:00",
          "2020-03-08T00:00:00",
          "2020-03-09T00:00:00",
          "2020-03-10T00:00:00",
          "2020-03-11T00:00:00",
          "2020-03-12T00:00:00",
          "2020-03-13T00:00:00",
          "2020-03-14T00:00:00",
          "2020-03-15T00:00:00",
          "2020-03-16T00:00:00",
          "2020-03-17T00:00:00",
          "2020-03-18T00:00:00",
          "2020-03-19T00:00:00",
          "2020-03-20T00:00:00",
          "2020-03-21T00:00:00",
          "2020-03-22T00:00:00",
          "2020-03-23T00:00:00",
          "2020-03-24T00:00:00",
          "2020-03-25T00:00:00",
          "2020-03-26T00:00:00",
          "2020-03-27T00:00:00",
          "2020-03-28T00:00:00",
          "2020-03-29T00:00:00",
          "2020-03-30T00:00:00",
          "2020-03-31T00:00:00",
          "2020-04-01T00:00:00",
          "2020-04-02T00:00:00"
         ],
         "y": [
          11292.975714285738,
          10806.851428571452,
          11039.654285714309,
          11178.118571428595,
          10635.208571428595,
          10621.46142857145,
          10618.015714285737,
          9834.781428571454,
          9843.27285714288,
          9690.011428571452,
          9636.85428571431,
          9725.878571428595,
          9753.527142857169,
          9753.55714285717,
          9563.391428571456,
          9753.688571428602,
          9812.424285714316,
          9595.758571428601,
          9543.832857142888,
          9514.584285714316,
          9513.452857142887,
          9701.19142857146,
          9446.63000000003,
          9415.227142857171,
          9714.78714285717,
          9705.842857142885,
          9708.284285714313,
          9708.73571428574,
          9645.414285714312,
          9848.554285714312,
          9634.524285714313,
          9393.708571428599,
          9384.752857142885,
          9385.091428571457,
          9386.637142857173,
          9402.642857142886,
          8807.072857142888,
          9024.83142857146,
          8898.634285714315,
          8816.872857142886,
          8821.03000000003,
          8819.594285714315,
          9238.438571428602,
          9293.042857142887,
          9638.435714285744,
          9973.160000000029,
          10029.967142857171,
          10023.827142857172,
          10023.604285714315,
          11537.1685714286,
          12551.18714285717,
          12775.531428571456,
          13944.412857142885,
          15674.797142857171,
          15685.218571428599,
          15691.194285714313,
          19422.631428571458,
          20674.6885714286,
          22144.94428571432,
          22136.215714285743
         ]
        },
        {
         "line": {
          "color": "#62bb6d"
         },
         "name": "Thicket 3",
         "showlegend": true,
         "type": "scatter",
         "uid": "8d134d3a-8c69-4159-847a-38e492242285",
         "x": [
          "2020-02-03T00:00:00",
          "2020-02-04T00:00:00",
          "2020-02-05T00:00:00",
          "2020-02-06T00:00:00",
          "2020-02-07T00:00:00",
          "2020-02-08T00:00:00",
          "2020-02-09T00:00:00",
          "2020-02-10T00:00:00",
          "2020-02-11T00:00:00",
          "2020-02-12T00:00:00",
          "2020-02-13T00:00:00",
          "2020-02-14T00:00:00",
          "2020-02-15T00:00:00",
          "2020-02-16T00:00:00",
          "2020-02-17T00:00:00",
          "2020-02-18T00:00:00",
          "2020-02-19T00:00:00",
          "2020-02-20T00:00:00",
          "2020-02-21T00:00:00",
          "2020-02-22T00:00:00",
          "2020-02-23T00:00:00",
          "2020-02-24T00:00:00",
          "2020-02-25T00:00:00",
          "2020-02-26T00:00:00",
          "2020-02-27T00:00:00",
          "2020-02-28T00:00:00",
          "2020-02-29T00:00:00",
          "2020-03-01T00:00:00",
          "2020-03-02T00:00:00",
          "2020-03-03T00:00:00",
          "2020-03-04T00:00:00",
          "2020-03-05T00:00:00",
          "2020-03-06T00:00:00",
          "2020-03-07T00:00:00",
          "2020-03-08T00:00:00",
          "2020-03-09T00:00:00",
          "2020-03-10T00:00:00",
          "2020-03-11T00:00:00",
          "2020-03-12T00:00:00",
          "2020-03-13T00:00:00",
          "2020-03-14T00:00:00",
          "2020-03-15T00:00:00",
          "2020-03-16T00:00:00",
          "2020-03-17T00:00:00",
          "2020-03-18T00:00:00",
          "2020-03-19T00:00:00",
          "2020-03-20T00:00:00",
          "2020-03-21T00:00:00",
          "2020-03-22T00:00:00",
          "2020-03-23T00:00:00",
          "2020-03-24T00:00:00",
          "2020-03-25T00:00:00",
          "2020-03-26T00:00:00",
          "2020-03-27T00:00:00",
          "2020-03-28T00:00:00",
          "2020-03-29T00:00:00",
          "2020-03-30T00:00:00",
          "2020-03-31T00:00:00",
          "2020-04-01T00:00:00",
          "2020-04-02T00:00:00"
         ],
         "y": [
          9.898875370189281e-12,
          9.898875370189281e-12,
          9.898875370189281e-12,
          9.898875370189281e-12,
          9.898875370189281e-12,
          9.898875370189281e-12,
          9.898875370189281e-12,
          9.898875370189281e-12,
          9.898875370189281e-12,
          9.898875370189281e-12,
          9.898875370189281e-12,
          9.898875370189281e-12,
          9.898875370189281e-12,
          9.898875370189281e-12,
          9.898875370189281e-12,
          9.898875370189281e-12,
          9.898875370189281e-12,
          9.898875370189281e-12,
          9.898875370189281e-12,
          9.898875370189281e-12,
          9.898875370189281e-12,
          9.898875370189281e-12,
          9.898875370189281e-12,
          9.898875370189281e-12,
          9.898875370189281e-12,
          9.898875370189281e-12,
          9.898875370189281e-12,
          9.898875370189281e-12,
          9.898875370189281e-12,
          9.898875370189281e-12,
          9.898875370189281e-12,
          9.898875370189281e-12,
          9.898875370189281e-12,
          9.898875370189281e-12,
          9.898875370189281e-12,
          9.898875370189281e-12,
          9.898875370189281e-12,
          9.898875370189281e-12,
          9.898875370189281e-12,
          9.898875370189281e-12,
          9.898875370189281e-12,
          9.898875370189281e-12,
          9.898875370189281e-12,
          9.898875370189281e-12,
          9.898875370189281e-12,
          9.898875370189281e-12,
          9.898875370189281e-12,
          9.898875370189281e-12,
          9.898875370189281e-12,
          9.898875370189281e-12,
          9.898875370189281e-12,
          9.898875370189281e-12,
          9.898875370189281e-12,
          9.898875370189281e-12,
          9.898875370189281e-12,
          9.898875370189281e-12,
          9.898875370189281e-12,
          9.898875370189281e-12,
          9.898875370189281e-12,
          9.898875370189281e-12
         ]
        },
        {
         "line": {
          "color": "#006227"
         },
         "name": "Thicket 4",
         "showlegend": true,
         "type": "scatter",
         "uid": "930ad904-6ca8-4181-8859-bec681b32b3f",
         "x": [
          "2020-02-03T00:00:00",
          "2020-02-04T00:00:00",
          "2020-02-05T00:00:00",
          "2020-02-06T00:00:00",
          "2020-02-07T00:00:00",
          "2020-02-08T00:00:00",
          "2020-02-09T00:00:00",
          "2020-02-10T00:00:00",
          "2020-02-11T00:00:00",
          "2020-02-12T00:00:00",
          "2020-02-13T00:00:00",
          "2020-02-14T00:00:00",
          "2020-02-15T00:00:00",
          "2020-02-16T00:00:00",
          "2020-02-17T00:00:00",
          "2020-02-18T00:00:00",
          "2020-02-19T00:00:00",
          "2020-02-20T00:00:00",
          "2020-02-21T00:00:00",
          "2020-02-22T00:00:00",
          "2020-02-23T00:00:00",
          "2020-02-24T00:00:00",
          "2020-02-25T00:00:00",
          "2020-02-26T00:00:00",
          "2020-02-27T00:00:00",
          "2020-02-28T00:00:00",
          "2020-02-29T00:00:00",
          "2020-03-01T00:00:00",
          "2020-03-02T00:00:00",
          "2020-03-03T00:00:00",
          "2020-03-04T00:00:00",
          "2020-03-05T00:00:00",
          "2020-03-06T00:00:00",
          "2020-03-07T00:00:00",
          "2020-03-08T00:00:00",
          "2020-03-09T00:00:00",
          "2020-03-10T00:00:00",
          "2020-03-11T00:00:00",
          "2020-03-12T00:00:00",
          "2020-03-13T00:00:00",
          "2020-03-14T00:00:00",
          "2020-03-15T00:00:00",
          "2020-03-16T00:00:00",
          "2020-03-17T00:00:00",
          "2020-03-18T00:00:00",
          "2020-03-19T00:00:00",
          "2020-03-20T00:00:00",
          "2020-03-21T00:00:00",
          "2020-03-22T00:00:00",
          "2020-03-23T00:00:00",
          "2020-03-24T00:00:00",
          "2020-03-25T00:00:00",
          "2020-03-26T00:00:00",
          "2020-03-27T00:00:00",
          "2020-03-28T00:00:00",
          "2020-03-29T00:00:00",
          "2020-03-30T00:00:00",
          "2020-03-31T00:00:00",
          "2020-04-01T00:00:00",
          "2020-04-02T00:00:00"
         ],
         "y": [
          10544.258571428576,
          10343.864285714288,
          9826.490000000003,
          9801.21285714286,
          9633.265714285717,
          9634.302857142859,
          9635.43285714286,
          9185.282857142858,
          9059.665714285717,
          8893.702857142862,
          8777.22285714286,
          8645.007142857148,
          8644.175714285719,
          8643.96571428572,
          7999.700000000005,
          7830.644285714291,
          8360.121428571434,
          8500.302857142862,
          8657.820000000005,
          8662.200000000006,
          8662.297142857149,
          9263.531428571436,
          9393.232857142862,
          9165.715714285718,
          8969.718571428575,
          8941.602857142861,
          8937.76428571429,
          8937.91428571429,
          9091.99571428572,
          9006.927142857148,
          9027.394285714292,
          9042.578571428578,
          8766.552857142864,
          8780.90857142858,
          8781.020000000008,
          8425.630000000006,
          8562.102857142863,
          8450.222857142862,
          8603.422857142863,
          8798.801428571436,
          8785.015714285722,
          8785.015714285722,
          9005.672857142865,
          8907.261428571437,
          8931.995714285724,
          8935.541428571438,
          8950.644285714296,
          8951.608571428582,
          8954.352857142867,
          10421.232857142868,
          11929.124285714297,
          13536.950000000012,
          15062.878571428582,
          16894.69000000001,
          16906.427142857152,
          16901.660000000007,
          21154.951428571432,
          22043.038571428573,
          23038.44714285715,
          23592.330000000005
         ]
        },
        {
         "line": {
          "color": "#fdca99"
         },
         "name": "Thicket 5",
         "showlegend": true,
         "type": "scatter",
         "uid": "d7102f84-93ef-4d0c-acbe-ded58f337a79",
         "x": [
          "2020-02-03T00:00:00",
          "2020-02-04T00:00:00",
          "2020-02-05T00:00:00",
          "2020-02-06T00:00:00",
          "2020-02-07T00:00:00",
          "2020-02-08T00:00:00",
          "2020-02-09T00:00:00",
          "2020-02-10T00:00:00",
          "2020-02-11T00:00:00",
          "2020-02-12T00:00:00",
          "2020-02-13T00:00:00",
          "2020-02-14T00:00:00",
          "2020-02-15T00:00:00",
          "2020-02-16T00:00:00",
          "2020-02-17T00:00:00",
          "2020-02-18T00:00:00",
          "2020-02-19T00:00:00",
          "2020-02-20T00:00:00",
          "2020-02-21T00:00:00",
          "2020-02-22T00:00:00",
          "2020-02-23T00:00:00",
          "2020-02-24T00:00:00",
          "2020-02-25T00:00:00",
          "2020-02-26T00:00:00",
          "2020-02-27T00:00:00",
          "2020-02-28T00:00:00",
          "2020-02-29T00:00:00",
          "2020-03-01T00:00:00",
          "2020-03-02T00:00:00",
          "2020-03-03T00:00:00",
          "2020-03-04T00:00:00",
          "2020-03-05T00:00:00",
          "2020-03-06T00:00:00",
          "2020-03-07T00:00:00",
          "2020-03-08T00:00:00",
          "2020-03-09T00:00:00",
          "2020-03-10T00:00:00",
          "2020-03-11T00:00:00",
          "2020-03-12T00:00:00",
          "2020-03-13T00:00:00",
          "2020-03-14T00:00:00",
          "2020-03-15T00:00:00",
          "2020-03-16T00:00:00",
          "2020-03-17T00:00:00",
          "2020-03-18T00:00:00",
          "2020-03-19T00:00:00",
          "2020-03-20T00:00:00",
          "2020-03-21T00:00:00",
          "2020-03-22T00:00:00",
          "2020-03-23T00:00:00",
          "2020-03-24T00:00:00",
          "2020-03-25T00:00:00",
          "2020-03-26T00:00:00",
          "2020-03-27T00:00:00",
          "2020-03-28T00:00:00",
          "2020-03-29T00:00:00",
          "2020-03-30T00:00:00",
          "2020-03-31T00:00:00",
          "2020-04-01T00:00:00",
          "2020-04-02T00:00:00"
         ],
         "y": [
          11592.442857142849,
          11217.757142857135,
          11403.90285714285,
          11250.585714285708,
          10984.175714285708,
          10984.957142857136,
          10984.818571428565,
          10367.319999999994,
          10105.672857142852,
          9728.884285714279,
          9540.725714285709,
          9470.999999999995,
          9472.922857142852,
          9474.431428571423,
          9461.387142857138,
          9699.208571428566,
          9724.542857142851,
          9712.748571428567,
          9918.631428571423,
          9919.61571428571,
          9919.759999999997,
          9678.341428571424,
          9502.089999999997,
          9456.665714285711,
          9324.765714285712,
          9100.551428571425,
          9097.288571428568,
          9096.004285714282,
          9484.431428571426,
          9615.572857142854,
          9572.392857142855,
          9565.187142857141,
          9500.962857142853,
          9506.088571428567,
          9508.08571428571,
          9119.475714285709,
          8944.777142857138,
          9088.357142857138,
          9114.869999999995,
          9559.498571428567,
          9554.092857142852,
          9553.80571428571,
          9741.807142857138,
          9757.89428571428,
          9721.404285714278,
          10025.194285714277,
          9865.417142857137,
          9870.368571428566,
          9871.08428571428,
          11800.771428571423,
          13573.147142857139,
          15494.489999999996,
          17136.191428571427,
          19047.572857142855,
          19056.52571428571,
          19054.1,
          24177.681428571428,
          25084.23857142857,
          26094.718571428566,
          27148.122857142855
         ]
        },
        {
         "line": {
          "color": "#f9802d"
         },
         "name": "Thicket 6",
         "showlegend": true,
         "type": "scatter",
         "uid": "2ca6f731-57e8-466b-abdc-85c4095f0352",
         "x": [
          "2020-02-03T00:00:00",
          "2020-02-04T00:00:00",
          "2020-02-05T00:00:00",
          "2020-02-06T00:00:00",
          "2020-02-07T00:00:00",
          "2020-02-08T00:00:00",
          "2020-02-09T00:00:00",
          "2020-02-10T00:00:00",
          "2020-02-11T00:00:00",
          "2020-02-12T00:00:00",
          "2020-02-13T00:00:00",
          "2020-02-14T00:00:00",
          "2020-02-15T00:00:00",
          "2020-02-16T00:00:00",
          "2020-02-17T00:00:00",
          "2020-02-18T00:00:00",
          "2020-02-19T00:00:00",
          "2020-02-20T00:00:00",
          "2020-02-21T00:00:00",
          "2020-02-22T00:00:00",
          "2020-02-23T00:00:00",
          "2020-02-24T00:00:00",
          "2020-02-25T00:00:00",
          "2020-02-26T00:00:00",
          "2020-02-27T00:00:00",
          "2020-02-28T00:00:00",
          "2020-02-29T00:00:00",
          "2020-03-01T00:00:00",
          "2020-03-02T00:00:00",
          "2020-03-03T00:00:00",
          "2020-03-04T00:00:00",
          "2020-03-05T00:00:00",
          "2020-03-06T00:00:00",
          "2020-03-07T00:00:00",
          "2020-03-08T00:00:00",
          "2020-03-09T00:00:00",
          "2020-03-10T00:00:00",
          "2020-03-11T00:00:00",
          "2020-03-12T00:00:00",
          "2020-03-13T00:00:00",
          "2020-03-14T00:00:00",
          "2020-03-15T00:00:00",
          "2020-03-16T00:00:00",
          "2020-03-17T00:00:00",
          "2020-03-18T00:00:00",
          "2020-03-19T00:00:00",
          "2020-03-20T00:00:00",
          "2020-03-21T00:00:00",
          "2020-03-22T00:00:00",
          "2020-03-23T00:00:00",
          "2020-03-24T00:00:00",
          "2020-03-25T00:00:00",
          "2020-03-26T00:00:00",
          "2020-03-27T00:00:00",
          "2020-03-28T00:00:00",
          "2020-03-29T00:00:00",
          "2020-03-30T00:00:00",
          "2020-03-31T00:00:00",
          "2020-04-01T00:00:00",
          "2020-04-02T00:00:00"
         ],
         "y": [
          10614.991428571424,
          9994.05571428571,
          9565.855714285708,
          9307.551428571422,
          9077.249999999995,
          9076.379999999996,
          9079.322857142852,
          8871.579999999994,
          8832.729999999994,
          8910.152857142852,
          8756.159999999994,
          8621.268571428565,
          8621.452857142851,
          8620.337142857137,
          8294.334285714282,
          8408.817142857139,
          8145.1357142857105,
          8196.869999999995,
          8294.922857142852,
          8295.608571428567,
          8293.211428571423,
          8423.274285714282,
          8214.552857142853,
          8171.274285714281,
          8305.03428571428,
          8428.59571428571,
          8428.02571428571,
          8428.02571428571,
          8596.511428571424,
          8636.03428571428,
          8766.495714285707,
          8583.11285714285,
          8852.122857142851,
          8851.997142857137,
          8853.027142857138,
          9038.91571428571,
          8947.65571428571,
          9149.18285714285,
          9162.135714285707,
          8722.617142857136,
          8738.317142857135,
          8737.719999999992,
          8636.605714285706,
          8202.981428571422,
          8059.2514285714215,
          8119.442857142851,
          8210.301428571422,
          8194.03285714285,
          8195.611428571423,
          9153.17428571428,
          10497.388571428566,
          11029.807142857137,
          11652.761428571423,
          12698.557142857138,
          12701.017142857138,
          12699.00571428571,
          14413.73285714285,
          14985.624285714277,
          16086.55142857142,
          16584.15142857142
         ]
        },
        {
         "line": {
          "color": "#b61319"
         },
         "name": "Thicket 7",
         "showlegend": true,
         "type": "scatter",
         "uid": "d0566dda-1d0c-44f5-80b3-665f3743474e",
         "x": [
          "2020-02-03T00:00:00",
          "2020-02-04T00:00:00",
          "2020-02-05T00:00:00",
          "2020-02-06T00:00:00",
          "2020-02-07T00:00:00",
          "2020-02-08T00:00:00",
          "2020-02-09T00:00:00",
          "2020-02-10T00:00:00",
          "2020-02-11T00:00:00",
          "2020-02-12T00:00:00",
          "2020-02-13T00:00:00",
          "2020-02-14T00:00:00",
          "2020-02-15T00:00:00",
          "2020-02-16T00:00:00",
          "2020-02-17T00:00:00",
          "2020-02-18T00:00:00",
          "2020-02-19T00:00:00",
          "2020-02-20T00:00:00",
          "2020-02-21T00:00:00",
          "2020-02-22T00:00:00",
          "2020-02-23T00:00:00",
          "2020-02-24T00:00:00",
          "2020-02-25T00:00:00",
          "2020-02-26T00:00:00",
          "2020-02-27T00:00:00",
          "2020-02-28T00:00:00",
          "2020-02-29T00:00:00",
          "2020-03-01T00:00:00",
          "2020-03-02T00:00:00",
          "2020-03-03T00:00:00",
          "2020-03-04T00:00:00",
          "2020-03-05T00:00:00",
          "2020-03-06T00:00:00",
          "2020-03-07T00:00:00",
          "2020-03-08T00:00:00",
          "2020-03-09T00:00:00",
          "2020-03-10T00:00:00",
          "2020-03-11T00:00:00",
          "2020-03-12T00:00:00",
          "2020-03-13T00:00:00",
          "2020-03-14T00:00:00",
          "2020-03-15T00:00:00",
          "2020-03-16T00:00:00",
          "2020-03-17T00:00:00",
          "2020-03-18T00:00:00",
          "2020-03-19T00:00:00",
          "2020-03-20T00:00:00",
          "2020-03-21T00:00:00",
          "2020-03-22T00:00:00",
          "2020-03-23T00:00:00",
          "2020-03-24T00:00:00",
          "2020-03-25T00:00:00",
          "2020-03-26T00:00:00",
          "2020-03-27T00:00:00",
          "2020-03-28T00:00:00",
          "2020-03-29T00:00:00",
          "2020-03-30T00:00:00",
          "2020-03-31T00:00:00",
          "2020-04-01T00:00:00",
          "2020-04-02T00:00:00"
         ],
         "y": [
          2880.1685714285713,
          2833.2057142857147,
          2745.535714285714,
          2676.2028571428573,
          2616.8571428571436,
          2616.681428571429,
          2616.968571428572,
          2454.2242857142855,
          2431.4914285714285,
          2361.574285714286,
          2348.4185714285713,
          2382.5499999999997,
          2382.725714285714,
          2384.1485714285714,
          2504.7471428571434,
          2472.154285714286,
          2566.5157142857142,
          2585.304285714286,
          2569.188571428572,
          2569.0528571428576,
          2567.342857142857,
          2423.2757142857145,
          2351.2714285714287,
          2307.39,
          2297.3485714285716,
          2279.9357142857143,
          2279.7228571428573,
          2279.7228571428573,
          2251.1028571428574,
          2229.2914285714287,
          2224.7300000000005,
          2167.3014285714285,
          2212.551428571429,
          2212.9000000000005,
          2212.797142857143,
          2173.6100000000006,
          2222.8357142857153,
          2193.4414285714292,
          2146.5157142857147,
          2076.3528571428574,
          2076.3528571428574,
          2076.4557142857147,
          2006.2485714285722,
          1946.5157142857151,
          1900.095714285715,
          1743.4271428571435,
          1927.3942857142865,
          1927.3942857142865,
          1927.3942857142865,
          2212.982857142858,
          2377.447142857144,
          2623.6114285714293,
          2960.331428571429,
          2941.9942857142864,
          2941.7442857142864,
          2941.7442857142864,
          3170.9528571428577,
          3240.247142857144,
          3232.268571428572,
          3250.9528571428577
         ]
        },
        {
         "line": {
          "color": "#5e3a98"
         },
         "name": "Thicket 8",
         "showlegend": true,
         "type": "scatter",
         "uid": "ca85af34-659f-49b5-b271-08394112cced",
         "x": [
          "2020-02-03T00:00:00",
          "2020-02-04T00:00:00",
          "2020-02-05T00:00:00",
          "2020-02-06T00:00:00",
          "2020-02-07T00:00:00",
          "2020-02-08T00:00:00",
          "2020-02-09T00:00:00",
          "2020-02-10T00:00:00",
          "2020-02-11T00:00:00",
          "2020-02-12T00:00:00",
          "2020-02-13T00:00:00",
          "2020-02-14T00:00:00",
          "2020-02-15T00:00:00",
          "2020-02-16T00:00:00",
          "2020-02-17T00:00:00",
          "2020-02-18T00:00:00",
          "2020-02-19T00:00:00",
          "2020-02-20T00:00:00",
          "2020-02-21T00:00:00",
          "2020-02-22T00:00:00",
          "2020-02-23T00:00:00",
          "2020-02-24T00:00:00",
          "2020-02-25T00:00:00",
          "2020-02-26T00:00:00",
          "2020-02-27T00:00:00",
          "2020-02-28T00:00:00",
          "2020-02-29T00:00:00",
          "2020-03-01T00:00:00",
          "2020-03-02T00:00:00",
          "2020-03-03T00:00:00",
          "2020-03-04T00:00:00",
          "2020-03-05T00:00:00",
          "2020-03-06T00:00:00",
          "2020-03-07T00:00:00",
          "2020-03-08T00:00:00",
          "2020-03-09T00:00:00",
          "2020-03-10T00:00:00",
          "2020-03-11T00:00:00",
          "2020-03-12T00:00:00",
          "2020-03-13T00:00:00",
          "2020-03-14T00:00:00",
          "2020-03-15T00:00:00",
          "2020-03-16T00:00:00",
          "2020-03-17T00:00:00",
          "2020-03-18T00:00:00",
          "2020-03-19T00:00:00",
          "2020-03-20T00:00:00",
          "2020-03-21T00:00:00",
          "2020-03-22T00:00:00",
          "2020-03-23T00:00:00",
          "2020-03-24T00:00:00",
          "2020-03-25T00:00:00",
          "2020-03-26T00:00:00",
          "2020-03-27T00:00:00",
          "2020-03-28T00:00:00",
          "2020-03-29T00:00:00",
          "2020-03-30T00:00:00",
          "2020-03-31T00:00:00",
          "2020-04-01T00:00:00",
          "2020-04-02T00:00:00"
         ],
         "y": [
          6628.788571428564,
          6647.504285714277,
          6566.275714285705,
          6695.5242857142775,
          6654.502857142848,
          6652.64142857142,
          6654.314285714277,
          6445.614285714278,
          6289.19285714285,
          6370.959999999993,
          6489.925714285707,
          6375.131428571421,
          6374.288571428564,
          6374.281428571421,
          6374.7799999999925,
          6465.43285714285,
          6435.669999999993,
          6167.90285714285,
          6342.242857142849,
          6341.12285714285,
          6341.289999999993,
          6202.202857142851,
          6062.492857142851,
          6084.448571428565,
          6332.367142857137,
          6429.157142857136,
          6429.967142857136,
          6429.488571428565,
          7067.0857142857085,
          7531.859999999995,
          7655.6699999999955,
          7547.748571428566,
          7543.639999999995,
          7546.569999999995,
          7547.048571428567,
          8421.737142857137,
          8328.741428571422,
          8466.408571428565,
          8618.178571428567,
          8693.475714285709,
          8690.001428571424,
          8690.001428571424,
          8008.622857142853,
          7864.201428571424,
          7821.745714285709,
          7799.577142857138,
          7740.752857142853,
          7757.402857142852,
          7757.402857142852,
          8755.447142857138,
          9801.828571428565,
          10546.915714285711,
          11342.334285714283,
          12263.624285714284,
          12248.944285714284,
          12255.455714285712,
          14350.574285714287,
          14667.998571428572,
          15790.105714285713,
          16792.474285714285
         ]
        }
       ],
       "layout": {
        "barmode": "overlay",
        "height": 500,
        "hovermode": "x",
        "legend": {
         "orientation": "v",
         "x": 1.05,
         "xanchor": "left",
         "y": 0.5
        },
        "margin": {
         "autoexpand": true,
         "b": 100,
         "l": 25,
         "pad": 0,
         "r": 25,
         "t": 100
        },
        "showlegend": true,
        "template": {
         "data": {
          "bar": [
           {
            "error_x": {
             "color": "#f2f5fa"
            },
            "error_y": {
             "color": "#f2f5fa"
            },
            "marker": {
             "line": {
              "color": "rgb(17,17,17)",
              "width": 0.5
             }
            },
            "type": "bar"
           }
          ],
          "barpolar": [
           {
            "marker": {
             "line": {
              "color": "rgb(17,17,17)",
              "width": 0.5
             }
            },
            "type": "barpolar"
           }
          ],
          "carpet": [
           {
            "aaxis": {
             "endlinecolor": "#A2B1C6",
             "gridcolor": "#506784",
             "linecolor": "#506784",
             "minorgridcolor": "#506784",
             "startlinecolor": "#A2B1C6"
            },
            "baxis": {
             "endlinecolor": "#A2B1C6",
             "gridcolor": "#506784",
             "linecolor": "#506784",
             "minorgridcolor": "#506784",
             "startlinecolor": "#A2B1C6"
            },
            "type": "carpet"
           }
          ],
          "choropleth": [
           {
            "colorbar": {
             "outlinewidth": 0,
             "ticks": ""
            },
            "type": "choropleth"
           }
          ],
          "contour": [
           {
            "colorbar": {
             "outlinewidth": 0,
             "ticks": ""
            },
            "colorscale": [
             [
              0,
              "#0d0887"
             ],
             [
              0.1111111111111111,
              "#46039f"
             ],
             [
              0.2222222222222222,
              "#7201a8"
             ],
             [
              0.3333333333333333,
              "#9c179e"
             ],
             [
              0.4444444444444444,
              "#bd3786"
             ],
             [
              0.5555555555555556,
              "#d8576b"
             ],
             [
              0.6666666666666666,
              "#ed7953"
             ],
             [
              0.7777777777777778,
              "#fb9f3a"
             ],
             [
              0.8888888888888888,
              "#fdca26"
             ],
             [
              1,
              "#f0f921"
             ]
            ],
            "type": "contour"
           }
          ],
          "contourcarpet": [
           {
            "colorbar": {
             "outlinewidth": 0,
             "ticks": ""
            },
            "type": "contourcarpet"
           }
          ],
          "heatmap": [
           {
            "colorbar": {
             "outlinewidth": 0,
             "ticks": ""
            },
            "colorscale": [
             [
              0,
              "#0d0887"
             ],
             [
              0.1111111111111111,
              "#46039f"
             ],
             [
              0.2222222222222222,
              "#7201a8"
             ],
             [
              0.3333333333333333,
              "#9c179e"
             ],
             [
              0.4444444444444444,
              "#bd3786"
             ],
             [
              0.5555555555555556,
              "#d8576b"
             ],
             [
              0.6666666666666666,
              "#ed7953"
             ],
             [
              0.7777777777777778,
              "#fb9f3a"
             ],
             [
              0.8888888888888888,
              "#fdca26"
             ],
             [
              1,
              "#f0f921"
             ]
            ],
            "type": "heatmap"
           }
          ],
          "heatmapgl": [
           {
            "colorbar": {
             "outlinewidth": 0,
             "ticks": ""
            },
            "colorscale": [
             [
              0,
              "#0d0887"
             ],
             [
              0.1111111111111111,
              "#46039f"
             ],
             [
              0.2222222222222222,
              "#7201a8"
             ],
             [
              0.3333333333333333,
              "#9c179e"
             ],
             [
              0.4444444444444444,
              "#bd3786"
             ],
             [
              0.5555555555555556,
              "#d8576b"
             ],
             [
              0.6666666666666666,
              "#ed7953"
             ],
             [
              0.7777777777777778,
              "#fb9f3a"
             ],
             [
              0.8888888888888888,
              "#fdca26"
             ],
             [
              1,
              "#f0f921"
             ]
            ],
            "type": "heatmapgl"
           }
          ],
          "histogram": [
           {
            "marker": {
             "colorbar": {
              "outlinewidth": 0,
              "ticks": ""
             }
            },
            "type": "histogram"
           }
          ],
          "histogram2d": [
           {
            "colorbar": {
             "outlinewidth": 0,
             "ticks": ""
            },
            "colorscale": [
             [
              0,
              "#0d0887"
             ],
             [
              0.1111111111111111,
              "#46039f"
             ],
             [
              0.2222222222222222,
              "#7201a8"
             ],
             [
              0.3333333333333333,
              "#9c179e"
             ],
             [
              0.4444444444444444,
              "#bd3786"
             ],
             [
              0.5555555555555556,
              "#d8576b"
             ],
             [
              0.6666666666666666,
              "#ed7953"
             ],
             [
              0.7777777777777778,
              "#fb9f3a"
             ],
             [
              0.8888888888888888,
              "#fdca26"
             ],
             [
              1,
              "#f0f921"
             ]
            ],
            "type": "histogram2d"
           }
          ],
          "histogram2dcontour": [
           {
            "colorbar": {
             "outlinewidth": 0,
             "ticks": ""
            },
            "colorscale": [
             [
              0,
              "#0d0887"
             ],
             [
              0.1111111111111111,
              "#46039f"
             ],
             [
              0.2222222222222222,
              "#7201a8"
             ],
             [
              0.3333333333333333,
              "#9c179e"
             ],
             [
              0.4444444444444444,
              "#bd3786"
             ],
             [
              0.5555555555555556,
              "#d8576b"
             ],
             [
              0.6666666666666666,
              "#ed7953"
             ],
             [
              0.7777777777777778,
              "#fb9f3a"
             ],
             [
              0.8888888888888888,
              "#fdca26"
             ],
             [
              1,
              "#f0f921"
             ]
            ],
            "type": "histogram2dcontour"
           }
          ],
          "mesh3d": [
           {
            "colorbar": {
             "outlinewidth": 0,
             "ticks": ""
            },
            "type": "mesh3d"
           }
          ],
          "parcoords": [
           {
            "line": {
             "colorbar": {
              "outlinewidth": 0,
              "ticks": ""
             }
            },
            "type": "parcoords"
           }
          ],
          "pie": [
           {
            "automargin": true,
            "type": "pie"
           }
          ],
          "scatter": [
           {
            "marker": {
             "line": {
              "color": "#283442"
             }
            },
            "type": "scatter"
           }
          ],
          "scatter3d": [
           {
            "line": {
             "colorbar": {
              "outlinewidth": 0,
              "ticks": ""
             }
            },
            "marker": {
             "colorbar": {
              "outlinewidth": 0,
              "ticks": ""
             }
            },
            "type": "scatter3d"
           }
          ],
          "scattercarpet": [
           {
            "marker": {
             "colorbar": {
              "outlinewidth": 0,
              "ticks": ""
             }
            },
            "type": "scattercarpet"
           }
          ],
          "scattergeo": [
           {
            "marker": {
             "colorbar": {
              "outlinewidth": 0,
              "ticks": ""
             }
            },
            "type": "scattergeo"
           }
          ],
          "scattergl": [
           {
            "marker": {
             "line": {
              "color": "#283442"
             }
            },
            "type": "scattergl"
           }
          ],
          "scattermapbox": [
           {
            "marker": {
             "colorbar": {
              "outlinewidth": 0,
              "ticks": ""
             }
            },
            "type": "scattermapbox"
           }
          ],
          "scatterpolar": [
           {
            "marker": {
             "colorbar": {
              "outlinewidth": 0,
              "ticks": ""
             }
            },
            "type": "scatterpolar"
           }
          ],
          "scatterpolargl": [
           {
            "marker": {
             "colorbar": {
              "outlinewidth": 0,
              "ticks": ""
             }
            },
            "type": "scatterpolargl"
           }
          ],
          "scatterternary": [
           {
            "marker": {
             "colorbar": {
              "outlinewidth": 0,
              "ticks": ""
             }
            },
            "type": "scatterternary"
           }
          ],
          "surface": [
           {
            "colorbar": {
             "outlinewidth": 0,
             "ticks": ""
            },
            "colorscale": [
             [
              0,
              "#0d0887"
             ],
             [
              0.1111111111111111,
              "#46039f"
             ],
             [
              0.2222222222222222,
              "#7201a8"
             ],
             [
              0.3333333333333333,
              "#9c179e"
             ],
             [
              0.4444444444444444,
              "#bd3786"
             ],
             [
              0.5555555555555556,
              "#d8576b"
             ],
             [
              0.6666666666666666,
              "#ed7953"
             ],
             [
              0.7777777777777778,
              "#fb9f3a"
             ],
             [
              0.8888888888888888,
              "#fdca26"
             ],
             [
              1,
              "#f0f921"
             ]
            ],
            "type": "surface"
           }
          ],
          "table": [
           {
            "cells": {
             "fill": {
              "color": "#506784"
             },
             "line": {
              "color": "rgb(17,17,17)"
             }
            },
            "header": {
             "fill": {
              "color": "#2a3f5f"
             },
             "line": {
              "color": "rgb(17,17,17)"
             }
            },
            "type": "table"
           }
          ]
         },
         "layout": {
          "annotationdefaults": {
           "arrowcolor": "#f2f5fa",
           "arrowhead": 0,
           "arrowwidth": 1
          },
          "coloraxis": {
           "colorbar": {
            "outlinewidth": 0,
            "ticks": ""
           }
          },
          "colorscale": {
           "diverging": [
            [
             0,
             "#8e0152"
            ],
            [
             0.1,
             "#c51b7d"
            ],
            [
             0.2,
             "#de77ae"
            ],
            [
             0.3,
             "#f1b6da"
            ],
            [
             0.4,
             "#fde0ef"
            ],
            [
             0.5,
             "#f7f7f7"
            ],
            [
             0.6,
             "#e6f5d0"
            ],
            [
             0.7,
             "#b8e186"
            ],
            [
             0.8,
             "#7fbc41"
            ],
            [
             0.9,
             "#4d9221"
            ],
            [
             1,
             "#276419"
            ]
           ],
           "sequential": [
            [
             0,
             "#0d0887"
            ],
            [
             0.1111111111111111,
             "#46039f"
            ],
            [
             0.2222222222222222,
             "#7201a8"
            ],
            [
             0.3333333333333333,
             "#9c179e"
            ],
            [
             0.4444444444444444,
             "#bd3786"
            ],
            [
             0.5555555555555556,
             "#d8576b"
            ],
            [
             0.6666666666666666,
             "#ed7953"
            ],
            [
             0.7777777777777778,
             "#fb9f3a"
            ],
            [
             0.8888888888888888,
             "#fdca26"
            ],
            [
             1,
             "#f0f921"
            ]
           ],
           "sequentialminus": [
            [
             0,
             "#0d0887"
            ],
            [
             0.1111111111111111,
             "#46039f"
            ],
            [
             0.2222222222222222,
             "#7201a8"
            ],
            [
             0.3333333333333333,
             "#9c179e"
            ],
            [
             0.4444444444444444,
             "#bd3786"
            ],
            [
             0.5555555555555556,
             "#d8576b"
            ],
            [
             0.6666666666666666,
             "#ed7953"
            ],
            [
             0.7777777777777778,
             "#fb9f3a"
            ],
            [
             0.8888888888888888,
             "#fdca26"
            ],
            [
             1,
             "#f0f921"
            ]
           ]
          },
          "colorway": [
           "#636efa",
           "#EF553B",
           "#00cc96",
           "#ab63fa",
           "#FFA15A",
           "#19d3f3",
           "#FF6692",
           "#B6E880",
           "#FF97FF",
           "#FECB52"
          ],
          "font": {
           "color": "#f2f5fa"
          },
          "geo": {
           "bgcolor": "rgb(17,17,17)",
           "lakecolor": "rgb(17,17,17)",
           "landcolor": "rgb(17,17,17)",
           "showlakes": true,
           "showland": true,
           "subunitcolor": "#506784"
          },
          "hoverlabel": {
           "align": "left"
          },
          "hovermode": "closest",
          "mapbox": {
           "style": "dark"
          },
          "paper_bgcolor": "rgb(17,17,17)",
          "plot_bgcolor": "rgb(17,17,17)",
          "polar": {
           "angularaxis": {
            "gridcolor": "#506784",
            "linecolor": "#506784",
            "ticks": ""
           },
           "bgcolor": "rgb(17,17,17)",
           "radialaxis": {
            "gridcolor": "#506784",
            "linecolor": "#506784",
            "ticks": ""
           }
          },
          "scene": {
           "xaxis": {
            "backgroundcolor": "rgb(17,17,17)",
            "gridcolor": "#506784",
            "gridwidth": 2,
            "linecolor": "#506784",
            "showbackground": true,
            "ticks": "",
            "zerolinecolor": "#C8D4E3"
           },
           "yaxis": {
            "backgroundcolor": "rgb(17,17,17)",
            "gridcolor": "#506784",
            "gridwidth": 2,
            "linecolor": "#506784",
            "showbackground": true,
            "ticks": "",
            "zerolinecolor": "#C8D4E3"
           },
           "zaxis": {
            "backgroundcolor": "rgb(17,17,17)",
            "gridcolor": "#506784",
            "gridwidth": 2,
            "linecolor": "#506784",
            "showbackground": true,
            "ticks": "",
            "zerolinecolor": "#C8D4E3"
           }
          },
          "shapedefaults": {
           "line": {
            "color": "#f2f5fa"
           }
          },
          "sliderdefaults": {
           "bgcolor": "#C8D4E3",
           "bordercolor": "rgb(17,17,17)",
           "borderwidth": 1,
           "tickwidth": 0
          },
          "ternary": {
           "aaxis": {
            "gridcolor": "#506784",
            "linecolor": "#506784",
            "ticks": ""
           },
           "baxis": {
            "gridcolor": "#506784",
            "linecolor": "#506784",
            "ticks": ""
           },
           "bgcolor": "rgb(17,17,17)",
           "caxis": {
            "gridcolor": "#506784",
            "linecolor": "#506784",
            "ticks": ""
           }
          },
          "title": {
           "x": 0.05
          },
          "updatemenudefaults": {
           "bgcolor": "#506784",
           "borderwidth": 0
          },
          "xaxis": {
           "automargin": true,
           "gridcolor": "#283442",
           "linecolor": "#506784",
           "ticks": "",
           "title": {
            "standoff": 15
           },
           "zerolinecolor": "#283442",
           "zerolinewidth": 2
          },
          "yaxis": {
           "automargin": true,
           "gridcolor": "#283442",
           "linecolor": "#506784",
           "ticks": "",
           "title": {
            "standoff": 15
           },
           "zerolinecolor": "#283442",
           "zerolinewidth": 2
          }
         }
        },
        "title": {
         "font": {
          "size": 24
         },
         "text": "iStore Sales by Thicket - 7 Day Avg",
         "x": 0,
         "xanchor": "left",
         "xref": "paper",
         "y": 0.95
        },
        "width": 1000,
        "xaxis": {
         "dtick": 604800000,
         "showgrid": true,
         "tickfont": {
          "family": "Arial, san-serif",
          "size": 10
         },
         "tickformat": "%Y-%m-%d",
         "title": {
          "text": ""
         },
         "type": "date"
        },
        "yaxis": {
         "hoverformat": "$,.0f",
         "tickfont": {
          "family": "Arial, san-serif",
          "size": 10
         },
         "tickformat": "$,.0f",
         "title": {
          "font": {
           "family": "Arial, san-serif",
           "size": 10
          },
          "text": "Avg Sales $"
         }
        }
       }
      },
      "text/html": [
       "<div>\n",
       "        \n",
       "        \n",
       "            <div id=\"a49e91f2-df34-47a3-bd7d-c2caf782cccb\" class=\"plotly-graph-div\" style=\"height:500px; width:1000px;\"></div>\n",
       "            <script type=\"text/javascript\">\n",
       "                require([\"plotly\"], function(Plotly) {\n",
       "                    window.PLOTLYENV=window.PLOTLYENV || {};\n",
       "                    \n",
       "                if (document.getElementById(\"a49e91f2-df34-47a3-bd7d-c2caf782cccb\")) {\n",
       "                    Plotly.newPlot(\n",
       "                        'a49e91f2-df34-47a3-bd7d-c2caf782cccb',\n",
       "                        [{\"line\": {\"color\": \"#a1cbe2\"}, \"name\": \"Thicket 1\", \"showlegend\": true, \"type\": \"scatter\", \"uid\": \"136ded17-e794-4577-be19-9f754c92540e\", \"x\": [\"2020-02-03T00:00:00\", \"2020-02-04T00:00:00\", \"2020-02-05T00:00:00\", \"2020-02-06T00:00:00\", \"2020-02-07T00:00:00\", \"2020-02-08T00:00:00\", \"2020-02-09T00:00:00\", \"2020-02-10T00:00:00\", \"2020-02-11T00:00:00\", \"2020-02-12T00:00:00\", \"2020-02-13T00:00:00\", \"2020-02-14T00:00:00\", \"2020-02-15T00:00:00\", \"2020-02-16T00:00:00\", \"2020-02-17T00:00:00\", \"2020-02-18T00:00:00\", \"2020-02-19T00:00:00\", \"2020-02-20T00:00:00\", \"2020-02-21T00:00:00\", \"2020-02-22T00:00:00\", \"2020-02-23T00:00:00\", \"2020-02-24T00:00:00\", \"2020-02-25T00:00:00\", \"2020-02-26T00:00:00\", \"2020-02-27T00:00:00\", \"2020-02-28T00:00:00\", \"2020-02-29T00:00:00\", \"2020-03-01T00:00:00\", \"2020-03-02T00:00:00\", \"2020-03-03T00:00:00\", \"2020-03-04T00:00:00\", \"2020-03-05T00:00:00\", \"2020-03-06T00:00:00\", \"2020-03-07T00:00:00\", \"2020-03-08T00:00:00\", \"2020-03-09T00:00:00\", \"2020-03-10T00:00:00\", \"2020-03-11T00:00:00\", \"2020-03-12T00:00:00\", \"2020-03-13T00:00:00\", \"2020-03-14T00:00:00\", \"2020-03-15T00:00:00\", \"2020-03-16T00:00:00\", \"2020-03-17T00:00:00\", \"2020-03-18T00:00:00\", \"2020-03-19T00:00:00\", \"2020-03-20T00:00:00\", \"2020-03-21T00:00:00\", \"2020-03-22T00:00:00\", \"2020-03-23T00:00:00\", \"2020-03-24T00:00:00\", \"2020-03-25T00:00:00\", \"2020-03-26T00:00:00\", \"2020-03-27T00:00:00\", \"2020-03-28T00:00:00\", \"2020-03-29T00:00:00\", \"2020-03-30T00:00:00\", \"2020-03-31T00:00:00\", \"2020-04-01T00:00:00\", \"2020-04-02T00:00:00\"], \"y\": [9782.824285714294, 9408.572857142866, 9067.392857142868, 8926.527142857154, 8701.12000000001, 8688.332857142868, 8686.017142857154, 8496.581428571439, 8412.652857142868, 8582.945714285726, 8680.854285714298, 8735.441428571441, 8738.924285714298, 8739.245714285727, 8527.648571428585, 8777.514285714298, 8525.821428571442, 8487.355714285728, 8499.677142857157, 8503.3342857143, 8503.760000000013, 8862.148571428585, 8674.627142857156, 8789.255714285728, 8852.590000000015, 8706.967142857156, 8697.901428571442, 8697.190000000015, 8900.951428571443, 8887.697142857158, 8906.451428571445, 8590.09571428573, 8662.92714285716, 8666.27714285716, 8672.541428571445, 8483.110000000015, 8214.402857142873, 8189.071428571444, 8343.838571428587, 8458.398571428586, 8453.188571428587, 8447.06571428573, 8862.252857142874, 9002.622857142875, 9035.558571428588, 8960.745714285731, 8855.44571428573, 8857.191428571443, 8856.894285714301, 9633.8342857143, 10571.078571428587, 11204.514285714302, 12339.19571428573, 13436.914285714302, 13444.872857142875, 13445.740000000018, 16129.48000000002, 17390.774285714306, 18451.8942857143, 19298.530000000017]}, {\"line\": {\"color\": \"#08488e\"}, \"name\": \"Thicket 2\", \"showlegend\": true, \"type\": \"scatter\", \"uid\": \"3aa70758-ba80-411e-b00d-e312059714fe\", \"x\": [\"2020-02-03T00:00:00\", \"2020-02-04T00:00:00\", \"2020-02-05T00:00:00\", \"2020-02-06T00:00:00\", \"2020-02-07T00:00:00\", \"2020-02-08T00:00:00\", \"2020-02-09T00:00:00\", \"2020-02-10T00:00:00\", \"2020-02-11T00:00:00\", \"2020-02-12T00:00:00\", \"2020-02-13T00:00:00\", \"2020-02-14T00:00:00\", \"2020-02-15T00:00:00\", \"2020-02-16T00:00:00\", \"2020-02-17T00:00:00\", \"2020-02-18T00:00:00\", \"2020-02-19T00:00:00\", \"2020-02-20T00:00:00\", \"2020-02-21T00:00:00\", \"2020-02-22T00:00:00\", \"2020-02-23T00:00:00\", \"2020-02-24T00:00:00\", \"2020-02-25T00:00:00\", \"2020-02-26T00:00:00\", \"2020-02-27T00:00:00\", \"2020-02-28T00:00:00\", \"2020-02-29T00:00:00\", \"2020-03-01T00:00:00\", \"2020-03-02T00:00:00\", \"2020-03-03T00:00:00\", \"2020-03-04T00:00:00\", \"2020-03-05T00:00:00\", \"2020-03-06T00:00:00\", \"2020-03-07T00:00:00\", \"2020-03-08T00:00:00\", \"2020-03-09T00:00:00\", \"2020-03-10T00:00:00\", \"2020-03-11T00:00:00\", \"2020-03-12T00:00:00\", \"2020-03-13T00:00:00\", \"2020-03-14T00:00:00\", \"2020-03-15T00:00:00\", \"2020-03-16T00:00:00\", \"2020-03-17T00:00:00\", \"2020-03-18T00:00:00\", \"2020-03-19T00:00:00\", \"2020-03-20T00:00:00\", \"2020-03-21T00:00:00\", \"2020-03-22T00:00:00\", \"2020-03-23T00:00:00\", \"2020-03-24T00:00:00\", \"2020-03-25T00:00:00\", \"2020-03-26T00:00:00\", \"2020-03-27T00:00:00\", \"2020-03-28T00:00:00\", \"2020-03-29T00:00:00\", \"2020-03-30T00:00:00\", \"2020-03-31T00:00:00\", \"2020-04-01T00:00:00\", \"2020-04-02T00:00:00\"], \"y\": [11292.975714285738, 10806.851428571452, 11039.654285714309, 11178.118571428595, 10635.208571428595, 10621.46142857145, 10618.015714285737, 9834.781428571454, 9843.27285714288, 9690.011428571452, 9636.85428571431, 9725.878571428595, 9753.527142857169, 9753.55714285717, 9563.391428571456, 9753.688571428602, 9812.424285714316, 9595.758571428601, 9543.832857142888, 9514.584285714316, 9513.452857142887, 9701.19142857146, 9446.63000000003, 9415.227142857171, 9714.78714285717, 9705.842857142885, 9708.284285714313, 9708.73571428574, 9645.414285714312, 9848.554285714312, 9634.524285714313, 9393.708571428599, 9384.752857142885, 9385.091428571457, 9386.637142857173, 9402.642857142886, 8807.072857142888, 9024.83142857146, 8898.634285714315, 8816.872857142886, 8821.03000000003, 8819.594285714315, 9238.438571428602, 9293.042857142887, 9638.435714285744, 9973.160000000029, 10029.967142857171, 10023.827142857172, 10023.604285714315, 11537.1685714286, 12551.18714285717, 12775.531428571456, 13944.412857142885, 15674.797142857171, 15685.218571428599, 15691.194285714313, 19422.631428571458, 20674.6885714286, 22144.94428571432, 22136.215714285743]}, {\"line\": {\"color\": \"#62bb6d\"}, \"name\": \"Thicket 3\", \"showlegend\": true, \"type\": \"scatter\", \"uid\": \"8d134d3a-8c69-4159-847a-38e492242285\", \"x\": [\"2020-02-03T00:00:00\", \"2020-02-04T00:00:00\", \"2020-02-05T00:00:00\", \"2020-02-06T00:00:00\", \"2020-02-07T00:00:00\", \"2020-02-08T00:00:00\", \"2020-02-09T00:00:00\", \"2020-02-10T00:00:00\", \"2020-02-11T00:00:00\", \"2020-02-12T00:00:00\", \"2020-02-13T00:00:00\", \"2020-02-14T00:00:00\", \"2020-02-15T00:00:00\", \"2020-02-16T00:00:00\", \"2020-02-17T00:00:00\", \"2020-02-18T00:00:00\", \"2020-02-19T00:00:00\", \"2020-02-20T00:00:00\", \"2020-02-21T00:00:00\", \"2020-02-22T00:00:00\", \"2020-02-23T00:00:00\", \"2020-02-24T00:00:00\", \"2020-02-25T00:00:00\", \"2020-02-26T00:00:00\", \"2020-02-27T00:00:00\", \"2020-02-28T00:00:00\", \"2020-02-29T00:00:00\", \"2020-03-01T00:00:00\", \"2020-03-02T00:00:00\", \"2020-03-03T00:00:00\", \"2020-03-04T00:00:00\", \"2020-03-05T00:00:00\", \"2020-03-06T00:00:00\", \"2020-03-07T00:00:00\", \"2020-03-08T00:00:00\", \"2020-03-09T00:00:00\", \"2020-03-10T00:00:00\", \"2020-03-11T00:00:00\", \"2020-03-12T00:00:00\", \"2020-03-13T00:00:00\", \"2020-03-14T00:00:00\", \"2020-03-15T00:00:00\", \"2020-03-16T00:00:00\", \"2020-03-17T00:00:00\", \"2020-03-18T00:00:00\", \"2020-03-19T00:00:00\", \"2020-03-20T00:00:00\", \"2020-03-21T00:00:00\", \"2020-03-22T00:00:00\", \"2020-03-23T00:00:00\", \"2020-03-24T00:00:00\", \"2020-03-25T00:00:00\", \"2020-03-26T00:00:00\", \"2020-03-27T00:00:00\", \"2020-03-28T00:00:00\", \"2020-03-29T00:00:00\", \"2020-03-30T00:00:00\", \"2020-03-31T00:00:00\", \"2020-04-01T00:00:00\", \"2020-04-02T00:00:00\"], \"y\": [9.898875370189281e-12, 9.898875370189281e-12, 9.898875370189281e-12, 9.898875370189281e-12, 9.898875370189281e-12, 9.898875370189281e-12, 9.898875370189281e-12, 9.898875370189281e-12, 9.898875370189281e-12, 9.898875370189281e-12, 9.898875370189281e-12, 9.898875370189281e-12, 9.898875370189281e-12, 9.898875370189281e-12, 9.898875370189281e-12, 9.898875370189281e-12, 9.898875370189281e-12, 9.898875370189281e-12, 9.898875370189281e-12, 9.898875370189281e-12, 9.898875370189281e-12, 9.898875370189281e-12, 9.898875370189281e-12, 9.898875370189281e-12, 9.898875370189281e-12, 9.898875370189281e-12, 9.898875370189281e-12, 9.898875370189281e-12, 9.898875370189281e-12, 9.898875370189281e-12, 9.898875370189281e-12, 9.898875370189281e-12, 9.898875370189281e-12, 9.898875370189281e-12, 9.898875370189281e-12, 9.898875370189281e-12, 9.898875370189281e-12, 9.898875370189281e-12, 9.898875370189281e-12, 9.898875370189281e-12, 9.898875370189281e-12, 9.898875370189281e-12, 9.898875370189281e-12, 9.898875370189281e-12, 9.898875370189281e-12, 9.898875370189281e-12, 9.898875370189281e-12, 9.898875370189281e-12, 9.898875370189281e-12, 9.898875370189281e-12, 9.898875370189281e-12, 9.898875370189281e-12, 9.898875370189281e-12, 9.898875370189281e-12, 9.898875370189281e-12, 9.898875370189281e-12, 9.898875370189281e-12, 9.898875370189281e-12, 9.898875370189281e-12, 9.898875370189281e-12]}, {\"line\": {\"color\": \"#006227\"}, \"name\": \"Thicket 4\", \"showlegend\": true, \"type\": \"scatter\", \"uid\": \"930ad904-6ca8-4181-8859-bec681b32b3f\", \"x\": [\"2020-02-03T00:00:00\", \"2020-02-04T00:00:00\", \"2020-02-05T00:00:00\", \"2020-02-06T00:00:00\", \"2020-02-07T00:00:00\", \"2020-02-08T00:00:00\", \"2020-02-09T00:00:00\", \"2020-02-10T00:00:00\", \"2020-02-11T00:00:00\", \"2020-02-12T00:00:00\", \"2020-02-13T00:00:00\", \"2020-02-14T00:00:00\", \"2020-02-15T00:00:00\", \"2020-02-16T00:00:00\", \"2020-02-17T00:00:00\", \"2020-02-18T00:00:00\", \"2020-02-19T00:00:00\", \"2020-02-20T00:00:00\", \"2020-02-21T00:00:00\", \"2020-02-22T00:00:00\", \"2020-02-23T00:00:00\", \"2020-02-24T00:00:00\", \"2020-02-25T00:00:00\", \"2020-02-26T00:00:00\", \"2020-02-27T00:00:00\", \"2020-02-28T00:00:00\", \"2020-02-29T00:00:00\", \"2020-03-01T00:00:00\", \"2020-03-02T00:00:00\", \"2020-03-03T00:00:00\", \"2020-03-04T00:00:00\", \"2020-03-05T00:00:00\", \"2020-03-06T00:00:00\", \"2020-03-07T00:00:00\", \"2020-03-08T00:00:00\", \"2020-03-09T00:00:00\", \"2020-03-10T00:00:00\", \"2020-03-11T00:00:00\", \"2020-03-12T00:00:00\", \"2020-03-13T00:00:00\", \"2020-03-14T00:00:00\", \"2020-03-15T00:00:00\", \"2020-03-16T00:00:00\", \"2020-03-17T00:00:00\", \"2020-03-18T00:00:00\", \"2020-03-19T00:00:00\", \"2020-03-20T00:00:00\", \"2020-03-21T00:00:00\", \"2020-03-22T00:00:00\", \"2020-03-23T00:00:00\", \"2020-03-24T00:00:00\", \"2020-03-25T00:00:00\", \"2020-03-26T00:00:00\", \"2020-03-27T00:00:00\", \"2020-03-28T00:00:00\", \"2020-03-29T00:00:00\", \"2020-03-30T00:00:00\", \"2020-03-31T00:00:00\", \"2020-04-01T00:00:00\", \"2020-04-02T00:00:00\"], \"y\": [10544.258571428576, 10343.864285714288, 9826.490000000003, 9801.21285714286, 9633.265714285717, 9634.302857142859, 9635.43285714286, 9185.282857142858, 9059.665714285717, 8893.702857142862, 8777.22285714286, 8645.007142857148, 8644.175714285719, 8643.96571428572, 7999.700000000005, 7830.644285714291, 8360.121428571434, 8500.302857142862, 8657.820000000005, 8662.200000000006, 8662.297142857149, 9263.531428571436, 9393.232857142862, 9165.715714285718, 8969.718571428575, 8941.602857142861, 8937.76428571429, 8937.91428571429, 9091.99571428572, 9006.927142857148, 9027.394285714292, 9042.578571428578, 8766.552857142864, 8780.90857142858, 8781.020000000008, 8425.630000000006, 8562.102857142863, 8450.222857142862, 8603.422857142863, 8798.801428571436, 8785.015714285722, 8785.015714285722, 9005.672857142865, 8907.261428571437, 8931.995714285724, 8935.541428571438, 8950.644285714296, 8951.608571428582, 8954.352857142867, 10421.232857142868, 11929.124285714297, 13536.950000000012, 15062.878571428582, 16894.69000000001, 16906.427142857152, 16901.660000000007, 21154.951428571432, 22043.038571428573, 23038.44714285715, 23592.330000000005]}, {\"line\": {\"color\": \"#fdca99\"}, \"name\": \"Thicket 5\", \"showlegend\": true, \"type\": \"scatter\", \"uid\": \"d7102f84-93ef-4d0c-acbe-ded58f337a79\", \"x\": [\"2020-02-03T00:00:00\", \"2020-02-04T00:00:00\", \"2020-02-05T00:00:00\", \"2020-02-06T00:00:00\", \"2020-02-07T00:00:00\", \"2020-02-08T00:00:00\", \"2020-02-09T00:00:00\", \"2020-02-10T00:00:00\", \"2020-02-11T00:00:00\", \"2020-02-12T00:00:00\", \"2020-02-13T00:00:00\", \"2020-02-14T00:00:00\", \"2020-02-15T00:00:00\", \"2020-02-16T00:00:00\", \"2020-02-17T00:00:00\", \"2020-02-18T00:00:00\", \"2020-02-19T00:00:00\", \"2020-02-20T00:00:00\", \"2020-02-21T00:00:00\", \"2020-02-22T00:00:00\", \"2020-02-23T00:00:00\", \"2020-02-24T00:00:00\", \"2020-02-25T00:00:00\", \"2020-02-26T00:00:00\", \"2020-02-27T00:00:00\", \"2020-02-28T00:00:00\", \"2020-02-29T00:00:00\", \"2020-03-01T00:00:00\", \"2020-03-02T00:00:00\", \"2020-03-03T00:00:00\", \"2020-03-04T00:00:00\", \"2020-03-05T00:00:00\", \"2020-03-06T00:00:00\", \"2020-03-07T00:00:00\", \"2020-03-08T00:00:00\", \"2020-03-09T00:00:00\", \"2020-03-10T00:00:00\", \"2020-03-11T00:00:00\", \"2020-03-12T00:00:00\", \"2020-03-13T00:00:00\", \"2020-03-14T00:00:00\", \"2020-03-15T00:00:00\", \"2020-03-16T00:00:00\", \"2020-03-17T00:00:00\", \"2020-03-18T00:00:00\", \"2020-03-19T00:00:00\", \"2020-03-20T00:00:00\", \"2020-03-21T00:00:00\", \"2020-03-22T00:00:00\", \"2020-03-23T00:00:00\", \"2020-03-24T00:00:00\", \"2020-03-25T00:00:00\", \"2020-03-26T00:00:00\", \"2020-03-27T00:00:00\", \"2020-03-28T00:00:00\", \"2020-03-29T00:00:00\", \"2020-03-30T00:00:00\", \"2020-03-31T00:00:00\", \"2020-04-01T00:00:00\", \"2020-04-02T00:00:00\"], \"y\": [11592.442857142849, 11217.757142857135, 11403.90285714285, 11250.585714285708, 10984.175714285708, 10984.957142857136, 10984.818571428565, 10367.319999999994, 10105.672857142852, 9728.884285714279, 9540.725714285709, 9470.999999999995, 9472.922857142852, 9474.431428571423, 9461.387142857138, 9699.208571428566, 9724.542857142851, 9712.748571428567, 9918.631428571423, 9919.61571428571, 9919.759999999997, 9678.341428571424, 9502.089999999997, 9456.665714285711, 9324.765714285712, 9100.551428571425, 9097.288571428568, 9096.004285714282, 9484.431428571426, 9615.572857142854, 9572.392857142855, 9565.187142857141, 9500.962857142853, 9506.088571428567, 9508.08571428571, 9119.475714285709, 8944.777142857138, 9088.357142857138, 9114.869999999995, 9559.498571428567, 9554.092857142852, 9553.80571428571, 9741.807142857138, 9757.89428571428, 9721.404285714278, 10025.194285714277, 9865.417142857137, 9870.368571428566, 9871.08428571428, 11800.771428571423, 13573.147142857139, 15494.489999999996, 17136.191428571427, 19047.572857142855, 19056.52571428571, 19054.1, 24177.681428571428, 25084.23857142857, 26094.718571428566, 27148.122857142855]}, {\"line\": {\"color\": \"#f9802d\"}, \"name\": \"Thicket 6\", \"showlegend\": true, \"type\": \"scatter\", \"uid\": \"2ca6f731-57e8-466b-abdc-85c4095f0352\", \"x\": [\"2020-02-03T00:00:00\", \"2020-02-04T00:00:00\", \"2020-02-05T00:00:00\", \"2020-02-06T00:00:00\", \"2020-02-07T00:00:00\", \"2020-02-08T00:00:00\", \"2020-02-09T00:00:00\", \"2020-02-10T00:00:00\", \"2020-02-11T00:00:00\", \"2020-02-12T00:00:00\", \"2020-02-13T00:00:00\", \"2020-02-14T00:00:00\", \"2020-02-15T00:00:00\", \"2020-02-16T00:00:00\", \"2020-02-17T00:00:00\", \"2020-02-18T00:00:00\", \"2020-02-19T00:00:00\", \"2020-02-20T00:00:00\", \"2020-02-21T00:00:00\", \"2020-02-22T00:00:00\", \"2020-02-23T00:00:00\", \"2020-02-24T00:00:00\", \"2020-02-25T00:00:00\", \"2020-02-26T00:00:00\", \"2020-02-27T00:00:00\", \"2020-02-28T00:00:00\", \"2020-02-29T00:00:00\", \"2020-03-01T00:00:00\", \"2020-03-02T00:00:00\", \"2020-03-03T00:00:00\", \"2020-03-04T00:00:00\", \"2020-03-05T00:00:00\", \"2020-03-06T00:00:00\", \"2020-03-07T00:00:00\", \"2020-03-08T00:00:00\", \"2020-03-09T00:00:00\", \"2020-03-10T00:00:00\", \"2020-03-11T00:00:00\", \"2020-03-12T00:00:00\", \"2020-03-13T00:00:00\", \"2020-03-14T00:00:00\", \"2020-03-15T00:00:00\", \"2020-03-16T00:00:00\", \"2020-03-17T00:00:00\", \"2020-03-18T00:00:00\", \"2020-03-19T00:00:00\", \"2020-03-20T00:00:00\", \"2020-03-21T00:00:00\", \"2020-03-22T00:00:00\", \"2020-03-23T00:00:00\", \"2020-03-24T00:00:00\", \"2020-03-25T00:00:00\", \"2020-03-26T00:00:00\", \"2020-03-27T00:00:00\", \"2020-03-28T00:00:00\", \"2020-03-29T00:00:00\", \"2020-03-30T00:00:00\", \"2020-03-31T00:00:00\", \"2020-04-01T00:00:00\", \"2020-04-02T00:00:00\"], \"y\": [10614.991428571424, 9994.05571428571, 9565.855714285708, 9307.551428571422, 9077.249999999995, 9076.379999999996, 9079.322857142852, 8871.579999999994, 8832.729999999994, 8910.152857142852, 8756.159999999994, 8621.268571428565, 8621.452857142851, 8620.337142857137, 8294.334285714282, 8408.817142857139, 8145.1357142857105, 8196.869999999995, 8294.922857142852, 8295.608571428567, 8293.211428571423, 8423.274285714282, 8214.552857142853, 8171.274285714281, 8305.03428571428, 8428.59571428571, 8428.02571428571, 8428.02571428571, 8596.511428571424, 8636.03428571428, 8766.495714285707, 8583.11285714285, 8852.122857142851, 8851.997142857137, 8853.027142857138, 9038.91571428571, 8947.65571428571, 9149.18285714285, 9162.135714285707, 8722.617142857136, 8738.317142857135, 8737.719999999992, 8636.605714285706, 8202.981428571422, 8059.2514285714215, 8119.442857142851, 8210.301428571422, 8194.03285714285, 8195.611428571423, 9153.17428571428, 10497.388571428566, 11029.807142857137, 11652.761428571423, 12698.557142857138, 12701.017142857138, 12699.00571428571, 14413.73285714285, 14985.624285714277, 16086.55142857142, 16584.15142857142]}, {\"line\": {\"color\": \"#b61319\"}, \"name\": \"Thicket 7\", \"showlegend\": true, \"type\": \"scatter\", \"uid\": \"d0566dda-1d0c-44f5-80b3-665f3743474e\", \"x\": [\"2020-02-03T00:00:00\", \"2020-02-04T00:00:00\", \"2020-02-05T00:00:00\", \"2020-02-06T00:00:00\", \"2020-02-07T00:00:00\", \"2020-02-08T00:00:00\", \"2020-02-09T00:00:00\", \"2020-02-10T00:00:00\", \"2020-02-11T00:00:00\", \"2020-02-12T00:00:00\", \"2020-02-13T00:00:00\", \"2020-02-14T00:00:00\", \"2020-02-15T00:00:00\", \"2020-02-16T00:00:00\", \"2020-02-17T00:00:00\", \"2020-02-18T00:00:00\", \"2020-02-19T00:00:00\", \"2020-02-20T00:00:00\", \"2020-02-21T00:00:00\", \"2020-02-22T00:00:00\", \"2020-02-23T00:00:00\", \"2020-02-24T00:00:00\", \"2020-02-25T00:00:00\", \"2020-02-26T00:00:00\", \"2020-02-27T00:00:00\", \"2020-02-28T00:00:00\", \"2020-02-29T00:00:00\", \"2020-03-01T00:00:00\", \"2020-03-02T00:00:00\", \"2020-03-03T00:00:00\", \"2020-03-04T00:00:00\", \"2020-03-05T00:00:00\", \"2020-03-06T00:00:00\", \"2020-03-07T00:00:00\", \"2020-03-08T00:00:00\", \"2020-03-09T00:00:00\", \"2020-03-10T00:00:00\", \"2020-03-11T00:00:00\", \"2020-03-12T00:00:00\", \"2020-03-13T00:00:00\", \"2020-03-14T00:00:00\", \"2020-03-15T00:00:00\", \"2020-03-16T00:00:00\", \"2020-03-17T00:00:00\", \"2020-03-18T00:00:00\", \"2020-03-19T00:00:00\", \"2020-03-20T00:00:00\", \"2020-03-21T00:00:00\", \"2020-03-22T00:00:00\", \"2020-03-23T00:00:00\", \"2020-03-24T00:00:00\", \"2020-03-25T00:00:00\", \"2020-03-26T00:00:00\", \"2020-03-27T00:00:00\", \"2020-03-28T00:00:00\", \"2020-03-29T00:00:00\", \"2020-03-30T00:00:00\", \"2020-03-31T00:00:00\", \"2020-04-01T00:00:00\", \"2020-04-02T00:00:00\"], \"y\": [2880.1685714285713, 2833.2057142857147, 2745.535714285714, 2676.2028571428573, 2616.8571428571436, 2616.681428571429, 2616.968571428572, 2454.2242857142855, 2431.4914285714285, 2361.574285714286, 2348.4185714285713, 2382.5499999999997, 2382.725714285714, 2384.1485714285714, 2504.7471428571434, 2472.154285714286, 2566.5157142857142, 2585.304285714286, 2569.188571428572, 2569.0528571428576, 2567.342857142857, 2423.2757142857145, 2351.2714285714287, 2307.39, 2297.3485714285716, 2279.9357142857143, 2279.7228571428573, 2279.7228571428573, 2251.1028571428574, 2229.2914285714287, 2224.7300000000005, 2167.3014285714285, 2212.551428571429, 2212.9000000000005, 2212.797142857143, 2173.6100000000006, 2222.8357142857153, 2193.4414285714292, 2146.5157142857147, 2076.3528571428574, 2076.3528571428574, 2076.4557142857147, 2006.2485714285722, 1946.5157142857151, 1900.095714285715, 1743.4271428571435, 1927.3942857142865, 1927.3942857142865, 1927.3942857142865, 2212.982857142858, 2377.447142857144, 2623.6114285714293, 2960.331428571429, 2941.9942857142864, 2941.7442857142864, 2941.7442857142864, 3170.9528571428577, 3240.247142857144, 3232.268571428572, 3250.9528571428577]}, {\"line\": {\"color\": \"#5e3a98\"}, \"name\": \"Thicket 8\", \"showlegend\": true, \"type\": \"scatter\", \"uid\": \"ca85af34-659f-49b5-b271-08394112cced\", \"x\": [\"2020-02-03T00:00:00\", \"2020-02-04T00:00:00\", \"2020-02-05T00:00:00\", \"2020-02-06T00:00:00\", \"2020-02-07T00:00:00\", \"2020-02-08T00:00:00\", \"2020-02-09T00:00:00\", \"2020-02-10T00:00:00\", \"2020-02-11T00:00:00\", \"2020-02-12T00:00:00\", \"2020-02-13T00:00:00\", \"2020-02-14T00:00:00\", \"2020-02-15T00:00:00\", \"2020-02-16T00:00:00\", \"2020-02-17T00:00:00\", \"2020-02-18T00:00:00\", \"2020-02-19T00:00:00\", \"2020-02-20T00:00:00\", \"2020-02-21T00:00:00\", \"2020-02-22T00:00:00\", \"2020-02-23T00:00:00\", \"2020-02-24T00:00:00\", \"2020-02-25T00:00:00\", \"2020-02-26T00:00:00\", \"2020-02-27T00:00:00\", \"2020-02-28T00:00:00\", \"2020-02-29T00:00:00\", \"2020-03-01T00:00:00\", \"2020-03-02T00:00:00\", \"2020-03-03T00:00:00\", \"2020-03-04T00:00:00\", \"2020-03-05T00:00:00\", \"2020-03-06T00:00:00\", \"2020-03-07T00:00:00\", \"2020-03-08T00:00:00\", \"2020-03-09T00:00:00\", \"2020-03-10T00:00:00\", \"2020-03-11T00:00:00\", \"2020-03-12T00:00:00\", \"2020-03-13T00:00:00\", \"2020-03-14T00:00:00\", \"2020-03-15T00:00:00\", \"2020-03-16T00:00:00\", \"2020-03-17T00:00:00\", \"2020-03-18T00:00:00\", \"2020-03-19T00:00:00\", \"2020-03-20T00:00:00\", \"2020-03-21T00:00:00\", \"2020-03-22T00:00:00\", \"2020-03-23T00:00:00\", \"2020-03-24T00:00:00\", \"2020-03-25T00:00:00\", \"2020-03-26T00:00:00\", \"2020-03-27T00:00:00\", \"2020-03-28T00:00:00\", \"2020-03-29T00:00:00\", \"2020-03-30T00:00:00\", \"2020-03-31T00:00:00\", \"2020-04-01T00:00:00\", \"2020-04-02T00:00:00\"], \"y\": [6628.788571428564, 6647.504285714277, 6566.275714285705, 6695.5242857142775, 6654.502857142848, 6652.64142857142, 6654.314285714277, 6445.614285714278, 6289.19285714285, 6370.959999999993, 6489.925714285707, 6375.131428571421, 6374.288571428564, 6374.281428571421, 6374.7799999999925, 6465.43285714285, 6435.669999999993, 6167.90285714285, 6342.242857142849, 6341.12285714285, 6341.289999999993, 6202.202857142851, 6062.492857142851, 6084.448571428565, 6332.367142857137, 6429.157142857136, 6429.967142857136, 6429.488571428565, 7067.0857142857085, 7531.859999999995, 7655.6699999999955, 7547.748571428566, 7543.639999999995, 7546.569999999995, 7547.048571428567, 8421.737142857137, 8328.741428571422, 8466.408571428565, 8618.178571428567, 8693.475714285709, 8690.001428571424, 8690.001428571424, 8008.622857142853, 7864.201428571424, 7821.745714285709, 7799.577142857138, 7740.752857142853, 7757.402857142852, 7757.402857142852, 8755.447142857138, 9801.828571428565, 10546.915714285711, 11342.334285714283, 12263.624285714284, 12248.944285714284, 12255.455714285712, 14350.574285714287, 14667.998571428572, 15790.105714285713, 16792.474285714285]}],\n",
       "                        {\"barmode\": \"overlay\", \"height\": 500, \"hovermode\": \"x\", \"legend\": {\"orientation\": \"v\", \"x\": 1.05, \"xanchor\": \"left\", \"y\": 0.5}, \"margin\": {\"autoexpand\": true, \"b\": 100, \"l\": 25, \"pad\": 0, \"r\": 25, \"t\": 100}, \"showlegend\": true, \"template\": {\"data\": {\"bar\": [{\"error_x\": {\"color\": \"#f2f5fa\"}, \"error_y\": {\"color\": \"#f2f5fa\"}, \"marker\": {\"line\": {\"color\": \"rgb(17,17,17)\", \"width\": 0.5}}, \"type\": \"bar\"}], \"barpolar\": [{\"marker\": {\"line\": {\"color\": \"rgb(17,17,17)\", \"width\": 0.5}}, \"type\": \"barpolar\"}], \"carpet\": [{\"aaxis\": {\"endlinecolor\": \"#A2B1C6\", \"gridcolor\": \"#506784\", \"linecolor\": \"#506784\", \"minorgridcolor\": \"#506784\", \"startlinecolor\": \"#A2B1C6\"}, \"baxis\": {\"endlinecolor\": \"#A2B1C6\", \"gridcolor\": \"#506784\", \"linecolor\": \"#506784\", \"minorgridcolor\": \"#506784\", \"startlinecolor\": \"#A2B1C6\"}, \"type\": \"carpet\"}], \"choropleth\": [{\"colorbar\": {\"outlinewidth\": 0, \"ticks\": \"\"}, \"type\": \"choropleth\"}], \"contour\": [{\"colorbar\": {\"outlinewidth\": 0, \"ticks\": \"\"}, \"colorscale\": [[0.0, \"#0d0887\"], [0.1111111111111111, \"#46039f\"], [0.2222222222222222, \"#7201a8\"], [0.3333333333333333, \"#9c179e\"], [0.4444444444444444, \"#bd3786\"], [0.5555555555555556, \"#d8576b\"], [0.6666666666666666, \"#ed7953\"], [0.7777777777777778, \"#fb9f3a\"], [0.8888888888888888, \"#fdca26\"], [1.0, \"#f0f921\"]], \"type\": \"contour\"}], \"contourcarpet\": [{\"colorbar\": {\"outlinewidth\": 0, \"ticks\": \"\"}, \"type\": \"contourcarpet\"}], \"heatmap\": [{\"colorbar\": {\"outlinewidth\": 0, \"ticks\": \"\"}, \"colorscale\": [[0.0, \"#0d0887\"], [0.1111111111111111, \"#46039f\"], [0.2222222222222222, \"#7201a8\"], [0.3333333333333333, \"#9c179e\"], [0.4444444444444444, \"#bd3786\"], [0.5555555555555556, \"#d8576b\"], [0.6666666666666666, \"#ed7953\"], [0.7777777777777778, \"#fb9f3a\"], [0.8888888888888888, \"#fdca26\"], [1.0, \"#f0f921\"]], \"type\": \"heatmap\"}], \"heatmapgl\": [{\"colorbar\": {\"outlinewidth\": 0, \"ticks\": \"\"}, \"colorscale\": [[0.0, \"#0d0887\"], [0.1111111111111111, \"#46039f\"], [0.2222222222222222, \"#7201a8\"], [0.3333333333333333, \"#9c179e\"], [0.4444444444444444, \"#bd3786\"], [0.5555555555555556, \"#d8576b\"], [0.6666666666666666, \"#ed7953\"], [0.7777777777777778, \"#fb9f3a\"], [0.8888888888888888, \"#fdca26\"], [1.0, \"#f0f921\"]], \"type\": \"heatmapgl\"}], \"histogram\": [{\"marker\": {\"colorbar\": {\"outlinewidth\": 0, \"ticks\": \"\"}}, \"type\": \"histogram\"}], \"histogram2d\": [{\"colorbar\": {\"outlinewidth\": 0, \"ticks\": \"\"}, \"colorscale\": [[0.0, \"#0d0887\"], [0.1111111111111111, \"#46039f\"], [0.2222222222222222, \"#7201a8\"], [0.3333333333333333, \"#9c179e\"], [0.4444444444444444, \"#bd3786\"], [0.5555555555555556, \"#d8576b\"], [0.6666666666666666, \"#ed7953\"], [0.7777777777777778, \"#fb9f3a\"], [0.8888888888888888, \"#fdca26\"], [1.0, \"#f0f921\"]], \"type\": \"histogram2d\"}], \"histogram2dcontour\": [{\"colorbar\": {\"outlinewidth\": 0, \"ticks\": \"\"}, \"colorscale\": [[0.0, \"#0d0887\"], [0.1111111111111111, \"#46039f\"], [0.2222222222222222, \"#7201a8\"], [0.3333333333333333, \"#9c179e\"], [0.4444444444444444, \"#bd3786\"], [0.5555555555555556, \"#d8576b\"], [0.6666666666666666, \"#ed7953\"], [0.7777777777777778, \"#fb9f3a\"], [0.8888888888888888, \"#fdca26\"], [1.0, \"#f0f921\"]], \"type\": \"histogram2dcontour\"}], \"mesh3d\": [{\"colorbar\": {\"outlinewidth\": 0, \"ticks\": \"\"}, \"type\": \"mesh3d\"}], \"parcoords\": [{\"line\": {\"colorbar\": {\"outlinewidth\": 0, \"ticks\": \"\"}}, \"type\": \"parcoords\"}], \"pie\": [{\"automargin\": true, \"type\": \"pie\"}], \"scatter\": [{\"marker\": {\"line\": {\"color\": \"#283442\"}}, \"type\": \"scatter\"}], \"scatter3d\": [{\"line\": {\"colorbar\": {\"outlinewidth\": 0, \"ticks\": \"\"}}, \"marker\": {\"colorbar\": {\"outlinewidth\": 0, \"ticks\": \"\"}}, \"type\": \"scatter3d\"}], \"scattercarpet\": [{\"marker\": {\"colorbar\": {\"outlinewidth\": 0, \"ticks\": \"\"}}, \"type\": \"scattercarpet\"}], \"scattergeo\": [{\"marker\": {\"colorbar\": {\"outlinewidth\": 0, \"ticks\": \"\"}}, \"type\": \"scattergeo\"}], \"scattergl\": [{\"marker\": {\"line\": {\"color\": \"#283442\"}}, \"type\": \"scattergl\"}], \"scattermapbox\": [{\"marker\": {\"colorbar\": {\"outlinewidth\": 0, \"ticks\": \"\"}}, \"type\": \"scattermapbox\"}], \"scatterpolar\": [{\"marker\": {\"colorbar\": {\"outlinewidth\": 0, \"ticks\": \"\"}}, \"type\": \"scatterpolar\"}], \"scatterpolargl\": [{\"marker\": {\"colorbar\": {\"outlinewidth\": 0, \"ticks\": \"\"}}, \"type\": \"scatterpolargl\"}], \"scatterternary\": [{\"marker\": {\"colorbar\": {\"outlinewidth\": 0, \"ticks\": \"\"}}, \"type\": \"scatterternary\"}], \"surface\": [{\"colorbar\": {\"outlinewidth\": 0, \"ticks\": \"\"}, \"colorscale\": [[0.0, \"#0d0887\"], [0.1111111111111111, \"#46039f\"], [0.2222222222222222, \"#7201a8\"], [0.3333333333333333, \"#9c179e\"], [0.4444444444444444, \"#bd3786\"], [0.5555555555555556, \"#d8576b\"], [0.6666666666666666, \"#ed7953\"], [0.7777777777777778, \"#fb9f3a\"], [0.8888888888888888, \"#fdca26\"], [1.0, \"#f0f921\"]], \"type\": \"surface\"}], \"table\": [{\"cells\": {\"fill\": {\"color\": \"#506784\"}, \"line\": {\"color\": \"rgb(17,17,17)\"}}, \"header\": {\"fill\": {\"color\": \"#2a3f5f\"}, \"line\": {\"color\": \"rgb(17,17,17)\"}}, \"type\": \"table\"}]}, \"layout\": {\"annotationdefaults\": {\"arrowcolor\": \"#f2f5fa\", \"arrowhead\": 0, \"arrowwidth\": 1}, \"coloraxis\": {\"colorbar\": {\"outlinewidth\": 0, \"ticks\": \"\"}}, \"colorscale\": {\"diverging\": [[0, \"#8e0152\"], [0.1, \"#c51b7d\"], [0.2, \"#de77ae\"], [0.3, \"#f1b6da\"], [0.4, \"#fde0ef\"], [0.5, \"#f7f7f7\"], [0.6, \"#e6f5d0\"], [0.7, \"#b8e186\"], [0.8, \"#7fbc41\"], [0.9, \"#4d9221\"], [1, \"#276419\"]], \"sequential\": [[0.0, \"#0d0887\"], [0.1111111111111111, \"#46039f\"], [0.2222222222222222, \"#7201a8\"], [0.3333333333333333, \"#9c179e\"], [0.4444444444444444, \"#bd3786\"], [0.5555555555555556, \"#d8576b\"], [0.6666666666666666, \"#ed7953\"], [0.7777777777777778, \"#fb9f3a\"], [0.8888888888888888, \"#fdca26\"], [1.0, \"#f0f921\"]], \"sequentialminus\": [[0.0, \"#0d0887\"], [0.1111111111111111, \"#46039f\"], [0.2222222222222222, \"#7201a8\"], [0.3333333333333333, \"#9c179e\"], [0.4444444444444444, \"#bd3786\"], [0.5555555555555556, \"#d8576b\"], [0.6666666666666666, \"#ed7953\"], [0.7777777777777778, \"#fb9f3a\"], [0.8888888888888888, \"#fdca26\"], [1.0, \"#f0f921\"]]}, \"colorway\": [\"#636efa\", \"#EF553B\", \"#00cc96\", \"#ab63fa\", \"#FFA15A\", \"#19d3f3\", \"#FF6692\", \"#B6E880\", \"#FF97FF\", \"#FECB52\"], \"font\": {\"color\": \"#f2f5fa\"}, \"geo\": {\"bgcolor\": \"rgb(17,17,17)\", \"lakecolor\": \"rgb(17,17,17)\", \"landcolor\": \"rgb(17,17,17)\", \"showlakes\": true, \"showland\": true, \"subunitcolor\": \"#506784\"}, \"hoverlabel\": {\"align\": \"left\"}, \"hovermode\": \"closest\", \"mapbox\": {\"style\": \"dark\"}, \"paper_bgcolor\": \"rgb(17,17,17)\", \"plot_bgcolor\": \"rgb(17,17,17)\", \"polar\": {\"angularaxis\": {\"gridcolor\": \"#506784\", \"linecolor\": \"#506784\", \"ticks\": \"\"}, \"bgcolor\": \"rgb(17,17,17)\", \"radialaxis\": {\"gridcolor\": \"#506784\", \"linecolor\": \"#506784\", \"ticks\": \"\"}}, \"scene\": {\"xaxis\": {\"backgroundcolor\": \"rgb(17,17,17)\", \"gridcolor\": \"#506784\", \"gridwidth\": 2, \"linecolor\": \"#506784\", \"showbackground\": true, \"ticks\": \"\", \"zerolinecolor\": \"#C8D4E3\"}, \"yaxis\": {\"backgroundcolor\": \"rgb(17,17,17)\", \"gridcolor\": \"#506784\", \"gridwidth\": 2, \"linecolor\": \"#506784\", \"showbackground\": true, \"ticks\": \"\", \"zerolinecolor\": \"#C8D4E3\"}, \"zaxis\": {\"backgroundcolor\": \"rgb(17,17,17)\", \"gridcolor\": \"#506784\", \"gridwidth\": 2, \"linecolor\": \"#506784\", \"showbackground\": true, \"ticks\": \"\", \"zerolinecolor\": \"#C8D4E3\"}}, \"shapedefaults\": {\"line\": {\"color\": \"#f2f5fa\"}}, \"sliderdefaults\": {\"bgcolor\": \"#C8D4E3\", \"bordercolor\": \"rgb(17,17,17)\", \"borderwidth\": 1, \"tickwidth\": 0}, \"ternary\": {\"aaxis\": {\"gridcolor\": \"#506784\", \"linecolor\": \"#506784\", \"ticks\": \"\"}, \"baxis\": {\"gridcolor\": \"#506784\", \"linecolor\": \"#506784\", \"ticks\": \"\"}, \"bgcolor\": \"rgb(17,17,17)\", \"caxis\": {\"gridcolor\": \"#506784\", \"linecolor\": \"#506784\", \"ticks\": \"\"}}, \"title\": {\"x\": 0.05}, \"updatemenudefaults\": {\"bgcolor\": \"#506784\", \"borderwidth\": 0}, \"xaxis\": {\"automargin\": true, \"gridcolor\": \"#283442\", \"linecolor\": \"#506784\", \"ticks\": \"\", \"title\": {\"standoff\": 15}, \"zerolinecolor\": \"#283442\", \"zerolinewidth\": 2}, \"yaxis\": {\"automargin\": true, \"gridcolor\": \"#283442\", \"linecolor\": \"#506784\", \"ticks\": \"\", \"title\": {\"standoff\": 15}, \"zerolinecolor\": \"#283442\", \"zerolinewidth\": 2}}}, \"title\": {\"font\": {\"size\": 24}, \"text\": \"iStore Sales by Thicket - 7 Day Avg\", \"x\": 0, \"xanchor\": \"left\", \"xref\": \"paper\", \"y\": 0.95}, \"width\": 1000, \"xaxis\": {\"dtick\": 604800000, \"showgrid\": true, \"tickfont\": {\"family\": \"Arial, san-serif\", \"size\": 10}, \"tickformat\": \"%Y-%m-%d\", \"title\": {\"text\": \"\"}, \"type\": \"date\"}, \"yaxis\": {\"hoverformat\": \"$,.0f\", \"tickfont\": {\"family\": \"Arial, san-serif\", \"size\": 10}, \"tickformat\": \"$,.0f\", \"title\": {\"font\": {\"family\": \"Arial, san-serif\", \"size\": 10}, \"text\": \"Avg Sales $\"}}},\n",
       "                        {\"responsive\": true}\n",
       "                    ).then(function(){\n",
       "                            \n",
       "var gd = document.getElementById('a49e91f2-df34-47a3-bd7d-c2caf782cccb');\n",
       "var x = new MutationObserver(function (mutations, observer) {{\n",
       "        var display = window.getComputedStyle(gd).display;\n",
       "        if (!display || display === 'none') {{\n",
       "            console.log([gd, 'removed!']);\n",
       "            Plotly.purge(gd);\n",
       "            observer.disconnect();\n",
       "        }}\n",
       "}});\n",
       "\n",
       "// Listen for the removal of the full notebook cells\n",
       "var notebookContainer = gd.closest('#notebook-container');\n",
       "if (notebookContainer) {{\n",
       "    x.observe(notebookContainer, {childList: true});\n",
       "}}\n",
       "\n",
       "// Listen for the clearing of the current output cell\n",
       "var outputEl = gd.closest('.output');\n",
       "if (outputEl) {{\n",
       "    x.observe(outputEl, {childList: true});\n",
       "}}\n",
       "\n",
       "                        })\n",
       "                };\n",
       "                });\n",
       "            </script>\n",
       "        </div>"
      ]
     },
     "metadata": {},
     "output_type": "display_data"
    }
   ],
   "source": [
    "div_iStoreSalesByThicket = plot_iStoreSalesByThicket(df_OrdersComp, clrPalExtended, filtInstance_iStore)"
   ]
  },
  {
   "cell_type": "code",
   "execution_count": 33,
   "metadata": {
    "scrolled": false
   },
   "outputs": [
    {
     "data": {
      "application/vnd.plotly.v1+json": {
       "config": {
        "linkText": "Export to plot.ly",
        "plotlyServerURL": "https://plot.ly",
        "showLink": false
       },
       "data": [
        {
         "marker": {
          "color": "#3f8fc5"
         },
         "name": "Daily Sales Amount",
         "showlegend": true,
         "type": "bar",
         "x": [
          "2020-02-03T00:00:00",
          "2020-02-04T00:00:00",
          "2020-02-05T00:00:00",
          "2020-02-06T00:00:00",
          "2020-02-07T00:00:00",
          "2020-02-08T00:00:00",
          "2020-02-09T00:00:00",
          "2020-02-10T00:00:00",
          "2020-02-11T00:00:00",
          "2020-02-12T00:00:00",
          "2020-02-13T00:00:00",
          "2020-02-14T00:00:00",
          "2020-02-15T00:00:00",
          "2020-02-16T00:00:00",
          "2020-02-17T00:00:00",
          "2020-02-18T00:00:00",
          "2020-02-19T00:00:00",
          "2020-02-20T00:00:00",
          "2020-02-21T00:00:00",
          "2020-02-22T00:00:00",
          "2020-02-23T00:00:00",
          "2020-02-24T00:00:00",
          "2020-02-25T00:00:00",
          "2020-02-26T00:00:00",
          "2020-02-27T00:00:00",
          "2020-02-28T00:00:00",
          "2020-02-29T00:00:00",
          "2020-03-01T00:00:00",
          "2020-03-02T00:00:00",
          "2020-03-03T00:00:00",
          "2020-03-04T00:00:00",
          "2020-03-05T00:00:00",
          "2020-03-06T00:00:00",
          "2020-03-07T00:00:00",
          "2020-03-08T00:00:00",
          "2020-03-09T00:00:00",
          "2020-03-10T00:00:00",
          "2020-03-11T00:00:00",
          "2020-03-12T00:00:00",
          "2020-03-13T00:00:00",
          "2020-03-14T00:00:00",
          "2020-03-15T00:00:00",
          "2020-03-16T00:00:00",
          "2020-03-17T00:00:00",
          "2020-03-18T00:00:00",
          "2020-03-19T00:00:00",
          "2020-03-20T00:00:00",
          "2020-03-21T00:00:00",
          "2020-03-22T00:00:00",
          "2020-03-23T00:00:00",
          "2020-03-24T00:00:00",
          "2020-03-25T00:00:00",
          "2020-03-26T00:00:00",
          "2020-03-27T00:00:00",
          "2020-03-28T00:00:00",
          "2020-03-29T00:00:00",
          "2020-03-30T00:00:00",
          "2020-03-31T00:00:00",
          "2020-04-01T00:00:00",
          "2020-04-02T00:00:00"
         ],
         "xaxis": "x",
         "y": [
          24796.65,
          9440.2,
          9105.33,
          9233.38,
          8203.32,
          24.48,
          -1.24,
          23470.6,
          8852.7,
          10297.38,
          9918.74,
          8585.43,
          48.86,
          1.01,
          21989.42,
          10601.76,
          8535.53,
          9649.48,
          8671.68,
          74.46,
          3.99,
          24498.14,
          9289.11,
          9337.93,
          10092.82,
          7652.32,
          11,
          -0.99,
          25924.47,
          9196.33,
          9469.21,
          7878.33,
          8162.14,
          34.45,
          42.86,
          24598.45,
          7315.38,
          9291.89,
          8961.7,
          8964.06,
          -2.02,
          0,
          27504.76,
          8297.97,
          9522.44,
          8438.01,
          8226.96,
          10.2,
          -2.08,
          32943.34,
          14858.68,
          13956.49,
          16380.78,
          15910.99,
          65.91,
          3.99,
          51729.52,
          23687.74,
          21384.33,
          22307.23
         ],
         "yaxis": "y"
        },
        {
         "marker": {
          "color": "#fee6da"
         },
         "name": "Daily Sales Difference",
         "showlegend": true,
         "type": "bar",
         "x": [
          "2020-02-03T00:00:00",
          "2020-02-04T00:00:00",
          "2020-02-05T00:00:00",
          "2020-02-06T00:00:00",
          "2020-02-07T00:00:00",
          "2020-02-08T00:00:00",
          "2020-02-09T00:00:00",
          "2020-02-10T00:00:00",
          "2020-02-11T00:00:00",
          "2020-02-12T00:00:00",
          "2020-02-13T00:00:00",
          "2020-02-14T00:00:00",
          "2020-02-15T00:00:00",
          "2020-02-16T00:00:00",
          "2020-02-17T00:00:00",
          "2020-02-18T00:00:00",
          "2020-02-19T00:00:00",
          "2020-02-20T00:00:00",
          "2020-02-21T00:00:00",
          "2020-02-22T00:00:00",
          "2020-02-23T00:00:00",
          "2020-02-24T00:00:00",
          "2020-02-25T00:00:00",
          "2020-02-26T00:00:00",
          "2020-02-27T00:00:00",
          "2020-02-28T00:00:00",
          "2020-02-29T00:00:00",
          "2020-03-01T00:00:00",
          "2020-03-02T00:00:00",
          "2020-03-03T00:00:00",
          "2020-03-04T00:00:00",
          "2020-03-05T00:00:00",
          "2020-03-06T00:00:00",
          "2020-03-07T00:00:00",
          "2020-03-08T00:00:00",
          "2020-03-09T00:00:00",
          "2020-03-10T00:00:00",
          "2020-03-11T00:00:00",
          "2020-03-12T00:00:00",
          "2020-03-13T00:00:00",
          "2020-03-14T00:00:00",
          "2020-03-15T00:00:00",
          "2020-03-16T00:00:00",
          "2020-03-17T00:00:00",
          "2020-03-18T00:00:00",
          "2020-03-19T00:00:00",
          "2020-03-20T00:00:00",
          "2020-03-21T00:00:00",
          "2020-03-22T00:00:00",
          "2020-03-23T00:00:00",
          "2020-03-24T00:00:00",
          "2020-03-25T00:00:00",
          "2020-03-26T00:00:00",
          "2020-03-27T00:00:00",
          "2020-03-28T00:00:00",
          "2020-03-29T00:00:00",
          "2020-03-30T00:00:00",
          "2020-03-31T00:00:00",
          "2020-04-01T00:00:00",
          "2020-04-02T00:00:00"
         ],
         "xaxis": "x",
         "y": [
          -5565.539999999997,
          -2434.74,
          -984.7000000000007,
          -366.02000000000044,
          -1750.3099999999995,
          25.2,
          -1.24,
          -2979.84,
          -443.9299999999985,
          129.02999999999884,
          621.5300000000007,
          687.5,
          43.35,
          2.23,
          -2424.3300000000017,
          1324.17,
          75.47000000000116,
          -156.63000000000102,
          203.01000000000022,
          -180.03000000000003,
          -12.089999999999998,
          -530.6599999999999,
          554.3400000000001,
          93.57999999999993,
          236.54999999999927,
          -1420.4500000000007,
          11,
          -29.939999999999998,
          341.0699999999997,
          736.2000000000007,
          -272.0100000000002,
          -1257.0100000000002,
          -1095.1799999999994,
          15.670000000000002,
          42.86,
          992.1700000000019,
          -376.25,
          -346.64000000000124,
          1038.5200000000004,
          1103.6399999999994,
          -5.63,
          0.03,
          6212.419999999998,
          -212.22000000000116,
          2153.2800000000007,
          1245.1400000000003,
          -407.9100000000017,
          -35.45,
          -2.08,
          10195.639999999996,
          6424.15,
          5288.629999999999,
          8372.330000000002,
          8625.55,
          -162.8,
          -207.51999999999998,
          26483.189999999995,
          12771.710000000001,
          10549.570000000002,
          13577.9
         ],
         "yaxis": "y"
        },
        {
         "marker": {
          "color": "#fd994d"
         },
         "name": "",
         "showlegend": false,
         "type": "bar",
         "x": [
          "2020-02-03T00:00:00",
          "2020-02-04T00:00:00",
          "2020-02-05T00:00:00",
          "2020-02-06T00:00:00",
          "2020-02-07T00:00:00",
          "2020-02-08T00:00:00",
          "2020-02-09T00:00:00",
          "2020-02-10T00:00:00",
          "2020-02-11T00:00:00",
          "2020-02-12T00:00:00",
          "2020-02-13T00:00:00",
          "2020-02-14T00:00:00",
          "2020-02-15T00:00:00",
          "2020-02-16T00:00:00",
          "2020-02-17T00:00:00",
          "2020-02-18T00:00:00",
          "2020-02-19T00:00:00",
          "2020-02-20T00:00:00",
          "2020-02-21T00:00:00",
          "2020-02-22T00:00:00",
          "2020-02-23T00:00:00",
          "2020-02-24T00:00:00",
          "2020-02-25T00:00:00",
          "2020-02-26T00:00:00",
          "2020-02-27T00:00:00",
          "2020-02-28T00:00:00",
          "2020-02-29T00:00:00",
          "2020-03-01T00:00:00",
          "2020-03-02T00:00:00",
          "2020-03-03T00:00:00",
          "2020-03-04T00:00:00",
          "2020-03-05T00:00:00",
          "2020-03-06T00:00:00",
          "2020-03-07T00:00:00",
          "2020-03-08T00:00:00",
          "2020-03-09T00:00:00",
          "2020-03-10T00:00:00",
          "2020-03-11T00:00:00",
          "2020-03-12T00:00:00",
          "2020-03-13T00:00:00",
          "2020-03-14T00:00:00",
          "2020-03-15T00:00:00",
          "2020-03-16T00:00:00",
          "2020-03-17T00:00:00",
          "2020-03-18T00:00:00",
          "2020-03-19T00:00:00",
          "2020-03-20T00:00:00",
          "2020-03-21T00:00:00",
          "2020-03-22T00:00:00",
          "2020-03-23T00:00:00",
          "2020-03-24T00:00:00",
          "2020-03-25T00:00:00",
          "2020-03-26T00:00:00",
          "2020-03-27T00:00:00",
          "2020-03-28T00:00:00",
          "2020-03-29T00:00:00",
          "2020-03-30T00:00:00",
          "2020-03-31T00:00:00",
          "2020-04-01T00:00:00",
          "2020-04-02T00:00:00"
         ],
         "xaxis": "x2",
         "y": [
          -0.15988998545750788,
          -0.1896546250953549,
          -0.20557195740070455,
          -0.16303846698897106,
          -0.1527828336114121,
          -0.15388455145815427,
          -0.15411006786777726,
          -0.12493651398045824,
          -0.09941732155099525,
          -0.08228649443015457,
          -0.0675135969102667,
          -0.031084692973391448,
          -0.030794059262559625,
          -0.030739675369581887,
          -0.022669641652594996,
          0.006280470468623678,
          0.00555881021377691,
          -0.00748817276656355,
          -0.015434763290767761,
          -0.019052743556506435,
          -0.01928324004168036,
          0.011796097977879505,
          -0.0007666740498172286,
          -0.00046268865975540585,
          0.005920124902138557,
          -0.02023484938237985,
          -0.017234505360832708,
          -0.017518987456165203,
          -0.00342047753608965,
          -0.0005139296791877301,
          -0.0063366693899541415,
          -0.03049153193045906,
          -0.025172184966293698,
          -0.025089537765601744,
          -0.023930726303329153,
          -0.013904233326749504,
          -0.032796153173970555,
          -0.034110401247691824,
          0.004664086038671966,
          0.04353227649077174,
          0.04316841388027992,
          0.042413372066171906,
          0.14016053761022196,
          0.1410532003192595,
          0.1943024841730978,
          0.20097548161389356,
          0.16952074985930277,
          0.16882423524909695,
          0.16878436228204619,
          0.23736322128775678,
          0.3596297495368861,
          0.40751439070209083,
          0.5276937748876644,
          0.7042766911102711,
          0.6996485090393869,
          0.6932901795834097,
          0.94388530999609,
          1.0100184382457496,
          1.058994539083646,
          1.1290026446717087
         ],
         "yaxis": "y2"
        },
        {
         "marker": {
          "color": "#3f8fc5"
         },
         "name": "Daily Sales Amount",
         "showlegend": false,
         "type": "bar",
         "x": [
          "2020-02-03T00:00:00",
          "2020-02-04T00:00:00",
          "2020-02-05T00:00:00",
          "2020-02-06T00:00:00",
          "2020-02-07T00:00:00",
          "2020-02-08T00:00:00",
          "2020-02-09T00:00:00",
          "2020-02-10T00:00:00",
          "2020-02-11T00:00:00",
          "2020-02-12T00:00:00",
          "2020-02-13T00:00:00",
          "2020-02-14T00:00:00",
          "2020-02-15T00:00:00",
          "2020-02-16T00:00:00",
          "2020-02-17T00:00:00",
          "2020-02-18T00:00:00",
          "2020-02-19T00:00:00",
          "2020-02-20T00:00:00",
          "2020-02-21T00:00:00",
          "2020-02-22T00:00:00",
          "2020-02-23T00:00:00",
          "2020-02-24T00:00:00",
          "2020-02-25T00:00:00",
          "2020-02-26T00:00:00",
          "2020-02-27T00:00:00",
          "2020-02-28T00:00:00",
          "2020-02-29T00:00:00",
          "2020-03-01T00:00:00",
          "2020-03-02T00:00:00",
          "2020-03-03T00:00:00",
          "2020-03-04T00:00:00",
          "2020-03-05T00:00:00",
          "2020-03-06T00:00:00",
          "2020-03-07T00:00:00",
          "2020-03-08T00:00:00",
          "2020-03-09T00:00:00",
          "2020-03-10T00:00:00",
          "2020-03-11T00:00:00",
          "2020-03-12T00:00:00",
          "2020-03-13T00:00:00",
          "2020-03-14T00:00:00",
          "2020-03-15T00:00:00",
          "2020-03-16T00:00:00",
          "2020-03-17T00:00:00",
          "2020-03-18T00:00:00",
          "2020-03-19T00:00:00",
          "2020-03-20T00:00:00",
          "2020-03-21T00:00:00",
          "2020-03-22T00:00:00",
          "2020-03-23T00:00:00",
          "2020-03-24T00:00:00",
          "2020-03-25T00:00:00",
          "2020-03-26T00:00:00",
          "2020-03-27T00:00:00",
          "2020-03-28T00:00:00",
          "2020-03-29T00:00:00",
          "2020-03-30T00:00:00",
          "2020-03-31T00:00:00",
          "2020-04-01T00:00:00",
          "2020-04-02T00:00:00"
         ],
         "xaxis": "x3",
         "y": [
          31239.68,
          11068.52,
          10829.45,
          11358.15,
          9821.69,
          4.84,
          3.78,
          25757.04,
          11127.96,
          9756.62,
          10986.05,
          10444.86,
          198.38,
          3.99,
          24425.88,
          12460.04,
          10167.77,
          9469.39,
          10081.38,
          -6.36,
          -3.93,
          25740.05,
          10678.11,
          9947.95,
          11566.31,
          10018.77,
          10.73,
          -0.77,
          25296.8,
          12100.09,
          8449.74,
          9880.6,
          9956.08,
          13.1,
          10.05,
          25408.84,
          7931.1,
          9974.05,
          8997.22,
          9383.75,
          42.2,
          0,
          28340.75,
          8313.33,
          12391.8,
          11340.29,
          9781.4,
          -0.78,
          -1.56,
          38935.7,
          15411.46,
          13962.21,
          19522.46,
          21894.09,
          72.17,
          40.27,
          65055.76,
          24175.86,
          24254,
          19461.36
         ],
         "yaxis": "y3"
        },
        {
         "marker": {
          "color": "#fee6da"
         },
         "name": "Daily Sales Difference",
         "showlegend": false,
         "type": "bar",
         "x": [
          "2020-02-03T00:00:00",
          "2020-02-04T00:00:00",
          "2020-02-05T00:00:00",
          "2020-02-06T00:00:00",
          "2020-02-07T00:00:00",
          "2020-02-08T00:00:00",
          "2020-02-09T00:00:00",
          "2020-02-10T00:00:00",
          "2020-02-11T00:00:00",
          "2020-02-12T00:00:00",
          "2020-02-13T00:00:00",
          "2020-02-14T00:00:00",
          "2020-02-15T00:00:00",
          "2020-02-16T00:00:00",
          "2020-02-17T00:00:00",
          "2020-02-18T00:00:00",
          "2020-02-19T00:00:00",
          "2020-02-20T00:00:00",
          "2020-02-21T00:00:00",
          "2020-02-22T00:00:00",
          "2020-02-23T00:00:00",
          "2020-02-24T00:00:00",
          "2020-02-25T00:00:00",
          "2020-02-26T00:00:00",
          "2020-02-27T00:00:00",
          "2020-02-28T00:00:00",
          "2020-02-29T00:00:00",
          "2020-03-01T00:00:00",
          "2020-03-02T00:00:00",
          "2020-03-03T00:00:00",
          "2020-03-04T00:00:00",
          "2020-03-05T00:00:00",
          "2020-03-06T00:00:00",
          "2020-03-07T00:00:00",
          "2020-03-08T00:00:00",
          "2020-03-09T00:00:00",
          "2020-03-10T00:00:00",
          "2020-03-11T00:00:00",
          "2020-03-12T00:00:00",
          "2020-03-13T00:00:00",
          "2020-03-14T00:00:00",
          "2020-03-15T00:00:00",
          "2020-03-16T00:00:00",
          "2020-03-17T00:00:00",
          "2020-03-18T00:00:00",
          "2020-03-19T00:00:00",
          "2020-03-20T00:00:00",
          "2020-03-21T00:00:00",
          "2020-03-22T00:00:00",
          "2020-03-23T00:00:00",
          "2020-03-24T00:00:00",
          "2020-03-25T00:00:00",
          "2020-03-26T00:00:00",
          "2020-03-27T00:00:00",
          "2020-03-28T00:00:00",
          "2020-03-29T00:00:00",
          "2020-03-30T00:00:00",
          "2020-03-31T00:00:00",
          "2020-04-01T00:00:00",
          "2020-04-02T00:00:00"
         ],
         "xaxis": "x3",
         "y": [
          4091.5200000000004,
          -974.5599999999995,
          2321.8500000000004,
          2621.2700000000004,
          439.130000000001,
          -103.92999999999999,
          3.78,
          -2345.6299999999974,
          261.9299999999985,
          675.3000000000011,
          1559.7399999999998,
          2771.7700000000004,
          184.72,
          -7.98,
          -2743.5200000000004,
          1748.9900000000016,
          1213.2600000000002,
          259.8099999999995,
          1463.8499999999985,
          -2.7600000000000002,
          -3.93,
          -2125.8199999999997,
          64.76000000000022,
          858.7600000000002,
          2149.99,
          847.3500000000004,
          -212.92000000000002,
          -4.76,
          -2397.3199999999997,
          813.6200000000008,
          -1205.380000000001,
          1169.6200000000008,
          -83.25,
          -69,
          10.05,
          -1675.2700000000004,
          -1873.6299999999992,
          275.6700000000001,
          655.1299999999992,
          -139.1800000000003,
          45.5,
          0,
          5800.43,
          -1484.83,
          3195.99,
          3844.1600000000008,
          663.0299999999988,
          -7.220000000000001,
          -5.550000000000001,
          14819.439999999999,
          6964.98,
          3708.24,
          11127.009999999998,
          14249.48,
          -8.170000000000002,
          40.27,
          37062.600000000006,
          12914.220000000001,
          12742.32,
          9336.34
         ],
         "yaxis": "y3"
        },
        {
         "marker": {
          "color": "#fd994d"
         },
         "name": "",
         "showlegend": false,
         "type": "bar",
         "x": [
          "2020-02-03T00:00:00",
          "2020-02-04T00:00:00",
          "2020-02-05T00:00:00",
          "2020-02-06T00:00:00",
          "2020-02-07T00:00:00",
          "2020-02-08T00:00:00",
          "2020-02-09T00:00:00",
          "2020-02-10T00:00:00",
          "2020-02-11T00:00:00",
          "2020-02-12T00:00:00",
          "2020-02-13T00:00:00",
          "2020-02-14T00:00:00",
          "2020-02-15T00:00:00",
          "2020-02-16T00:00:00",
          "2020-02-17T00:00:00",
          "2020-02-18T00:00:00",
          "2020-02-19T00:00:00",
          "2020-02-20T00:00:00",
          "2020-02-21T00:00:00",
          "2020-02-22T00:00:00",
          "2020-02-23T00:00:00",
          "2020-02-24T00:00:00",
          "2020-02-25T00:00:00",
          "2020-02-26T00:00:00",
          "2020-02-27T00:00:00",
          "2020-02-28T00:00:00",
          "2020-02-29T00:00:00",
          "2020-03-01T00:00:00",
          "2020-03-02T00:00:00",
          "2020-03-03T00:00:00",
          "2020-03-04T00:00:00",
          "2020-03-05T00:00:00",
          "2020-03-06T00:00:00",
          "2020-03-07T00:00:00",
          "2020-03-08T00:00:00",
          "2020-03-09T00:00:00",
          "2020-03-10T00:00:00",
          "2020-03-11T00:00:00",
          "2020-03-12T00:00:00",
          "2020-03-13T00:00:00",
          "2020-03-14T00:00:00",
          "2020-03-15T00:00:00",
          "2020-03-16T00:00:00",
          "2020-03-17T00:00:00",
          "2020-03-18T00:00:00",
          "2020-03-19T00:00:00",
          "2020-03-20T00:00:00",
          "2020-03-21T00:00:00",
          "2020-03-22T00:00:00",
          "2020-03-23T00:00:00",
          "2020-03-24T00:00:00",
          "2020-03-25T00:00:00",
          "2020-03-26T00:00:00",
          "2020-03-27T00:00:00",
          "2020-03-28T00:00:00",
          "2020-03-29T00:00:00",
          "2020-03-30T00:00:00",
          "2020-03-31T00:00:00",
          "2020-04-01T00:00:00",
          "2020-04-02T00:00:00"
         ],
         "xaxis": "x4",
         "y": [
          0.027892055433553553,
          0.015285525718018222,
          0.07404424372506124,
          0.12751265387028599,
          0.1257289611741903,
          0.12776515861092053,
          0.12739929968048158,
          0.029334094479855466,
          0.0486785458106318,
          0.023414173854674702,
          0.007321743062250308,
          0.04325832512363781,
          0.04775111919203545,
          0.04756191211207583,
          0.04205923310344373,
          0.06536478650830069,
          0.07390526483822413,
          0.05376333121337318,
          0.03275939629945368,
          0.029869133409331505,
          0.02993729978454751,
          0.03906973214266851,
          0.013319135164162166,
          0.007870544250729639,
          0.036660047629024195,
          0.027033727346869707,
          0.023775154489771966,
          0.023761222430960016,
          0.01972239489978178,
          0.030720117885643772,
          -0.0001396567497995438,
          -0.014829258791755784,
          -0.028402396793781648,
          -0.026328952807313177,
          -0.026110998794687368,
          -0.015549497286115876,
          -0.05700622411430645,
          -0.034329298407829834,
          -0.042433029970140757,
          -0.04363924694976096,
          -0.041920472237399586,
          -0.04207640963528403,
          0.07952438145969376,
          0.08602407602985185,
          0.13591889421528758,
          0.1923494514522217,
          0.20748436379158797,
          0.20654307445779407,
          0.20643347692765057,
          0.3519705982205479,
          0.5048488031203371,
          0.504479351511838,
          0.6176555692849455,
          0.8639170879539055,
          0.8628177960709955,
          0.8636536470824603,
          1.164460126013291,
          1.2051599921193596,
          1.3175637733438927,
          1.2582560012941517
         ],
         "yaxis": "y4"
        },
        {
         "marker": {
          "color": "#3f8fc5"
         },
         "name": "Daily Sales Amount",
         "showlegend": false,
         "type": "bar",
         "x": [
          "2020-02-03T00:00:00",
          "2020-02-04T00:00:00",
          "2020-02-05T00:00:00",
          "2020-02-06T00:00:00",
          "2020-02-07T00:00:00",
          "2020-02-08T00:00:00",
          "2020-02-09T00:00:00",
          "2020-02-10T00:00:00",
          "2020-02-11T00:00:00",
          "2020-02-12T00:00:00",
          "2020-02-13T00:00:00",
          "2020-02-14T00:00:00",
          "2020-02-15T00:00:00",
          "2020-02-16T00:00:00",
          "2020-02-17T00:00:00",
          "2020-02-18T00:00:00",
          "2020-02-19T00:00:00",
          "2020-02-20T00:00:00",
          "2020-02-21T00:00:00",
          "2020-02-22T00:00:00",
          "2020-02-23T00:00:00",
          "2020-02-24T00:00:00",
          "2020-02-25T00:00:00",
          "2020-02-26T00:00:00",
          "2020-02-27T00:00:00",
          "2020-02-28T00:00:00",
          "2020-02-29T00:00:00",
          "2020-03-01T00:00:00",
          "2020-03-02T00:00:00",
          "2020-03-03T00:00:00",
          "2020-03-04T00:00:00",
          "2020-03-05T00:00:00",
          "2020-03-06T00:00:00",
          "2020-03-07T00:00:00",
          "2020-03-08T00:00:00",
          "2020-03-09T00:00:00",
          "2020-03-10T00:00:00",
          "2020-03-11T00:00:00",
          "2020-03-12T00:00:00",
          "2020-03-13T00:00:00",
          "2020-03-14T00:00:00",
          "2020-03-15T00:00:00",
          "2020-03-16T00:00:00",
          "2020-03-17T00:00:00",
          "2020-03-18T00:00:00",
          "2020-03-19T00:00:00",
          "2020-03-20T00:00:00",
          "2020-03-21T00:00:00",
          "2020-03-22T00:00:00",
          "2020-03-23T00:00:00",
          "2020-03-24T00:00:00",
          "2020-03-25T00:00:00",
          "2020-03-26T00:00:00",
          "2020-03-27T00:00:00",
          "2020-03-28T00:00:00",
          "2020-03-29T00:00:00",
          "2020-03-30T00:00:00",
          "2020-03-31T00:00:00",
          "2020-04-01T00:00:00",
          "2020-04-02T00:00:00"
         ],
         "xaxis": "x5",
         "y": [
          0,
          0,
          0,
          0,
          0,
          0,
          0,
          0,
          0,
          0,
          0,
          0,
          0,
          0,
          0,
          0,
          0,
          0,
          0,
          0,
          0,
          0,
          0,
          0,
          0,
          0,
          0,
          0,
          0,
          0,
          0,
          0,
          0,
          0,
          0,
          0,
          0,
          0,
          0,
          0,
          0,
          0,
          0,
          0,
          0,
          0,
          0,
          0,
          0,
          0,
          0,
          0,
          0,
          0,
          0,
          0,
          0,
          0,
          0,
          0
         ],
         "yaxis": "y5"
        },
        {
         "marker": {
          "color": "#fee6da"
         },
         "name": "Daily Sales Difference",
         "showlegend": false,
         "type": "bar",
         "x": [
          "2020-02-03T00:00:00",
          "2020-02-04T00:00:00",
          "2020-02-05T00:00:00",
          "2020-02-06T00:00:00",
          "2020-02-07T00:00:00",
          "2020-02-08T00:00:00",
          "2020-02-09T00:00:00",
          "2020-02-10T00:00:00",
          "2020-02-11T00:00:00",
          "2020-02-12T00:00:00",
          "2020-02-13T00:00:00",
          "2020-02-14T00:00:00",
          "2020-02-15T00:00:00",
          "2020-02-16T00:00:00",
          "2020-02-17T00:00:00",
          "2020-02-18T00:00:00",
          "2020-02-19T00:00:00",
          "2020-02-20T00:00:00",
          "2020-02-21T00:00:00",
          "2020-02-22T00:00:00",
          "2020-02-23T00:00:00",
          "2020-02-24T00:00:00",
          "2020-02-25T00:00:00",
          "2020-02-26T00:00:00",
          "2020-02-27T00:00:00",
          "2020-02-28T00:00:00",
          "2020-02-29T00:00:00",
          "2020-03-01T00:00:00",
          "2020-03-02T00:00:00",
          "2020-03-03T00:00:00",
          "2020-03-04T00:00:00",
          "2020-03-05T00:00:00",
          "2020-03-06T00:00:00",
          "2020-03-07T00:00:00",
          "2020-03-08T00:00:00",
          "2020-03-09T00:00:00",
          "2020-03-10T00:00:00",
          "2020-03-11T00:00:00",
          "2020-03-12T00:00:00",
          "2020-03-13T00:00:00",
          "2020-03-14T00:00:00",
          "2020-03-15T00:00:00",
          "2020-03-16T00:00:00",
          "2020-03-17T00:00:00",
          "2020-03-18T00:00:00",
          "2020-03-19T00:00:00",
          "2020-03-20T00:00:00",
          "2020-03-21T00:00:00",
          "2020-03-22T00:00:00",
          "2020-03-23T00:00:00",
          "2020-03-24T00:00:00",
          "2020-03-25T00:00:00",
          "2020-03-26T00:00:00",
          "2020-03-27T00:00:00",
          "2020-03-28T00:00:00",
          "2020-03-29T00:00:00",
          "2020-03-30T00:00:00",
          "2020-03-31T00:00:00",
          "2020-04-01T00:00:00",
          "2020-04-02T00:00:00"
         ],
         "xaxis": "x5",
         "y": [
          -28184.22,
          -10443.03,
          -8791.74,
          -8518.12,
          -8537.52,
          -27.97,
          0.98,
          -25737.07,
          -9609.61,
          -8400.5,
          -6953.86,
          -8673.17,
          -36.56,
          -48.47,
          -23422.65,
          -8961.12,
          -8511.41,
          -9528.67,
          -8092.89,
          -7.98,
          -23.94,
          -25575.78,
          -8494.01,
          -8861.2,
          -9033.55,
          -8600.88,
          -3.35,
          -16.93,
          -26138.28,
          -9740.3,
          -8886.71,
          -9693.52,
          -8436.47,
          -146.33,
          0.95,
          -23724.49,
          -8025.24,
          -8482.91,
          -9879.33,
          -7987.13,
          -117.61,
          -18.96,
          -21663.96,
          -8542.18,
          -8786.62,
          -8516.3,
          -7916.04,
          -87.33,
          -3.99,
          -22806.7,
          -8645.6,
          -8211.73,
          -7272.18,
          -6798.77,
          -227.35,
          -35.9,
          -23425.57,
          -10022.71,
          -9532.37,
          -8722.26
         ],
         "yaxis": "y5"
        },
        {
         "marker": {
          "color": "#fd994d"
         },
         "name": "",
         "showlegend": false,
         "type": "bar",
         "x": [
          "2020-02-03T00:00:00",
          "2020-02-04T00:00:00",
          "2020-02-05T00:00:00",
          "2020-02-06T00:00:00",
          "2020-02-07T00:00:00",
          "2020-02-08T00:00:00",
          "2020-02-09T00:00:00",
          "2020-02-10T00:00:00",
          "2020-02-11T00:00:00",
          "2020-02-12T00:00:00",
          "2020-02-13T00:00:00",
          "2020-02-14T00:00:00",
          "2020-02-15T00:00:00",
          "2020-02-16T00:00:00",
          "2020-02-17T00:00:00",
          "2020-02-18T00:00:00",
          "2020-02-19T00:00:00",
          "2020-02-20T00:00:00",
          "2020-02-21T00:00:00",
          "2020-02-22T00:00:00",
          "2020-02-23T00:00:00",
          "2020-02-24T00:00:00",
          "2020-02-25T00:00:00",
          "2020-02-26T00:00:00",
          "2020-02-27T00:00:00",
          "2020-02-28T00:00:00",
          "2020-02-29T00:00:00",
          "2020-03-01T00:00:00",
          "2020-03-02T00:00:00",
          "2020-03-03T00:00:00",
          "2020-03-04T00:00:00",
          "2020-03-05T00:00:00",
          "2020-03-06T00:00:00",
          "2020-03-07T00:00:00",
          "2020-03-08T00:00:00",
          "2020-03-09T00:00:00",
          "2020-03-10T00:00:00",
          "2020-03-11T00:00:00",
          "2020-03-12T00:00:00",
          "2020-03-13T00:00:00",
          "2020-03-14T00:00:00",
          "2020-03-15T00:00:00",
          "2020-03-16T00:00:00",
          "2020-03-17T00:00:00",
          "2020-03-18T00:00:00",
          "2020-03-19T00:00:00",
          "2020-03-20T00:00:00",
          "2020-03-21T00:00:00",
          "2020-03-22T00:00:00",
          "2020-03-23T00:00:00",
          "2020-03-24T00:00:00",
          "2020-03-25T00:00:00",
          "2020-03-26T00:00:00",
          "2020-03-27T00:00:00",
          "2020-03-28T00:00:00",
          "2020-03-29T00:00:00",
          "2020-03-30T00:00:00",
          "2020-03-31T00:00:00",
          "2020-04-01T00:00:00",
          "2020-04-02T00:00:00"
         ],
         "xaxis": "x6",
         "y": [
          -0.9999999999999991,
          -0.9999999999999991,
          -0.999999999999999,
          -0.999999999999999,
          -0.9999999999999989,
          -0.9999999999999989,
          -0.9999999999999989,
          -0.9999999999999989,
          -0.9999999999999989,
          -0.9999999999999989,
          -0.9999999999999988,
          -0.9999999999999988,
          -0.9999999999999988,
          -0.9999999999999989,
          -0.9999999999999988,
          -0.9999999999999988,
          -0.9999999999999988,
          -0.9999999999999988,
          -0.9999999999999988,
          -0.9999999999999988,
          -0.9999999999999988,
          -0.9999999999999989,
          -0.9999999999999989,
          -0.9999999999999989,
          -0.9999999999999989,
          -0.9999999999999989,
          -0.9999999999999989,
          -0.9999999999999989,
          -0.9999999999999989,
          -0.9999999999999989,
          -0.9999999999999989,
          -0.9999999999999989,
          -0.9999999999999989,
          -0.9999999999999989,
          -0.9999999999999989,
          -0.9999999999999989,
          -0.9999999999999988,
          -0.9999999999999988,
          -0.9999999999999988,
          -0.9999999999999988,
          -0.9999999999999988,
          -0.9999999999999988,
          -0.9999999999999988,
          -0.9999999999999988,
          -0.9999999999999988,
          -0.9999999999999988,
          -0.9999999999999988,
          -0.9999999999999988,
          -0.9999999999999988,
          -0.9999999999999988,
          -0.9999999999999988,
          -0.9999999999999988,
          -0.9999999999999988,
          -0.9999999999999987,
          -0.9999999999999987,
          -0.9999999999999987,
          -0.9999999999999988,
          -0.9999999999999988,
          -0.9999999999999988,
          -0.9999999999999988
         ],
         "yaxis": "y6"
        },
        {
         "marker": {
          "color": "#3f8fc5"
         },
         "name": "Daily Sales Amount",
         "showlegend": false,
         "type": "bar",
         "x": [
          "2020-02-03T00:00:00",
          "2020-02-04T00:00:00",
          "2020-02-05T00:00:00",
          "2020-02-06T00:00:00",
          "2020-02-07T00:00:00",
          "2020-02-08T00:00:00",
          "2020-02-09T00:00:00",
          "2020-02-10T00:00:00",
          "2020-02-11T00:00:00",
          "2020-02-12T00:00:00",
          "2020-02-13T00:00:00",
          "2020-02-14T00:00:00",
          "2020-02-15T00:00:00",
          "2020-02-16T00:00:00",
          "2020-02-17T00:00:00",
          "2020-02-18T00:00:00",
          "2020-02-19T00:00:00",
          "2020-02-20T00:00:00",
          "2020-02-21T00:00:00",
          "2020-02-22T00:00:00",
          "2020-02-23T00:00:00",
          "2020-02-24T00:00:00",
          "2020-02-25T00:00:00",
          "2020-02-26T00:00:00",
          "2020-02-27T00:00:00",
          "2020-02-28T00:00:00",
          "2020-02-29T00:00:00",
          "2020-03-01T00:00:00",
          "2020-03-02T00:00:00",
          "2020-03-03T00:00:00",
          "2020-03-04T00:00:00",
          "2020-03-05T00:00:00",
          "2020-03-06T00:00:00",
          "2020-03-07T00:00:00",
          "2020-03-08T00:00:00",
          "2020-03-09T00:00:00",
          "2020-03-10T00:00:00",
          "2020-03-11T00:00:00",
          "2020-03-12T00:00:00",
          "2020-03-13T00:00:00",
          "2020-03-14T00:00:00",
          "2020-03-15T00:00:00",
          "2020-03-16T00:00:00",
          "2020-03-17T00:00:00",
          "2020-03-18T00:00:00",
          "2020-03-19T00:00:00",
          "2020-03-20T00:00:00",
          "2020-03-21T00:00:00",
          "2020-03-22T00:00:00",
          "2020-03-23T00:00:00",
          "2020-03-24T00:00:00",
          "2020-03-25T00:00:00",
          "2020-03-26T00:00:00",
          "2020-03-27T00:00:00",
          "2020-03-28T00:00:00",
          "2020-03-29T00:00:00",
          "2020-03-30T00:00:00",
          "2020-03-31T00:00:00",
          "2020-04-01T00:00:00",
          "2020-04-02T00:00:00"
         ],
         "xaxis": "x7",
         "y": [
          28425.78,
          10517.17,
          9532.95,
          9596.41,
          9374.73,
          2.03,
          -1.04,
          25274.73,
          9637.85,
          8371.21,
          8781.05,
          8449.22,
          -3.79,
          -2.51,
          20764.87,
          8454.46,
          12077.55,
          9762.32,
          9551.84,
          26.87,
          -1.83,
          24973.51,
          9362.37,
          10484.93,
          8390.34,
          9355.03,
          0,
          -0.78,
          26052.08,
          8766.89,
          10628.2,
          8496.63,
          7422.85,
          100.49,
          0,
          23564.35,
          9722.2,
          9845.04,
          9569.03,
          8790.5,
          3.99,
          0,
          25108.95,
          9033.32,
          10018.18,
          9593.85,
          8896.22,
          10.74,
          19.21,
          35377.11,
          19588.56,
          21272.96,
          20275.35,
          21718.9,
          92.9,
          -14.16,
          65150.15,
          25805.17,
          28240.82,
          24152.53
         ],
         "yaxis": "y7"
        },
        {
         "marker": {
          "color": "#fee6da"
         },
         "name": "Daily Sales Difference",
         "showlegend": false,
         "type": "bar",
         "x": [
          "2020-02-03T00:00:00",
          "2020-02-04T00:00:00",
          "2020-02-05T00:00:00",
          "2020-02-06T00:00:00",
          "2020-02-07T00:00:00",
          "2020-02-08T00:00:00",
          "2020-02-09T00:00:00",
          "2020-02-10T00:00:00",
          "2020-02-11T00:00:00",
          "2020-02-12T00:00:00",
          "2020-02-13T00:00:00",
          "2020-02-14T00:00:00",
          "2020-02-15T00:00:00",
          "2020-02-16T00:00:00",
          "2020-02-17T00:00:00",
          "2020-02-18T00:00:00",
          "2020-02-19T00:00:00",
          "2020-02-20T00:00:00",
          "2020-02-21T00:00:00",
          "2020-02-22T00:00:00",
          "2020-02-23T00:00:00",
          "2020-02-24T00:00:00",
          "2020-02-25T00:00:00",
          "2020-02-26T00:00:00",
          "2020-02-27T00:00:00",
          "2020-02-28T00:00:00",
          "2020-02-29T00:00:00",
          "2020-03-01T00:00:00",
          "2020-03-02T00:00:00",
          "2020-03-03T00:00:00",
          "2020-03-04T00:00:00",
          "2020-03-05T00:00:00",
          "2020-03-06T00:00:00",
          "2020-03-07T00:00:00",
          "2020-03-08T00:00:00",
          "2020-03-09T00:00:00",
          "2020-03-10T00:00:00",
          "2020-03-11T00:00:00",
          "2020-03-12T00:00:00",
          "2020-03-13T00:00:00",
          "2020-03-14T00:00:00",
          "2020-03-15T00:00:00",
          "2020-03-16T00:00:00",
          "2020-03-17T00:00:00",
          "2020-03-18T00:00:00",
          "2020-03-19T00:00:00",
          "2020-03-20T00:00:00",
          "2020-03-21T00:00:00",
          "2020-03-22T00:00:00",
          "2020-03-23T00:00:00",
          "2020-03-24T00:00:00",
          "2020-03-25T00:00:00",
          "2020-03-26T00:00:00",
          "2020-03-27T00:00:00",
          "2020-03-28T00:00:00",
          "2020-03-29T00:00:00",
          "2020-03-30T00:00:00",
          "2020-03-31T00:00:00",
          "2020-04-01T00:00:00",
          "2020-04-02T00:00:00"
         ],
         "xaxis": "x7",
         "y": [
          -248.20000000000073,
          1138.9500000000007,
          87.59000000000015,
          -24.100000000000364,
          896.6000000000004,
          2.65,
          -1.04,
          -569.8400000000001,
          243.72000000000116,
          -336.84000000000015,
          987.869999999999,
          -206.6200000000008,
          -11.920000000000002,
          -5.859999999999999,
          198.39999999999782,
          -1365.5200000000004,
          4464.869999999999,
          1116.2399999999998,
          1544.0900000000001,
          -13.02,
          -12.47,
          1862.1299999999974,
          1626.1500000000005,
          3705.1400000000003,
          48.649999999999636,
          689.8400000000001,
          -39.06,
          -35.93,
          2054.050000000003,
          -591.2200000000012,
          4305.010000000001,
          -2150.870000000001,
          -2313.01,
          83.61,
          0,
          1401.0999999999985,
          956.8200000000015,
          1594.1600000000017,
          1721.050000000001,
          1975.2700000000004,
          8.34,
          0,
          5275.369999999999,
          1030.2699999999995,
          3247.34,
          2457.5300000000007,
          2201.949999999999,
          16.25,
          -1.509999999999998,
          14954.48,
          11421.530000000002,
          13392.97,
          12964.829999999998,
          13916.45,
          52.38,
          -11.34,
          42784.66,
          16915.809999999998,
          20896.5,
          16418.29
         ],
         "yaxis": "y7"
        },
        {
         "marker": {
          "color": "#fd994d"
         },
         "name": "",
         "showlegend": false,
         "type": "bar",
         "x": [
          "2020-02-03T00:00:00",
          "2020-02-04T00:00:00",
          "2020-02-05T00:00:00",
          "2020-02-06T00:00:00",
          "2020-02-07T00:00:00",
          "2020-02-08T00:00:00",
          "2020-02-09T00:00:00",
          "2020-02-10T00:00:00",
          "2020-02-11T00:00:00",
          "2020-02-12T00:00:00",
          "2020-02-13T00:00:00",
          "2020-02-14T00:00:00",
          "2020-02-15T00:00:00",
          "2020-02-16T00:00:00",
          "2020-02-17T00:00:00",
          "2020-02-18T00:00:00",
          "2020-02-19T00:00:00",
          "2020-02-20T00:00:00",
          "2020-02-21T00:00:00",
          "2020-02-22T00:00:00",
          "2020-02-23T00:00:00",
          "2020-02-24T00:00:00",
          "2020-02-25T00:00:00",
          "2020-02-26T00:00:00",
          "2020-02-27T00:00:00",
          "2020-02-28T00:00:00",
          "2020-02-29T00:00:00",
          "2020-03-01T00:00:00",
          "2020-03-02T00:00:00",
          "2020-03-03T00:00:00",
          "2020-03-04T00:00:00",
          "2020-03-05T00:00:00",
          "2020-03-06T00:00:00",
          "2020-03-07T00:00:00",
          "2020-03-08T00:00:00",
          "2020-03-09T00:00:00",
          "2020-03-10T00:00:00",
          "2020-03-11T00:00:00",
          "2020-03-12T00:00:00",
          "2020-03-13T00:00:00",
          "2020-03-14T00:00:00",
          "2020-03-15T00:00:00",
          "2020-03-16T00:00:00",
          "2020-03-17T00:00:00",
          "2020-03-18T00:00:00",
          "2020-03-19T00:00:00",
          "2020-03-20T00:00:00",
          "2020-03-21T00:00:00",
          "2020-03-22T00:00:00",
          "2020-03-23T00:00:00",
          "2020-03-24T00:00:00",
          "2020-03-25T00:00:00",
          "2020-03-26T00:00:00",
          "2020-03-27T00:00:00",
          "2020-03-28T00:00:00",
          "2020-03-29T00:00:00",
          "2020-03-30T00:00:00",
          "2020-03-31T00:00:00",
          "2020-04-01T00:00:00",
          "2020-04-02T00:00:00"
         ],
         "xaxis": "x8",
         "y": [
          0.020979021946333942,
          0.045421147474781653,
          0.01470363271513353,
          0.009778033805128539,
          0.023323905838769754,
          0.02811988246769137,
          0.02824046986092732,
          0.024389093678968132,
          0.010123589406404454,
          0.003403187730409263,
          0.020311723646837976,
          0.001985258750082597,
          0.0017437615783093552,
          0.0016638731278124652,
          0.015758450837715765,
          -0.013328953289532097,
          0.07457303694498196,
          0.07574395891853158,
          0.108668450641771,
          0.10858523992526092,
          0.10844993619237187,
          0.13269052060843722,
          0.19193436230164895,
          0.18089349229502139,
          0.16215247237695918,
          0.14458167534671484,
          0.14410767908767452,
          0.1436142989167315,
          0.144775990271091,
          0.10191845013948697,
          0.11330677257145094,
          0.07164533778438265,
          0.02043620472621699,
          0.022484343269003837,
          0.023095538133845572,
          0.01261263024555559,
          0.03959372830736729,
          -0.0071868378098258745,
          0.060650159395268854,
          0.14355862278962417,
          0.14221715850609984,
          0.14221715850609984,
          0.22386528877645984,
          0.2286756668506542,
          0.26910143296649114,
          0.28821367748972504,
          0.29361368352744455,
          0.29378403573629774,
          0.2936272412574017,
          0.4874628688039233,
          0.6970158292738942,
          0.8832913150930783,
          1.0883517711055632,
          1.2920116989416028,
          1.2915597323670225,
          1.291958283094719,
          1.7646726725336315,
          1.8424025121989263,
          2.000364838295332,
          2.0484670012456254
         ],
         "yaxis": "y8"
        },
        {
         "marker": {
          "color": "#3f8fc5"
         },
         "name": "Daily Sales Amount",
         "showlegend": false,
         "type": "bar",
         "x": [
          "2020-02-03T00:00:00",
          "2020-02-04T00:00:00",
          "2020-02-05T00:00:00",
          "2020-02-06T00:00:00",
          "2020-02-07T00:00:00",
          "2020-02-08T00:00:00",
          "2020-02-09T00:00:00",
          "2020-02-10T00:00:00",
          "2020-02-11T00:00:00",
          "2020-02-12T00:00:00",
          "2020-02-13T00:00:00",
          "2020-02-14T00:00:00",
          "2020-02-15T00:00:00",
          "2020-02-16T00:00:00",
          "2020-02-17T00:00:00",
          "2020-02-18T00:00:00",
          "2020-02-19T00:00:00",
          "2020-02-20T00:00:00",
          "2020-02-21T00:00:00",
          "2020-02-22T00:00:00",
          "2020-02-23T00:00:00",
          "2020-02-24T00:00:00",
          "2020-02-25T00:00:00",
          "2020-02-26T00:00:00",
          "2020-02-27T00:00:00",
          "2020-02-28T00:00:00",
          "2020-02-29T00:00:00",
          "2020-03-01T00:00:00",
          "2020-03-02T00:00:00",
          "2020-03-03T00:00:00",
          "2020-03-04T00:00:00",
          "2020-03-05T00:00:00",
          "2020-03-06T00:00:00",
          "2020-03-07T00:00:00",
          "2020-03-08T00:00:00",
          "2020-03-09T00:00:00",
          "2020-03-10T00:00:00",
          "2020-03-11T00:00:00",
          "2020-03-12T00:00:00",
          "2020-03-13T00:00:00",
          "2020-03-14T00:00:00",
          "2020-03-15T00:00:00",
          "2020-03-16T00:00:00",
          "2020-03-17T00:00:00",
          "2020-03-18T00:00:00",
          "2020-03-19T00:00:00",
          "2020-03-20T00:00:00",
          "2020-03-21T00:00:00",
          "2020-03-22T00:00:00",
          "2020-03-23T00:00:00",
          "2020-03-24T00:00:00",
          "2020-03-25T00:00:00",
          "2020-03-26T00:00:00",
          "2020-03-27T00:00:00",
          "2020-03-28T00:00:00",
          "2020-03-29T00:00:00",
          "2020-03-30T00:00:00",
          "2020-03-31T00:00:00",
          "2020-04-01T00:00:00",
          "2020-04-02T00:00:00"
         ],
         "xaxis": "x9",
         "y": [
          31889.1,
          10895.73,
          13252.7,
          11231.99,
          9625.28,
          1.51,
          -2.58,
          27566.61,
          9064.2,
          10615.18,
          9914.88,
          9137.2,
          14.97,
          7.98,
          27475.3,
          10728.95,
          10792.52,
          9832.32,
          10578.38,
          21.86,
          8.99,
          25785.37,
          9495.19,
          10474.55,
          8909.02,
          9008.88,
          -0.98,
          0,
          28504.36,
          10413.18,
          10172.29,
          8858.58,
          8559.31,
          34.9,
          13.98,
          25784.09,
          9190.29,
          11177.35,
          9044.17,
          11671.71,
          -2.94,
          11.97,
          27100.1,
          9302.9,
          10921.92,
          11170.7,
          10553.27,
          31.72,
          16.98,
          40607.91,
          21709.53,
          24371.32,
          22662.61,
          23932.94,
          94.39,
          0,
          76472.98,
          28055.43,
          31444.68,
          30036.44
         ],
         "yaxis": "y9"
        },
        {
         "marker": {
          "color": "#fee6da"
         },
         "name": "Daily Sales Difference",
         "showlegend": false,
         "type": "bar",
         "x": [
          "2020-02-03T00:00:00",
          "2020-02-04T00:00:00",
          "2020-02-05T00:00:00",
          "2020-02-06T00:00:00",
          "2020-02-07T00:00:00",
          "2020-02-08T00:00:00",
          "2020-02-09T00:00:00",
          "2020-02-10T00:00:00",
          "2020-02-11T00:00:00",
          "2020-02-12T00:00:00",
          "2020-02-13T00:00:00",
          "2020-02-14T00:00:00",
          "2020-02-15T00:00:00",
          "2020-02-16T00:00:00",
          "2020-02-17T00:00:00",
          "2020-02-18T00:00:00",
          "2020-02-19T00:00:00",
          "2020-02-20T00:00:00",
          "2020-02-21T00:00:00",
          "2020-02-22T00:00:00",
          "2020-02-23T00:00:00",
          "2020-02-24T00:00:00",
          "2020-02-25T00:00:00",
          "2020-02-26T00:00:00",
          "2020-02-27T00:00:00",
          "2020-02-28T00:00:00",
          "2020-02-29T00:00:00",
          "2020-03-01T00:00:00",
          "2020-03-02T00:00:00",
          "2020-03-03T00:00:00",
          "2020-03-04T00:00:00",
          "2020-03-05T00:00:00",
          "2020-03-06T00:00:00",
          "2020-03-07T00:00:00",
          "2020-03-08T00:00:00",
          "2020-03-09T00:00:00",
          "2020-03-10T00:00:00",
          "2020-03-11T00:00:00",
          "2020-03-12T00:00:00",
          "2020-03-13T00:00:00",
          "2020-03-14T00:00:00",
          "2020-03-15T00:00:00",
          "2020-03-16T00:00:00",
          "2020-03-17T00:00:00",
          "2020-03-18T00:00:00",
          "2020-03-19T00:00:00",
          "2020-03-20T00:00:00",
          "2020-03-21T00:00:00",
          "2020-03-22T00:00:00",
          "2020-03-23T00:00:00",
          "2020-03-24T00:00:00",
          "2020-03-25T00:00:00",
          "2020-03-26T00:00:00",
          "2020-03-27T00:00:00",
          "2020-03-28T00:00:00",
          "2020-03-29T00:00:00",
          "2020-03-30T00:00:00",
          "2020-03-31T00:00:00",
          "2020-04-01T00:00:00",
          "2020-04-02T00:00:00"
         ],
         "xaxis": "x9",
         "y": [
          5471.98,
          344.4599999999991,
          4722.41,
          2535.289999999999,
          593.7200000000012,
          -5.680000000000001,
          -2.58,
          2838.9300000000003,
          109.86000000000058,
          1189.2800000000007,
          2344.6099999999988,
          1131.0100000000011,
          -186.64000000000001,
          -32.94,
          6245.7199999999975,
          2342.34,
          2019.8700000000008,
          1461.0100000000002,
          2412.7999999999993,
          -128.14999999999998,
          -15.999999999999998,
          2823.5699999999997,
          557.3999999999996,
          2274.3599999999988,
          590.8199999999997,
          617.4399999999987,
          -7.039999999999999,
          4.67,
          3135.5200000000004,
          857.5699999999997,
          790.5800000000017,
          -423.0100000000002,
          955.2599999999993,
          -70.71000000000001,
          13.98,
          1863.5900000000001,
          323.880000000001,
          3086.96,
          1246.5100000000002,
          4518.709999999999,
          -141.82999999999998,
          11.97,
          6397.539999999997,
          -234.0599999999995,
          3763.0600000000004,
          2944.8600000000006,
          3352.13,
          -3.530000000000001,
          -130.39000000000001,
          19492.960000000003,
          13394.97,
          16688.13,
          15042.57,
          15568.269999999999,
          87.01,
          -15.96,
          67139.76999999999,
          26071.04,
          28120.35,
          27659.94
         ],
         "yaxis": "y9"
        },
        {
         "marker": {
          "color": "#fd994d"
         },
         "name": "",
         "showlegend": false,
         "type": "bar",
         "x": [
          "2020-02-03T00:00:00",
          "2020-02-04T00:00:00",
          "2020-02-05T00:00:00",
          "2020-02-06T00:00:00",
          "2020-02-07T00:00:00",
          "2020-02-08T00:00:00",
          "2020-02-09T00:00:00",
          "2020-02-10T00:00:00",
          "2020-02-11T00:00:00",
          "2020-02-12T00:00:00",
          "2020-02-13T00:00:00",
          "2020-02-14T00:00:00",
          "2020-02-15T00:00:00",
          "2020-02-16T00:00:00",
          "2020-02-17T00:00:00",
          "2020-02-18T00:00:00",
          "2020-02-19T00:00:00",
          "2020-02-20T00:00:00",
          "2020-02-21T00:00:00",
          "2020-02-22T00:00:00",
          "2020-02-23T00:00:00",
          "2020-02-24T00:00:00",
          "2020-02-25T00:00:00",
          "2020-02-26T00:00:00",
          "2020-02-27T00:00:00",
          "2020-02-28T00:00:00",
          "2020-02-29T00:00:00",
          "2020-03-01T00:00:00",
          "2020-03-02T00:00:00",
          "2020-03-03T00:00:00",
          "2020-03-04T00:00:00",
          "2020-03-05T00:00:00",
          "2020-03-06T00:00:00",
          "2020-03-07T00:00:00",
          "2020-03-08T00:00:00",
          "2020-03-09T00:00:00",
          "2020-03-10T00:00:00",
          "2020-03-11T00:00:00",
          "2020-03-12T00:00:00",
          "2020-03-13T00:00:00",
          "2020-03-14T00:00:00",
          "2020-03-15T00:00:00",
          "2020-03-16T00:00:00",
          "2020-03-17T00:00:00",
          "2020-03-18T00:00:00",
          "2020-03-19T00:00:00",
          "2020-03-20T00:00:00",
          "2020-03-21T00:00:00",
          "2020-03-22T00:00:00",
          "2020-03-23T00:00:00",
          "2020-03-24T00:00:00",
          "2020-03-25T00:00:00",
          "2020-03-26T00:00:00",
          "2020-03-27T00:00:00",
          "2020-03-28T00:00:00",
          "2020-03-29T00:00:00",
          "2020-03-30T00:00:00",
          "2020-03-31T00:00:00",
          "2020-04-01T00:00:00",
          "2020-04-02T00:00:00"
         ],
         "xaxis": "x10",
         "y": [
          0.10986223402531103,
          0.12764462126312237,
          0.17415340226892906,
          0.2342314570491788,
          0.21567978588390124,
          0.21596909928905927,
          0.21601625577832695,
          0.1791633039341003,
          0.1800225729868803,
          0.11930338506890692,
          0.11836071975556672,
          0.12958300485061125,
          0.12608211223076982,
          0.12547934381762071,
          0.19486075923333002,
          0.2375706056096598,
          0.2557558566723661,
          0.23596867196144933,
          0.25852111340832584,
          0.25982434349251227,
          0.26020689744037906,
          0.1920618232908904,
          0.15911193565189574,
          0.16519475664066952,
          0.15001790038366036,
          0.11791714296644606,
          0.12034647144895194,
          0.12077314159048269,
          0.12113188844242107,
          0.12489774076232485,
          0.09816184586671461,
          0.08027885508654542,
          0.08683237464822513,
          0.08565255852487619,
          0.08579791544210447,
          0.06662192077504292,
          0.05837690312706911,
          0.09936226153929906,
          0.1315867695836206,
          0.19635649932589705,
          0.19496898610516777,
          0.19493307198815057,
          0.2927783721028552,
          0.2786587509495604,
          0.2964853062408823,
          0.3261813840813317,
          0.303859112514574,
          0.30707118211462214,
          0.3035318455824956,
          0.5463277397741726,
          0.8202246179305446,
          1.0572211379245604,
          1.301638444638455,
          1.502495024871421,
          1.504981581967756,
          1.5108587510530271,
          3.0940450678427016,
          4.015580921847173,
          4.959645976930495,
          6.4798696708393715
         ],
         "yaxis": "y10"
        },
        {
         "marker": {
          "color": "#3f8fc5"
         },
         "name": "Daily Sales Amount",
         "showlegend": false,
         "type": "bar",
         "x": [
          "2020-02-03T00:00:00",
          "2020-02-04T00:00:00",
          "2020-02-05T00:00:00",
          "2020-02-06T00:00:00",
          "2020-02-07T00:00:00",
          "2020-02-08T00:00:00",
          "2020-02-09T00:00:00",
          "2020-02-10T00:00:00",
          "2020-02-11T00:00:00",
          "2020-02-12T00:00:00",
          "2020-02-13T00:00:00",
          "2020-02-14T00:00:00",
          "2020-02-15T00:00:00",
          "2020-02-16T00:00:00",
          "2020-02-17T00:00:00",
          "2020-02-18T00:00:00",
          "2020-02-19T00:00:00",
          "2020-02-20T00:00:00",
          "2020-02-21T00:00:00",
          "2020-02-22T00:00:00",
          "2020-02-23T00:00:00",
          "2020-02-24T00:00:00",
          "2020-02-25T00:00:00",
          "2020-02-26T00:00:00",
          "2020-02-27T00:00:00",
          "2020-02-28T00:00:00",
          "2020-02-29T00:00:00",
          "2020-03-01T00:00:00",
          "2020-03-02T00:00:00",
          "2020-03-03T00:00:00",
          "2020-03-04T00:00:00",
          "2020-03-05T00:00:00",
          "2020-03-06T00:00:00",
          "2020-03-07T00:00:00",
          "2020-03-08T00:00:00",
          "2020-03-09T00:00:00",
          "2020-03-10T00:00:00",
          "2020-03-11T00:00:00",
          "2020-03-12T00:00:00",
          "2020-03-13T00:00:00",
          "2020-03-14T00:00:00",
          "2020-03-15T00:00:00",
          "2020-03-16T00:00:00",
          "2020-03-17T00:00:00",
          "2020-03-18T00:00:00",
          "2020-03-19T00:00:00",
          "2020-03-20T00:00:00",
          "2020-03-21T00:00:00",
          "2020-03-22T00:00:00",
          "2020-03-23T00:00:00",
          "2020-03-24T00:00:00",
          "2020-03-25T00:00:00",
          "2020-03-26T00:00:00",
          "2020-03-27T00:00:00",
          "2020-03-28T00:00:00",
          "2020-03-29T00:00:00",
          "2020-03-30T00:00:00",
          "2020-03-31T00:00:00",
          "2020-04-01T00:00:00",
          "2020-04-02T00:00:00"
         ],
         "xaxis": "x11",
         "y": [
          26641.21,
          9951.34,
          9517.92,
          9280.28,
          8142.02,
          -2.1,
          24.59,
          25187.01,
          9679.39,
          10059.88,
          8202.33,
          7197.78,
          -0.81,
          16.78,
          22904.99,
          10480.77,
          8214.11,
          8564.47,
          7884.15,
          3.99,
          0,
          23815.43,
          9019.72,
          7911.16,
          9500.79,
          8749.08,
          0,
          0,
          24994.83,
          9296.38,
          8824.39,
          8217.11,
          10632.15,
          -0.88,
          7.21,
          26296.05,
          8657.56,
          10235.08,
          8307.78,
          7555.52,
          109.02,
          3.03,
          25588.25,
          5622.19,
          9228.97,
          8729.12,
          8191.53,
          -4.86,
          14.08,
          32291.19,
          15031.69,
          12955.9,
          13089.8,
          15512.1,
          12.36,
          0,
          44294.28,
          19034.93,
          20662.39,
          16573
         ],
         "yaxis": "y11"
        },
        {
         "marker": {
          "color": "#fee6da"
         },
         "name": "Daily Sales Difference",
         "showlegend": false,
         "type": "bar",
         "x": [
          "2020-02-03T00:00:00",
          "2020-02-04T00:00:00",
          "2020-02-05T00:00:00",
          "2020-02-06T00:00:00",
          "2020-02-07T00:00:00",
          "2020-02-08T00:00:00",
          "2020-02-09T00:00:00",
          "2020-02-10T00:00:00",
          "2020-02-11T00:00:00",
          "2020-02-12T00:00:00",
          "2020-02-13T00:00:00",
          "2020-02-14T00:00:00",
          "2020-02-15T00:00:00",
          "2020-02-16T00:00:00",
          "2020-02-17T00:00:00",
          "2020-02-18T00:00:00",
          "2020-02-19T00:00:00",
          "2020-02-20T00:00:00",
          "2020-02-21T00:00:00",
          "2020-02-22T00:00:00",
          "2020-02-23T00:00:00",
          "2020-02-24T00:00:00",
          "2020-02-25T00:00:00",
          "2020-02-26T00:00:00",
          "2020-02-27T00:00:00",
          "2020-02-28T00:00:00",
          "2020-02-29T00:00:00",
          "2020-03-01T00:00:00",
          "2020-03-02T00:00:00",
          "2020-03-03T00:00:00",
          "2020-03-04T00:00:00",
          "2020-03-05T00:00:00",
          "2020-03-06T00:00:00",
          "2020-03-07T00:00:00",
          "2020-03-08T00:00:00",
          "2020-03-09T00:00:00",
          "2020-03-10T00:00:00",
          "2020-03-11T00:00:00",
          "2020-03-12T00:00:00",
          "2020-03-13T00:00:00",
          "2020-03-14T00:00:00",
          "2020-03-15T00:00:00",
          "2020-03-16T00:00:00",
          "2020-03-17T00:00:00",
          "2020-03-18T00:00:00",
          "2020-03-19T00:00:00",
          "2020-03-20T00:00:00",
          "2020-03-21T00:00:00",
          "2020-03-22T00:00:00",
          "2020-03-23T00:00:00",
          "2020-03-24T00:00:00",
          "2020-03-25T00:00:00",
          "2020-03-26T00:00:00",
          "2020-03-27T00:00:00",
          "2020-03-28T00:00:00",
          "2020-03-29T00:00:00",
          "2020-03-30T00:00:00",
          "2020-03-31T00:00:00",
          "2020-04-01T00:00:00",
          "2020-04-02T00:00:00"
         ],
         "xaxis": "x11",
         "y": [
          3863.9199999999983,
          1290.33,
          1250.4799999999996,
          1811.590000000001,
          739.3000000000002,
          -22.060000000000002,
          21.43,
          2400,
          2264.1099999999997,
          2639.079999999999,
          625.8999999999996,
          -779.4200000000001,
          -4.800000000000001,
          12.790000000000001,
          2044.0600000000013,
          1742.0900000000001,
          462.7900000000009,
          431.84999999999945,
          829.5599999999995,
          -219.32999999999998,
          -46.92,
          1545.4000000000015,
          403.84999999999854,
          242.47000000000025,
          2118.830000000001,
          1478.7799999999997,
          -13.57,
          0,
          3296.09,
          1113.449999999999,
          -389.0100000000002,
          715.8100000000004,
          3470.62,
          -27.86,
          7.21,
          7064.84,
          1589.6299999999992,
          2018.7999999999993,
          1506.300000000001,
          462.0100000000002,
          109.92,
          3.03,
          7447.950000000001,
          -1509.8600000000006,
          2342.1899999999996,
          1924.550000000001,
          1226.6799999999994,
          -15.760000000000002,
          -34.230000000000004,
          14108.32,
          8783.73,
          5268.7699999999995,
          6199.869999999999,
          9409.650000000001,
          -256.55,
          -105.36,
          25166.5,
          10794.64,
          11515.17,
          8317.02
         ],
         "yaxis": "y11"
        },
        {
         "marker": {
          "color": "#fd994d"
         },
         "name": "",
         "showlegend": false,
         "type": "bar",
         "x": [
          "2020-02-03T00:00:00",
          "2020-02-04T00:00:00",
          "2020-02-05T00:00:00",
          "2020-02-06T00:00:00",
          "2020-02-07T00:00:00",
          "2020-02-08T00:00:00",
          "2020-02-09T00:00:00",
          "2020-02-10T00:00:00",
          "2020-02-11T00:00:00",
          "2020-02-12T00:00:00",
          "2020-02-13T00:00:00",
          "2020-02-14T00:00:00",
          "2020-02-15T00:00:00",
          "2020-02-16T00:00:00",
          "2020-02-17T00:00:00",
          "2020-02-18T00:00:00",
          "2020-02-19T00:00:00",
          "2020-02-20T00:00:00",
          "2020-02-21T00:00:00",
          "2020-02-22T00:00:00",
          "2020-02-23T00:00:00",
          "2020-02-24T00:00:00",
          "2020-02-25T00:00:00",
          "2020-02-26T00:00:00",
          "2020-02-27T00:00:00",
          "2020-02-28T00:00:00",
          "2020-02-29T00:00:00",
          "2020-03-01T00:00:00",
          "2020-03-02T00:00:00",
          "2020-03-03T00:00:00",
          "2020-03-04T00:00:00",
          "2020-03-05T00:00:00",
          "2020-03-06T00:00:00",
          "2020-03-07T00:00:00",
          "2020-03-08T00:00:00",
          "2020-03-09T00:00:00",
          "2020-03-10T00:00:00",
          "2020-03-11T00:00:00",
          "2020-03-12T00:00:00",
          "2020-03-13T00:00:00",
          "2020-03-14T00:00:00",
          "2020-03-15T00:00:00",
          "2020-03-16T00:00:00",
          "2020-03-17T00:00:00",
          "2020-03-18T00:00:00",
          "2020-03-19T00:00:00",
          "2020-03-20T00:00:00",
          "2020-03-21T00:00:00",
          "2020-03-22T00:00:00",
          "2020-03-23T00:00:00",
          "2020-03-24T00:00:00",
          "2020-03-25T00:00:00",
          "2020-03-26T00:00:00",
          "2020-03-27T00:00:00",
          "2020-03-28T00:00:00",
          "2020-03-29T00:00:00",
          "2020-03-30T00:00:00",
          "2020-03-31T00:00:00",
          "2020-04-01T00:00:00",
          "2020-04-02T00:00:00"
         ],
         "xaxis": "x12",
         "y": [
          0.13117258719268876,
          0.08483576827399486,
          0.06314168011054155,
          0.12937903347426016,
          0.158855216300672,
          0.16361501874504292,
          0.164009994822369,
          0.13717398593187702,
          0.15862395543384178,
          0.1876217924574639,
          0.1647069017675118,
          0.13438085528076704,
          0.1347457415189972,
          0.13458118594257296,
          0.13269416929289068,
          0.11942675462068508,
          0.07755080364692324,
          0.07311488415752465,
          0.10501898142051114,
          0.10051672069507522,
          0.09930431495910219,
          0.08752601559496997,
          0.06298587273015932,
          0.059003140781202834,
          0.09150833117729884,
          0.10327936692142292,
          0.10754882823133194,
          0.10852526154434616,
          0.14295487883655333,
          0.15772981521631402,
          0.1414516870067266,
          0.11509878203957391,
          0.15237429811756953,
          0.15207061910336028,
          0.1522046716474954,
          0.2329633155258395,
          0.24762267105025848,
          0.3015746496866274,
          0.3222226139311042,
          0.2605617272111467,
          0.26355792487880825,
          0.2634715782084951,
          0.27764219566935466,
          0.21185254877727444,
          0.22499056526340455,
          0.23405674488468442,
          0.25136187024591816,
          0.2485615304493185,
          0.24749020174063596,
          0.3919565642914129,
          0.6276376504444217,
          0.6804000035693609,
          0.7720155240001774,
          0.9679164392826578,
          0.9571185421360946,
          0.954354231024515,
          1.1731030172183545,
          1.1663643582390995,
          1.2574474850015838,
          1.2652412319000201
         ],
         "yaxis": "y12"
        },
        {
         "marker": {
          "color": "#3f8fc5"
         },
         "name": "Daily Sales Amount",
         "showlegend": false,
         "type": "bar",
         "x": [
          "2020-02-03T00:00:00",
          "2020-02-04T00:00:00",
          "2020-02-05T00:00:00",
          "2020-02-06T00:00:00",
          "2020-02-07T00:00:00",
          "2020-02-08T00:00:00",
          "2020-02-09T00:00:00",
          "2020-02-10T00:00:00",
          "2020-02-11T00:00:00",
          "2020-02-12T00:00:00",
          "2020-02-13T00:00:00",
          "2020-02-14T00:00:00",
          "2020-02-15T00:00:00",
          "2020-02-16T00:00:00",
          "2020-02-17T00:00:00",
          "2020-02-18T00:00:00",
          "2020-02-19T00:00:00",
          "2020-02-20T00:00:00",
          "2020-02-21T00:00:00",
          "2020-02-22T00:00:00",
          "2020-02-23T00:00:00",
          "2020-02-24T00:00:00",
          "2020-02-25T00:00:00",
          "2020-02-26T00:00:00",
          "2020-02-27T00:00:00",
          "2020-02-28T00:00:00",
          "2020-02-29T00:00:00",
          "2020-03-01T00:00:00",
          "2020-03-02T00:00:00",
          "2020-03-03T00:00:00",
          "2020-03-04T00:00:00",
          "2020-03-05T00:00:00",
          "2020-03-06T00:00:00",
          "2020-03-07T00:00:00",
          "2020-03-08T00:00:00",
          "2020-03-09T00:00:00",
          "2020-03-10T00:00:00",
          "2020-03-11T00:00:00",
          "2020-03-12T00:00:00",
          "2020-03-13T00:00:00",
          "2020-03-14T00:00:00",
          "2020-03-15T00:00:00",
          "2020-03-16T00:00:00",
          "2020-03-17T00:00:00",
          "2020-03-18T00:00:00",
          "2020-03-19T00:00:00",
          "2020-03-20T00:00:00",
          "2020-03-21T00:00:00",
          "2020-03-22T00:00:00",
          "2020-03-23T00:00:00",
          "2020-03-24T00:00:00",
          "2020-03-25T00:00:00",
          "2020-03-26T00:00:00",
          "2020-03-27T00:00:00",
          "2020-03-28T00:00:00",
          "2020-03-29T00:00:00",
          "2020-03-30T00:00:00",
          "2020-03-31T00:00:00",
          "2020-04-01T00:00:00",
          "2020-04-02T00:00:00"
         ],
         "xaxis": "x13",
         "y": [
          7795.17,
          3240.13,
          2485.8,
          2573.72,
          2223.18,
          -1.23,
          2.01,
          6655.96,
          3081,
          1996.38,
          2481.63,
          2462.1,
          0,
          11.97,
          7500.15,
          2852.85,
          2656.91,
          2613.15,
          2349.29,
          -0.95,
          0,
          6491.68,
          2348.82,
          2349.74,
          2542.86,
          2227.4,
          -2.44,
          0,
          6291.34,
          2196.14,
          2317.81,
          2140.86,
          2544.15,
          0,
          -0.72,
          6017.03,
          2540.72,
          2112.05,
          1812.38,
          2053.01,
          0,
          0,
          5525.58,
          2122.59,
          1787.11,
          715.7,
          3340.78,
          0,
          0,
          7524.7,
          3273.84,
          3510.26,
          3072.74,
          3212.42,
          -1.75,
          0,
          9129.16,
          3758.9,
          3454.41,
          3203.53
         ],
         "yaxis": "y13"
        },
        {
         "marker": {
          "color": "#fee6da"
         },
         "name": "Daily Sales Difference",
         "showlegend": false,
         "type": "bar",
         "x": [
          "2020-02-03T00:00:00",
          "2020-02-04T00:00:00",
          "2020-02-05T00:00:00",
          "2020-02-06T00:00:00",
          "2020-02-07T00:00:00",
          "2020-02-08T00:00:00",
          "2020-02-09T00:00:00",
          "2020-02-10T00:00:00",
          "2020-02-11T00:00:00",
          "2020-02-12T00:00:00",
          "2020-02-13T00:00:00",
          "2020-02-14T00:00:00",
          "2020-02-15T00:00:00",
          "2020-02-16T00:00:00",
          "2020-02-17T00:00:00",
          "2020-02-18T00:00:00",
          "2020-02-19T00:00:00",
          "2020-02-20T00:00:00",
          "2020-02-21T00:00:00",
          "2020-02-22T00:00:00",
          "2020-02-23T00:00:00",
          "2020-02-24T00:00:00",
          "2020-02-25T00:00:00",
          "2020-02-26T00:00:00",
          "2020-02-27T00:00:00",
          "2020-02-28T00:00:00",
          "2020-02-29T00:00:00",
          "2020-03-01T00:00:00",
          "2020-03-02T00:00:00",
          "2020-03-03T00:00:00",
          "2020-03-04T00:00:00",
          "2020-03-05T00:00:00",
          "2020-03-06T00:00:00",
          "2020-03-07T00:00:00",
          "2020-03-08T00:00:00",
          "2020-03-09T00:00:00",
          "2020-03-10T00:00:00",
          "2020-03-11T00:00:00",
          "2020-03-12T00:00:00",
          "2020-03-13T00:00:00",
          "2020-03-14T00:00:00",
          "2020-03-15T00:00:00",
          "2020-03-16T00:00:00",
          "2020-03-17T00:00:00",
          "2020-03-18T00:00:00",
          "2020-03-19T00:00:00",
          "2020-03-20T00:00:00",
          "2020-03-21T00:00:00",
          "2020-03-22T00:00:00",
          "2020-03-23T00:00:00",
          "2020-03-24T00:00:00",
          "2020-03-25T00:00:00",
          "2020-03-26T00:00:00",
          "2020-03-27T00:00:00",
          "2020-03-28T00:00:00",
          "2020-03-29T00:00:00",
          "2020-03-30T00:00:00",
          "2020-03-31T00:00:00",
          "2020-04-01T00:00:00",
          "2020-04-02T00:00:00"
         ],
         "xaxis": "x13",
         "y": [
          3988.9700000000003,
          1794.0200000000002,
          1240.2200000000003,
          1403.6499999999999,
          1125.6899999999998,
          -1.23,
          2.01,
          2653.21,
          1394.69,
          1032.14,
          1436.8300000000002,
          1567.73,
          0,
          11.97,
          4594.849999999999,
          1591.98,
          993.1999999999998,
          919.74,
          1108.6499999999999,
          -0.95,
          0,
          2753.2000000000003,
          1072.3600000000001,
          1155.8099999999997,
          1416.5500000000002,
          1093.66,
          -2.44,
          0,
          2525.96,
          633.8199999999999,
          926.3799999999999,
          462.82000000000016,
          1431.02,
          0,
          -0.72,
          2392.5499999999997,
          1402.2499999999998,
          1043.4300000000003,
          567.2700000000002,
          811.7400000000002,
          0.86,
          0,
          2857.27,
          917.2500000000002,
          743.74,
          -570.1699999999998,
          2380.05,
          -3.99,
          -7.98,
          4356.139999999999,
          1973.21,
          2207.33,
          1782.5499999999997,
          1938.52,
          -1.75,
          0,
          5771.6,
          2145.17,
          1792.12,
          1871.2400000000002
         ],
         "yaxis": "y13"
        },
        {
         "marker": {
          "color": "#fd994d"
         },
         "name": "",
         "showlegend": false,
         "type": "bar",
         "x": [
          "2020-02-03T00:00:00",
          "2020-02-04T00:00:00",
          "2020-02-05T00:00:00",
          "2020-02-06T00:00:00",
          "2020-02-07T00:00:00",
          "2020-02-08T00:00:00",
          "2020-02-09T00:00:00",
          "2020-02-10T00:00:00",
          "2020-02-11T00:00:00",
          "2020-02-12T00:00:00",
          "2020-02-13T00:00:00",
          "2020-02-14T00:00:00",
          "2020-02-15T00:00:00",
          "2020-02-16T00:00:00",
          "2020-02-17T00:00:00",
          "2020-02-18T00:00:00",
          "2020-02-19T00:00:00",
          "2020-02-20T00:00:00",
          "2020-02-21T00:00:00",
          "2020-02-22T00:00:00",
          "2020-02-23T00:00:00",
          "2020-02-24T00:00:00",
          "2020-02-25T00:00:00",
          "2020-02-26T00:00:00",
          "2020-02-27T00:00:00",
          "2020-02-28T00:00:00",
          "2020-02-29T00:00:00",
          "2020-03-01T00:00:00",
          "2020-03-02T00:00:00",
          "2020-03-03T00:00:00",
          "2020-03-04T00:00:00",
          "2020-03-05T00:00:00",
          "2020-03-06T00:00:00",
          "2020-03-07T00:00:00",
          "2020-03-08T00:00:00",
          "2020-03-09T00:00:00",
          "2020-03-10T00:00:00",
          "2020-03-11T00:00:00",
          "2020-03-12T00:00:00",
          "2020-03-13T00:00:00",
          "2020-03-14T00:00:00",
          "2020-03-15T00:00:00",
          "2020-03-16T00:00:00",
          "2020-03-17T00:00:00",
          "2020-03-18T00:00:00",
          "2020-03-19T00:00:00",
          "2020-03-20T00:00:00",
          "2020-03-21T00:00:00",
          "2020-03-22T00:00:00",
          "2020-03-23T00:00:00",
          "2020-03-24T00:00:00",
          "2020-03-25T00:00:00",
          "2020-03-26T00:00:00",
          "2020-03-27T00:00:00",
          "2020-03-28T00:00:00",
          "2020-03-29T00:00:00",
          "2020-03-30T00:00:00",
          "2020-03-31T00:00:00",
          "2020-04-01T00:00:00",
          "2020-04-02T00:00:00"
         ],
         "xaxis": "x14",
         "y": [
          0.8277368213020413,
          0.9118184622503285,
          0.9519466907171892,
          0.942359873380842,
          1.089795732107309,
          1.0896554084502235,
          1.0898847178410707,
          0.9169348359741136,
          0.8496055291126046,
          0.853074703559972,
          0.8689968495575635,
          0.9409843735270542,
          0.9411275221211137,
          0.9422866765900852,
          1.3393173066916448,
          1.4478229258315216,
          1.312459052265078,
          1.1499003285948834,
          1.0520839395111565,
          1.0519755406535665,
          1.0506097150479303,
          0.7675039673401689,
          0.7122036472583151,
          0.7665833234896511,
          0.8752072688092805,
          0.8844846804551236,
          0.8843087430274468,
          0.8843087430274468,
          0.8547615180170958,
          0.7769993896384293,
          0.7343577030419262,
          0.5917797985711748,
          0.6285353774328886,
          0.6287919413688319,
          0.6287162339778978,
          0.6239321621448548,
          0.7393955653928495,
          0.7806509299828133,
          0.8346713782126811,
          0.7473620303079487,
          0.747542710250821,
          0.7476292789906087,
          0.907878363030709,
          0.8344096965584658,
          0.7967711082952615,
          0.6395939972861506,
          0.8835979426924823,
          0.8823233965017636,
          0.8802300577374134,
          1.0181348230291416,
          1.1415328272722252,
          1.2868869300147314,
          1.5790036353408397,
          1.4668802062245905,
          1.4678500849093798,
          1.4702124826509886,
          1.6036508191587067,
          1.5662971767227,
          1.4599577936586114,
          1.4629043796544718
         ],
         "yaxis": "y14"
        },
        {
         "marker": {
          "color": "#3f8fc5"
         },
         "name": "Daily Sales Amount",
         "showlegend": false,
         "type": "bar",
         "x": [
          "2020-02-03T00:00:00",
          "2020-02-04T00:00:00",
          "2020-02-05T00:00:00",
          "2020-02-06T00:00:00",
          "2020-02-07T00:00:00",
          "2020-02-08T00:00:00",
          "2020-02-09T00:00:00",
          "2020-02-10T00:00:00",
          "2020-02-11T00:00:00",
          "2020-02-12T00:00:00",
          "2020-02-13T00:00:00",
          "2020-02-14T00:00:00",
          "2020-02-15T00:00:00",
          "2020-02-16T00:00:00",
          "2020-02-17T00:00:00",
          "2020-02-18T00:00:00",
          "2020-02-19T00:00:00",
          "2020-02-20T00:00:00",
          "2020-02-21T00:00:00",
          "2020-02-22T00:00:00",
          "2020-02-23T00:00:00",
          "2020-02-24T00:00:00",
          "2020-02-25T00:00:00",
          "2020-02-26T00:00:00",
          "2020-02-27T00:00:00",
          "2020-02-28T00:00:00",
          "2020-02-29T00:00:00",
          "2020-03-01T00:00:00",
          "2020-03-02T00:00:00",
          "2020-03-03T00:00:00",
          "2020-03-04T00:00:00",
          "2020-03-05T00:00:00",
          "2020-03-06T00:00:00",
          "2020-03-07T00:00:00",
          "2020-03-08T00:00:00",
          "2020-03-09T00:00:00",
          "2020-03-10T00:00:00",
          "2020-03-11T00:00:00",
          "2020-03-12T00:00:00",
          "2020-03-13T00:00:00",
          "2020-03-14T00:00:00",
          "2020-03-15T00:00:00",
          "2020-03-16T00:00:00",
          "2020-03-17T00:00:00",
          "2020-03-18T00:00:00",
          "2020-03-19T00:00:00",
          "2020-03-20T00:00:00",
          "2020-03-21T00:00:00",
          "2020-03-22T00:00:00",
          "2020-03-23T00:00:00",
          "2020-03-24T00:00:00",
          "2020-03-25T00:00:00",
          "2020-03-26T00:00:00",
          "2020-03-27T00:00:00",
          "2020-03-28T00:00:00",
          "2020-03-29T00:00:00",
          "2020-03-30T00:00:00",
          "2020-03-31T00:00:00",
          "2020-04-01T00:00:00",
          "2020-04-02T00:00:00"
         ],
         "xaxis": "x15",
         "y": [
          20287.53,
          6988.98,
          6016.56,
          6923.26,
          6353.53,
          11.46,
          -1.12,
          18826.63,
          5894.03,
          6588.93,
          7756.02,
          5549.97,
          5.56,
          -1.17,
          18830.12,
          6528.6,
          6380.59,
          5881.65,
          6770.35,
          -2.28,
          0,
          17856.51,
          5550.63,
          6534.28,
          7617.08,
          7447.88,
          3.39,
          -3.35,
          22319.69,
          8804.05,
          7400.95,
          6861.63,
          7419.12,
          23.9,
          0,
          28442.51,
          8153.08,
          8364.62,
          7924.02,
          7946.2,
          -0.42,
          0,
          23672.86,
          7142.13,
          8067.43,
          7768.84,
          7534.43,
          116.13,
          0,
          30659.17,
          14466.8,
          13283.04,
          13336.77,
          13983.46,
          13.37,
          45.58,
          45325,
          16688.77,
          21137.79,
          20353.35
         ],
         "yaxis": "y15"
        },
        {
         "marker": {
          "color": "#fee6da"
         },
         "name": "Daily Sales Difference",
         "showlegend": false,
         "type": "bar",
         "x": [
          "2020-02-03T00:00:00",
          "2020-02-04T00:00:00",
          "2020-02-05T00:00:00",
          "2020-02-06T00:00:00",
          "2020-02-07T00:00:00",
          "2020-02-08T00:00:00",
          "2020-02-09T00:00:00",
          "2020-02-10T00:00:00",
          "2020-02-11T00:00:00",
          "2020-02-12T00:00:00",
          "2020-02-13T00:00:00",
          "2020-02-14T00:00:00",
          "2020-02-15T00:00:00",
          "2020-02-16T00:00:00",
          "2020-02-17T00:00:00",
          "2020-02-18T00:00:00",
          "2020-02-19T00:00:00",
          "2020-02-20T00:00:00",
          "2020-02-21T00:00:00",
          "2020-02-22T00:00:00",
          "2020-02-23T00:00:00",
          "2020-02-24T00:00:00",
          "2020-02-25T00:00:00",
          "2020-02-26T00:00:00",
          "2020-02-27T00:00:00",
          "2020-02-28T00:00:00",
          "2020-02-29T00:00:00",
          "2020-03-01T00:00:00",
          "2020-03-02T00:00:00",
          "2020-03-03T00:00:00",
          "2020-03-04T00:00:00",
          "2020-03-05T00:00:00",
          "2020-03-06T00:00:00",
          "2020-03-07T00:00:00",
          "2020-03-08T00:00:00",
          "2020-03-09T00:00:00",
          "2020-03-10T00:00:00",
          "2020-03-11T00:00:00",
          "2020-03-12T00:00:00",
          "2020-03-13T00:00:00",
          "2020-03-14T00:00:00",
          "2020-03-15T00:00:00",
          "2020-03-16T00:00:00",
          "2020-03-17T00:00:00",
          "2020-03-18T00:00:00",
          "2020-03-19T00:00:00",
          "2020-03-20T00:00:00",
          "2020-03-21T00:00:00",
          "2020-03-22T00:00:00",
          "2020-03-23T00:00:00",
          "2020-03-24T00:00:00",
          "2020-03-25T00:00:00",
          "2020-03-26T00:00:00",
          "2020-03-27T00:00:00",
          "2020-03-28T00:00:00",
          "2020-03-29T00:00:00",
          "2020-03-30T00:00:00",
          "2020-03-31T00:00:00",
          "2020-04-01T00:00:00",
          "2020-04-02T00:00:00"
         ],
         "xaxis": "x15",
         "y": [
          -15016.050000000003,
          -4478.720000000001,
          -4402.239999999999,
          -2258.8099999999995,
          -4680.740000000001,
          -23.72,
          -1.12,
          -16901.289999999997,
          -5593.37,
          -2338.7299999999996,
          35.410000000000764,
          -4693.2699999999995,
          -24.35,
          -61.61,
          -12398.400000000001,
          -5524.15,
          -4164.08,
          -4194.09,
          -2788.09,
          -1.69,
          0,
          -14717.420000000002,
          -4373.7300000000005,
          -3254.63,
          -2721.129999999999,
          -5055.29,
          -119.02,
          -3.35,
          -14424.670000000002,
          -3228.2700000000004,
          -3210.9000000000005,
          -4054.8100000000004,
          -2968.0199999999995,
          12.479999999999999,
          1.31,
          -1334.880000000001,
          -1161.4899999999998,
          -2270.3199999999997,
          -1318.6099999999988,
          -1172.3599999999997,
          -62.190000000000005,
          -6.08,
          -2905.279999999999,
          -3325.7599999999993,
          218.4300000000003,
          -964.3400000000001,
          -562.3099999999995,
          111.89999999999999,
          -3.99,
          3060.2599999999984,
          5219.49,
          5114.090000000001,
          5013.060000000001,
          6397.289999999999,
          -24.580000000000005,
          45.58,
          18307.84,
          6057.66,
          11440.380000000001,
          9810.39
         ],
         "yaxis": "y15"
        },
        {
         "marker": {
          "color": "#fd994d"
         },
         "name": "",
         "showlegend": false,
         "type": "bar",
         "x": [
          "2020-02-03T00:00:00",
          "2020-02-04T00:00:00",
          "2020-02-05T00:00:00",
          "2020-02-06T00:00:00",
          "2020-02-07T00:00:00",
          "2020-02-08T00:00:00",
          "2020-02-09T00:00:00",
          "2020-02-10T00:00:00",
          "2020-02-11T00:00:00",
          "2020-02-12T00:00:00",
          "2020-02-13T00:00:00",
          "2020-02-14T00:00:00",
          "2020-02-15T00:00:00",
          "2020-02-16T00:00:00",
          "2020-02-17T00:00:00",
          "2020-02-18T00:00:00",
          "2020-02-19T00:00:00",
          "2020-02-20T00:00:00",
          "2020-02-21T00:00:00",
          "2020-02-22T00:00:00",
          "2020-02-23T00:00:00",
          "2020-02-24T00:00:00",
          "2020-02-25T00:00:00",
          "2020-02-26T00:00:00",
          "2020-02-27T00:00:00",
          "2020-02-28T00:00:00",
          "2020-02-29T00:00:00",
          "2020-03-01T00:00:00",
          "2020-03-02T00:00:00",
          "2020-03-03T00:00:00",
          "2020-03-04T00:00:00",
          "2020-03-05T00:00:00",
          "2020-03-06T00:00:00",
          "2020-03-07T00:00:00",
          "2020-03-08T00:00:00",
          "2020-03-09T00:00:00",
          "2020-03-10T00:00:00",
          "2020-03-11T00:00:00",
          "2020-03-12T00:00:00",
          "2020-03-13T00:00:00",
          "2020-03-14T00:00:00",
          "2020-03-15T00:00:00",
          "2020-03-16T00:00:00",
          "2020-03-17T00:00:00",
          "2020-03-18T00:00:00",
          "2020-03-19T00:00:00",
          "2020-03-20T00:00:00",
          "2020-03-21T00:00:00",
          "2020-03-22T00:00:00",
          "2020-03-23T00:00:00",
          "2020-03-24T00:00:00",
          "2020-03-25T00:00:00",
          "2020-03-26T00:00:00",
          "2020-03-27T00:00:00",
          "2020-03-28T00:00:00",
          "2020-03-29T00:00:00",
          "2020-03-30T00:00:00",
          "2020-03-31T00:00:00",
          "2020-04-01T00:00:00",
          "2020-04-02T00:00:00"
         ],
         "xaxis": "x16",
         "y": [
          -0.42411641998806604,
          -0.43168173367095963,
          -0.4408683705504426,
          -0.40496763919829504,
          -0.39870311024802163,
          -0.39866312162971895,
          -0.3985119109109322,
          -0.4205515274072339,
          -0.4347565225117239,
          -0.4162312731937512,
          -0.393732324219063,
          -0.3981021016290228,
          -0.398138898473281,
          -0.3986298401098267,
          -0.35975780003322966,
          -0.35587796900024293,
          -0.37326652396614746,
          -0.41839882848139487,
          -0.39639134868886683,
          -0.3962475773589139,
          -0.3957349032862044,
          -0.41961827654697703,
          -0.4160778132698927,
          -0.4078048920207916,
          -0.3859162082732204,
          -0.4009676020881169,
          -0.4018713906621032,
          -0.4019159083488473,
          -0.3771252138277056,
          -0.35332489956381385,
          -0.3492631415848395,
          -0.36290980826727925,
          -0.34658425243384494,
          -0.34543148236514565,
          -0.3453793464417708,
          -0.20048877572124602,
          -0.17905882352941171,
          -0.16576058841853647,
          -0.13031497209471132,
          -0.10637388359751043,
          -0.1073909863085859,
          -0.10748776995812814,
          -0.13695787146789618,
          -0.16730597983573126,
          -0.13536479888295228,
          -0.1308227288487933,
          -0.12311353426289118,
          -0.12040833714800903,
          -0.12037855823700605,
          -0.023358055287046264,
          0.11505043768128398,
          0.19360483699255626,
          0.29217737693477597,
          0.40884232866544123,
          0.40637761516519144,
          0.4072173285435441,
          0.6636624780043496,
          0.6623639096867908,
          0.7463202783350158,
          0.7942660330598206
         ],
         "yaxis": "y16"
        }
       ],
       "layout": {
        "annotations": [
         {
          "font": {
           "size": 16
          },
          "showarrow": false,
          "text": "Thicket 1 - Total Daily Sales",
          "x": 0.2125,
          "xanchor": "center",
          "xref": "paper",
          "y": 1,
          "yanchor": "bottom",
          "yref": "paper"
         },
         {
          "font": {
           "size": 16
          },
          "showarrow": false,
          "text": "Thicket 1 - 7 Day Avg Sales Comp",
          "x": 0.7875,
          "xanchor": "center",
          "xref": "paper",
          "y": 1,
          "yanchor": "bottom",
          "yref": "paper"
         },
         {
          "font": {
           "size": 16
          },
          "showarrow": false,
          "text": "Thicket 2 - Total Daily Sales",
          "x": 0.2125,
          "xanchor": "center",
          "xref": "paper",
          "y": 0.8675,
          "yanchor": "bottom",
          "yref": "paper"
         },
         {
          "font": {
           "size": 16
          },
          "showarrow": false,
          "text": "Thicket 2 - 7 Day Avg Sales Comp",
          "x": 0.7875,
          "xanchor": "center",
          "xref": "paper",
          "y": 0.8675,
          "yanchor": "bottom",
          "yref": "paper"
         },
         {
          "font": {
           "size": 16
          },
          "showarrow": false,
          "text": "Thicket 3 - Total Daily Sales",
          "x": 0.2125,
          "xanchor": "center",
          "xref": "paper",
          "y": 0.7350000000000001,
          "yanchor": "bottom",
          "yref": "paper"
         },
         {
          "font": {
           "size": 16
          },
          "showarrow": false,
          "text": "Thicket 3 - 7 Day Avg Sales Comp",
          "x": 0.7875,
          "xanchor": "center",
          "xref": "paper",
          "y": 0.7350000000000001,
          "yanchor": "bottom",
          "yref": "paper"
         },
         {
          "font": {
           "size": 16
          },
          "showarrow": false,
          "text": "Thicket 4 - Total Daily Sales",
          "x": 0.2125,
          "xanchor": "center",
          "xref": "paper",
          "y": 0.6025,
          "yanchor": "bottom",
          "yref": "paper"
         },
         {
          "font": {
           "size": 16
          },
          "showarrow": false,
          "text": "Thicket 4 - 7 Day Avg Sales Comp",
          "x": 0.7875,
          "xanchor": "center",
          "xref": "paper",
          "y": 0.6025,
          "yanchor": "bottom",
          "yref": "paper"
         },
         {
          "font": {
           "size": 16
          },
          "showarrow": false,
          "text": "Thicket 5 - Total Daily Sales",
          "x": 0.2125,
          "xanchor": "center",
          "xref": "paper",
          "y": 0.47000000000000003,
          "yanchor": "bottom",
          "yref": "paper"
         },
         {
          "font": {
           "size": 16
          },
          "showarrow": false,
          "text": "Thicket 5 - 7 Day Avg Sales Comp",
          "x": 0.7875,
          "xanchor": "center",
          "xref": "paper",
          "y": 0.47000000000000003,
          "yanchor": "bottom",
          "yref": "paper"
         },
         {
          "font": {
           "size": 16
          },
          "showarrow": false,
          "text": "Thicket 6 - Total Daily Sales",
          "x": 0.2125,
          "xanchor": "center",
          "xref": "paper",
          "y": 0.3375,
          "yanchor": "bottom",
          "yref": "paper"
         },
         {
          "font": {
           "size": 16
          },
          "showarrow": false,
          "text": "Thicket 6 - 7 Day Avg Sales Comp",
          "x": 0.7875,
          "xanchor": "center",
          "xref": "paper",
          "y": 0.3375,
          "yanchor": "bottom",
          "yref": "paper"
         },
         {
          "font": {
           "size": 16
          },
          "showarrow": false,
          "text": "Thicket 7 - Total Daily Sales",
          "x": 0.2125,
          "xanchor": "center",
          "xref": "paper",
          "y": 0.20500000000000002,
          "yanchor": "bottom",
          "yref": "paper"
         },
         {
          "font": {
           "size": 16
          },
          "showarrow": false,
          "text": "Thicket 7 - 7 Day Avg Sales Comp",
          "x": 0.7875,
          "xanchor": "center",
          "xref": "paper",
          "y": 0.20500000000000002,
          "yanchor": "bottom",
          "yref": "paper"
         },
         {
          "font": {
           "size": 16
          },
          "showarrow": false,
          "text": "Thicket 8 - Total Daily Sales",
          "x": 0.2125,
          "xanchor": "center",
          "xref": "paper",
          "y": 0.07250000000000001,
          "yanchor": "bottom",
          "yref": "paper"
         },
         {
          "font": {
           "size": 16
          },
          "showarrow": false,
          "text": "Thicket 8 - 7 Day Avg Sales Comp",
          "x": 0.7875,
          "xanchor": "center",
          "xref": "paper",
          "y": 0.07250000000000001,
          "yanchor": "bottom",
          "yref": "paper"
         }
        ],
        "barmode": "overlay",
        "height": 2400,
        "hovermode": "x",
        "legend": {
         "orientation": "h",
         "x": 0,
         "xanchor": "left",
         "y": 1.035
        },
        "margin": {
         "autoexpand": true,
         "b": 100,
         "l": 25,
         "pad": 0,
         "r": 25,
         "t": 150
        },
        "showlegend": true,
        "template": {
         "data": {
          "bar": [
           {
            "error_x": {
             "color": "#f2f5fa"
            },
            "error_y": {
             "color": "#f2f5fa"
            },
            "marker": {
             "line": {
              "color": "rgb(17,17,17)",
              "width": 0.5
             }
            },
            "type": "bar"
           }
          ],
          "barpolar": [
           {
            "marker": {
             "line": {
              "color": "rgb(17,17,17)",
              "width": 0.5
             }
            },
            "type": "barpolar"
           }
          ],
          "carpet": [
           {
            "aaxis": {
             "endlinecolor": "#A2B1C6",
             "gridcolor": "#506784",
             "linecolor": "#506784",
             "minorgridcolor": "#506784",
             "startlinecolor": "#A2B1C6"
            },
            "baxis": {
             "endlinecolor": "#A2B1C6",
             "gridcolor": "#506784",
             "linecolor": "#506784",
             "minorgridcolor": "#506784",
             "startlinecolor": "#A2B1C6"
            },
            "type": "carpet"
           }
          ],
          "choropleth": [
           {
            "colorbar": {
             "outlinewidth": 0,
             "ticks": ""
            },
            "type": "choropleth"
           }
          ],
          "contour": [
           {
            "colorbar": {
             "outlinewidth": 0,
             "ticks": ""
            },
            "colorscale": [
             [
              0,
              "#0d0887"
             ],
             [
              0.1111111111111111,
              "#46039f"
             ],
             [
              0.2222222222222222,
              "#7201a8"
             ],
             [
              0.3333333333333333,
              "#9c179e"
             ],
             [
              0.4444444444444444,
              "#bd3786"
             ],
             [
              0.5555555555555556,
              "#d8576b"
             ],
             [
              0.6666666666666666,
              "#ed7953"
             ],
             [
              0.7777777777777778,
              "#fb9f3a"
             ],
             [
              0.8888888888888888,
              "#fdca26"
             ],
             [
              1,
              "#f0f921"
             ]
            ],
            "type": "contour"
           }
          ],
          "contourcarpet": [
           {
            "colorbar": {
             "outlinewidth": 0,
             "ticks": ""
            },
            "type": "contourcarpet"
           }
          ],
          "heatmap": [
           {
            "colorbar": {
             "outlinewidth": 0,
             "ticks": ""
            },
            "colorscale": [
             [
              0,
              "#0d0887"
             ],
             [
              0.1111111111111111,
              "#46039f"
             ],
             [
              0.2222222222222222,
              "#7201a8"
             ],
             [
              0.3333333333333333,
              "#9c179e"
             ],
             [
              0.4444444444444444,
              "#bd3786"
             ],
             [
              0.5555555555555556,
              "#d8576b"
             ],
             [
              0.6666666666666666,
              "#ed7953"
             ],
             [
              0.7777777777777778,
              "#fb9f3a"
             ],
             [
              0.8888888888888888,
              "#fdca26"
             ],
             [
              1,
              "#f0f921"
             ]
            ],
            "type": "heatmap"
           }
          ],
          "heatmapgl": [
           {
            "colorbar": {
             "outlinewidth": 0,
             "ticks": ""
            },
            "colorscale": [
             [
              0,
              "#0d0887"
             ],
             [
              0.1111111111111111,
              "#46039f"
             ],
             [
              0.2222222222222222,
              "#7201a8"
             ],
             [
              0.3333333333333333,
              "#9c179e"
             ],
             [
              0.4444444444444444,
              "#bd3786"
             ],
             [
              0.5555555555555556,
              "#d8576b"
             ],
             [
              0.6666666666666666,
              "#ed7953"
             ],
             [
              0.7777777777777778,
              "#fb9f3a"
             ],
             [
              0.8888888888888888,
              "#fdca26"
             ],
             [
              1,
              "#f0f921"
             ]
            ],
            "type": "heatmapgl"
           }
          ],
          "histogram": [
           {
            "marker": {
             "colorbar": {
              "outlinewidth": 0,
              "ticks": ""
             }
            },
            "type": "histogram"
           }
          ],
          "histogram2d": [
           {
            "colorbar": {
             "outlinewidth": 0,
             "ticks": ""
            },
            "colorscale": [
             [
              0,
              "#0d0887"
             ],
             [
              0.1111111111111111,
              "#46039f"
             ],
             [
              0.2222222222222222,
              "#7201a8"
             ],
             [
              0.3333333333333333,
              "#9c179e"
             ],
             [
              0.4444444444444444,
              "#bd3786"
             ],
             [
              0.5555555555555556,
              "#d8576b"
             ],
             [
              0.6666666666666666,
              "#ed7953"
             ],
             [
              0.7777777777777778,
              "#fb9f3a"
             ],
             [
              0.8888888888888888,
              "#fdca26"
             ],
             [
              1,
              "#f0f921"
             ]
            ],
            "type": "histogram2d"
           }
          ],
          "histogram2dcontour": [
           {
            "colorbar": {
             "outlinewidth": 0,
             "ticks": ""
            },
            "colorscale": [
             [
              0,
              "#0d0887"
             ],
             [
              0.1111111111111111,
              "#46039f"
             ],
             [
              0.2222222222222222,
              "#7201a8"
             ],
             [
              0.3333333333333333,
              "#9c179e"
             ],
             [
              0.4444444444444444,
              "#bd3786"
             ],
             [
              0.5555555555555556,
              "#d8576b"
             ],
             [
              0.6666666666666666,
              "#ed7953"
             ],
             [
              0.7777777777777778,
              "#fb9f3a"
             ],
             [
              0.8888888888888888,
              "#fdca26"
             ],
             [
              1,
              "#f0f921"
             ]
            ],
            "type": "histogram2dcontour"
           }
          ],
          "mesh3d": [
           {
            "colorbar": {
             "outlinewidth": 0,
             "ticks": ""
            },
            "type": "mesh3d"
           }
          ],
          "parcoords": [
           {
            "line": {
             "colorbar": {
              "outlinewidth": 0,
              "ticks": ""
             }
            },
            "type": "parcoords"
           }
          ],
          "pie": [
           {
            "automargin": true,
            "type": "pie"
           }
          ],
          "scatter": [
           {
            "marker": {
             "line": {
              "color": "#283442"
             }
            },
            "type": "scatter"
           }
          ],
          "scatter3d": [
           {
            "line": {
             "colorbar": {
              "outlinewidth": 0,
              "ticks": ""
             }
            },
            "marker": {
             "colorbar": {
              "outlinewidth": 0,
              "ticks": ""
             }
            },
            "type": "scatter3d"
           }
          ],
          "scattercarpet": [
           {
            "marker": {
             "colorbar": {
              "outlinewidth": 0,
              "ticks": ""
             }
            },
            "type": "scattercarpet"
           }
          ],
          "scattergeo": [
           {
            "marker": {
             "colorbar": {
              "outlinewidth": 0,
              "ticks": ""
             }
            },
            "type": "scattergeo"
           }
          ],
          "scattergl": [
           {
            "marker": {
             "line": {
              "color": "#283442"
             }
            },
            "type": "scattergl"
           }
          ],
          "scattermapbox": [
           {
            "marker": {
             "colorbar": {
              "outlinewidth": 0,
              "ticks": ""
             }
            },
            "type": "scattermapbox"
           }
          ],
          "scatterpolar": [
           {
            "marker": {
             "colorbar": {
              "outlinewidth": 0,
              "ticks": ""
             }
            },
            "type": "scatterpolar"
           }
          ],
          "scatterpolargl": [
           {
            "marker": {
             "colorbar": {
              "outlinewidth": 0,
              "ticks": ""
             }
            },
            "type": "scatterpolargl"
           }
          ],
          "scatterternary": [
           {
            "marker": {
             "colorbar": {
              "outlinewidth": 0,
              "ticks": ""
             }
            },
            "type": "scatterternary"
           }
          ],
          "surface": [
           {
            "colorbar": {
             "outlinewidth": 0,
             "ticks": ""
            },
            "colorscale": [
             [
              0,
              "#0d0887"
             ],
             [
              0.1111111111111111,
              "#46039f"
             ],
             [
              0.2222222222222222,
              "#7201a8"
             ],
             [
              0.3333333333333333,
              "#9c179e"
             ],
             [
              0.4444444444444444,
              "#bd3786"
             ],
             [
              0.5555555555555556,
              "#d8576b"
             ],
             [
              0.6666666666666666,
              "#ed7953"
             ],
             [
              0.7777777777777778,
              "#fb9f3a"
             ],
             [
              0.8888888888888888,
              "#fdca26"
             ],
             [
              1,
              "#f0f921"
             ]
            ],
            "type": "surface"
           }
          ],
          "table": [
           {
            "cells": {
             "fill": {
              "color": "#506784"
             },
             "line": {
              "color": "rgb(17,17,17)"
             }
            },
            "header": {
             "fill": {
              "color": "#2a3f5f"
             },
             "line": {
              "color": "rgb(17,17,17)"
             }
            },
            "type": "table"
           }
          ]
         },
         "layout": {
          "annotationdefaults": {
           "arrowcolor": "#f2f5fa",
           "arrowhead": 0,
           "arrowwidth": 1
          },
          "coloraxis": {
           "colorbar": {
            "outlinewidth": 0,
            "ticks": ""
           }
          },
          "colorscale": {
           "diverging": [
            [
             0,
             "#8e0152"
            ],
            [
             0.1,
             "#c51b7d"
            ],
            [
             0.2,
             "#de77ae"
            ],
            [
             0.3,
             "#f1b6da"
            ],
            [
             0.4,
             "#fde0ef"
            ],
            [
             0.5,
             "#f7f7f7"
            ],
            [
             0.6,
             "#e6f5d0"
            ],
            [
             0.7,
             "#b8e186"
            ],
            [
             0.8,
             "#7fbc41"
            ],
            [
             0.9,
             "#4d9221"
            ],
            [
             1,
             "#276419"
            ]
           ],
           "sequential": [
            [
             0,
             "#0d0887"
            ],
            [
             0.1111111111111111,
             "#46039f"
            ],
            [
             0.2222222222222222,
             "#7201a8"
            ],
            [
             0.3333333333333333,
             "#9c179e"
            ],
            [
             0.4444444444444444,
             "#bd3786"
            ],
            [
             0.5555555555555556,
             "#d8576b"
            ],
            [
             0.6666666666666666,
             "#ed7953"
            ],
            [
             0.7777777777777778,
             "#fb9f3a"
            ],
            [
             0.8888888888888888,
             "#fdca26"
            ],
            [
             1,
             "#f0f921"
            ]
           ],
           "sequentialminus": [
            [
             0,
             "#0d0887"
            ],
            [
             0.1111111111111111,
             "#46039f"
            ],
            [
             0.2222222222222222,
             "#7201a8"
            ],
            [
             0.3333333333333333,
             "#9c179e"
            ],
            [
             0.4444444444444444,
             "#bd3786"
            ],
            [
             0.5555555555555556,
             "#d8576b"
            ],
            [
             0.6666666666666666,
             "#ed7953"
            ],
            [
             0.7777777777777778,
             "#fb9f3a"
            ],
            [
             0.8888888888888888,
             "#fdca26"
            ],
            [
             1,
             "#f0f921"
            ]
           ]
          },
          "colorway": [
           "#636efa",
           "#EF553B",
           "#00cc96",
           "#ab63fa",
           "#FFA15A",
           "#19d3f3",
           "#FF6692",
           "#B6E880",
           "#FF97FF",
           "#FECB52"
          ],
          "font": {
           "color": "#f2f5fa"
          },
          "geo": {
           "bgcolor": "rgb(17,17,17)",
           "lakecolor": "rgb(17,17,17)",
           "landcolor": "rgb(17,17,17)",
           "showlakes": true,
           "showland": true,
           "subunitcolor": "#506784"
          },
          "hoverlabel": {
           "align": "left"
          },
          "hovermode": "closest",
          "mapbox": {
           "style": "dark"
          },
          "paper_bgcolor": "rgb(17,17,17)",
          "plot_bgcolor": "rgb(17,17,17)",
          "polar": {
           "angularaxis": {
            "gridcolor": "#506784",
            "linecolor": "#506784",
            "ticks": ""
           },
           "bgcolor": "rgb(17,17,17)",
           "radialaxis": {
            "gridcolor": "#506784",
            "linecolor": "#506784",
            "ticks": ""
           }
          },
          "scene": {
           "xaxis": {
            "backgroundcolor": "rgb(17,17,17)",
            "gridcolor": "#506784",
            "gridwidth": 2,
            "linecolor": "#506784",
            "showbackground": true,
            "ticks": "",
            "zerolinecolor": "#C8D4E3"
           },
           "yaxis": {
            "backgroundcolor": "rgb(17,17,17)",
            "gridcolor": "#506784",
            "gridwidth": 2,
            "linecolor": "#506784",
            "showbackground": true,
            "ticks": "",
            "zerolinecolor": "#C8D4E3"
           },
           "zaxis": {
            "backgroundcolor": "rgb(17,17,17)",
            "gridcolor": "#506784",
            "gridwidth": 2,
            "linecolor": "#506784",
            "showbackground": true,
            "ticks": "",
            "zerolinecolor": "#C8D4E3"
           }
          },
          "shapedefaults": {
           "line": {
            "color": "#f2f5fa"
           }
          },
          "sliderdefaults": {
           "bgcolor": "#C8D4E3",
           "bordercolor": "rgb(17,17,17)",
           "borderwidth": 1,
           "tickwidth": 0
          },
          "ternary": {
           "aaxis": {
            "gridcolor": "#506784",
            "linecolor": "#506784",
            "ticks": ""
           },
           "baxis": {
            "gridcolor": "#506784",
            "linecolor": "#506784",
            "ticks": ""
           },
           "bgcolor": "rgb(17,17,17)",
           "caxis": {
            "gridcolor": "#506784",
            "linecolor": "#506784",
            "ticks": ""
           }
          },
          "title": {
           "x": 0.05
          },
          "updatemenudefaults": {
           "bgcolor": "#506784",
           "borderwidth": 0
          },
          "xaxis": {
           "automargin": true,
           "gridcolor": "#283442",
           "linecolor": "#506784",
           "ticks": "",
           "title": {
            "standoff": 15
           },
           "zerolinecolor": "#283442",
           "zerolinewidth": 2
          },
          "yaxis": {
           "automargin": true,
           "gridcolor": "#283442",
           "linecolor": "#506784",
           "ticks": "",
           "title": {
            "standoff": 15
           },
           "zerolinecolor": "#283442",
           "zerolinewidth": 2
          }
         }
        },
        "title": {
         "font": {
          "size": 24
         },
         "text": "iStore Sales by Thicket - Comparison to Last Year",
         "x": 0,
         "xanchor": "left",
         "xref": "paper",
         "y": 0.98
        },
        "width": 1000,
        "xaxis": {
         "anchor": "y",
         "domain": [
          0,
          0.425
         ],
         "dtick": 604800000,
         "showgrid": true,
         "tickangle": 90,
         "tickfont": {
          "family": "Arial, san-serif",
          "size": 10
         },
         "tickformat": "%Y-%m-%d",
         "title": {
          "text": ""
         },
         "type": "date"
        },
        "xaxis10": {
         "anchor": "y10",
         "domain": [
          0.575,
          1
         ],
         "dtick": 604800000,
         "showgrid": true,
         "tickangle": 90,
         "tickfont": {
          "family": "Arial, san-serif",
          "size": 10
         },
         "tickformat": "%Y-%m-%d",
         "title": {
          "text": ""
         },
         "type": "date"
        },
        "xaxis11": {
         "anchor": "y11",
         "domain": [
          0,
          0.425
         ],
         "dtick": 604800000,
         "showgrid": true,
         "tickangle": 90,
         "tickfont": {
          "family": "Arial, san-serif",
          "size": 10
         },
         "tickformat": "%Y-%m-%d",
         "title": {
          "text": ""
         },
         "type": "date"
        },
        "xaxis12": {
         "anchor": "y12",
         "domain": [
          0.575,
          1
         ],
         "dtick": 604800000,
         "showgrid": true,
         "tickangle": 90,
         "tickfont": {
          "family": "Arial, san-serif",
          "size": 10
         },
         "tickformat": "%Y-%m-%d",
         "title": {
          "text": ""
         },
         "type": "date"
        },
        "xaxis13": {
         "anchor": "y13",
         "domain": [
          0,
          0.425
         ],
         "dtick": 604800000,
         "showgrid": true,
         "tickangle": 90,
         "tickfont": {
          "family": "Arial, san-serif",
          "size": 10
         },
         "tickformat": "%Y-%m-%d",
         "title": {
          "text": ""
         },
         "type": "date"
        },
        "xaxis14": {
         "anchor": "y14",
         "domain": [
          0.575,
          1
         ],
         "dtick": 604800000,
         "showgrid": true,
         "tickangle": 90,
         "tickfont": {
          "family": "Arial, san-serif",
          "size": 10
         },
         "tickformat": "%Y-%m-%d",
         "title": {
          "text": ""
         },
         "type": "date"
        },
        "xaxis15": {
         "anchor": "y15",
         "domain": [
          0,
          0.425
         ],
         "dtick": 604800000,
         "showgrid": true,
         "tickangle": 90,
         "tickfont": {
          "family": "Arial, san-serif",
          "size": 10
         },
         "tickformat": "%Y-%m-%d",
         "title": {
          "text": ""
         },
         "type": "date"
        },
        "xaxis16": {
         "anchor": "y16",
         "domain": [
          0.575,
          1
         ],
         "dtick": 604800000,
         "showgrid": true,
         "tickangle": 90,
         "tickfont": {
          "family": "Arial, san-serif",
          "size": 10
         },
         "tickformat": "%Y-%m-%d",
         "title": {
          "text": ""
         },
         "type": "date"
        },
        "xaxis2": {
         "anchor": "y2",
         "domain": [
          0.575,
          1
         ],
         "dtick": 604800000,
         "showgrid": true,
         "tickangle": 90,
         "tickfont": {
          "family": "Arial, san-serif",
          "size": 10
         },
         "tickformat": "%Y-%m-%d",
         "title": {
          "text": ""
         },
         "type": "date"
        },
        "xaxis3": {
         "anchor": "y3",
         "domain": [
          0,
          0.425
         ],
         "dtick": 604800000,
         "showgrid": true,
         "tickangle": 90,
         "tickfont": {
          "family": "Arial, san-serif",
          "size": 10
         },
         "tickformat": "%Y-%m-%d",
         "title": {
          "text": ""
         },
         "type": "date"
        },
        "xaxis4": {
         "anchor": "y4",
         "domain": [
          0.575,
          1
         ],
         "dtick": 604800000,
         "showgrid": true,
         "tickangle": 90,
         "tickfont": {
          "family": "Arial, san-serif",
          "size": 10
         },
         "tickformat": "%Y-%m-%d",
         "title": {
          "text": ""
         },
         "type": "date"
        },
        "xaxis5": {
         "anchor": "y5",
         "domain": [
          0,
          0.425
         ],
         "dtick": 604800000,
         "showgrid": true,
         "tickangle": 90,
         "tickfont": {
          "family": "Arial, san-serif",
          "size": 10
         },
         "tickformat": "%Y-%m-%d",
         "title": {
          "text": ""
         },
         "type": "date"
        },
        "xaxis6": {
         "anchor": "y6",
         "domain": [
          0.575,
          1
         ],
         "dtick": 604800000,
         "showgrid": true,
         "tickangle": 90,
         "tickfont": {
          "family": "Arial, san-serif",
          "size": 10
         },
         "tickformat": "%Y-%m-%d",
         "title": {
          "text": ""
         },
         "type": "date"
        },
        "xaxis7": {
         "anchor": "y7",
         "domain": [
          0,
          0.425
         ],
         "dtick": 604800000,
         "showgrid": true,
         "tickangle": 90,
         "tickfont": {
          "family": "Arial, san-serif",
          "size": 10
         },
         "tickformat": "%Y-%m-%d",
         "title": {
          "text": ""
         },
         "type": "date"
        },
        "xaxis8": {
         "anchor": "y8",
         "domain": [
          0.575,
          1
         ],
         "dtick": 604800000,
         "showgrid": true,
         "tickangle": 90,
         "tickfont": {
          "family": "Arial, san-serif",
          "size": 10
         },
         "tickformat": "%Y-%m-%d",
         "title": {
          "text": ""
         },
         "type": "date"
        },
        "xaxis9": {
         "anchor": "y9",
         "domain": [
          0,
          0.425
         ],
         "dtick": 604800000,
         "showgrid": true,
         "tickangle": 90,
         "tickfont": {
          "family": "Arial, san-serif",
          "size": 10
         },
         "tickformat": "%Y-%m-%d",
         "title": {
          "text": ""
         },
         "type": "date"
        },
        "yaxis": {
         "anchor": "x",
         "domain": [
          0.9275,
          1
         ],
         "hoverformat": "$,.0f",
         "tickfont": {
          "family": "Arial, san-serif",
          "size": 10
         },
         "tickformat": "$,.0f",
         "title": {
          "font": {
           "family": "Arial, san-serif",
           "size": 10
          },
          "text": "$ Diff to LY"
         }
        },
        "yaxis10": {
         "anchor": "x10",
         "domain": [
          0.3975,
          0.47000000000000003
         ],
         "tickfont": {
          "family": "Arial, san-serif",
          "size": 10
         },
         "tickformat": "0.1%",
         "title": {
          "font": {
           "family": "Arial, san-serif",
           "size": 10
          },
          "text": "% Diff to LY"
         }
        },
        "yaxis11": {
         "anchor": "x11",
         "domain": [
          0.265,
          0.3375
         ],
         "hoverformat": "$,.0f",
         "tickfont": {
          "family": "Arial, san-serif",
          "size": 10
         },
         "tickformat": "$,.0f",
         "title": {
          "font": {
           "family": "Arial, san-serif",
           "size": 10
          },
          "text": "$ Diff to LY"
         }
        },
        "yaxis12": {
         "anchor": "x12",
         "domain": [
          0.265,
          0.3375
         ],
         "tickfont": {
          "family": "Arial, san-serif",
          "size": 10
         },
         "tickformat": "0.1%",
         "title": {
          "font": {
           "family": "Arial, san-serif",
           "size": 10
          },
          "text": "% Diff to LY"
         }
        },
        "yaxis13": {
         "anchor": "x13",
         "domain": [
          0.1325,
          0.20500000000000002
         ],
         "hoverformat": "$,.0f",
         "tickfont": {
          "family": "Arial, san-serif",
          "size": 10
         },
         "tickformat": "$,.0f",
         "title": {
          "font": {
           "family": "Arial, san-serif",
           "size": 10
          },
          "text": "$ Diff to LY"
         }
        },
        "yaxis14": {
         "anchor": "x14",
         "domain": [
          0.1325,
          0.20500000000000002
         ],
         "tickfont": {
          "family": "Arial, san-serif",
          "size": 10
         },
         "tickformat": "0.1%",
         "title": {
          "font": {
           "family": "Arial, san-serif",
           "size": 10
          },
          "text": "% Diff to LY"
         }
        },
        "yaxis15": {
         "anchor": "x15",
         "domain": [
          0,
          0.07250000000000001
         ],
         "hoverformat": "$,.0f",
         "tickfont": {
          "family": "Arial, san-serif",
          "size": 10
         },
         "tickformat": "$,.0f",
         "title": {
          "font": {
           "family": "Arial, san-serif",
           "size": 10
          },
          "text": "$ Diff to LY"
         }
        },
        "yaxis16": {
         "anchor": "x16",
         "domain": [
          0,
          0.07250000000000001
         ],
         "tickfont": {
          "family": "Arial, san-serif",
          "size": 10
         },
         "tickformat": "0.1%",
         "title": {
          "font": {
           "family": "Arial, san-serif",
           "size": 10
          },
          "text": "% Diff to LY"
         }
        },
        "yaxis2": {
         "anchor": "x2",
         "domain": [
          0.9275,
          1
         ],
         "tickfont": {
          "family": "Arial, san-serif",
          "size": 10
         },
         "tickformat": "0.1%",
         "title": {
          "font": {
           "family": "Arial, san-serif",
           "size": 10
          },
          "text": "% Diff to LY"
         }
        },
        "yaxis3": {
         "anchor": "x3",
         "domain": [
          0.795,
          0.8675
         ],
         "hoverformat": "$,.0f",
         "tickfont": {
          "family": "Arial, san-serif",
          "size": 10
         },
         "tickformat": "$,.0f",
         "title": {
          "font": {
           "family": "Arial, san-serif",
           "size": 10
          },
          "text": "$ Diff to LY"
         }
        },
        "yaxis4": {
         "anchor": "x4",
         "domain": [
          0.795,
          0.8675
         ],
         "tickfont": {
          "family": "Arial, san-serif",
          "size": 10
         },
         "tickformat": "0.1%",
         "title": {
          "font": {
           "family": "Arial, san-serif",
           "size": 10
          },
          "text": "% Diff to LY"
         }
        },
        "yaxis5": {
         "anchor": "x5",
         "domain": [
          0.6625000000000001,
          0.7350000000000001
         ],
         "hoverformat": "$,.0f",
         "tickfont": {
          "family": "Arial, san-serif",
          "size": 10
         },
         "tickformat": "$,.0f",
         "title": {
          "font": {
           "family": "Arial, san-serif",
           "size": 10
          },
          "text": "$ Diff to LY"
         }
        },
        "yaxis6": {
         "anchor": "x6",
         "domain": [
          0.6625000000000001,
          0.7350000000000001
         ],
         "tickfont": {
          "family": "Arial, san-serif",
          "size": 10
         },
         "tickformat": "0.1%",
         "title": {
          "font": {
           "family": "Arial, san-serif",
           "size": 10
          },
          "text": "% Diff to LY"
         }
        },
        "yaxis7": {
         "anchor": "x7",
         "domain": [
          0.53,
          0.6025
         ],
         "hoverformat": "$,.0f",
         "tickfont": {
          "family": "Arial, san-serif",
          "size": 10
         },
         "tickformat": "$,.0f",
         "title": {
          "font": {
           "family": "Arial, san-serif",
           "size": 10
          },
          "text": "$ Diff to LY"
         }
        },
        "yaxis8": {
         "anchor": "x8",
         "domain": [
          0.53,
          0.6025
         ],
         "tickfont": {
          "family": "Arial, san-serif",
          "size": 10
         },
         "tickformat": "0.1%",
         "title": {
          "font": {
           "family": "Arial, san-serif",
           "size": 10
          },
          "text": "% Diff to LY"
         }
        },
        "yaxis9": {
         "anchor": "x9",
         "domain": [
          0.3975,
          0.47000000000000003
         ],
         "hoverformat": "$,.0f",
         "tickfont": {
          "family": "Arial, san-serif",
          "size": 10
         },
         "tickformat": "$,.0f",
         "title": {
          "font": {
           "family": "Arial, san-serif",
           "size": 10
          },
          "text": "$ Diff to LY"
         }
        }
       }
      },
      "text/html": [
       "<div>\n",
       "        \n",
       "        \n",
       "            <div id=\"be66132e-76dc-4d36-821d-fd632452d513\" class=\"plotly-graph-div\" style=\"height:2400px; width:1000px;\"></div>\n",
       "            <script type=\"text/javascript\">\n",
       "                require([\"plotly\"], function(Plotly) {\n",
       "                    window.PLOTLYENV=window.PLOTLYENV || {};\n",
       "                    \n",
       "                if (document.getElementById(\"be66132e-76dc-4d36-821d-fd632452d513\")) {\n",
       "                    Plotly.newPlot(\n",
       "                        'be66132e-76dc-4d36-821d-fd632452d513',\n",
       "                        [{\"marker\": {\"color\": \"#3f8fc5\"}, \"name\": \"Daily Sales Amount\", \"showlegend\": true, \"type\": \"bar\", \"x\": [\"2020-02-03T00:00:00\", \"2020-02-04T00:00:00\", \"2020-02-05T00:00:00\", \"2020-02-06T00:00:00\", \"2020-02-07T00:00:00\", \"2020-02-08T00:00:00\", \"2020-02-09T00:00:00\", \"2020-02-10T00:00:00\", \"2020-02-11T00:00:00\", \"2020-02-12T00:00:00\", \"2020-02-13T00:00:00\", \"2020-02-14T00:00:00\", \"2020-02-15T00:00:00\", \"2020-02-16T00:00:00\", \"2020-02-17T00:00:00\", \"2020-02-18T00:00:00\", \"2020-02-19T00:00:00\", \"2020-02-20T00:00:00\", \"2020-02-21T00:00:00\", \"2020-02-22T00:00:00\", \"2020-02-23T00:00:00\", \"2020-02-24T00:00:00\", \"2020-02-25T00:00:00\", \"2020-02-26T00:00:00\", \"2020-02-27T00:00:00\", \"2020-02-28T00:00:00\", \"2020-02-29T00:00:00\", \"2020-03-01T00:00:00\", \"2020-03-02T00:00:00\", \"2020-03-03T00:00:00\", \"2020-03-04T00:00:00\", \"2020-03-05T00:00:00\", \"2020-03-06T00:00:00\", \"2020-03-07T00:00:00\", \"2020-03-08T00:00:00\", \"2020-03-09T00:00:00\", \"2020-03-10T00:00:00\", \"2020-03-11T00:00:00\", \"2020-03-12T00:00:00\", \"2020-03-13T00:00:00\", \"2020-03-14T00:00:00\", \"2020-03-15T00:00:00\", \"2020-03-16T00:00:00\", \"2020-03-17T00:00:00\", \"2020-03-18T00:00:00\", \"2020-03-19T00:00:00\", \"2020-03-20T00:00:00\", \"2020-03-21T00:00:00\", \"2020-03-22T00:00:00\", \"2020-03-23T00:00:00\", \"2020-03-24T00:00:00\", \"2020-03-25T00:00:00\", \"2020-03-26T00:00:00\", \"2020-03-27T00:00:00\", \"2020-03-28T00:00:00\", \"2020-03-29T00:00:00\", \"2020-03-30T00:00:00\", \"2020-03-31T00:00:00\", \"2020-04-01T00:00:00\", \"2020-04-02T00:00:00\"], \"xaxis\": \"x\", \"y\": [24796.65, 9440.2, 9105.33, 9233.38, 8203.32, 24.48, -1.24, 23470.6, 8852.7, 10297.38, 9918.74, 8585.43, 48.86, 1.01, 21989.42, 10601.76, 8535.53, 9649.48, 8671.68, 74.46, 3.99, 24498.14, 9289.11, 9337.93, 10092.82, 7652.32, 11.0, -0.99, 25924.47, 9196.33, 9469.21, 7878.33, 8162.14, 34.45, 42.86, 24598.45, 7315.38, 9291.89, 8961.7, 8964.06, -2.02, 0.0, 27504.76, 8297.97, 9522.44, 8438.01, 8226.96, 10.2, -2.08, 32943.34, 14858.68, 13956.49, 16380.78, 15910.99, 65.91, 3.99, 51729.52, 23687.74, 21384.33, 22307.23], \"yaxis\": \"y\"}, {\"marker\": {\"color\": \"#fee6da\"}, \"name\": \"Daily Sales Difference\", \"showlegend\": true, \"type\": \"bar\", \"x\": [\"2020-02-03T00:00:00\", \"2020-02-04T00:00:00\", \"2020-02-05T00:00:00\", \"2020-02-06T00:00:00\", \"2020-02-07T00:00:00\", \"2020-02-08T00:00:00\", \"2020-02-09T00:00:00\", \"2020-02-10T00:00:00\", \"2020-02-11T00:00:00\", \"2020-02-12T00:00:00\", \"2020-02-13T00:00:00\", \"2020-02-14T00:00:00\", \"2020-02-15T00:00:00\", \"2020-02-16T00:00:00\", \"2020-02-17T00:00:00\", \"2020-02-18T00:00:00\", \"2020-02-19T00:00:00\", \"2020-02-20T00:00:00\", \"2020-02-21T00:00:00\", \"2020-02-22T00:00:00\", \"2020-02-23T00:00:00\", \"2020-02-24T00:00:00\", \"2020-02-25T00:00:00\", \"2020-02-26T00:00:00\", \"2020-02-27T00:00:00\", \"2020-02-28T00:00:00\", \"2020-02-29T00:00:00\", \"2020-03-01T00:00:00\", \"2020-03-02T00:00:00\", \"2020-03-03T00:00:00\", \"2020-03-04T00:00:00\", \"2020-03-05T00:00:00\", \"2020-03-06T00:00:00\", \"2020-03-07T00:00:00\", \"2020-03-08T00:00:00\", \"2020-03-09T00:00:00\", \"2020-03-10T00:00:00\", \"2020-03-11T00:00:00\", \"2020-03-12T00:00:00\", \"2020-03-13T00:00:00\", \"2020-03-14T00:00:00\", \"2020-03-15T00:00:00\", \"2020-03-16T00:00:00\", \"2020-03-17T00:00:00\", \"2020-03-18T00:00:00\", \"2020-03-19T00:00:00\", \"2020-03-20T00:00:00\", \"2020-03-21T00:00:00\", \"2020-03-22T00:00:00\", \"2020-03-23T00:00:00\", \"2020-03-24T00:00:00\", \"2020-03-25T00:00:00\", \"2020-03-26T00:00:00\", \"2020-03-27T00:00:00\", \"2020-03-28T00:00:00\", \"2020-03-29T00:00:00\", \"2020-03-30T00:00:00\", \"2020-03-31T00:00:00\", \"2020-04-01T00:00:00\", \"2020-04-02T00:00:00\"], \"xaxis\": \"x\", \"y\": [-5565.539999999997, -2434.74, -984.7000000000007, -366.02000000000044, -1750.3099999999995, 25.2, -1.24, -2979.84, -443.9299999999985, 129.02999999999884, 621.5300000000007, 687.5, 43.35, 2.23, -2424.3300000000017, 1324.17, 75.47000000000116, -156.63000000000102, 203.01000000000022, -180.03000000000003, -12.089999999999998, -530.6599999999999, 554.3400000000001, 93.57999999999993, 236.54999999999927, -1420.4500000000007, 11.0, -29.939999999999998, 341.0699999999997, 736.2000000000007, -272.0100000000002, -1257.0100000000002, -1095.1799999999994, 15.670000000000002, 42.86, 992.1700000000019, -376.25, -346.64000000000124, 1038.5200000000004, 1103.6399999999994, -5.63, 0.03, 6212.419999999998, -212.22000000000116, 2153.2800000000007, 1245.1400000000003, -407.9100000000017, -35.45, -2.08, 10195.639999999996, 6424.15, 5288.629999999999, 8372.330000000002, 8625.55, -162.8, -207.51999999999998, 26483.189999999995, 12771.710000000001, 10549.570000000002, 13577.9], \"yaxis\": \"y\"}, {\"marker\": {\"color\": \"#fd994d\"}, \"name\": \"\", \"showlegend\": false, \"type\": \"bar\", \"x\": [\"2020-02-03T00:00:00\", \"2020-02-04T00:00:00\", \"2020-02-05T00:00:00\", \"2020-02-06T00:00:00\", \"2020-02-07T00:00:00\", \"2020-02-08T00:00:00\", \"2020-02-09T00:00:00\", \"2020-02-10T00:00:00\", \"2020-02-11T00:00:00\", \"2020-02-12T00:00:00\", \"2020-02-13T00:00:00\", \"2020-02-14T00:00:00\", \"2020-02-15T00:00:00\", \"2020-02-16T00:00:00\", \"2020-02-17T00:00:00\", \"2020-02-18T00:00:00\", \"2020-02-19T00:00:00\", \"2020-02-20T00:00:00\", \"2020-02-21T00:00:00\", \"2020-02-22T00:00:00\", \"2020-02-23T00:00:00\", \"2020-02-24T00:00:00\", \"2020-02-25T00:00:00\", \"2020-02-26T00:00:00\", \"2020-02-27T00:00:00\", \"2020-02-28T00:00:00\", \"2020-02-29T00:00:00\", \"2020-03-01T00:00:00\", \"2020-03-02T00:00:00\", \"2020-03-03T00:00:00\", \"2020-03-04T00:00:00\", \"2020-03-05T00:00:00\", \"2020-03-06T00:00:00\", \"2020-03-07T00:00:00\", \"2020-03-08T00:00:00\", \"2020-03-09T00:00:00\", \"2020-03-10T00:00:00\", \"2020-03-11T00:00:00\", \"2020-03-12T00:00:00\", \"2020-03-13T00:00:00\", \"2020-03-14T00:00:00\", \"2020-03-15T00:00:00\", \"2020-03-16T00:00:00\", \"2020-03-17T00:00:00\", \"2020-03-18T00:00:00\", \"2020-03-19T00:00:00\", \"2020-03-20T00:00:00\", \"2020-03-21T00:00:00\", \"2020-03-22T00:00:00\", \"2020-03-23T00:00:00\", \"2020-03-24T00:00:00\", \"2020-03-25T00:00:00\", \"2020-03-26T00:00:00\", \"2020-03-27T00:00:00\", \"2020-03-28T00:00:00\", \"2020-03-29T00:00:00\", \"2020-03-30T00:00:00\", \"2020-03-31T00:00:00\", \"2020-04-01T00:00:00\", \"2020-04-02T00:00:00\"], \"xaxis\": \"x2\", \"y\": [-0.15988998545750788, -0.1896546250953549, -0.20557195740070455, -0.16303846698897106, -0.1527828336114121, -0.15388455145815427, -0.15411006786777726, -0.12493651398045824, -0.09941732155099525, -0.08228649443015457, -0.0675135969102667, -0.031084692973391448, -0.030794059262559625, -0.030739675369581887, -0.022669641652594996, 0.006280470468623678, 0.00555881021377691, -0.00748817276656355, -0.015434763290767761, -0.019052743556506435, -0.01928324004168036, 0.011796097977879505, -0.0007666740498172286, -0.00046268865975540585, 0.005920124902138557, -0.02023484938237985, -0.017234505360832708, -0.017518987456165203, -0.00342047753608965, -0.0005139296791877301, -0.0063366693899541415, -0.03049153193045906, -0.025172184966293698, -0.025089537765601744, -0.023930726303329153, -0.013904233326749504, -0.032796153173970555, -0.034110401247691824, 0.004664086038671966, 0.04353227649077174, 0.04316841388027992, 0.042413372066171906, 0.14016053761022196, 0.1410532003192595, 0.1943024841730978, 0.20097548161389356, 0.16952074985930277, 0.16882423524909695, 0.16878436228204619, 0.23736322128775678, 0.3596297495368861, 0.40751439070209083, 0.5276937748876644, 0.7042766911102711, 0.6996485090393869, 0.6932901795834097, 0.94388530999609, 1.0100184382457496, 1.058994539083646, 1.1290026446717087], \"yaxis\": \"y2\"}, {\"marker\": {\"color\": \"#3f8fc5\"}, \"name\": \"Daily Sales Amount\", \"showlegend\": false, \"type\": \"bar\", \"x\": [\"2020-02-03T00:00:00\", \"2020-02-04T00:00:00\", \"2020-02-05T00:00:00\", \"2020-02-06T00:00:00\", \"2020-02-07T00:00:00\", \"2020-02-08T00:00:00\", \"2020-02-09T00:00:00\", \"2020-02-10T00:00:00\", \"2020-02-11T00:00:00\", \"2020-02-12T00:00:00\", \"2020-02-13T00:00:00\", \"2020-02-14T00:00:00\", \"2020-02-15T00:00:00\", \"2020-02-16T00:00:00\", \"2020-02-17T00:00:00\", \"2020-02-18T00:00:00\", \"2020-02-19T00:00:00\", \"2020-02-20T00:00:00\", \"2020-02-21T00:00:00\", \"2020-02-22T00:00:00\", \"2020-02-23T00:00:00\", \"2020-02-24T00:00:00\", \"2020-02-25T00:00:00\", \"2020-02-26T00:00:00\", \"2020-02-27T00:00:00\", \"2020-02-28T00:00:00\", \"2020-02-29T00:00:00\", \"2020-03-01T00:00:00\", \"2020-03-02T00:00:00\", \"2020-03-03T00:00:00\", \"2020-03-04T00:00:00\", \"2020-03-05T00:00:00\", \"2020-03-06T00:00:00\", \"2020-03-07T00:00:00\", \"2020-03-08T00:00:00\", \"2020-03-09T00:00:00\", \"2020-03-10T00:00:00\", \"2020-03-11T00:00:00\", \"2020-03-12T00:00:00\", \"2020-03-13T00:00:00\", \"2020-03-14T00:00:00\", \"2020-03-15T00:00:00\", \"2020-03-16T00:00:00\", \"2020-03-17T00:00:00\", \"2020-03-18T00:00:00\", \"2020-03-19T00:00:00\", \"2020-03-20T00:00:00\", \"2020-03-21T00:00:00\", \"2020-03-22T00:00:00\", \"2020-03-23T00:00:00\", \"2020-03-24T00:00:00\", \"2020-03-25T00:00:00\", \"2020-03-26T00:00:00\", \"2020-03-27T00:00:00\", \"2020-03-28T00:00:00\", \"2020-03-29T00:00:00\", \"2020-03-30T00:00:00\", \"2020-03-31T00:00:00\", \"2020-04-01T00:00:00\", \"2020-04-02T00:00:00\"], \"xaxis\": \"x3\", \"y\": [31239.68, 11068.52, 10829.45, 11358.15, 9821.69, 4.84, 3.78, 25757.04, 11127.96, 9756.62, 10986.05, 10444.86, 198.38, 3.99, 24425.88, 12460.04, 10167.77, 9469.39, 10081.38, -6.36, -3.93, 25740.05, 10678.11, 9947.95, 11566.31, 10018.77, 10.73, -0.77, 25296.8, 12100.09, 8449.74, 9880.6, 9956.08, 13.1, 10.05, 25408.84, 7931.1, 9974.05, 8997.22, 9383.75, 42.2, 0.0, 28340.75, 8313.33, 12391.8, 11340.29, 9781.4, -0.78, -1.56, 38935.7, 15411.46, 13962.21, 19522.46, 21894.09, 72.17, 40.27, 65055.76, 24175.86, 24254.0, 19461.36], \"yaxis\": \"y3\"}, {\"marker\": {\"color\": \"#fee6da\"}, \"name\": \"Daily Sales Difference\", \"showlegend\": false, \"type\": \"bar\", \"x\": [\"2020-02-03T00:00:00\", \"2020-02-04T00:00:00\", \"2020-02-05T00:00:00\", \"2020-02-06T00:00:00\", \"2020-02-07T00:00:00\", \"2020-02-08T00:00:00\", \"2020-02-09T00:00:00\", \"2020-02-10T00:00:00\", \"2020-02-11T00:00:00\", \"2020-02-12T00:00:00\", \"2020-02-13T00:00:00\", \"2020-02-14T00:00:00\", \"2020-02-15T00:00:00\", \"2020-02-16T00:00:00\", \"2020-02-17T00:00:00\", \"2020-02-18T00:00:00\", \"2020-02-19T00:00:00\", \"2020-02-20T00:00:00\", \"2020-02-21T00:00:00\", \"2020-02-22T00:00:00\", \"2020-02-23T00:00:00\", \"2020-02-24T00:00:00\", \"2020-02-25T00:00:00\", \"2020-02-26T00:00:00\", \"2020-02-27T00:00:00\", \"2020-02-28T00:00:00\", \"2020-02-29T00:00:00\", \"2020-03-01T00:00:00\", \"2020-03-02T00:00:00\", \"2020-03-03T00:00:00\", \"2020-03-04T00:00:00\", \"2020-03-05T00:00:00\", \"2020-03-06T00:00:00\", \"2020-03-07T00:00:00\", \"2020-03-08T00:00:00\", \"2020-03-09T00:00:00\", \"2020-03-10T00:00:00\", \"2020-03-11T00:00:00\", \"2020-03-12T00:00:00\", \"2020-03-13T00:00:00\", \"2020-03-14T00:00:00\", \"2020-03-15T00:00:00\", \"2020-03-16T00:00:00\", \"2020-03-17T00:00:00\", \"2020-03-18T00:00:00\", \"2020-03-19T00:00:00\", \"2020-03-20T00:00:00\", \"2020-03-21T00:00:00\", \"2020-03-22T00:00:00\", \"2020-03-23T00:00:00\", \"2020-03-24T00:00:00\", \"2020-03-25T00:00:00\", \"2020-03-26T00:00:00\", \"2020-03-27T00:00:00\", \"2020-03-28T00:00:00\", \"2020-03-29T00:00:00\", \"2020-03-30T00:00:00\", \"2020-03-31T00:00:00\", \"2020-04-01T00:00:00\", \"2020-04-02T00:00:00\"], \"xaxis\": \"x3\", \"y\": [4091.5200000000004, -974.5599999999995, 2321.8500000000004, 2621.2700000000004, 439.130000000001, -103.92999999999999, 3.78, -2345.6299999999974, 261.9299999999985, 675.3000000000011, 1559.7399999999998, 2771.7700000000004, 184.72, -7.98, -2743.5200000000004, 1748.9900000000016, 1213.2600000000002, 259.8099999999995, 1463.8499999999985, -2.7600000000000002, -3.93, -2125.8199999999997, 64.76000000000022, 858.7600000000002, 2149.99, 847.3500000000004, -212.92000000000002, -4.76, -2397.3199999999997, 813.6200000000008, -1205.380000000001, 1169.6200000000008, -83.25, -69.0, 10.05, -1675.2700000000004, -1873.6299999999992, 275.6700000000001, 655.1299999999992, -139.1800000000003, 45.5, 0.0, 5800.43, -1484.83, 3195.99, 3844.1600000000008, 663.0299999999988, -7.220000000000001, -5.550000000000001, 14819.439999999999, 6964.98, 3708.24, 11127.009999999998, 14249.48, -8.170000000000002, 40.27, 37062.600000000006, 12914.220000000001, 12742.32, 9336.34], \"yaxis\": \"y3\"}, {\"marker\": {\"color\": \"#fd994d\"}, \"name\": \"\", \"showlegend\": false, \"type\": \"bar\", \"x\": [\"2020-02-03T00:00:00\", \"2020-02-04T00:00:00\", \"2020-02-05T00:00:00\", \"2020-02-06T00:00:00\", \"2020-02-07T00:00:00\", \"2020-02-08T00:00:00\", \"2020-02-09T00:00:00\", \"2020-02-10T00:00:00\", \"2020-02-11T00:00:00\", \"2020-02-12T00:00:00\", \"2020-02-13T00:00:00\", \"2020-02-14T00:00:00\", \"2020-02-15T00:00:00\", \"2020-02-16T00:00:00\", \"2020-02-17T00:00:00\", \"2020-02-18T00:00:00\", \"2020-02-19T00:00:00\", \"2020-02-20T00:00:00\", \"2020-02-21T00:00:00\", \"2020-02-22T00:00:00\", \"2020-02-23T00:00:00\", \"2020-02-24T00:00:00\", \"2020-02-25T00:00:00\", \"2020-02-26T00:00:00\", \"2020-02-27T00:00:00\", \"2020-02-28T00:00:00\", \"2020-02-29T00:00:00\", \"2020-03-01T00:00:00\", \"2020-03-02T00:00:00\", \"2020-03-03T00:00:00\", \"2020-03-04T00:00:00\", \"2020-03-05T00:00:00\", \"2020-03-06T00:00:00\", \"2020-03-07T00:00:00\", \"2020-03-08T00:00:00\", \"2020-03-09T00:00:00\", \"2020-03-10T00:00:00\", \"2020-03-11T00:00:00\", \"2020-03-12T00:00:00\", \"2020-03-13T00:00:00\", \"2020-03-14T00:00:00\", \"2020-03-15T00:00:00\", \"2020-03-16T00:00:00\", \"2020-03-17T00:00:00\", \"2020-03-18T00:00:00\", \"2020-03-19T00:00:00\", \"2020-03-20T00:00:00\", \"2020-03-21T00:00:00\", \"2020-03-22T00:00:00\", \"2020-03-23T00:00:00\", \"2020-03-24T00:00:00\", \"2020-03-25T00:00:00\", \"2020-03-26T00:00:00\", \"2020-03-27T00:00:00\", \"2020-03-28T00:00:00\", \"2020-03-29T00:00:00\", \"2020-03-30T00:00:00\", \"2020-03-31T00:00:00\", \"2020-04-01T00:00:00\", \"2020-04-02T00:00:00\"], \"xaxis\": \"x4\", \"y\": [0.027892055433553553, 0.015285525718018222, 0.07404424372506124, 0.12751265387028599, 0.1257289611741903, 0.12776515861092053, 0.12739929968048158, 0.029334094479855466, 0.0486785458106318, 0.023414173854674702, 0.007321743062250308, 0.04325832512363781, 0.04775111919203545, 0.04756191211207583, 0.04205923310344373, 0.06536478650830069, 0.07390526483822413, 0.05376333121337318, 0.03275939629945368, 0.029869133409331505, 0.02993729978454751, 0.03906973214266851, 0.013319135164162166, 0.007870544250729639, 0.036660047629024195, 0.027033727346869707, 0.023775154489771966, 0.023761222430960016, 0.01972239489978178, 0.030720117885643772, -0.0001396567497995438, -0.014829258791755784, -0.028402396793781648, -0.026328952807313177, -0.026110998794687368, -0.015549497286115876, -0.05700622411430645, -0.034329298407829834, -0.042433029970140757, -0.04363924694976096, -0.041920472237399586, -0.04207640963528403, 0.07952438145969376, 0.08602407602985185, 0.13591889421528758, 0.1923494514522217, 0.20748436379158797, 0.20654307445779407, 0.20643347692765057, 0.3519705982205479, 0.5048488031203371, 0.504479351511838, 0.6176555692849455, 0.8639170879539055, 0.8628177960709955, 0.8636536470824603, 1.164460126013291, 1.2051599921193596, 1.3175637733438927, 1.2582560012941517], \"yaxis\": \"y4\"}, {\"marker\": {\"color\": \"#3f8fc5\"}, \"name\": \"Daily Sales Amount\", \"showlegend\": false, \"type\": \"bar\", \"x\": [\"2020-02-03T00:00:00\", \"2020-02-04T00:00:00\", \"2020-02-05T00:00:00\", \"2020-02-06T00:00:00\", \"2020-02-07T00:00:00\", \"2020-02-08T00:00:00\", \"2020-02-09T00:00:00\", \"2020-02-10T00:00:00\", \"2020-02-11T00:00:00\", \"2020-02-12T00:00:00\", \"2020-02-13T00:00:00\", \"2020-02-14T00:00:00\", \"2020-02-15T00:00:00\", \"2020-02-16T00:00:00\", \"2020-02-17T00:00:00\", \"2020-02-18T00:00:00\", \"2020-02-19T00:00:00\", \"2020-02-20T00:00:00\", \"2020-02-21T00:00:00\", \"2020-02-22T00:00:00\", \"2020-02-23T00:00:00\", \"2020-02-24T00:00:00\", \"2020-02-25T00:00:00\", \"2020-02-26T00:00:00\", \"2020-02-27T00:00:00\", \"2020-02-28T00:00:00\", \"2020-02-29T00:00:00\", \"2020-03-01T00:00:00\", \"2020-03-02T00:00:00\", \"2020-03-03T00:00:00\", \"2020-03-04T00:00:00\", \"2020-03-05T00:00:00\", \"2020-03-06T00:00:00\", \"2020-03-07T00:00:00\", \"2020-03-08T00:00:00\", \"2020-03-09T00:00:00\", \"2020-03-10T00:00:00\", \"2020-03-11T00:00:00\", \"2020-03-12T00:00:00\", \"2020-03-13T00:00:00\", \"2020-03-14T00:00:00\", \"2020-03-15T00:00:00\", \"2020-03-16T00:00:00\", \"2020-03-17T00:00:00\", \"2020-03-18T00:00:00\", \"2020-03-19T00:00:00\", \"2020-03-20T00:00:00\", \"2020-03-21T00:00:00\", \"2020-03-22T00:00:00\", \"2020-03-23T00:00:00\", \"2020-03-24T00:00:00\", \"2020-03-25T00:00:00\", \"2020-03-26T00:00:00\", \"2020-03-27T00:00:00\", \"2020-03-28T00:00:00\", \"2020-03-29T00:00:00\", \"2020-03-30T00:00:00\", \"2020-03-31T00:00:00\", \"2020-04-01T00:00:00\", \"2020-04-02T00:00:00\"], \"xaxis\": \"x5\", \"y\": [0.0, 0.0, 0.0, 0.0, 0.0, 0.0, 0.0, 0.0, 0.0, 0.0, 0.0, 0.0, 0.0, 0.0, 0.0, 0.0, 0.0, 0.0, 0.0, 0.0, 0.0, 0.0, 0.0, 0.0, 0.0, 0.0, 0.0, 0.0, 0.0, 0.0, 0.0, 0.0, 0.0, 0.0, 0.0, 0.0, 0.0, 0.0, 0.0, 0.0, 0.0, 0.0, 0.0, 0.0, 0.0, 0.0, 0.0, 0.0, 0.0, 0.0, 0.0, 0.0, 0.0, 0.0, 0.0, 0.0, 0.0, 0.0, 0.0, 0.0], \"yaxis\": \"y5\"}, {\"marker\": {\"color\": \"#fee6da\"}, \"name\": \"Daily Sales Difference\", \"showlegend\": false, \"type\": \"bar\", \"x\": [\"2020-02-03T00:00:00\", \"2020-02-04T00:00:00\", \"2020-02-05T00:00:00\", \"2020-02-06T00:00:00\", \"2020-02-07T00:00:00\", \"2020-02-08T00:00:00\", \"2020-02-09T00:00:00\", \"2020-02-10T00:00:00\", \"2020-02-11T00:00:00\", \"2020-02-12T00:00:00\", \"2020-02-13T00:00:00\", \"2020-02-14T00:00:00\", \"2020-02-15T00:00:00\", \"2020-02-16T00:00:00\", \"2020-02-17T00:00:00\", \"2020-02-18T00:00:00\", \"2020-02-19T00:00:00\", \"2020-02-20T00:00:00\", \"2020-02-21T00:00:00\", \"2020-02-22T00:00:00\", \"2020-02-23T00:00:00\", \"2020-02-24T00:00:00\", \"2020-02-25T00:00:00\", \"2020-02-26T00:00:00\", \"2020-02-27T00:00:00\", \"2020-02-28T00:00:00\", \"2020-02-29T00:00:00\", \"2020-03-01T00:00:00\", \"2020-03-02T00:00:00\", \"2020-03-03T00:00:00\", \"2020-03-04T00:00:00\", \"2020-03-05T00:00:00\", \"2020-03-06T00:00:00\", \"2020-03-07T00:00:00\", \"2020-03-08T00:00:00\", \"2020-03-09T00:00:00\", \"2020-03-10T00:00:00\", \"2020-03-11T00:00:00\", \"2020-03-12T00:00:00\", \"2020-03-13T00:00:00\", \"2020-03-14T00:00:00\", \"2020-03-15T00:00:00\", \"2020-03-16T00:00:00\", \"2020-03-17T00:00:00\", \"2020-03-18T00:00:00\", \"2020-03-19T00:00:00\", \"2020-03-20T00:00:00\", \"2020-03-21T00:00:00\", \"2020-03-22T00:00:00\", \"2020-03-23T00:00:00\", \"2020-03-24T00:00:00\", \"2020-03-25T00:00:00\", \"2020-03-26T00:00:00\", \"2020-03-27T00:00:00\", \"2020-03-28T00:00:00\", \"2020-03-29T00:00:00\", \"2020-03-30T00:00:00\", \"2020-03-31T00:00:00\", \"2020-04-01T00:00:00\", \"2020-04-02T00:00:00\"], \"xaxis\": \"x5\", \"y\": [-28184.22, -10443.03, -8791.74, -8518.12, -8537.52, -27.97, 0.98, -25737.07, -9609.61, -8400.5, -6953.86, -8673.17, -36.56, -48.47, -23422.65, -8961.12, -8511.41, -9528.67, -8092.89, -7.98, -23.94, -25575.78, -8494.01, -8861.2, -9033.55, -8600.88, -3.35, -16.93, -26138.28, -9740.3, -8886.71, -9693.52, -8436.47, -146.33, 0.95, -23724.49, -8025.24, -8482.91, -9879.33, -7987.13, -117.61, -18.96, -21663.96, -8542.18, -8786.62, -8516.3, -7916.04, -87.33, -3.99, -22806.7, -8645.6, -8211.73, -7272.18, -6798.77, -227.35, -35.9, -23425.57, -10022.71, -9532.37, -8722.26], \"yaxis\": \"y5\"}, {\"marker\": {\"color\": \"#fd994d\"}, \"name\": \"\", \"showlegend\": false, \"type\": \"bar\", \"x\": [\"2020-02-03T00:00:00\", \"2020-02-04T00:00:00\", \"2020-02-05T00:00:00\", \"2020-02-06T00:00:00\", \"2020-02-07T00:00:00\", \"2020-02-08T00:00:00\", \"2020-02-09T00:00:00\", \"2020-02-10T00:00:00\", \"2020-02-11T00:00:00\", \"2020-02-12T00:00:00\", \"2020-02-13T00:00:00\", \"2020-02-14T00:00:00\", \"2020-02-15T00:00:00\", \"2020-02-16T00:00:00\", \"2020-02-17T00:00:00\", \"2020-02-18T00:00:00\", \"2020-02-19T00:00:00\", \"2020-02-20T00:00:00\", \"2020-02-21T00:00:00\", \"2020-02-22T00:00:00\", \"2020-02-23T00:00:00\", \"2020-02-24T00:00:00\", \"2020-02-25T00:00:00\", \"2020-02-26T00:00:00\", \"2020-02-27T00:00:00\", \"2020-02-28T00:00:00\", \"2020-02-29T00:00:00\", \"2020-03-01T00:00:00\", \"2020-03-02T00:00:00\", \"2020-03-03T00:00:00\", \"2020-03-04T00:00:00\", \"2020-03-05T00:00:00\", \"2020-03-06T00:00:00\", \"2020-03-07T00:00:00\", \"2020-03-08T00:00:00\", \"2020-03-09T00:00:00\", \"2020-03-10T00:00:00\", \"2020-03-11T00:00:00\", \"2020-03-12T00:00:00\", \"2020-03-13T00:00:00\", \"2020-03-14T00:00:00\", \"2020-03-15T00:00:00\", \"2020-03-16T00:00:00\", \"2020-03-17T00:00:00\", \"2020-03-18T00:00:00\", \"2020-03-19T00:00:00\", \"2020-03-20T00:00:00\", \"2020-03-21T00:00:00\", \"2020-03-22T00:00:00\", \"2020-03-23T00:00:00\", \"2020-03-24T00:00:00\", \"2020-03-25T00:00:00\", \"2020-03-26T00:00:00\", \"2020-03-27T00:00:00\", \"2020-03-28T00:00:00\", \"2020-03-29T00:00:00\", \"2020-03-30T00:00:00\", \"2020-03-31T00:00:00\", \"2020-04-01T00:00:00\", \"2020-04-02T00:00:00\"], \"xaxis\": \"x6\", \"y\": [-0.9999999999999991, -0.9999999999999991, -0.999999999999999, -0.999999999999999, -0.9999999999999989, -0.9999999999999989, -0.9999999999999989, -0.9999999999999989, -0.9999999999999989, -0.9999999999999989, -0.9999999999999988, -0.9999999999999988, -0.9999999999999988, -0.9999999999999989, -0.9999999999999988, -0.9999999999999988, -0.9999999999999988, -0.9999999999999988, -0.9999999999999988, -0.9999999999999988, -0.9999999999999988, -0.9999999999999989, -0.9999999999999989, -0.9999999999999989, -0.9999999999999989, -0.9999999999999989, -0.9999999999999989, -0.9999999999999989, -0.9999999999999989, -0.9999999999999989, -0.9999999999999989, -0.9999999999999989, -0.9999999999999989, -0.9999999999999989, -0.9999999999999989, -0.9999999999999989, -0.9999999999999988, -0.9999999999999988, -0.9999999999999988, -0.9999999999999988, -0.9999999999999988, -0.9999999999999988, -0.9999999999999988, -0.9999999999999988, -0.9999999999999988, -0.9999999999999988, -0.9999999999999988, -0.9999999999999988, -0.9999999999999988, -0.9999999999999988, -0.9999999999999988, -0.9999999999999988, -0.9999999999999988, -0.9999999999999987, -0.9999999999999987, -0.9999999999999987, -0.9999999999999988, -0.9999999999999988, -0.9999999999999988, -0.9999999999999988], \"yaxis\": \"y6\"}, {\"marker\": {\"color\": \"#3f8fc5\"}, \"name\": \"Daily Sales Amount\", \"showlegend\": false, \"type\": \"bar\", \"x\": [\"2020-02-03T00:00:00\", \"2020-02-04T00:00:00\", \"2020-02-05T00:00:00\", \"2020-02-06T00:00:00\", \"2020-02-07T00:00:00\", \"2020-02-08T00:00:00\", \"2020-02-09T00:00:00\", \"2020-02-10T00:00:00\", \"2020-02-11T00:00:00\", \"2020-02-12T00:00:00\", \"2020-02-13T00:00:00\", \"2020-02-14T00:00:00\", \"2020-02-15T00:00:00\", \"2020-02-16T00:00:00\", \"2020-02-17T00:00:00\", \"2020-02-18T00:00:00\", \"2020-02-19T00:00:00\", \"2020-02-20T00:00:00\", \"2020-02-21T00:00:00\", \"2020-02-22T00:00:00\", \"2020-02-23T00:00:00\", \"2020-02-24T00:00:00\", \"2020-02-25T00:00:00\", \"2020-02-26T00:00:00\", \"2020-02-27T00:00:00\", \"2020-02-28T00:00:00\", \"2020-02-29T00:00:00\", \"2020-03-01T00:00:00\", \"2020-03-02T00:00:00\", \"2020-03-03T00:00:00\", \"2020-03-04T00:00:00\", \"2020-03-05T00:00:00\", \"2020-03-06T00:00:00\", \"2020-03-07T00:00:00\", \"2020-03-08T00:00:00\", \"2020-03-09T00:00:00\", \"2020-03-10T00:00:00\", \"2020-03-11T00:00:00\", \"2020-03-12T00:00:00\", \"2020-03-13T00:00:00\", \"2020-03-14T00:00:00\", \"2020-03-15T00:00:00\", \"2020-03-16T00:00:00\", \"2020-03-17T00:00:00\", \"2020-03-18T00:00:00\", \"2020-03-19T00:00:00\", \"2020-03-20T00:00:00\", \"2020-03-21T00:00:00\", \"2020-03-22T00:00:00\", \"2020-03-23T00:00:00\", \"2020-03-24T00:00:00\", \"2020-03-25T00:00:00\", \"2020-03-26T00:00:00\", \"2020-03-27T00:00:00\", \"2020-03-28T00:00:00\", \"2020-03-29T00:00:00\", \"2020-03-30T00:00:00\", \"2020-03-31T00:00:00\", \"2020-04-01T00:00:00\", \"2020-04-02T00:00:00\"], \"xaxis\": \"x7\", \"y\": [28425.78, 10517.17, 9532.95, 9596.41, 9374.73, 2.03, -1.04, 25274.73, 9637.85, 8371.21, 8781.05, 8449.22, -3.79, -2.51, 20764.87, 8454.46, 12077.55, 9762.32, 9551.84, 26.87, -1.83, 24973.51, 9362.37, 10484.93, 8390.34, 9355.03, 0.0, -0.78, 26052.08, 8766.89, 10628.2, 8496.63, 7422.85, 100.49, 0.0, 23564.35, 9722.2, 9845.04, 9569.03, 8790.5, 3.99, 0.0, 25108.95, 9033.32, 10018.18, 9593.85, 8896.22, 10.74, 19.21, 35377.11, 19588.56, 21272.96, 20275.35, 21718.9, 92.9, -14.16, 65150.15, 25805.17, 28240.82, 24152.53], \"yaxis\": \"y7\"}, {\"marker\": {\"color\": \"#fee6da\"}, \"name\": \"Daily Sales Difference\", \"showlegend\": false, \"type\": \"bar\", \"x\": [\"2020-02-03T00:00:00\", \"2020-02-04T00:00:00\", \"2020-02-05T00:00:00\", \"2020-02-06T00:00:00\", \"2020-02-07T00:00:00\", \"2020-02-08T00:00:00\", \"2020-02-09T00:00:00\", \"2020-02-10T00:00:00\", \"2020-02-11T00:00:00\", \"2020-02-12T00:00:00\", \"2020-02-13T00:00:00\", \"2020-02-14T00:00:00\", \"2020-02-15T00:00:00\", \"2020-02-16T00:00:00\", \"2020-02-17T00:00:00\", \"2020-02-18T00:00:00\", \"2020-02-19T00:00:00\", \"2020-02-20T00:00:00\", \"2020-02-21T00:00:00\", \"2020-02-22T00:00:00\", \"2020-02-23T00:00:00\", \"2020-02-24T00:00:00\", \"2020-02-25T00:00:00\", \"2020-02-26T00:00:00\", \"2020-02-27T00:00:00\", \"2020-02-28T00:00:00\", \"2020-02-29T00:00:00\", \"2020-03-01T00:00:00\", \"2020-03-02T00:00:00\", \"2020-03-03T00:00:00\", \"2020-03-04T00:00:00\", \"2020-03-05T00:00:00\", \"2020-03-06T00:00:00\", \"2020-03-07T00:00:00\", \"2020-03-08T00:00:00\", \"2020-03-09T00:00:00\", \"2020-03-10T00:00:00\", \"2020-03-11T00:00:00\", \"2020-03-12T00:00:00\", \"2020-03-13T00:00:00\", \"2020-03-14T00:00:00\", \"2020-03-15T00:00:00\", \"2020-03-16T00:00:00\", \"2020-03-17T00:00:00\", \"2020-03-18T00:00:00\", \"2020-03-19T00:00:00\", \"2020-03-20T00:00:00\", \"2020-03-21T00:00:00\", \"2020-03-22T00:00:00\", \"2020-03-23T00:00:00\", \"2020-03-24T00:00:00\", \"2020-03-25T00:00:00\", \"2020-03-26T00:00:00\", \"2020-03-27T00:00:00\", \"2020-03-28T00:00:00\", \"2020-03-29T00:00:00\", \"2020-03-30T00:00:00\", \"2020-03-31T00:00:00\", \"2020-04-01T00:00:00\", \"2020-04-02T00:00:00\"], \"xaxis\": \"x7\", \"y\": [-248.20000000000073, 1138.9500000000007, 87.59000000000015, -24.100000000000364, 896.6000000000004, 2.65, -1.04, -569.8400000000001, 243.72000000000116, -336.84000000000015, 987.869999999999, -206.6200000000008, -11.920000000000002, -5.859999999999999, 198.39999999999782, -1365.5200000000004, 4464.869999999999, 1116.2399999999998, 1544.0900000000001, -13.02, -12.47, 1862.1299999999974, 1626.1500000000005, 3705.1400000000003, 48.649999999999636, 689.8400000000001, -39.06, -35.93, 2054.050000000003, -591.2200000000012, 4305.010000000001, -2150.870000000001, -2313.01, 83.61, 0.0, 1401.0999999999985, 956.8200000000015, 1594.1600000000017, 1721.050000000001, 1975.2700000000004, 8.34, 0.0, 5275.369999999999, 1030.2699999999995, 3247.34, 2457.5300000000007, 2201.949999999999, 16.25, -1.509999999999998, 14954.48, 11421.530000000002, 13392.97, 12964.829999999998, 13916.45, 52.38, -11.34, 42784.66, 16915.809999999998, 20896.5, 16418.29], \"yaxis\": \"y7\"}, {\"marker\": {\"color\": \"#fd994d\"}, \"name\": \"\", \"showlegend\": false, \"type\": \"bar\", \"x\": [\"2020-02-03T00:00:00\", \"2020-02-04T00:00:00\", \"2020-02-05T00:00:00\", \"2020-02-06T00:00:00\", \"2020-02-07T00:00:00\", \"2020-02-08T00:00:00\", \"2020-02-09T00:00:00\", \"2020-02-10T00:00:00\", \"2020-02-11T00:00:00\", \"2020-02-12T00:00:00\", \"2020-02-13T00:00:00\", \"2020-02-14T00:00:00\", \"2020-02-15T00:00:00\", \"2020-02-16T00:00:00\", \"2020-02-17T00:00:00\", \"2020-02-18T00:00:00\", \"2020-02-19T00:00:00\", \"2020-02-20T00:00:00\", \"2020-02-21T00:00:00\", \"2020-02-22T00:00:00\", \"2020-02-23T00:00:00\", \"2020-02-24T00:00:00\", \"2020-02-25T00:00:00\", \"2020-02-26T00:00:00\", \"2020-02-27T00:00:00\", \"2020-02-28T00:00:00\", \"2020-02-29T00:00:00\", \"2020-03-01T00:00:00\", \"2020-03-02T00:00:00\", \"2020-03-03T00:00:00\", \"2020-03-04T00:00:00\", \"2020-03-05T00:00:00\", \"2020-03-06T00:00:00\", \"2020-03-07T00:00:00\", \"2020-03-08T00:00:00\", \"2020-03-09T00:00:00\", \"2020-03-10T00:00:00\", \"2020-03-11T00:00:00\", \"2020-03-12T00:00:00\", \"2020-03-13T00:00:00\", \"2020-03-14T00:00:00\", \"2020-03-15T00:00:00\", \"2020-03-16T00:00:00\", \"2020-03-17T00:00:00\", \"2020-03-18T00:00:00\", \"2020-03-19T00:00:00\", \"2020-03-20T00:00:00\", \"2020-03-21T00:00:00\", \"2020-03-22T00:00:00\", \"2020-03-23T00:00:00\", \"2020-03-24T00:00:00\", \"2020-03-25T00:00:00\", \"2020-03-26T00:00:00\", \"2020-03-27T00:00:00\", \"2020-03-28T00:00:00\", \"2020-03-29T00:00:00\", \"2020-03-30T00:00:00\", \"2020-03-31T00:00:00\", \"2020-04-01T00:00:00\", \"2020-04-02T00:00:00\"], \"xaxis\": \"x8\", \"y\": [0.020979021946333942, 0.045421147474781653, 0.01470363271513353, 0.009778033805128539, 0.023323905838769754, 0.02811988246769137, 0.02824046986092732, 0.024389093678968132, 0.010123589406404454, 0.003403187730409263, 0.020311723646837976, 0.001985258750082597, 0.0017437615783093552, 0.0016638731278124652, 0.015758450837715765, -0.013328953289532097, 0.07457303694498196, 0.07574395891853158, 0.108668450641771, 0.10858523992526092, 0.10844993619237187, 0.13269052060843722, 0.19193436230164895, 0.18089349229502139, 0.16215247237695918, 0.14458167534671484, 0.14410767908767452, 0.1436142989167315, 0.144775990271091, 0.10191845013948697, 0.11330677257145094, 0.07164533778438265, 0.02043620472621699, 0.022484343269003837, 0.023095538133845572, 0.01261263024555559, 0.03959372830736729, -0.0071868378098258745, 0.060650159395268854, 0.14355862278962417, 0.14221715850609984, 0.14221715850609984, 0.22386528877645984, 0.2286756668506542, 0.26910143296649114, 0.28821367748972504, 0.29361368352744455, 0.29378403573629774, 0.2936272412574017, 0.4874628688039233, 0.6970158292738942, 0.8832913150930783, 1.0883517711055632, 1.2920116989416028, 1.2915597323670225, 1.291958283094719, 1.7646726725336315, 1.8424025121989263, 2.000364838295332, 2.0484670012456254], \"yaxis\": \"y8\"}, {\"marker\": {\"color\": \"#3f8fc5\"}, \"name\": \"Daily Sales Amount\", \"showlegend\": false, \"type\": \"bar\", \"x\": [\"2020-02-03T00:00:00\", \"2020-02-04T00:00:00\", \"2020-02-05T00:00:00\", \"2020-02-06T00:00:00\", \"2020-02-07T00:00:00\", \"2020-02-08T00:00:00\", \"2020-02-09T00:00:00\", \"2020-02-10T00:00:00\", \"2020-02-11T00:00:00\", \"2020-02-12T00:00:00\", \"2020-02-13T00:00:00\", \"2020-02-14T00:00:00\", \"2020-02-15T00:00:00\", \"2020-02-16T00:00:00\", \"2020-02-17T00:00:00\", \"2020-02-18T00:00:00\", \"2020-02-19T00:00:00\", \"2020-02-20T00:00:00\", \"2020-02-21T00:00:00\", \"2020-02-22T00:00:00\", \"2020-02-23T00:00:00\", \"2020-02-24T00:00:00\", \"2020-02-25T00:00:00\", \"2020-02-26T00:00:00\", \"2020-02-27T00:00:00\", \"2020-02-28T00:00:00\", \"2020-02-29T00:00:00\", \"2020-03-01T00:00:00\", \"2020-03-02T00:00:00\", \"2020-03-03T00:00:00\", \"2020-03-04T00:00:00\", \"2020-03-05T00:00:00\", \"2020-03-06T00:00:00\", \"2020-03-07T00:00:00\", \"2020-03-08T00:00:00\", \"2020-03-09T00:00:00\", \"2020-03-10T00:00:00\", \"2020-03-11T00:00:00\", \"2020-03-12T00:00:00\", \"2020-03-13T00:00:00\", \"2020-03-14T00:00:00\", \"2020-03-15T00:00:00\", \"2020-03-16T00:00:00\", \"2020-03-17T00:00:00\", \"2020-03-18T00:00:00\", \"2020-03-19T00:00:00\", \"2020-03-20T00:00:00\", \"2020-03-21T00:00:00\", \"2020-03-22T00:00:00\", \"2020-03-23T00:00:00\", \"2020-03-24T00:00:00\", \"2020-03-25T00:00:00\", \"2020-03-26T00:00:00\", \"2020-03-27T00:00:00\", \"2020-03-28T00:00:00\", \"2020-03-29T00:00:00\", \"2020-03-30T00:00:00\", \"2020-03-31T00:00:00\", \"2020-04-01T00:00:00\", \"2020-04-02T00:00:00\"], \"xaxis\": \"x9\", \"y\": [31889.1, 10895.73, 13252.7, 11231.99, 9625.28, 1.51, -2.58, 27566.61, 9064.2, 10615.18, 9914.88, 9137.2, 14.97, 7.98, 27475.3, 10728.95, 10792.52, 9832.32, 10578.38, 21.86, 8.99, 25785.37, 9495.19, 10474.55, 8909.02, 9008.88, -0.98, 0.0, 28504.36, 10413.18, 10172.29, 8858.58, 8559.31, 34.9, 13.98, 25784.09, 9190.29, 11177.35, 9044.17, 11671.71, -2.94, 11.97, 27100.1, 9302.9, 10921.92, 11170.7, 10553.27, 31.72, 16.98, 40607.91, 21709.53, 24371.32, 22662.61, 23932.94, 94.39, 0.0, 76472.98, 28055.43, 31444.68, 30036.44], \"yaxis\": \"y9\"}, {\"marker\": {\"color\": \"#fee6da\"}, \"name\": \"Daily Sales Difference\", \"showlegend\": false, \"type\": \"bar\", \"x\": [\"2020-02-03T00:00:00\", \"2020-02-04T00:00:00\", \"2020-02-05T00:00:00\", \"2020-02-06T00:00:00\", \"2020-02-07T00:00:00\", \"2020-02-08T00:00:00\", \"2020-02-09T00:00:00\", \"2020-02-10T00:00:00\", \"2020-02-11T00:00:00\", \"2020-02-12T00:00:00\", \"2020-02-13T00:00:00\", \"2020-02-14T00:00:00\", \"2020-02-15T00:00:00\", \"2020-02-16T00:00:00\", \"2020-02-17T00:00:00\", \"2020-02-18T00:00:00\", \"2020-02-19T00:00:00\", \"2020-02-20T00:00:00\", \"2020-02-21T00:00:00\", \"2020-02-22T00:00:00\", \"2020-02-23T00:00:00\", \"2020-02-24T00:00:00\", \"2020-02-25T00:00:00\", \"2020-02-26T00:00:00\", \"2020-02-27T00:00:00\", \"2020-02-28T00:00:00\", \"2020-02-29T00:00:00\", \"2020-03-01T00:00:00\", \"2020-03-02T00:00:00\", \"2020-03-03T00:00:00\", \"2020-03-04T00:00:00\", \"2020-03-05T00:00:00\", \"2020-03-06T00:00:00\", \"2020-03-07T00:00:00\", \"2020-03-08T00:00:00\", \"2020-03-09T00:00:00\", \"2020-03-10T00:00:00\", \"2020-03-11T00:00:00\", \"2020-03-12T00:00:00\", \"2020-03-13T00:00:00\", \"2020-03-14T00:00:00\", \"2020-03-15T00:00:00\", \"2020-03-16T00:00:00\", \"2020-03-17T00:00:00\", \"2020-03-18T00:00:00\", \"2020-03-19T00:00:00\", \"2020-03-20T00:00:00\", \"2020-03-21T00:00:00\", \"2020-03-22T00:00:00\", \"2020-03-23T00:00:00\", \"2020-03-24T00:00:00\", \"2020-03-25T00:00:00\", \"2020-03-26T00:00:00\", \"2020-03-27T00:00:00\", \"2020-03-28T00:00:00\", \"2020-03-29T00:00:00\", \"2020-03-30T00:00:00\", \"2020-03-31T00:00:00\", \"2020-04-01T00:00:00\", \"2020-04-02T00:00:00\"], \"xaxis\": \"x9\", \"y\": [5471.98, 344.4599999999991, 4722.41, 2535.289999999999, 593.7200000000012, -5.680000000000001, -2.58, 2838.9300000000003, 109.86000000000058, 1189.2800000000007, 2344.6099999999988, 1131.0100000000011, -186.64000000000001, -32.94, 6245.7199999999975, 2342.34, 2019.8700000000008, 1461.0100000000002, 2412.7999999999993, -128.14999999999998, -15.999999999999998, 2823.5699999999997, 557.3999999999996, 2274.3599999999988, 590.8199999999997, 617.4399999999987, -7.039999999999999, 4.67, 3135.5200000000004, 857.5699999999997, 790.5800000000017, -423.0100000000002, 955.2599999999993, -70.71000000000001, 13.98, 1863.5900000000001, 323.880000000001, 3086.96, 1246.5100000000002, 4518.709999999999, -141.82999999999998, 11.97, 6397.539999999997, -234.0599999999995, 3763.0600000000004, 2944.8600000000006, 3352.13, -3.530000000000001, -130.39000000000001, 19492.960000000003, 13394.97, 16688.13, 15042.57, 15568.269999999999, 87.01, -15.96, 67139.76999999999, 26071.04, 28120.35, 27659.94], \"yaxis\": \"y9\"}, {\"marker\": {\"color\": \"#fd994d\"}, \"name\": \"\", \"showlegend\": false, \"type\": \"bar\", \"x\": [\"2020-02-03T00:00:00\", \"2020-02-04T00:00:00\", \"2020-02-05T00:00:00\", \"2020-02-06T00:00:00\", \"2020-02-07T00:00:00\", \"2020-02-08T00:00:00\", \"2020-02-09T00:00:00\", \"2020-02-10T00:00:00\", \"2020-02-11T00:00:00\", \"2020-02-12T00:00:00\", \"2020-02-13T00:00:00\", \"2020-02-14T00:00:00\", \"2020-02-15T00:00:00\", \"2020-02-16T00:00:00\", \"2020-02-17T00:00:00\", \"2020-02-18T00:00:00\", \"2020-02-19T00:00:00\", \"2020-02-20T00:00:00\", \"2020-02-21T00:00:00\", \"2020-02-22T00:00:00\", \"2020-02-23T00:00:00\", \"2020-02-24T00:00:00\", \"2020-02-25T00:00:00\", \"2020-02-26T00:00:00\", \"2020-02-27T00:00:00\", \"2020-02-28T00:00:00\", \"2020-02-29T00:00:00\", \"2020-03-01T00:00:00\", \"2020-03-02T00:00:00\", \"2020-03-03T00:00:00\", \"2020-03-04T00:00:00\", \"2020-03-05T00:00:00\", \"2020-03-06T00:00:00\", \"2020-03-07T00:00:00\", \"2020-03-08T00:00:00\", \"2020-03-09T00:00:00\", \"2020-03-10T00:00:00\", \"2020-03-11T00:00:00\", \"2020-03-12T00:00:00\", \"2020-03-13T00:00:00\", \"2020-03-14T00:00:00\", \"2020-03-15T00:00:00\", \"2020-03-16T00:00:00\", \"2020-03-17T00:00:00\", \"2020-03-18T00:00:00\", \"2020-03-19T00:00:00\", \"2020-03-20T00:00:00\", \"2020-03-21T00:00:00\", \"2020-03-22T00:00:00\", \"2020-03-23T00:00:00\", \"2020-03-24T00:00:00\", \"2020-03-25T00:00:00\", \"2020-03-26T00:00:00\", \"2020-03-27T00:00:00\", \"2020-03-28T00:00:00\", \"2020-03-29T00:00:00\", \"2020-03-30T00:00:00\", \"2020-03-31T00:00:00\", \"2020-04-01T00:00:00\", \"2020-04-02T00:00:00\"], \"xaxis\": \"x10\", \"y\": [0.10986223402531103, 0.12764462126312237, 0.17415340226892906, 0.2342314570491788, 0.21567978588390124, 0.21596909928905927, 0.21601625577832695, 0.1791633039341003, 0.1800225729868803, 0.11930338506890692, 0.11836071975556672, 0.12958300485061125, 0.12608211223076982, 0.12547934381762071, 0.19486075923333002, 0.2375706056096598, 0.2557558566723661, 0.23596867196144933, 0.25852111340832584, 0.25982434349251227, 0.26020689744037906, 0.1920618232908904, 0.15911193565189574, 0.16519475664066952, 0.15001790038366036, 0.11791714296644606, 0.12034647144895194, 0.12077314159048269, 0.12113188844242107, 0.12489774076232485, 0.09816184586671461, 0.08027885508654542, 0.08683237464822513, 0.08565255852487619, 0.08579791544210447, 0.06662192077504292, 0.05837690312706911, 0.09936226153929906, 0.1315867695836206, 0.19635649932589705, 0.19496898610516777, 0.19493307198815057, 0.2927783721028552, 0.2786587509495604, 0.2964853062408823, 0.3261813840813317, 0.303859112514574, 0.30707118211462214, 0.3035318455824956, 0.5463277397741726, 0.8202246179305446, 1.0572211379245604, 1.301638444638455, 1.502495024871421, 1.504981581967756, 1.5108587510530271, 3.0940450678427016, 4.015580921847173, 4.959645976930495, 6.4798696708393715], \"yaxis\": \"y10\"}, {\"marker\": {\"color\": \"#3f8fc5\"}, \"name\": \"Daily Sales Amount\", \"showlegend\": false, \"type\": \"bar\", \"x\": [\"2020-02-03T00:00:00\", \"2020-02-04T00:00:00\", \"2020-02-05T00:00:00\", \"2020-02-06T00:00:00\", \"2020-02-07T00:00:00\", \"2020-02-08T00:00:00\", \"2020-02-09T00:00:00\", \"2020-02-10T00:00:00\", \"2020-02-11T00:00:00\", \"2020-02-12T00:00:00\", \"2020-02-13T00:00:00\", \"2020-02-14T00:00:00\", \"2020-02-15T00:00:00\", \"2020-02-16T00:00:00\", \"2020-02-17T00:00:00\", \"2020-02-18T00:00:00\", \"2020-02-19T00:00:00\", \"2020-02-20T00:00:00\", \"2020-02-21T00:00:00\", \"2020-02-22T00:00:00\", \"2020-02-23T00:00:00\", \"2020-02-24T00:00:00\", \"2020-02-25T00:00:00\", \"2020-02-26T00:00:00\", \"2020-02-27T00:00:00\", \"2020-02-28T00:00:00\", \"2020-02-29T00:00:00\", \"2020-03-01T00:00:00\", \"2020-03-02T00:00:00\", \"2020-03-03T00:00:00\", \"2020-03-04T00:00:00\", \"2020-03-05T00:00:00\", \"2020-03-06T00:00:00\", \"2020-03-07T00:00:00\", \"2020-03-08T00:00:00\", \"2020-03-09T00:00:00\", \"2020-03-10T00:00:00\", \"2020-03-11T00:00:00\", \"2020-03-12T00:00:00\", \"2020-03-13T00:00:00\", \"2020-03-14T00:00:00\", \"2020-03-15T00:00:00\", \"2020-03-16T00:00:00\", \"2020-03-17T00:00:00\", \"2020-03-18T00:00:00\", \"2020-03-19T00:00:00\", \"2020-03-20T00:00:00\", \"2020-03-21T00:00:00\", \"2020-03-22T00:00:00\", \"2020-03-23T00:00:00\", \"2020-03-24T00:00:00\", \"2020-03-25T00:00:00\", \"2020-03-26T00:00:00\", \"2020-03-27T00:00:00\", \"2020-03-28T00:00:00\", \"2020-03-29T00:00:00\", \"2020-03-30T00:00:00\", \"2020-03-31T00:00:00\", \"2020-04-01T00:00:00\", \"2020-04-02T00:00:00\"], \"xaxis\": \"x11\", \"y\": [26641.21, 9951.34, 9517.92, 9280.28, 8142.02, -2.1, 24.59, 25187.01, 9679.39, 10059.88, 8202.33, 7197.78, -0.81, 16.78, 22904.99, 10480.77, 8214.11, 8564.47, 7884.15, 3.99, 0.0, 23815.43, 9019.72, 7911.16, 9500.79, 8749.08, 0.0, 0.0, 24994.83, 9296.38, 8824.39, 8217.11, 10632.15, -0.88, 7.21, 26296.05, 8657.56, 10235.08, 8307.78, 7555.52, 109.02, 3.03, 25588.25, 5622.19, 9228.97, 8729.12, 8191.53, -4.86, 14.08, 32291.19, 15031.69, 12955.9, 13089.8, 15512.1, 12.36, 0.0, 44294.28, 19034.93, 20662.39, 16573.0], \"yaxis\": \"y11\"}, {\"marker\": {\"color\": \"#fee6da\"}, \"name\": \"Daily Sales Difference\", \"showlegend\": false, \"type\": \"bar\", \"x\": [\"2020-02-03T00:00:00\", \"2020-02-04T00:00:00\", \"2020-02-05T00:00:00\", \"2020-02-06T00:00:00\", \"2020-02-07T00:00:00\", \"2020-02-08T00:00:00\", \"2020-02-09T00:00:00\", \"2020-02-10T00:00:00\", \"2020-02-11T00:00:00\", \"2020-02-12T00:00:00\", \"2020-02-13T00:00:00\", \"2020-02-14T00:00:00\", \"2020-02-15T00:00:00\", \"2020-02-16T00:00:00\", \"2020-02-17T00:00:00\", \"2020-02-18T00:00:00\", \"2020-02-19T00:00:00\", \"2020-02-20T00:00:00\", \"2020-02-21T00:00:00\", \"2020-02-22T00:00:00\", \"2020-02-23T00:00:00\", \"2020-02-24T00:00:00\", \"2020-02-25T00:00:00\", \"2020-02-26T00:00:00\", \"2020-02-27T00:00:00\", \"2020-02-28T00:00:00\", \"2020-02-29T00:00:00\", \"2020-03-01T00:00:00\", \"2020-03-02T00:00:00\", \"2020-03-03T00:00:00\", \"2020-03-04T00:00:00\", \"2020-03-05T00:00:00\", \"2020-03-06T00:00:00\", \"2020-03-07T00:00:00\", \"2020-03-08T00:00:00\", \"2020-03-09T00:00:00\", \"2020-03-10T00:00:00\", \"2020-03-11T00:00:00\", \"2020-03-12T00:00:00\", \"2020-03-13T00:00:00\", \"2020-03-14T00:00:00\", \"2020-03-15T00:00:00\", \"2020-03-16T00:00:00\", \"2020-03-17T00:00:00\", \"2020-03-18T00:00:00\", \"2020-03-19T00:00:00\", \"2020-03-20T00:00:00\", \"2020-03-21T00:00:00\", \"2020-03-22T00:00:00\", \"2020-03-23T00:00:00\", \"2020-03-24T00:00:00\", \"2020-03-25T00:00:00\", \"2020-03-26T00:00:00\", \"2020-03-27T00:00:00\", \"2020-03-28T00:00:00\", \"2020-03-29T00:00:00\", \"2020-03-30T00:00:00\", \"2020-03-31T00:00:00\", \"2020-04-01T00:00:00\", \"2020-04-02T00:00:00\"], \"xaxis\": \"x11\", \"y\": [3863.9199999999983, 1290.33, 1250.4799999999996, 1811.590000000001, 739.3000000000002, -22.060000000000002, 21.43, 2400.0, 2264.1099999999997, 2639.079999999999, 625.8999999999996, -779.4200000000001, -4.800000000000001, 12.790000000000001, 2044.0600000000013, 1742.0900000000001, 462.7900000000009, 431.84999999999945, 829.5599999999995, -219.32999999999998, -46.92, 1545.4000000000015, 403.84999999999854, 242.47000000000025, 2118.830000000001, 1478.7799999999997, -13.57, 0.0, 3296.09, 1113.449999999999, -389.0100000000002, 715.8100000000004, 3470.62, -27.86, 7.21, 7064.84, 1589.6299999999992, 2018.7999999999993, 1506.300000000001, 462.0100000000002, 109.92, 3.03, 7447.950000000001, -1509.8600000000006, 2342.1899999999996, 1924.550000000001, 1226.6799999999994, -15.760000000000002, -34.230000000000004, 14108.32, 8783.73, 5268.7699999999995, 6199.869999999999, 9409.650000000001, -256.55, -105.36, 25166.5, 10794.64, 11515.17, 8317.02], \"yaxis\": \"y11\"}, {\"marker\": {\"color\": \"#fd994d\"}, \"name\": \"\", \"showlegend\": false, \"type\": \"bar\", \"x\": [\"2020-02-03T00:00:00\", \"2020-02-04T00:00:00\", \"2020-02-05T00:00:00\", \"2020-02-06T00:00:00\", \"2020-02-07T00:00:00\", \"2020-02-08T00:00:00\", \"2020-02-09T00:00:00\", \"2020-02-10T00:00:00\", \"2020-02-11T00:00:00\", \"2020-02-12T00:00:00\", \"2020-02-13T00:00:00\", \"2020-02-14T00:00:00\", \"2020-02-15T00:00:00\", \"2020-02-16T00:00:00\", \"2020-02-17T00:00:00\", \"2020-02-18T00:00:00\", \"2020-02-19T00:00:00\", \"2020-02-20T00:00:00\", \"2020-02-21T00:00:00\", \"2020-02-22T00:00:00\", \"2020-02-23T00:00:00\", \"2020-02-24T00:00:00\", \"2020-02-25T00:00:00\", \"2020-02-26T00:00:00\", \"2020-02-27T00:00:00\", \"2020-02-28T00:00:00\", \"2020-02-29T00:00:00\", \"2020-03-01T00:00:00\", \"2020-03-02T00:00:00\", \"2020-03-03T00:00:00\", \"2020-03-04T00:00:00\", \"2020-03-05T00:00:00\", \"2020-03-06T00:00:00\", \"2020-03-07T00:00:00\", \"2020-03-08T00:00:00\", \"2020-03-09T00:00:00\", \"2020-03-10T00:00:00\", \"2020-03-11T00:00:00\", \"2020-03-12T00:00:00\", \"2020-03-13T00:00:00\", \"2020-03-14T00:00:00\", \"2020-03-15T00:00:00\", \"2020-03-16T00:00:00\", \"2020-03-17T00:00:00\", \"2020-03-18T00:00:00\", \"2020-03-19T00:00:00\", \"2020-03-20T00:00:00\", \"2020-03-21T00:00:00\", \"2020-03-22T00:00:00\", \"2020-03-23T00:00:00\", \"2020-03-24T00:00:00\", \"2020-03-25T00:00:00\", \"2020-03-26T00:00:00\", \"2020-03-27T00:00:00\", \"2020-03-28T00:00:00\", \"2020-03-29T00:00:00\", \"2020-03-30T00:00:00\", \"2020-03-31T00:00:00\", \"2020-04-01T00:00:00\", \"2020-04-02T00:00:00\"], \"xaxis\": \"x12\", \"y\": [0.13117258719268876, 0.08483576827399486, 0.06314168011054155, 0.12937903347426016, 0.158855216300672, 0.16361501874504292, 0.164009994822369, 0.13717398593187702, 0.15862395543384178, 0.1876217924574639, 0.1647069017675118, 0.13438085528076704, 0.1347457415189972, 0.13458118594257296, 0.13269416929289068, 0.11942675462068508, 0.07755080364692324, 0.07311488415752465, 0.10501898142051114, 0.10051672069507522, 0.09930431495910219, 0.08752601559496997, 0.06298587273015932, 0.059003140781202834, 0.09150833117729884, 0.10327936692142292, 0.10754882823133194, 0.10852526154434616, 0.14295487883655333, 0.15772981521631402, 0.1414516870067266, 0.11509878203957391, 0.15237429811756953, 0.15207061910336028, 0.1522046716474954, 0.2329633155258395, 0.24762267105025848, 0.3015746496866274, 0.3222226139311042, 0.2605617272111467, 0.26355792487880825, 0.2634715782084951, 0.27764219566935466, 0.21185254877727444, 0.22499056526340455, 0.23405674488468442, 0.25136187024591816, 0.2485615304493185, 0.24749020174063596, 0.3919565642914129, 0.6276376504444217, 0.6804000035693609, 0.7720155240001774, 0.9679164392826578, 0.9571185421360946, 0.954354231024515, 1.1731030172183545, 1.1663643582390995, 1.2574474850015838, 1.2652412319000201], \"yaxis\": \"y12\"}, {\"marker\": {\"color\": \"#3f8fc5\"}, \"name\": \"Daily Sales Amount\", \"showlegend\": false, \"type\": \"bar\", \"x\": [\"2020-02-03T00:00:00\", \"2020-02-04T00:00:00\", \"2020-02-05T00:00:00\", \"2020-02-06T00:00:00\", \"2020-02-07T00:00:00\", \"2020-02-08T00:00:00\", \"2020-02-09T00:00:00\", \"2020-02-10T00:00:00\", \"2020-02-11T00:00:00\", \"2020-02-12T00:00:00\", \"2020-02-13T00:00:00\", \"2020-02-14T00:00:00\", \"2020-02-15T00:00:00\", \"2020-02-16T00:00:00\", \"2020-02-17T00:00:00\", \"2020-02-18T00:00:00\", \"2020-02-19T00:00:00\", \"2020-02-20T00:00:00\", \"2020-02-21T00:00:00\", \"2020-02-22T00:00:00\", \"2020-02-23T00:00:00\", \"2020-02-24T00:00:00\", \"2020-02-25T00:00:00\", \"2020-02-26T00:00:00\", \"2020-02-27T00:00:00\", \"2020-02-28T00:00:00\", \"2020-02-29T00:00:00\", \"2020-03-01T00:00:00\", \"2020-03-02T00:00:00\", \"2020-03-03T00:00:00\", \"2020-03-04T00:00:00\", \"2020-03-05T00:00:00\", \"2020-03-06T00:00:00\", \"2020-03-07T00:00:00\", \"2020-03-08T00:00:00\", \"2020-03-09T00:00:00\", \"2020-03-10T00:00:00\", \"2020-03-11T00:00:00\", \"2020-03-12T00:00:00\", \"2020-03-13T00:00:00\", \"2020-03-14T00:00:00\", \"2020-03-15T00:00:00\", \"2020-03-16T00:00:00\", \"2020-03-17T00:00:00\", \"2020-03-18T00:00:00\", \"2020-03-19T00:00:00\", \"2020-03-20T00:00:00\", \"2020-03-21T00:00:00\", \"2020-03-22T00:00:00\", \"2020-03-23T00:00:00\", \"2020-03-24T00:00:00\", \"2020-03-25T00:00:00\", \"2020-03-26T00:00:00\", \"2020-03-27T00:00:00\", \"2020-03-28T00:00:00\", \"2020-03-29T00:00:00\", \"2020-03-30T00:00:00\", \"2020-03-31T00:00:00\", \"2020-04-01T00:00:00\", \"2020-04-02T00:00:00\"], \"xaxis\": \"x13\", \"y\": [7795.17, 3240.13, 2485.8, 2573.72, 2223.18, -1.23, 2.01, 6655.96, 3081.0, 1996.38, 2481.63, 2462.1, 0.0, 11.97, 7500.15, 2852.85, 2656.91, 2613.15, 2349.29, -0.95, 0.0, 6491.68, 2348.82, 2349.74, 2542.86, 2227.4, -2.44, 0.0, 6291.34, 2196.14, 2317.81, 2140.86, 2544.15, 0.0, -0.72, 6017.03, 2540.72, 2112.05, 1812.38, 2053.01, 0.0, 0.0, 5525.58, 2122.59, 1787.11, 715.7, 3340.78, 0.0, 0.0, 7524.7, 3273.84, 3510.26, 3072.74, 3212.42, -1.75, 0.0, 9129.16, 3758.9, 3454.41, 3203.53], \"yaxis\": \"y13\"}, {\"marker\": {\"color\": \"#fee6da\"}, \"name\": \"Daily Sales Difference\", \"showlegend\": false, \"type\": \"bar\", \"x\": [\"2020-02-03T00:00:00\", \"2020-02-04T00:00:00\", \"2020-02-05T00:00:00\", \"2020-02-06T00:00:00\", \"2020-02-07T00:00:00\", \"2020-02-08T00:00:00\", \"2020-02-09T00:00:00\", \"2020-02-10T00:00:00\", \"2020-02-11T00:00:00\", \"2020-02-12T00:00:00\", \"2020-02-13T00:00:00\", \"2020-02-14T00:00:00\", \"2020-02-15T00:00:00\", \"2020-02-16T00:00:00\", \"2020-02-17T00:00:00\", \"2020-02-18T00:00:00\", \"2020-02-19T00:00:00\", \"2020-02-20T00:00:00\", \"2020-02-21T00:00:00\", \"2020-02-22T00:00:00\", \"2020-02-23T00:00:00\", \"2020-02-24T00:00:00\", \"2020-02-25T00:00:00\", \"2020-02-26T00:00:00\", \"2020-02-27T00:00:00\", \"2020-02-28T00:00:00\", \"2020-02-29T00:00:00\", \"2020-03-01T00:00:00\", \"2020-03-02T00:00:00\", \"2020-03-03T00:00:00\", \"2020-03-04T00:00:00\", \"2020-03-05T00:00:00\", \"2020-03-06T00:00:00\", \"2020-03-07T00:00:00\", \"2020-03-08T00:00:00\", \"2020-03-09T00:00:00\", \"2020-03-10T00:00:00\", \"2020-03-11T00:00:00\", \"2020-03-12T00:00:00\", \"2020-03-13T00:00:00\", \"2020-03-14T00:00:00\", \"2020-03-15T00:00:00\", \"2020-03-16T00:00:00\", \"2020-03-17T00:00:00\", \"2020-03-18T00:00:00\", \"2020-03-19T00:00:00\", \"2020-03-20T00:00:00\", \"2020-03-21T00:00:00\", \"2020-03-22T00:00:00\", \"2020-03-23T00:00:00\", \"2020-03-24T00:00:00\", \"2020-03-25T00:00:00\", \"2020-03-26T00:00:00\", \"2020-03-27T00:00:00\", \"2020-03-28T00:00:00\", \"2020-03-29T00:00:00\", \"2020-03-30T00:00:00\", \"2020-03-31T00:00:00\", \"2020-04-01T00:00:00\", \"2020-04-02T00:00:00\"], \"xaxis\": \"x13\", \"y\": [3988.9700000000003, 1794.0200000000002, 1240.2200000000003, 1403.6499999999999, 1125.6899999999998, -1.23, 2.01, 2653.21, 1394.69, 1032.14, 1436.8300000000002, 1567.73, 0.0, 11.97, 4594.849999999999, 1591.98, 993.1999999999998, 919.74, 1108.6499999999999, -0.95, 0.0, 2753.2000000000003, 1072.3600000000001, 1155.8099999999997, 1416.5500000000002, 1093.66, -2.44, 0.0, 2525.96, 633.8199999999999, 926.3799999999999, 462.82000000000016, 1431.02, 0.0, -0.72, 2392.5499999999997, 1402.2499999999998, 1043.4300000000003, 567.2700000000002, 811.7400000000002, 0.86, 0.0, 2857.27, 917.2500000000002, 743.74, -570.1699999999998, 2380.05, -3.99, -7.98, 4356.139999999999, 1973.21, 2207.33, 1782.5499999999997, 1938.52, -1.75, 0.0, 5771.6, 2145.17, 1792.12, 1871.2400000000002], \"yaxis\": \"y13\"}, {\"marker\": {\"color\": \"#fd994d\"}, \"name\": \"\", \"showlegend\": false, \"type\": \"bar\", \"x\": [\"2020-02-03T00:00:00\", \"2020-02-04T00:00:00\", \"2020-02-05T00:00:00\", \"2020-02-06T00:00:00\", \"2020-02-07T00:00:00\", \"2020-02-08T00:00:00\", \"2020-02-09T00:00:00\", \"2020-02-10T00:00:00\", \"2020-02-11T00:00:00\", \"2020-02-12T00:00:00\", \"2020-02-13T00:00:00\", \"2020-02-14T00:00:00\", \"2020-02-15T00:00:00\", \"2020-02-16T00:00:00\", \"2020-02-17T00:00:00\", \"2020-02-18T00:00:00\", \"2020-02-19T00:00:00\", \"2020-02-20T00:00:00\", \"2020-02-21T00:00:00\", \"2020-02-22T00:00:00\", \"2020-02-23T00:00:00\", \"2020-02-24T00:00:00\", \"2020-02-25T00:00:00\", \"2020-02-26T00:00:00\", \"2020-02-27T00:00:00\", \"2020-02-28T00:00:00\", \"2020-02-29T00:00:00\", \"2020-03-01T00:00:00\", \"2020-03-02T00:00:00\", \"2020-03-03T00:00:00\", \"2020-03-04T00:00:00\", \"2020-03-05T00:00:00\", \"2020-03-06T00:00:00\", \"2020-03-07T00:00:00\", \"2020-03-08T00:00:00\", \"2020-03-09T00:00:00\", \"2020-03-10T00:00:00\", \"2020-03-11T00:00:00\", \"2020-03-12T00:00:00\", \"2020-03-13T00:00:00\", \"2020-03-14T00:00:00\", \"2020-03-15T00:00:00\", \"2020-03-16T00:00:00\", \"2020-03-17T00:00:00\", \"2020-03-18T00:00:00\", \"2020-03-19T00:00:00\", \"2020-03-20T00:00:00\", \"2020-03-21T00:00:00\", \"2020-03-22T00:00:00\", \"2020-03-23T00:00:00\", \"2020-03-24T00:00:00\", \"2020-03-25T00:00:00\", \"2020-03-26T00:00:00\", \"2020-03-27T00:00:00\", \"2020-03-28T00:00:00\", \"2020-03-29T00:00:00\", \"2020-03-30T00:00:00\", \"2020-03-31T00:00:00\", \"2020-04-01T00:00:00\", \"2020-04-02T00:00:00\"], \"xaxis\": \"x14\", \"y\": [0.8277368213020413, 0.9118184622503285, 0.9519466907171892, 0.942359873380842, 1.089795732107309, 1.0896554084502235, 1.0898847178410707, 0.9169348359741136, 0.8496055291126046, 0.853074703559972, 0.8689968495575635, 0.9409843735270542, 0.9411275221211137, 0.9422866765900852, 1.3393173066916448, 1.4478229258315216, 1.312459052265078, 1.1499003285948834, 1.0520839395111565, 1.0519755406535665, 1.0506097150479303, 0.7675039673401689, 0.7122036472583151, 0.7665833234896511, 0.8752072688092805, 0.8844846804551236, 0.8843087430274468, 0.8843087430274468, 0.8547615180170958, 0.7769993896384293, 0.7343577030419262, 0.5917797985711748, 0.6285353774328886, 0.6287919413688319, 0.6287162339778978, 0.6239321621448548, 0.7393955653928495, 0.7806509299828133, 0.8346713782126811, 0.7473620303079487, 0.747542710250821, 0.7476292789906087, 0.907878363030709, 0.8344096965584658, 0.7967711082952615, 0.6395939972861506, 0.8835979426924823, 0.8823233965017636, 0.8802300577374134, 1.0181348230291416, 1.1415328272722252, 1.2868869300147314, 1.5790036353408397, 1.4668802062245905, 1.4678500849093798, 1.4702124826509886, 1.6036508191587067, 1.5662971767227, 1.4599577936586114, 1.4629043796544718], \"yaxis\": \"y14\"}, {\"marker\": {\"color\": \"#3f8fc5\"}, \"name\": \"Daily Sales Amount\", \"showlegend\": false, \"type\": \"bar\", \"x\": [\"2020-02-03T00:00:00\", \"2020-02-04T00:00:00\", \"2020-02-05T00:00:00\", \"2020-02-06T00:00:00\", \"2020-02-07T00:00:00\", \"2020-02-08T00:00:00\", \"2020-02-09T00:00:00\", \"2020-02-10T00:00:00\", \"2020-02-11T00:00:00\", \"2020-02-12T00:00:00\", \"2020-02-13T00:00:00\", \"2020-02-14T00:00:00\", \"2020-02-15T00:00:00\", \"2020-02-16T00:00:00\", \"2020-02-17T00:00:00\", \"2020-02-18T00:00:00\", \"2020-02-19T00:00:00\", \"2020-02-20T00:00:00\", \"2020-02-21T00:00:00\", \"2020-02-22T00:00:00\", \"2020-02-23T00:00:00\", \"2020-02-24T00:00:00\", \"2020-02-25T00:00:00\", \"2020-02-26T00:00:00\", \"2020-02-27T00:00:00\", \"2020-02-28T00:00:00\", \"2020-02-29T00:00:00\", \"2020-03-01T00:00:00\", \"2020-03-02T00:00:00\", \"2020-03-03T00:00:00\", \"2020-03-04T00:00:00\", \"2020-03-05T00:00:00\", \"2020-03-06T00:00:00\", \"2020-03-07T00:00:00\", \"2020-03-08T00:00:00\", \"2020-03-09T00:00:00\", \"2020-03-10T00:00:00\", \"2020-03-11T00:00:00\", \"2020-03-12T00:00:00\", \"2020-03-13T00:00:00\", \"2020-03-14T00:00:00\", \"2020-03-15T00:00:00\", \"2020-03-16T00:00:00\", \"2020-03-17T00:00:00\", \"2020-03-18T00:00:00\", \"2020-03-19T00:00:00\", \"2020-03-20T00:00:00\", \"2020-03-21T00:00:00\", \"2020-03-22T00:00:00\", \"2020-03-23T00:00:00\", \"2020-03-24T00:00:00\", \"2020-03-25T00:00:00\", \"2020-03-26T00:00:00\", \"2020-03-27T00:00:00\", \"2020-03-28T00:00:00\", \"2020-03-29T00:00:00\", \"2020-03-30T00:00:00\", \"2020-03-31T00:00:00\", \"2020-04-01T00:00:00\", \"2020-04-02T00:00:00\"], \"xaxis\": \"x15\", \"y\": [20287.53, 6988.98, 6016.56, 6923.26, 6353.53, 11.46, -1.12, 18826.63, 5894.03, 6588.93, 7756.02, 5549.97, 5.56, -1.17, 18830.12, 6528.6, 6380.59, 5881.65, 6770.35, -2.28, 0.0, 17856.51, 5550.63, 6534.28, 7617.08, 7447.88, 3.39, -3.35, 22319.69, 8804.05, 7400.95, 6861.63, 7419.12, 23.9, 0.0, 28442.51, 8153.08, 8364.62, 7924.02, 7946.2, -0.42, 0.0, 23672.86, 7142.13, 8067.43, 7768.84, 7534.43, 116.13, 0.0, 30659.17, 14466.8, 13283.04, 13336.77, 13983.46, 13.37, 45.58, 45325.0, 16688.77, 21137.79, 20353.35], \"yaxis\": \"y15\"}, {\"marker\": {\"color\": \"#fee6da\"}, \"name\": \"Daily Sales Difference\", \"showlegend\": false, \"type\": \"bar\", \"x\": [\"2020-02-03T00:00:00\", \"2020-02-04T00:00:00\", \"2020-02-05T00:00:00\", \"2020-02-06T00:00:00\", \"2020-02-07T00:00:00\", \"2020-02-08T00:00:00\", \"2020-02-09T00:00:00\", \"2020-02-10T00:00:00\", \"2020-02-11T00:00:00\", \"2020-02-12T00:00:00\", \"2020-02-13T00:00:00\", \"2020-02-14T00:00:00\", \"2020-02-15T00:00:00\", \"2020-02-16T00:00:00\", \"2020-02-17T00:00:00\", \"2020-02-18T00:00:00\", \"2020-02-19T00:00:00\", \"2020-02-20T00:00:00\", \"2020-02-21T00:00:00\", \"2020-02-22T00:00:00\", \"2020-02-23T00:00:00\", \"2020-02-24T00:00:00\", \"2020-02-25T00:00:00\", \"2020-02-26T00:00:00\", \"2020-02-27T00:00:00\", \"2020-02-28T00:00:00\", \"2020-02-29T00:00:00\", \"2020-03-01T00:00:00\", \"2020-03-02T00:00:00\", \"2020-03-03T00:00:00\", \"2020-03-04T00:00:00\", \"2020-03-05T00:00:00\", \"2020-03-06T00:00:00\", \"2020-03-07T00:00:00\", \"2020-03-08T00:00:00\", \"2020-03-09T00:00:00\", \"2020-03-10T00:00:00\", \"2020-03-11T00:00:00\", \"2020-03-12T00:00:00\", \"2020-03-13T00:00:00\", \"2020-03-14T00:00:00\", \"2020-03-15T00:00:00\", \"2020-03-16T00:00:00\", \"2020-03-17T00:00:00\", \"2020-03-18T00:00:00\", \"2020-03-19T00:00:00\", \"2020-03-20T00:00:00\", \"2020-03-21T00:00:00\", \"2020-03-22T00:00:00\", \"2020-03-23T00:00:00\", \"2020-03-24T00:00:00\", \"2020-03-25T00:00:00\", \"2020-03-26T00:00:00\", \"2020-03-27T00:00:00\", \"2020-03-28T00:00:00\", \"2020-03-29T00:00:00\", \"2020-03-30T00:00:00\", \"2020-03-31T00:00:00\", \"2020-04-01T00:00:00\", \"2020-04-02T00:00:00\"], \"xaxis\": \"x15\", \"y\": [-15016.050000000003, -4478.720000000001, -4402.239999999999, -2258.8099999999995, -4680.740000000001, -23.72, -1.12, -16901.289999999997, -5593.37, -2338.7299999999996, 35.410000000000764, -4693.2699999999995, -24.35, -61.61, -12398.400000000001, -5524.15, -4164.08, -4194.09, -2788.09, -1.69, 0.0, -14717.420000000002, -4373.7300000000005, -3254.63, -2721.129999999999, -5055.29, -119.02, -3.35, -14424.670000000002, -3228.2700000000004, -3210.9000000000005, -4054.8100000000004, -2968.0199999999995, 12.479999999999999, 1.31, -1334.880000000001, -1161.4899999999998, -2270.3199999999997, -1318.6099999999988, -1172.3599999999997, -62.190000000000005, -6.08, -2905.279999999999, -3325.7599999999993, 218.4300000000003, -964.3400000000001, -562.3099999999995, 111.89999999999999, -3.99, 3060.2599999999984, 5219.49, 5114.090000000001, 5013.060000000001, 6397.289999999999, -24.580000000000005, 45.58, 18307.84, 6057.66, 11440.380000000001, 9810.39], \"yaxis\": \"y15\"}, {\"marker\": {\"color\": \"#fd994d\"}, \"name\": \"\", \"showlegend\": false, \"type\": \"bar\", \"x\": [\"2020-02-03T00:00:00\", \"2020-02-04T00:00:00\", \"2020-02-05T00:00:00\", \"2020-02-06T00:00:00\", \"2020-02-07T00:00:00\", \"2020-02-08T00:00:00\", \"2020-02-09T00:00:00\", \"2020-02-10T00:00:00\", \"2020-02-11T00:00:00\", \"2020-02-12T00:00:00\", \"2020-02-13T00:00:00\", \"2020-02-14T00:00:00\", \"2020-02-15T00:00:00\", \"2020-02-16T00:00:00\", \"2020-02-17T00:00:00\", \"2020-02-18T00:00:00\", \"2020-02-19T00:00:00\", \"2020-02-20T00:00:00\", \"2020-02-21T00:00:00\", \"2020-02-22T00:00:00\", \"2020-02-23T00:00:00\", \"2020-02-24T00:00:00\", \"2020-02-25T00:00:00\", \"2020-02-26T00:00:00\", \"2020-02-27T00:00:00\", \"2020-02-28T00:00:00\", \"2020-02-29T00:00:00\", \"2020-03-01T00:00:00\", \"2020-03-02T00:00:00\", \"2020-03-03T00:00:00\", \"2020-03-04T00:00:00\", \"2020-03-05T00:00:00\", \"2020-03-06T00:00:00\", \"2020-03-07T00:00:00\", \"2020-03-08T00:00:00\", \"2020-03-09T00:00:00\", \"2020-03-10T00:00:00\", \"2020-03-11T00:00:00\", \"2020-03-12T00:00:00\", \"2020-03-13T00:00:00\", \"2020-03-14T00:00:00\", \"2020-03-15T00:00:00\", \"2020-03-16T00:00:00\", \"2020-03-17T00:00:00\", \"2020-03-18T00:00:00\", \"2020-03-19T00:00:00\", \"2020-03-20T00:00:00\", \"2020-03-21T00:00:00\", \"2020-03-22T00:00:00\", \"2020-03-23T00:00:00\", \"2020-03-24T00:00:00\", \"2020-03-25T00:00:00\", \"2020-03-26T00:00:00\", \"2020-03-27T00:00:00\", \"2020-03-28T00:00:00\", \"2020-03-29T00:00:00\", \"2020-03-30T00:00:00\", \"2020-03-31T00:00:00\", \"2020-04-01T00:00:00\", \"2020-04-02T00:00:00\"], \"xaxis\": \"x16\", \"y\": [-0.42411641998806604, -0.43168173367095963, -0.4408683705504426, -0.40496763919829504, -0.39870311024802163, -0.39866312162971895, -0.3985119109109322, -0.4205515274072339, -0.4347565225117239, -0.4162312731937512, -0.393732324219063, -0.3981021016290228, -0.398138898473281, -0.3986298401098267, -0.35975780003322966, -0.35587796900024293, -0.37326652396614746, -0.41839882848139487, -0.39639134868886683, -0.3962475773589139, -0.3957349032862044, -0.41961827654697703, -0.4160778132698927, -0.4078048920207916, -0.3859162082732204, -0.4009676020881169, -0.4018713906621032, -0.4019159083488473, -0.3771252138277056, -0.35332489956381385, -0.3492631415848395, -0.36290980826727925, -0.34658425243384494, -0.34543148236514565, -0.3453793464417708, -0.20048877572124602, -0.17905882352941171, -0.16576058841853647, -0.13031497209471132, -0.10637388359751043, -0.1073909863085859, -0.10748776995812814, -0.13695787146789618, -0.16730597983573126, -0.13536479888295228, -0.1308227288487933, -0.12311353426289118, -0.12040833714800903, -0.12037855823700605, -0.023358055287046264, 0.11505043768128398, 0.19360483699255626, 0.29217737693477597, 0.40884232866544123, 0.40637761516519144, 0.4072173285435441, 0.6636624780043496, 0.6623639096867908, 0.7463202783350158, 0.7942660330598206], \"yaxis\": \"y16\"}],\n",
       "                        {\"annotations\": [{\"font\": {\"size\": 16}, \"showarrow\": false, \"text\": \"Thicket 1 - Total Daily Sales\", \"x\": 0.2125, \"xanchor\": \"center\", \"xref\": \"paper\", \"y\": 1.0, \"yanchor\": \"bottom\", \"yref\": \"paper\"}, {\"font\": {\"size\": 16}, \"showarrow\": false, \"text\": \"Thicket 1 - 7 Day Avg Sales Comp\", \"x\": 0.7875, \"xanchor\": \"center\", \"xref\": \"paper\", \"y\": 1.0, \"yanchor\": \"bottom\", \"yref\": \"paper\"}, {\"font\": {\"size\": 16}, \"showarrow\": false, \"text\": \"Thicket 2 - Total Daily Sales\", \"x\": 0.2125, \"xanchor\": \"center\", \"xref\": \"paper\", \"y\": 0.8675, \"yanchor\": \"bottom\", \"yref\": \"paper\"}, {\"font\": {\"size\": 16}, \"showarrow\": false, \"text\": \"Thicket 2 - 7 Day Avg Sales Comp\", \"x\": 0.7875, \"xanchor\": \"center\", \"xref\": \"paper\", \"y\": 0.8675, \"yanchor\": \"bottom\", \"yref\": \"paper\"}, {\"font\": {\"size\": 16}, \"showarrow\": false, \"text\": \"Thicket 3 - Total Daily Sales\", \"x\": 0.2125, \"xanchor\": \"center\", \"xref\": \"paper\", \"y\": 0.7350000000000001, \"yanchor\": \"bottom\", \"yref\": \"paper\"}, {\"font\": {\"size\": 16}, \"showarrow\": false, \"text\": \"Thicket 3 - 7 Day Avg Sales Comp\", \"x\": 0.7875, \"xanchor\": \"center\", \"xref\": \"paper\", \"y\": 0.7350000000000001, \"yanchor\": \"bottom\", \"yref\": \"paper\"}, {\"font\": {\"size\": 16}, \"showarrow\": false, \"text\": \"Thicket 4 - Total Daily Sales\", \"x\": 0.2125, \"xanchor\": \"center\", \"xref\": \"paper\", \"y\": 0.6025, \"yanchor\": \"bottom\", \"yref\": \"paper\"}, {\"font\": {\"size\": 16}, \"showarrow\": false, \"text\": \"Thicket 4 - 7 Day Avg Sales Comp\", \"x\": 0.7875, \"xanchor\": \"center\", \"xref\": \"paper\", \"y\": 0.6025, \"yanchor\": \"bottom\", \"yref\": \"paper\"}, {\"font\": {\"size\": 16}, \"showarrow\": false, \"text\": \"Thicket 5 - Total Daily Sales\", \"x\": 0.2125, \"xanchor\": \"center\", \"xref\": \"paper\", \"y\": 0.47000000000000003, \"yanchor\": \"bottom\", \"yref\": \"paper\"}, {\"font\": {\"size\": 16}, \"showarrow\": false, \"text\": \"Thicket 5 - 7 Day Avg Sales Comp\", \"x\": 0.7875, \"xanchor\": \"center\", \"xref\": \"paper\", \"y\": 0.47000000000000003, \"yanchor\": \"bottom\", \"yref\": \"paper\"}, {\"font\": {\"size\": 16}, \"showarrow\": false, \"text\": \"Thicket 6 - Total Daily Sales\", \"x\": 0.2125, \"xanchor\": \"center\", \"xref\": \"paper\", \"y\": 0.3375, \"yanchor\": \"bottom\", \"yref\": \"paper\"}, {\"font\": {\"size\": 16}, \"showarrow\": false, \"text\": \"Thicket 6 - 7 Day Avg Sales Comp\", \"x\": 0.7875, \"xanchor\": \"center\", \"xref\": \"paper\", \"y\": 0.3375, \"yanchor\": \"bottom\", \"yref\": \"paper\"}, {\"font\": {\"size\": 16}, \"showarrow\": false, \"text\": \"Thicket 7 - Total Daily Sales\", \"x\": 0.2125, \"xanchor\": \"center\", \"xref\": \"paper\", \"y\": 0.20500000000000002, \"yanchor\": \"bottom\", \"yref\": \"paper\"}, {\"font\": {\"size\": 16}, \"showarrow\": false, \"text\": \"Thicket 7 - 7 Day Avg Sales Comp\", \"x\": 0.7875, \"xanchor\": \"center\", \"xref\": \"paper\", \"y\": 0.20500000000000002, \"yanchor\": \"bottom\", \"yref\": \"paper\"}, {\"font\": {\"size\": 16}, \"showarrow\": false, \"text\": \"Thicket 8 - Total Daily Sales\", \"x\": 0.2125, \"xanchor\": \"center\", \"xref\": \"paper\", \"y\": 0.07250000000000001, \"yanchor\": \"bottom\", \"yref\": \"paper\"}, {\"font\": {\"size\": 16}, \"showarrow\": false, \"text\": \"Thicket 8 - 7 Day Avg Sales Comp\", \"x\": 0.7875, \"xanchor\": \"center\", \"xref\": \"paper\", \"y\": 0.07250000000000001, \"yanchor\": \"bottom\", \"yref\": \"paper\"}], \"barmode\": \"overlay\", \"height\": 2400, \"hovermode\": \"x\", \"legend\": {\"orientation\": \"h\", \"x\": -0.0, \"xanchor\": \"left\", \"y\": 1.035}, \"margin\": {\"autoexpand\": true, \"b\": 100, \"l\": 25, \"pad\": 0, \"r\": 25, \"t\": 150}, \"showlegend\": true, \"template\": {\"data\": {\"bar\": [{\"error_x\": {\"color\": \"#f2f5fa\"}, \"error_y\": {\"color\": \"#f2f5fa\"}, \"marker\": {\"line\": {\"color\": \"rgb(17,17,17)\", \"width\": 0.5}}, \"type\": \"bar\"}], \"barpolar\": [{\"marker\": {\"line\": {\"color\": \"rgb(17,17,17)\", \"width\": 0.5}}, \"type\": \"barpolar\"}], \"carpet\": [{\"aaxis\": {\"endlinecolor\": \"#A2B1C6\", \"gridcolor\": \"#506784\", \"linecolor\": \"#506784\", \"minorgridcolor\": \"#506784\", \"startlinecolor\": \"#A2B1C6\"}, \"baxis\": {\"endlinecolor\": \"#A2B1C6\", \"gridcolor\": \"#506784\", \"linecolor\": \"#506784\", \"minorgridcolor\": \"#506784\", \"startlinecolor\": \"#A2B1C6\"}, \"type\": \"carpet\"}], \"choropleth\": [{\"colorbar\": {\"outlinewidth\": 0, \"ticks\": \"\"}, \"type\": \"choropleth\"}], \"contour\": [{\"colorbar\": {\"outlinewidth\": 0, \"ticks\": \"\"}, \"colorscale\": [[0.0, \"#0d0887\"], [0.1111111111111111, \"#46039f\"], [0.2222222222222222, \"#7201a8\"], [0.3333333333333333, \"#9c179e\"], [0.4444444444444444, \"#bd3786\"], [0.5555555555555556, \"#d8576b\"], [0.6666666666666666, \"#ed7953\"], [0.7777777777777778, \"#fb9f3a\"], [0.8888888888888888, \"#fdca26\"], [1.0, \"#f0f921\"]], \"type\": \"contour\"}], \"contourcarpet\": [{\"colorbar\": {\"outlinewidth\": 0, \"ticks\": \"\"}, \"type\": \"contourcarpet\"}], \"heatmap\": [{\"colorbar\": {\"outlinewidth\": 0, \"ticks\": \"\"}, \"colorscale\": [[0.0, \"#0d0887\"], [0.1111111111111111, \"#46039f\"], [0.2222222222222222, \"#7201a8\"], [0.3333333333333333, \"#9c179e\"], [0.4444444444444444, \"#bd3786\"], [0.5555555555555556, \"#d8576b\"], [0.6666666666666666, \"#ed7953\"], [0.7777777777777778, \"#fb9f3a\"], [0.8888888888888888, \"#fdca26\"], [1.0, \"#f0f921\"]], \"type\": \"heatmap\"}], \"heatmapgl\": [{\"colorbar\": {\"outlinewidth\": 0, \"ticks\": \"\"}, \"colorscale\": [[0.0, \"#0d0887\"], [0.1111111111111111, \"#46039f\"], [0.2222222222222222, \"#7201a8\"], [0.3333333333333333, \"#9c179e\"], [0.4444444444444444, \"#bd3786\"], [0.5555555555555556, \"#d8576b\"], [0.6666666666666666, \"#ed7953\"], [0.7777777777777778, \"#fb9f3a\"], [0.8888888888888888, \"#fdca26\"], [1.0, \"#f0f921\"]], \"type\": \"heatmapgl\"}], \"histogram\": [{\"marker\": {\"colorbar\": {\"outlinewidth\": 0, \"ticks\": \"\"}}, \"type\": \"histogram\"}], \"histogram2d\": [{\"colorbar\": {\"outlinewidth\": 0, \"ticks\": \"\"}, \"colorscale\": [[0.0, \"#0d0887\"], [0.1111111111111111, \"#46039f\"], [0.2222222222222222, \"#7201a8\"], [0.3333333333333333, \"#9c179e\"], [0.4444444444444444, \"#bd3786\"], [0.5555555555555556, \"#d8576b\"], [0.6666666666666666, \"#ed7953\"], [0.7777777777777778, \"#fb9f3a\"], [0.8888888888888888, \"#fdca26\"], [1.0, \"#f0f921\"]], \"type\": \"histogram2d\"}], \"histogram2dcontour\": [{\"colorbar\": {\"outlinewidth\": 0, \"ticks\": \"\"}, \"colorscale\": [[0.0, \"#0d0887\"], [0.1111111111111111, \"#46039f\"], [0.2222222222222222, \"#7201a8\"], [0.3333333333333333, \"#9c179e\"], [0.4444444444444444, \"#bd3786\"], [0.5555555555555556, \"#d8576b\"], [0.6666666666666666, \"#ed7953\"], [0.7777777777777778, \"#fb9f3a\"], [0.8888888888888888, \"#fdca26\"], [1.0, \"#f0f921\"]], \"type\": \"histogram2dcontour\"}], \"mesh3d\": [{\"colorbar\": {\"outlinewidth\": 0, \"ticks\": \"\"}, \"type\": \"mesh3d\"}], \"parcoords\": [{\"line\": {\"colorbar\": {\"outlinewidth\": 0, \"ticks\": \"\"}}, \"type\": \"parcoords\"}], \"pie\": [{\"automargin\": true, \"type\": \"pie\"}], \"scatter\": [{\"marker\": {\"line\": {\"color\": \"#283442\"}}, \"type\": \"scatter\"}], \"scatter3d\": [{\"line\": {\"colorbar\": {\"outlinewidth\": 0, \"ticks\": \"\"}}, \"marker\": {\"colorbar\": {\"outlinewidth\": 0, \"ticks\": \"\"}}, \"type\": \"scatter3d\"}], \"scattercarpet\": [{\"marker\": {\"colorbar\": {\"outlinewidth\": 0, \"ticks\": \"\"}}, \"type\": \"scattercarpet\"}], \"scattergeo\": [{\"marker\": {\"colorbar\": {\"outlinewidth\": 0, \"ticks\": \"\"}}, \"type\": \"scattergeo\"}], \"scattergl\": [{\"marker\": {\"line\": {\"color\": \"#283442\"}}, \"type\": \"scattergl\"}], \"scattermapbox\": [{\"marker\": {\"colorbar\": {\"outlinewidth\": 0, \"ticks\": \"\"}}, \"type\": \"scattermapbox\"}], \"scatterpolar\": [{\"marker\": {\"colorbar\": {\"outlinewidth\": 0, \"ticks\": \"\"}}, \"type\": \"scatterpolar\"}], \"scatterpolargl\": [{\"marker\": {\"colorbar\": {\"outlinewidth\": 0, \"ticks\": \"\"}}, \"type\": \"scatterpolargl\"}], \"scatterternary\": [{\"marker\": {\"colorbar\": {\"outlinewidth\": 0, \"ticks\": \"\"}}, \"type\": \"scatterternary\"}], \"surface\": [{\"colorbar\": {\"outlinewidth\": 0, \"ticks\": \"\"}, \"colorscale\": [[0.0, \"#0d0887\"], [0.1111111111111111, \"#46039f\"], [0.2222222222222222, \"#7201a8\"], [0.3333333333333333, \"#9c179e\"], [0.4444444444444444, \"#bd3786\"], [0.5555555555555556, \"#d8576b\"], [0.6666666666666666, \"#ed7953\"], [0.7777777777777778, \"#fb9f3a\"], [0.8888888888888888, \"#fdca26\"], [1.0, \"#f0f921\"]], \"type\": \"surface\"}], \"table\": [{\"cells\": {\"fill\": {\"color\": \"#506784\"}, \"line\": {\"color\": \"rgb(17,17,17)\"}}, \"header\": {\"fill\": {\"color\": \"#2a3f5f\"}, \"line\": {\"color\": \"rgb(17,17,17)\"}}, \"type\": \"table\"}]}, \"layout\": {\"annotationdefaults\": {\"arrowcolor\": \"#f2f5fa\", \"arrowhead\": 0, \"arrowwidth\": 1}, \"coloraxis\": {\"colorbar\": {\"outlinewidth\": 0, \"ticks\": \"\"}}, \"colorscale\": {\"diverging\": [[0, \"#8e0152\"], [0.1, \"#c51b7d\"], [0.2, \"#de77ae\"], [0.3, \"#f1b6da\"], [0.4, \"#fde0ef\"], [0.5, \"#f7f7f7\"], [0.6, \"#e6f5d0\"], [0.7, \"#b8e186\"], [0.8, \"#7fbc41\"], [0.9, \"#4d9221\"], [1, \"#276419\"]], \"sequential\": [[0.0, \"#0d0887\"], [0.1111111111111111, \"#46039f\"], [0.2222222222222222, \"#7201a8\"], [0.3333333333333333, \"#9c179e\"], [0.4444444444444444, \"#bd3786\"], [0.5555555555555556, \"#d8576b\"], [0.6666666666666666, \"#ed7953\"], [0.7777777777777778, \"#fb9f3a\"], [0.8888888888888888, \"#fdca26\"], [1.0, \"#f0f921\"]], \"sequentialminus\": [[0.0, \"#0d0887\"], [0.1111111111111111, \"#46039f\"], [0.2222222222222222, \"#7201a8\"], [0.3333333333333333, \"#9c179e\"], [0.4444444444444444, \"#bd3786\"], [0.5555555555555556, \"#d8576b\"], [0.6666666666666666, \"#ed7953\"], [0.7777777777777778, \"#fb9f3a\"], [0.8888888888888888, \"#fdca26\"], [1.0, \"#f0f921\"]]}, \"colorway\": [\"#636efa\", \"#EF553B\", \"#00cc96\", \"#ab63fa\", \"#FFA15A\", \"#19d3f3\", \"#FF6692\", \"#B6E880\", \"#FF97FF\", \"#FECB52\"], \"font\": {\"color\": \"#f2f5fa\"}, \"geo\": {\"bgcolor\": \"rgb(17,17,17)\", \"lakecolor\": \"rgb(17,17,17)\", \"landcolor\": \"rgb(17,17,17)\", \"showlakes\": true, \"showland\": true, \"subunitcolor\": \"#506784\"}, \"hoverlabel\": {\"align\": \"left\"}, \"hovermode\": \"closest\", \"mapbox\": {\"style\": \"dark\"}, \"paper_bgcolor\": \"rgb(17,17,17)\", \"plot_bgcolor\": \"rgb(17,17,17)\", \"polar\": {\"angularaxis\": {\"gridcolor\": \"#506784\", \"linecolor\": \"#506784\", \"ticks\": \"\"}, \"bgcolor\": \"rgb(17,17,17)\", \"radialaxis\": {\"gridcolor\": \"#506784\", \"linecolor\": \"#506784\", \"ticks\": \"\"}}, \"scene\": {\"xaxis\": {\"backgroundcolor\": \"rgb(17,17,17)\", \"gridcolor\": \"#506784\", \"gridwidth\": 2, \"linecolor\": \"#506784\", \"showbackground\": true, \"ticks\": \"\", \"zerolinecolor\": \"#C8D4E3\"}, \"yaxis\": {\"backgroundcolor\": \"rgb(17,17,17)\", \"gridcolor\": \"#506784\", \"gridwidth\": 2, \"linecolor\": \"#506784\", \"showbackground\": true, \"ticks\": \"\", \"zerolinecolor\": \"#C8D4E3\"}, \"zaxis\": {\"backgroundcolor\": \"rgb(17,17,17)\", \"gridcolor\": \"#506784\", \"gridwidth\": 2, \"linecolor\": \"#506784\", \"showbackground\": true, \"ticks\": \"\", \"zerolinecolor\": \"#C8D4E3\"}}, \"shapedefaults\": {\"line\": {\"color\": \"#f2f5fa\"}}, \"sliderdefaults\": {\"bgcolor\": \"#C8D4E3\", \"bordercolor\": \"rgb(17,17,17)\", \"borderwidth\": 1, \"tickwidth\": 0}, \"ternary\": {\"aaxis\": {\"gridcolor\": \"#506784\", \"linecolor\": \"#506784\", \"ticks\": \"\"}, \"baxis\": {\"gridcolor\": \"#506784\", \"linecolor\": \"#506784\", \"ticks\": \"\"}, \"bgcolor\": \"rgb(17,17,17)\", \"caxis\": {\"gridcolor\": \"#506784\", \"linecolor\": \"#506784\", \"ticks\": \"\"}}, \"title\": {\"x\": 0.05}, \"updatemenudefaults\": {\"bgcolor\": \"#506784\", \"borderwidth\": 0}, \"xaxis\": {\"automargin\": true, \"gridcolor\": \"#283442\", \"linecolor\": \"#506784\", \"ticks\": \"\", \"title\": {\"standoff\": 15}, \"zerolinecolor\": \"#283442\", \"zerolinewidth\": 2}, \"yaxis\": {\"automargin\": true, \"gridcolor\": \"#283442\", \"linecolor\": \"#506784\", \"ticks\": \"\", \"title\": {\"standoff\": 15}, \"zerolinecolor\": \"#283442\", \"zerolinewidth\": 2}}}, \"title\": {\"font\": {\"size\": 24}, \"text\": \"iStore Sales by Thicket - Comparison to Last Year\", \"x\": 0, \"xanchor\": \"left\", \"xref\": \"paper\", \"y\": 0.98}, \"width\": 1000, \"xaxis\": {\"anchor\": \"y\", \"domain\": [0.0, 0.425], \"dtick\": 604800000, \"showgrid\": true, \"tickangle\": 90, \"tickfont\": {\"family\": \"Arial, san-serif\", \"size\": 10}, \"tickformat\": \"%Y-%m-%d\", \"title\": {\"text\": \"\"}, \"type\": \"date\"}, \"xaxis10\": {\"anchor\": \"y10\", \"domain\": [0.575, 1.0], \"dtick\": 604800000, \"showgrid\": true, \"tickangle\": 90, \"tickfont\": {\"family\": \"Arial, san-serif\", \"size\": 10}, \"tickformat\": \"%Y-%m-%d\", \"title\": {\"text\": \"\"}, \"type\": \"date\"}, \"xaxis11\": {\"anchor\": \"y11\", \"domain\": [0.0, 0.425], \"dtick\": 604800000, \"showgrid\": true, \"tickangle\": 90, \"tickfont\": {\"family\": \"Arial, san-serif\", \"size\": 10}, \"tickformat\": \"%Y-%m-%d\", \"title\": {\"text\": \"\"}, \"type\": \"date\"}, \"xaxis12\": {\"anchor\": \"y12\", \"domain\": [0.575, 1.0], \"dtick\": 604800000, \"showgrid\": true, \"tickangle\": 90, \"tickfont\": {\"family\": \"Arial, san-serif\", \"size\": 10}, \"tickformat\": \"%Y-%m-%d\", \"title\": {\"text\": \"\"}, \"type\": \"date\"}, \"xaxis13\": {\"anchor\": \"y13\", \"domain\": [0.0, 0.425], \"dtick\": 604800000, \"showgrid\": true, \"tickangle\": 90, \"tickfont\": {\"family\": \"Arial, san-serif\", \"size\": 10}, \"tickformat\": \"%Y-%m-%d\", \"title\": {\"text\": \"\"}, \"type\": \"date\"}, \"xaxis14\": {\"anchor\": \"y14\", \"domain\": [0.575, 1.0], \"dtick\": 604800000, \"showgrid\": true, \"tickangle\": 90, \"tickfont\": {\"family\": \"Arial, san-serif\", \"size\": 10}, \"tickformat\": \"%Y-%m-%d\", \"title\": {\"text\": \"\"}, \"type\": \"date\"}, \"xaxis15\": {\"anchor\": \"y15\", \"domain\": [0.0, 0.425], \"dtick\": 604800000, \"showgrid\": true, \"tickangle\": 90, \"tickfont\": {\"family\": \"Arial, san-serif\", \"size\": 10}, \"tickformat\": \"%Y-%m-%d\", \"title\": {\"text\": \"\"}, \"type\": \"date\"}, \"xaxis16\": {\"anchor\": \"y16\", \"domain\": [0.575, 1.0], \"dtick\": 604800000, \"showgrid\": true, \"tickangle\": 90, \"tickfont\": {\"family\": \"Arial, san-serif\", \"size\": 10}, \"tickformat\": \"%Y-%m-%d\", \"title\": {\"text\": \"\"}, \"type\": \"date\"}, \"xaxis2\": {\"anchor\": \"y2\", \"domain\": [0.575, 1.0], \"dtick\": 604800000, \"showgrid\": true, \"tickangle\": 90, \"tickfont\": {\"family\": \"Arial, san-serif\", \"size\": 10}, \"tickformat\": \"%Y-%m-%d\", \"title\": {\"text\": \"\"}, \"type\": \"date\"}, \"xaxis3\": {\"anchor\": \"y3\", \"domain\": [0.0, 0.425], \"dtick\": 604800000, \"showgrid\": true, \"tickangle\": 90, \"tickfont\": {\"family\": \"Arial, san-serif\", \"size\": 10}, \"tickformat\": \"%Y-%m-%d\", \"title\": {\"text\": \"\"}, \"type\": \"date\"}, \"xaxis4\": {\"anchor\": \"y4\", \"domain\": [0.575, 1.0], \"dtick\": 604800000, \"showgrid\": true, \"tickangle\": 90, \"tickfont\": {\"family\": \"Arial, san-serif\", \"size\": 10}, \"tickformat\": \"%Y-%m-%d\", \"title\": {\"text\": \"\"}, \"type\": \"date\"}, \"xaxis5\": {\"anchor\": \"y5\", \"domain\": [0.0, 0.425], \"dtick\": 604800000, \"showgrid\": true, \"tickangle\": 90, \"tickfont\": {\"family\": \"Arial, san-serif\", \"size\": 10}, \"tickformat\": \"%Y-%m-%d\", \"title\": {\"text\": \"\"}, \"type\": \"date\"}, \"xaxis6\": {\"anchor\": \"y6\", \"domain\": [0.575, 1.0], \"dtick\": 604800000, \"showgrid\": true, \"tickangle\": 90, \"tickfont\": {\"family\": \"Arial, san-serif\", \"size\": 10}, \"tickformat\": \"%Y-%m-%d\", \"title\": {\"text\": \"\"}, \"type\": \"date\"}, \"xaxis7\": {\"anchor\": \"y7\", \"domain\": [0.0, 0.425], \"dtick\": 604800000, \"showgrid\": true, \"tickangle\": 90, \"tickfont\": {\"family\": \"Arial, san-serif\", \"size\": 10}, \"tickformat\": \"%Y-%m-%d\", \"title\": {\"text\": \"\"}, \"type\": \"date\"}, \"xaxis8\": {\"anchor\": \"y8\", \"domain\": [0.575, 1.0], \"dtick\": 604800000, \"showgrid\": true, \"tickangle\": 90, \"tickfont\": {\"family\": \"Arial, san-serif\", \"size\": 10}, \"tickformat\": \"%Y-%m-%d\", \"title\": {\"text\": \"\"}, \"type\": \"date\"}, \"xaxis9\": {\"anchor\": \"y9\", \"domain\": [0.0, 0.425], \"dtick\": 604800000, \"showgrid\": true, \"tickangle\": 90, \"tickfont\": {\"family\": \"Arial, san-serif\", \"size\": 10}, \"tickformat\": \"%Y-%m-%d\", \"title\": {\"text\": \"\"}, \"type\": \"date\"}, \"yaxis\": {\"anchor\": \"x\", \"domain\": [0.9275, 1.0], \"hoverformat\": \"$,.0f\", \"tickfont\": {\"family\": \"Arial, san-serif\", \"size\": 10}, \"tickformat\": \"$,.0f\", \"title\": {\"font\": {\"family\": \"Arial, san-serif\", \"size\": 10}, \"text\": \"$ Diff to LY\"}}, \"yaxis10\": {\"anchor\": \"x10\", \"domain\": [0.3975, 0.47000000000000003], \"tickfont\": {\"family\": \"Arial, san-serif\", \"size\": 10}, \"tickformat\": \"0.1%\", \"title\": {\"font\": {\"family\": \"Arial, san-serif\", \"size\": 10}, \"text\": \"% Diff to LY\"}}, \"yaxis11\": {\"anchor\": \"x11\", \"domain\": [0.265, 0.3375], \"hoverformat\": \"$,.0f\", \"tickfont\": {\"family\": \"Arial, san-serif\", \"size\": 10}, \"tickformat\": \"$,.0f\", \"title\": {\"font\": {\"family\": \"Arial, san-serif\", \"size\": 10}, \"text\": \"$ Diff to LY\"}}, \"yaxis12\": {\"anchor\": \"x12\", \"domain\": [0.265, 0.3375], \"tickfont\": {\"family\": \"Arial, san-serif\", \"size\": 10}, \"tickformat\": \"0.1%\", \"title\": {\"font\": {\"family\": \"Arial, san-serif\", \"size\": 10}, \"text\": \"% Diff to LY\"}}, \"yaxis13\": {\"anchor\": \"x13\", \"domain\": [0.1325, 0.20500000000000002], \"hoverformat\": \"$,.0f\", \"tickfont\": {\"family\": \"Arial, san-serif\", \"size\": 10}, \"tickformat\": \"$,.0f\", \"title\": {\"font\": {\"family\": \"Arial, san-serif\", \"size\": 10}, \"text\": \"$ Diff to LY\"}}, \"yaxis14\": {\"anchor\": \"x14\", \"domain\": [0.1325, 0.20500000000000002], \"tickfont\": {\"family\": \"Arial, san-serif\", \"size\": 10}, \"tickformat\": \"0.1%\", \"title\": {\"font\": {\"family\": \"Arial, san-serif\", \"size\": 10}, \"text\": \"% Diff to LY\"}}, \"yaxis15\": {\"anchor\": \"x15\", \"domain\": [0.0, 0.07250000000000001], \"hoverformat\": \"$,.0f\", \"tickfont\": {\"family\": \"Arial, san-serif\", \"size\": 10}, \"tickformat\": \"$,.0f\", \"title\": {\"font\": {\"family\": \"Arial, san-serif\", \"size\": 10}, \"text\": \"$ Diff to LY\"}}, \"yaxis16\": {\"anchor\": \"x16\", \"domain\": [0.0, 0.07250000000000001], \"tickfont\": {\"family\": \"Arial, san-serif\", \"size\": 10}, \"tickformat\": \"0.1%\", \"title\": {\"font\": {\"family\": \"Arial, san-serif\", \"size\": 10}, \"text\": \"% Diff to LY\"}}, \"yaxis2\": {\"anchor\": \"x2\", \"domain\": [0.9275, 1.0], \"tickfont\": {\"family\": \"Arial, san-serif\", \"size\": 10}, \"tickformat\": \"0.1%\", \"title\": {\"font\": {\"family\": \"Arial, san-serif\", \"size\": 10}, \"text\": \"% Diff to LY\"}}, \"yaxis3\": {\"anchor\": \"x3\", \"domain\": [0.795, 0.8675], \"hoverformat\": \"$,.0f\", \"tickfont\": {\"family\": \"Arial, san-serif\", \"size\": 10}, \"tickformat\": \"$,.0f\", \"title\": {\"font\": {\"family\": \"Arial, san-serif\", \"size\": 10}, \"text\": \"$ Diff to LY\"}}, \"yaxis4\": {\"anchor\": \"x4\", \"domain\": [0.795, 0.8675], \"tickfont\": {\"family\": \"Arial, san-serif\", \"size\": 10}, \"tickformat\": \"0.1%\", \"title\": {\"font\": {\"family\": \"Arial, san-serif\", \"size\": 10}, \"text\": \"% Diff to LY\"}}, \"yaxis5\": {\"anchor\": \"x5\", \"domain\": [0.6625000000000001, 0.7350000000000001], \"hoverformat\": \"$,.0f\", \"tickfont\": {\"family\": \"Arial, san-serif\", \"size\": 10}, \"tickformat\": \"$,.0f\", \"title\": {\"font\": {\"family\": \"Arial, san-serif\", \"size\": 10}, \"text\": \"$ Diff to LY\"}}, \"yaxis6\": {\"anchor\": \"x6\", \"domain\": [0.6625000000000001, 0.7350000000000001], \"tickfont\": {\"family\": \"Arial, san-serif\", \"size\": 10}, \"tickformat\": \"0.1%\", \"title\": {\"font\": {\"family\": \"Arial, san-serif\", \"size\": 10}, \"text\": \"% Diff to LY\"}}, \"yaxis7\": {\"anchor\": \"x7\", \"domain\": [0.53, 0.6025], \"hoverformat\": \"$,.0f\", \"tickfont\": {\"family\": \"Arial, san-serif\", \"size\": 10}, \"tickformat\": \"$,.0f\", \"title\": {\"font\": {\"family\": \"Arial, san-serif\", \"size\": 10}, \"text\": \"$ Diff to LY\"}}, \"yaxis8\": {\"anchor\": \"x8\", \"domain\": [0.53, 0.6025], \"tickfont\": {\"family\": \"Arial, san-serif\", \"size\": 10}, \"tickformat\": \"0.1%\", \"title\": {\"font\": {\"family\": \"Arial, san-serif\", \"size\": 10}, \"text\": \"% Diff to LY\"}}, \"yaxis9\": {\"anchor\": \"x9\", \"domain\": [0.3975, 0.47000000000000003], \"hoverformat\": \"$,.0f\", \"tickfont\": {\"family\": \"Arial, san-serif\", \"size\": 10}, \"tickformat\": \"$,.0f\", \"title\": {\"font\": {\"family\": \"Arial, san-serif\", \"size\": 10}, \"text\": \"$ Diff to LY\"}}},\n",
       "                        {\"responsive\": true}\n",
       "                    ).then(function(){\n",
       "                            \n",
       "var gd = document.getElementById('be66132e-76dc-4d36-821d-fd632452d513');\n",
       "var x = new MutationObserver(function (mutations, observer) {{\n",
       "        var display = window.getComputedStyle(gd).display;\n",
       "        if (!display || display === 'none') {{\n",
       "            console.log([gd, 'removed!']);\n",
       "            Plotly.purge(gd);\n",
       "            observer.disconnect();\n",
       "        }}\n",
       "}});\n",
       "\n",
       "// Listen for the removal of the full notebook cells\n",
       "var notebookContainer = gd.closest('#notebook-container');\n",
       "if (notebookContainer) {{\n",
       "    x.observe(notebookContainer, {childList: true});\n",
       "}}\n",
       "\n",
       "// Listen for the clearing of the current output cell\n",
       "var outputEl = gd.closest('.output');\n",
       "if (outputEl) {{\n",
       "    x.observe(outputEl, {childList: true});\n",
       "}}\n",
       "\n",
       "                        })\n",
       "                };\n",
       "                });\n",
       "            </script>\n",
       "        </div>"
      ]
     },
     "metadata": {},
     "output_type": "display_data"
    }
   ],
   "source": [
    "div_iStoreSalesByThicketDetail = plot_iStoreSalesByThicketDetail(df_OrdersComp, 'iStore Sales by Thicket - Comparison to Last Year', \n",
    "                                                                 clrPalExtended, filtInstance_iStore, \n",
    "                                                                'Consolidated iStore', 8, 2400)"
   ]
  },
  {
   "cell_type": "code",
   "execution_count": 34,
   "metadata": {
    "scrolled": true
   },
   "outputs": [
    {
     "name": "stdout",
     "output_type": "stream",
     "text": [
      " * Serving Flask app \"__main__\" (lazy loading)\n",
      " * Environment: production\n",
      "   WARNING: This is a development server. Do not use it in a production deployment.\n",
      "   Use a production WSGI server instead.\n",
      " * Debug mode: off\n"
     ]
    },
    {
     "name": "stderr",
     "output_type": "stream",
     "text": [
      " * Running on http://127.0.0.1:5000/ (Press CTRL+C to quit)\n",
      "127.0.0.1 - - [03/Apr/2020 13:30:30] \"GET / HTTP/1.1\" 200 -\n"
     ]
    }
   ],
   "source": [
    "app = Flask(__name__)\n",
    "\n",
    "\n",
    "@app.route('/')\n",
    "def index():\n",
    "    return render_template('index.html', \n",
    "                           #Offer Averages\n",
    "                           div_TotaliStoreSales = div_TotaliStoreSales,\n",
    "                           div_iStoreSalesByThicket = div_iStoreSalesByThicket,\n",
    "                           div_iStoreSalesByThicketDetail = div_iStoreSalesByThicketDetail,\n",
    "                           div_invAgedQty = div_invAgedQty,\n",
    "                           div_invASRQty = div_invASRQty,\n",
    "                           )\n",
    "\n",
    "if __name__ == '__main__':\n",
    "    app.run()"
   ]
  },
  {
   "cell_type": "code",
   "execution_count": null,
   "metadata": {},
   "outputs": [],
   "source": []
  }
 ],
 "metadata": {
  "kernelspec": {
   "display_name": "Python 3",
   "language": "python",
   "name": "python3"
  },
  "language_info": {
   "codemirror_mode": {
    "name": "ipython",
    "version": 3
   },
   "file_extension": ".py",
   "mimetype": "text/x-python",
   "name": "python",
   "nbconvert_exporter": "python",
   "pygments_lexer": "ipython3",
   "version": "3.7.4"
  }
 },
 "nbformat": 4,
 "nbformat_minor": 2
}
