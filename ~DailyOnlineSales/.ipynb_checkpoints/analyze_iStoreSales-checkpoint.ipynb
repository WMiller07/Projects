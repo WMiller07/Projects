{
 "cells": [
  {
   "cell_type": "code",
   "execution_count": 1,
   "metadata": {},
   "outputs": [],
   "source": [
    "from datetime import datetime\n",
    "from dateutil.relativedelta import relativedelta\n",
    "#from datetime import timedelta\n",
    "import numpy as np\n",
    "import pandas as pd\n",
    "\n",
    "import matplotlib.pyplot as plt\n",
    "import matplotlib.dates as mdates\n",
    "import matplotlib.ticker as mtick\n",
    "import seaborn as sns\n",
    "\n",
    "\n",
    "import plotly\n",
    "import chart_studio.plotly as py\n",
    "import plotly.io as pio\n",
    "import plotly.graph_objs as go\n",
    "from plotly import tools\n",
    "from plotly import subplots\n",
    "from plotly.offline import download_plotlyjs, init_notebook_mode, iplot\n",
    "from plotly.subplots import make_subplots\n",
    "\n",
    "\n",
    "import json\n",
    "from flask import Flask, render_template\n",
    "\n",
    "import dash\n",
    "import dash_html_components as html"
   ]
  },
  {
   "cell_type": "code",
   "execution_count": 2,
   "metadata": {},
   "outputs": [],
   "source": [
    "pd.set_option('display.max_rows', 1000)\n",
    "pio.templates.default = \"plotly_dark\""
   ]
  },
  {
   "cell_type": "code",
   "execution_count": 3,
   "metadata": {},
   "outputs": [],
   "source": [
    "def loadData(fn):\n",
    "    df = pd.read_csv(fn)\n",
    "    return df\n",
    "\n",
    "def prepData(df_p):\n",
    "    df_p['Store_Date'] = pd.to_datetime(df_p['Store_Date'])\n",
    "    return df_p"
   ]
  },
  {
   "cell_type": "code",
   "execution_count": 4,
   "metadata": {},
   "outputs": [],
   "source": [
    "df_orders = prepData(loadData('./data/iStoreOrderMetrics_extended.csv'))\n",
    "df_inv = loadData('./data/iStoreInventoryMetrics.csv')"
   ]
  },
  {
   "cell_type": "code",
   "execution_count": 5,
   "metadata": {},
   "outputs": [
    {
     "name": "stdout",
     "output_type": "stream",
     "text": [
      "<class 'pandas.core.frame.DataFrame'>\n",
      "RangeIndex: 7128 entries, 0 to 7127\n",
      "Data columns (total 26 columns):\n",
      "InstanceType                         7128 non-null object\n",
      "InstanceName                         7128 non-null object\n",
      "Store_Date                           7128 non-null datetime64[ns]\n",
      "NRF_Year                             7128 non-null int64\n",
      "NRF_MonthNum                         7128 non-null int64\n",
      "NRF_Week_Restated                    7128 non-null int64\n",
      "NRF_Day                              7128 non-null int64\n",
      "CountTransactions                    7128 non-null int64\n",
      "AmtSold                              7128 non-null float64\n",
      "QtySold                              7128 non-null int64\n",
      "total_iStoreCOGS                     7128 non-null float64\n",
      "total_iStoreQty_ASRUnder250k         7128 non-null int64\n",
      "total_iStoreQty_ASR250kTo500k        7128 non-null int64\n",
      "total_iStoreQty_ASR500kTo1m          7128 non-null int64\n",
      "total_iStoreQty_ASR1mTo2m            7128 non-null int64\n",
      "total_iStoreQty_ASR2mAndOver         7128 non-null int64\n",
      "total_iStoreQty_AgedUnder15Days      7128 non-null int64\n",
      "total_iStoreQty_Aged15To30Days       7128 non-null int64\n",
      "total_iStoreQty_Aged30To45Days       7128 non-null int64\n",
      "total_iStoreQty_Aged45To90Days       7128 non-null int64\n",
      "total_iStoreQty_AgedOver90Days       7128 non-null int64\n",
      "total_iStorePrice_AgedUnder15Days    7128 non-null float64\n",
      "total_iStorePrice_Aged15To30Days     7128 non-null float64\n",
      "total_iStorePrice_Aged30To45Days     7128 non-null float64\n",
      "total_iStorePrice_Aged45To90Days     7128 non-null float64\n",
      "total_iStorePrice_AgedOver90Days     7128 non-null float64\n",
      "dtypes: datetime64[ns](1), float64(7), int64(16), object(2)\n",
      "memory usage: 1.4+ MB\n"
     ]
    }
   ],
   "source": [
    "df_orders.info()"
   ]
  },
  {
   "cell_type": "code",
   "execution_count": 6,
   "metadata": {},
   "outputs": [
    {
     "name": "stdout",
     "output_type": "stream",
     "text": [
      "total_iStoreQty_ASRUnder250k     924543\n",
      "total_iStoreQty_ASR250kTo500k    208109\n",
      "total_iStoreQty_ASR500kTo1m      216147\n",
      "total_iStoreQty_ASR1mTo2m        180144\n",
      "total_iStoreQty_ASR2mAndOver     126193\n",
      "dtype: int64\n",
      "1655136\n",
      "total_iStoreQty_ASRUnder250k     0.558590\n",
      "total_iStoreQty_ASR250kTo500k    0.125735\n",
      "total_iStoreQty_ASR500kTo1m      0.130592\n",
      "total_iStoreQty_ASR1mTo2m        0.108839\n",
      "total_iStoreQty_ASR2mAndOver     0.076243\n",
      "dtype: float64 \n",
      "\n",
      "\n",
      "\n",
      "\n",
      "total_iStoreQty_AgedUnder15Days    172682\n",
      "total_iStoreQty_Aged15To30Days     150316\n",
      "total_iStoreQty_Aged30To45Days     140948\n",
      "total_iStoreQty_Aged45To90Days     350701\n",
      "total_iStoreQty_AgedOver90Days     730070\n",
      "dtype: int64\n",
      "1544717\n",
      "total_iStoreQty_AgedUnder15Days    0.111789\n",
      "total_iStoreQty_Aged15To30Days     0.097310\n",
      "total_iStoreQty_Aged30To45Days     0.091245\n",
      "total_iStoreQty_Aged45To90Days     0.227033\n",
      "total_iStoreQty_AgedOver90Days     0.472624\n",
      "dtype: float64 \n",
      "\n",
      "\n",
      "\n",
      "\n",
      "total_iStorePrice_AgedUnder15Days    2619408.40\n",
      "total_iStorePrice_Aged15To30Days     2065535.72\n",
      "total_iStorePrice_Aged30To45Days     1732794.74\n",
      "total_iStorePrice_Aged45To90Days     3626341.67\n",
      "total_iStorePrice_AgedOver90Days     5905706.69\n",
      "dtype: float64\n",
      "15949787.220000004\n",
      "total_iStorePrice_AgedUnder15Days    0.164228\n",
      "total_iStorePrice_Aged15To30Days     0.129502\n",
      "total_iStorePrice_Aged30To45Days     0.108641\n",
      "total_iStorePrice_Aged45To90Days     0.227360\n",
      "total_iStorePrice_AgedOver90Days     0.370269\n",
      "dtype: float64 \n",
      "\n",
      "\n",
      "\n",
      "\n",
      "[15.16897187 13.74128982 12.2938583  10.34026612  8.08923348] \n",
      "\n",
      "\n",
      "\n",
      "\n"
     ]
    }
   ],
   "source": [
    "filtOrders_dateRange = (df_orders['Store_Date'] >= '1/1/2019') & (df_orders['Store_Date'] < '1/1/2020')\n",
    "filtOrders_instance = df_orders['InstanceName'] == 'Total iStore'\n",
    "listOrders_QtyASRCols = [c for c in df_orders.columns if (c.find('total_iStoreQty_ASR') > -1)]\n",
    "listOrders_QtyAgeCols = [c for c in df_orders.columns if (c.find('total_iStoreQty_Aged') > -1)]\n",
    "listOrders_PriceCols = [c for c in df_orders.columns if (c.find('total_iStorePrice_Aged') > -1)]\n",
    "print(df_orders[filtOrders_dateRange & filtOrders_instance][listOrders_QtyASRCols].sum())\n",
    "print(df_orders[filtOrders_dateRange & filtOrders_instance][listOrders_QtyASRCols].sum().sum())\n",
    "print(df_orders[filtOrders_dateRange & filtOrders_instance][listOrders_QtyASRCols].sum() / \n",
    "      df_orders[filtOrders_dateRange & filtOrders_instance][listOrders_QtyASRCols].sum().sum(), '\\n\\n\\n\\n')\n",
    "\n",
    "print(df_orders[filtOrders_dateRange & filtOrders_instance][listOrders_QtyAgeCols].sum())\n",
    "print(df_orders[filtOrders_dateRange & filtOrders_instance][listOrders_QtyAgeCols].sum().sum())\n",
    "print(df_orders[filtOrders_dateRange & filtOrders_instance][listOrders_QtyAgeCols].sum() / \n",
    "      df_orders[filtOrders_dateRange & filtOrders_instance][listOrders_QtyAgeCols].sum().sum(), '\\n\\n\\n\\n')\n",
    "\n",
    "print(df_orders[filtOrders_dateRange & filtOrders_instance][listOrders_PriceCols].sum())\n",
    "print(df_orders[filtOrders_dateRange & filtOrders_instance][listOrders_PriceCols].sum().sum())\n",
    "print(df_orders[filtOrders_dateRange & filtOrders_instance][listOrders_PriceCols].sum() / \n",
    "      df_orders[filtOrders_dateRange & filtOrders_instance][listOrders_PriceCols].sum().sum(), '\\n\\n\\n\\n')\n",
    "\n",
    "print(df_orders[filtOrders_dateRange & filtOrders_instance][listOrders_PriceCols].sum().values / \n",
    "      df_orders[filtOrders_dateRange & filtOrders_instance][listOrders_QtyAgeCols].sum().values, '\\n\\n\\n\\n')\n"
   ]
  },
  {
   "cell_type": "code",
   "execution_count": 7,
   "metadata": {},
   "outputs": [
    {
     "name": "stdout",
     "output_type": "stream",
     "text": [
      "total_iStoreQty_ASRUnder250k     71446\n",
      "total_iStoreQty_ASR250kTo500k    11751\n",
      "total_iStoreQty_ASR500kTo1m      11683\n",
      "total_iStoreQty_ASR1mTo2m         9077\n",
      "total_iStoreQty_ASR2mAndOver      7665\n",
      "dtype: int64\n",
      "111622\n",
      "total_iStoreQty_ASRUnder250k     0.640071\n",
      "total_iStoreQty_ASR250kTo500k    0.105275\n",
      "total_iStoreQty_ASR500kTo1m      0.104666\n",
      "total_iStoreQty_ASR1mTo2m        0.081319\n",
      "total_iStoreQty_ASR2mAndOver     0.068669\n",
      "dtype: float64 \n",
      "\n",
      "\n",
      "\n",
      "\n",
      "total_iStoreQty_AgedUnder15Days     3049\n",
      "total_iStoreQty_Aged15To30Days     11390\n",
      "total_iStoreQty_Aged30To45Days     12522\n",
      "total_iStoreQty_Aged45To90Days     31332\n",
      "total_iStoreQty_AgedOver90Days     48563\n",
      "dtype: int64\n",
      "106856\n",
      "total_iStoreQty_AgedUnder15Days    0.028534\n",
      "total_iStoreQty_Aged15To30Days     0.106592\n",
      "total_iStoreQty_Aged30To45Days     0.117186\n",
      "total_iStoreQty_Aged45To90Days     0.293217\n",
      "total_iStoreQty_AgedOver90Days     0.454471\n",
      "dtype: float64 \n",
      "\n",
      "\n",
      "\n",
      "\n",
      "total_iStorePrice_AgedUnder15Days     39734.23\n",
      "total_iStorePrice_Aged15To30Days     132868.20\n",
      "total_iStorePrice_Aged30To45Days     129791.51\n",
      "total_iStorePrice_Aged45To90Days     262853.49\n",
      "total_iStorePrice_AgedOver90Days     341462.78\n",
      "dtype: float64\n",
      "906710.21\n",
      "total_iStorePrice_AgedUnder15Days    0.043822\n",
      "total_iStorePrice_Aged15To30Days     0.146539\n",
      "total_iStorePrice_Aged30To45Days     0.143146\n",
      "total_iStorePrice_Aged45To90Days     0.289898\n",
      "total_iStorePrice_AgedOver90Days     0.376595\n",
      "dtype: float64 \n",
      "\n",
      "\n",
      "\n",
      "\n",
      "[13.03188914 11.66533802 10.36507826  8.38929816  7.0313362 ] \n",
      "\n",
      "\n",
      "\n",
      "\n"
     ]
    }
   ],
   "source": [
    "filtOrders_dateRange = (df_orders['Store_Date'] >= '3/30/2020') \n",
    "filtOrders_instance = df_orders['InstanceName'] == 'Total iStore'\n",
    "listOrders_QtyASRCols = [c for c in df_orders.columns if (c.find('total_iStoreQty_ASR') > -1)]\n",
    "listOrders_QtyAgeCols = [c for c in df_orders.columns if (c.find('total_iStoreQty_Aged') > -1)]\n",
    "listOrders_PriceCols = [c for c in df_orders.columns if (c.find('total_iStorePrice_Aged') > -1)]\n",
    "print(df_orders[filtOrders_dateRange & filtOrders_instance][listOrders_QtyASRCols].sum())\n",
    "print(df_orders[filtOrders_dateRange & filtOrders_instance][listOrders_QtyASRCols].sum().sum())\n",
    "print(df_orders[filtOrders_dateRange & filtOrders_instance][listOrders_QtyASRCols].sum() / \n",
    "      df_orders[filtOrders_dateRange & filtOrders_instance][listOrders_QtyASRCols].sum().sum(), '\\n\\n\\n\\n')\n",
    "\n",
    "print(df_orders[filtOrders_dateRange & filtOrders_instance][listOrders_QtyAgeCols].sum())\n",
    "print(df_orders[filtOrders_dateRange & filtOrders_instance][listOrders_QtyAgeCols].sum().sum())\n",
    "print(df_orders[filtOrders_dateRange & filtOrders_instance][listOrders_QtyAgeCols].sum() / \n",
    "      df_orders[filtOrders_dateRange & filtOrders_instance][listOrders_QtyAgeCols].sum().sum(), '\\n\\n\\n\\n')\n",
    "\n",
    "print(df_orders[filtOrders_dateRange & filtOrders_instance][listOrders_PriceCols].sum())\n",
    "print(df_orders[filtOrders_dateRange & filtOrders_instance][listOrders_PriceCols].sum().sum())\n",
    "print(df_orders[filtOrders_dateRange & filtOrders_instance][listOrders_PriceCols].sum() / \n",
    "      df_orders[filtOrders_dateRange & filtOrders_instance][listOrders_PriceCols].sum().sum(), '\\n\\n\\n\\n')\n",
    "\n",
    "print(df_orders[filtOrders_dateRange & filtOrders_instance][listOrders_PriceCols].sum().values / \n",
    "      df_orders[filtOrders_dateRange & filtOrders_instance][listOrders_QtyAgeCols].sum().values, '\\n\\n\\n\\n')"
   ]
  },
  {
   "cell_type": "code",
   "execution_count": 8,
   "metadata": {},
   "outputs": [],
   "source": [
    "# print(df_orders[filtOrders_dateRange & filtOrders_instance][listOrders_CalcCols].sum())\n",
    "# print(df_orders[filtOrders_dateRange & filtOrders_instance][listOrders_CalcCols].sum().sum())\n",
    "# print(df_orders[filtOrders_dateRange & filtOrders_instance][listOrders_CalcCols].sum() / \n",
    "#       df_orders[filtOrders_dateRange & filtOrders_instance][listOrders_CalcCols].sum().sum())"
   ]
  },
  {
   "cell_type": "code",
   "execution_count": 9,
   "metadata": {},
   "outputs": [
    {
     "data": {
      "text/plain": [
       "1354618.98"
      ]
     },
     "execution_count": 9,
     "metadata": {},
     "output_type": "execute_result"
    }
   ],
   "source": [
    "df_orders[filtOrders_dateRange & filtOrders_instance]['AmtSold'].sum() #/ df_orders[filtOrders_dateRange & filtOrders_instance]['QtySold'].sum()"
   ]
  },
  {
   "cell_type": "code",
   "execution_count": 10,
   "metadata": {},
   "outputs": [
    {
     "name": "stdout",
     "output_type": "stream",
     "text": [
      "<class 'pandas.core.frame.DataFrame'>\n",
      "RangeIndex: 9 entries, 0 to 8\n",
      "Data columns (total 22 columns):\n",
      "Unnamed: 0                       9 non-null int64\n",
      "InstanceName                     9 non-null object\n",
      "count_Items                      9 non-null int64\n",
      "total_iStorePrice                9 non-null float64\n",
      "total_AmazonLowestPrice          9 non-null float64\n",
      "count_PricedAtFloor              9 non-null int64\n",
      "total_iStoreQty_ASRUnder250k     9 non-null float64\n",
      "total_iStoreQty_ASR250kTo500k    9 non-null float64\n",
      "total_iStoreQty_ASR500kTo1m      9 non-null float64\n",
      "total_iStoreQty_ASR1mTo2m        9 non-null float64\n",
      "total_iStoreQty_ASR2mAndOver     9 non-null float64\n",
      "total_DaysInStock                9 non-null int64\n",
      "total_QtyAgedUnder15Days         9 non-null int64\n",
      "total_QtyAged15To30Days          9 non-null int64\n",
      "total_QtyAged30To45Days          9 non-null int64\n",
      "total_QtyAged45To90Days          9 non-null int64\n",
      "total_QtyAgedOver90Days          9 non-null int64\n",
      "total_PriceAgedUnder15Days       9 non-null float64\n",
      "total_PriceAged15To30Days        8 non-null float64\n",
      "total_PriceAged30To45Days        8 non-null float64\n",
      "total_PriceAged45To90Days        8 non-null float64\n",
      "total_PriceAgedOver90Days        8 non-null float64\n",
      "dtypes: float64(12), int64(9), object(1)\n",
      "memory usage: 1.7+ KB\n"
     ]
    }
   ],
   "source": [
    "df_inv.info()"
   ]
  },
  {
   "cell_type": "code",
   "execution_count": 11,
   "metadata": {},
   "outputs": [
    {
     "name": "stdout",
     "output_type": "stream",
     "text": [
      "   total_iStoreQty_ASRUnder250k  total_iStoreQty_ASR250kTo500k  \\\n",
      "8                     2992140.0                       933440.0   \n",
      "\n",
      "   total_iStoreQty_ASR500kTo1m  total_iStoreQty_ASR1mTo2m  \\\n",
      "8                    1187067.0                  1354851.0   \n",
      "\n",
      "   total_iStoreQty_ASR2mAndOver  \n",
      "8                     2459319.0   \n",
      "\n",
      "\n",
      "\n",
      "   total_iStoreQty_ASRUnder250k  total_iStoreQty_ASR250kTo500k  \\\n",
      "8                      0.335186                       0.104566   \n",
      "\n",
      "   total_iStoreQty_ASR500kTo1m  total_iStoreQty_ASR1mTo2m  \\\n",
      "8                     0.132978                   0.151773   \n",
      "\n",
      "   total_iStoreQty_ASR2mAndOver  \n",
      "8                      0.275498  \n"
     ]
    }
   ],
   "source": [
    "filtInv_instance = df_inv['InstanceName'] == 'Total iStore'\n",
    "listInv_QtyCols = [c for c in df_inv.columns if (c.find('total_iStoreQty_ASR') > -1)]\n",
    "listInv_AgeCols = [c for c in df_inv.columns if (c.find('total_QtyAged') > -1)]\n",
    "\n",
    "print(df_inv[filtInv_instance][listInv_QtyCols], '\\n\\n\\n')\n",
    "print(df_inv[filtInv_instance][listInv_QtyCols] / df_inv[filtInv_instance][listInv_QtyCols].values.sum())"
   ]
  },
  {
   "cell_type": "code",
   "execution_count": 12,
   "metadata": {},
   "outputs": [
    {
     "name": "stdout",
     "output_type": "stream",
     "text": [
      "   total_QtyAgedUnder15Days  total_QtyAged15To30Days  total_QtyAged30To45Days  \\\n",
      "8                   1896777                  1977830                   604227   \n",
      "\n",
      "   total_QtyAged45To90Days  total_QtyAgedOver90Days  \n",
      "8                  1981212                  2552405   \n",
      "\n",
      "\n",
      "\n",
      "   total_QtyAgedUnder15Days  total_QtyAged15To30Days  total_QtyAged30To45Days  \\\n",
      "8                  0.210462                 0.219455                 0.067044   \n",
      "\n",
      "   total_QtyAged45To90Days  total_QtyAgedOver90Days  \n",
      "8                 0.219831                 0.283209  \n"
     ]
    }
   ],
   "source": [
    "print(df_inv[filtInv_instance][listInv_AgeCols], '\\n\\n\\n')\n",
    "print(df_inv[filtInv_instance][listInv_AgeCols] / df_inv[filtInv_instance][listInv_AgeCols].values.sum())"
   ]
  },
  {
   "cell_type": "code",
   "execution_count": 13,
   "metadata": {},
   "outputs": [],
   "source": [
    "df_invc = loadData('./data/MonsoonInventoryComplete.csv')"
   ]
  },
  {
   "cell_type": "code",
   "execution_count": 14,
   "metadata": {},
   "outputs": [],
   "source": [
    "filt_PricesTooDamnHigh = df_invc['Price'] > 1000\n",
    "filt_Dist = df_invc['isUsed'] == 0\n",
    "df_invc.drop(df_invc[filt_PricesTooDamnHigh | filt_Dist].index, axis=0, inplace=True)"
   ]
  },
  {
   "cell_type": "code",
   "execution_count": 15,
   "metadata": {},
   "outputs": [
    {
     "name": "stdout",
     "output_type": "stream",
     "text": [
      "<class 'pandas.core.frame.DataFrame'>\n",
      "Int64Index: 8758857 entries, 0 to 8860094\n",
      "Data columns (total 10 columns):\n",
      "ASIN                 object\n",
      "Thicket              int64\n",
      "SKU                  object\n",
      "isUsed               int64\n",
      "Price                float64\n",
      "AmazonSalesRank      float64\n",
      "AmazonLowestPrice    float64\n",
      "PricedAtFloor        int64\n",
      "CostOfGoods          float64\n",
      "DaysInStock          int64\n",
      "dtypes: float64(4), int64(4), object(2)\n",
      "memory usage: 735.1+ MB\n"
     ]
    }
   ],
   "source": [
    "df_invc.info()"
   ]
  },
  {
   "cell_type": "code",
   "execution_count": 16,
   "metadata": {},
   "outputs": [
    {
     "data": {
      "text/plain": [
       "ASIN                 8724137\n",
       "Thicket              8758857\n",
       "SKU                  8758857\n",
       "isUsed               8758857\n",
       "Price                8758857\n",
       "AmazonSalesRank      8552314\n",
       "AmazonLowestPrice    8677729\n",
       "PricedAtFloor        8758857\n",
       "CostOfGoods          8678929\n",
       "DaysInStock          8758857\n",
       "dtype: int64"
      ]
     },
     "execution_count": 16,
     "metadata": {},
     "output_type": "execute_result"
    }
   ],
   "source": [
    "df_invc.count()"
   ]
  },
  {
   "cell_type": "code",
   "execution_count": 20,
   "metadata": {},
   "outputs": [
    {
     "data": {
      "text/plain": [
       "(array([  77780,   27600,   43549,   29389,   43233,  569266,   45411,\n",
       "         383274,   42320,   45880,   65280,   81464,  293691,  102256,\n",
       "          77064,   83981,   90151, 1199656,   67142,   86380,   56287,\n",
       "          30822,   33233,   41178,   38720,   38511,   41317,   40330,\n",
       "          38607,   36969,   44658,   42090,   44879,   42894,   44761,\n",
       "          31973,   35828,   40076,   38091,   38878,   35989,   38765,\n",
       "          33672,   30867,   35259,   36843,   36775,   35738,   34688,\n",
       "          29786,   29643,   34844,   34357,   32886,   41193,   35013,\n",
       "          33236,   30541,   37812,   40889,   36044,   39850,   38373,\n",
       "          41559,   34100,   46290,   47990,   49370,   58913,   46766,\n",
       "          60875,   52501,   59003,   69662,   69511,   72594,   63996,\n",
       "          35798,   31591,   36167,   41422,   37758,   39017,   42378,\n",
       "          29740,   34010,   44294,   77805,   38543,   33945,   12078,\n",
       "          13098,   13637,   15084,   14242,   12406,   11088,   13246,\n",
       "          16076,   17156,   16266,   10323,       0,       0,       0,\n",
       "              0,   11034,   13610,   12968,   13191,   13108,   14771,\n",
       "          14305,   13005,   14182,   14577,   12661,   15749,   15922,\n",
       "          13054,   11885,   13695,   14844,   12867,   13261,   14279,\n",
       "          14090,   14754,    9861,     818,   11856,   12038,   12797,\n",
       "          12695,   10614,   12767,   12041,   11810,   11042,   10859,\n",
       "          12361,   10992,   13686,   13728,   12099,   12619,   11859,\n",
       "           5242,    7174,    9043,   11502,   11719,    9575,   10876,\n",
       "           9947,    9088,    9365,    9607,    9710,   18136,   11130,\n",
       "           9894,    8787,    9687,   10434,    9077,   10778,    9907,\n",
       "           8978,    9415,   10271,    9583,    9189,    7759,    8336,\n",
       "           9317,    8948,    9122,    8446,    8264,    7883,    8513,\n",
       "           9242,    8045,    8944,    8691,    7856,    7822,    7360,\n",
       "           7509,    8148,    8444,    7929,    7786,    6800,    8103,\n",
       "           7686,    6772,    6964,    7867,    8114,    6521,    7273,\n",
       "           6976,    6643,    7664,    7192,    6745,    7394,    6507,\n",
       "           6697,    6444,    7146,    7534,    6793,    6494,    5028,\n",
       "           5412,    5045,    5113,    6146,    6647,    5218,    5686,\n",
       "           5762,    5147,    6630,    6284,    6362,    5444,    5185,\n",
       "           5527,    5144,    5740,    5355,    5133,    5092,    5009,\n",
       "           5232,    5118,    5187,    4921,    5514,    5064,    4957,\n",
       "           5768,    4751,    4963,    4850,    5128,    4466,    4340,\n",
       "           7172,    4366,    4557,    4452,    4170,    4642,    5481,\n",
       "           4697,    4593,    5077,    5537,    4231,    3971,    3486,\n",
       "           1881,    3474,    3818,    4453,    4025,    3983,    4137,\n",
       "           5035,    4340,    4337,    5622,    4332,  152017,    4320,\n",
       "           6108,    4590,    4953,    6303,    6100,    6329,    6887,\n",
       "           6883,    6657,    7045,    7130,    7930,    7807,    7791,\n",
       "           8007,    6516,    7626,    6084,    4788,    4392,    4151,\n",
       "           3922,    4086,    5096,    5050,    4665,    3328,    3464,\n",
       "           3282,    2994,    2168,    2169,    1919,    1964,    1760,\n",
       "           1915,    1723,    2027,    2427,    2092,    2488,    2226,\n",
       "           2037,    2301,    2399,    2437,    2595,    2043,    1943,\n",
       "           2020,    1938,    2537,    3331,    2185,    2119,    2377,\n",
       "           5525,    1986,    2255,    2649,    1979,    2037,    1858,\n",
       "           1709,    1901,    2010,    2017,    2018,    1827,    1557,\n",
       "           2380,    2066,    2108,    2091,    2127,    1787,    3490,\n",
       "              0,    2011,    2186], dtype=int64),\n",
       " array([  1.        ,   1.99722222,   2.99444444,   3.99166667,\n",
       "          4.98888889,   5.98611111,   6.98333333,   7.98055556,\n",
       "          8.97777778,   9.975     ,  10.97222222,  11.96944444,\n",
       "         12.96666667,  13.96388889,  14.96111111,  15.95833333,\n",
       "         16.95555556,  17.95277778,  18.95      ,  19.94722222,\n",
       "         20.94444444,  21.94166667,  22.93888889,  23.93611111,\n",
       "         24.93333333,  25.93055556,  26.92777778,  27.925     ,\n",
       "         28.92222222,  29.91944444,  30.91666667,  31.91388889,\n",
       "         32.91111111,  33.90833333,  34.90555556,  35.90277778,\n",
       "         36.9       ,  37.89722222,  38.89444444,  39.89166667,\n",
       "         40.88888889,  41.88611111,  42.88333333,  43.88055556,\n",
       "         44.87777778,  45.875     ,  46.87222222,  47.86944444,\n",
       "         48.86666667,  49.86388889,  50.86111111,  51.85833333,\n",
       "         52.85555556,  53.85277778,  54.85      ,  55.84722222,\n",
       "         56.84444444,  57.84166667,  58.83888889,  59.83611111,\n",
       "         60.83333333,  61.83055556,  62.82777778,  63.825     ,\n",
       "         64.82222222,  65.81944444,  66.81666667,  67.81388889,\n",
       "         68.81111111,  69.80833333,  70.80555556,  71.80277778,\n",
       "         72.8       ,  73.79722222,  74.79444444,  75.79166667,\n",
       "         76.78888889,  77.78611111,  78.78333333,  79.78055556,\n",
       "         80.77777778,  81.775     ,  82.77222222,  83.76944444,\n",
       "         84.76666667,  85.76388889,  86.76111111,  87.75833333,\n",
       "         88.75555556,  89.75277778,  90.75      ,  91.74722222,\n",
       "         92.74444444,  93.74166667,  94.73888889,  95.73611111,\n",
       "         96.73333333,  97.73055556,  98.72777778,  99.725     ,\n",
       "        100.72222222, 101.71944444, 102.71666667, 103.71388889,\n",
       "        104.71111111, 105.70833333, 106.70555556, 107.70277778,\n",
       "        108.7       , 109.69722222, 110.69444444, 111.69166667,\n",
       "        112.68888889, 113.68611111, 114.68333333, 115.68055556,\n",
       "        116.67777778, 117.675     , 118.67222222, 119.66944444,\n",
       "        120.66666667, 121.66388889, 122.66111111, 123.65833333,\n",
       "        124.65555556, 125.65277778, 126.65      , 127.64722222,\n",
       "        128.64444444, 129.64166667, 130.63888889, 131.63611111,\n",
       "        132.63333333, 133.63055556, 134.62777778, 135.625     ,\n",
       "        136.62222222, 137.61944444, 138.61666667, 139.61388889,\n",
       "        140.61111111, 141.60833333, 142.60555556, 143.60277778,\n",
       "        144.6       , 145.59722222, 146.59444444, 147.59166667,\n",
       "        148.58888889, 149.58611111, 150.58333333, 151.58055556,\n",
       "        152.57777778, 153.575     , 154.57222222, 155.56944444,\n",
       "        156.56666667, 157.56388889, 158.56111111, 159.55833333,\n",
       "        160.55555556, 161.55277778, 162.55      , 163.54722222,\n",
       "        164.54444444, 165.54166667, 166.53888889, 167.53611111,\n",
       "        168.53333333, 169.53055556, 170.52777778, 171.525     ,\n",
       "        172.52222222, 173.51944444, 174.51666667, 175.51388889,\n",
       "        176.51111111, 177.50833333, 178.50555556, 179.50277778,\n",
       "        180.5       , 181.49722222, 182.49444444, 183.49166667,\n",
       "        184.48888889, 185.48611111, 186.48333333, 187.48055556,\n",
       "        188.47777778, 189.475     , 190.47222222, 191.46944444,\n",
       "        192.46666667, 193.46388889, 194.46111111, 195.45833333,\n",
       "        196.45555556, 197.45277778, 198.45      , 199.44722222,\n",
       "        200.44444444, 201.44166667, 202.43888889, 203.43611111,\n",
       "        204.43333333, 205.43055556, 206.42777778, 207.425     ,\n",
       "        208.42222222, 209.41944444, 210.41666667, 211.41388889,\n",
       "        212.41111111, 213.40833333, 214.40555556, 215.40277778,\n",
       "        216.4       , 217.39722222, 218.39444444, 219.39166667,\n",
       "        220.38888889, 221.38611111, 222.38333333, 223.38055556,\n",
       "        224.37777778, 225.375     , 226.37222222, 227.36944444,\n",
       "        228.36666667, 229.36388889, 230.36111111, 231.35833333,\n",
       "        232.35555556, 233.35277778, 234.35      , 235.34722222,\n",
       "        236.34444444, 237.34166667, 238.33888889, 239.33611111,\n",
       "        240.33333333, 241.33055556, 242.32777778, 243.325     ,\n",
       "        244.32222222, 245.31944444, 246.31666667, 247.31388889,\n",
       "        248.31111111, 249.30833333, 250.30555556, 251.30277778,\n",
       "        252.3       , 253.29722222, 254.29444444, 255.29166667,\n",
       "        256.28888889, 257.28611111, 258.28333333, 259.28055556,\n",
       "        260.27777778, 261.275     , 262.27222222, 263.26944444,\n",
       "        264.26666667, 265.26388889, 266.26111111, 267.25833333,\n",
       "        268.25555556, 269.25277778, 270.25      , 271.24722222,\n",
       "        272.24444444, 273.24166667, 274.23888889, 275.23611111,\n",
       "        276.23333333, 277.23055556, 278.22777778, 279.225     ,\n",
       "        280.22222222, 281.21944444, 282.21666667, 283.21388889,\n",
       "        284.21111111, 285.20833333, 286.20555556, 287.20277778,\n",
       "        288.2       , 289.19722222, 290.19444444, 291.19166667,\n",
       "        292.18888889, 293.18611111, 294.18333333, 295.18055556,\n",
       "        296.17777778, 297.175     , 298.17222222, 299.16944444,\n",
       "        300.16666667, 301.16388889, 302.16111111, 303.15833333,\n",
       "        304.15555556, 305.15277778, 306.15      , 307.14722222,\n",
       "        308.14444444, 309.14166667, 310.13888889, 311.13611111,\n",
       "        312.13333333, 313.13055556, 314.12777778, 315.125     ,\n",
       "        316.12222222, 317.11944444, 318.11666667, 319.11388889,\n",
       "        320.11111111, 321.10833333, 322.10555556, 323.10277778,\n",
       "        324.1       , 325.09722222, 326.09444444, 327.09166667,\n",
       "        328.08888889, 329.08611111, 330.08333333, 331.08055556,\n",
       "        332.07777778, 333.075     , 334.07222222, 335.06944444,\n",
       "        336.06666667, 337.06388889, 338.06111111, 339.05833333,\n",
       "        340.05555556, 341.05277778, 342.05      , 343.04722222,\n",
       "        344.04444444, 345.04166667, 346.03888889, 347.03611111,\n",
       "        348.03333333, 349.03055556, 350.02777778, 351.025     ,\n",
       "        352.02222222, 353.01944444, 354.01666667, 355.01388889,\n",
       "        356.01111111, 357.00833333, 358.00555556, 359.00277778,\n",
       "        360.        ]))"
      ]
     },
     "execution_count": 20,
     "metadata": {},
     "output_type": "execute_result"
    }
   ],
   "source": [
    "pltX_invAge, pltY_invAge"
   ]
  },
  {
   "cell_type": "code",
   "execution_count": null,
   "metadata": {},
   "outputs": [],
   "source": []
  },
  {
   "cell_type": "code",
   "execution_count": 41,
   "metadata": {},
   "outputs": [
    {
     "data": {
      "application/vnd.plotly.v1+json": {
       "config": {
        "linkText": "Export to plot.ly",
        "plotlyServerURL": "https://plot.ly",
        "showLink": false
       },
       "data": [
        {
         "name": "Total Inventory Quantity",
         "type": "bar",
         "uid": "9eafab40-3abb-4070-b6b0-fec526f50d88",
         "x": [
          0,
          1,
          2,
          3,
          4,
          5,
          6,
          7,
          8,
          9,
          10,
          11,
          12,
          13,
          14,
          15,
          16,
          17,
          18,
          19,
          20,
          21,
          22,
          23,
          24,
          25,
          26,
          27,
          28,
          29,
          30,
          31,
          32,
          33,
          34,
          35,
          36,
          37,
          38,
          39,
          40,
          41,
          42,
          43,
          44,
          45,
          46,
          47,
          48,
          49,
          50,
          51,
          52,
          53,
          54,
          55,
          56,
          57,
          58,
          59,
          60,
          61,
          62,
          63,
          64,
          65,
          66,
          67,
          68,
          69,
          70,
          71,
          72,
          73,
          74,
          75,
          76,
          77,
          78,
          79,
          80,
          81,
          82,
          83,
          84,
          85,
          86,
          87,
          88,
          89,
          90,
          91,
          92,
          93,
          94,
          95,
          96,
          97,
          98,
          99,
          100,
          101,
          102,
          103,
          104,
          105,
          106,
          107,
          108,
          109,
          110,
          111,
          112,
          113,
          114,
          115,
          116,
          117,
          118,
          119,
          120
         ],
         "y": [
          0,
          77780,
          27600,
          43549,
          29389,
          43233,
          569266,
          45411,
          383274,
          42320,
          45880,
          65280,
          81464,
          293691,
          102256,
          77064,
          83981,
          90151,
          1199656,
          67142,
          86380,
          56287,
          30822,
          33233,
          41178,
          38720,
          38511,
          41317,
          40330,
          38607,
          36969,
          44658,
          42090,
          44879,
          42894,
          44761,
          31973,
          35828,
          40076,
          38091,
          38878,
          35989,
          38765,
          33672,
          30867,
          35259,
          36843,
          36775,
          35738,
          34688,
          29786,
          29643,
          34844,
          34357,
          32886,
          41193,
          35013,
          33236,
          30541,
          37812,
          40889,
          36044,
          39850,
          38373,
          41559,
          34100,
          46290,
          47990,
          49370,
          58913,
          46766,
          60875,
          52501,
          59003,
          69662,
          69511,
          72594,
          63996,
          35798,
          31591,
          36167,
          41422,
          37758,
          39017,
          42378,
          29740,
          34010,
          44294,
          77805,
          38543,
          33945,
          12078,
          13098,
          13637,
          15084,
          14242,
          12406,
          11088,
          13246,
          16076,
          17156,
          16266,
          10323,
          0,
          0,
          0,
          0,
          11034,
          13610,
          12968,
          13191,
          13108,
          14771,
          14305,
          13005,
          14182,
          14577,
          12661,
          15749,
          28976
         ]
        },
        {
         "name": "Inventory Quantity Priced at Floor",
         "type": "bar",
         "uid": "8120c326-37f2-4794-8dbb-f88867d76a96",
         "x": [
          0,
          1,
          2,
          3,
          4,
          5,
          6,
          7,
          8,
          9,
          10,
          11,
          12,
          13,
          14,
          15,
          16,
          17,
          18,
          19,
          20,
          21,
          22,
          23,
          24,
          25,
          26,
          27,
          28,
          29,
          30,
          31,
          32,
          33,
          34,
          35,
          36,
          37,
          38,
          39,
          40,
          41,
          42,
          43,
          44,
          45,
          46,
          47,
          48,
          49,
          50,
          51,
          52,
          53,
          54,
          55,
          56,
          57,
          58,
          59,
          60,
          61,
          62,
          63,
          64,
          65,
          66,
          67,
          68,
          69,
          70,
          71,
          72,
          73,
          74,
          75,
          76,
          77,
          78,
          79,
          80,
          81,
          82,
          83,
          84,
          85,
          86,
          87,
          88,
          89,
          90,
          91,
          92,
          93,
          94,
          95,
          96,
          97,
          98,
          99,
          100,
          101,
          102,
          103,
          104,
          105,
          106,
          107,
          108,
          109,
          110,
          111,
          112,
          113,
          114,
          115,
          116,
          117,
          118,
          119,
          120
         ],
         "y": [
          0,
          464,
          282,
          1340,
          737,
          1085,
          1075,
          539,
          1871,
          947,
          827,
          1525,
          1626,
          4546,
          217,
          10,
          4,
          1,
          26459,
          0,
          699,
          36,
          40,
          3,
          1,
          1,
          2,
          6,
          0,
          0,
          1,
          1,
          5,
          1,
          0,
          3,
          2,
          7,
          3,
          0,
          0,
          0,
          0,
          1,
          0,
          2,
          3,
          25,
          14,
          5,
          5,
          6,
          4,
          22,
          4,
          2,
          2,
          7,
          5,
          2,
          23,
          33,
          55,
          45,
          79,
          38,
          99,
          45,
          75,
          24,
          47,
          60,
          53,
          68,
          201,
          330,
          629,
          351,
          243,
          28,
          16,
          64,
          22,
          31,
          94,
          97,
          103,
          49,
          148,
          54,
          91,
          24,
          52,
          14,
          42,
          74,
          18,
          44,
          36,
          41,
          11,
          32,
          25,
          0,
          0,
          0,
          0,
          20,
          38,
          74,
          12,
          37,
          62,
          50,
          55,
          38,
          32,
          2,
          43,
          533
         ]
        }
       ],
       "layout": {
        "barmode": "overlay",
        "height": 450,
        "hovermode": "x",
        "legend": {
         "orientation": "v",
         "x": 1.05,
         "xanchor": "left",
         "y": 0.5
        },
        "margin": {
         "autoexpand": true,
         "b": 100,
         "l": 25,
         "pad": 0,
         "r": 25,
         "t": 100
        },
        "showlegend": true,
        "template": {
         "data": {
          "bar": [
           {
            "error_x": {
             "color": "#f2f5fa"
            },
            "error_y": {
             "color": "#f2f5fa"
            },
            "marker": {
             "line": {
              "color": "rgb(17,17,17)",
              "width": 0.5
             }
            },
            "type": "bar"
           }
          ],
          "barpolar": [
           {
            "marker": {
             "line": {
              "color": "rgb(17,17,17)",
              "width": 0.5
             }
            },
            "type": "barpolar"
           }
          ],
          "carpet": [
           {
            "aaxis": {
             "endlinecolor": "#A2B1C6",
             "gridcolor": "#506784",
             "linecolor": "#506784",
             "minorgridcolor": "#506784",
             "startlinecolor": "#A2B1C6"
            },
            "baxis": {
             "endlinecolor": "#A2B1C6",
             "gridcolor": "#506784",
             "linecolor": "#506784",
             "minorgridcolor": "#506784",
             "startlinecolor": "#A2B1C6"
            },
            "type": "carpet"
           }
          ],
          "choropleth": [
           {
            "colorbar": {
             "outlinewidth": 0,
             "ticks": ""
            },
            "type": "choropleth"
           }
          ],
          "contour": [
           {
            "colorbar": {
             "outlinewidth": 0,
             "ticks": ""
            },
            "colorscale": [
             [
              0,
              "#0d0887"
             ],
             [
              0.1111111111111111,
              "#46039f"
             ],
             [
              0.2222222222222222,
              "#7201a8"
             ],
             [
              0.3333333333333333,
              "#9c179e"
             ],
             [
              0.4444444444444444,
              "#bd3786"
             ],
             [
              0.5555555555555556,
              "#d8576b"
             ],
             [
              0.6666666666666666,
              "#ed7953"
             ],
             [
              0.7777777777777778,
              "#fb9f3a"
             ],
             [
              0.8888888888888888,
              "#fdca26"
             ],
             [
              1,
              "#f0f921"
             ]
            ],
            "type": "contour"
           }
          ],
          "contourcarpet": [
           {
            "colorbar": {
             "outlinewidth": 0,
             "ticks": ""
            },
            "type": "contourcarpet"
           }
          ],
          "heatmap": [
           {
            "colorbar": {
             "outlinewidth": 0,
             "ticks": ""
            },
            "colorscale": [
             [
              0,
              "#0d0887"
             ],
             [
              0.1111111111111111,
              "#46039f"
             ],
             [
              0.2222222222222222,
              "#7201a8"
             ],
             [
              0.3333333333333333,
              "#9c179e"
             ],
             [
              0.4444444444444444,
              "#bd3786"
             ],
             [
              0.5555555555555556,
              "#d8576b"
             ],
             [
              0.6666666666666666,
              "#ed7953"
             ],
             [
              0.7777777777777778,
              "#fb9f3a"
             ],
             [
              0.8888888888888888,
              "#fdca26"
             ],
             [
              1,
              "#f0f921"
             ]
            ],
            "type": "heatmap"
           }
          ],
          "heatmapgl": [
           {
            "colorbar": {
             "outlinewidth": 0,
             "ticks": ""
            },
            "colorscale": [
             [
              0,
              "#0d0887"
             ],
             [
              0.1111111111111111,
              "#46039f"
             ],
             [
              0.2222222222222222,
              "#7201a8"
             ],
             [
              0.3333333333333333,
              "#9c179e"
             ],
             [
              0.4444444444444444,
              "#bd3786"
             ],
             [
              0.5555555555555556,
              "#d8576b"
             ],
             [
              0.6666666666666666,
              "#ed7953"
             ],
             [
              0.7777777777777778,
              "#fb9f3a"
             ],
             [
              0.8888888888888888,
              "#fdca26"
             ],
             [
              1,
              "#f0f921"
             ]
            ],
            "type": "heatmapgl"
           }
          ],
          "histogram": [
           {
            "marker": {
             "colorbar": {
              "outlinewidth": 0,
              "ticks": ""
             }
            },
            "type": "histogram"
           }
          ],
          "histogram2d": [
           {
            "colorbar": {
             "outlinewidth": 0,
             "ticks": ""
            },
            "colorscale": [
             [
              0,
              "#0d0887"
             ],
             [
              0.1111111111111111,
              "#46039f"
             ],
             [
              0.2222222222222222,
              "#7201a8"
             ],
             [
              0.3333333333333333,
              "#9c179e"
             ],
             [
              0.4444444444444444,
              "#bd3786"
             ],
             [
              0.5555555555555556,
              "#d8576b"
             ],
             [
              0.6666666666666666,
              "#ed7953"
             ],
             [
              0.7777777777777778,
              "#fb9f3a"
             ],
             [
              0.8888888888888888,
              "#fdca26"
             ],
             [
              1,
              "#f0f921"
             ]
            ],
            "type": "histogram2d"
           }
          ],
          "histogram2dcontour": [
           {
            "colorbar": {
             "outlinewidth": 0,
             "ticks": ""
            },
            "colorscale": [
             [
              0,
              "#0d0887"
             ],
             [
              0.1111111111111111,
              "#46039f"
             ],
             [
              0.2222222222222222,
              "#7201a8"
             ],
             [
              0.3333333333333333,
              "#9c179e"
             ],
             [
              0.4444444444444444,
              "#bd3786"
             ],
             [
              0.5555555555555556,
              "#d8576b"
             ],
             [
              0.6666666666666666,
              "#ed7953"
             ],
             [
              0.7777777777777778,
              "#fb9f3a"
             ],
             [
              0.8888888888888888,
              "#fdca26"
             ],
             [
              1,
              "#f0f921"
             ]
            ],
            "type": "histogram2dcontour"
           }
          ],
          "mesh3d": [
           {
            "colorbar": {
             "outlinewidth": 0,
             "ticks": ""
            },
            "type": "mesh3d"
           }
          ],
          "parcoords": [
           {
            "line": {
             "colorbar": {
              "outlinewidth": 0,
              "ticks": ""
             }
            },
            "type": "parcoords"
           }
          ],
          "pie": [
           {
            "automargin": true,
            "type": "pie"
           }
          ],
          "scatter": [
           {
            "marker": {
             "line": {
              "color": "#283442"
             }
            },
            "type": "scatter"
           }
          ],
          "scatter3d": [
           {
            "line": {
             "colorbar": {
              "outlinewidth": 0,
              "ticks": ""
             }
            },
            "marker": {
             "colorbar": {
              "outlinewidth": 0,
              "ticks": ""
             }
            },
            "type": "scatter3d"
           }
          ],
          "scattercarpet": [
           {
            "marker": {
             "colorbar": {
              "outlinewidth": 0,
              "ticks": ""
             }
            },
            "type": "scattercarpet"
           }
          ],
          "scattergeo": [
           {
            "marker": {
             "colorbar": {
              "outlinewidth": 0,
              "ticks": ""
             }
            },
            "type": "scattergeo"
           }
          ],
          "scattergl": [
           {
            "marker": {
             "line": {
              "color": "#283442"
             }
            },
            "type": "scattergl"
           }
          ],
          "scattermapbox": [
           {
            "marker": {
             "colorbar": {
              "outlinewidth": 0,
              "ticks": ""
             }
            },
            "type": "scattermapbox"
           }
          ],
          "scatterpolar": [
           {
            "marker": {
             "colorbar": {
              "outlinewidth": 0,
              "ticks": ""
             }
            },
            "type": "scatterpolar"
           }
          ],
          "scatterpolargl": [
           {
            "marker": {
             "colorbar": {
              "outlinewidth": 0,
              "ticks": ""
             }
            },
            "type": "scatterpolargl"
           }
          ],
          "scatterternary": [
           {
            "marker": {
             "colorbar": {
              "outlinewidth": 0,
              "ticks": ""
             }
            },
            "type": "scatterternary"
           }
          ],
          "surface": [
           {
            "colorbar": {
             "outlinewidth": 0,
             "ticks": ""
            },
            "colorscale": [
             [
              0,
              "#0d0887"
             ],
             [
              0.1111111111111111,
              "#46039f"
             ],
             [
              0.2222222222222222,
              "#7201a8"
             ],
             [
              0.3333333333333333,
              "#9c179e"
             ],
             [
              0.4444444444444444,
              "#bd3786"
             ],
             [
              0.5555555555555556,
              "#d8576b"
             ],
             [
              0.6666666666666666,
              "#ed7953"
             ],
             [
              0.7777777777777778,
              "#fb9f3a"
             ],
             [
              0.8888888888888888,
              "#fdca26"
             ],
             [
              1,
              "#f0f921"
             ]
            ],
            "type": "surface"
           }
          ],
          "table": [
           {
            "cells": {
             "fill": {
              "color": "#506784"
             },
             "line": {
              "color": "rgb(17,17,17)"
             }
            },
            "header": {
             "fill": {
              "color": "#2a3f5f"
             },
             "line": {
              "color": "rgb(17,17,17)"
             }
            },
            "type": "table"
           }
          ]
         },
         "layout": {
          "annotationdefaults": {
           "arrowcolor": "#f2f5fa",
           "arrowhead": 0,
           "arrowwidth": 1
          },
          "coloraxis": {
           "colorbar": {
            "outlinewidth": 0,
            "ticks": ""
           }
          },
          "colorscale": {
           "diverging": [
            [
             0,
             "#8e0152"
            ],
            [
             0.1,
             "#c51b7d"
            ],
            [
             0.2,
             "#de77ae"
            ],
            [
             0.3,
             "#f1b6da"
            ],
            [
             0.4,
             "#fde0ef"
            ],
            [
             0.5,
             "#f7f7f7"
            ],
            [
             0.6,
             "#e6f5d0"
            ],
            [
             0.7,
             "#b8e186"
            ],
            [
             0.8,
             "#7fbc41"
            ],
            [
             0.9,
             "#4d9221"
            ],
            [
             1,
             "#276419"
            ]
           ],
           "sequential": [
            [
             0,
             "#0d0887"
            ],
            [
             0.1111111111111111,
             "#46039f"
            ],
            [
             0.2222222222222222,
             "#7201a8"
            ],
            [
             0.3333333333333333,
             "#9c179e"
            ],
            [
             0.4444444444444444,
             "#bd3786"
            ],
            [
             0.5555555555555556,
             "#d8576b"
            ],
            [
             0.6666666666666666,
             "#ed7953"
            ],
            [
             0.7777777777777778,
             "#fb9f3a"
            ],
            [
             0.8888888888888888,
             "#fdca26"
            ],
            [
             1,
             "#f0f921"
            ]
           ],
           "sequentialminus": [
            [
             0,
             "#0d0887"
            ],
            [
             0.1111111111111111,
             "#46039f"
            ],
            [
             0.2222222222222222,
             "#7201a8"
            ],
            [
             0.3333333333333333,
             "#9c179e"
            ],
            [
             0.4444444444444444,
             "#bd3786"
            ],
            [
             0.5555555555555556,
             "#d8576b"
            ],
            [
             0.6666666666666666,
             "#ed7953"
            ],
            [
             0.7777777777777778,
             "#fb9f3a"
            ],
            [
             0.8888888888888888,
             "#fdca26"
            ],
            [
             1,
             "#f0f921"
            ]
           ]
          },
          "colorway": [
           "#636efa",
           "#EF553B",
           "#00cc96",
           "#ab63fa",
           "#FFA15A",
           "#19d3f3",
           "#FF6692",
           "#B6E880",
           "#FF97FF",
           "#FECB52"
          ],
          "font": {
           "color": "#f2f5fa"
          },
          "geo": {
           "bgcolor": "rgb(17,17,17)",
           "lakecolor": "rgb(17,17,17)",
           "landcolor": "rgb(17,17,17)",
           "showlakes": true,
           "showland": true,
           "subunitcolor": "#506784"
          },
          "hoverlabel": {
           "align": "left"
          },
          "hovermode": "closest",
          "mapbox": {
           "style": "dark"
          },
          "paper_bgcolor": "rgb(17,17,17)",
          "plot_bgcolor": "rgb(17,17,17)",
          "polar": {
           "angularaxis": {
            "gridcolor": "#506784",
            "linecolor": "#506784",
            "ticks": ""
           },
           "bgcolor": "rgb(17,17,17)",
           "radialaxis": {
            "gridcolor": "#506784",
            "linecolor": "#506784",
            "ticks": ""
           }
          },
          "scene": {
           "xaxis": {
            "backgroundcolor": "rgb(17,17,17)",
            "gridcolor": "#506784",
            "gridwidth": 2,
            "linecolor": "#506784",
            "showbackground": true,
            "ticks": "",
            "zerolinecolor": "#C8D4E3"
           },
           "yaxis": {
            "backgroundcolor": "rgb(17,17,17)",
            "gridcolor": "#506784",
            "gridwidth": 2,
            "linecolor": "#506784",
            "showbackground": true,
            "ticks": "",
            "zerolinecolor": "#C8D4E3"
           },
           "zaxis": {
            "backgroundcolor": "rgb(17,17,17)",
            "gridcolor": "#506784",
            "gridwidth": 2,
            "linecolor": "#506784",
            "showbackground": true,
            "ticks": "",
            "zerolinecolor": "#C8D4E3"
           }
          },
          "shapedefaults": {
           "line": {
            "color": "#f2f5fa"
           }
          },
          "sliderdefaults": {
           "bgcolor": "#C8D4E3",
           "bordercolor": "rgb(17,17,17)",
           "borderwidth": 1,
           "tickwidth": 0
          },
          "ternary": {
           "aaxis": {
            "gridcolor": "#506784",
            "linecolor": "#506784",
            "ticks": ""
           },
           "baxis": {
            "gridcolor": "#506784",
            "linecolor": "#506784",
            "ticks": ""
           },
           "bgcolor": "rgb(17,17,17)",
           "caxis": {
            "gridcolor": "#506784",
            "linecolor": "#506784",
            "ticks": ""
           }
          },
          "title": {
           "x": 0.05
          },
          "updatemenudefaults": {
           "bgcolor": "#506784",
           "borderwidth": 0
          },
          "xaxis": {
           "automargin": true,
           "gridcolor": "#283442",
           "linecolor": "#506784",
           "ticks": "",
           "title": {
            "standoff": 15
           },
           "zerolinecolor": "#283442",
           "zerolinewidth": 2
          },
          "yaxis": {
           "automargin": true,
           "gridcolor": "#283442",
           "linecolor": "#506784",
           "ticks": "",
           "title": {
            "standoff": 15
           },
           "zerolinecolor": "#283442",
           "zerolinewidth": 2
          }
         }
        },
        "title": {
         "font": {
          "size": 24
         },
         "text": "Monsoon Inventory by Days In Stock",
         "x": 0,
         "xanchor": "left",
         "xref": "paper",
         "y": 0.95
        },
        "width": 1000,
        "xaxis": {
         "dtick": 5,
         "showgrid": true,
         "tickfont": {
          "family": "Arial, san-serif",
          "size": 10
         },
         "title": {
          "text": "Days In Stock"
         },
         "type": "category"
        },
        "yaxis": {
         "hoverformat": ",.0f",
         "tickfont": {
          "family": "Arial, san-serif",
          "size": 10
         },
         "tickformat": ",.0f",
         "title": {
          "font": {
           "family": "Arial, san-serif",
           "size": 10
          },
          "text": "Quantity"
         }
        }
       }
      },
      "text/html": [
       "<div>\n",
       "        \n",
       "        \n",
       "            <div id=\"4b70d316-c9bf-45e5-8c6c-9422d4eaa31a\" class=\"plotly-graph-div\" style=\"height:450px; width:1000px;\"></div>\n",
       "            <script type=\"text/javascript\">\n",
       "                require([\"plotly\"], function(Plotly) {\n",
       "                    window.PLOTLYENV=window.PLOTLYENV || {};\n",
       "                    \n",
       "                if (document.getElementById(\"4b70d316-c9bf-45e5-8c6c-9422d4eaa31a\")) {\n",
       "                    Plotly.newPlot(\n",
       "                        '4b70d316-c9bf-45e5-8c6c-9422d4eaa31a',\n",
       "                        [{\"name\": \"Total Inventory Quantity\", \"type\": \"bar\", \"uid\": \"9eafab40-3abb-4070-b6b0-fec526f50d88\", \"x\": [0.0, 1.0, 2.0, 3.0, 4.0, 5.0, 6.0, 7.0, 8.0, 9.0, 10.0, 11.0, 12.0, 13.0, 14.0, 15.0, 16.0, 17.0, 18.0, 19.0, 20.0, 21.0, 22.0, 23.0, 24.0, 25.0, 26.0, 27.0, 28.0, 29.0, 30.0, 31.0, 32.0, 33.0, 34.0, 35.0, 36.0, 37.0, 38.0, 39.0, 40.0, 41.0, 42.0, 43.0, 44.0, 45.0, 46.0, 47.0, 48.0, 49.0, 50.0, 51.0, 52.0, 53.0, 54.0, 55.0, 56.0, 57.0, 58.0, 59.0, 60.0, 61.0, 62.0, 63.0, 64.0, 65.0, 66.0, 67.0, 68.0, 69.0, 70.0, 71.0, 72.0, 73.0, 74.0, 75.0, 76.0, 77.0, 78.0, 79.0, 80.0, 81.0, 82.0, 83.0, 84.0, 85.0, 86.0, 87.0, 88.0, 89.0, 90.0, 91.0, 92.0, 93.0, 94.0, 95.0, 96.0, 97.0, 98.0, 99.0, 100.0, 101.0, 102.0, 103.0, 104.0, 105.0, 106.0, 107.0, 108.0, 109.0, 110.0, 111.0, 112.0, 113.0, 114.0, 115.0, 116.0, 117.0, 118.0, 119.0, 120.0], \"y\": [0, 77780, 27600, 43549, 29389, 43233, 569266, 45411, 383274, 42320, 45880, 65280, 81464, 293691, 102256, 77064, 83981, 90151, 1199656, 67142, 86380, 56287, 30822, 33233, 41178, 38720, 38511, 41317, 40330, 38607, 36969, 44658, 42090, 44879, 42894, 44761, 31973, 35828, 40076, 38091, 38878, 35989, 38765, 33672, 30867, 35259, 36843, 36775, 35738, 34688, 29786, 29643, 34844, 34357, 32886, 41193, 35013, 33236, 30541, 37812, 40889, 36044, 39850, 38373, 41559, 34100, 46290, 47990, 49370, 58913, 46766, 60875, 52501, 59003, 69662, 69511, 72594, 63996, 35798, 31591, 36167, 41422, 37758, 39017, 42378, 29740, 34010, 44294, 77805, 38543, 33945, 12078, 13098, 13637, 15084, 14242, 12406, 11088, 13246, 16076, 17156, 16266, 10323, 0, 0, 0, 0, 11034, 13610, 12968, 13191, 13108, 14771, 14305, 13005, 14182, 14577, 12661, 15749, 28976]}, {\"name\": \"Inventory Quantity Priced at Floor\", \"type\": \"bar\", \"uid\": \"8120c326-37f2-4794-8dbb-f88867d76a96\", \"x\": [0.0, 1.0, 2.0, 3.0, 4.0, 5.0, 6.0, 7.0, 8.0, 9.0, 10.0, 11.0, 12.0, 13.0, 14.0, 15.0, 16.0, 17.0, 18.0, 19.0, 20.0, 21.0, 22.0, 23.0, 24.0, 25.0, 26.0, 27.0, 28.0, 29.0, 30.0, 31.0, 32.0, 33.0, 34.0, 35.0, 36.0, 37.0, 38.0, 39.0, 40.0, 41.0, 42.0, 43.0, 44.0, 45.0, 46.0, 47.0, 48.0, 49.0, 50.0, 51.0, 52.0, 53.0, 54.0, 55.0, 56.0, 57.0, 58.0, 59.0, 60.0, 61.0, 62.0, 63.0, 64.0, 65.0, 66.0, 67.0, 68.0, 69.0, 70.0, 71.0, 72.0, 73.0, 74.0, 75.0, 76.0, 77.0, 78.0, 79.0, 80.0, 81.0, 82.0, 83.0, 84.0, 85.0, 86.0, 87.0, 88.0, 89.0, 90.0, 91.0, 92.0, 93.0, 94.0, 95.0, 96.0, 97.0, 98.0, 99.0, 100.0, 101.0, 102.0, 103.0, 104.0, 105.0, 106.0, 107.0, 108.0, 109.0, 110.0, 111.0, 112.0, 113.0, 114.0, 115.0, 116.0, 117.0, 118.0, 119.0, 120.0], \"y\": [0, 464, 282, 1340, 737, 1085, 1075, 539, 1871, 947, 827, 1525, 1626, 4546, 217, 10, 4, 1, 26459, 0, 699, 36, 40, 3, 1, 1, 2, 6, 0, 0, 1, 1, 5, 1, 0, 3, 2, 7, 3, 0, 0, 0, 0, 1, 0, 2, 3, 25, 14, 5, 5, 6, 4, 22, 4, 2, 2, 7, 5, 2, 23, 33, 55, 45, 79, 38, 99, 45, 75, 24, 47, 60, 53, 68, 201, 330, 629, 351, 243, 28, 16, 64, 22, 31, 94, 97, 103, 49, 148, 54, 91, 24, 52, 14, 42, 74, 18, 44, 36, 41, 11, 32, 25, 0, 0, 0, 0, 20, 38, 74, 12, 37, 62, 50, 55, 38, 32, 2, 43, 533]}],\n",
       "                        {\"barmode\": \"overlay\", \"height\": 450, \"hovermode\": \"x\", \"legend\": {\"orientation\": \"v\", \"x\": 1.05, \"xanchor\": \"left\", \"y\": 0.5}, \"margin\": {\"autoexpand\": true, \"b\": 100, \"l\": 25, \"pad\": 0, \"r\": 25, \"t\": 100}, \"showlegend\": true, \"template\": {\"data\": {\"bar\": [{\"error_x\": {\"color\": \"#f2f5fa\"}, \"error_y\": {\"color\": \"#f2f5fa\"}, \"marker\": {\"line\": {\"color\": \"rgb(17,17,17)\", \"width\": 0.5}}, \"type\": \"bar\"}], \"barpolar\": [{\"marker\": {\"line\": {\"color\": \"rgb(17,17,17)\", \"width\": 0.5}}, \"type\": \"barpolar\"}], \"carpet\": [{\"aaxis\": {\"endlinecolor\": \"#A2B1C6\", \"gridcolor\": \"#506784\", \"linecolor\": \"#506784\", \"minorgridcolor\": \"#506784\", \"startlinecolor\": \"#A2B1C6\"}, \"baxis\": {\"endlinecolor\": \"#A2B1C6\", \"gridcolor\": \"#506784\", \"linecolor\": \"#506784\", \"minorgridcolor\": \"#506784\", \"startlinecolor\": \"#A2B1C6\"}, \"type\": \"carpet\"}], \"choropleth\": [{\"colorbar\": {\"outlinewidth\": 0, \"ticks\": \"\"}, \"type\": \"choropleth\"}], \"contour\": [{\"colorbar\": {\"outlinewidth\": 0, \"ticks\": \"\"}, \"colorscale\": [[0.0, \"#0d0887\"], [0.1111111111111111, \"#46039f\"], [0.2222222222222222, \"#7201a8\"], [0.3333333333333333, \"#9c179e\"], [0.4444444444444444, \"#bd3786\"], [0.5555555555555556, \"#d8576b\"], [0.6666666666666666, \"#ed7953\"], [0.7777777777777778, \"#fb9f3a\"], [0.8888888888888888, \"#fdca26\"], [1.0, \"#f0f921\"]], \"type\": \"contour\"}], \"contourcarpet\": [{\"colorbar\": {\"outlinewidth\": 0, \"ticks\": \"\"}, \"type\": \"contourcarpet\"}], \"heatmap\": [{\"colorbar\": {\"outlinewidth\": 0, \"ticks\": \"\"}, \"colorscale\": [[0.0, \"#0d0887\"], [0.1111111111111111, \"#46039f\"], [0.2222222222222222, \"#7201a8\"], [0.3333333333333333, \"#9c179e\"], [0.4444444444444444, \"#bd3786\"], [0.5555555555555556, \"#d8576b\"], [0.6666666666666666, \"#ed7953\"], [0.7777777777777778, \"#fb9f3a\"], [0.8888888888888888, \"#fdca26\"], [1.0, \"#f0f921\"]], \"type\": \"heatmap\"}], \"heatmapgl\": [{\"colorbar\": {\"outlinewidth\": 0, \"ticks\": \"\"}, \"colorscale\": [[0.0, \"#0d0887\"], [0.1111111111111111, \"#46039f\"], [0.2222222222222222, \"#7201a8\"], [0.3333333333333333, \"#9c179e\"], [0.4444444444444444, \"#bd3786\"], [0.5555555555555556, \"#d8576b\"], [0.6666666666666666, \"#ed7953\"], [0.7777777777777778, \"#fb9f3a\"], [0.8888888888888888, \"#fdca26\"], [1.0, \"#f0f921\"]], \"type\": \"heatmapgl\"}], \"histogram\": [{\"marker\": {\"colorbar\": {\"outlinewidth\": 0, \"ticks\": \"\"}}, \"type\": \"histogram\"}], \"histogram2d\": [{\"colorbar\": {\"outlinewidth\": 0, \"ticks\": \"\"}, \"colorscale\": [[0.0, \"#0d0887\"], [0.1111111111111111, \"#46039f\"], [0.2222222222222222, \"#7201a8\"], [0.3333333333333333, \"#9c179e\"], [0.4444444444444444, \"#bd3786\"], [0.5555555555555556, \"#d8576b\"], [0.6666666666666666, \"#ed7953\"], [0.7777777777777778, \"#fb9f3a\"], [0.8888888888888888, \"#fdca26\"], [1.0, \"#f0f921\"]], \"type\": \"histogram2d\"}], \"histogram2dcontour\": [{\"colorbar\": {\"outlinewidth\": 0, \"ticks\": \"\"}, \"colorscale\": [[0.0, \"#0d0887\"], [0.1111111111111111, \"#46039f\"], [0.2222222222222222, \"#7201a8\"], [0.3333333333333333, \"#9c179e\"], [0.4444444444444444, \"#bd3786\"], [0.5555555555555556, \"#d8576b\"], [0.6666666666666666, \"#ed7953\"], [0.7777777777777778, \"#fb9f3a\"], [0.8888888888888888, \"#fdca26\"], [1.0, \"#f0f921\"]], \"type\": \"histogram2dcontour\"}], \"mesh3d\": [{\"colorbar\": {\"outlinewidth\": 0, \"ticks\": \"\"}, \"type\": \"mesh3d\"}], \"parcoords\": [{\"line\": {\"colorbar\": {\"outlinewidth\": 0, \"ticks\": \"\"}}, \"type\": \"parcoords\"}], \"pie\": [{\"automargin\": true, \"type\": \"pie\"}], \"scatter\": [{\"marker\": {\"line\": {\"color\": \"#283442\"}}, \"type\": \"scatter\"}], \"scatter3d\": [{\"line\": {\"colorbar\": {\"outlinewidth\": 0, \"ticks\": \"\"}}, \"marker\": {\"colorbar\": {\"outlinewidth\": 0, \"ticks\": \"\"}}, \"type\": \"scatter3d\"}], \"scattercarpet\": [{\"marker\": {\"colorbar\": {\"outlinewidth\": 0, \"ticks\": \"\"}}, \"type\": \"scattercarpet\"}], \"scattergeo\": [{\"marker\": {\"colorbar\": {\"outlinewidth\": 0, \"ticks\": \"\"}}, \"type\": \"scattergeo\"}], \"scattergl\": [{\"marker\": {\"line\": {\"color\": \"#283442\"}}, \"type\": \"scattergl\"}], \"scattermapbox\": [{\"marker\": {\"colorbar\": {\"outlinewidth\": 0, \"ticks\": \"\"}}, \"type\": \"scattermapbox\"}], \"scatterpolar\": [{\"marker\": {\"colorbar\": {\"outlinewidth\": 0, \"ticks\": \"\"}}, \"type\": \"scatterpolar\"}], \"scatterpolargl\": [{\"marker\": {\"colorbar\": {\"outlinewidth\": 0, \"ticks\": \"\"}}, \"type\": \"scatterpolargl\"}], \"scatterternary\": [{\"marker\": {\"colorbar\": {\"outlinewidth\": 0, \"ticks\": \"\"}}, \"type\": \"scatterternary\"}], \"surface\": [{\"colorbar\": {\"outlinewidth\": 0, \"ticks\": \"\"}, \"colorscale\": [[0.0, \"#0d0887\"], [0.1111111111111111, \"#46039f\"], [0.2222222222222222, \"#7201a8\"], [0.3333333333333333, \"#9c179e\"], [0.4444444444444444, \"#bd3786\"], [0.5555555555555556, \"#d8576b\"], [0.6666666666666666, \"#ed7953\"], [0.7777777777777778, \"#fb9f3a\"], [0.8888888888888888, \"#fdca26\"], [1.0, \"#f0f921\"]], \"type\": \"surface\"}], \"table\": [{\"cells\": {\"fill\": {\"color\": \"#506784\"}, \"line\": {\"color\": \"rgb(17,17,17)\"}}, \"header\": {\"fill\": {\"color\": \"#2a3f5f\"}, \"line\": {\"color\": \"rgb(17,17,17)\"}}, \"type\": \"table\"}]}, \"layout\": {\"annotationdefaults\": {\"arrowcolor\": \"#f2f5fa\", \"arrowhead\": 0, \"arrowwidth\": 1}, \"coloraxis\": {\"colorbar\": {\"outlinewidth\": 0, \"ticks\": \"\"}}, \"colorscale\": {\"diverging\": [[0, \"#8e0152\"], [0.1, \"#c51b7d\"], [0.2, \"#de77ae\"], [0.3, \"#f1b6da\"], [0.4, \"#fde0ef\"], [0.5, \"#f7f7f7\"], [0.6, \"#e6f5d0\"], [0.7, \"#b8e186\"], [0.8, \"#7fbc41\"], [0.9, \"#4d9221\"], [1, \"#276419\"]], \"sequential\": [[0.0, \"#0d0887\"], [0.1111111111111111, \"#46039f\"], [0.2222222222222222, \"#7201a8\"], [0.3333333333333333, \"#9c179e\"], [0.4444444444444444, \"#bd3786\"], [0.5555555555555556, \"#d8576b\"], [0.6666666666666666, \"#ed7953\"], [0.7777777777777778, \"#fb9f3a\"], [0.8888888888888888, \"#fdca26\"], [1.0, \"#f0f921\"]], \"sequentialminus\": [[0.0, \"#0d0887\"], [0.1111111111111111, \"#46039f\"], [0.2222222222222222, \"#7201a8\"], [0.3333333333333333, \"#9c179e\"], [0.4444444444444444, \"#bd3786\"], [0.5555555555555556, \"#d8576b\"], [0.6666666666666666, \"#ed7953\"], [0.7777777777777778, \"#fb9f3a\"], [0.8888888888888888, \"#fdca26\"], [1.0, \"#f0f921\"]]}, \"colorway\": [\"#636efa\", \"#EF553B\", \"#00cc96\", \"#ab63fa\", \"#FFA15A\", \"#19d3f3\", \"#FF6692\", \"#B6E880\", \"#FF97FF\", \"#FECB52\"], \"font\": {\"color\": \"#f2f5fa\"}, \"geo\": {\"bgcolor\": \"rgb(17,17,17)\", \"lakecolor\": \"rgb(17,17,17)\", \"landcolor\": \"rgb(17,17,17)\", \"showlakes\": true, \"showland\": true, \"subunitcolor\": \"#506784\"}, \"hoverlabel\": {\"align\": \"left\"}, \"hovermode\": \"closest\", \"mapbox\": {\"style\": \"dark\"}, \"paper_bgcolor\": \"rgb(17,17,17)\", \"plot_bgcolor\": \"rgb(17,17,17)\", \"polar\": {\"angularaxis\": {\"gridcolor\": \"#506784\", \"linecolor\": \"#506784\", \"ticks\": \"\"}, \"bgcolor\": \"rgb(17,17,17)\", \"radialaxis\": {\"gridcolor\": \"#506784\", \"linecolor\": \"#506784\", \"ticks\": \"\"}}, \"scene\": {\"xaxis\": {\"backgroundcolor\": \"rgb(17,17,17)\", \"gridcolor\": \"#506784\", \"gridwidth\": 2, \"linecolor\": \"#506784\", \"showbackground\": true, \"ticks\": \"\", \"zerolinecolor\": \"#C8D4E3\"}, \"yaxis\": {\"backgroundcolor\": \"rgb(17,17,17)\", \"gridcolor\": \"#506784\", \"gridwidth\": 2, \"linecolor\": \"#506784\", \"showbackground\": true, \"ticks\": \"\", \"zerolinecolor\": \"#C8D4E3\"}, \"zaxis\": {\"backgroundcolor\": \"rgb(17,17,17)\", \"gridcolor\": \"#506784\", \"gridwidth\": 2, \"linecolor\": \"#506784\", \"showbackground\": true, \"ticks\": \"\", \"zerolinecolor\": \"#C8D4E3\"}}, \"shapedefaults\": {\"line\": {\"color\": \"#f2f5fa\"}}, \"sliderdefaults\": {\"bgcolor\": \"#C8D4E3\", \"bordercolor\": \"rgb(17,17,17)\", \"borderwidth\": 1, \"tickwidth\": 0}, \"ternary\": {\"aaxis\": {\"gridcolor\": \"#506784\", \"linecolor\": \"#506784\", \"ticks\": \"\"}, \"baxis\": {\"gridcolor\": \"#506784\", \"linecolor\": \"#506784\", \"ticks\": \"\"}, \"bgcolor\": \"rgb(17,17,17)\", \"caxis\": {\"gridcolor\": \"#506784\", \"linecolor\": \"#506784\", \"ticks\": \"\"}}, \"title\": {\"x\": 0.05}, \"updatemenudefaults\": {\"bgcolor\": \"#506784\", \"borderwidth\": 0}, \"xaxis\": {\"automargin\": true, \"gridcolor\": \"#283442\", \"linecolor\": \"#506784\", \"ticks\": \"\", \"title\": {\"standoff\": 15}, \"zerolinecolor\": \"#283442\", \"zerolinewidth\": 2}, \"yaxis\": {\"automargin\": true, \"gridcolor\": \"#283442\", \"linecolor\": \"#506784\", \"ticks\": \"\", \"title\": {\"standoff\": 15}, \"zerolinecolor\": \"#283442\", \"zerolinewidth\": 2}}}, \"title\": {\"font\": {\"size\": 24}, \"text\": \"Monsoon Inventory by Days In Stock\", \"x\": 0, \"xanchor\": \"left\", \"xref\": \"paper\", \"y\": 0.95}, \"width\": 1000, \"xaxis\": {\"dtick\": 5, \"showgrid\": true, \"tickfont\": {\"family\": \"Arial, san-serif\", \"size\": 10}, \"title\": {\"text\": \"Days In Stock\"}, \"type\": \"category\"}, \"yaxis\": {\"hoverformat\": \",.0f\", \"tickfont\": {\"family\": \"Arial, san-serif\", \"size\": 10}, \"tickformat\": \",.0f\", \"title\": {\"font\": {\"family\": \"Arial, san-serif\", \"size\": 10}, \"text\": \"Quantity\"}}},\n",
       "                        {\"responsive\": true}\n",
       "                    ).then(function(){\n",
       "                            \n",
       "var gd = document.getElementById('4b70d316-c9bf-45e5-8c6c-9422d4eaa31a');\n",
       "var x = new MutationObserver(function (mutations, observer) {{\n",
       "        var display = window.getComputedStyle(gd).display;\n",
       "        if (!display || display === 'none') {{\n",
       "            console.log([gd, 'removed!']);\n",
       "            Plotly.purge(gd);\n",
       "            observer.disconnect();\n",
       "        }}\n",
       "}});\n",
       "\n",
       "// Listen for the removal of the full notebook cells\n",
       "var notebookContainer = gd.closest('#notebook-container');\n",
       "if (notebookContainer) {{\n",
       "    x.observe(notebookContainer, {childList: true});\n",
       "}}\n",
       "\n",
       "// Listen for the clearing of the current output cell\n",
       "var outputEl = gd.closest('.output');\n",
       "if (outputEl) {{\n",
       "    x.observe(outputEl, {childList: true});\n",
       "}}\n",
       "\n",
       "                        })\n",
       "                };\n",
       "                });\n",
       "            </script>\n",
       "        </div>"
      ]
     },
     "metadata": {},
     "output_type": "display_data"
    }
   ],
   "source": [
    "filt_PricedAtFloor = df_invc['PricedAtFloor'] == 1\n",
    "pltY_invAge, pltX_invAge = np.histogram(df_invc['DaysInStock'], bins = int(120 / 1), range=[0,120])\n",
    "pltY_invAgeFloor, pltX_invAgeFloor = np.histogram(df_invc[filt_PricedAtFloor]['DaysInStock'], bins = int(120 / 1), range=[0,120])\n",
    "\n",
    "trace_Age = go.Bar(x=pltX_invAge,y=pltY_invAge, name='Total Inventory Quantity')\n",
    "trace_AgeAtFloor = go.Bar(x=pltX_invAgeFloor, y=pltY_invAgeFloor, name='Inventory Quantity Priced at Floor')\n",
    "\n",
    "layout = dict(\n",
    "        title=go.layout.Title(\n",
    "            text = 'Monsoon Inventory by Days In Stock',\n",
    "            font=dict(size=24),\n",
    "            xref='paper',\n",
    "            x=0,\n",
    "            y=0.95,\n",
    "            xanchor='left'),\n",
    "        barmode='overlay',\n",
    "        legend=dict(orientation='v',x=1.05, y=0.5, xanchor='left'),\n",
    "        width=1000,\n",
    "        height=450,\n",
    "        margin=go.layout.Margin(\n",
    "        l=25,\n",
    "        r=25,\n",
    "        b=100,\n",
    "        t=100,\n",
    "        pad=0,\n",
    "        autoexpand=True),\n",
    "        hovermode='x',\n",
    "        showlegend=True)\n",
    "data = [trace_Age, trace_AgeAtFloor]\n",
    "fig = go.FigureWidget(data=data, layout=layout)\n",
    "\n",
    "fig['layout']['xaxis'] = dict(title='Days In Stock', \n",
    "                        type='category', \n",
    "                        showgrid=True,\n",
    "                        dtick=5,\n",
    "                        tickfont=dict(family='Arial, san-serif', size=10))\n",
    "fig['layout']['yaxis'] = dict(title='Quantity', \n",
    "                        tickformat=',.0f', \n",
    "                        hoverformat=',.0f', \n",
    "                        titlefont=dict(family='Arial, san-serif', size=10),\n",
    "                        tickfont=dict(family='Arial, san-serif', size=10))\n",
    "\n",
    "iplot(fig)"
   ]
  },
  {
   "cell_type": "code",
   "execution_count": 46,
   "metadata": {},
   "outputs": [
    {
     "data": {
      "text/plain": [
       "58275244.15000002"
      ]
     },
     "execution_count": 46,
     "metadata": {},
     "output_type": "execute_result"
    }
   ],
   "source": [
    "df_invc['Price'].sum()"
   ]
  },
  {
   "cell_type": "code",
   "execution_count": 44,
   "metadata": {},
   "outputs": [
    {
     "data": {
      "application/vnd.plotly.v1+json": {
       "config": {
        "linkText": "Export to plot.ly",
        "plotlyServerURL": "https://plot.ly",
        "showLink": false
       },
       "data": [
        {
         "name": "Total Inventory Quantity",
         "type": "bar",
         "uid": "af31b5f8-c741-44ca-a868-19d5e3a2b4c5",
         "x": [
          0,
          1,
          2,
          3,
          4,
          5,
          6,
          7,
          8,
          9,
          10,
          11,
          12,
          13,
          14,
          15,
          16,
          17,
          18,
          19,
          20,
          21,
          22,
          23,
          24,
          25,
          26,
          27,
          28,
          29,
          30,
          31,
          32,
          33,
          34,
          35,
          36,
          37,
          38,
          39,
          40,
          41,
          42,
          43,
          44,
          45,
          46,
          47,
          48,
          49,
          50,
          51,
          52,
          53,
          54,
          55,
          56,
          57,
          58,
          59,
          60,
          61,
          62,
          63,
          64,
          65,
          66,
          67,
          68,
          69,
          70,
          71,
          72,
          73,
          74,
          75,
          76,
          77,
          78,
          79,
          80,
          81,
          82,
          83,
          84,
          85,
          86,
          87,
          88,
          89,
          90,
          91,
          92,
          93,
          94,
          95,
          96,
          97,
          98,
          99,
          100,
          101,
          102,
          103,
          104,
          105,
          106,
          107,
          108,
          109,
          110,
          111,
          112,
          113,
          114,
          115,
          116,
          117,
          118,
          119,
          120
         ],
         "y": [
          0,
          636628.0299998446,
          229421.4400000084,
          361362.4799999545,
          243301.23999999222,
          359154.2400000256,
          2482615.8899989175,
          372340.20000003657,
          1768641.059999352,
          371994.79999999935,
          469326.7600000114,
          640180.2199999617,
          780054.7599999816,
          3254678.669998522,
          853315.1099998733,
          643028.4599998714,
          715225.2199998876,
          738506.3299998915,
          7517298.219997256,
          567875.2999999591,
          772321.5799999337,
          500695.8200000093,
          273905.8300000203,
          298672.76000000763,
          362057.31000001787,
          341449.6500000061,
          338369.77000002115,
          357129.4800000094,
          355633.6200000038,
          333351.5600000218,
          324592.2700000163,
          379668.4900000089,
          336223.15000001126,
          327428.5400000033,
          321475.3000000097,
          333559.1300000089,
          234069.95000000723,
          273223.2900000058,
          294763.1200000083,
          276766.2300000061,
          289159.29000000085,
          275458.84000000014,
          284455.5000000001,
          242358.04000000414,
          223743.95000000283,
          258158.14000000025,
          267246.44000000315,
          268063.220000002,
          255761.68999999927,
          248068.659999998,
          202397.789999998,
          200200.54999999682,
          243982.2800000049,
          245706.9899999994,
          244892.90000000078,
          288488.0100000026,
          247272.16000000312,
          227936.10999999865,
          219587.54999999877,
          266302.4400000014,
          302625.650000002,
          264129.8700000051,
          251450.98000000106,
          232323.57000000804,
          248516.2000000093,
          207247.1500000004,
          281212.78000001184,
          300437.3200000075,
          311034.2000000094,
          378183.11000001396,
          282444.20000001177,
          358795.81000001566,
          332953.8400000173,
          377352.4000000175,
          449334.3000000157,
          431227.59000001603,
          449334.9500000114,
          397532.80000001786,
          222979.1000000115,
          196129.62000000753,
          228666.1000000074,
          257442.75000001272,
          241207.9100000052,
          252638.49000001187,
          272214.190000012,
          181741.31000000046,
          219083.6800000028,
          299020.38000000926,
          489281.4600000144,
          254667.76000000956,
          222968.25000001173,
          75215.11000000045,
          80380.54000000015,
          75392.34000000005,
          83484.53999999996,
          78038.64000000019,
          70228.52000000022,
          63395.829999999856,
          71955.96000000049,
          87665.89000000074,
          94443.08000000099,
          89581.01000000017,
          57120.530000000406,
          0,
          0,
          0,
          0,
          59142.730000001146,
          71267.13000000046,
          74223.32999999964,
          75178.62000000004,
          69689.5500000004,
          84537.25000000063,
          81441.79000000092,
          76145.00999999994,
          80899.39000000042,
          79520.04000000095,
          71499.44000000037,
          90470.25000000076,
          157777.51999999848
         ]
        },
        {
         "name": "Inventory Quantity Priced at Floor",
         "type": "bar",
         "uid": "bde036fe-fd05-4e55-8804-e26c256d8207",
         "x": [
          0,
          1,
          2,
          3,
          4,
          5,
          6,
          7,
          8,
          9,
          10,
          11,
          12,
          13,
          14,
          15,
          16,
          17,
          18,
          19,
          20,
          21,
          22,
          23,
          24,
          25,
          26,
          27,
          28,
          29,
          30,
          31,
          32,
          33,
          34,
          35,
          36,
          37,
          38,
          39,
          40,
          41,
          42,
          43,
          44,
          45,
          46,
          47,
          48,
          49,
          50,
          51,
          52,
          53,
          54,
          55,
          56,
          57,
          58,
          59,
          60,
          61,
          62,
          63,
          64,
          65,
          66,
          67,
          68,
          69,
          70,
          71,
          72,
          73,
          74,
          75,
          76,
          77,
          78,
          79,
          80,
          81,
          82,
          83,
          84,
          85,
          86,
          87,
          88,
          89,
          90,
          91,
          92,
          93,
          94,
          95,
          96,
          97,
          98,
          99,
          100,
          101,
          102,
          103,
          104,
          105,
          106,
          107,
          108,
          109,
          110,
          111,
          112,
          113,
          114,
          115,
          116,
          117,
          118,
          119,
          120
         ],
         "y": [
          0,
          3949.1399999999658,
          2665.8099999999913,
          10773.39999999978,
          5243.35999999992,
          8661.689999999839,
          6317.059999999926,
          4450.799999999939,
          13803.91999999981,
          7471.149999999871,
          7113.069999999877,
          13549.329999999776,
          16367.519999999733,
          38010.05000000151,
          1723.3300000000017,
          116.05,
          40.45,
          10.13,
          213438.60999997478,
          0,
          6452.569999999903,
          306.94000000000017,
          311.8500000000001,
          116.97999999999999,
          7.99,
          9.99,
          11.57,
          53.02,
          0,
          0,
          14.99,
          55,
          25.680000000000003,
          4.79,
          0,
          33.15,
          10.780000000000001,
          49.93,
          22.21,
          0,
          0,
          0,
          0,
          6.79,
          0,
          11.66,
          31.16,
          145.01999999999998,
          94.41999999999997,
          30.45,
          25.799999999999997,
          58.849999999999994,
          22.62,
          186.33,
          816.38,
          11.98,
          13.73,
          41.34,
          257.77,
          11.98,
          154.55999999999997,
          213.72999999999996,
          288.00999999999993,
          255.05000000000004,
          540.6700000000002,
          186.97999999999996,
          500.64000000000016,
          282.91999999999996,
          356.7400000000002,
          134.28,
          255.98999999999998,
          352.62000000000006,
          329.26,
          377.00000000000006,
          1095.820000000001,
          1789.580000000003,
          3454.819999999987,
          2025.9500000000019,
          1861.0600000000018,
          165.32999999999998,
          93.74999999999999,
          450.76000000000016,
          214.23,
          1092.53,
          530.9300000000001,
          550.4699999999999,
          453.5400000000001,
          264.33,
          863.2300000000006,
          351.9000000000001,
          565.4700000000004,
          236.49000000000007,
          284.11,
          78.86,
          259.93000000000006,
          315.01000000000005,
          130.51,
          217.87000000000003,
          153.75000000000003,
          205.82000000000005,
          55.470000000000006,
          142.75,
          117.35000000000001,
          0,
          0,
          0,
          0,
          171.55999999999997,
          203.13,
          365.16,
          66.95,
          213.08999999999997,
          299.66,
          223.24,
          302.4,
          214.98000000000005,
          155.85000000000002,
          8,
          220.60000000000005,
          2730.460000000001
         ]
        }
       ],
       "layout": {
        "barmode": "overlay",
        "height": 450,
        "hovermode": "x",
        "legend": {
         "orientation": "v",
         "x": 1.05,
         "xanchor": "left",
         "y": 0.5
        },
        "margin": {
         "autoexpand": true,
         "b": 100,
         "l": 25,
         "pad": 0,
         "r": 25,
         "t": 100
        },
        "showlegend": true,
        "template": {
         "data": {
          "bar": [
           {
            "error_x": {
             "color": "#f2f5fa"
            },
            "error_y": {
             "color": "#f2f5fa"
            },
            "marker": {
             "line": {
              "color": "rgb(17,17,17)",
              "width": 0.5
             }
            },
            "type": "bar"
           }
          ],
          "barpolar": [
           {
            "marker": {
             "line": {
              "color": "rgb(17,17,17)",
              "width": 0.5
             }
            },
            "type": "barpolar"
           }
          ],
          "carpet": [
           {
            "aaxis": {
             "endlinecolor": "#A2B1C6",
             "gridcolor": "#506784",
             "linecolor": "#506784",
             "minorgridcolor": "#506784",
             "startlinecolor": "#A2B1C6"
            },
            "baxis": {
             "endlinecolor": "#A2B1C6",
             "gridcolor": "#506784",
             "linecolor": "#506784",
             "minorgridcolor": "#506784",
             "startlinecolor": "#A2B1C6"
            },
            "type": "carpet"
           }
          ],
          "choropleth": [
           {
            "colorbar": {
             "outlinewidth": 0,
             "ticks": ""
            },
            "type": "choropleth"
           }
          ],
          "contour": [
           {
            "colorbar": {
             "outlinewidth": 0,
             "ticks": ""
            },
            "colorscale": [
             [
              0,
              "#0d0887"
             ],
             [
              0.1111111111111111,
              "#46039f"
             ],
             [
              0.2222222222222222,
              "#7201a8"
             ],
             [
              0.3333333333333333,
              "#9c179e"
             ],
             [
              0.4444444444444444,
              "#bd3786"
             ],
             [
              0.5555555555555556,
              "#d8576b"
             ],
             [
              0.6666666666666666,
              "#ed7953"
             ],
             [
              0.7777777777777778,
              "#fb9f3a"
             ],
             [
              0.8888888888888888,
              "#fdca26"
             ],
             [
              1,
              "#f0f921"
             ]
            ],
            "type": "contour"
           }
          ],
          "contourcarpet": [
           {
            "colorbar": {
             "outlinewidth": 0,
             "ticks": ""
            },
            "type": "contourcarpet"
           }
          ],
          "heatmap": [
           {
            "colorbar": {
             "outlinewidth": 0,
             "ticks": ""
            },
            "colorscale": [
             [
              0,
              "#0d0887"
             ],
             [
              0.1111111111111111,
              "#46039f"
             ],
             [
              0.2222222222222222,
              "#7201a8"
             ],
             [
              0.3333333333333333,
              "#9c179e"
             ],
             [
              0.4444444444444444,
              "#bd3786"
             ],
             [
              0.5555555555555556,
              "#d8576b"
             ],
             [
              0.6666666666666666,
              "#ed7953"
             ],
             [
              0.7777777777777778,
              "#fb9f3a"
             ],
             [
              0.8888888888888888,
              "#fdca26"
             ],
             [
              1,
              "#f0f921"
             ]
            ],
            "type": "heatmap"
           }
          ],
          "heatmapgl": [
           {
            "colorbar": {
             "outlinewidth": 0,
             "ticks": ""
            },
            "colorscale": [
             [
              0,
              "#0d0887"
             ],
             [
              0.1111111111111111,
              "#46039f"
             ],
             [
              0.2222222222222222,
              "#7201a8"
             ],
             [
              0.3333333333333333,
              "#9c179e"
             ],
             [
              0.4444444444444444,
              "#bd3786"
             ],
             [
              0.5555555555555556,
              "#d8576b"
             ],
             [
              0.6666666666666666,
              "#ed7953"
             ],
             [
              0.7777777777777778,
              "#fb9f3a"
             ],
             [
              0.8888888888888888,
              "#fdca26"
             ],
             [
              1,
              "#f0f921"
             ]
            ],
            "type": "heatmapgl"
           }
          ],
          "histogram": [
           {
            "marker": {
             "colorbar": {
              "outlinewidth": 0,
              "ticks": ""
             }
            },
            "type": "histogram"
           }
          ],
          "histogram2d": [
           {
            "colorbar": {
             "outlinewidth": 0,
             "ticks": ""
            },
            "colorscale": [
             [
              0,
              "#0d0887"
             ],
             [
              0.1111111111111111,
              "#46039f"
             ],
             [
              0.2222222222222222,
              "#7201a8"
             ],
             [
              0.3333333333333333,
              "#9c179e"
             ],
             [
              0.4444444444444444,
              "#bd3786"
             ],
             [
              0.5555555555555556,
              "#d8576b"
             ],
             [
              0.6666666666666666,
              "#ed7953"
             ],
             [
              0.7777777777777778,
              "#fb9f3a"
             ],
             [
              0.8888888888888888,
              "#fdca26"
             ],
             [
              1,
              "#f0f921"
             ]
            ],
            "type": "histogram2d"
           }
          ],
          "histogram2dcontour": [
           {
            "colorbar": {
             "outlinewidth": 0,
             "ticks": ""
            },
            "colorscale": [
             [
              0,
              "#0d0887"
             ],
             [
              0.1111111111111111,
              "#46039f"
             ],
             [
              0.2222222222222222,
              "#7201a8"
             ],
             [
              0.3333333333333333,
              "#9c179e"
             ],
             [
              0.4444444444444444,
              "#bd3786"
             ],
             [
              0.5555555555555556,
              "#d8576b"
             ],
             [
              0.6666666666666666,
              "#ed7953"
             ],
             [
              0.7777777777777778,
              "#fb9f3a"
             ],
             [
              0.8888888888888888,
              "#fdca26"
             ],
             [
              1,
              "#f0f921"
             ]
            ],
            "type": "histogram2dcontour"
           }
          ],
          "mesh3d": [
           {
            "colorbar": {
             "outlinewidth": 0,
             "ticks": ""
            },
            "type": "mesh3d"
           }
          ],
          "parcoords": [
           {
            "line": {
             "colorbar": {
              "outlinewidth": 0,
              "ticks": ""
             }
            },
            "type": "parcoords"
           }
          ],
          "pie": [
           {
            "automargin": true,
            "type": "pie"
           }
          ],
          "scatter": [
           {
            "marker": {
             "line": {
              "color": "#283442"
             }
            },
            "type": "scatter"
           }
          ],
          "scatter3d": [
           {
            "line": {
             "colorbar": {
              "outlinewidth": 0,
              "ticks": ""
             }
            },
            "marker": {
             "colorbar": {
              "outlinewidth": 0,
              "ticks": ""
             }
            },
            "type": "scatter3d"
           }
          ],
          "scattercarpet": [
           {
            "marker": {
             "colorbar": {
              "outlinewidth": 0,
              "ticks": ""
             }
            },
            "type": "scattercarpet"
           }
          ],
          "scattergeo": [
           {
            "marker": {
             "colorbar": {
              "outlinewidth": 0,
              "ticks": ""
             }
            },
            "type": "scattergeo"
           }
          ],
          "scattergl": [
           {
            "marker": {
             "line": {
              "color": "#283442"
             }
            },
            "type": "scattergl"
           }
          ],
          "scattermapbox": [
           {
            "marker": {
             "colorbar": {
              "outlinewidth": 0,
              "ticks": ""
             }
            },
            "type": "scattermapbox"
           }
          ],
          "scatterpolar": [
           {
            "marker": {
             "colorbar": {
              "outlinewidth": 0,
              "ticks": ""
             }
            },
            "type": "scatterpolar"
           }
          ],
          "scatterpolargl": [
           {
            "marker": {
             "colorbar": {
              "outlinewidth": 0,
              "ticks": ""
             }
            },
            "type": "scatterpolargl"
           }
          ],
          "scatterternary": [
           {
            "marker": {
             "colorbar": {
              "outlinewidth": 0,
              "ticks": ""
             }
            },
            "type": "scatterternary"
           }
          ],
          "surface": [
           {
            "colorbar": {
             "outlinewidth": 0,
             "ticks": ""
            },
            "colorscale": [
             [
              0,
              "#0d0887"
             ],
             [
              0.1111111111111111,
              "#46039f"
             ],
             [
              0.2222222222222222,
              "#7201a8"
             ],
             [
              0.3333333333333333,
              "#9c179e"
             ],
             [
              0.4444444444444444,
              "#bd3786"
             ],
             [
              0.5555555555555556,
              "#d8576b"
             ],
             [
              0.6666666666666666,
              "#ed7953"
             ],
             [
              0.7777777777777778,
              "#fb9f3a"
             ],
             [
              0.8888888888888888,
              "#fdca26"
             ],
             [
              1,
              "#f0f921"
             ]
            ],
            "type": "surface"
           }
          ],
          "table": [
           {
            "cells": {
             "fill": {
              "color": "#506784"
             },
             "line": {
              "color": "rgb(17,17,17)"
             }
            },
            "header": {
             "fill": {
              "color": "#2a3f5f"
             },
             "line": {
              "color": "rgb(17,17,17)"
             }
            },
            "type": "table"
           }
          ]
         },
         "layout": {
          "annotationdefaults": {
           "arrowcolor": "#f2f5fa",
           "arrowhead": 0,
           "arrowwidth": 1
          },
          "coloraxis": {
           "colorbar": {
            "outlinewidth": 0,
            "ticks": ""
           }
          },
          "colorscale": {
           "diverging": [
            [
             0,
             "#8e0152"
            ],
            [
             0.1,
             "#c51b7d"
            ],
            [
             0.2,
             "#de77ae"
            ],
            [
             0.3,
             "#f1b6da"
            ],
            [
             0.4,
             "#fde0ef"
            ],
            [
             0.5,
             "#f7f7f7"
            ],
            [
             0.6,
             "#e6f5d0"
            ],
            [
             0.7,
             "#b8e186"
            ],
            [
             0.8,
             "#7fbc41"
            ],
            [
             0.9,
             "#4d9221"
            ],
            [
             1,
             "#276419"
            ]
           ],
           "sequential": [
            [
             0,
             "#0d0887"
            ],
            [
             0.1111111111111111,
             "#46039f"
            ],
            [
             0.2222222222222222,
             "#7201a8"
            ],
            [
             0.3333333333333333,
             "#9c179e"
            ],
            [
             0.4444444444444444,
             "#bd3786"
            ],
            [
             0.5555555555555556,
             "#d8576b"
            ],
            [
             0.6666666666666666,
             "#ed7953"
            ],
            [
             0.7777777777777778,
             "#fb9f3a"
            ],
            [
             0.8888888888888888,
             "#fdca26"
            ],
            [
             1,
             "#f0f921"
            ]
           ],
           "sequentialminus": [
            [
             0,
             "#0d0887"
            ],
            [
             0.1111111111111111,
             "#46039f"
            ],
            [
             0.2222222222222222,
             "#7201a8"
            ],
            [
             0.3333333333333333,
             "#9c179e"
            ],
            [
             0.4444444444444444,
             "#bd3786"
            ],
            [
             0.5555555555555556,
             "#d8576b"
            ],
            [
             0.6666666666666666,
             "#ed7953"
            ],
            [
             0.7777777777777778,
             "#fb9f3a"
            ],
            [
             0.8888888888888888,
             "#fdca26"
            ],
            [
             1,
             "#f0f921"
            ]
           ]
          },
          "colorway": [
           "#636efa",
           "#EF553B",
           "#00cc96",
           "#ab63fa",
           "#FFA15A",
           "#19d3f3",
           "#FF6692",
           "#B6E880",
           "#FF97FF",
           "#FECB52"
          ],
          "font": {
           "color": "#f2f5fa"
          },
          "geo": {
           "bgcolor": "rgb(17,17,17)",
           "lakecolor": "rgb(17,17,17)",
           "landcolor": "rgb(17,17,17)",
           "showlakes": true,
           "showland": true,
           "subunitcolor": "#506784"
          },
          "hoverlabel": {
           "align": "left"
          },
          "hovermode": "closest",
          "mapbox": {
           "style": "dark"
          },
          "paper_bgcolor": "rgb(17,17,17)",
          "plot_bgcolor": "rgb(17,17,17)",
          "polar": {
           "angularaxis": {
            "gridcolor": "#506784",
            "linecolor": "#506784",
            "ticks": ""
           },
           "bgcolor": "rgb(17,17,17)",
           "radialaxis": {
            "gridcolor": "#506784",
            "linecolor": "#506784",
            "ticks": ""
           }
          },
          "scene": {
           "xaxis": {
            "backgroundcolor": "rgb(17,17,17)",
            "gridcolor": "#506784",
            "gridwidth": 2,
            "linecolor": "#506784",
            "showbackground": true,
            "ticks": "",
            "zerolinecolor": "#C8D4E3"
           },
           "yaxis": {
            "backgroundcolor": "rgb(17,17,17)",
            "gridcolor": "#506784",
            "gridwidth": 2,
            "linecolor": "#506784",
            "showbackground": true,
            "ticks": "",
            "zerolinecolor": "#C8D4E3"
           },
           "zaxis": {
            "backgroundcolor": "rgb(17,17,17)",
            "gridcolor": "#506784",
            "gridwidth": 2,
            "linecolor": "#506784",
            "showbackground": true,
            "ticks": "",
            "zerolinecolor": "#C8D4E3"
           }
          },
          "shapedefaults": {
           "line": {
            "color": "#f2f5fa"
           }
          },
          "sliderdefaults": {
           "bgcolor": "#C8D4E3",
           "bordercolor": "rgb(17,17,17)",
           "borderwidth": 1,
           "tickwidth": 0
          },
          "ternary": {
           "aaxis": {
            "gridcolor": "#506784",
            "linecolor": "#506784",
            "ticks": ""
           },
           "baxis": {
            "gridcolor": "#506784",
            "linecolor": "#506784",
            "ticks": ""
           },
           "bgcolor": "rgb(17,17,17)",
           "caxis": {
            "gridcolor": "#506784",
            "linecolor": "#506784",
            "ticks": ""
           }
          },
          "title": {
           "x": 0.05
          },
          "updatemenudefaults": {
           "bgcolor": "#506784",
           "borderwidth": 0
          },
          "xaxis": {
           "automargin": true,
           "gridcolor": "#283442",
           "linecolor": "#506784",
           "ticks": "",
           "title": {
            "standoff": 15
           },
           "zerolinecolor": "#283442",
           "zerolinewidth": 2
          },
          "yaxis": {
           "automargin": true,
           "gridcolor": "#283442",
           "linecolor": "#506784",
           "ticks": "",
           "title": {
            "standoff": 15
           },
           "zerolinecolor": "#283442",
           "zerolinewidth": 2
          }
         }
        },
        "title": {
         "font": {
          "size": 24
         },
         "text": "Monsoon Total Prices by Days In Stock",
         "x": 0,
         "xanchor": "left",
         "xref": "paper",
         "y": 0.95
        },
        "width": 1000,
        "xaxis": {
         "dtick": 5,
         "showgrid": true,
         "tickfont": {
          "family": "Arial, san-serif",
          "size": 10
         },
         "title": {
          "text": "Days In Stock"
         },
         "type": "category"
        },
        "yaxis": {
         "hoverformat": "$,.0f",
         "tickfont": {
          "family": "Arial, san-serif",
          "size": 10
         },
         "tickformat": "$,.0f",
         "title": {
          "font": {
           "family": "Arial, san-serif",
           "size": 10
          },
          "text": "Quantity"
         }
        }
       }
      },
      "text/html": [
       "<div>\n",
       "        \n",
       "        \n",
       "            <div id=\"4a384cd2-b836-408f-a3c2-ea82b0d06c01\" class=\"plotly-graph-div\" style=\"height:450px; width:1000px;\"></div>\n",
       "            <script type=\"text/javascript\">\n",
       "                require([\"plotly\"], function(Plotly) {\n",
       "                    window.PLOTLYENV=window.PLOTLYENV || {};\n",
       "                    \n",
       "                if (document.getElementById(\"4a384cd2-b836-408f-a3c2-ea82b0d06c01\")) {\n",
       "                    Plotly.newPlot(\n",
       "                        '4a384cd2-b836-408f-a3c2-ea82b0d06c01',\n",
       "                        [{\"name\": \"Total Inventory Quantity\", \"type\": \"bar\", \"uid\": \"af31b5f8-c741-44ca-a868-19d5e3a2b4c5\", \"x\": [0.0, 1.0, 2.0, 3.0, 4.0, 5.0, 6.0, 7.0, 8.0, 9.0, 10.0, 11.0, 12.0, 13.0, 14.0, 15.0, 16.0, 17.0, 18.0, 19.0, 20.0, 21.0, 22.0, 23.0, 24.0, 25.0, 26.0, 27.0, 28.0, 29.0, 30.0, 31.0, 32.0, 33.0, 34.0, 35.0, 36.0, 37.0, 38.0, 39.0, 40.0, 41.0, 42.0, 43.0, 44.0, 45.0, 46.0, 47.0, 48.0, 49.0, 50.0, 51.0, 52.0, 53.0, 54.0, 55.0, 56.0, 57.0, 58.0, 59.0, 60.0, 61.0, 62.0, 63.0, 64.0, 65.0, 66.0, 67.0, 68.0, 69.0, 70.0, 71.0, 72.0, 73.0, 74.0, 75.0, 76.0, 77.0, 78.0, 79.0, 80.0, 81.0, 82.0, 83.0, 84.0, 85.0, 86.0, 87.0, 88.0, 89.0, 90.0, 91.0, 92.0, 93.0, 94.0, 95.0, 96.0, 97.0, 98.0, 99.0, 100.0, 101.0, 102.0, 103.0, 104.0, 105.0, 106.0, 107.0, 108.0, 109.0, 110.0, 111.0, 112.0, 113.0, 114.0, 115.0, 116.0, 117.0, 118.0, 119.0, 120.0], \"y\": [0.0, 636628.0299998446, 229421.4400000084, 361362.4799999545, 243301.23999999222, 359154.2400000256, 2482615.8899989175, 372340.20000003657, 1768641.059999352, 371994.79999999935, 469326.7600000114, 640180.2199999617, 780054.7599999816, 3254678.669998522, 853315.1099998733, 643028.4599998714, 715225.2199998876, 738506.3299998915, 7517298.219997256, 567875.2999999591, 772321.5799999337, 500695.8200000093, 273905.8300000203, 298672.76000000763, 362057.31000001787, 341449.6500000061, 338369.77000002115, 357129.4800000094, 355633.6200000038, 333351.5600000218, 324592.2700000163, 379668.4900000089, 336223.15000001126, 327428.5400000033, 321475.3000000097, 333559.1300000089, 234069.95000000723, 273223.2900000058, 294763.1200000083, 276766.2300000061, 289159.29000000085, 275458.84000000014, 284455.5000000001, 242358.04000000414, 223743.95000000283, 258158.14000000025, 267246.44000000315, 268063.220000002, 255761.68999999927, 248068.659999998, 202397.789999998, 200200.54999999682, 243982.2800000049, 245706.9899999994, 244892.90000000078, 288488.0100000026, 247272.16000000312, 227936.10999999865, 219587.54999999877, 266302.4400000014, 302625.650000002, 264129.8700000051, 251450.98000000106, 232323.57000000804, 248516.2000000093, 207247.1500000004, 281212.78000001184, 300437.3200000075, 311034.2000000094, 378183.11000001396, 282444.20000001177, 358795.81000001566, 332953.8400000173, 377352.4000000175, 449334.3000000157, 431227.59000001603, 449334.9500000114, 397532.80000001786, 222979.1000000115, 196129.62000000753, 228666.1000000074, 257442.75000001272, 241207.9100000052, 252638.49000001187, 272214.190000012, 181741.31000000046, 219083.6800000028, 299020.38000000926, 489281.4600000144, 254667.76000000956, 222968.25000001173, 75215.11000000045, 80380.54000000015, 75392.34000000005, 83484.53999999996, 78038.64000000019, 70228.52000000022, 63395.829999999856, 71955.96000000049, 87665.89000000074, 94443.08000000099, 89581.01000000017, 57120.530000000406, 0.0, 0.0, 0.0, 0.0, 59142.730000001146, 71267.13000000046, 74223.32999999964, 75178.62000000004, 69689.5500000004, 84537.25000000063, 81441.79000000092, 76145.00999999994, 80899.39000000042, 79520.04000000095, 71499.44000000037, 90470.25000000076, 157777.51999999848]}, {\"name\": \"Inventory Quantity Priced at Floor\", \"type\": \"bar\", \"uid\": \"bde036fe-fd05-4e55-8804-e26c256d8207\", \"x\": [0.0, 1.0, 2.0, 3.0, 4.0, 5.0, 6.0, 7.0, 8.0, 9.0, 10.0, 11.0, 12.0, 13.0, 14.0, 15.0, 16.0, 17.0, 18.0, 19.0, 20.0, 21.0, 22.0, 23.0, 24.0, 25.0, 26.0, 27.0, 28.0, 29.0, 30.0, 31.0, 32.0, 33.0, 34.0, 35.0, 36.0, 37.0, 38.0, 39.0, 40.0, 41.0, 42.0, 43.0, 44.0, 45.0, 46.0, 47.0, 48.0, 49.0, 50.0, 51.0, 52.0, 53.0, 54.0, 55.0, 56.0, 57.0, 58.0, 59.0, 60.0, 61.0, 62.0, 63.0, 64.0, 65.0, 66.0, 67.0, 68.0, 69.0, 70.0, 71.0, 72.0, 73.0, 74.0, 75.0, 76.0, 77.0, 78.0, 79.0, 80.0, 81.0, 82.0, 83.0, 84.0, 85.0, 86.0, 87.0, 88.0, 89.0, 90.0, 91.0, 92.0, 93.0, 94.0, 95.0, 96.0, 97.0, 98.0, 99.0, 100.0, 101.0, 102.0, 103.0, 104.0, 105.0, 106.0, 107.0, 108.0, 109.0, 110.0, 111.0, 112.0, 113.0, 114.0, 115.0, 116.0, 117.0, 118.0, 119.0, 120.0], \"y\": [0.0, 3949.1399999999658, 2665.8099999999913, 10773.39999999978, 5243.35999999992, 8661.689999999839, 6317.059999999926, 4450.799999999939, 13803.91999999981, 7471.149999999871, 7113.069999999877, 13549.329999999776, 16367.519999999733, 38010.05000000151, 1723.3300000000017, 116.05, 40.45, 10.13, 213438.60999997478, 0.0, 6452.569999999903, 306.94000000000017, 311.8500000000001, 116.97999999999999, 7.99, 9.99, 11.57, 53.02, 0.0, 0.0, 14.99, 55.0, 25.680000000000003, 4.79, 0.0, 33.15, 10.780000000000001, 49.93, 22.21, 0.0, 0.0, 0.0, 0.0, 6.79, 0.0, 11.66, 31.16, 145.01999999999998, 94.41999999999997, 30.45, 25.799999999999997, 58.849999999999994, 22.62, 186.33, 816.38, 11.98, 13.73, 41.34, 257.77, 11.98, 154.55999999999997, 213.72999999999996, 288.00999999999993, 255.05000000000004, 540.6700000000002, 186.97999999999996, 500.64000000000016, 282.91999999999996, 356.7400000000002, 134.28, 255.98999999999998, 352.62000000000006, 329.26, 377.00000000000006, 1095.820000000001, 1789.580000000003, 3454.819999999987, 2025.9500000000019, 1861.0600000000018, 165.32999999999998, 93.74999999999999, 450.76000000000016, 214.23, 1092.53, 530.9300000000001, 550.4699999999999, 453.5400000000001, 264.33, 863.2300000000006, 351.9000000000001, 565.4700000000004, 236.49000000000007, 284.11, 78.86, 259.93000000000006, 315.01000000000005, 130.51, 217.87000000000003, 153.75000000000003, 205.82000000000005, 55.470000000000006, 142.75, 117.35000000000001, 0.0, 0.0, 0.0, 0.0, 171.55999999999997, 203.13, 365.16, 66.95, 213.08999999999997, 299.66, 223.24, 302.4, 214.98000000000005, 155.85000000000002, 8.0, 220.60000000000005, 2730.460000000001]}],\n",
       "                        {\"barmode\": \"overlay\", \"height\": 450, \"hovermode\": \"x\", \"legend\": {\"orientation\": \"v\", \"x\": 1.05, \"xanchor\": \"left\", \"y\": 0.5}, \"margin\": {\"autoexpand\": true, \"b\": 100, \"l\": 25, \"pad\": 0, \"r\": 25, \"t\": 100}, \"showlegend\": true, \"template\": {\"data\": {\"bar\": [{\"error_x\": {\"color\": \"#f2f5fa\"}, \"error_y\": {\"color\": \"#f2f5fa\"}, \"marker\": {\"line\": {\"color\": \"rgb(17,17,17)\", \"width\": 0.5}}, \"type\": \"bar\"}], \"barpolar\": [{\"marker\": {\"line\": {\"color\": \"rgb(17,17,17)\", \"width\": 0.5}}, \"type\": \"barpolar\"}], \"carpet\": [{\"aaxis\": {\"endlinecolor\": \"#A2B1C6\", \"gridcolor\": \"#506784\", \"linecolor\": \"#506784\", \"minorgridcolor\": \"#506784\", \"startlinecolor\": \"#A2B1C6\"}, \"baxis\": {\"endlinecolor\": \"#A2B1C6\", \"gridcolor\": \"#506784\", \"linecolor\": \"#506784\", \"minorgridcolor\": \"#506784\", \"startlinecolor\": \"#A2B1C6\"}, \"type\": \"carpet\"}], \"choropleth\": [{\"colorbar\": {\"outlinewidth\": 0, \"ticks\": \"\"}, \"type\": \"choropleth\"}], \"contour\": [{\"colorbar\": {\"outlinewidth\": 0, \"ticks\": \"\"}, \"colorscale\": [[0.0, \"#0d0887\"], [0.1111111111111111, \"#46039f\"], [0.2222222222222222, \"#7201a8\"], [0.3333333333333333, \"#9c179e\"], [0.4444444444444444, \"#bd3786\"], [0.5555555555555556, \"#d8576b\"], [0.6666666666666666, \"#ed7953\"], [0.7777777777777778, \"#fb9f3a\"], [0.8888888888888888, \"#fdca26\"], [1.0, \"#f0f921\"]], \"type\": \"contour\"}], \"contourcarpet\": [{\"colorbar\": {\"outlinewidth\": 0, \"ticks\": \"\"}, \"type\": \"contourcarpet\"}], \"heatmap\": [{\"colorbar\": {\"outlinewidth\": 0, \"ticks\": \"\"}, \"colorscale\": [[0.0, \"#0d0887\"], [0.1111111111111111, \"#46039f\"], [0.2222222222222222, \"#7201a8\"], [0.3333333333333333, \"#9c179e\"], [0.4444444444444444, \"#bd3786\"], [0.5555555555555556, \"#d8576b\"], [0.6666666666666666, \"#ed7953\"], [0.7777777777777778, \"#fb9f3a\"], [0.8888888888888888, \"#fdca26\"], [1.0, \"#f0f921\"]], \"type\": \"heatmap\"}], \"heatmapgl\": [{\"colorbar\": {\"outlinewidth\": 0, \"ticks\": \"\"}, \"colorscale\": [[0.0, \"#0d0887\"], [0.1111111111111111, \"#46039f\"], [0.2222222222222222, \"#7201a8\"], [0.3333333333333333, \"#9c179e\"], [0.4444444444444444, \"#bd3786\"], [0.5555555555555556, \"#d8576b\"], [0.6666666666666666, \"#ed7953\"], [0.7777777777777778, \"#fb9f3a\"], [0.8888888888888888, \"#fdca26\"], [1.0, \"#f0f921\"]], \"type\": \"heatmapgl\"}], \"histogram\": [{\"marker\": {\"colorbar\": {\"outlinewidth\": 0, \"ticks\": \"\"}}, \"type\": \"histogram\"}], \"histogram2d\": [{\"colorbar\": {\"outlinewidth\": 0, \"ticks\": \"\"}, \"colorscale\": [[0.0, \"#0d0887\"], [0.1111111111111111, \"#46039f\"], [0.2222222222222222, \"#7201a8\"], [0.3333333333333333, \"#9c179e\"], [0.4444444444444444, \"#bd3786\"], [0.5555555555555556, \"#d8576b\"], [0.6666666666666666, \"#ed7953\"], [0.7777777777777778, \"#fb9f3a\"], [0.8888888888888888, \"#fdca26\"], [1.0, \"#f0f921\"]], \"type\": \"histogram2d\"}], \"histogram2dcontour\": [{\"colorbar\": {\"outlinewidth\": 0, \"ticks\": \"\"}, \"colorscale\": [[0.0, \"#0d0887\"], [0.1111111111111111, \"#46039f\"], [0.2222222222222222, \"#7201a8\"], [0.3333333333333333, \"#9c179e\"], [0.4444444444444444, \"#bd3786\"], [0.5555555555555556, \"#d8576b\"], [0.6666666666666666, \"#ed7953\"], [0.7777777777777778, \"#fb9f3a\"], [0.8888888888888888, \"#fdca26\"], [1.0, \"#f0f921\"]], \"type\": \"histogram2dcontour\"}], \"mesh3d\": [{\"colorbar\": {\"outlinewidth\": 0, \"ticks\": \"\"}, \"type\": \"mesh3d\"}], \"parcoords\": [{\"line\": {\"colorbar\": {\"outlinewidth\": 0, \"ticks\": \"\"}}, \"type\": \"parcoords\"}], \"pie\": [{\"automargin\": true, \"type\": \"pie\"}], \"scatter\": [{\"marker\": {\"line\": {\"color\": \"#283442\"}}, \"type\": \"scatter\"}], \"scatter3d\": [{\"line\": {\"colorbar\": {\"outlinewidth\": 0, \"ticks\": \"\"}}, \"marker\": {\"colorbar\": {\"outlinewidth\": 0, \"ticks\": \"\"}}, \"type\": \"scatter3d\"}], \"scattercarpet\": [{\"marker\": {\"colorbar\": {\"outlinewidth\": 0, \"ticks\": \"\"}}, \"type\": \"scattercarpet\"}], \"scattergeo\": [{\"marker\": {\"colorbar\": {\"outlinewidth\": 0, \"ticks\": \"\"}}, \"type\": \"scattergeo\"}], \"scattergl\": [{\"marker\": {\"line\": {\"color\": \"#283442\"}}, \"type\": \"scattergl\"}], \"scattermapbox\": [{\"marker\": {\"colorbar\": {\"outlinewidth\": 0, \"ticks\": \"\"}}, \"type\": \"scattermapbox\"}], \"scatterpolar\": [{\"marker\": {\"colorbar\": {\"outlinewidth\": 0, \"ticks\": \"\"}}, \"type\": \"scatterpolar\"}], \"scatterpolargl\": [{\"marker\": {\"colorbar\": {\"outlinewidth\": 0, \"ticks\": \"\"}}, \"type\": \"scatterpolargl\"}], \"scatterternary\": [{\"marker\": {\"colorbar\": {\"outlinewidth\": 0, \"ticks\": \"\"}}, \"type\": \"scatterternary\"}], \"surface\": [{\"colorbar\": {\"outlinewidth\": 0, \"ticks\": \"\"}, \"colorscale\": [[0.0, \"#0d0887\"], [0.1111111111111111, \"#46039f\"], [0.2222222222222222, \"#7201a8\"], [0.3333333333333333, \"#9c179e\"], [0.4444444444444444, \"#bd3786\"], [0.5555555555555556, \"#d8576b\"], [0.6666666666666666, \"#ed7953\"], [0.7777777777777778, \"#fb9f3a\"], [0.8888888888888888, \"#fdca26\"], [1.0, \"#f0f921\"]], \"type\": \"surface\"}], \"table\": [{\"cells\": {\"fill\": {\"color\": \"#506784\"}, \"line\": {\"color\": \"rgb(17,17,17)\"}}, \"header\": {\"fill\": {\"color\": \"#2a3f5f\"}, \"line\": {\"color\": \"rgb(17,17,17)\"}}, \"type\": \"table\"}]}, \"layout\": {\"annotationdefaults\": {\"arrowcolor\": \"#f2f5fa\", \"arrowhead\": 0, \"arrowwidth\": 1}, \"coloraxis\": {\"colorbar\": {\"outlinewidth\": 0, \"ticks\": \"\"}}, \"colorscale\": {\"diverging\": [[0, \"#8e0152\"], [0.1, \"#c51b7d\"], [0.2, \"#de77ae\"], [0.3, \"#f1b6da\"], [0.4, \"#fde0ef\"], [0.5, \"#f7f7f7\"], [0.6, \"#e6f5d0\"], [0.7, \"#b8e186\"], [0.8, \"#7fbc41\"], [0.9, \"#4d9221\"], [1, \"#276419\"]], \"sequential\": [[0.0, \"#0d0887\"], [0.1111111111111111, \"#46039f\"], [0.2222222222222222, \"#7201a8\"], [0.3333333333333333, \"#9c179e\"], [0.4444444444444444, \"#bd3786\"], [0.5555555555555556, \"#d8576b\"], [0.6666666666666666, \"#ed7953\"], [0.7777777777777778, \"#fb9f3a\"], [0.8888888888888888, \"#fdca26\"], [1.0, \"#f0f921\"]], \"sequentialminus\": [[0.0, \"#0d0887\"], [0.1111111111111111, \"#46039f\"], [0.2222222222222222, \"#7201a8\"], [0.3333333333333333, \"#9c179e\"], [0.4444444444444444, \"#bd3786\"], [0.5555555555555556, \"#d8576b\"], [0.6666666666666666, \"#ed7953\"], [0.7777777777777778, \"#fb9f3a\"], [0.8888888888888888, \"#fdca26\"], [1.0, \"#f0f921\"]]}, \"colorway\": [\"#636efa\", \"#EF553B\", \"#00cc96\", \"#ab63fa\", \"#FFA15A\", \"#19d3f3\", \"#FF6692\", \"#B6E880\", \"#FF97FF\", \"#FECB52\"], \"font\": {\"color\": \"#f2f5fa\"}, \"geo\": {\"bgcolor\": \"rgb(17,17,17)\", \"lakecolor\": \"rgb(17,17,17)\", \"landcolor\": \"rgb(17,17,17)\", \"showlakes\": true, \"showland\": true, \"subunitcolor\": \"#506784\"}, \"hoverlabel\": {\"align\": \"left\"}, \"hovermode\": \"closest\", \"mapbox\": {\"style\": \"dark\"}, \"paper_bgcolor\": \"rgb(17,17,17)\", \"plot_bgcolor\": \"rgb(17,17,17)\", \"polar\": {\"angularaxis\": {\"gridcolor\": \"#506784\", \"linecolor\": \"#506784\", \"ticks\": \"\"}, \"bgcolor\": \"rgb(17,17,17)\", \"radialaxis\": {\"gridcolor\": \"#506784\", \"linecolor\": \"#506784\", \"ticks\": \"\"}}, \"scene\": {\"xaxis\": {\"backgroundcolor\": \"rgb(17,17,17)\", \"gridcolor\": \"#506784\", \"gridwidth\": 2, \"linecolor\": \"#506784\", \"showbackground\": true, \"ticks\": \"\", \"zerolinecolor\": \"#C8D4E3\"}, \"yaxis\": {\"backgroundcolor\": \"rgb(17,17,17)\", \"gridcolor\": \"#506784\", \"gridwidth\": 2, \"linecolor\": \"#506784\", \"showbackground\": true, \"ticks\": \"\", \"zerolinecolor\": \"#C8D4E3\"}, \"zaxis\": {\"backgroundcolor\": \"rgb(17,17,17)\", \"gridcolor\": \"#506784\", \"gridwidth\": 2, \"linecolor\": \"#506784\", \"showbackground\": true, \"ticks\": \"\", \"zerolinecolor\": \"#C8D4E3\"}}, \"shapedefaults\": {\"line\": {\"color\": \"#f2f5fa\"}}, \"sliderdefaults\": {\"bgcolor\": \"#C8D4E3\", \"bordercolor\": \"rgb(17,17,17)\", \"borderwidth\": 1, \"tickwidth\": 0}, \"ternary\": {\"aaxis\": {\"gridcolor\": \"#506784\", \"linecolor\": \"#506784\", \"ticks\": \"\"}, \"baxis\": {\"gridcolor\": \"#506784\", \"linecolor\": \"#506784\", \"ticks\": \"\"}, \"bgcolor\": \"rgb(17,17,17)\", \"caxis\": {\"gridcolor\": \"#506784\", \"linecolor\": \"#506784\", \"ticks\": \"\"}}, \"title\": {\"x\": 0.05}, \"updatemenudefaults\": {\"bgcolor\": \"#506784\", \"borderwidth\": 0}, \"xaxis\": {\"automargin\": true, \"gridcolor\": \"#283442\", \"linecolor\": \"#506784\", \"ticks\": \"\", \"title\": {\"standoff\": 15}, \"zerolinecolor\": \"#283442\", \"zerolinewidth\": 2}, \"yaxis\": {\"automargin\": true, \"gridcolor\": \"#283442\", \"linecolor\": \"#506784\", \"ticks\": \"\", \"title\": {\"standoff\": 15}, \"zerolinecolor\": \"#283442\", \"zerolinewidth\": 2}}}, \"title\": {\"font\": {\"size\": 24}, \"text\": \"Monsoon Total Prices by Days In Stock\", \"x\": 0, \"xanchor\": \"left\", \"xref\": \"paper\", \"y\": 0.95}, \"width\": 1000, \"xaxis\": {\"dtick\": 5, \"showgrid\": true, \"tickfont\": {\"family\": \"Arial, san-serif\", \"size\": 10}, \"title\": {\"text\": \"Days In Stock\"}, \"type\": \"category\"}, \"yaxis\": {\"hoverformat\": \"$,.0f\", \"tickfont\": {\"family\": \"Arial, san-serif\", \"size\": 10}, \"tickformat\": \"$,.0f\", \"title\": {\"font\": {\"family\": \"Arial, san-serif\", \"size\": 10}, \"text\": \"Quantity\"}}},\n",
       "                        {\"responsive\": true}\n",
       "                    ).then(function(){\n",
       "                            \n",
       "var gd = document.getElementById('4a384cd2-b836-408f-a3c2-ea82b0d06c01');\n",
       "var x = new MutationObserver(function (mutations, observer) {{\n",
       "        var display = window.getComputedStyle(gd).display;\n",
       "        if (!display || display === 'none') {{\n",
       "            console.log([gd, 'removed!']);\n",
       "            Plotly.purge(gd);\n",
       "            observer.disconnect();\n",
       "        }}\n",
       "}});\n",
       "\n",
       "// Listen for the removal of the full notebook cells\n",
       "var notebookContainer = gd.closest('#notebook-container');\n",
       "if (notebookContainer) {{\n",
       "    x.observe(notebookContainer, {childList: true});\n",
       "}}\n",
       "\n",
       "// Listen for the clearing of the current output cell\n",
       "var outputEl = gd.closest('.output');\n",
       "if (outputEl) {{\n",
       "    x.observe(outputEl, {childList: true});\n",
       "}}\n",
       "\n",
       "                        })\n",
       "                };\n",
       "                });\n",
       "            </script>\n",
       "        </div>"
      ]
     },
     "metadata": {},
     "output_type": "display_data"
    }
   ],
   "source": [
    "filt_PricedAtFloor = df_invc['PricedAtFloor'] == 1\n",
    "pltY_invAge, pltX_invAge = np.histogram(df_invc['DaysInStock'], bins = int(120 / 1), range=[0,120], weights=df_invc['Price'])\n",
    "pltY_invAgeFloor, pltX_invAgeFloor = np.histogram(df_invc[filt_PricedAtFloor]['DaysInStock'], bins = int(120 / 1), range=[0,120], weights=df_invc[filt_PricedAtFloor]['Price'])\n",
    "\n",
    "trace_Age = go.Bar(x=pltX_invAge,y=pltY_invAge, name='Total Inventory Quantity')\n",
    "trace_AgeAtFloor = go.Bar(x=pltX_invAgeFloor, y=pltY_invAgeFloor, name='Inventory Quantity Priced at Floor')\n",
    "\n",
    "layout = dict(\n",
    "        title=go.layout.Title(\n",
    "            text = 'Monsoon Total Prices by Days In Stock',\n",
    "            font=dict(size=24),\n",
    "            xref='paper',\n",
    "            x=0,\n",
    "            y=0.95,\n",
    "            xanchor='left'),\n",
    "        barmode='overlay',\n",
    "        legend=dict(orientation='v',x=1.05, y=0.5, xanchor='left'),\n",
    "        width=1000,\n",
    "        height=450,\n",
    "        margin=go.layout.Margin(\n",
    "        l=25,\n",
    "        r=25,\n",
    "        b=100,\n",
    "        t=100,\n",
    "        pad=0,\n",
    "        autoexpand=True),\n",
    "        hovermode='x',\n",
    "        showlegend=True)\n",
    "data = [trace_Age, trace_AgeAtFloor]\n",
    "fig = go.FigureWidget(data=data, layout=layout)\n",
    "\n",
    "fig['layout']['xaxis'] = dict(title='Days In Stock', \n",
    "                        type='category', \n",
    "                        showgrid=True,\n",
    "                        dtick=5,\n",
    "                        tickfont=dict(family='Arial, san-serif', size=10))\n",
    "fig['layout']['yaxis'] = dict(title='Quantity', \n",
    "                        tickformat='$,.0f', \n",
    "                        hoverformat='$,.0f', \n",
    "                        titlefont=dict(family='Arial, san-serif', size=10),\n",
    "                        tickfont=dict(family='Arial, san-serif', size=10))\n",
    "\n",
    "iplot(fig)"
   ]
  },
  {
   "cell_type": "code",
   "execution_count": 53,
   "metadata": {},
   "outputs": [
    {
     "name": "stderr",
     "output_type": "stream",
     "text": [
      "C:\\ProgramData\\Anaconda3\\lib\\site-packages\\ipykernel_launcher.py:7: RuntimeWarning:\n",
      "\n",
      "invalid value encountered in true_divide\n",
      "\n",
      "C:\\ProgramData\\Anaconda3\\lib\\site-packages\\ipykernel_launcher.py:8: RuntimeWarning:\n",
      "\n",
      "invalid value encountered in true_divide\n",
      "\n"
     ]
    },
    {
     "data": {
      "application/vnd.plotly.v1+json": {
       "config": {
        "linkText": "Export to plot.ly",
        "plotlyServerURL": "https://plot.ly",
        "showLink": false
       },
       "data": [
        {
         "name": "Avg Price",
         "type": "bar",
         "uid": "395a551e-08fa-46ea-b978-7610c90c9e1f",
         "x": [
          0,
          1,
          2,
          3,
          4,
          5,
          6,
          7,
          8,
          9,
          10,
          11,
          12,
          13,
          14,
          15,
          16,
          17,
          18,
          19,
          20,
          21,
          22,
          23,
          24,
          25,
          26,
          27,
          28,
          29,
          30,
          31,
          32,
          33,
          34,
          35,
          36,
          37,
          38,
          39,
          40,
          41,
          42,
          43,
          44,
          45,
          46,
          47,
          48,
          49,
          50,
          51,
          52,
          53,
          54,
          55,
          56,
          57,
          58,
          59,
          60,
          61,
          62,
          63,
          64,
          65,
          66,
          67,
          68,
          69,
          70,
          71,
          72,
          73,
          74,
          75,
          76,
          77,
          78,
          79,
          80,
          81,
          82,
          83,
          84,
          85,
          86,
          87,
          88,
          89,
          90,
          91,
          92,
          93,
          94,
          95,
          96,
          97,
          98,
          99,
          100,
          101,
          102,
          103,
          104,
          105,
          106,
          107,
          108,
          109,
          110,
          111,
          112,
          113,
          114,
          115,
          116,
          117,
          118,
          119,
          120
         ],
         "y": [
          null,
          8.184983671893091,
          8.312371014493058,
          8.297836460078406,
          8.278649834972004,
          8.307409617653773,
          4.361082323551587,
          8.1993393671145,
          4.614560497188309,
          8.790047258979191,
          10.229441150828496,
          9.80668229166608,
          9.575453697338476,
          11.081983002538458,
          8.344890373179798,
          8.344083618808671,
          8.51651230635367,
          8.191881731759953,
          6.266211497293604,
          8.457825206278619,
          8.940976846491477,
          8.895407820633704,
          8.886698786581672,
          8.987234375470395,
          8.792493807373303,
          8.818431043388587,
          8.786314819143131,
          8.64364498874578,
          8.818091247210607,
          8.634484937965183,
          8.780120371122193,
          8.501690402615631,
          7.988195533381118,
          7.295807393212935,
          7.49464493868629,
          7.452003529858781,
          7.320862915585251,
          7.6259710282462265,
          7.355103303723134,
          7.265921871308343,
          7.437607129996421,
          7.6539731584650905,
          7.337946601315623,
          7.197613447374796,
          7.248645802961183,
          7.321765790294683,
          7.253655782645364,
          7.289278585995976,
          7.156575353964947,
          7.151425853320975,
          6.795064459813268,
          6.753720945923045,
          7.002131787395387,
          7.151584538813034,
          7.446722009365711,
          7.003326050542632,
          7.0622957187331314,
          6.858108978216351,
          7.189926655970622,
          7.042802284988929,
          7.401150676221038,
          7.327984407945986,
          6.3099367628607546,
          6.054349933547234,
          5.979840708390705,
          6.077629032258076,
          6.075022251026396,
          6.260415086476506,
          6.300064816690488,
          6.419349040110229,
          6.039520164222123,
          5.893976344969456,
          6.341857107483997,
          6.395478196024228,
          6.450206712411583,
          6.203731639596842,
          6.189698184423112,
          6.211838239890272,
          6.22881445890864,
          6.208401759995174,
          6.322506705007532,
          6.215121191637601,
          6.388259706552392,
          6.4750875259505305,
          6.423478927745811,
          6.111005716207144,
          6.441743016759858,
          6.750810041992352,
          6.288560632350291,
          6.607367355940367,
          6.568515245250014,
          6.227447425070413,
          6.136856008550936,
          5.528513602698545,
          5.534642004773267,
          5.4794719842718855,
          5.660851201031777,
          5.717517135642122,
          5.4322784236751085,
          5.453215352077677,
          5.504959197948297,
          5.507255010451258,
          5.53332655235885,
          null,
          null,
          null,
          null,
          5.360044408192962,
          5.236379867744339,
          5.723575724861169,
          5.699235842619971,
          5.316566219102868,
          5.723190711529391,
          5.69323942677392,
          5.855056516724332,
          5.704371033704726,
          5.455171846058925,
          5.647219019034861,
          5.744507587783399,
          5.445110436223029
         ]
        },
        {
         "name": "Avg Price at Floor",
         "type": "bar",
         "uid": "0452b965-3bf9-4348-95a8-d6233a36260a",
         "x": [
          0,
          1,
          2,
          3,
          4,
          5,
          6,
          7,
          8,
          9,
          10,
          11,
          12,
          13,
          14,
          15,
          16,
          17,
          18,
          19,
          20,
          21,
          22,
          23,
          24,
          25,
          26,
          27,
          28,
          29,
          30,
          31,
          32,
          33,
          34,
          35,
          36,
          37,
          38,
          39,
          40,
          41,
          42,
          43,
          44,
          45,
          46,
          47,
          48,
          49,
          50,
          51,
          52,
          53,
          54,
          55,
          56,
          57,
          58,
          59,
          60,
          61,
          62,
          63,
          64,
          65,
          66,
          67,
          68,
          69,
          70,
          71,
          72,
          73,
          74,
          75,
          76,
          77,
          78,
          79,
          80,
          81,
          82,
          83,
          84,
          85,
          86,
          87,
          88,
          89,
          90,
          91,
          92,
          93,
          94,
          95,
          96,
          97,
          98,
          99,
          100,
          101,
          102,
          103,
          104,
          105,
          106,
          107,
          108,
          109,
          110,
          111,
          112,
          113,
          114,
          115,
          116,
          117,
          118,
          119,
          120
         ],
         "y": [
          null,
          8.511077586206822,
          9.45322695035458,
          8.039850746268492,
          7.114464043419158,
          7.983124423962985,
          5.876334883720861,
          8.25751391465666,
          7.377830037413047,
          7.889281942977689,
          8.601051995163091,
          8.884806557376903,
          10.066125461254448,
          8.361207655081722,
          7.941612903225814,
          11.605,
          10.1125,
          10.13,
          8.06676782947106,
          null,
          9.23114449213148,
          8.526111111111115,
          7.796250000000002,
          38.99333333333333,
          7.99,
          9.99,
          5.785,
          8.836666666666668,
          null,
          null,
          14.99,
          55,
          5.136000000000001,
          4.79,
          null,
          11.049999999999999,
          5.390000000000001,
          7.132857142857143,
          7.403333333333333,
          null,
          null,
          null,
          null,
          6.79,
          null,
          5.83,
          10.386666666666667,
          5.800799999999999,
          6.744285714285712,
          6.09,
          5.159999999999999,
          9.808333333333332,
          5.655,
          8.469545454545456,
          204.095,
          5.99,
          6.865,
          5.905714285714287,
          51.553999999999995,
          5.99,
          6.719999999999999,
          6.476666666666666,
          5.236545454545453,
          5.667777777777778,
          6.843924050632913,
          4.9205263157894725,
          5.0569696969696984,
          6.28711111111111,
          4.756533333333336,
          5.595,
          5.446595744680851,
          5.877000000000001,
          6.212452830188679,
          5.544117647058824,
          5.451840796019906,
          5.422969696969706,
          5.492559618441951,
          5.771937321937327,
          7.658683127572024,
          5.904642857142856,
          5.859374999999999,
          7.0431250000000025,
          9.737727272727271,
          35.24290322580645,
          5.648191489361703,
          5.674948453608247,
          4.403300970873787,
          5.394489795918367,
          5.832635135135139,
          6.516666666666668,
          6.213956043956048,
          9.853750000000003,
          5.463653846153846,
          5.632857142857143,
          6.1888095238095255,
          4.256891891891892,
          7.250555555555555,
          4.95159090909091,
          4.270833333333334,
          5.020000000000001,
          5.042727272727273,
          4.4609375,
          4.694,
          null,
          null,
          null,
          null,
          8.578,
          5.345526315789473,
          4.934594594594595,
          5.579166666666667,
          5.759189189189189,
          4.833225806451614,
          4.4648,
          5.498181818181818,
          5.657368421052633,
          4.870312500000001,
          4,
          5.130232558139536,
          5.122814258911822
         ]
        }
       ],
       "layout": {
        "barmode": "overlay",
        "height": 450,
        "hovermode": "x",
        "legend": {
         "orientation": "v",
         "x": 1.05,
         "xanchor": "left",
         "y": 0.5
        },
        "margin": {
         "autoexpand": true,
         "b": 100,
         "l": 25,
         "pad": 0,
         "r": 25,
         "t": 100
        },
        "showlegend": true,
        "template": {
         "data": {
          "bar": [
           {
            "error_x": {
             "color": "#f2f5fa"
            },
            "error_y": {
             "color": "#f2f5fa"
            },
            "marker": {
             "line": {
              "color": "rgb(17,17,17)",
              "width": 0.5
             }
            },
            "type": "bar"
           }
          ],
          "barpolar": [
           {
            "marker": {
             "line": {
              "color": "rgb(17,17,17)",
              "width": 0.5
             }
            },
            "type": "barpolar"
           }
          ],
          "carpet": [
           {
            "aaxis": {
             "endlinecolor": "#A2B1C6",
             "gridcolor": "#506784",
             "linecolor": "#506784",
             "minorgridcolor": "#506784",
             "startlinecolor": "#A2B1C6"
            },
            "baxis": {
             "endlinecolor": "#A2B1C6",
             "gridcolor": "#506784",
             "linecolor": "#506784",
             "minorgridcolor": "#506784",
             "startlinecolor": "#A2B1C6"
            },
            "type": "carpet"
           }
          ],
          "choropleth": [
           {
            "colorbar": {
             "outlinewidth": 0,
             "ticks": ""
            },
            "type": "choropleth"
           }
          ],
          "contour": [
           {
            "colorbar": {
             "outlinewidth": 0,
             "ticks": ""
            },
            "colorscale": [
             [
              0,
              "#0d0887"
             ],
             [
              0.1111111111111111,
              "#46039f"
             ],
             [
              0.2222222222222222,
              "#7201a8"
             ],
             [
              0.3333333333333333,
              "#9c179e"
             ],
             [
              0.4444444444444444,
              "#bd3786"
             ],
             [
              0.5555555555555556,
              "#d8576b"
             ],
             [
              0.6666666666666666,
              "#ed7953"
             ],
             [
              0.7777777777777778,
              "#fb9f3a"
             ],
             [
              0.8888888888888888,
              "#fdca26"
             ],
             [
              1,
              "#f0f921"
             ]
            ],
            "type": "contour"
           }
          ],
          "contourcarpet": [
           {
            "colorbar": {
             "outlinewidth": 0,
             "ticks": ""
            },
            "type": "contourcarpet"
           }
          ],
          "heatmap": [
           {
            "colorbar": {
             "outlinewidth": 0,
             "ticks": ""
            },
            "colorscale": [
             [
              0,
              "#0d0887"
             ],
             [
              0.1111111111111111,
              "#46039f"
             ],
             [
              0.2222222222222222,
              "#7201a8"
             ],
             [
              0.3333333333333333,
              "#9c179e"
             ],
             [
              0.4444444444444444,
              "#bd3786"
             ],
             [
              0.5555555555555556,
              "#d8576b"
             ],
             [
              0.6666666666666666,
              "#ed7953"
             ],
             [
              0.7777777777777778,
              "#fb9f3a"
             ],
             [
              0.8888888888888888,
              "#fdca26"
             ],
             [
              1,
              "#f0f921"
             ]
            ],
            "type": "heatmap"
           }
          ],
          "heatmapgl": [
           {
            "colorbar": {
             "outlinewidth": 0,
             "ticks": ""
            },
            "colorscale": [
             [
              0,
              "#0d0887"
             ],
             [
              0.1111111111111111,
              "#46039f"
             ],
             [
              0.2222222222222222,
              "#7201a8"
             ],
             [
              0.3333333333333333,
              "#9c179e"
             ],
             [
              0.4444444444444444,
              "#bd3786"
             ],
             [
              0.5555555555555556,
              "#d8576b"
             ],
             [
              0.6666666666666666,
              "#ed7953"
             ],
             [
              0.7777777777777778,
              "#fb9f3a"
             ],
             [
              0.8888888888888888,
              "#fdca26"
             ],
             [
              1,
              "#f0f921"
             ]
            ],
            "type": "heatmapgl"
           }
          ],
          "histogram": [
           {
            "marker": {
             "colorbar": {
              "outlinewidth": 0,
              "ticks": ""
             }
            },
            "type": "histogram"
           }
          ],
          "histogram2d": [
           {
            "colorbar": {
             "outlinewidth": 0,
             "ticks": ""
            },
            "colorscale": [
             [
              0,
              "#0d0887"
             ],
             [
              0.1111111111111111,
              "#46039f"
             ],
             [
              0.2222222222222222,
              "#7201a8"
             ],
             [
              0.3333333333333333,
              "#9c179e"
             ],
             [
              0.4444444444444444,
              "#bd3786"
             ],
             [
              0.5555555555555556,
              "#d8576b"
             ],
             [
              0.6666666666666666,
              "#ed7953"
             ],
             [
              0.7777777777777778,
              "#fb9f3a"
             ],
             [
              0.8888888888888888,
              "#fdca26"
             ],
             [
              1,
              "#f0f921"
             ]
            ],
            "type": "histogram2d"
           }
          ],
          "histogram2dcontour": [
           {
            "colorbar": {
             "outlinewidth": 0,
             "ticks": ""
            },
            "colorscale": [
             [
              0,
              "#0d0887"
             ],
             [
              0.1111111111111111,
              "#46039f"
             ],
             [
              0.2222222222222222,
              "#7201a8"
             ],
             [
              0.3333333333333333,
              "#9c179e"
             ],
             [
              0.4444444444444444,
              "#bd3786"
             ],
             [
              0.5555555555555556,
              "#d8576b"
             ],
             [
              0.6666666666666666,
              "#ed7953"
             ],
             [
              0.7777777777777778,
              "#fb9f3a"
             ],
             [
              0.8888888888888888,
              "#fdca26"
             ],
             [
              1,
              "#f0f921"
             ]
            ],
            "type": "histogram2dcontour"
           }
          ],
          "mesh3d": [
           {
            "colorbar": {
             "outlinewidth": 0,
             "ticks": ""
            },
            "type": "mesh3d"
           }
          ],
          "parcoords": [
           {
            "line": {
             "colorbar": {
              "outlinewidth": 0,
              "ticks": ""
             }
            },
            "type": "parcoords"
           }
          ],
          "pie": [
           {
            "automargin": true,
            "type": "pie"
           }
          ],
          "scatter": [
           {
            "marker": {
             "line": {
              "color": "#283442"
             }
            },
            "type": "scatter"
           }
          ],
          "scatter3d": [
           {
            "line": {
             "colorbar": {
              "outlinewidth": 0,
              "ticks": ""
             }
            },
            "marker": {
             "colorbar": {
              "outlinewidth": 0,
              "ticks": ""
             }
            },
            "type": "scatter3d"
           }
          ],
          "scattercarpet": [
           {
            "marker": {
             "colorbar": {
              "outlinewidth": 0,
              "ticks": ""
             }
            },
            "type": "scattercarpet"
           }
          ],
          "scattergeo": [
           {
            "marker": {
             "colorbar": {
              "outlinewidth": 0,
              "ticks": ""
             }
            },
            "type": "scattergeo"
           }
          ],
          "scattergl": [
           {
            "marker": {
             "line": {
              "color": "#283442"
             }
            },
            "type": "scattergl"
           }
          ],
          "scattermapbox": [
           {
            "marker": {
             "colorbar": {
              "outlinewidth": 0,
              "ticks": ""
             }
            },
            "type": "scattermapbox"
           }
          ],
          "scatterpolar": [
           {
            "marker": {
             "colorbar": {
              "outlinewidth": 0,
              "ticks": ""
             }
            },
            "type": "scatterpolar"
           }
          ],
          "scatterpolargl": [
           {
            "marker": {
             "colorbar": {
              "outlinewidth": 0,
              "ticks": ""
             }
            },
            "type": "scatterpolargl"
           }
          ],
          "scatterternary": [
           {
            "marker": {
             "colorbar": {
              "outlinewidth": 0,
              "ticks": ""
             }
            },
            "type": "scatterternary"
           }
          ],
          "surface": [
           {
            "colorbar": {
             "outlinewidth": 0,
             "ticks": ""
            },
            "colorscale": [
             [
              0,
              "#0d0887"
             ],
             [
              0.1111111111111111,
              "#46039f"
             ],
             [
              0.2222222222222222,
              "#7201a8"
             ],
             [
              0.3333333333333333,
              "#9c179e"
             ],
             [
              0.4444444444444444,
              "#bd3786"
             ],
             [
              0.5555555555555556,
              "#d8576b"
             ],
             [
              0.6666666666666666,
              "#ed7953"
             ],
             [
              0.7777777777777778,
              "#fb9f3a"
             ],
             [
              0.8888888888888888,
              "#fdca26"
             ],
             [
              1,
              "#f0f921"
             ]
            ],
            "type": "surface"
           }
          ],
          "table": [
           {
            "cells": {
             "fill": {
              "color": "#506784"
             },
             "line": {
              "color": "rgb(17,17,17)"
             }
            },
            "header": {
             "fill": {
              "color": "#2a3f5f"
             },
             "line": {
              "color": "rgb(17,17,17)"
             }
            },
            "type": "table"
           }
          ]
         },
         "layout": {
          "annotationdefaults": {
           "arrowcolor": "#f2f5fa",
           "arrowhead": 0,
           "arrowwidth": 1
          },
          "coloraxis": {
           "colorbar": {
            "outlinewidth": 0,
            "ticks": ""
           }
          },
          "colorscale": {
           "diverging": [
            [
             0,
             "#8e0152"
            ],
            [
             0.1,
             "#c51b7d"
            ],
            [
             0.2,
             "#de77ae"
            ],
            [
             0.3,
             "#f1b6da"
            ],
            [
             0.4,
             "#fde0ef"
            ],
            [
             0.5,
             "#f7f7f7"
            ],
            [
             0.6,
             "#e6f5d0"
            ],
            [
             0.7,
             "#b8e186"
            ],
            [
             0.8,
             "#7fbc41"
            ],
            [
             0.9,
             "#4d9221"
            ],
            [
             1,
             "#276419"
            ]
           ],
           "sequential": [
            [
             0,
             "#0d0887"
            ],
            [
             0.1111111111111111,
             "#46039f"
            ],
            [
             0.2222222222222222,
             "#7201a8"
            ],
            [
             0.3333333333333333,
             "#9c179e"
            ],
            [
             0.4444444444444444,
             "#bd3786"
            ],
            [
             0.5555555555555556,
             "#d8576b"
            ],
            [
             0.6666666666666666,
             "#ed7953"
            ],
            [
             0.7777777777777778,
             "#fb9f3a"
            ],
            [
             0.8888888888888888,
             "#fdca26"
            ],
            [
             1,
             "#f0f921"
            ]
           ],
           "sequentialminus": [
            [
             0,
             "#0d0887"
            ],
            [
             0.1111111111111111,
             "#46039f"
            ],
            [
             0.2222222222222222,
             "#7201a8"
            ],
            [
             0.3333333333333333,
             "#9c179e"
            ],
            [
             0.4444444444444444,
             "#bd3786"
            ],
            [
             0.5555555555555556,
             "#d8576b"
            ],
            [
             0.6666666666666666,
             "#ed7953"
            ],
            [
             0.7777777777777778,
             "#fb9f3a"
            ],
            [
             0.8888888888888888,
             "#fdca26"
            ],
            [
             1,
             "#f0f921"
            ]
           ]
          },
          "colorway": [
           "#636efa",
           "#EF553B",
           "#00cc96",
           "#ab63fa",
           "#FFA15A",
           "#19d3f3",
           "#FF6692",
           "#B6E880",
           "#FF97FF",
           "#FECB52"
          ],
          "font": {
           "color": "#f2f5fa"
          },
          "geo": {
           "bgcolor": "rgb(17,17,17)",
           "lakecolor": "rgb(17,17,17)",
           "landcolor": "rgb(17,17,17)",
           "showlakes": true,
           "showland": true,
           "subunitcolor": "#506784"
          },
          "hoverlabel": {
           "align": "left"
          },
          "hovermode": "closest",
          "mapbox": {
           "style": "dark"
          },
          "paper_bgcolor": "rgb(17,17,17)",
          "plot_bgcolor": "rgb(17,17,17)",
          "polar": {
           "angularaxis": {
            "gridcolor": "#506784",
            "linecolor": "#506784",
            "ticks": ""
           },
           "bgcolor": "rgb(17,17,17)",
           "radialaxis": {
            "gridcolor": "#506784",
            "linecolor": "#506784",
            "ticks": ""
           }
          },
          "scene": {
           "xaxis": {
            "backgroundcolor": "rgb(17,17,17)",
            "gridcolor": "#506784",
            "gridwidth": 2,
            "linecolor": "#506784",
            "showbackground": true,
            "ticks": "",
            "zerolinecolor": "#C8D4E3"
           },
           "yaxis": {
            "backgroundcolor": "rgb(17,17,17)",
            "gridcolor": "#506784",
            "gridwidth": 2,
            "linecolor": "#506784",
            "showbackground": true,
            "ticks": "",
            "zerolinecolor": "#C8D4E3"
           },
           "zaxis": {
            "backgroundcolor": "rgb(17,17,17)",
            "gridcolor": "#506784",
            "gridwidth": 2,
            "linecolor": "#506784",
            "showbackground": true,
            "ticks": "",
            "zerolinecolor": "#C8D4E3"
           }
          },
          "shapedefaults": {
           "line": {
            "color": "#f2f5fa"
           }
          },
          "sliderdefaults": {
           "bgcolor": "#C8D4E3",
           "bordercolor": "rgb(17,17,17)",
           "borderwidth": 1,
           "tickwidth": 0
          },
          "ternary": {
           "aaxis": {
            "gridcolor": "#506784",
            "linecolor": "#506784",
            "ticks": ""
           },
           "baxis": {
            "gridcolor": "#506784",
            "linecolor": "#506784",
            "ticks": ""
           },
           "bgcolor": "rgb(17,17,17)",
           "caxis": {
            "gridcolor": "#506784",
            "linecolor": "#506784",
            "ticks": ""
           }
          },
          "title": {
           "x": 0.05
          },
          "updatemenudefaults": {
           "bgcolor": "#506784",
           "borderwidth": 0
          },
          "xaxis": {
           "automargin": true,
           "gridcolor": "#283442",
           "linecolor": "#506784",
           "ticks": "",
           "title": {
            "standoff": 15
           },
           "zerolinecolor": "#283442",
           "zerolinewidth": 2
          },
          "yaxis": {
           "automargin": true,
           "gridcolor": "#283442",
           "linecolor": "#506784",
           "ticks": "",
           "title": {
            "standoff": 15
           },
           "zerolinecolor": "#283442",
           "zerolinewidth": 2
          }
         }
        },
        "title": {
         "font": {
          "size": 24
         },
         "text": "Monsoon Average Prices by Days In Stock",
         "x": 0,
         "xanchor": "left",
         "xref": "paper",
         "y": 0.95
        },
        "width": 1000,
        "xaxis": {
         "dtick": 5,
         "showgrid": true,
         "tickfont": {
          "family": "Arial, san-serif",
          "size": 10
         },
         "title": {
          "text": "Days In Stock"
         },
         "type": "category"
        },
        "yaxis": {
         "hoverformat": "$,.0f",
         "tickfont": {
          "family": "Arial, san-serif",
          "size": 10
         },
         "tickformat": "$,.0f",
         "title": {
          "font": {
           "family": "Arial, san-serif",
           "size": 10
          },
          "text": "Avg Price"
         }
        }
       }
      },
      "text/html": [
       "<div>\n",
       "        \n",
       "        \n",
       "            <div id=\"b8f0ca91-5fb3-46cd-b7f8-b7fdff8b8dc6\" class=\"plotly-graph-div\" style=\"height:450px; width:1000px;\"></div>\n",
       "            <script type=\"text/javascript\">\n",
       "                require([\"plotly\"], function(Plotly) {\n",
       "                    window.PLOTLYENV=window.PLOTLYENV || {};\n",
       "                    \n",
       "                if (document.getElementById(\"b8f0ca91-5fb3-46cd-b7f8-b7fdff8b8dc6\")) {\n",
       "                    Plotly.newPlot(\n",
       "                        'b8f0ca91-5fb3-46cd-b7f8-b7fdff8b8dc6',\n",
       "                        [{\"name\": \"Avg Price\", \"type\": \"bar\", \"uid\": \"395a551e-08fa-46ea-b978-7610c90c9e1f\", \"x\": [0.0, 1.0, 2.0, 3.0, 4.0, 5.0, 6.0, 7.0, 8.0, 9.0, 10.0, 11.0, 12.0, 13.0, 14.0, 15.0, 16.0, 17.0, 18.0, 19.0, 20.0, 21.0, 22.0, 23.0, 24.0, 25.0, 26.0, 27.0, 28.0, 29.0, 30.0, 31.0, 32.0, 33.0, 34.0, 35.0, 36.0, 37.0, 38.0, 39.0, 40.0, 41.0, 42.0, 43.0, 44.0, 45.0, 46.0, 47.0, 48.0, 49.0, 50.0, 51.0, 52.0, 53.0, 54.0, 55.0, 56.0, 57.0, 58.0, 59.0, 60.0, 61.0, 62.0, 63.0, 64.0, 65.0, 66.0, 67.0, 68.0, 69.0, 70.0, 71.0, 72.0, 73.0, 74.0, 75.0, 76.0, 77.0, 78.0, 79.0, 80.0, 81.0, 82.0, 83.0, 84.0, 85.0, 86.0, 87.0, 88.0, 89.0, 90.0, 91.0, 92.0, 93.0, 94.0, 95.0, 96.0, 97.0, 98.0, 99.0, 100.0, 101.0, 102.0, 103.0, 104.0, 105.0, 106.0, 107.0, 108.0, 109.0, 110.0, 111.0, 112.0, 113.0, 114.0, 115.0, 116.0, 117.0, 118.0, 119.0, 120.0], \"y\": [null, 8.184983671893091, 8.312371014493058, 8.297836460078406, 8.278649834972004, 8.307409617653773, 4.361082323551587, 8.1993393671145, 4.614560497188309, 8.790047258979191, 10.229441150828496, 9.80668229166608, 9.575453697338476, 11.081983002538458, 8.344890373179798, 8.344083618808671, 8.51651230635367, 8.191881731759953, 6.266211497293604, 8.457825206278619, 8.940976846491477, 8.895407820633704, 8.886698786581672, 8.987234375470395, 8.792493807373303, 8.818431043388587, 8.786314819143131, 8.64364498874578, 8.818091247210607, 8.634484937965183, 8.780120371122193, 8.501690402615631, 7.988195533381118, 7.295807393212935, 7.49464493868629, 7.452003529858781, 7.320862915585251, 7.6259710282462265, 7.355103303723134, 7.265921871308343, 7.437607129996421, 7.6539731584650905, 7.337946601315623, 7.197613447374796, 7.248645802961183, 7.321765790294683, 7.253655782645364, 7.289278585995976, 7.156575353964947, 7.151425853320975, 6.795064459813268, 6.753720945923045, 7.002131787395387, 7.151584538813034, 7.446722009365711, 7.003326050542632, 7.0622957187331314, 6.858108978216351, 7.189926655970622, 7.042802284988929, 7.401150676221038, 7.327984407945986, 6.3099367628607546, 6.054349933547234, 5.979840708390705, 6.077629032258076, 6.075022251026396, 6.260415086476506, 6.300064816690488, 6.419349040110229, 6.039520164222123, 5.893976344969456, 6.341857107483997, 6.395478196024228, 6.450206712411583, 6.203731639596842, 6.189698184423112, 6.211838239890272, 6.22881445890864, 6.208401759995174, 6.322506705007532, 6.215121191637601, 6.388259706552392, 6.4750875259505305, 6.423478927745811, 6.111005716207144, 6.441743016759858, 6.750810041992352, 6.288560632350291, 6.607367355940367, 6.568515245250014, 6.227447425070413, 6.136856008550936, 5.528513602698545, 5.534642004773267, 5.4794719842718855, 5.660851201031777, 5.717517135642122, 5.4322784236751085, 5.453215352077677, 5.504959197948297, 5.507255010451258, 5.53332655235885, null, null, null, null, 5.360044408192962, 5.236379867744339, 5.723575724861169, 5.699235842619971, 5.316566219102868, 5.723190711529391, 5.69323942677392, 5.855056516724332, 5.704371033704726, 5.455171846058925, 5.647219019034861, 5.744507587783399, 5.445110436223029]}, {\"name\": \"Avg Price at Floor\", \"type\": \"bar\", \"uid\": \"0452b965-3bf9-4348-95a8-d6233a36260a\", \"x\": [0.0, 1.0, 2.0, 3.0, 4.0, 5.0, 6.0, 7.0, 8.0, 9.0, 10.0, 11.0, 12.0, 13.0, 14.0, 15.0, 16.0, 17.0, 18.0, 19.0, 20.0, 21.0, 22.0, 23.0, 24.0, 25.0, 26.0, 27.0, 28.0, 29.0, 30.0, 31.0, 32.0, 33.0, 34.0, 35.0, 36.0, 37.0, 38.0, 39.0, 40.0, 41.0, 42.0, 43.0, 44.0, 45.0, 46.0, 47.0, 48.0, 49.0, 50.0, 51.0, 52.0, 53.0, 54.0, 55.0, 56.0, 57.0, 58.0, 59.0, 60.0, 61.0, 62.0, 63.0, 64.0, 65.0, 66.0, 67.0, 68.0, 69.0, 70.0, 71.0, 72.0, 73.0, 74.0, 75.0, 76.0, 77.0, 78.0, 79.0, 80.0, 81.0, 82.0, 83.0, 84.0, 85.0, 86.0, 87.0, 88.0, 89.0, 90.0, 91.0, 92.0, 93.0, 94.0, 95.0, 96.0, 97.0, 98.0, 99.0, 100.0, 101.0, 102.0, 103.0, 104.0, 105.0, 106.0, 107.0, 108.0, 109.0, 110.0, 111.0, 112.0, 113.0, 114.0, 115.0, 116.0, 117.0, 118.0, 119.0, 120.0], \"y\": [null, 8.511077586206822, 9.45322695035458, 8.039850746268492, 7.114464043419158, 7.983124423962985, 5.876334883720861, 8.25751391465666, 7.377830037413047, 7.889281942977689, 8.601051995163091, 8.884806557376903, 10.066125461254448, 8.361207655081722, 7.941612903225814, 11.605, 10.1125, 10.13, 8.06676782947106, null, 9.23114449213148, 8.526111111111115, 7.796250000000002, 38.99333333333333, 7.99, 9.99, 5.785, 8.836666666666668, null, null, 14.99, 55.0, 5.136000000000001, 4.79, null, 11.049999999999999, 5.390000000000001, 7.132857142857143, 7.403333333333333, null, null, null, null, 6.79, null, 5.83, 10.386666666666667, 5.800799999999999, 6.744285714285712, 6.09, 5.159999999999999, 9.808333333333332, 5.655, 8.469545454545456, 204.095, 5.99, 6.865, 5.905714285714287, 51.553999999999995, 5.99, 6.719999999999999, 6.476666666666666, 5.236545454545453, 5.667777777777778, 6.843924050632913, 4.9205263157894725, 5.0569696969696984, 6.28711111111111, 4.756533333333336, 5.595, 5.446595744680851, 5.877000000000001, 6.212452830188679, 5.544117647058824, 5.451840796019906, 5.422969696969706, 5.492559618441951, 5.771937321937327, 7.658683127572024, 5.904642857142856, 5.859374999999999, 7.0431250000000025, 9.737727272727271, 35.24290322580645, 5.648191489361703, 5.674948453608247, 4.403300970873787, 5.394489795918367, 5.832635135135139, 6.516666666666668, 6.213956043956048, 9.853750000000003, 5.463653846153846, 5.632857142857143, 6.1888095238095255, 4.256891891891892, 7.250555555555555, 4.95159090909091, 4.270833333333334, 5.020000000000001, 5.042727272727273, 4.4609375, 4.694, null, null, null, null, 8.578, 5.345526315789473, 4.934594594594595, 5.579166666666667, 5.759189189189189, 4.833225806451614, 4.4648, 5.498181818181818, 5.657368421052633, 4.870312500000001, 4.0, 5.130232558139536, 5.122814258911822]}],\n",
       "                        {\"barmode\": \"overlay\", \"height\": 450, \"hovermode\": \"x\", \"legend\": {\"orientation\": \"v\", \"x\": 1.05, \"xanchor\": \"left\", \"y\": 0.5}, \"margin\": {\"autoexpand\": true, \"b\": 100, \"l\": 25, \"pad\": 0, \"r\": 25, \"t\": 100}, \"showlegend\": true, \"template\": {\"data\": {\"bar\": [{\"error_x\": {\"color\": \"#f2f5fa\"}, \"error_y\": {\"color\": \"#f2f5fa\"}, \"marker\": {\"line\": {\"color\": \"rgb(17,17,17)\", \"width\": 0.5}}, \"type\": \"bar\"}], \"barpolar\": [{\"marker\": {\"line\": {\"color\": \"rgb(17,17,17)\", \"width\": 0.5}}, \"type\": \"barpolar\"}], \"carpet\": [{\"aaxis\": {\"endlinecolor\": \"#A2B1C6\", \"gridcolor\": \"#506784\", \"linecolor\": \"#506784\", \"minorgridcolor\": \"#506784\", \"startlinecolor\": \"#A2B1C6\"}, \"baxis\": {\"endlinecolor\": \"#A2B1C6\", \"gridcolor\": \"#506784\", \"linecolor\": \"#506784\", \"minorgridcolor\": \"#506784\", \"startlinecolor\": \"#A2B1C6\"}, \"type\": \"carpet\"}], \"choropleth\": [{\"colorbar\": {\"outlinewidth\": 0, \"ticks\": \"\"}, \"type\": \"choropleth\"}], \"contour\": [{\"colorbar\": {\"outlinewidth\": 0, \"ticks\": \"\"}, \"colorscale\": [[0.0, \"#0d0887\"], [0.1111111111111111, \"#46039f\"], [0.2222222222222222, \"#7201a8\"], [0.3333333333333333, \"#9c179e\"], [0.4444444444444444, \"#bd3786\"], [0.5555555555555556, \"#d8576b\"], [0.6666666666666666, \"#ed7953\"], [0.7777777777777778, \"#fb9f3a\"], [0.8888888888888888, \"#fdca26\"], [1.0, \"#f0f921\"]], \"type\": \"contour\"}], \"contourcarpet\": [{\"colorbar\": {\"outlinewidth\": 0, \"ticks\": \"\"}, \"type\": \"contourcarpet\"}], \"heatmap\": [{\"colorbar\": {\"outlinewidth\": 0, \"ticks\": \"\"}, \"colorscale\": [[0.0, \"#0d0887\"], [0.1111111111111111, \"#46039f\"], [0.2222222222222222, \"#7201a8\"], [0.3333333333333333, \"#9c179e\"], [0.4444444444444444, \"#bd3786\"], [0.5555555555555556, \"#d8576b\"], [0.6666666666666666, \"#ed7953\"], [0.7777777777777778, \"#fb9f3a\"], [0.8888888888888888, \"#fdca26\"], [1.0, \"#f0f921\"]], \"type\": \"heatmap\"}], \"heatmapgl\": [{\"colorbar\": {\"outlinewidth\": 0, \"ticks\": \"\"}, \"colorscale\": [[0.0, \"#0d0887\"], [0.1111111111111111, \"#46039f\"], [0.2222222222222222, \"#7201a8\"], [0.3333333333333333, \"#9c179e\"], [0.4444444444444444, \"#bd3786\"], [0.5555555555555556, \"#d8576b\"], [0.6666666666666666, \"#ed7953\"], [0.7777777777777778, \"#fb9f3a\"], [0.8888888888888888, \"#fdca26\"], [1.0, \"#f0f921\"]], \"type\": \"heatmapgl\"}], \"histogram\": [{\"marker\": {\"colorbar\": {\"outlinewidth\": 0, \"ticks\": \"\"}}, \"type\": \"histogram\"}], \"histogram2d\": [{\"colorbar\": {\"outlinewidth\": 0, \"ticks\": \"\"}, \"colorscale\": [[0.0, \"#0d0887\"], [0.1111111111111111, \"#46039f\"], [0.2222222222222222, \"#7201a8\"], [0.3333333333333333, \"#9c179e\"], [0.4444444444444444, \"#bd3786\"], [0.5555555555555556, \"#d8576b\"], [0.6666666666666666, \"#ed7953\"], [0.7777777777777778, \"#fb9f3a\"], [0.8888888888888888, \"#fdca26\"], [1.0, \"#f0f921\"]], \"type\": \"histogram2d\"}], \"histogram2dcontour\": [{\"colorbar\": {\"outlinewidth\": 0, \"ticks\": \"\"}, \"colorscale\": [[0.0, \"#0d0887\"], [0.1111111111111111, \"#46039f\"], [0.2222222222222222, \"#7201a8\"], [0.3333333333333333, \"#9c179e\"], [0.4444444444444444, \"#bd3786\"], [0.5555555555555556, \"#d8576b\"], [0.6666666666666666, \"#ed7953\"], [0.7777777777777778, \"#fb9f3a\"], [0.8888888888888888, \"#fdca26\"], [1.0, \"#f0f921\"]], \"type\": \"histogram2dcontour\"}], \"mesh3d\": [{\"colorbar\": {\"outlinewidth\": 0, \"ticks\": \"\"}, \"type\": \"mesh3d\"}], \"parcoords\": [{\"line\": {\"colorbar\": {\"outlinewidth\": 0, \"ticks\": \"\"}}, \"type\": \"parcoords\"}], \"pie\": [{\"automargin\": true, \"type\": \"pie\"}], \"scatter\": [{\"marker\": {\"line\": {\"color\": \"#283442\"}}, \"type\": \"scatter\"}], \"scatter3d\": [{\"line\": {\"colorbar\": {\"outlinewidth\": 0, \"ticks\": \"\"}}, \"marker\": {\"colorbar\": {\"outlinewidth\": 0, \"ticks\": \"\"}}, \"type\": \"scatter3d\"}], \"scattercarpet\": [{\"marker\": {\"colorbar\": {\"outlinewidth\": 0, \"ticks\": \"\"}}, \"type\": \"scattercarpet\"}], \"scattergeo\": [{\"marker\": {\"colorbar\": {\"outlinewidth\": 0, \"ticks\": \"\"}}, \"type\": \"scattergeo\"}], \"scattergl\": [{\"marker\": {\"line\": {\"color\": \"#283442\"}}, \"type\": \"scattergl\"}], \"scattermapbox\": [{\"marker\": {\"colorbar\": {\"outlinewidth\": 0, \"ticks\": \"\"}}, \"type\": \"scattermapbox\"}], \"scatterpolar\": [{\"marker\": {\"colorbar\": {\"outlinewidth\": 0, \"ticks\": \"\"}}, \"type\": \"scatterpolar\"}], \"scatterpolargl\": [{\"marker\": {\"colorbar\": {\"outlinewidth\": 0, \"ticks\": \"\"}}, \"type\": \"scatterpolargl\"}], \"scatterternary\": [{\"marker\": {\"colorbar\": {\"outlinewidth\": 0, \"ticks\": \"\"}}, \"type\": \"scatterternary\"}], \"surface\": [{\"colorbar\": {\"outlinewidth\": 0, \"ticks\": \"\"}, \"colorscale\": [[0.0, \"#0d0887\"], [0.1111111111111111, \"#46039f\"], [0.2222222222222222, \"#7201a8\"], [0.3333333333333333, \"#9c179e\"], [0.4444444444444444, \"#bd3786\"], [0.5555555555555556, \"#d8576b\"], [0.6666666666666666, \"#ed7953\"], [0.7777777777777778, \"#fb9f3a\"], [0.8888888888888888, \"#fdca26\"], [1.0, \"#f0f921\"]], \"type\": \"surface\"}], \"table\": [{\"cells\": {\"fill\": {\"color\": \"#506784\"}, \"line\": {\"color\": \"rgb(17,17,17)\"}}, \"header\": {\"fill\": {\"color\": \"#2a3f5f\"}, \"line\": {\"color\": \"rgb(17,17,17)\"}}, \"type\": \"table\"}]}, \"layout\": {\"annotationdefaults\": {\"arrowcolor\": \"#f2f5fa\", \"arrowhead\": 0, \"arrowwidth\": 1}, \"coloraxis\": {\"colorbar\": {\"outlinewidth\": 0, \"ticks\": \"\"}}, \"colorscale\": {\"diverging\": [[0, \"#8e0152\"], [0.1, \"#c51b7d\"], [0.2, \"#de77ae\"], [0.3, \"#f1b6da\"], [0.4, \"#fde0ef\"], [0.5, \"#f7f7f7\"], [0.6, \"#e6f5d0\"], [0.7, \"#b8e186\"], [0.8, \"#7fbc41\"], [0.9, \"#4d9221\"], [1, \"#276419\"]], \"sequential\": [[0.0, \"#0d0887\"], [0.1111111111111111, \"#46039f\"], [0.2222222222222222, \"#7201a8\"], [0.3333333333333333, \"#9c179e\"], [0.4444444444444444, \"#bd3786\"], [0.5555555555555556, \"#d8576b\"], [0.6666666666666666, \"#ed7953\"], [0.7777777777777778, \"#fb9f3a\"], [0.8888888888888888, \"#fdca26\"], [1.0, \"#f0f921\"]], \"sequentialminus\": [[0.0, \"#0d0887\"], [0.1111111111111111, \"#46039f\"], [0.2222222222222222, \"#7201a8\"], [0.3333333333333333, \"#9c179e\"], [0.4444444444444444, \"#bd3786\"], [0.5555555555555556, \"#d8576b\"], [0.6666666666666666, \"#ed7953\"], [0.7777777777777778, \"#fb9f3a\"], [0.8888888888888888, \"#fdca26\"], [1.0, \"#f0f921\"]]}, \"colorway\": [\"#636efa\", \"#EF553B\", \"#00cc96\", \"#ab63fa\", \"#FFA15A\", \"#19d3f3\", \"#FF6692\", \"#B6E880\", \"#FF97FF\", \"#FECB52\"], \"font\": {\"color\": \"#f2f5fa\"}, \"geo\": {\"bgcolor\": \"rgb(17,17,17)\", \"lakecolor\": \"rgb(17,17,17)\", \"landcolor\": \"rgb(17,17,17)\", \"showlakes\": true, \"showland\": true, \"subunitcolor\": \"#506784\"}, \"hoverlabel\": {\"align\": \"left\"}, \"hovermode\": \"closest\", \"mapbox\": {\"style\": \"dark\"}, \"paper_bgcolor\": \"rgb(17,17,17)\", \"plot_bgcolor\": \"rgb(17,17,17)\", \"polar\": {\"angularaxis\": {\"gridcolor\": \"#506784\", \"linecolor\": \"#506784\", \"ticks\": \"\"}, \"bgcolor\": \"rgb(17,17,17)\", \"radialaxis\": {\"gridcolor\": \"#506784\", \"linecolor\": \"#506784\", \"ticks\": \"\"}}, \"scene\": {\"xaxis\": {\"backgroundcolor\": \"rgb(17,17,17)\", \"gridcolor\": \"#506784\", \"gridwidth\": 2, \"linecolor\": \"#506784\", \"showbackground\": true, \"ticks\": \"\", \"zerolinecolor\": \"#C8D4E3\"}, \"yaxis\": {\"backgroundcolor\": \"rgb(17,17,17)\", \"gridcolor\": \"#506784\", \"gridwidth\": 2, \"linecolor\": \"#506784\", \"showbackground\": true, \"ticks\": \"\", \"zerolinecolor\": \"#C8D4E3\"}, \"zaxis\": {\"backgroundcolor\": \"rgb(17,17,17)\", \"gridcolor\": \"#506784\", \"gridwidth\": 2, \"linecolor\": \"#506784\", \"showbackground\": true, \"ticks\": \"\", \"zerolinecolor\": \"#C8D4E3\"}}, \"shapedefaults\": {\"line\": {\"color\": \"#f2f5fa\"}}, \"sliderdefaults\": {\"bgcolor\": \"#C8D4E3\", \"bordercolor\": \"rgb(17,17,17)\", \"borderwidth\": 1, \"tickwidth\": 0}, \"ternary\": {\"aaxis\": {\"gridcolor\": \"#506784\", \"linecolor\": \"#506784\", \"ticks\": \"\"}, \"baxis\": {\"gridcolor\": \"#506784\", \"linecolor\": \"#506784\", \"ticks\": \"\"}, \"bgcolor\": \"rgb(17,17,17)\", \"caxis\": {\"gridcolor\": \"#506784\", \"linecolor\": \"#506784\", \"ticks\": \"\"}}, \"title\": {\"x\": 0.05}, \"updatemenudefaults\": {\"bgcolor\": \"#506784\", \"borderwidth\": 0}, \"xaxis\": {\"automargin\": true, \"gridcolor\": \"#283442\", \"linecolor\": \"#506784\", \"ticks\": \"\", \"title\": {\"standoff\": 15}, \"zerolinecolor\": \"#283442\", \"zerolinewidth\": 2}, \"yaxis\": {\"automargin\": true, \"gridcolor\": \"#283442\", \"linecolor\": \"#506784\", \"ticks\": \"\", \"title\": {\"standoff\": 15}, \"zerolinecolor\": \"#283442\", \"zerolinewidth\": 2}}}, \"title\": {\"font\": {\"size\": 24}, \"text\": \"Monsoon Average Prices by Days In Stock\", \"x\": 0, \"xanchor\": \"left\", \"xref\": \"paper\", \"y\": 0.95}, \"width\": 1000, \"xaxis\": {\"dtick\": 5, \"showgrid\": true, \"tickfont\": {\"family\": \"Arial, san-serif\", \"size\": 10}, \"title\": {\"text\": \"Days In Stock\"}, \"type\": \"category\"}, \"yaxis\": {\"hoverformat\": \"$,.0f\", \"tickfont\": {\"family\": \"Arial, san-serif\", \"size\": 10}, \"tickformat\": \"$,.0f\", \"title\": {\"font\": {\"family\": \"Arial, san-serif\", \"size\": 10}, \"text\": \"Avg Price\"}}},\n",
       "                        {\"responsive\": true}\n",
       "                    ).then(function(){\n",
       "                            \n",
       "var gd = document.getElementById('b8f0ca91-5fb3-46cd-b7f8-b7fdff8b8dc6');\n",
       "var x = new MutationObserver(function (mutations, observer) {{\n",
       "        var display = window.getComputedStyle(gd).display;\n",
       "        if (!display || display === 'none') {{\n",
       "            console.log([gd, 'removed!']);\n",
       "            Plotly.purge(gd);\n",
       "            observer.disconnect();\n",
       "        }}\n",
       "}});\n",
       "\n",
       "// Listen for the removal of the full notebook cells\n",
       "var notebookContainer = gd.closest('#notebook-container');\n",
       "if (notebookContainer) {{\n",
       "    x.observe(notebookContainer, {childList: true});\n",
       "}}\n",
       "\n",
       "// Listen for the clearing of the current output cell\n",
       "var outputEl = gd.closest('.output');\n",
       "if (outputEl) {{\n",
       "    x.observe(outputEl, {childList: true});\n",
       "}}\n",
       "\n",
       "                        })\n",
       "                };\n",
       "                });\n",
       "            </script>\n",
       "        </div>"
      ]
     },
     "metadata": {},
     "output_type": "display_data"
    }
   ],
   "source": [
    "pltY_invAgeQty, pltX_invAgeQty = np.histogram(df_invc['DaysInStock'], bins = int(120 / 1), range=[0,120])\n",
    "pltY_invAgePrice, pltX_invAgePrice = np.histogram(df_invc['DaysInStock'], bins = int(120 / 1), range=[0,120], weights=df_invc['Price'])\n",
    "\n",
    "pltY_invAgeFloorQty, pltX_invAgeFloorQty = np.histogram(df_invc[filt_PricedAtFloor]['DaysInStock'], bins = int(120 / 1), range=[0,120])\n",
    "pltY_invAgeFloorPrice, pltX_invAgeFloorPrice = np.histogram(df_invc[filt_PricedAtFloor]['DaysInStock'], bins = int(120 / 1), range=[0,120], weights=df_invc[filt_PricedAtFloor]['Price'])\n",
    "\n",
    "trace_Age = go.Bar(x=pltX_invAgeQty,y=pltY_invAgePrice/pltY_invAgeQty, name='Avg Price')\n",
    "trace_AgeFloor = go.Bar(x=pltX_invAgeFloorQty,y=pltY_invAgeFloorPrice/pltY_invAgeFloorQty, name='Avg Price at Floor')\n",
    "\n",
    "layout = dict(\n",
    "        title=go.layout.Title(\n",
    "            text = 'Monsoon Average Prices by Days In Stock',\n",
    "            font=dict(size=24),\n",
    "            xref='paper',\n",
    "            x=0,\n",
    "            y=0.95,\n",
    "            xanchor='left'),\n",
    "        barmode='overlay',\n",
    "        legend=dict(orientation='v',x=1.05, y=0.5, xanchor='left'),\n",
    "        width=1000,\n",
    "        height=450,\n",
    "        margin=go.layout.Margin(\n",
    "        l=25,\n",
    "        r=25,\n",
    "        b=100,\n",
    "        t=100,\n",
    "        pad=0,\n",
    "        autoexpand=True),\n",
    "        hovermode='x',\n",
    "        showlegend=True)\n",
    "data = [trace_Age, trace_AgeFloor]\n",
    "fig = go.FigureWidget(data=data, layout=layout)\n",
    "\n",
    "fig['layout']['xaxis'] = dict(title='Days In Stock', \n",
    "                        type='category', \n",
    "                        showgrid=True,\n",
    "                        dtick=5,\n",
    "                        tickfont=dict(family='Arial, san-serif', size=10))\n",
    "fig['layout']['yaxis'] = dict(title='Avg Price', \n",
    "                        tickformat='$,.0f', \n",
    "                        hoverformat='$,.0f', \n",
    "                        titlefont=dict(family='Arial, san-serif', size=10),\n",
    "                        tickfont=dict(family='Arial, san-serif', size=10))\n",
    "\n",
    "iplot(fig)"
   ]
  },
  {
   "cell_type": "code",
   "execution_count": null,
   "metadata": {
    "scrolled": false
   },
   "outputs": [],
   "source": [
    "list_DISDivs = [0, 15, 30, 45, 60, 90, 180, 360]\n",
    "\n",
    "for d in range(0, len(list_DISDivs)-1):\n",
    "    filt_DaysInStock = (df_invc['DaysInStock'] >= list_DISDivs[d]) & (df_invc['DaysInStock'] < list_DISDivs[d + 1])\n",
    "    print('{} days and over, under {} days:\\n'.format(list_DISDivs[d], list_DISDivs[d + 1]),\n",
    "          '\\tItem Count: {:,.0f}'.format(df_invc[filt_DaysInStock]['ASIN'].count()), '\\n',\n",
    "          '\\tMean ASR: {:,.0f}'.format(df_invc[filt_DaysInStock]['AmazonSalesRank'].mean()), '\\n',\n",
    "          '\\tMean ALP: ${:0.2f}  '.format(df_invc[filt_DaysInStock]['AmazonLowestPrice'].mean()), '\\n',\n",
    "          '\\tMean Price:  ${:0.2f}'.format(df_invc[filt_DaysInStock]['Price'].mean()), '\\n',\n",
    "          '\\tPct PricedAtFloor  {:0.2%}'.format(df_invc[filt_DaysInStock]['PricedAtFloor'].sum() / df_invc[filt_DaysInStock]['PricedAtFloor'].count()), '\\n',\n",
    "          '\\tPct TotalInventory:  {:0.2%}'.format(df_invc[filt_DaysInStock]['ASIN'].count() / df_invc['ASIN'].count()), '\\n')"
   ]
  },
  {
   "cell_type": "code",
   "execution_count": null,
   "metadata": {},
   "outputs": [],
   "source": [
    "df_invc['Price'].max()"
   ]
  },
  {
   "cell_type": "code",
   "execution_count": null,
   "metadata": {},
   "outputs": [],
   "source": [
    "df_ordc = loadData('./data/MonsoonOrdersComplete.csv')\n",
    "df_ordc['OrderDate'] = pd.to_datetime(df_ordc['OrderDate'])"
   ]
  },
  {
   "cell_type": "code",
   "execution_count": null,
   "metadata": {},
   "outputs": [],
   "source": [
    "df_ordc.info()"
   ]
  },
  {
   "cell_type": "code",
   "execution_count": null,
   "metadata": {},
   "outputs": [],
   "source": [
    "list_DISDivs = [0, 15, 30, 45, 60, 90, 180, 360]\n",
    "filtLYDates = (df_ordc['OrderDate'] >= '1/1/2019') & (df_ordc['OrderDate'] < '1/1/2020')\n",
    "for d in range(0, len(list_DISDivs)-1):\n",
    "    filt_DaysInStock = (df_ordc[filtLYDates ]['DaysInStock'] >= list_DISDivs[d]) & (df_ordc[filtLYDates ]['DaysInStock'] < list_DISDivs[d + 1])\n",
    "    print('{} days and over, under {} days:\\n'.format(list_DISDivs[d], list_DISDivs[d + 1]),\n",
    "          '\\tItem Count: {:,.0f}'.format(df_ordc[filtDates][filt_DaysInStock]['AmazonSalesRank'].count()), '\\n',\n",
    "          '\\tMean ASR: {:,.0f}'.format(df_ordc[filtDates][filt_DaysInStock]['AmazonSalesRank'].mean()), '\\n',\n",
    "          '\\tMean ALP: ${:0.2f}  '.format(df_ordc[filtDates][filt_DaysInStock]['AmazonLowestPrice'].mean()), '\\n',\n",
    "          '\\tMean Price:  ${:0.2f}'.format(df_ordc[filtDates][filt_DaysInStock]['Price'].mean()), '\\n',\n",
    "          '\\tPct Sales:  {:0.2%}'.format(df_ordc[filtDates][filt_DaysInStock]['Price'].sum() /\n",
    "                                          df_ordc[filtDates]['Price'].sum()), '\\n')"
   ]
  },
  {
   "cell_type": "code",
   "execution_count": null,
   "metadata": {},
   "outputs": [],
   "source": [
    "list_DISDivs = [0, 15, 30, 45, 60, 90, 180, 360]\n",
    "filtDates = (df_ordc['OrderDate'] >= '4/1/2020') \n",
    "for d in range(0, len(list_DISDivs)-1):\n",
    "    filt_DaysInStock = (df_ordc[filtDates]['DaysInStock'] >= list_DISDivs[d]) & (df_ordc[filtDates]['DaysInStock'] < list_DISDivs[d + 1])\n",
    "    print('{} days and over, under {} days:\\n'.format(list_DISDivs[d], list_DISDivs[d + 1]),\n",
    "          '\\tItem Count: {:,.0f}'.format(df_ordc[filtDates][filt_DaysInStock]['AmazonSalesRank'].count()), '\\n',\n",
    "          '\\tMean ASR: {:,.0f}'.format(df_ordc[filtDates][filt_DaysInStock]['AmazonSalesRank'].mean()), '\\n',\n",
    "          '\\tMean ALP: ${:0.2f}  '.format(df_ordc[filtDates][filt_DaysInStock]['AmazonLowestPrice'].mean()), '\\n',\n",
    "          '\\tMean Price:  ${:0.2f}'.format(df_ordc[filtDates][filt_DaysInStock]['Price'].mean()), '\\n',\n",
    "          '\\tPct Sales:  {:0.2%}'.format(df_ordc[filtDates][filt_DaysInStock]['Price'].sum() /\n",
    "                                          df_ordc[filtDates]['Price'].sum()), '\\n')"
   ]
  },
  {
   "cell_type": "code",
   "execution_count": null,
   "metadata": {},
   "outputs": [],
   "source": []
  }
 ],
 "metadata": {
  "kernelspec": {
   "display_name": "Python 3",
   "language": "python",
   "name": "python3"
  },
  "language_info": {
   "codemirror_mode": {
    "name": "ipython",
    "version": 3
   },
   "file_extension": ".py",
   "mimetype": "text/x-python",
   "name": "python",
   "nbconvert_exporter": "python",
   "pygments_lexer": "ipython3",
   "version": "3.7.4"
  }
 },
 "nbformat": 4,
 "nbformat_minor": 2
}
