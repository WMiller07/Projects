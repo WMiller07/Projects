{
 "cells": [
  {
   "cell_type": "code",
   "execution_count": 4,
   "metadata": {},
   "outputs": [
    {
     "name": "stdout",
     "output_type": "stream",
     "text": [
      "96.99390125274658\n"
     ]
    }
   ],
   "source": [
    "import pyodbc\n",
    "import os\n",
    "import time\n",
    "import csv\n",
    " \n",
    "def sqlCursor():\n",
    "    sql_driver = 'DRIVER={ODBC Driver 13 for SQL Server};'\n",
    "    sql_server = 'SERVER=sage;'\n",
    "    sql_db = 'DATABASE=BUYS;'\n",
    "    sql_UID = 'Trusted_Connection=yes;'\n",
    "\n",
    "    cnxn = pyodbc.connect(sql_driver + sql_server + sql_db + sql_UID)\n",
    "    cursor = cnxn.cursor()\n",
    "    return cursor\n",
    " \n",
    "def writeFile(data, fn):\n",
    "    with open(fn,'w',encoding='utf-8') as file:\n",
    "        file.write('ASIN,Thicket,isUsed,Price,AmazonSalesRank,AmazonLowestPrice,PricedAtFloor,CostOfGoods,DaysInStock\\n')\n",
    "        for x in data:\n",
    "            file.write(str(x.ASIN) + ',' + \n",
    "                       str(x.Thicket) + ',' + \n",
    "                       str(x.isUsed) + ',' +\n",
    "                       str(x.Price) + ',' +\n",
    "                       str(x.AmazonSalesRank) + ',' +\n",
    "                       str(x.AmazonLowestPrice) + ',' +\n",
    "                       str(x.PricedAtFloor) + ',' +\n",
    "                       str(x.CostOfGoods) + ',' +\n",
    "                       str(x.DaysInStock) + \n",
    "                       '\\n')\n",
    "            \n",
    "def writeCSV(data, fn):\n",
    "    with open(fn, 'w', newline='') as outcsv:\n",
    "        writer = csv.writer(outcsv, delimiter=',', quoting=csv.QUOTE_MINIMAL)\n",
    "        writer.writerow(['ASIN', 'Thicket', 'isUsed', 'Price', 'AmazonSalesRank', 'AmazonLowestPrice', 'PricedAtFloor', 'CostOfGoods', 'DaysInStock'])\n",
    "        for row in data:\n",
    "            writer.writerow(row)\n",
    "\n",
    " \n",
    "def results(sql):\n",
    "    query = f'''\n",
    "    SET NOCOUNT ON\n",
    "    SET ANSI_WARNINGS OFF\n",
    "\n",
    "    SELECT \n",
    "        [ASIN],\n",
    "        RIGHT(li.ServerName, 1) [Thicket],\n",
    "        CASE WHEN SKU LIKE 'S_%' THEN 1 ELSE 0 END [isUsed],\n",
    "        Price,\n",
    "        CASE WHEN im.AmazonSalesRank = 0 THEN NULL ELSE im.AmazonSalesRank END [AmazonSalesRank],\n",
    "        im.AmazonLowestPrice,\n",
    "        CASE WHEN PricedAtFloor = 'True' THEN 1 ELSE 0 END [PricedAtFloor],\n",
    "        CostOfGoods,\n",
    "        DATEDIFF(DAY, InsertDate, GETDATE()) [DaysInStock]\n",
    "    FROM [ISIS].[dbo].[Inventory_Monsoon] im\n",
    "        INNER JOIN ISIS.dbo.App_ListingInstances li\n",
    "            ON im.ListingInstanceID = li.ListingInstanceID\n",
    "            AND li.[Status] = 'A'\n",
    "    WHERE RIGHT(li.ServerName, 1) <> '7'\n",
    "    '''\n",
    "    iter = sql.execute(query)\n",
    "    while True:\n",
    "        rows = iter.fetchmany(50000)\n",
    "        if not rows:\n",
    "            break\n",
    "        for row in rows:\n",
    "            yield row\n",
    "\n",
    "def main():\n",
    "    sql = sqlCursor()\n",
    "    data = results(sql)\n",
    "    writeCSV(data, './data/iStoreInventoryDetail.csv')\n",
    " \n",
    "if __name__ == '__main__':\n",
    "    t0 = time.time()\n",
    "    main()\n",
    "    t1 = time.time()\n",
    "    total = t1-t0\n",
    "    print(total)"
   ]
  },
  {
   "cell_type": "code",
   "execution_count": null,
   "metadata": {},
   "outputs": [],
   "source": []
  }
 ],
 "metadata": {
  "kernelspec": {
   "display_name": "Python 3",
   "language": "python",
   "name": "python3"
  },
  "language_info": {
   "codemirror_mode": {
    "name": "ipython",
    "version": 3
   },
   "file_extension": ".py",
   "mimetype": "text/x-python",
   "name": "python",
   "nbconvert_exporter": "python",
   "pygments_lexer": "ipython3",
   "version": "3.7.4"
  }
 },
 "nbformat": 4,
 "nbformat_minor": 2
}
