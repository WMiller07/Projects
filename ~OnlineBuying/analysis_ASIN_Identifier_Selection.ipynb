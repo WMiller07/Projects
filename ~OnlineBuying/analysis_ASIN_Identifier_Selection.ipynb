{
 "cells": [
  {
   "cell_type": "code",
   "execution_count": 1,
   "metadata": {},
   "outputs": [],
   "source": [
    "from datetime import datetime\n",
    "from dateutil.relativedelta import relativedelta\n",
    "#from datetime import timedelta\n",
    "import numpy as np\n",
    "import pandas as pd\n",
    "\n",
    "import matplotlib.pyplot as plt\n",
    "import matplotlib.dates as mdates\n",
    "import matplotlib.ticker as mtick\n",
    "import seaborn as sns\n",
    "\n",
    "\n",
    "import plotly\n",
    "import chart_studio.plotly as py\n",
    "import plotly.io as pio\n",
    "import plotly.graph_objs as go\n",
    "from plotly import tools\n",
    "from plotly import subplots\n",
    "from plotly.offline import download_plotlyjs, init_notebook_mode, iplot\n",
    "from plotly.subplots import make_subplots\n",
    "\n",
    "\n",
    "import json\n",
    "from flask import Flask, render_template\n",
    "\n",
    "import dash\n",
    "import dash_html_components as html"
   ]
  },
  {
   "cell_type": "code",
   "execution_count": 2,
   "metadata": {},
   "outputs": [],
   "source": [
    "df = pd.read_csv('./data/ASIN_Identifier_Selection.csv')"
   ]
  },
  {
   "cell_type": "code",
   "execution_count": 4,
   "metadata": {},
   "outputs": [
    {
     "data": {
      "text/html": [
       "<div>\n",
       "<style scoped>\n",
       "    .dataframe tbody tr th:only-of-type {\n",
       "        vertical-align: middle;\n",
       "    }\n",
       "\n",
       "    .dataframe tbody tr th {\n",
       "        vertical-align: top;\n",
       "    }\n",
       "\n",
       "    .dataframe thead th {\n",
       "        text-align: right;\n",
       "    }\n",
       "</style>\n",
       "<table border=\"1\" class=\"dataframe\">\n",
       "  <thead>\n",
       "    <tr style=\"text-align: right;\">\n",
       "      <th></th>\n",
       "      <th>Sales_Rank</th>\n",
       "      <th>Avg_SellerFeedbackCount</th>\n",
       "      <th>Cnt_OffersConsidered</th>\n",
       "      <th>Offer_Count_Used</th>\n",
       "      <th>Offer_Count_New</th>\n",
       "    </tr>\n",
       "  </thead>\n",
       "  <tbody>\n",
       "    <tr>\n",
       "      <td>Sales_Rank</td>\n",
       "      <td>1.000000</td>\n",
       "      <td>-0.127922</td>\n",
       "      <td>-0.285278</td>\n",
       "      <td>-0.189579</td>\n",
       "      <td>-0.213973</td>\n",
       "    </tr>\n",
       "    <tr>\n",
       "      <td>Avg_SellerFeedbackCount</td>\n",
       "      <td>-0.127922</td>\n",
       "      <td>1.000000</td>\n",
       "      <td>0.567430</td>\n",
       "      <td>0.458455</td>\n",
       "      <td>0.370137</td>\n",
       "    </tr>\n",
       "    <tr>\n",
       "      <td>Cnt_OffersConsidered</td>\n",
       "      <td>-0.285278</td>\n",
       "      <td>0.567430</td>\n",
       "      <td>1.000000</td>\n",
       "      <td>0.722878</td>\n",
       "      <td>0.617531</td>\n",
       "    </tr>\n",
       "    <tr>\n",
       "      <td>Offer_Count_Used</td>\n",
       "      <td>-0.189579</td>\n",
       "      <td>0.458455</td>\n",
       "      <td>0.722878</td>\n",
       "      <td>1.000000</td>\n",
       "      <td>0.644643</td>\n",
       "    </tr>\n",
       "    <tr>\n",
       "      <td>Offer_Count_New</td>\n",
       "      <td>-0.213973</td>\n",
       "      <td>0.370137</td>\n",
       "      <td>0.617531</td>\n",
       "      <td>0.644643</td>\n",
       "      <td>1.000000</td>\n",
       "    </tr>\n",
       "  </tbody>\n",
       "</table>\n",
       "</div>"
      ],
      "text/plain": [
       "                         Sales_Rank  Avg_SellerFeedbackCount  \\\n",
       "Sales_Rank                 1.000000                -0.127922   \n",
       "Avg_SellerFeedbackCount   -0.127922                 1.000000   \n",
       "Cnt_OffersConsidered      -0.285278                 0.567430   \n",
       "Offer_Count_Used          -0.189579                 0.458455   \n",
       "Offer_Count_New           -0.213973                 0.370137   \n",
       "\n",
       "                         Cnt_OffersConsidered  Offer_Count_Used  \\\n",
       "Sales_Rank                          -0.285278         -0.189579   \n",
       "Avg_SellerFeedbackCount              0.567430          0.458455   \n",
       "Cnt_OffersConsidered                 1.000000          0.722878   \n",
       "Offer_Count_Used                     0.722878          1.000000   \n",
       "Offer_Count_New                      0.617531          0.644643   \n",
       "\n",
       "                         Offer_Count_New  \n",
       "Sales_Rank                     -0.213973  \n",
       "Avg_SellerFeedbackCount         0.370137  \n",
       "Cnt_OffersConsidered            0.617531  \n",
       "Offer_Count_Used                0.644643  \n",
       "Offer_Count_New                 1.000000  "
      ]
     },
     "execution_count": 4,
     "metadata": {},
     "output_type": "execute_result"
    }
   ],
   "source": [
    "df.corr()"
   ]
  },
  {
   "cell_type": "code",
   "execution_count": null,
   "metadata": {},
   "outputs": [],
   "source": []
  }
 ],
 "metadata": {
  "kernelspec": {
   "display_name": "Python 3",
   "language": "python",
   "name": "python3"
  },
  "language_info": {
   "codemirror_mode": {
    "name": "ipython",
    "version": 3
   },
   "file_extension": ".py",
   "mimetype": "text/x-python",
   "name": "python",
   "nbconvert_exporter": "python",
   "pygments_lexer": "ipython3",
   "version": "3.7.4"
  }
 },
 "nbformat": 4,
 "nbformat_minor": 2
}
