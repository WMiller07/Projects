{
 "cells": [
  {
   "cell_type": "code",
   "execution_count": 1,
   "metadata": {},
   "outputs": [],
   "source": [
    "import datetime\n",
    "from dateutil.relativedelta import relativedelta\n",
    "#from datetime import timedelta\n",
    "import numpy as np\n",
    "import pandas as pd\n",
    "\n",
    "import matplotlib.pyplot as plt\n",
    "import matplotlib.dates as mdates\n",
    "import matplotlib.ticker as mtick\n",
    "import matplotlib.gridspec as gridspec\n",
    "import seaborn as sns\n",
    "\n",
    "# import plotly.plotly as py\n",
    "# import plotly.graph_objs as go"
   ]
  },
  {
   "cell_type": "code",
   "execution_count": 2,
   "metadata": {},
   "outputs": [
    {
     "ename": "ValueError",
     "evalue": "cannot safely convert passed user dtype of int32 for float64 dtyped data in column 4",
     "output_type": "error",
     "traceback": [
      "\u001b[1;31m---------------------------------------------------------------------------\u001b[0m",
      "\u001b[1;31mTypeError\u001b[0m                                 Traceback (most recent call last)",
      "\u001b[1;32mpandas/_libs/parsers.pyx\u001b[0m in \u001b[0;36mpandas._libs.parsers.TextReader._convert_tokens\u001b[1;34m()\u001b[0m\n",
      "\u001b[1;31mTypeError\u001b[0m: Cannot cast array from dtype('float64') to dtype('int32') according to the rule 'safe'",
      "\nDuring handling of the above exception, another exception occurred:\n",
      "\u001b[1;31mValueError\u001b[0m                                Traceback (most recent call last)",
      "\u001b[1;32m<ipython-input-2-2e651dcab46d>\u001b[0m in \u001b[0;36m<module>\u001b[1;34m\u001b[0m\n\u001b[0;32m      1\u001b[0m \u001b[0mdict_dtypes\u001b[0m\u001b[1;33m=\u001b[0m\u001b[1;33m{\u001b[0m\u001b[1;34m'BusinessDate'\u001b[0m\u001b[1;33m:\u001b[0m \u001b[0mobject\u001b[0m\u001b[1;33m,\u001b[0m \u001b[1;34m'LocationNo'\u001b[0m\u001b[1;33m:\u001b[0m \u001b[0mstr\u001b[0m\u001b[1;33m,\u001b[0m \u001b[1;34m'TestGroup'\u001b[0m\u001b[1;33m:\u001b[0m \u001b[0mint\u001b[0m\u001b[1;33m}\u001b[0m\u001b[1;33m\u001b[0m\u001b[1;33m\u001b[0m\u001b[0m\n\u001b[1;32m----> 2\u001b[1;33m \u001b[0mdf_BuyHeaderMetrics\u001b[0m \u001b[1;33m=\u001b[0m \u001b[0mpd\u001b[0m\u001b[1;33m.\u001b[0m\u001b[0mread_csv\u001b[0m\u001b[1;33m(\u001b[0m\u001b[1;34m'./BuyHeaderMetrics.csv'\u001b[0m\u001b[1;33m,\u001b[0m \u001b[0mdtype\u001b[0m\u001b[1;33m=\u001b[0m\u001b[0mdict_dtypes\u001b[0m\u001b[1;33m,\u001b[0m \u001b[0mheader\u001b[0m\u001b[1;33m=\u001b[0m\u001b[1;36m0\u001b[0m\u001b[1;33m,\u001b[0m \u001b[0mindex_col\u001b[0m\u001b[1;33m=\u001b[0m\u001b[1;36m0\u001b[0m\u001b[1;33m)\u001b[0m\u001b[1;33m\u001b[0m\u001b[1;33m\u001b[0m\u001b[0m\n\u001b[0m\u001b[0;32m      3\u001b[0m \u001b[0mdf_BuyItemMetrics\u001b[0m \u001b[1;33m=\u001b[0m \u001b[0mpd\u001b[0m\u001b[1;33m.\u001b[0m\u001b[0mread_csv\u001b[0m\u001b[1;33m(\u001b[0m\u001b[1;34m'./BuyItemMetrics.csv'\u001b[0m\u001b[1;33m,\u001b[0m \u001b[0mdtype\u001b[0m\u001b[1;33m=\u001b[0m\u001b[0mdict_dtypes\u001b[0m\u001b[1;33m,\u001b[0m \u001b[0mheader\u001b[0m\u001b[1;33m=\u001b[0m\u001b[1;36m0\u001b[0m\u001b[1;33m,\u001b[0m \u001b[0mindex_col\u001b[0m\u001b[1;33m=\u001b[0m\u001b[1;36m0\u001b[0m\u001b[1;33m)\u001b[0m\u001b[1;33m\u001b[0m\u001b[1;33m\u001b[0m\u001b[0m\n",
      "\u001b[1;32m~\\AppData\\Local\\Continuum\\anaconda3\\lib\\site-packages\\pandas\\io\\parsers.py\u001b[0m in \u001b[0;36mparser_f\u001b[1;34m(filepath_or_buffer, sep, delimiter, header, names, index_col, usecols, squeeze, prefix, mangle_dupe_cols, dtype, engine, converters, true_values, false_values, skipinitialspace, skiprows, skipfooter, nrows, na_values, keep_default_na, na_filter, verbose, skip_blank_lines, parse_dates, infer_datetime_format, keep_date_col, date_parser, dayfirst, iterator, chunksize, compression, thousands, decimal, lineterminator, quotechar, quoting, doublequote, escapechar, comment, encoding, dialect, tupleize_cols, error_bad_lines, warn_bad_lines, delim_whitespace, low_memory, memory_map, float_precision)\u001b[0m\n\u001b[0;32m    700\u001b[0m                     skip_blank_lines=skip_blank_lines)\n\u001b[0;32m    701\u001b[0m \u001b[1;33m\u001b[0m\u001b[0m\n\u001b[1;32m--> 702\u001b[1;33m         \u001b[1;32mreturn\u001b[0m \u001b[0m_read\u001b[0m\u001b[1;33m(\u001b[0m\u001b[0mfilepath_or_buffer\u001b[0m\u001b[1;33m,\u001b[0m \u001b[0mkwds\u001b[0m\u001b[1;33m)\u001b[0m\u001b[1;33m\u001b[0m\u001b[1;33m\u001b[0m\u001b[0m\n\u001b[0m\u001b[0;32m    703\u001b[0m \u001b[1;33m\u001b[0m\u001b[0m\n\u001b[0;32m    704\u001b[0m     \u001b[0mparser_f\u001b[0m\u001b[1;33m.\u001b[0m\u001b[0m__name__\u001b[0m \u001b[1;33m=\u001b[0m \u001b[0mname\u001b[0m\u001b[1;33m\u001b[0m\u001b[1;33m\u001b[0m\u001b[0m\n",
      "\u001b[1;32m~\\AppData\\Local\\Continuum\\anaconda3\\lib\\site-packages\\pandas\\io\\parsers.py\u001b[0m in \u001b[0;36m_read\u001b[1;34m(filepath_or_buffer, kwds)\u001b[0m\n\u001b[0;32m    433\u001b[0m \u001b[1;33m\u001b[0m\u001b[0m\n\u001b[0;32m    434\u001b[0m     \u001b[1;32mtry\u001b[0m\u001b[1;33m:\u001b[0m\u001b[1;33m\u001b[0m\u001b[1;33m\u001b[0m\u001b[0m\n\u001b[1;32m--> 435\u001b[1;33m         \u001b[0mdata\u001b[0m \u001b[1;33m=\u001b[0m \u001b[0mparser\u001b[0m\u001b[1;33m.\u001b[0m\u001b[0mread\u001b[0m\u001b[1;33m(\u001b[0m\u001b[0mnrows\u001b[0m\u001b[1;33m)\u001b[0m\u001b[1;33m\u001b[0m\u001b[1;33m\u001b[0m\u001b[0m\n\u001b[0m\u001b[0;32m    436\u001b[0m     \u001b[1;32mfinally\u001b[0m\u001b[1;33m:\u001b[0m\u001b[1;33m\u001b[0m\u001b[1;33m\u001b[0m\u001b[0m\n\u001b[0;32m    437\u001b[0m         \u001b[0mparser\u001b[0m\u001b[1;33m.\u001b[0m\u001b[0mclose\u001b[0m\u001b[1;33m(\u001b[0m\u001b[1;33m)\u001b[0m\u001b[1;33m\u001b[0m\u001b[1;33m\u001b[0m\u001b[0m\n",
      "\u001b[1;32m~\\AppData\\Local\\Continuum\\anaconda3\\lib\\site-packages\\pandas\\io\\parsers.py\u001b[0m in \u001b[0;36mread\u001b[1;34m(self, nrows)\u001b[0m\n\u001b[0;32m   1137\u001b[0m     \u001b[1;32mdef\u001b[0m \u001b[0mread\u001b[0m\u001b[1;33m(\u001b[0m\u001b[0mself\u001b[0m\u001b[1;33m,\u001b[0m \u001b[0mnrows\u001b[0m\u001b[1;33m=\u001b[0m\u001b[1;32mNone\u001b[0m\u001b[1;33m)\u001b[0m\u001b[1;33m:\u001b[0m\u001b[1;33m\u001b[0m\u001b[1;33m\u001b[0m\u001b[0m\n\u001b[0;32m   1138\u001b[0m         \u001b[0mnrows\u001b[0m \u001b[1;33m=\u001b[0m \u001b[0m_validate_integer\u001b[0m\u001b[1;33m(\u001b[0m\u001b[1;34m'nrows'\u001b[0m\u001b[1;33m,\u001b[0m \u001b[0mnrows\u001b[0m\u001b[1;33m)\u001b[0m\u001b[1;33m\u001b[0m\u001b[1;33m\u001b[0m\u001b[0m\n\u001b[1;32m-> 1139\u001b[1;33m         \u001b[0mret\u001b[0m \u001b[1;33m=\u001b[0m \u001b[0mself\u001b[0m\u001b[1;33m.\u001b[0m\u001b[0m_engine\u001b[0m\u001b[1;33m.\u001b[0m\u001b[0mread\u001b[0m\u001b[1;33m(\u001b[0m\u001b[0mnrows\u001b[0m\u001b[1;33m)\u001b[0m\u001b[1;33m\u001b[0m\u001b[1;33m\u001b[0m\u001b[0m\n\u001b[0m\u001b[0;32m   1140\u001b[0m \u001b[1;33m\u001b[0m\u001b[0m\n\u001b[0;32m   1141\u001b[0m         \u001b[1;31m# May alter columns / col_dict\u001b[0m\u001b[1;33m\u001b[0m\u001b[1;33m\u001b[0m\u001b[1;33m\u001b[0m\u001b[0m\n",
      "\u001b[1;32m~\\AppData\\Local\\Continuum\\anaconda3\\lib\\site-packages\\pandas\\io\\parsers.py\u001b[0m in \u001b[0;36mread\u001b[1;34m(self, nrows)\u001b[0m\n\u001b[0;32m   1993\u001b[0m     \u001b[1;32mdef\u001b[0m \u001b[0mread\u001b[0m\u001b[1;33m(\u001b[0m\u001b[0mself\u001b[0m\u001b[1;33m,\u001b[0m \u001b[0mnrows\u001b[0m\u001b[1;33m=\u001b[0m\u001b[1;32mNone\u001b[0m\u001b[1;33m)\u001b[0m\u001b[1;33m:\u001b[0m\u001b[1;33m\u001b[0m\u001b[1;33m\u001b[0m\u001b[0m\n\u001b[0;32m   1994\u001b[0m         \u001b[1;32mtry\u001b[0m\u001b[1;33m:\u001b[0m\u001b[1;33m\u001b[0m\u001b[1;33m\u001b[0m\u001b[0m\n\u001b[1;32m-> 1995\u001b[1;33m             \u001b[0mdata\u001b[0m \u001b[1;33m=\u001b[0m \u001b[0mself\u001b[0m\u001b[1;33m.\u001b[0m\u001b[0m_reader\u001b[0m\u001b[1;33m.\u001b[0m\u001b[0mread\u001b[0m\u001b[1;33m(\u001b[0m\u001b[0mnrows\u001b[0m\u001b[1;33m)\u001b[0m\u001b[1;33m\u001b[0m\u001b[1;33m\u001b[0m\u001b[0m\n\u001b[0m\u001b[0;32m   1996\u001b[0m         \u001b[1;32mexcept\u001b[0m \u001b[0mStopIteration\u001b[0m\u001b[1;33m:\u001b[0m\u001b[1;33m\u001b[0m\u001b[1;33m\u001b[0m\u001b[0m\n\u001b[0;32m   1997\u001b[0m             \u001b[1;32mif\u001b[0m \u001b[0mself\u001b[0m\u001b[1;33m.\u001b[0m\u001b[0m_first_chunk\u001b[0m\u001b[1;33m:\u001b[0m\u001b[1;33m\u001b[0m\u001b[1;33m\u001b[0m\u001b[0m\n",
      "\u001b[1;32mpandas/_libs/parsers.pyx\u001b[0m in \u001b[0;36mpandas._libs.parsers.TextReader.read\u001b[1;34m()\u001b[0m\n",
      "\u001b[1;32mpandas/_libs/parsers.pyx\u001b[0m in \u001b[0;36mpandas._libs.parsers.TextReader._read_low_memory\u001b[1;34m()\u001b[0m\n",
      "\u001b[1;32mpandas/_libs/parsers.pyx\u001b[0m in \u001b[0;36mpandas._libs.parsers.TextReader._read_rows\u001b[1;34m()\u001b[0m\n",
      "\u001b[1;32mpandas/_libs/parsers.pyx\u001b[0m in \u001b[0;36mpandas._libs.parsers.TextReader._convert_column_data\u001b[1;34m()\u001b[0m\n",
      "\u001b[1;32mpandas/_libs/parsers.pyx\u001b[0m in \u001b[0;36mpandas._libs.parsers.TextReader._convert_tokens\u001b[1;34m()\u001b[0m\n",
      "\u001b[1;31mValueError\u001b[0m: cannot safely convert passed user dtype of int32 for float64 dtyped data in column 4"
     ]
    }
   ],
   "source": [
    "dict_dtypes={'BusinessDate': object, 'LocationNo': str, 'TestGroup': int}\n",
    "df_BuyHeaderMetrics = pd.read_csv('./BuyHeaderMetrics.csv', dtype=dict_dtypes, header=0, index_col=0)\n",
    "df_BuyItemMetrics = pd.read_csv('./BuyItemMetrics.csv', dtype=dict_dtypes, header=0, index_col=0)"
   ]
  },
  {
   "cell_type": "code",
   "execution_count": null,
   "metadata": {},
   "outputs": [],
   "source": [
    "df_BuyHeaderMetrics.info()"
   ]
  },
  {
   "cell_type": "code",
   "execution_count": null,
   "metadata": {},
   "outputs": [],
   "source": [
    "StartDate = '2019-01-01'\n",
    "filt_DropBeforeStartDate = df_BuyHeaderMetrics['BusinessDate'] < StartDate\n",
    "df_BuyHeaderMetrics = df_BuyHeaderMetrics.drop(df_BuyHeaderMetrics.index[filt_DropBeforeStartDate], axis=0).reset_index(drop=True)"
   ]
  },
  {
   "cell_type": "code",
   "execution_count": null,
   "metadata": {},
   "outputs": [],
   "source": [
    "df_BuyHeaderMetrics['total_BuyWait_Min'] = df_BuyHeaderMetrics['total_BuyWait_Sec']/60\n",
    "df_BuyHeaderMetrics['rollavg_BuyWait_Min'] = df_BuyHeaderMetrics['rollavg_BuyWait_Sec']/60\n",
    "df_BuyHeaderMetrics['diff_avg_BuyWait_Min'] = df_BuyHeaderMetrics['diff_avg_BuyWait_Sec']/60"
   ]
  },
  {
   "cell_type": "code",
   "execution_count": null,
   "metadata": {},
   "outputs": [],
   "source": [
    "NoCalcColumns = ['BusinessDate', 'LocationNo', 'VersionNo', 'TestGroup', 'BuyType']\n",
    "CalcColumns = [c for c in df_BuyHeaderMetrics.columns if c not in NoCalcColumns]"
   ]
  },
  {
   "cell_type": "code",
   "execution_count": null,
   "metadata": {},
   "outputs": [],
   "source": [
    "def get_SummaryStatsAroundDate(df, date, LocName, CalcColumns):\n",
    "    SumAroundDate = date\n",
    "    filt_SelectGroup = df['LocationNo'] == LocName\n",
    "    filt_SumAfterDate = (df['BusinessDate'] >= SumAroundDate) & filt_SelectGroup\n",
    "    filt_SumBeforeDate = (df['BusinessDate'] < SumAroundDate) & filt_SelectGroup\n",
    "    series_BeforeDate = df[filt_SumBeforeDate][CalcColumns].sum()\n",
    "    series_AfterDate = df[filt_SumAfterDate][CalcColumns].sum()\n",
    "    return series_BeforeDate, series_AfterDate\n",
    "\n",
    "def get_EachStoreSummaryStatsAfterDate(df, date, list_locs):\n",
    "    SumAfterDate = date\n",
    "    filt_SelectGroup = df['LocationNo'].isin(list_locs)\n",
    "    filt_SumAfterDate = (df['BusinessDate'] >= date) & filt_SelectGroup\n",
    "    df_AfterDate = df[filt_SumAfterDate].groupby('LocationNo').sum()\n",
    "    return df_AfterDate"
   ]
  },
  {
   "cell_type": "code",
   "execution_count": null,
   "metadata": {},
   "outputs": [],
   "source": [
    "series_AllBeforeDate, series_AllAfterDate = get_SummaryStatsAroundDate(df_BuyHeaderMetrics, '2019-06-25', 'v1.r3', CalcColumns)\n",
    "series_TG1BeforeDate, series_TG1AfterDate = get_SummaryStatsAroundDate(df_BuyHeaderMetrics, '2019-06-25', 'tg1', CalcColumns)\n",
    "series_TG2BeforeDate, series_TG2AfterDate = get_SummaryStatsAroundDate(df_BuyHeaderMetrics, '2019-06-25', 'tg2', CalcColumns)"
   ]
  },
  {
   "cell_type": "code",
   "execution_count": null,
   "metadata": {},
   "outputs": [],
   "source": [
    "list_CompChainLoc_All = np.array([series_AllAfterDate['count_SuggestedOfferChain'], \n",
    "                     series_AllAfterDate['count_SuggestedOfferLoc']])\n",
    "list_CompChainLocAdj_All = np.array([series_AllAfterDate['count_SuggestedOfferChainAdj'], \n",
    "                     series_AllAfterDate['count_SuggestedOfferLocAdj']])\n",
    "list_CompChainLocNestedAdj_All = np.array([[list_CompChainLoc_All[0]-list_CompChainLocAdj_All[0], \n",
    "                                            list_CompChainLocAdj_All[0]],\n",
    "                                            [list_CompChainLoc_All[1]-list_CompChainLocAdj_All[1], \n",
    "                                            list_CompChainLocAdj_All[1]]])\n",
    "\n",
    "list_CompChainLoc_TG1 = np.array([series_TG1AfterDate['count_SuggestedOfferChain'], \n",
    "                     series_TG1AfterDate['count_SuggestedOfferLoc']])\n",
    "list_CompChainLocAdj_TG1 = np.array([series_TG1AfterDate['count_SuggestedOfferChainAdj'], \n",
    "                     series_TG1AfterDate['count_SuggestedOfferLocAdj']])\n",
    "list_CompChainLocNestedAdj_TG1 = np.array([[list_CompChainLoc_TG1[0]-list_CompChainLocAdj_TG1[0], \n",
    "                                            list_CompChainLocAdj_TG1[0]],\n",
    "                                            [list_CompChainLoc_TG1[1]-list_CompChainLocAdj_TG1[1], \n",
    "                                            list_CompChainLocAdj_TG1[1]]])\n",
    "\n",
    "list_CompChainLoc_TG2 = np.array([series_TG2AfterDate['count_SuggestedOfferChain'], \n",
    "                     series_TG2AfterDate['count_SuggestedOfferLoc']])\n",
    "list_CompChainLocAdj_TG2 = np.array([series_TG2AfterDate['count_SuggestedOfferChainAdj'], \n",
    "                     series_TG2AfterDate['count_SuggestedOfferLocAdj']])\n",
    "list_CompChainLocNestedAdj_TG2 = np.array([[list_CompChainLoc_TG2[0]-list_CompChainLocAdj_TG2[0], \n",
    "                                            list_CompChainLocAdj_TG2[0]],\n",
    "                                            [list_CompChainLoc_TG2[1]-list_CompChainLocAdj_TG2[1], \n",
    "                                            list_CompChainLocAdj_TG2[1]]])"
   ]
  },
  {
   "cell_type": "code",
   "execution_count": null,
   "metadata": {},
   "outputs": [],
   "source": [
    "fig = plt.figure(figsize=(12,10))\n",
    "\n",
    "\n",
    "\n",
    "ax1 = plt.subplot2grid((5, 4), (0, 0),  rowspan=3, colspan=4)\n",
    "ax2 = plt.subplot2grid((5, 4), (3, 0),  rowspan=2, colspan=2)\n",
    "ax3 = plt.subplot2grid((5, 4), (3, 2),  rowspan=2, colspan=2)\n",
    "fig.subplots_adjust(top=.99, bottom=0, hspace=0, wspace=0)\n",
    "\n",
    "PieWidth = 0.3\n",
    "list_OuterPieLabels = ['% Offers Chain-Based', '% Offers Location-Based']\n",
    "list_InnerPieLabels = ['% Offers Chain-Based, Accepted by Buyer', '% Offers Chain-Based, Changed by Buyer', \n",
    "                       '% Offers Location-Based, Accepted by Buyer', '% Offers Location-Based, Changed by Buyer']\n",
    "\n",
    "cmap = plt.get_cmap(\"tab20c\")\n",
    "outer_colors = cmap(np.arange(3)*4)\n",
    "inner_colors = cmap(np.array([1, 2, 5, 6, 9, 10]))\n",
    "\n",
    "\n",
    "ax1.pie(list_CompChainLoc_All, labels=None, autopct='%1.1f%%', \n",
    "       radius=1, startangle=90, pctdistance=0.85, colors=outer_colors,\n",
    "       wedgeprops=dict(width=PieWidth, edgecolor='w'), textprops=dict(color='w', fontsize=12, fontweight='bold'))\n",
    "\n",
    "\n",
    "ax1.pie(list_CompChainLocNestedAdj_All.flatten(), labels=None, \n",
    "       autopct='%1.1f%%', radius=1-PieWidth, startangle=90, pctdistance=0.8, colors=inner_colors,\n",
    "       wedgeprops=dict(width=PieWidth, edgecolor='w'), \n",
    "       textprops=dict(color='w', fontsize=10, fontweight='bold', rotation=0))\n",
    "\n",
    "ax1.legend(labels=list_OuterPieLabels + list_InnerPieLabels, loc=\"lower center\",\n",
    "           bbox_to_anchor=(1, 0.1, 0.5, 1))\n",
    "\n",
    "\n",
    "ax2.pie(list_CompChainLoc_TG1, labels=None, autopct='%1.1f%%', \n",
    "       radius=1, startangle=90, pctdistance=0.85, colors=outer_colors,\n",
    "       wedgeprops=dict(width=PieWidth, edgecolor='w'), textprops=dict(color='w', fontsize=12, fontweight='bold'))\n",
    "\n",
    "\n",
    "ax2.pie(list_CompChainLocNestedAdj_TG1.flatten(), labels=None, \n",
    "       autopct='%1.1f%%', radius=1-PieWidth, startangle=90, pctdistance=0.8, colors=inner_colors,\n",
    "       wedgeprops=dict(width=PieWidth, edgecolor='w'), \n",
    "       textprops=dict(color='w', fontsize=10, fontweight='bold', rotation=0))\n",
    "ax2.set_title('Test Group 1')\n",
    "\n",
    "\n",
    "\n",
    "ax3.pie(list_CompChainLoc_TG2, labels=None, autopct='%1.1f%%', \n",
    "       radius=1, startangle=90, pctdistance=0.85, colors=outer_colors,\n",
    "       wedgeprops=dict(width=PieWidth, edgecolor='w'), textprops=dict(color='w', fontsize=12, fontweight='bold'))\n",
    "\n",
    "\n",
    "ax3.pie(list_CompChainLocNestedAdj_TG2.flatten(), labels=None, \n",
    "       autopct='%1.1f%%', radius=1-PieWidth, startangle=90, pctdistance=0.8, colors=inner_colors,\n",
    "       wedgeprops=dict(width=PieWidth, edgecolor='w'), \n",
    "       textprops=dict(color='w', fontsize=10, fontweight='bold', rotation=0))\n",
    "ax3.set_title('Test Group 2')\n",
    "\n",
    "plt.suptitle('Suggested Offers Release 3 - Chain-based vs Location-based Offers', fontsize=14)\n",
    "\n",
    "plt.show()"
   ]
  },
  {
   "cell_type": "code",
   "execution_count": null,
   "metadata": {},
   "outputs": [],
   "source": [
    "series_LocBeforeDate, series_LocAfterDate = get_SummaryStatsAroundDate(df_BuyHeaderMetrics, '2019-06-25', '00097', CalcColumns)\n",
    "\n",
    "list_CompChainLoc_Loc = np.array([series_LocAfterDate['count_SuggestedOfferChain'], \n",
    "                     series_LocAfterDate['count_SuggestedOfferLoc']])\n",
    "list_CompChainLocAdj_Loc = np.array([series_LocAfterDate['count_SuggestedOfferChainAdj'], \n",
    "                     series_LocAfterDate['count_SuggestedOfferLocAdj']])\n",
    "list_CompChainLocNestedAdj_Loc = np.array([[list_CompChainLoc_Loc[0]-list_CompChainLocAdj_Loc[0], \n",
    "                                            list_CompChainLocAdj_Loc[0]],\n",
    "                                            [list_CompChainLoc_Loc[1]-list_CompChainLocAdj_Loc[1], \n",
    "                                            list_CompChainLocAdj_Loc[1]]])"
   ]
  },
  {
   "cell_type": "code",
   "execution_count": null,
   "metadata": {},
   "outputs": [],
   "source": [
    "PieWidth = 0.3\n",
    "fig, ax = plt.subplots(figsize=(8,8))\n",
    "list_OuterPieLabels = ['% Offers Chain-Based', '% Offers Location-Based']\n",
    "list_InnerPieLabels = ['% Offers Chain-Based, Accepted by Buyer', '% Offers Chain-Based, Changed by Buyer', \n",
    "                       '% Offers Location-Based, Accepted by Buyer', '% Offers Location-Based, Changed by Buyer']\n",
    "\n",
    "cmap = plt.get_cmap(\"tab20c\")\n",
    "outer_colors = cmap(np.arange(3)*4)\n",
    "inner_colors = cmap(np.array([1, 2, 5, 6, 9, 10]))\n",
    "\n",
    "\n",
    "ax.pie(list_CompChainLoc_Loc, labels=None, autopct='%1.1f%%', \n",
    "       radius=1, startangle=90, pctdistance=0.85, colors=outer_colors,\n",
    "       wedgeprops=dict(width=PieWidth, edgecolor='w'), textprops=dict(color='w', fontsize=12, fontweight='bold'))\n",
    "\n",
    "\n",
    "ax.pie(list_CompChainLocNestedAdj_Loc.flatten(), labels=None, \n",
    "       autopct='%1.1f%%', radius=1-PieWidth, startangle=90, pctdistance=0.8, colors=inner_colors,\n",
    "       wedgeprops=dict(width=PieWidth, edgecolor='w'), \n",
    "       textprops=dict(color='w', fontsize=10, fontweight='bold', rotation=0))\n",
    "plt.legend(labels=list_OuterPieLabels + list_InnerPieLabels, loc=\"center left\",\n",
    "           bbox_to_anchor=(1, 0, 0.5, 1))\n",
    "\n",
    "plt.title('Suggested Offers Release 3 - Chain-based vs Location-based Offers', fontsize=14)\n",
    "\n",
    "plt.show()"
   ]
  },
  {
   "cell_type": "code",
   "execution_count": null,
   "metadata": {},
   "outputs": [],
   "source": [
    "filt_V1R3Locs = df_BuyHeaderMetrics['VersionNo'] == 'v1.r3'\n",
    "list_R3Locs = list(df_BuyHeaderMetrics[filt_V1R3Locs]['LocationNo'].unique())"
   ]
  },
  {
   "cell_type": "code",
   "execution_count": null,
   "metadata": {},
   "outputs": [],
   "source": [
    "list_R3Locs = [i for i in list_R3Locs if i not in ['tg1', 'tg2']]"
   ]
  },
  {
   "cell_type": "code",
   "execution_count": null,
   "metadata": {},
   "outputs": [],
   "source": [
    "df_PctLocOffers = get_EachStoreSummaryStatsAfterDate(df_BuyHeaderMetrics, '2019-06-25', list_R3Locs).reset_index()\n",
    "df_PctLocOffers['pct_LocOffers'] = df_PctLocOffers['count_SuggestedOfferLoc']/df_PctLocOffers['total_SuggestedOfferQuantity']"
   ]
  },
  {
   "cell_type": "code",
   "execution_count": null,
   "metadata": {
    "scrolled": false
   },
   "outputs": [],
   "source": [
    "sns.set_style('whitegrid')\n",
    "list_PlotOrder = df_PctLocOffers.sort_values('pct_LocOffers')['LocationNo'].to_list()\n",
    "\n",
    "fig, ax = plt.subplots(figsize=(8,6))\n",
    "sns.barplot(x='LocationNo', y='pct_LocOffers', data=df_PctLocOffers, ax=ax, \n",
    "            order=list_PlotOrder, palette = 'cividis', alpha = 0.85)\n",
    "#ax.set_axisbelow(False)\n",
    "#ax.grid(axis='y', color='white')\n",
    "plt.xticks(rotation=90)\n",
    "ax.set_xlabel('Store #', fontsize=12)\n",
    "ax.set_ylabel('% Offers Location-Based', fontsize=12)\n",
    "ax.yaxis.set_major_formatter(mtick.StrMethodFormatter('{x:,.1%}')) \n",
    "plt.title('Percent Location-Based Offers By Store', fontsize=14)\n",
    "plt.show()"
   ]
  },
  {
   "cell_type": "code",
   "execution_count": null,
   "metadata": {},
   "outputs": [],
   "source": [
    "df_PctLocOffers.sort_values('pct_LocOffers')['LocationNo'].to_list()"
   ]
  },
  {
   "cell_type": "code",
   "execution_count": null,
   "metadata": {},
   "outputs": [],
   "source": []
  }
 ],
 "metadata": {
  "kernelspec": {
   "display_name": "Python 3",
   "language": "python",
   "name": "python3"
  },
  "language_info": {
   "codemirror_mode": {
    "name": "ipython",
    "version": 3
   },
   "file_extension": ".py",
   "mimetype": "text/x-python",
   "name": "python",
   "nbconvert_exporter": "python",
   "pygments_lexer": "ipython3",
   "version": "3.7.3"
  }
 },
 "nbformat": 4,
 "nbformat_minor": 2
}
