{
 "cells": [
  {
   "cell_type": "code",
   "execution_count": 1,
   "metadata": {},
   "outputs": [],
   "source": [
    "import pyodbc\n",
    "import numpy as np\n",
    "import pandas as pd"
   ]
  },
  {
   "cell_type": "code",
   "execution_count": 2,
   "metadata": {},
   "outputs": [],
   "source": [
    "sql_driver = 'DRIVER={ODBC Driver 13 for SQL Server};'\n",
    "sql_server = 'SERVER=sage;'\n",
    "sql_db = 'DATABASE=BUYS;'\n",
    "sql_UID = 'Trusted_Connection=yes;'\n",
    "\n",
    "cnxn = pyodbc.connect(sql_driver + sql_server + sql_db + sql_UID)\n",
    "\n",
    "def fetch_data(q, cnxn):\n",
    "    df = pd.read_sql(sql=q, con=cnxn)\n",
    "    return df"
   ]
  },
  {
   "cell_type": "code",
   "execution_count": 3,
   "metadata": {},
   "outputs": [],
   "source": [
    "BuyType = 'CDU'\n",
    "\n",
    "query_BuyTypeMetrics = f'''\n",
    "SET NOCOUNT ON\n",
    "SET ANSI_WARNINGS OFF\n",
    "\n",
    "DECLARE @BuyType VARCHAR(5) = '{BuyType}'\n",
    "\n",
    "SELECT \n",
    "\tbt.BuyType,\n",
    "\tspm.ProductType,\n",
    "\tt.binding,\n",
    "\tt.artist,\n",
    "\tt.title,\n",
    "\tt.isbn13,\n",
    "\tbbi.SuggestedOffer,\n",
    "\tbbi.SuggestedOfferType,\n",
    "\tbbi.CreateTime,\n",
    "\tbbi.Scoring_ID, \n",
    "\tba.Chain_SuggestedOffer,\n",
    "\tba.Location_SuggestedOffer,\n",
    "\tadc.Total_Item_Count [Chain_Total_Item_Count],\t\n",
    "\tadc.Total_Accumulated_Days_With_Trash_Penalty [Chain_Total_Accumulated_Days_With_Trash_Penalty],  \t\n",
    "\tadc.Days_Total_FromCreate [Chain_Days_Total_FromCreate],\t\n",
    "\tadc.Days_Total_Scanned [Chain_Days_Total_Scanned],\t\n",
    "\tadc.Days_Total_Salable_Priced [Chain_Days_Total_Salable_Priced],\t\n",
    "\tadc.Days_Total_Salable_Scanned [Chain_Days_Total_Salable_Scanned],\t\n",
    "\tadc.Days_Total_Salable_Online [Chain_Days_Total_Salable_Online],\t\n",
    "\tadc.Total_Transfers [Chain_Total_Transfers],\t\n",
    "\tadc.Total_Trash_Donate [Chain_Total_Trash_Donate],\t\n",
    "\tadc.Total_Sold [Chain_Total_Sold],\t\n",
    "\tadc.Total_Available [Chain_Total_Available],\t\n",
    "\tadc.Total_Scan_Count [Chain_Total_Scan_Count],\t\n",
    "\tadc.Avg_Price [Chain_Avg_Price],\t\n",
    "\tadc.Avg_Sale_Price [Chain_Avg_Sale_Price],\t\t\n",
    "\tadc.Avg_Days_Priced_To_Sold [Chain_Avg_Days_Priced_To_Sold],\t\n",
    "\tadl.Total_Item_Count [Loc_Total_Item_Count],\t\n",
    "\tadl.Total_Accumulated_Days_With_Trash_Penalty [Loc_Total_Accumulated_Days_With_Trash_Penalty],  \t\n",
    "\tadl.Days_Total_FromCreate [Loc_Days_Total_FromCreate],\t\n",
    "\tadl.Days_Total_Scanned [Loc_Days_Total_Scanned],\t\n",
    "\tadl.Days_Total_Salable_Priced [Loc_Days_Total_Salable_Priced],\t\n",
    "\tadl.Days_Total_Salable_Scanned [Loc_Days_Total_Salable_Scanned],\t\n",
    "\tadl.Days_Total_Salable_Online [Loc_Days_Total_Salable_Online],\t\n",
    "\tadl.Total_Transfers [Loc_Total_Transfers],\t\n",
    "\tadl.Total_Trash_Donate [Loc_Total_Trash_Donate],\t\n",
    "\tadl.Total_Sold [Loc_Total_Sold],\t\n",
    "\tadl.Total_Available [Loc_Total_Available],\t\n",
    "\tadl.Total_Scan_Count [Loc_Total_Scan_Count],\t\n",
    "\tadl.Avg_Price [Loc_Avg_Price],\t\n",
    "\tadl.Avg_Sale_Price [Loc_Avg_Sale_Price],\t\t\n",
    "\tadl.Avg_Days_Priced_To_Sold [Loc_Avg_Days_Priced_To_Sold]\n",
    "FROM BUYS..BuyBinHeader bbh\n",
    "\tINNER JOIN BUYS..BuyBinItems bbi\n",
    "\t\tON bbh.LocationNo = bbi.LocationNo\n",
    "\t\tAND bbh.BuyBinNo = bbi.BuyBinNo\n",
    "\tINNER JOIN BUYS..BuyTypes bt\n",
    "\t\tON bbi.BuyTypeID = bt.BuyTypeID\n",
    "\tINNER JOIN Sandbox..BuyAlgorithm_V1_R3 ba\n",
    "\t\tON bbi.Scoring_ID = ba.OfferID\n",
    "\tINNER JOIN Catalog..titles t\n",
    "\t\tON bbi.CatalogID = t.catalogId\n",
    "\tLEFT OUTER JOIN ReportsData..SipsProductMaster spm\n",
    "\t\tON bbi.SipsID = spm.SipsID\n",
    "\tLEFT OUTER JOIN Sandbox..BuyAlgorithm_AggregateData_Chain adc\n",
    "\t\tON bbi.CatalogID = adc.CatalogID\n",
    "\tLEFT OUTER JOIN Sandbox..BuyAlgorithm_AggregateData_Location adl\n",
    "\t\tON bbi.CatalogID = adl.CatalogID\n",
    "\t\tAND bbi.LocationNo = adl.LocationNo\n",
    "WHERE \n",
    "\tbbi.SuggestedOfferVersion = 'V1.R3' AND\n",
    "\tbbh.StatusCode = 1 AND\n",
    "\tbbi.StatusCode = 1 AND\n",
    "\tbbi.Quantity > 0 AND\n",
    "\tbbi.Quantity < 10000 AND\n",
    "\tbbi.Offer < 10000 AND\n",
    "\tbt.BuyType = @BuyType\n",
    "ORDER BY bbh.LocationNo, bbh.CreateTime\n",
    "'''\n"
   ]
  },
  {
   "cell_type": "code",
   "execution_count": 5,
   "metadata": {},
   "outputs": [],
   "source": [
    "df_BuyTypeMetrics  = fetch_data(query_BuyTypeMetrics, cnxn)\n",
    "df_BuyTypeMetrics.to_csv('./BuyTypeMetrics.csv')"
   ]
  },
  {
   "cell_type": "code",
   "execution_count": null,
   "metadata": {},
   "outputs": [],
   "source": []
  }
 ],
 "metadata": {
  "kernelspec": {
   "display_name": "Python 3",
   "language": "python",
   "name": "python3"
  },
  "language_info": {
   "codemirror_mode": {
    "name": "ipython",
    "version": 3
   },
   "file_extension": ".py",
   "mimetype": "text/x-python",
   "name": "python",
   "nbconvert_exporter": "python",
   "pygments_lexer": "ipython3",
   "version": "3.7.3"
  }
 },
 "nbformat": 4,
 "nbformat_minor": 2
}
