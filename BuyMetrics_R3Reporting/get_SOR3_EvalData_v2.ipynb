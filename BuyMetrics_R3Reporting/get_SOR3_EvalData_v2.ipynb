{
 "cells": [
  {
   "cell_type": "code",
   "execution_count": 2,
   "metadata": {},
   "outputs": [],
   "source": [
    "import pyodbc\n",
    "import numpy as np\n",
    "import pandas as pd"
   ]
  },
  {
   "cell_type": "code",
   "execution_count": 3,
   "metadata": {},
   "outputs": [],
   "source": [
    "sql_driver = 'DRIVER={ODBC Driver 13 for SQL Server};'\n",
    "sql_server = 'SERVER=sage;'\n",
    "sql_db = 'DATABASE=BUYS;'\n",
    "sql_UID = 'Trusted_Connection=yes;'\n",
    "\n",
    "cnxn = pyodbc.connect(sql_driver + sql_server + sql_db + sql_UID)\n",
    "\n",
    "def fetch_data(q, cnxn):\n",
    "    df = pd.read_sql(sql=q, con=cnxn)\n",
    "    return df"
   ]
  },
  {
   "cell_type": "code",
   "execution_count": 4,
   "metadata": {},
   "outputs": [],
   "source": [
    "StartDate = '12/1/2018' #One year will be subtracted from this to start baseline data.\n",
    "# RollingWindowLength = 28\n",
    "\n",
    "# #Subtract one to convert between current-day exclusive and inclusive length for rolling window\n",
    "# RWL_str = str(RollingWindowLength - 1)"
   ]
  },
  {
   "cell_type": "code",
   "execution_count": 5,
   "metadata": {},
   "outputs": [],
   "source": [
    "query_BuyHeaderMetrics = f'''\n",
    "SET NOCOUNT ON\n",
    "SET ANSI_WARNINGS OFF\n",
    "\n",
    "EXEC Sandbox..GET_BuyR3GeneralMetrics_v3 '{StartDate}'\\\n",
    "'''\n",
    "\n",
    "query_RejectedBuyMetrics = f'''\n",
    "SET NOCOUNT ON\n",
    "SET ANSI_WARNINGS OFF\n",
    "\n",
    "EXEC Sandbox..GET_RejectedBuyR3Metrics_v4 '{StartDate}'\\\n",
    "'''\n",
    "\n",
    "query_BuyItemMetrics = f'''\n",
    "SET NOCOUNT ON\n",
    "SET ANSI_WARNINGS OFF\n",
    "\n",
    "EXEC Sandbox..GET_BuyR3ItemMetrics_v4 '{StartDate}'\\\n",
    "'''"
   ]
  },
  {
   "cell_type": "code",
   "execution_count": 6,
   "metadata": {},
   "outputs": [],
   "source": [
    "df_BuyHeaderMetrics  = fetch_data(query_BuyHeaderMetrics, cnxn)\n",
    "df_BuyHeaderMetrics.to_csv('./BuyHeaderMetrics.csv')"
   ]
  },
  {
   "cell_type": "code",
   "execution_count": 7,
   "metadata": {},
   "outputs": [],
   "source": [
    "df_BuyHeaderMetrics  = fetch_data(query_RejectedBuyMetrics, cnxn)\n",
    "df_BuyHeaderMetrics.to_csv('./RejectedBuyMetrics.csv')"
   ]
  },
  {
   "cell_type": "code",
   "execution_count": 8,
   "metadata": {},
   "outputs": [],
   "source": [
    "df_BuyItemMetrics  = fetch_data(query_BuyItemMetrics, cnxn)\n",
    "df_BuyItemMetrics.to_csv('./BuyItemMetrics.csv')\n",
    "cnxn.close()"
   ]
  },
  {
   "cell_type": "code",
   "execution_count": null,
   "metadata": {},
   "outputs": [],
   "source": []
  }
 ],
 "metadata": {
  "kernelspec": {
   "display_name": "Python 3",
   "language": "python",
   "name": "python3"
  },
  "language_info": {
   "codemirror_mode": {
    "name": "ipython",
    "version": 3
   },
   "file_extension": ".py",
   "mimetype": "text/x-python",
   "name": "python",
   "nbconvert_exporter": "python",
   "pygments_lexer": "ipython3",
   "version": "3.7.4"
  }
 },
 "nbformat": 4,
 "nbformat_minor": 2
}
