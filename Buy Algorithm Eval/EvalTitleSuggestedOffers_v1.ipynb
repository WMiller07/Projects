{
 "cells": [
  {
   "cell_type": "code",
   "execution_count": 65,
   "metadata": {},
   "outputs": [],
   "source": [
    "import numpy as np\n",
    "import pandas as pd\n",
    "import matplotlib.pyplot as plt\n",
    "import seaborn as sns\n",
    "import matplotlib.dates as mdates\n",
    "import matplotlib.ticker as mtick\n",
    "from matplotlib.ticker import FormatStrFormatter\n",
    "from matplotlib.lines import Line2D"
   ]
  },
  {
   "cell_type": "code",
   "execution_count": 66,
   "metadata": {},
   "outputs": [],
   "source": [
    "df = pd.read_csv('BuyTitleOfferEval.csv', header=0, index_col=0)"
   ]
  },
  {
   "cell_type": "code",
   "execution_count": 67,
   "metadata": {},
   "outputs": [
    {
     "name": "stdout",
     "output_type": "stream",
     "text": [
      "<class 'pandas.core.frame.DataFrame'>\n",
      "Int64Index: 605100 entries, 0 to 605099\n",
      "Data columns (total 18 columns):\n",
      "CatalogID                605100 non-null int64\n",
      "CatalogBinding           605100 non-null object\n",
      "count_ItemsPriced        605100 non-null int64\n",
      "count_ItemsSold          605100 non-null int64\n",
      "pct_SellThrough          605100 non-null float64\n",
      "Chain_Avg_Sale_Price     605100 non-null float64\n",
      "avg_SalePrice            226982 non-null float64\n",
      "avg_AccDaysCountItems    605100 non-null float64\n",
      "avg_AccDaysSoldItems     605100 non-null float64\n",
      "pred_BuyOfferGrade       605100 non-null object\n",
      "targ_BuyOfferGrade40     605100 non-null object\n",
      "targ_BuyOfferGrade42     605100 non-null object\n",
      "pred_BuyOfferPct         605100 non-null float64\n",
      "targ_BuyOfferPct40       605100 non-null float64\n",
      "targ_BuyOfferPct42       605100 non-null float64\n",
      "pred_SuggestedOffer      605100 non-null float64\n",
      "targ_SuggestedOffer40    226982 non-null float64\n",
      "targ_SuggestedOffer42    226982 non-null float64\n",
      "dtypes: float64(11), int64(3), object(4)\n",
      "memory usage: 87.7+ MB\n"
     ]
    }
   ],
   "source": [
    "df.info()"
   ]
  },
  {
   "cell_type": "code",
   "execution_count": 68,
   "metadata": {},
   "outputs": [],
   "source": [
    "filt_lowitemcount = df['count_ItemsPriced'] >= 5"
   ]
  },
  {
   "cell_type": "code",
   "execution_count": 69,
   "metadata": {},
   "outputs": [
    {
     "data": {
      "text/html": [
       "<div>\n",
       "<style scoped>\n",
       "    .dataframe tbody tr th:only-of-type {\n",
       "        vertical-align: middle;\n",
       "    }\n",
       "\n",
       "    .dataframe tbody tr th {\n",
       "        vertical-align: top;\n",
       "    }\n",
       "\n",
       "    .dataframe thead th {\n",
       "        text-align: right;\n",
       "    }\n",
       "</style>\n",
       "<table border=\"1\" class=\"dataframe\">\n",
       "  <thead>\n",
       "    <tr style=\"text-align: right;\">\n",
       "      <th></th>\n",
       "      <th>count_ItemsPriced</th>\n",
       "      <th>count_ItemsSold</th>\n",
       "      <th>SellThroughPct</th>\n",
       "    </tr>\n",
       "    <tr>\n",
       "      <th>pred_BuyOfferGrade</th>\n",
       "      <th></th>\n",
       "      <th></th>\n",
       "      <th></th>\n",
       "    </tr>\n",
       "  </thead>\n",
       "  <tbody>\n",
       "    <tr>\n",
       "      <th>A</th>\n",
       "      <td>16781</td>\n",
       "      <td>12558</td>\n",
       "      <td>0.748346</td>\n",
       "    </tr>\n",
       "    <tr>\n",
       "      <th>B</th>\n",
       "      <td>141867</td>\n",
       "      <td>90441</td>\n",
       "      <td>0.637506</td>\n",
       "    </tr>\n",
       "    <tr>\n",
       "      <th>C</th>\n",
       "      <td>476335</td>\n",
       "      <td>183048</td>\n",
       "      <td>0.384284</td>\n",
       "    </tr>\n",
       "    <tr>\n",
       "      <th>D</th>\n",
       "      <td>443767</td>\n",
       "      <td>84902</td>\n",
       "      <td>0.191321</td>\n",
       "    </tr>\n",
       "    <tr>\n",
       "      <th>E</th>\n",
       "      <td>174799</td>\n",
       "      <td>23658</td>\n",
       "      <td>0.135344</td>\n",
       "    </tr>\n",
       "  </tbody>\n",
       "</table>\n",
       "</div>"
      ],
      "text/plain": [
       "                    count_ItemsPriced  count_ItemsSold  SellThroughPct\n",
       "pred_BuyOfferGrade                                                    \n",
       "A                               16781            12558        0.748346\n",
       "B                              141867            90441        0.637506\n",
       "C                              476335           183048        0.384284\n",
       "D                              443767            84902        0.191321\n",
       "E                              174799            23658        0.135344"
      ]
     },
     "execution_count": 69,
     "metadata": {},
     "output_type": "execute_result"
    }
   ],
   "source": [
    "df_STpred = df[filt_lowitemcount].groupby('pred_BuyOfferGrade')[['count_ItemsPriced', 'count_ItemsSold']].sum()\n",
    "df_STpred['SellThroughPct'] = df_STpred['count_ItemsSold']/df_STpred['count_ItemsPriced']\n",
    "df_STpred"
   ]
  },
  {
   "cell_type": "code",
   "execution_count": 38,
   "metadata": {},
   "outputs": [
    {
     "data": {
      "text/html": [
       "<div>\n",
       "<style scoped>\n",
       "    .dataframe tbody tr th:only-of-type {\n",
       "        vertical-align: middle;\n",
       "    }\n",
       "\n",
       "    .dataframe tbody tr th {\n",
       "        vertical-align: top;\n",
       "    }\n",
       "\n",
       "    .dataframe thead th {\n",
       "        text-align: right;\n",
       "    }\n",
       "</style>\n",
       "<table border=\"1\" class=\"dataframe\">\n",
       "  <thead>\n",
       "    <tr style=\"text-align: right;\">\n",
       "      <th></th>\n",
       "      <th>count_ItemsPriced</th>\n",
       "      <th>count_ItemsSold</th>\n",
       "      <th>SellThroughPct</th>\n",
       "    </tr>\n",
       "    <tr>\n",
       "      <th>targ_BuyOfferGrade40</th>\n",
       "      <th></th>\n",
       "      <th></th>\n",
       "      <th></th>\n",
       "    </tr>\n",
       "  </thead>\n",
       "  <tbody>\n",
       "    <tr>\n",
       "      <th>A</th>\n",
       "      <td>5490</td>\n",
       "      <td>5308</td>\n",
       "      <td>0.966849</td>\n",
       "    </tr>\n",
       "    <tr>\n",
       "      <th>B</th>\n",
       "      <td>350248</td>\n",
       "      <td>200999</td>\n",
       "      <td>0.573876</td>\n",
       "    </tr>\n",
       "    <tr>\n",
       "      <th>C</th>\n",
       "      <td>897811</td>\n",
       "      <td>188300</td>\n",
       "      <td>0.209732</td>\n",
       "    </tr>\n",
       "  </tbody>\n",
       "</table>\n",
       "</div>"
      ],
      "text/plain": [
       "                      count_ItemsPriced  count_ItemsSold  SellThroughPct\n",
       "targ_BuyOfferGrade40                                                    \n",
       "A                                  5490             5308        0.966849\n",
       "B                                350248           200999        0.573876\n",
       "C                                897811           188300        0.209732"
      ]
     },
     "execution_count": 38,
     "metadata": {},
     "output_type": "execute_result"
    }
   ],
   "source": [
    "df_STtarg = df[filt_lowitemcount].groupby('targ_BuyOfferGrade40')[['count_ItemsPriced', 'count_ItemsSold']].sum()\n",
    "df_STtarg['SellThroughPct'] = df_STtarg['count_ItemsSold']/df_STtarg['count_ItemsPriced']\n",
    "df_STtarg"
   ]
  },
  {
   "cell_type": "code",
   "execution_count": 39,
   "metadata": {},
   "outputs": [],
   "source": [
    "df_pred = df[filt_lowitemcount].groupby(['pred_BuyOfferGrade', 'targ_BuyOfferGrade40'])[['count_ItemsPriced', 'count_ItemsSold', 'pred_SuggestedOffer', 'targ_SuggestedOffer40']].sum()"
   ]
  },
  {
   "cell_type": "code",
   "execution_count": 40,
   "metadata": {},
   "outputs": [],
   "source": [
    "df_allgrades = df_pred.groupby('pred_BuyOfferGrade').sum()\n",
    "df_pred=df_pred.merge(df_allgrades, how='left', left_index=True, right_index=True, suffixes=['','_total'])"
   ]
  },
  {
   "cell_type": "code",
   "execution_count": 41,
   "metadata": {},
   "outputs": [],
   "source": [
    "df_pred.reset_index(inplace=True)"
   ]
  },
  {
   "cell_type": "code",
   "execution_count": 42,
   "metadata": {},
   "outputs": [],
   "source": [
    "df_pred['grade_AccuracyByCount'] = df_pred['count_ItemsPriced'] / df_pred['count_ItemsPriced_total']"
   ]
  },
  {
   "cell_type": "code",
   "execution_count": 43,
   "metadata": {},
   "outputs": [],
   "source": [
    "filt_EqualGrades = df_pred['pred_BuyOfferGrade'] == df_pred['targ_BuyOfferGrade40']\n",
    "#filt_UnequalGrade = df_predcounts['pred_BuyOfferGrade'] != df_predcounts['targ_BuyOfferGrade40']"
   ]
  },
  {
   "cell_type": "code",
   "execution_count": 44,
   "metadata": {},
   "outputs": [
    {
     "data": {
      "text/html": [
       "<div>\n",
       "<style scoped>\n",
       "    .dataframe tbody tr th:only-of-type {\n",
       "        vertical-align: middle;\n",
       "    }\n",
       "\n",
       "    .dataframe tbody tr th {\n",
       "        vertical-align: top;\n",
       "    }\n",
       "\n",
       "    .dataframe thead th {\n",
       "        text-align: right;\n",
       "    }\n",
       "</style>\n",
       "<table border=\"1\" class=\"dataframe\">\n",
       "  <thead>\n",
       "    <tr style=\"text-align: right;\">\n",
       "      <th></th>\n",
       "      <th>pred_BuyOfferGrade</th>\n",
       "      <th>targ_BuyOfferGrade40</th>\n",
       "      <th>count_ItemsPriced</th>\n",
       "      <th>count_ItemsSold</th>\n",
       "      <th>pred_SuggestedOffer</th>\n",
       "      <th>targ_SuggestedOffer40</th>\n",
       "      <th>count_ItemsPriced_total</th>\n",
       "      <th>count_ItemsSold_total</th>\n",
       "      <th>pred_SuggestedOffer_total</th>\n",
       "      <th>targ_SuggestedOffer40_total</th>\n",
       "      <th>grade_AccuracyByCount</th>\n",
       "    </tr>\n",
       "  </thead>\n",
       "  <tbody>\n",
       "    <tr>\n",
       "      <th>0</th>\n",
       "      <td>A</td>\n",
       "      <td>A</td>\n",
       "      <td>3516</td>\n",
       "      <td>3397</td>\n",
       "      <td>535.020880</td>\n",
       "      <td>535.74883</td>\n",
       "      <td>16781</td>\n",
       "      <td>12558</td>\n",
       "      <td>2896.782650</td>\n",
       "      <td>2108.74748</td>\n",
       "      <td>0.209523</td>\n",
       "    </tr>\n",
       "    <tr>\n",
       "      <th>1</th>\n",
       "      <td>A</td>\n",
       "      <td>B</td>\n",
       "      <td>11168</td>\n",
       "      <td>8438</td>\n",
       "      <td>1892.777840</td>\n",
       "      <td>1387.53889</td>\n",
       "      <td>16781</td>\n",
       "      <td>12558</td>\n",
       "      <td>2896.782650</td>\n",
       "      <td>2108.74748</td>\n",
       "      <td>0.665515</td>\n",
       "    </tr>\n",
       "    <tr>\n",
       "      <th>2</th>\n",
       "      <td>A</td>\n",
       "      <td>C</td>\n",
       "      <td>2097</td>\n",
       "      <td>723</td>\n",
       "      <td>468.983930</td>\n",
       "      <td>185.45976</td>\n",
       "      <td>16781</td>\n",
       "      <td>12558</td>\n",
       "      <td>2896.782650</td>\n",
       "      <td>2108.74748</td>\n",
       "      <td>0.124963</td>\n",
       "    </tr>\n",
       "    <tr>\n",
       "      <th>3</th>\n",
       "      <td>B</td>\n",
       "      <td>A</td>\n",
       "      <td>1605</td>\n",
       "      <td>1559</td>\n",
       "      <td>488.189340</td>\n",
       "      <td>652.16055</td>\n",
       "      <td>141867</td>\n",
       "      <td>90441</td>\n",
       "      <td>20385.873060</td>\n",
       "      <td>18181.52499</td>\n",
       "      <td>0.011313</td>\n",
       "    </tr>\n",
       "    <tr>\n",
       "      <th>4</th>\n",
       "      <td>B</td>\n",
       "      <td>B</td>\n",
       "      <td>114919</td>\n",
       "      <td>80439</td>\n",
       "      <td>14572.609910</td>\n",
       "      <td>14440.13015</td>\n",
       "      <td>141867</td>\n",
       "      <td>90441</td>\n",
       "      <td>20385.873060</td>\n",
       "      <td>18181.52499</td>\n",
       "      <td>0.810047</td>\n",
       "    </tr>\n",
       "    <tr>\n",
       "      <th>5</th>\n",
       "      <td>B</td>\n",
       "      <td>C</td>\n",
       "      <td>25343</td>\n",
       "      <td>8443</td>\n",
       "      <td>5325.073810</td>\n",
       "      <td>3089.23429</td>\n",
       "      <td>141867</td>\n",
       "      <td>90441</td>\n",
       "      <td>20385.873060</td>\n",
       "      <td>18181.52499</td>\n",
       "      <td>0.178639</td>\n",
       "    </tr>\n",
       "    <tr>\n",
       "      <th>6</th>\n",
       "      <td>C</td>\n",
       "      <td>A</td>\n",
       "      <td>369</td>\n",
       "      <td>352</td>\n",
       "      <td>25.921590</td>\n",
       "      <td>70.99812</td>\n",
       "      <td>476335</td>\n",
       "      <td>183048</td>\n",
       "      <td>37946.434420</td>\n",
       "      <td>43451.66794</td>\n",
       "      <td>0.000775</td>\n",
       "    </tr>\n",
       "    <tr>\n",
       "      <th>7</th>\n",
       "      <td>C</td>\n",
       "      <td>B</td>\n",
       "      <td>178660</td>\n",
       "      <td>95031</td>\n",
       "      <td>13675.096710</td>\n",
       "      <td>21849.49427</td>\n",
       "      <td>476335</td>\n",
       "      <td>183048</td>\n",
       "      <td>37946.434420</td>\n",
       "      <td>43451.66794</td>\n",
       "      <td>0.375072</td>\n",
       "    </tr>\n",
       "    <tr>\n",
       "      <th>8</th>\n",
       "      <td>C</td>\n",
       "      <td>C</td>\n",
       "      <td>297306</td>\n",
       "      <td>87665</td>\n",
       "      <td>24245.416120</td>\n",
       "      <td>21531.17555</td>\n",
       "      <td>476335</td>\n",
       "      <td>183048</td>\n",
       "      <td>37946.434420</td>\n",
       "      <td>43451.66794</td>\n",
       "      <td>0.624153</td>\n",
       "    </tr>\n",
       "    <tr>\n",
       "      <th>9</th>\n",
       "      <td>D</td>\n",
       "      <td>B</td>\n",
       "      <td>35766</td>\n",
       "      <td>13944</td>\n",
       "      <td>1009.761600</td>\n",
       "      <td>6814.82273</td>\n",
       "      <td>443767</td>\n",
       "      <td>84902</td>\n",
       "      <td>8487.585055</td>\n",
       "      <td>32522.01959</td>\n",
       "      <td>0.080596</td>\n",
       "    </tr>\n",
       "    <tr>\n",
       "      <th>10</th>\n",
       "      <td>D</td>\n",
       "      <td>C</td>\n",
       "      <td>408001</td>\n",
       "      <td>70958</td>\n",
       "      <td>7477.823455</td>\n",
       "      <td>25707.19686</td>\n",
       "      <td>443767</td>\n",
       "      <td>84902</td>\n",
       "      <td>8487.585055</td>\n",
       "      <td>32522.01959</td>\n",
       "      <td>0.919404</td>\n",
       "    </tr>\n",
       "    <tr>\n",
       "      <th>11</th>\n",
       "      <td>E</td>\n",
       "      <td>B</td>\n",
       "      <td>9735</td>\n",
       "      <td>3147</td>\n",
       "      <td>0.000000</td>\n",
       "      <td>1319.47082</td>\n",
       "      <td>174799</td>\n",
       "      <td>23658</td>\n",
       "      <td>0.000000</td>\n",
       "      <td>8787.65021</td>\n",
       "      <td>0.055693</td>\n",
       "    </tr>\n",
       "    <tr>\n",
       "      <th>12</th>\n",
       "      <td>E</td>\n",
       "      <td>C</td>\n",
       "      <td>165064</td>\n",
       "      <td>20511</td>\n",
       "      <td>0.000000</td>\n",
       "      <td>7468.17939</td>\n",
       "      <td>174799</td>\n",
       "      <td>23658</td>\n",
       "      <td>0.000000</td>\n",
       "      <td>8787.65021</td>\n",
       "      <td>0.944307</td>\n",
       "    </tr>\n",
       "  </tbody>\n",
       "</table>\n",
       "</div>"
      ],
      "text/plain": [
       "   pred_BuyOfferGrade targ_BuyOfferGrade40  count_ItemsPriced  \\\n",
       "0                   A                    A               3516   \n",
       "1                   A                    B              11168   \n",
       "2                   A                    C               2097   \n",
       "3                   B                    A               1605   \n",
       "4                   B                    B             114919   \n",
       "5                   B                    C              25343   \n",
       "6                   C                    A                369   \n",
       "7                   C                    B             178660   \n",
       "8                   C                    C             297306   \n",
       "9                   D                    B              35766   \n",
       "10                  D                    C             408001   \n",
       "11                  E                    B               9735   \n",
       "12                  E                    C             165064   \n",
       "\n",
       "    count_ItemsSold  pred_SuggestedOffer  targ_SuggestedOffer40  \\\n",
       "0              3397           535.020880              535.74883   \n",
       "1              8438          1892.777840             1387.53889   \n",
       "2               723           468.983930              185.45976   \n",
       "3              1559           488.189340              652.16055   \n",
       "4             80439         14572.609910            14440.13015   \n",
       "5              8443          5325.073810             3089.23429   \n",
       "6               352            25.921590               70.99812   \n",
       "7             95031         13675.096710            21849.49427   \n",
       "8             87665         24245.416120            21531.17555   \n",
       "9             13944          1009.761600             6814.82273   \n",
       "10            70958          7477.823455            25707.19686   \n",
       "11             3147             0.000000             1319.47082   \n",
       "12            20511             0.000000             7468.17939   \n",
       "\n",
       "    count_ItemsPriced_total  count_ItemsSold_total  pred_SuggestedOffer_total  \\\n",
       "0                     16781                  12558                2896.782650   \n",
       "1                     16781                  12558                2896.782650   \n",
       "2                     16781                  12558                2896.782650   \n",
       "3                    141867                  90441               20385.873060   \n",
       "4                    141867                  90441               20385.873060   \n",
       "5                    141867                  90441               20385.873060   \n",
       "6                    476335                 183048               37946.434420   \n",
       "7                    476335                 183048               37946.434420   \n",
       "8                    476335                 183048               37946.434420   \n",
       "9                    443767                  84902                8487.585055   \n",
       "10                   443767                  84902                8487.585055   \n",
       "11                   174799                  23658                   0.000000   \n",
       "12                   174799                  23658                   0.000000   \n",
       "\n",
       "    targ_SuggestedOffer40_total  grade_AccuracyByCount  \n",
       "0                    2108.74748               0.209523  \n",
       "1                    2108.74748               0.665515  \n",
       "2                    2108.74748               0.124963  \n",
       "3                   18181.52499               0.011313  \n",
       "4                   18181.52499               0.810047  \n",
       "5                   18181.52499               0.178639  \n",
       "6                   43451.66794               0.000775  \n",
       "7                   43451.66794               0.375072  \n",
       "8                   43451.66794               0.624153  \n",
       "9                   32522.01959               0.080596  \n",
       "10                  32522.01959               0.919404  \n",
       "11                   8787.65021               0.055693  \n",
       "12                   8787.65021               0.944307  "
      ]
     },
     "execution_count": 44,
     "metadata": {},
     "output_type": "execute_result"
    }
   ],
   "source": [
    "df_pred"
   ]
  },
  {
   "cell_type": "code",
   "execution_count": 45,
   "metadata": {},
   "outputs": [],
   "source": [
    "sns.set_style('whitegrid')"
   ]
  },
  {
   "cell_type": "code",
   "execution_count": 46,
   "metadata": {},
   "outputs": [
    {
     "data": {
      "text/plain": [
       "0     0.209523\n",
       "1     0.665515\n",
       "2     0.124963\n",
       "3     0.011313\n",
       "4     0.810047\n",
       "5     0.178639\n",
       "6     0.000775\n",
       "7     0.375072\n",
       "8     0.624153\n",
       "9     0.080596\n",
       "10    0.919404\n",
       "11    0.055693\n",
       "12    0.944307\n",
       "dtype: float64"
      ]
     },
     "execution_count": 46,
     "metadata": {},
     "output_type": "execute_result"
    }
   ],
   "source": [
    "df_pred['count_ItemsPriced']/df_pred['count_ItemsPriced_total']"
   ]
  },
  {
   "cell_type": "code",
   "execution_count": 47,
   "metadata": {},
   "outputs": [
    {
     "data": {
      "image/png": "[encoded data removed]",
      "text/plain": [
       "<Figure size 576x432 with 1 Axes>"
      ]
     },
     "metadata": {},
     "output_type": "display_data"
    }
   ],
   "source": [
    "fig, ax = plt.subplots(figsize = (8, 6))\n",
    "sns.barplot(x=df_pred[filt_EqualGrades]['pred_BuyOfferGrade'],\n",
    "            y=df_pred[filt_EqualGrades]['count_ItemsPriced']/df_pred[filt_EqualGrades]['count_ItemsPriced_total'],\n",
    "            palette='Set1', alpha=0.8,\n",
    "            ax=ax, label='Buy Grades')\n",
    "ax.set_ylim([0,1])\n",
    "ax.set_xlabel('R4.0 Predicted Buy Grade', fontsize=14)\n",
    "ax.set_ylabel('Grade Prediction % Accuracy', fontsize=14)\n",
    "ax.set_xticklabels(ax.get_xticklabels(),fontsize=12)\n",
    "ax.set_yticklabels(ax.get_yticklabels(),fontsize=12)\n",
    "ax.set_yticklabels(['{:0.0f}%'.format(t*100) for t in ax.get_yticks()])\n",
    "\n",
    "ax.set_title('R4.0 Grade Prediction Accuracy (n >= 3)', fontsize=16)\n",
    "#ax.legend(loc='upper right', bbox_to_anchor=(1.12, 0.7), title='Buy Grades', prop=dict(size=12))\n",
    "plt.show()"
   ]
  },
  {
   "cell_type": "code",
   "execution_count": 48,
   "metadata": {
    "scrolled": true
   },
   "outputs": [
    {
     "data": {
      "image/png": "[encoded data removed]",
      "text/plain": [
       "<Figure size 864x432 with 1 Axes>"
      ]
     },
     "metadata": {},
     "output_type": "display_data"
    }
   ],
   "source": [
    "fig, ax = plt.subplots(figsize = (12, 6))\n",
    "sns.barplot(x=df_pred[filt_EqualGrades]['pred_BuyOfferGrade'],\n",
    "            y=df_pred[filt_EqualGrades]['count_ItemsPriced_total'],\n",
    "            palette='Set1', alpha=0.6,\n",
    "            ax=ax)\n",
    "\n",
    "sns.barplot(x=df_pred['pred_BuyOfferGrade'],\n",
    "            y=df_pred['count_ItemsPriced'],\n",
    "            hue=df_pred['targ_BuyOfferGrade40'], \n",
    "            palette='Set1', \n",
    "            ax=ax)\n",
    "\n",
    "ax.set_xlabel('R4.0 Predicted Buy Grade', fontsize=14)\n",
    "ax.set_ylabel('Priced Item Count', fontsize=14)\n",
    "ax.set_xticklabels(ax.get_xticklabels(),fontsize=12)\n",
    "ax.set_yticklabels(ax.get_yticklabels(),fontsize=12)\n",
    "ax.set_yticklabels(['{:,.0f}'.format(t) for t in ax.get_yticks()])\n",
    "\n",
    "ax.set_title('R4.0 Grade Prediction Accuracy (n >= 3)', fontsize=16)\n",
    "\n",
    "ax.legend(loc='upper right', bbox_to_anchor=(1.12, 0.7), title='Buy Grades', prop=dict(size=12))\n",
    "plt.show()"
   ]
  },
  {
   "cell_type": "code",
   "execution_count": 49,
   "metadata": {},
   "outputs": [],
   "source": [
    "filt_itemcount1 = df['count_ItemsPriced'] >= 1\n",
    "df_pred_1 = df[filt_itemcount1].groupby(['pred_BuyOfferGrade', 'targ_BuyOfferGrade40'])[['count_ItemsPriced', 'count_ItemsSold', 'pred_SuggestedOffer', 'targ_SuggestedOffer40']].sum()\n",
    "df_allgrades_1 = df_pred_1.groupby('pred_BuyOfferGrade').sum()\n",
    "df_pred_1=df_pred_1.merge(df_allgrades_1, how='left', left_index=True, right_index=True, suffixes=['','_total'])\n",
    "df_pred_1.reset_index(inplace=True)\n",
    "df_pred_1['grade_AccuracyByCount'] = df_pred_1['count_ItemsPriced'] / df_pred_1['count_ItemsPriced_total']"
   ]
  },
  {
   "cell_type": "code",
   "execution_count": 50,
   "metadata": {},
   "outputs": [],
   "source": [
    "filt_EqualGrades_1 = df_pred_1['pred_BuyOfferGrade'] == df_pred_1['targ_BuyOfferGrade40']"
   ]
  },
  {
   "cell_type": "code",
   "execution_count": 192,
   "metadata": {},
   "outputs": [
    {
     "data": {
      "text/plain": [
       "2104599"
      ]
     },
     "execution_count": 192,
     "metadata": {},
     "output_type": "execute_result"
    }
   ],
   "source": [
    "df_pred_1['count_ItemsPriced'].sum()"
   ]
  },
  {
   "cell_type": "code",
   "execution_count": 51,
   "metadata": {},
   "outputs": [
    {
     "data": {
      "image/png": "[encoded data removed]",
      "text/plain": [
       "<Figure size 576x432 with 1 Axes>"
      ]
     },
     "metadata": {},
     "output_type": "display_data"
    }
   ],
   "source": [
    "fig, ax = plt.subplots(figsize = (8, 6))\n",
    "sns.barplot(x=df_pred_1[filt_EqualGrades_1]['pred_BuyOfferGrade'],\n",
    "            y=df_pred_1[filt_EqualGrades_1]['count_ItemsPriced']/df_pred_1[filt_EqualGrades_1]['count_ItemsPriced_total'],\n",
    "            palette='Set1', alpha=0.8,\n",
    "            ax=ax, label='Buy Grades')\n",
    "ax.set_ylim([0,1])\n",
    "ax.set_xlabel('R4.0 Predicted Buy Grade', fontsize=14)\n",
    "ax.set_ylabel('Grade Prediction % Accuracy', fontsize=14)\n",
    "ax.set_xticklabels(ax.get_xticklabels(),fontsize=12)\n",
    "ax.set_yticklabels(ax.get_yticklabels(),fontsize=12)\n",
    "ax.set_yticklabels(['{:0.0f}%'.format(t*100) for t in ax.get_yticks()])\n",
    "\n",
    "ax.set_title('R4.0 Grade Prediction Accuracy (n >= 1)', fontsize=16)\n",
    "#ax.legend(loc='upper right', bbox_to_anchor=(1.12, 0.7), title='Buy Grades', prop=dict(size=12))\n",
    "plt.show()"
   ]
  },
  {
   "cell_type": "code",
   "execution_count": 52,
   "metadata": {},
   "outputs": [
    {
     "data": {
      "image/png": "[encoded data removed]",
      "text/plain": [
       "<Figure size 864x432 with 1 Axes>"
      ]
     },
     "metadata": {},
     "output_type": "display_data"
    }
   ],
   "source": [
    "fig, ax = plt.subplots(figsize = (12, 6))\n",
    "sns.barplot(x=df_pred_1[filt_EqualGrades_1]['pred_BuyOfferGrade'],\n",
    "            y=df_pred_1[filt_EqualGrades_1]['count_ItemsPriced_total'],\n",
    "            palette='Set1', alpha=0.6,\n",
    "            ax=ax)\n",
    "\n",
    "sns.barplot(x=df_pred_1['pred_BuyOfferGrade'],\n",
    "            y=df_pred_1['count_ItemsPriced'],\n",
    "            hue=df_pred_1['targ_BuyOfferGrade40'], \n",
    "            palette='Set1', \n",
    "            ax=ax)\n",
    "\n",
    "ax.set_xlabel('R4.0 Predicted Buy Grade', fontsize=14)\n",
    "ax.set_ylabel('Priced Item Count', fontsize=14)\n",
    "ax.set_xticklabels(ax.get_xticklabels(),fontsize=12)\n",
    "ax.set_yticklabels(ax.get_yticklabels(),fontsize=12)\n",
    "ax.set_yticklabels(['{:,.0f}'.format(t) for t in ax.get_yticks()])\n",
    "\n",
    "ax.set_title('R4.0 Grade Prediction Accuracy (n >= 1)', fontsize=16)\n",
    "\n",
    "ax.legend(loc='upper right', bbox_to_anchor=(1.12, 0.7), title='Buy Grades', prop=dict(size=12))\n",
    "plt.show()"
   ]
  },
  {
   "cell_type": "code",
   "execution_count": 53,
   "metadata": {},
   "outputs": [
    {
     "data": {
      "text/plain": [
       "0     0.220376\n",
       "1     0.617345\n",
       "2     0.162279\n",
       "3     0.045376\n",
       "4     0.719242\n",
       "5     0.235382\n",
       "6     0.015981\n",
       "7     0.364572\n",
       "8     0.619447\n",
       "9     0.009012\n",
       "10    0.135792\n",
       "11    0.855197\n",
       "12    0.008531\n",
       "13    0.121745\n",
       "14    0.869724\n",
       "dtype: float64"
      ]
     },
     "execution_count": 53,
     "metadata": {},
     "output_type": "execute_result"
    }
   ],
   "source": [
    "df_pred_1['count_ItemsPriced']/df_pred_1['count_ItemsPriced_total']"
   ]
  },
  {
   "cell_type": "code",
   "execution_count": 54,
   "metadata": {},
   "outputs": [
    {
     "data": {
      "text/html": [
       "<div>\n",
       "<style scoped>\n",
       "    .dataframe tbody tr th:only-of-type {\n",
       "        vertical-align: middle;\n",
       "    }\n",
       "\n",
       "    .dataframe tbody tr th {\n",
       "        vertical-align: top;\n",
       "    }\n",
       "\n",
       "    .dataframe thead th {\n",
       "        text-align: right;\n",
       "    }\n",
       "</style>\n",
       "<table border=\"1\" class=\"dataframe\">\n",
       "  <thead>\n",
       "    <tr style=\"text-align: right;\">\n",
       "      <th></th>\n",
       "      <th>pred_BuyOfferGrade</th>\n",
       "      <th>targ_BuyOfferGrade40</th>\n",
       "      <th>count_ItemsPriced</th>\n",
       "      <th>count_ItemsSold</th>\n",
       "      <th>pred_SuggestedOffer</th>\n",
       "      <th>targ_SuggestedOffer40</th>\n",
       "      <th>count_ItemsPriced_total</th>\n",
       "      <th>count_ItemsSold_total</th>\n",
       "      <th>pred_SuggestedOffer_total</th>\n",
       "      <th>targ_SuggestedOffer40_total</th>\n",
       "      <th>grade_AccuracyByCount</th>\n",
       "    </tr>\n",
       "  </thead>\n",
       "  <tbody>\n",
       "    <tr>\n",
       "      <th>0</th>\n",
       "      <td>A</td>\n",
       "      <td>A</td>\n",
       "      <td>3516</td>\n",
       "      <td>3397</td>\n",
       "      <td>535.020880</td>\n",
       "      <td>535.74883</td>\n",
       "      <td>16781</td>\n",
       "      <td>12558</td>\n",
       "      <td>2896.782650</td>\n",
       "      <td>2108.74748</td>\n",
       "      <td>0.209523</td>\n",
       "    </tr>\n",
       "    <tr>\n",
       "      <th>1</th>\n",
       "      <td>A</td>\n",
       "      <td>B</td>\n",
       "      <td>11168</td>\n",
       "      <td>8438</td>\n",
       "      <td>1892.777840</td>\n",
       "      <td>1387.53889</td>\n",
       "      <td>16781</td>\n",
       "      <td>12558</td>\n",
       "      <td>2896.782650</td>\n",
       "      <td>2108.74748</td>\n",
       "      <td>0.665515</td>\n",
       "    </tr>\n",
       "    <tr>\n",
       "      <th>2</th>\n",
       "      <td>A</td>\n",
       "      <td>C</td>\n",
       "      <td>2097</td>\n",
       "      <td>723</td>\n",
       "      <td>468.983930</td>\n",
       "      <td>185.45976</td>\n",
       "      <td>16781</td>\n",
       "      <td>12558</td>\n",
       "      <td>2896.782650</td>\n",
       "      <td>2108.74748</td>\n",
       "      <td>0.124963</td>\n",
       "    </tr>\n",
       "    <tr>\n",
       "      <th>3</th>\n",
       "      <td>B</td>\n",
       "      <td>A</td>\n",
       "      <td>1605</td>\n",
       "      <td>1559</td>\n",
       "      <td>488.189340</td>\n",
       "      <td>652.16055</td>\n",
       "      <td>141867</td>\n",
       "      <td>90441</td>\n",
       "      <td>20385.873060</td>\n",
       "      <td>18181.52499</td>\n",
       "      <td>0.011313</td>\n",
       "    </tr>\n",
       "    <tr>\n",
       "      <th>4</th>\n",
       "      <td>B</td>\n",
       "      <td>B</td>\n",
       "      <td>114919</td>\n",
       "      <td>80439</td>\n",
       "      <td>14572.609910</td>\n",
       "      <td>14440.13015</td>\n",
       "      <td>141867</td>\n",
       "      <td>90441</td>\n",
       "      <td>20385.873060</td>\n",
       "      <td>18181.52499</td>\n",
       "      <td>0.810047</td>\n",
       "    </tr>\n",
       "    <tr>\n",
       "      <th>5</th>\n",
       "      <td>B</td>\n",
       "      <td>C</td>\n",
       "      <td>25343</td>\n",
       "      <td>8443</td>\n",
       "      <td>5325.073810</td>\n",
       "      <td>3089.23429</td>\n",
       "      <td>141867</td>\n",
       "      <td>90441</td>\n",
       "      <td>20385.873060</td>\n",
       "      <td>18181.52499</td>\n",
       "      <td>0.178639</td>\n",
       "    </tr>\n",
       "    <tr>\n",
       "      <th>6</th>\n",
       "      <td>C</td>\n",
       "      <td>A</td>\n",
       "      <td>369</td>\n",
       "      <td>352</td>\n",
       "      <td>25.921590</td>\n",
       "      <td>70.99812</td>\n",
       "      <td>476335</td>\n",
       "      <td>183048</td>\n",
       "      <td>37946.434420</td>\n",
       "      <td>43451.66794</td>\n",
       "      <td>0.000775</td>\n",
       "    </tr>\n",
       "    <tr>\n",
       "      <th>7</th>\n",
       "      <td>C</td>\n",
       "      <td>B</td>\n",
       "      <td>178660</td>\n",
       "      <td>95031</td>\n",
       "      <td>13675.096710</td>\n",
       "      <td>21849.49427</td>\n",
       "      <td>476335</td>\n",
       "      <td>183048</td>\n",
       "      <td>37946.434420</td>\n",
       "      <td>43451.66794</td>\n",
       "      <td>0.375072</td>\n",
       "    </tr>\n",
       "    <tr>\n",
       "      <th>8</th>\n",
       "      <td>C</td>\n",
       "      <td>C</td>\n",
       "      <td>297306</td>\n",
       "      <td>87665</td>\n",
       "      <td>24245.416120</td>\n",
       "      <td>21531.17555</td>\n",
       "      <td>476335</td>\n",
       "      <td>183048</td>\n",
       "      <td>37946.434420</td>\n",
       "      <td>43451.66794</td>\n",
       "      <td>0.624153</td>\n",
       "    </tr>\n",
       "    <tr>\n",
       "      <th>9</th>\n",
       "      <td>D</td>\n",
       "      <td>B</td>\n",
       "      <td>35766</td>\n",
       "      <td>13944</td>\n",
       "      <td>1009.761600</td>\n",
       "      <td>6814.82273</td>\n",
       "      <td>443767</td>\n",
       "      <td>84902</td>\n",
       "      <td>8487.585055</td>\n",
       "      <td>32522.01959</td>\n",
       "      <td>0.080596</td>\n",
       "    </tr>\n",
       "    <tr>\n",
       "      <th>10</th>\n",
       "      <td>D</td>\n",
       "      <td>C</td>\n",
       "      <td>408001</td>\n",
       "      <td>70958</td>\n",
       "      <td>7477.823455</td>\n",
       "      <td>25707.19686</td>\n",
       "      <td>443767</td>\n",
       "      <td>84902</td>\n",
       "      <td>8487.585055</td>\n",
       "      <td>32522.01959</td>\n",
       "      <td>0.919404</td>\n",
       "    </tr>\n",
       "    <tr>\n",
       "      <th>11</th>\n",
       "      <td>E</td>\n",
       "      <td>B</td>\n",
       "      <td>9735</td>\n",
       "      <td>3147</td>\n",
       "      <td>0.000000</td>\n",
       "      <td>1319.47082</td>\n",
       "      <td>174799</td>\n",
       "      <td>23658</td>\n",
       "      <td>0.000000</td>\n",
       "      <td>8787.65021</td>\n",
       "      <td>0.055693</td>\n",
       "    </tr>\n",
       "    <tr>\n",
       "      <th>12</th>\n",
       "      <td>E</td>\n",
       "      <td>C</td>\n",
       "      <td>165064</td>\n",
       "      <td>20511</td>\n",
       "      <td>0.000000</td>\n",
       "      <td>7468.17939</td>\n",
       "      <td>174799</td>\n",
       "      <td>23658</td>\n",
       "      <td>0.000000</td>\n",
       "      <td>8787.65021</td>\n",
       "      <td>0.944307</td>\n",
       "    </tr>\n",
       "  </tbody>\n",
       "</table>\n",
       "</div>"
      ],
      "text/plain": [
       "   pred_BuyOfferGrade targ_BuyOfferGrade40  count_ItemsPriced  \\\n",
       "0                   A                    A               3516   \n",
       "1                   A                    B              11168   \n",
       "2                   A                    C               2097   \n",
       "3                   B                    A               1605   \n",
       "4                   B                    B             114919   \n",
       "5                   B                    C              25343   \n",
       "6                   C                    A                369   \n",
       "7                   C                    B             178660   \n",
       "8                   C                    C             297306   \n",
       "9                   D                    B              35766   \n",
       "10                  D                    C             408001   \n",
       "11                  E                    B               9735   \n",
       "12                  E                    C             165064   \n",
       "\n",
       "    count_ItemsSold  pred_SuggestedOffer  targ_SuggestedOffer40  \\\n",
       "0              3397           535.020880              535.74883   \n",
       "1              8438          1892.777840             1387.53889   \n",
       "2               723           468.983930              185.45976   \n",
       "3              1559           488.189340              652.16055   \n",
       "4             80439         14572.609910            14440.13015   \n",
       "5              8443          5325.073810             3089.23429   \n",
       "6               352            25.921590               70.99812   \n",
       "7             95031         13675.096710            21849.49427   \n",
       "8             87665         24245.416120            21531.17555   \n",
       "9             13944          1009.761600             6814.82273   \n",
       "10            70958          7477.823455            25707.19686   \n",
       "11             3147             0.000000             1319.47082   \n",
       "12            20511             0.000000             7468.17939   \n",
       "\n",
       "    count_ItemsPriced_total  count_ItemsSold_total  pred_SuggestedOffer_total  \\\n",
       "0                     16781                  12558                2896.782650   \n",
       "1                     16781                  12558                2896.782650   \n",
       "2                     16781                  12558                2896.782650   \n",
       "3                    141867                  90441               20385.873060   \n",
       "4                    141867                  90441               20385.873060   \n",
       "5                    141867                  90441               20385.873060   \n",
       "6                    476335                 183048               37946.434420   \n",
       "7                    476335                 183048               37946.434420   \n",
       "8                    476335                 183048               37946.434420   \n",
       "9                    443767                  84902                8487.585055   \n",
       "10                   443767                  84902                8487.585055   \n",
       "11                   174799                  23658                   0.000000   \n",
       "12                   174799                  23658                   0.000000   \n",
       "\n",
       "    targ_SuggestedOffer40_total  grade_AccuracyByCount  \n",
       "0                    2108.74748               0.209523  \n",
       "1                    2108.74748               0.665515  \n",
       "2                    2108.74748               0.124963  \n",
       "3                   18181.52499               0.011313  \n",
       "4                   18181.52499               0.810047  \n",
       "5                   18181.52499               0.178639  \n",
       "6                   43451.66794               0.000775  \n",
       "7                   43451.66794               0.375072  \n",
       "8                   43451.66794               0.624153  \n",
       "9                   32522.01959               0.080596  \n",
       "10                  32522.01959               0.919404  \n",
       "11                   8787.65021               0.055693  \n",
       "12                   8787.65021               0.944307  "
      ]
     },
     "execution_count": 54,
     "metadata": {},
     "output_type": "execute_result"
    }
   ],
   "source": [
    "df_pred"
   ]
  },
  {
   "cell_type": "code",
   "execution_count": 55,
   "metadata": {},
   "outputs": [],
   "source": [
    "arr_CostPred = df_pred_1.groupby('pred_BuyOfferGrade')['pred_SuggestedOffer_total'].sum()\n",
    "arr_CostTarg = df_pred_1.groupby('targ_BuyOfferGrade40')['targ_SuggestedOffer40_total'].sum()\n",
    "df_Cost = pd.DataFrame(index=arr_CostPred.index)\n",
    "df_Cost['targ_SuggestedOffer'] = df_pred_1[filt_EqualGrades_1].groupby('pred_BuyOfferGrade')['pred_SuggestedOffer_total'].sum()\n",
    "df_Cost['pred_SuggestedOffer'] = df_pred_1[filt_EqualGrades_1].groupby('targ_BuyOfferGrade40')['targ_SuggestedOffer40_total'].sum()\n",
    "df_Cost.fillna(0, inplace=True)"
   ]
  },
  {
   "cell_type": "code",
   "execution_count": 56,
   "metadata": {},
   "outputs": [
    {
     "data": {
      "text/html": [
       "<div>\n",
       "<style scoped>\n",
       "    .dataframe tbody tr th:only-of-type {\n",
       "        vertical-align: middle;\n",
       "    }\n",
       "\n",
       "    .dataframe tbody tr th {\n",
       "        vertical-align: top;\n",
       "    }\n",
       "\n",
       "    .dataframe thead th {\n",
       "        text-align: right;\n",
       "    }\n",
       "</style>\n",
       "<table border=\"1\" class=\"dataframe\">\n",
       "  <thead>\n",
       "    <tr style=\"text-align: right;\">\n",
       "      <th></th>\n",
       "      <th>Actual Grade Cost</th>\n",
       "      <th>Predicted Grade Cost</th>\n",
       "    </tr>\n",
       "    <tr>\n",
       "      <th>pred_BuyOfferGrade</th>\n",
       "      <th></th>\n",
       "      <th></th>\n",
       "    </tr>\n",
       "  </thead>\n",
       "  <tbody>\n",
       "    <tr>\n",
       "      <th>A</th>\n",
       "      <td>25804.18873</td>\n",
       "      <td>14304.14005</td>\n",
       "    </tr>\n",
       "    <tr>\n",
       "      <th>B</th>\n",
       "      <td>131868.29718</td>\n",
       "      <td>92552.69204</td>\n",
       "    </tr>\n",
       "    <tr>\n",
       "      <th>C</th>\n",
       "      <td>231607.74127</td>\n",
       "      <td>181228.72398</td>\n",
       "    </tr>\n",
       "    <tr>\n",
       "      <th>D</th>\n",
       "      <td>0.00000</td>\n",
       "      <td>56459.28051</td>\n",
       "    </tr>\n",
       "    <tr>\n",
       "      <th>E</th>\n",
       "      <td>0.00000</td>\n",
       "      <td>0.00000</td>\n",
       "    </tr>\n",
       "  </tbody>\n",
       "</table>\n",
       "</div>"
      ],
      "text/plain": [
       "                    Actual Grade Cost  Predicted Grade Cost\n",
       "pred_BuyOfferGrade                                         \n",
       "A                         25804.18873           14304.14005\n",
       "B                        131868.29718           92552.69204\n",
       "C                        231607.74127          181228.72398\n",
       "D                             0.00000           56459.28051\n",
       "E                             0.00000               0.00000"
      ]
     },
     "execution_count": 56,
     "metadata": {},
     "output_type": "execute_result"
    }
   ],
   "source": [
    "filt_GradeDTotalCost = (df_pred_1['pred_BuyOfferGrade'] == 'D') & (df_pred_1['targ_BuyOfferGrade40'] == 'C')\n",
    "filt_GradeETotalCost = (df_pred_1['pred_BuyOfferGrade'] == 'E') & (df_pred_1['targ_BuyOfferGrade40'] == 'C')\n",
    "df_Cost.rename(columns={'pred_SuggestedOffer':'Predicted Grade Cost', 'targ_SuggestedOffer': 'Actual Grade Cost'}, inplace=True)\n",
    "df_Cost.at['D', 'Predicted Grade Cost'] = df_pred_1[filt_GradeDTotalCost]['pred_SuggestedOffer_total']\n",
    "#df_Cost.at['E', 'Predicted Grade Cost'] = df_pred[filt_GradeETotalCost]['pred_SuggestedOffer_total']\n",
    "df_Cost"
   ]
  },
  {
   "cell_type": "code",
   "execution_count": 57,
   "metadata": {},
   "outputs": [
    {
     "data": {
      "text/html": [
       "<div>\n",
       "<style scoped>\n",
       "    .dataframe tbody tr th:only-of-type {\n",
       "        vertical-align: middle;\n",
       "    }\n",
       "\n",
       "    .dataframe tbody tr th {\n",
       "        vertical-align: top;\n",
       "    }\n",
       "\n",
       "    .dataframe thead th {\n",
       "        text-align: right;\n",
       "    }\n",
       "</style>\n",
       "<table border=\"1\" class=\"dataframe\">\n",
       "  <thead>\n",
       "    <tr style=\"text-align: right;\">\n",
       "      <th></th>\n",
       "      <th>pred_BuyOfferGrade</th>\n",
       "      <th>variable</th>\n",
       "      <th>value</th>\n",
       "    </tr>\n",
       "  </thead>\n",
       "  <tbody>\n",
       "    <tr>\n",
       "      <th>0</th>\n",
       "      <td>A</td>\n",
       "      <td>Actual Grade Cost</td>\n",
       "      <td>25804.18873</td>\n",
       "    </tr>\n",
       "    <tr>\n",
       "      <th>1</th>\n",
       "      <td>B</td>\n",
       "      <td>Actual Grade Cost</td>\n",
       "      <td>131868.29718</td>\n",
       "    </tr>\n",
       "    <tr>\n",
       "      <th>2</th>\n",
       "      <td>C</td>\n",
       "      <td>Actual Grade Cost</td>\n",
       "      <td>231607.74127</td>\n",
       "    </tr>\n",
       "    <tr>\n",
       "      <th>3</th>\n",
       "      <td>D</td>\n",
       "      <td>Actual Grade Cost</td>\n",
       "      <td>0.00000</td>\n",
       "    </tr>\n",
       "    <tr>\n",
       "      <th>4</th>\n",
       "      <td>E</td>\n",
       "      <td>Actual Grade Cost</td>\n",
       "      <td>0.00000</td>\n",
       "    </tr>\n",
       "    <tr>\n",
       "      <th>5</th>\n",
       "      <td>A</td>\n",
       "      <td>Predicted Grade Cost</td>\n",
       "      <td>14304.14005</td>\n",
       "    </tr>\n",
       "    <tr>\n",
       "      <th>6</th>\n",
       "      <td>B</td>\n",
       "      <td>Predicted Grade Cost</td>\n",
       "      <td>92552.69204</td>\n",
       "    </tr>\n",
       "    <tr>\n",
       "      <th>7</th>\n",
       "      <td>C</td>\n",
       "      <td>Predicted Grade Cost</td>\n",
       "      <td>181228.72398</td>\n",
       "    </tr>\n",
       "    <tr>\n",
       "      <th>8</th>\n",
       "      <td>D</td>\n",
       "      <td>Predicted Grade Cost</td>\n",
       "      <td>56459.28051</td>\n",
       "    </tr>\n",
       "    <tr>\n",
       "      <th>9</th>\n",
       "      <td>E</td>\n",
       "      <td>Predicted Grade Cost</td>\n",
       "      <td>0.00000</td>\n",
       "    </tr>\n",
       "  </tbody>\n",
       "</table>\n",
       "</div>"
      ],
      "text/plain": [
       "  pred_BuyOfferGrade              variable         value\n",
       "0                  A     Actual Grade Cost   25804.18873\n",
       "1                  B     Actual Grade Cost  131868.29718\n",
       "2                  C     Actual Grade Cost  231607.74127\n",
       "3                  D     Actual Grade Cost       0.00000\n",
       "4                  E     Actual Grade Cost       0.00000\n",
       "5                  A  Predicted Grade Cost   14304.14005\n",
       "6                  B  Predicted Grade Cost   92552.69204\n",
       "7                  C  Predicted Grade Cost  181228.72398\n",
       "8                  D  Predicted Grade Cost   56459.28051\n",
       "9                  E  Predicted Grade Cost       0.00000"
      ]
     },
     "execution_count": 57,
     "metadata": {},
     "output_type": "execute_result"
    }
   ],
   "source": [
    "df_Cost_comp = pd.melt(df_Cost.reset_index(), id_vars=['pred_BuyOfferGrade'], value_vars=df_Cost.columns)\n",
    "df_Cost_comp"
   ]
  },
  {
   "cell_type": "code",
   "execution_count": 58,
   "metadata": {},
   "outputs": [
    {
     "data": {
      "image/png": "[encoded data removed]",
      "text/plain": [
       "<Figure size 864x432 with 1 Axes>"
      ]
     },
     "metadata": {},
     "output_type": "display_data"
    }
   ],
   "source": [
    "fig, ax = plt.subplots(figsize = (12, 6))\n",
    "sns.barplot(data=df_Cost_comp,\n",
    "            x='pred_BuyOfferGrade',\n",
    "            y='value',\n",
    "            hue='variable',\n",
    "            alpha=1,\n",
    "            palette='bone',\n",
    "            ax=ax)\n",
    "ax.set_yticklabels('${:,.0f}'.format(int(y)) for y in ax.get_yticks())\n",
    "ax.set_xlabel('Buy Grade')\n",
    "ax.set_ylabel\n",
    "plt.show()"
   ]
  },
  {
   "cell_type": "code",
   "execution_count": 59,
   "metadata": {},
   "outputs": [
    {
     "data": {
      "text/html": [
       "<div>\n",
       "<style scoped>\n",
       "    .dataframe tbody tr th:only-of-type {\n",
       "        vertical-align: middle;\n",
       "    }\n",
       "\n",
       "    .dataframe tbody tr th {\n",
       "        vertical-align: top;\n",
       "    }\n",
       "\n",
       "    .dataframe thead th {\n",
       "        text-align: right;\n",
       "    }\n",
       "</style>\n",
       "<table border=\"1\" class=\"dataframe\">\n",
       "  <thead>\n",
       "    <tr style=\"text-align: right;\">\n",
       "      <th></th>\n",
       "      <th>Actual Grade Cost</th>\n",
       "      <th>Predicted Grade Cost</th>\n",
       "    </tr>\n",
       "    <tr>\n",
       "      <th>pred_BuyOfferGrade</th>\n",
       "      <th></th>\n",
       "      <th></th>\n",
       "    </tr>\n",
       "  </thead>\n",
       "  <tbody>\n",
       "    <tr>\n",
       "      <th>A</th>\n",
       "      <td>25804.18873</td>\n",
       "      <td>14304.14005</td>\n",
       "    </tr>\n",
       "    <tr>\n",
       "      <th>B</th>\n",
       "      <td>131868.29718</td>\n",
       "      <td>92552.69204</td>\n",
       "    </tr>\n",
       "    <tr>\n",
       "      <th>C</th>\n",
       "      <td>231607.74127</td>\n",
       "      <td>181228.72398</td>\n",
       "    </tr>\n",
       "    <tr>\n",
       "      <th>D</th>\n",
       "      <td>0.00000</td>\n",
       "      <td>56459.28051</td>\n",
       "    </tr>\n",
       "    <tr>\n",
       "      <th>E</th>\n",
       "      <td>0.00000</td>\n",
       "      <td>0.00000</td>\n",
       "    </tr>\n",
       "  </tbody>\n",
       "</table>\n",
       "</div>"
      ],
      "text/plain": [
       "                    Actual Grade Cost  Predicted Grade Cost\n",
       "pred_BuyOfferGrade                                         \n",
       "A                         25804.18873           14304.14005\n",
       "B                        131868.29718           92552.69204\n",
       "C                        231607.74127          181228.72398\n",
       "D                             0.00000           56459.28051\n",
       "E                             0.00000               0.00000"
      ]
     },
     "execution_count": 59,
     "metadata": {},
     "output_type": "execute_result"
    }
   ],
   "source": [
    "df_Cost"
   ]
  },
  {
   "cell_type": "code",
   "execution_count": 60,
   "metadata": {},
   "outputs": [],
   "source": [
    "df_CostPcts = df_Cost.drop(index=['D', 'E'], axis=0)"
   ]
  },
  {
   "cell_type": "code",
   "execution_count": 61,
   "metadata": {
    "scrolled": true
   },
   "outputs": [
    {
     "data": {
      "image/png": "[encoded data removed]",
      "text/plain": [
       "<Figure size 432x432 with 1 Axes>"
      ]
     },
     "metadata": {},
     "output_type": "display_data"
    }
   ],
   "source": [
    "fig, ax = plt.subplots(figsize = (6, 6))\n",
    "sns.barplot(x=df_CostPcts.index,\n",
    "            y=(df_CostPcts['Predicted Grade Cost'] - df_CostPcts['Actual Grade Cost'])/(df_CostPcts.sum()['Actual Grade Cost']),\n",
    "            alpha=1,\n",
    "            ax=ax)\n",
    "ax.set_yticklabels('{:,.2%}'.format(float(y)) for y in ax.get_yticks())\n",
    "ax.set_xlabel('Buy Grade')\n",
    "ax.set_ylabel('Predicted Cost Difference')\n",
    "plt.title('Predicted Cost Minus Actual Cost')\n",
    "plt.show()"
   ]
  },
  {
   "cell_type": "code",
   "execution_count": 62,
   "metadata": {},
   "outputs": [
    {
     "data": {
      "text/plain": [
       "-44735.390599991195"
      ]
     },
     "execution_count": 62,
     "metadata": {},
     "output_type": "execute_result"
    }
   ],
   "source": [
    "df_Cost.sum()['Predicted Grade Cost'] - df_Cost.sum()['Actual Grade Cost']"
   ]
  },
  {
   "cell_type": "code",
   "execution_count": 63,
   "metadata": {},
   "outputs": [
    {
     "data": {
      "text/plain": [
       "344544.8365800119"
      ]
     },
     "execution_count": 63,
     "metadata": {},
     "output_type": "execute_result"
    }
   ],
   "source": [
    "df_Cost.sum()['Predicted Grade Cost']"
   ]
  },
  {
   "cell_type": "code",
   "execution_count": 168,
   "metadata": {},
   "outputs": [
    {
     "data": {
      "image/png": "[encoded data removed]",
      "text/plain": [
       "<Figure size 576x432 with 1 Axes>"
      ]
     },
     "metadata": {},
     "output_type": "display_data"
    }
   ],
   "source": [
    "plt.subplots(figsize=(8,6))\n",
    "eg_x = [d for d in np.arange(0, 500, 1)]\n",
    "eg_y = [(20/(1+np.exp(-0.09*(x-50)))) for x in eg_x]\n",
    "plt.scatter(eg_x, eg_y, s=4)\n",
    "plt.xlim([0, 270])\n",
    "plt.ylim([0, 22])\n",
    "plt.ylabel('Penalty Per Copy of Title')\n",
    "plt.xlabel('Avg Acc Days')\n",
    "plt.show()"
   ]
  },
  {
   "cell_type": "code",
   "execution_count": 190,
   "metadata": {},
   "outputs": [
    {
     "data": {
      "image/png": "[encoded data removed]",
      "text/plain": [
       "<Figure size 576x432 with 1 Axes>"
      ]
     },
     "metadata": {},
     "output_type": "display_data"
    }
   ],
   "source": [
    "plt.subplots(figsize=(8,6))\n",
    "eg_x = [d for d in np.arange(0, 500, .25)]\n",
    "eg_y = [(20/(1+np.exp(-0.03*(x-140)))) for x in eg_x]\n",
    "plt.scatter(eg_x, eg_y, s=4)\n",
    "plt.xlim([0, 270])\n",
    "plt.ylim([0, 22])\n",
    "plt.ylabel('Penalty Per Copy of Title')\n",
    "plt.xlabel('Avg Acc Days')\n",
    "plt.show()"
   ]
  },
  {
   "cell_type": "code",
   "execution_count": 83,
   "metadata": {},
   "outputs": [
    {
     "name": "stdout",
     "output_type": "stream",
     "text": [
      "([0, 1, 2, 3, 4, 5, 6, 7, 8, 9, 10, 11, 12, 13, 14, 15, 16, 17, 18, 19, 20, 21, 22, 23, 24, 25, 26, 27, 28, 29, 30, 31, 32, 33, 34, 35, 36, 37, 38, 39, 40, 41, 42, 43, 44, 45, 46, 47, 48, 49], [1, 2, 4, 8, 16, 32, 64, 128, 256, 512, 1024, 2048, 4096, 8192, 16384, 32768, 65536, 131072, 262144, 524288, 1048576, 2097152, 4194304, 8388608, 16777216, 33554432, 67108864, 134217728, 268435456, 536870912, 1073741824, -2147483648, 0, 0, 0, 0, 0, 0, 0, 0, 0, 0, 0, 0, 0, 0, 0, 0, 0, 0])\n"
     ]
    }
   ],
   "source": [
    "print((eg_x, eg_y))"
   ]
  },
  {
   "cell_type": "code",
   "execution_count": 191,
   "metadata": {},
   "outputs": [
    {
     "data": {
      "text/plain": [
       "2.0"
      ]
     },
     "execution_count": 191,
     "metadata": {},
     "output_type": "execute_result"
    }
   ],
   "source": [
    "2.7//1"
   ]
  },
  {
   "cell_type": "code",
   "execution_count": null,
   "metadata": {},
   "outputs": [],
   "source": []
  }
 ],
 "metadata": {
  "kernelspec": {
   "display_name": "Python 3",
   "language": "python",
   "name": "python3"
  },
  "language_info": {
   "codemirror_mode": {
    "name": "ipython",
    "version": 3
   },
   "file_extension": ".py",
   "mimetype": "text/x-python",
   "name": "python",
   "nbconvert_exporter": "python",
   "pygments_lexer": "ipython3",
   "version": "3.7.3"
  }
 },
 "nbformat": 4,
 "nbformat_minor": 2
}
