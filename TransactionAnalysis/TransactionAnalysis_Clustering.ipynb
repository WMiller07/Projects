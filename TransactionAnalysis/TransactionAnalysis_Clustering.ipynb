{
 "cells": [
  {
   "cell_type": "code",
   "execution_count": 1,
   "metadata": {},
   "outputs": [],
   "source": [
    "import datetime\n",
    "from dateutil.relativedelta import relativedelta\n",
    "#from datetime import timedelta\n",
    "import numpy as np\n",
    "import pandas as pd\n",
    "\n",
    "import plotly\n",
    "import chart_studio.plotly as py\n",
    "import plotly.io as pio\n",
    "import plotly.graph_objs as go\n",
    "from plotly import tools\n",
    "from plotly.offline import download_plotlyjs, init_notebook_mode, iplot\n",
    "\n",
    "import json\n",
    "from flask import Flask, render_template\n",
    "\n",
    "import dash\n",
    "import dash_html_components as html"
   ]
  },
  {
   "cell_type": "code",
   "execution_count": 2,
   "metadata": {},
   "outputs": [
    {
     "name": "stderr",
     "output_type": "stream",
     "text": [
      "C:\\Users\\WMiller\\AppData\\Local\\Continuum\\anaconda3\\lib\\site-packages\\numpy\\lib\\arraysetops.py:569: FutureWarning:\n",
      "\n",
      "elementwise comparison failed; returning scalar instead, but in the future will perform elementwise comparison\n",
      "\n"
     ]
    }
   ],
   "source": [
    "df = pd.read_csv('./TransactionAnalysis.csv', index_col=0, header=0)"
   ]
  },
  {
   "cell_type": "code",
   "execution_count": 3,
   "metadata": {},
   "outputs": [
    {
     "data": {
      "text/plain": [
       "Index(['LocationNo', 'LocationID', 'SalesXactionID', 'EndDate', 'ItemCode',\n",
       "       'DipsItemCode', 'SipsItemCode', 'BaseItemCode', 'QtySold', 'Sales',\n",
       "       'Discounts', 'CouponCode', 'Costs', 'Class', 'FPSection',\n",
       "       'ProductType'],\n",
       "      dtype='object')"
      ]
     },
     "execution_count": 3,
     "metadata": {},
     "output_type": "execute_result"
    }
   ],
   "source": [
    "df.columns"
   ]
  },
  {
   "cell_type": "code",
   "execution_count": 4,
   "metadata": {},
   "outputs": [
    {
     "data": {
      "text/html": [
       "<div>\n",
       "<style scoped>\n",
       "    .dataframe tbody tr th:only-of-type {\n",
       "        vertical-align: middle;\n",
       "    }\n",
       "\n",
       "    .dataframe tbody tr th {\n",
       "        vertical-align: top;\n",
       "    }\n",
       "\n",
       "    .dataframe thead th {\n",
       "        text-align: right;\n",
       "    }\n",
       "</style>\n",
       "<table border=\"1\" class=\"dataframe\">\n",
       "  <thead>\n",
       "    <tr style=\"text-align: right;\">\n",
       "      <th></th>\n",
       "      <th>LocationNo</th>\n",
       "      <th>LocationID</th>\n",
       "      <th>SalesXactionID</th>\n",
       "      <th>DipsItemCode</th>\n",
       "      <th>SipsItemCode</th>\n",
       "      <th>BaseItemCode</th>\n",
       "      <th>QtySold</th>\n",
       "      <th>Sales</th>\n",
       "      <th>Discounts</th>\n",
       "      <th>Costs</th>\n",
       "    </tr>\n",
       "  </thead>\n",
       "  <tbody>\n",
       "    <tr>\n",
       "      <th>count</th>\n",
       "      <td>2.788492e+06</td>\n",
       "      <td>2.788492e+06</td>\n",
       "      <td>2.788492e+06</td>\n",
       "      <td>6.248520e+05</td>\n",
       "      <td>1.956829e+06</td>\n",
       "      <td>2.067870e+05</td>\n",
       "      <td>2.788492e+06</td>\n",
       "      <td>2.788492e+06</td>\n",
       "      <td>2.788492e+06</td>\n",
       "      <td>2.788468e+06</td>\n",
       "    </tr>\n",
       "    <tr>\n",
       "      <th>mean</th>\n",
       "      <td>6.033448e+01</td>\n",
       "      <td>9.962396e+01</td>\n",
       "      <td>2.072875e+09</td>\n",
       "      <td>4.166646e+10</td>\n",
       "      <td>2.500274e+08</td>\n",
       "      <td>2.266472e+05</td>\n",
       "      <td>1.050181e+00</td>\n",
       "      <td>6.256809e+00</td>\n",
       "      <td>5.159966e-01</td>\n",
       "      <td>1.325570e+00</td>\n",
       "    </tr>\n",
       "    <tr>\n",
       "      <th>std</th>\n",
       "      <td>3.838265e+01</td>\n",
       "      <td>6.509642e+01</td>\n",
       "      <td>1.081810e+09</td>\n",
       "      <td>1.738289e+11</td>\n",
       "      <td>1.216661e+07</td>\n",
       "      <td>1.479905e+06</td>\n",
       "      <td>5.336262e-01</td>\n",
       "      <td>1.023443e+01</td>\n",
       "      <td>2.039703e+00</td>\n",
       "      <td>4.674971e+00</td>\n",
       "    </tr>\n",
       "    <tr>\n",
       "      <th>min</th>\n",
       "      <td>1.000000e+00</td>\n",
       "      <td>3.000000e+00</td>\n",
       "      <td>1.000012e+09</td>\n",
       "      <td>9.000000e+00</td>\n",
       "      <td>1.476277e+06</td>\n",
       "      <td>5.756000e+03</td>\n",
       "      <td>1.000000e+00</td>\n",
       "      <td>-5.260000e+02</td>\n",
       "      <td>0.000000e+00</td>\n",
       "      <td>0.000000e+00</td>\n",
       "    </tr>\n",
       "    <tr>\n",
       "      <th>25%</th>\n",
       "      <td>2.600000e+01</td>\n",
       "      <td>5.200000e+01</td>\n",
       "      <td>1.000296e+09</td>\n",
       "      <td>1.007505e+07</td>\n",
       "      <td>2.470780e+08</td>\n",
       "      <td>5.768000e+03</td>\n",
       "      <td>1.000000e+00</td>\n",
       "      <td>3.000000e+00</td>\n",
       "      <td>0.000000e+00</td>\n",
       "      <td>3.900000e-01</td>\n",
       "    </tr>\n",
       "    <tr>\n",
       "      <th>50%</th>\n",
       "      <td>5.700000e+01</td>\n",
       "      <td>8.300000e+01</td>\n",
       "      <td>2.000238e+09</td>\n",
       "      <td>1.021914e+07</td>\n",
       "      <td>2.538701e+08</td>\n",
       "      <td>5.787000e+03</td>\n",
       "      <td>1.000000e+00</td>\n",
       "      <td>4.990000e+00</td>\n",
       "      <td>0.000000e+00</td>\n",
       "      <td>7.473000e-01</td>\n",
       "    </tr>\n",
       "    <tr>\n",
       "      <th>75%</th>\n",
       "      <td>9.500000e+01</td>\n",
       "      <td>1.490000e+02</td>\n",
       "      <td>3.000138e+09</td>\n",
       "      <td>1.022857e+07</td>\n",
       "      <td>2.574902e+08</td>\n",
       "      <td>5.798000e+03</td>\n",
       "      <td>1.000000e+00</td>\n",
       "      <td>7.990000e+00</td>\n",
       "      <td>0.000000e+00</td>\n",
       "      <td>1.500000e+00</td>\n",
       "    </tr>\n",
       "    <tr>\n",
       "      <th>max</th>\n",
       "      <td>1.300000e+02</td>\n",
       "      <td>2.410000e+02</td>\n",
       "      <td>8.000120e+09</td>\n",
       "      <td>8.952211e+11</td>\n",
       "      <td>2.611630e+08</td>\n",
       "      <td>1.022713e+07</td>\n",
       "      <td>4.200000e+02</td>\n",
       "      <td>1.092194e+04</td>\n",
       "      <td>1.300000e+03</td>\n",
       "      <td>6.804000e+03</td>\n",
       "    </tr>\n",
       "  </tbody>\n",
       "</table>\n",
       "</div>"
      ],
      "text/plain": [
       "         LocationNo    LocationID  SalesXactionID  DipsItemCode  SipsItemCode  \\\n",
       "count  2.788492e+06  2.788492e+06    2.788492e+06  6.248520e+05  1.956829e+06   \n",
       "mean   6.033448e+01  9.962396e+01    2.072875e+09  4.166646e+10  2.500274e+08   \n",
       "std    3.838265e+01  6.509642e+01    1.081810e+09  1.738289e+11  1.216661e+07   \n",
       "min    1.000000e+00  3.000000e+00    1.000012e+09  9.000000e+00  1.476277e+06   \n",
       "25%    2.600000e+01  5.200000e+01    1.000296e+09  1.007505e+07  2.470780e+08   \n",
       "50%    5.700000e+01  8.300000e+01    2.000238e+09  1.021914e+07  2.538701e+08   \n",
       "75%    9.500000e+01  1.490000e+02    3.000138e+09  1.022857e+07  2.574902e+08   \n",
       "max    1.300000e+02  2.410000e+02    8.000120e+09  8.952211e+11  2.611630e+08   \n",
       "\n",
       "       BaseItemCode       QtySold         Sales     Discounts         Costs  \n",
       "count  2.067870e+05  2.788492e+06  2.788492e+06  2.788492e+06  2.788468e+06  \n",
       "mean   2.266472e+05  1.050181e+00  6.256809e+00  5.159966e-01  1.325570e+00  \n",
       "std    1.479905e+06  5.336262e-01  1.023443e+01  2.039703e+00  4.674971e+00  \n",
       "min    5.756000e+03  1.000000e+00 -5.260000e+02  0.000000e+00  0.000000e+00  \n",
       "25%    5.768000e+03  1.000000e+00  3.000000e+00  0.000000e+00  3.900000e-01  \n",
       "50%    5.787000e+03  1.000000e+00  4.990000e+00  0.000000e+00  7.473000e-01  \n",
       "75%    5.798000e+03  1.000000e+00  7.990000e+00  0.000000e+00  1.500000e+00  \n",
       "max    1.022713e+07  4.200000e+02  1.092194e+04  1.300000e+03  6.804000e+03  "
      ]
     },
     "execution_count": 4,
     "metadata": {},
     "output_type": "execute_result"
    }
   ],
   "source": [
    "df.describe()"
   ]
  },
  {
   "cell_type": "code",
   "execution_count": 7,
   "metadata": {},
   "outputs": [
    {
     "data": {
      "text/plain": [
       "LocationNo                          58\n",
       "LocationID                          64\n",
       "SalesXactionID              3000134031\n",
       "EndDate            2019-06-27 11:45:00\n",
       "ItemCode          00000000000010236904\n",
       "DipsItemCode               1.02369e+07\n",
       "SipsItemCode                       NaN\n",
       "BaseItemCode                       NaN\n",
       "QtySold                            420\n",
       "Sales                          10921.9\n",
       "Discounts                            0\n",
       "CouponCode                            \n",
       "Costs                             6804\n",
       "Class                           Distro\n",
       "FPSection                  Bestsellers\n",
       "ProductType                        HBF\n",
       "Name: 2410194, dtype: object"
      ]
     },
     "execution_count": 7,
     "metadata": {},
     "output_type": "execute_result"
    }
   ],
   "source": [
    "df.iloc[df['Costs'].idxmax()]"
   ]
  },
  {
   "cell_type": "code",
   "execution_count": null,
   "metadata": {},
   "outputs": [],
   "source": []
  }
 ],
 "metadata": {
  "kernelspec": {
   "display_name": "Python 3",
   "language": "python",
   "name": "python3"
  },
  "language_info": {
   "codemirror_mode": {
    "name": "ipython",
    "version": 3
   },
   "file_extension": ".py",
   "mimetype": "text/x-python",
   "name": "python",
   "nbconvert_exporter": "python",
   "pygments_lexer": "ipython3",
   "version": "3.7.3"
  }
 },
 "nbformat": 4,
 "nbformat_minor": 2
}
