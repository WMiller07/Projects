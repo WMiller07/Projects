{
 "cells": [
  {
   "cell_type": "code",
   "execution_count": 1,
   "metadata": {},
   "outputs": [],
   "source": [
    "import pyodbc\n",
    "import numpy as np\n",
    "import pandas as pd"
   ]
  },
  {
   "cell_type": "code",
   "execution_count": 2,
   "metadata": {},
   "outputs": [],
   "source": [
    "sql_driver = 'DRIVER={ODBC Driver 13 for SQL Server};'\n",
    "sql_server = 'SERVER=sage;'\n",
    "sql_db = 'DATABASE=BUYS;'\n",
    "sql_UID = 'Trusted_Connection=yes;'\n",
    "\n",
    "cnxn = pyodbc.connect(sql_driver + sql_server + sql_db + sql_UID)\n",
    "\n",
    "def fetch_data(q, cnxn):\n",
    "    df = pd.read_sql(sql=q, con=cnxn)\n",
    "    return df"
   ]
  },
  {
   "cell_type": "code",
   "execution_count": 3,
   "metadata": {},
   "outputs": [],
   "source": [
    "import pyodbc\n",
    "import numpy as np\n",
    "import pandas as pd\n",
    "\n",
    "sql_driver = 'DRIVER={ODBC Driver 13 for SQL Server};'\n",
    "sql_server = 'SERVER=sage;'\n",
    "sql_db = 'DATABASE=BUYS;'\n",
    "sql_UID = 'Trusted_Connection=yes;'\n",
    "\n",
    "cnxn = pyodbc.connect(sql_driver + sql_server + sql_db + sql_UID)\n",
    "\n",
    "def fetch_data(q, cnxn):\n",
    "    df = pd.read_sql(sql=q, con=cnxn)\n",
    "    return df"
   ]
  },
  {
   "cell_type": "code",
   "execution_count": 4,
   "metadata": {},
   "outputs": [],
   "source": [
    "query= f'''\n",
    "\n",
    "SET NOCOUNT ON\n",
    "SET ANSI_WARNINGS OFF\n",
    "SELECT \n",
    "\tadl.LocationNo,\n",
    "    adl.CatalogID,\n",
    "\tCASE \n",
    "\t\tWHEN t.binding IN ('Mass Market Paperback', 'CD', 'Audio CD')\n",
    "\t\tTHEN t.binding\n",
    "\t\tELSE 'General'\n",
    "\t\tEND [CatalogBinding],\n",
    "    adl.Total_Item_Count,\n",
    "    adl.Total_Accumulated_Days_With_Trash_Penalty,\n",
    "    adl.Days_Total_FromCreate,\n",
    "\tadl.Days_Total_Scanned,\n",
    "    adl.Days_Total_Salable_Priced,\n",
    "    adl.Days_Total_Salable_Scanned,\n",
    "    adl.Days_Total_Salable_Online,\n",
    "    adl.Total_Transfers,\n",
    "    adl.Total_Trash_Donate,\n",
    "    adl.Total_Sold,\n",
    "    adl.Total_Available,\n",
    "    adl.Total_Scan_Count,\n",
    "    adl.Avg_Price,\n",
    "    adl.Geo_Avg_Price,\n",
    "    ISNULL(adl.Avg_Sale_Price, adc.Avg_Sale_Price) [Avg_Sale_Price],\n",
    "    adl.Geo_Avg_Sale_Price,\n",
    "    adl.Insert_Date,\n",
    "    adl.Avg_Days_Priced_To_Sold\n",
    "FROM Buy_Analytics.dbo.BuyAlgorithm_AggregateData_Location adl\n",
    "\tLEFT OUTER JOIN Buy_Analytics..BuyAlgorithm_AggregateData_Chain adc\n",
    "\t\tON adl.CatalogID = adc.CatalogID\n",
    "\tINNER JOIN Catalog..titles t\n",
    "\t\tON adc.CatalogID = t.catalogId\n",
    "'''"
   ]
  },
  {
   "cell_type": "code",
   "execution_count": 5,
   "metadata": {},
   "outputs": [],
   "source": [
    "df = fetch_data(query, cnxn)\n",
    "df.to_csv('./LocationBuyAggregateData.csv')"
   ]
  },
  {
   "cell_type": "code",
   "execution_count": null,
   "metadata": {},
   "outputs": [],
   "source": []
  }
 ],
 "metadata": {
  "kernelspec": {
   "display_name": "Python 3",
   "language": "python",
   "name": "python3"
  },
  "language_info": {
   "codemirror_mode": {
    "name": "ipython",
    "version": 3
   },
   "file_extension": ".py",
   "mimetype": "text/x-python",
   "name": "python",
   "nbconvert_exporter": "python",
   "pygments_lexer": "ipython3",
   "version": "3.7.3"
  }
 },
 "nbformat": 4,
 "nbformat_minor": 2
}
