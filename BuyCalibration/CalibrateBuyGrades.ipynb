{
 "cells": [
  {
   "cell_type": "code",
   "execution_count": 111,
   "metadata": {},
   "outputs": [],
   "source": [
    "import numpy as np\n",
    "import pandas as pd\n",
    "\n",
    "import matplotlib.pyplot as plt\n",
    "import seaborn as sns"
   ]
  },
  {
   "cell_type": "code",
   "execution_count": 112,
   "metadata": {},
   "outputs": [],
   "source": [
    "df = pd.read_csv('./R4AlgorithmData.csv', header=0, index_col=0)"
   ]
  },
  {
   "cell_type": "code",
   "execution_count": 113,
   "metadata": {},
   "outputs": [
    {
     "name": "stdout",
     "output_type": "stream",
     "text": [
      "<class 'pandas.core.frame.DataFrame'>\n",
      "Int64Index: 1352830 entries, 0 to 1352829\n",
      "Data columns (total 13 columns):\n",
      "CatalogID                                    1352830 non-null int64\n",
      "Total_Item_Count                             1352830 non-null int64\n",
      "Total_Accumulated_Days_With_Trash_Penalty    1352830 non-null float64\n",
      "Avg_Sale_Price                               1352830 non-null float64\n",
      "Total_Sold                                   1352830 non-null int64\n",
      "R4BuyOfferPct                                1352830 non-null float64\n",
      "R4sBuyOfferPct                               1352830 non-null float64\n",
      "avg_Item_Acc_Days                            1352830 non-null float64\n",
      "avg_Sold_Acc_Days                            1352830 non-null float64\n",
      "R4BuyOfferAmt                                1352830 non-null float64\n",
      "R4sBuyOfferAmt                               1352830 non-null float64\n",
      "chain_R4BuyOfferPct                          1352830 non-null float64\n",
      "chain_R4BuyOfferAmt                          1352830 non-null float64\n",
      "dtypes: float64(10), int64(3)\n",
      "memory usage: 144.5 MB\n"
     ]
    }
   ],
   "source": [
    "df.info()"
   ]
  },
  {
   "cell_type": "code",
   "execution_count": 114,
   "metadata": {},
   "outputs": [
    {
     "data": {
      "text/html": [
       "<div>\n",
       "<style scoped>\n",
       "    .dataframe tbody tr th:only-of-type {\n",
       "        vertical-align: middle;\n",
       "    }\n",
       "\n",
       "    .dataframe tbody tr th {\n",
       "        vertical-align: top;\n",
       "    }\n",
       "\n",
       "    .dataframe thead th {\n",
       "        text-align: right;\n",
       "    }\n",
       "</style>\n",
       "<table border=\"1\" class=\"dataframe\">\n",
       "  <thead>\n",
       "    <tr style=\"text-align: right;\">\n",
       "      <th></th>\n",
       "      <th>CatalogID</th>\n",
       "      <th>Total_Item_Count</th>\n",
       "      <th>Total_Accumulated_Days_With_Trash_Penalty</th>\n",
       "      <th>Avg_Sale_Price</th>\n",
       "      <th>Total_Sold</th>\n",
       "      <th>R4BuyOfferPct</th>\n",
       "      <th>R4sBuyOfferPct</th>\n",
       "      <th>avg_Item_Acc_Days</th>\n",
       "      <th>avg_Sold_Acc_Days</th>\n",
       "      <th>R4BuyOfferAmt</th>\n",
       "      <th>R4sBuyOfferAmt</th>\n",
       "      <th>chain_R4BuyOfferPct</th>\n",
       "      <th>chain_R4BuyOfferAmt</th>\n",
       "    </tr>\n",
       "  </thead>\n",
       "  <tbody>\n",
       "    <tr>\n",
       "      <th>0</th>\n",
       "      <td>115</td>\n",
       "      <td>5</td>\n",
       "      <td>1595.08</td>\n",
       "      <td>7.9900</td>\n",
       "      <td>1</td>\n",
       "      <td>0.00</td>\n",
       "      <td>0.0</td>\n",
       "      <td>319.016000</td>\n",
       "      <td>1595.080000</td>\n",
       "      <td>0.00</td>\n",
       "      <td>0.0</td>\n",
       "      <td>0.00</td>\n",
       "      <td>0.00</td>\n",
       "    </tr>\n",
       "    <tr>\n",
       "      <th>1</th>\n",
       "      <td>514</td>\n",
       "      <td>5</td>\n",
       "      <td>2197.75</td>\n",
       "      <td>3.4950</td>\n",
       "      <td>2</td>\n",
       "      <td>0.00</td>\n",
       "      <td>0.0</td>\n",
       "      <td>439.550000</td>\n",
       "      <td>1098.875000</td>\n",
       "      <td>0.00</td>\n",
       "      <td>0.0</td>\n",
       "      <td>0.00</td>\n",
       "      <td>0.00</td>\n",
       "    </tr>\n",
       "    <tr>\n",
       "      <th>2</th>\n",
       "      <td>1068</td>\n",
       "      <td>11</td>\n",
       "      <td>1452.39</td>\n",
       "      <td>3.9900</td>\n",
       "      <td>6</td>\n",
       "      <td>0.05</td>\n",
       "      <td>0.0</td>\n",
       "      <td>132.035455</td>\n",
       "      <td>242.065000</td>\n",
       "      <td>0.20</td>\n",
       "      <td>0.0</td>\n",
       "      <td>0.05</td>\n",
       "      <td>0.20</td>\n",
       "    </tr>\n",
       "    <tr>\n",
       "      <th>3</th>\n",
       "      <td>1111</td>\n",
       "      <td>8</td>\n",
       "      <td>905.37</td>\n",
       "      <td>1.9866</td>\n",
       "      <td>6</td>\n",
       "      <td>0.05</td>\n",
       "      <td>0.0</td>\n",
       "      <td>113.171250</td>\n",
       "      <td>150.895000</td>\n",
       "      <td>0.10</td>\n",
       "      <td>0.0</td>\n",
       "      <td>0.05</td>\n",
       "      <td>0.10</td>\n",
       "    </tr>\n",
       "    <tr>\n",
       "      <th>4</th>\n",
       "      <td>1135</td>\n",
       "      <td>16</td>\n",
       "      <td>2351.72</td>\n",
       "      <td>5.5345</td>\n",
       "      <td>11</td>\n",
       "      <td>0.05</td>\n",
       "      <td>0.0</td>\n",
       "      <td>146.982500</td>\n",
       "      <td>213.792727</td>\n",
       "      <td>0.28</td>\n",
       "      <td>0.0</td>\n",
       "      <td>0.05</td>\n",
       "      <td>0.28</td>\n",
       "    </tr>\n",
       "    <tr>\n",
       "      <th>5</th>\n",
       "      <td>1349</td>\n",
       "      <td>7</td>\n",
       "      <td>2497.78</td>\n",
       "      <td>3.0000</td>\n",
       "      <td>1</td>\n",
       "      <td>0.00</td>\n",
       "      <td>0.0</td>\n",
       "      <td>356.825714</td>\n",
       "      <td>2497.780000</td>\n",
       "      <td>0.00</td>\n",
       "      <td>0.0</td>\n",
       "      <td>0.00</td>\n",
       "      <td>0.00</td>\n",
       "    </tr>\n",
       "    <tr>\n",
       "      <th>6</th>\n",
       "      <td>1735</td>\n",
       "      <td>13</td>\n",
       "      <td>3088.86</td>\n",
       "      <td>7.7425</td>\n",
       "      <td>4</td>\n",
       "      <td>0.00</td>\n",
       "      <td>0.0</td>\n",
       "      <td>237.604615</td>\n",
       "      <td>772.215000</td>\n",
       "      <td>0.00</td>\n",
       "      <td>0.0</td>\n",
       "      <td>0.00</td>\n",
       "      <td>0.00</td>\n",
       "    </tr>\n",
       "    <tr>\n",
       "      <th>7</th>\n",
       "      <td>1764</td>\n",
       "      <td>16</td>\n",
       "      <td>3054.61</td>\n",
       "      <td>3.4214</td>\n",
       "      <td>6</td>\n",
       "      <td>0.00</td>\n",
       "      <td>0.0</td>\n",
       "      <td>190.913125</td>\n",
       "      <td>509.101667</td>\n",
       "      <td>0.00</td>\n",
       "      <td>0.0</td>\n",
       "      <td>0.00</td>\n",
       "      <td>0.00</td>\n",
       "    </tr>\n",
       "    <tr>\n",
       "      <th>8</th>\n",
       "      <td>1784</td>\n",
       "      <td>22</td>\n",
       "      <td>10502.66</td>\n",
       "      <td>5.9900</td>\n",
       "      <td>4</td>\n",
       "      <td>0.00</td>\n",
       "      <td>0.0</td>\n",
       "      <td>477.393636</td>\n",
       "      <td>2625.665000</td>\n",
       "      <td>0.00</td>\n",
       "      <td>0.0</td>\n",
       "      <td>0.00</td>\n",
       "      <td>0.00</td>\n",
       "    </tr>\n",
       "    <tr>\n",
       "      <th>9</th>\n",
       "      <td>3327</td>\n",
       "      <td>19</td>\n",
       "      <td>2092.88</td>\n",
       "      <td>4.5920</td>\n",
       "      <td>10</td>\n",
       "      <td>0.05</td>\n",
       "      <td>0.0</td>\n",
       "      <td>110.151579</td>\n",
       "      <td>209.288000</td>\n",
       "      <td>0.23</td>\n",
       "      <td>0.0</td>\n",
       "      <td>0.05</td>\n",
       "      <td>0.23</td>\n",
       "    </tr>\n",
       "  </tbody>\n",
       "</table>\n",
       "</div>"
      ],
      "text/plain": [
       "   CatalogID  Total_Item_Count  Total_Accumulated_Days_With_Trash_Penalty  \\\n",
       "0        115                 5                                    1595.08   \n",
       "1        514                 5                                    2197.75   \n",
       "2       1068                11                                    1452.39   \n",
       "3       1111                 8                                     905.37   \n",
       "4       1135                16                                    2351.72   \n",
       "5       1349                 7                                    2497.78   \n",
       "6       1735                13                                    3088.86   \n",
       "7       1764                16                                    3054.61   \n",
       "8       1784                22                                   10502.66   \n",
       "9       3327                19                                    2092.88   \n",
       "\n",
       "   Avg_Sale_Price  Total_Sold  R4BuyOfferPct  R4sBuyOfferPct  \\\n",
       "0          7.9900           1           0.00             0.0   \n",
       "1          3.4950           2           0.00             0.0   \n",
       "2          3.9900           6           0.05             0.0   \n",
       "3          1.9866           6           0.05             0.0   \n",
       "4          5.5345          11           0.05             0.0   \n",
       "5          3.0000           1           0.00             0.0   \n",
       "6          7.7425           4           0.00             0.0   \n",
       "7          3.4214           6           0.00             0.0   \n",
       "8          5.9900           4           0.00             0.0   \n",
       "9          4.5920          10           0.05             0.0   \n",
       "\n",
       "   avg_Item_Acc_Days  avg_Sold_Acc_Days  R4BuyOfferAmt  R4sBuyOfferAmt  \\\n",
       "0         319.016000        1595.080000           0.00             0.0   \n",
       "1         439.550000        1098.875000           0.00             0.0   \n",
       "2         132.035455         242.065000           0.20             0.0   \n",
       "3         113.171250         150.895000           0.10             0.0   \n",
       "4         146.982500         213.792727           0.28             0.0   \n",
       "5         356.825714        2497.780000           0.00             0.0   \n",
       "6         237.604615         772.215000           0.00             0.0   \n",
       "7         190.913125         509.101667           0.00             0.0   \n",
       "8         477.393636        2625.665000           0.00             0.0   \n",
       "9         110.151579         209.288000           0.23             0.0   \n",
       "\n",
       "   chain_R4BuyOfferPct  chain_R4BuyOfferAmt  \n",
       "0                 0.00                 0.00  \n",
       "1                 0.00                 0.00  \n",
       "2                 0.05                 0.20  \n",
       "3                 0.05                 0.10  \n",
       "4                 0.05                 0.28  \n",
       "5                 0.00                 0.00  \n",
       "6                 0.00                 0.00  \n",
       "7                 0.00                 0.00  \n",
       "8                 0.00                 0.00  \n",
       "9                 0.05                 0.23  "
      ]
     },
     "execution_count": 114,
     "metadata": {},
     "output_type": "execute_result"
    }
   ],
   "source": [
    "df.head(10)"
   ]
  },
  {
   "cell_type": "code",
   "execution_count": 115,
   "metadata": {},
   "outputs": [],
   "source": [
    "#sns.set_style('whitegrid')"
   ]
  },
  {
   "cell_type": "code",
   "execution_count": 116,
   "metadata": {},
   "outputs": [
    {
     "data": {
      "image/png": "[encoded data removed]",
      "text/plain": [
       "<Figure size 1152x576 with 2 Axes>"
      ]
     },
     "metadata": {
      "needs_background": "light"
     },
     "output_type": "display_data"
    }
   ],
   "source": [
    "fix, (ax1, ax2) = plt.subplots(1, 2, figsize=(16,8))\n",
    "ax1.hist(df['R4BuyOfferPct'], bins=[0, 0.05, 0.2, 0.3, 0.4, 0.45])\n",
    "ax2.hist(df['R4BuyOfferPct'], bins=[0, 0.05, 0.2, 0.3, 0.4, 0.45], weights=df['Total_Item_Count'])\n",
    "plt.show()"
   ]
  },
  {
   "cell_type": "code",
   "execution_count": 117,
   "metadata": {},
   "outputs": [
    {
     "name": "stdout",
     "output_type": "stream",
     "text": [
      "(array([ 8223328, 14320377, 18066865,  4614225,   351842], dtype=int64), array([0.  , 0.05, 0.2 , 0.3 , 0.4 , 0.45]))\n",
      "(array([  349546,  4616095, 18064357, 14322702,  8223937], dtype=int64), array([   0,    8,   31,   91,  180, 9999]))\n"
     ]
    }
   ],
   "source": [
    "print(np.histogram(df['R4BuyOfferPct'], bins=[0, 0.05, 0.2, 0.3, 0.4, 0.45], weights=df['Total_Item_Count']))\n",
    "print(np.histogram(df['avg_Item_Acc_Days'], bins=[0, 8, 31, 91, 180, 9999], weights=df['Total_Item_Count']))"
   ]
  },
  {
   "cell_type": "code",
   "execution_count": 118,
   "metadata": {},
   "outputs": [],
   "source": [
    "grades_R4Dist = np.histogram(df['avg_Item_Acc_Days'], bins=[0, 8, 31, 91, 180, 9999], weights=df['Total_Item_Count'])"
   ]
  },
  {
   "cell_type": "code",
   "execution_count": 119,
   "metadata": {},
   "outputs": [
    {
     "data": {
      "image/png": "[encoded data removed]",
      "text/plain": [
       "<Figure size 1152x576 with 2 Axes>"
      ]
     },
     "metadata": {
      "needs_background": "light"
     },
     "output_type": "display_data"
    }
   ],
   "source": [
    "fix, (ax1, ax2) = plt.subplots(1, 2, figsize=(16,8))\n",
    "ax1.hist(df['R4sBuyOfferPct'], bins=[0, 0.2, 0.3, 0.4, 0.45])\n",
    "ax2.hist(df['R4sBuyOfferPct'], bins=[0,0.2, 0.3, 0.4, 0.45], weights=df['Total_Item_Count'])\n",
    "plt.show()"
   ]
  },
  {
   "cell_type": "code",
   "execution_count": 120,
   "metadata": {},
   "outputs": [
    {
     "name": "stdout",
     "output_type": "stream",
     "text": [
      "(array([779518, 175336, 148246, 194081,  50742,   4907], dtype=int64), array([0.  , 0.05, 0.1 , 0.2 , 0.3 , 0.4 , 0.45]))\n"
     ]
    }
   ],
   "source": [
    "print(np.histogram(df['R4sBuyOfferPct'], bins=[0, 0.05, 0.1, 0.2, 0.3, 0.4, 0.45]))"
   ]
  },
  {
   "cell_type": "code",
   "execution_count": 175,
   "metadata": {},
   "outputs": [
    {
     "data": {
      "image/png": "[encoded data removed]",
      "text/plain": [
       "<Figure size 864x576 with 1 Axes>"
      ]
     },
     "metadata": {
      "needs_background": "light"
     },
     "output_type": "display_data"
    }
   ],
   "source": [
    "fig, ax = plt.subplots(figsize=(12, 8))\n",
    "ax.hist(round(df['avg_Item_Acc_Days'], 0), range=(0,750), bins=750, weights=df['Total_Item_Count'] * df['Avg_Sale_Price'])\n",
    "ax.axvline(x=8, ymin=0, ymax=1, color='black', linestyle=':')\n",
    "ax.axvline(x=31, ymin=0, ymax=1, color='black', linestyle=':')\n",
    "ax.axvline(x=91, ymin=0, ymax=1, color='black', linestyle=':')\n",
    "ax.axvline(x=180, ymin=0, ymax=1, color='black', linestyle=':')\n",
    "plt.show()"
   ]
  },
  {
   "cell_type": "code",
   "execution_count": 176,
   "metadata": {},
   "outputs": [
    {
     "data": {
      "image/png": "[encoded data removed]",
      "text/plain": [
       "<Figure size 864x576 with 1 Axes>"
      ]
     },
     "metadata": {
      "needs_background": "light"
     },
     "output_type": "display_data"
    }
   ],
   "source": [
    "fig, ax = plt.subplots(figsize=(12, 8))\n",
    "ax.hist(round(df['avg_Sold_Acc_Days'], 0), range=(0,750), bins=750,  weights=df['Total_Item_Count'] * df['Avg_Sale_Price'])\n",
    "ax.axvline(x=8, ymin=0, ymax=1, color='black', linestyle=':')\n",
    "ax.axvline(x=31, ymin=0, ymax=1, color='black', linestyle=':')\n",
    "ax.axvline(x=91, ymin=0, ymax=1, color='black', linestyle=':')\n",
    "ax.axvline(x=180, ymin=0, ymax=1, color='black', linestyle=':')\n",
    "plt.show()"
   ]
  },
  {
   "cell_type": "code",
   "execution_count": 30,
   "metadata": {},
   "outputs": [
    {
     "name": "stdout",
     "output_type": "stream",
     "text": [
      "0.7063793730277994 0.3855591876210395\n"
     ]
    }
   ],
   "source": [
    "filt_under180 = df['avg_Sold_Acc_Days'] <= 180\n",
    "filt_over220 = df['avg_Sold_Acc_Days'] > 300\n",
    "print((df[filt_under180]['Total_Sold']/df[filt_under180]['Total_Item_Count']).mean(), \n",
    "      (df[~filt_under180]['Total_Sold']/df[~filt_under180]['Total_Item_Count']).mean())"
   ]
  },
  {
   "cell_type": "code",
   "execution_count": 142,
   "metadata": {},
   "outputs": [
    {
     "name": "stdout",
     "output_type": "stream",
     "text": [
      "(array([6.88003947e+06, 4.56207476e+07, 1.33157596e+08, 8.68196352e+07,\n",
      "       4.46065349e+07]), array([   0,    8,   31,   91,  180, 9999]))\n"
     ]
    }
   ],
   "source": [
    "grades_R4Dist = np.histogram(df['avg_Item_Acc_Days'], bins=[0, 8, 31, 91, 180, 9999], weights=df['Total_Item_Count'] * df['Avg_Sale_Price'])\n",
    "print(grades_R4Dist)"
   ]
  },
  {
   "cell_type": "code",
   "execution_count": 177,
   "metadata": {},
   "outputs": [
    {
     "name": "stdout",
     "output_type": "stream",
     "text": [
      "(array([7.83347605e+06, 5.97234760e+07, 1.24809065e+08, 8.63958924e+07,\n",
      "       3.81524775e+07]), array([   0,   13,   50,  150,  486, 9999]))\n"
     ]
    }
   ],
   "source": [
    "grade_Amax = 13\n",
    "grade_Bmax = 50\n",
    "grade_Cmax = 150\n",
    "grade_Dmax = 486\n",
    "print(np.histogram(df['avg_Sold_Acc_Days'], bins=[0, grade_Amax, grade_Bmax, grade_Cmax, grade_Dmax, 9999], \n",
    "                   weights=df['Total_Item_Count'] * df['Avg_Sale_Price'])\n",
    ")"
   ]
  },
  {
   "cell_type": "code",
   "execution_count": null,
   "metadata": {},
   "outputs": [],
   "source": []
  }
 ],
 "metadata": {
  "kernelspec": {
   "display_name": "Python 3",
   "language": "python",
   "name": "python3"
  },
  "language_info": {
   "codemirror_mode": {
    "name": "ipython",
    "version": 3
   },
   "file_extension": ".py",
   "mimetype": "text/x-python",
   "name": "python",
   "nbconvert_exporter": "python",
   "pygments_lexer": "ipython3",
   "version": "3.7.3"
  }
 },
 "nbformat": 4,
 "nbformat_minor": 2
}
